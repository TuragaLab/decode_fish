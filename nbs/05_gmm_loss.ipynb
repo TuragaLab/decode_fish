{
 "cells": [
  {
   "cell_type": "code",
   "execution_count": null,
   "metadata": {},
   "outputs": [],
   "source": [
    "# default_exp engine.gmm_loss"
   ]
  },
  {
   "cell_type": "code",
   "execution_count": null,
   "metadata": {},
   "outputs": [],
   "source": [
    "%load_ext autoreload\n",
    "%autoreload 2\n",
    "%aimport -decode_fish.engine.place_psfs"
   ]
  },
  {
   "cell_type": "markdown",
   "metadata": {},
   "source": [
    "# Loss function"
   ]
  },
  {
   "cell_type": "code",
   "execution_count": null,
   "metadata": {},
   "outputs": [],
   "source": [
    "#export\n",
    "from decode_fish.imports import *\n",
    "import torch\n",
    "from torch import distributions as D, Tensor\n",
    "from torch.distributions import Distribution\n",
    "from torch.distributions.utils import _sum_rightmost\n",
    "from einops import rearrange\n",
    "# import torch.tensor as T\n",
    "import torch.nn.functional as F"
   ]
  },
  {
   "cell_type": "code",
   "execution_count": null,
   "metadata": {},
   "outputs": [],
   "source": [
    "os.environ[\"CUDA_VISIBLE_DEVICES\"] = '1'\n",
    "os.environ[\"CUDA_LAUNCH_BLOCKING\"] = '1'"
   ]
  },
  {
   "cell_type": "code",
   "execution_count": null,
   "metadata": {},
   "outputs": [],
   "source": [
    "#export\n",
    "class PointProcessGaussian(Distribution):\n",
    "    def __init__(self, logits, xyzi_mu, xyzi_sigma, **kwargs):\n",
    "        \"\"\" Defines our loss function. Given logits, xyzi_mu and xyzi_sigma \n",
    "        \n",
    "        The count loss first constructs a Gaussian approximation to the predicted number of emitters by summing the mean and the variance of the Bernoulli detection probability map,\n",
    "        and then maximizes the probability of the true number of emitters under this distribution. \n",
    "        The localization loss models the distribution of sub-pixel localizations with a coordinate-wise independent Gaussian probability distribution  with a 3D standard deviation. \n",
    "        For imprecise localizations, this probability is maximized for large sigmas, for precise localizations for small sigmas. \n",
    "        The distribution of all localizations over the entire image is approximated as a weighted average of individual localization distributions, where the weights correspond to the probability of detection.\n",
    "        \n",
    "        Args (Network outputs):\n",
    "            logits: shape (B,1,D,H,W)\n",
    "            xyzi_mu: shape (B,4,D,H,W)\n",
    "            xyzi_sigma: shape (B,4,D,H,W)\n",
    "        \"\"\"\n",
    "        self.logits = logits.cuda()\n",
    "        self.xyzi_mu = xyzi_mu.cuda()\n",
    "        self.xyzi_sigma = xyzi_sigma.cuda()\n",
    "        \n",
    "    def log_prob(self, locations, x_offset, y_offset, z_offset, intensities, codes, n_channels, loss_option=0, int_inf='per_channel'):\n",
    "        \n",
    "        gauss_dim = 3\n",
    "        if int_inf == 'sum': gauss_dim += 1\n",
    "        if int_inf == 'per_channel': gauss_dim += n_channels\n",
    "        \n",
    "        batch_size = self.logits.shape[0]\n",
    "        n_codes = self.logits.shape[1]\n",
    "\n",
    "        xyzi, gt_codes, s_mask = get_true_labels_mf(batch_size, locations, x_offset, y_offset, z_offset, intensities, codes.cuda(), int_inf)\n",
    "\n",
    "        P = torch.sigmoid(self.logits) \n",
    "\n",
    "        if loss_option == 0:\n",
    "            # Calculate count loss individually for each code\n",
    "            # Performs worse on sim. data. check again\n",
    "            count_mean = P.sum(dim=[2, 3, 4]).squeeze(-1)\n",
    "            count_var = (P - P ** 2).sum(dim=[2, 3, 4]).squeeze(-1) \n",
    "            count_dist = D.Normal(count_mean, torch.sqrt(count_var))\n",
    "\n",
    "            counts = torch.zeros(count_mean.shape).cuda()\n",
    "            unique_col = [gtc.unique(return_counts=True) for gtc in gt_codes]\n",
    "            for i, ind_c in enumerate(unique_col):\n",
    "                inds, c = ind_c\n",
    "                counts[i, inds[inds>=0]] = c[inds>=0].type(torch.cuda.FloatTensor)\n",
    "\n",
    "            count_prob =  count_dist.log_prob(counts)\n",
    "            \n",
    "            count_prob = count_prob.sum(-1) \n",
    "            \n",
    "        if loss_option == 1:\n",
    "            # Calculate count loss by summing over all code channels\n",
    "            count_mean = P.sum(dim=[1, 2, 3, 4]).squeeze(-1)\n",
    "            count_var = (P - P ** 2).sum(dim=[1, 2, 3, 4]).squeeze(-1) \n",
    "            count_dist = D.Normal(count_mean, torch.sqrt(count_var))\n",
    "\n",
    "            counts = s_mask.sum(-1)\n",
    "            count_prob =  count_dist.log_prob(counts) \n",
    "\n",
    "        pix_inds = torch.nonzero(P[:,:1],as_tuple=True)\n",
    "\n",
    "        xyzi_mu = self.xyzi_mu[pix_inds[0],:,pix_inds[2],pix_inds[3],pix_inds[4]]\n",
    "        xyzi_mu[:,:3] += torch.stack([pix_inds[4],pix_inds[3],pix_inds[2]], 1)\n",
    "        xyzi_mu = xyzi_mu.reshape(batch_size,-1,gauss_dim)\n",
    "        xyzi_sig = self.xyzi_sigma[pix_inds[0],:,pix_inds[2],pix_inds[3],pix_inds[4]].reshape(batch_size,-1,gauss_dim)\n",
    "\n",
    "        mix_logits = self.logits[torch.nonzero(P,as_tuple=True)].reshape(batch_size, n_codes, -1)\n",
    "\n",
    "        xyzi_inp = xyzi.transpose(0, 1)[:,:,None,:]          # reshape for log_prob()\n",
    "\n",
    "#         dist_normal_xyzi = D.Independent(D.Normal(xyzi_mu, xyzi_sig + 0.00001), 1)\n",
    "        \n",
    "#         log_norm_prob_xyzi = dist_normal_xyzi.base_dist.log_prob(xyzi_inp) # N_gt * batch_size * n_pixel * (3 + n_int_ch)\n",
    "#         if int_inf == 'per_channel':\n",
    "#             log_norm_prob_xyzi[...,3:] *= xyzi_inp[...,3:].ne(0)\n",
    "#         log_norm_prob_xyzi = _sum_rightmost(log_norm_prob_xyzi, 1)         # N_gt * batch_size * n_pixel\n",
    "        \n",
    "        # Iterative loss calc. 15% slower but 3 times less memory!\n",
    "    \n",
    "        log_norm_prob_xyzi = 0\n",
    "        for i in range(gauss_dim):\n",
    "            dist_normal_xyzi = D.Independent(D.Normal(xyzi_mu[...,i], xyzi_sig[...,i] + 0.00001), 1)\n",
    "#             log_norm_prob_xyzi += dist_normal_xyzi.base_dist.log_prob(xyzi_inp[...,i]) * xyzi_inp[...,i].ne(0)\n",
    "\n",
    "            log_norm_prob_xyzi += dist_normal_xyzi.base_dist.log_prob(xyzi_inp[...,i]) * (xyzi_inp[...,i].ne(0)) #  + count_mult * xyzi_inp[...,i].eq(0) \n",
    "\n",
    "        log_cat_prob = torch.log_softmax(mix_logits.view(batch_size, -1), -1).view(mix_logits.shape)\n",
    "\n",
    "        gt_codes[gt_codes<0] = 0\n",
    "        total_prob = torch.logsumexp(log_norm_prob_xyzi + torch.gather(log_cat_prob, 1, gt_codes[...,None].expand(-1,-1,log_cat_prob.shape[-1])).transpose(0,1),-1).transpose(0, 1)\n",
    "\n",
    "        total_prob = (total_prob * s_mask).sum(-1)  # s_mask: batch_size * N_gt. Binary mask to remove entries in all samples that have less then N_gt GT emitters.\n",
    "\n",
    "        return count_prob, total_prob\n",
    "\n",
    "def get_sample_mask(bs, locations):\n",
    "    \n",
    "    counts_ = torch.unique(locations[0], return_counts=True)[1]\n",
    "    batch_loc = torch.unique(locations[0])\n",
    "    \n",
    "    counts = torch.cuda.LongTensor(bs).fill_(0)\n",
    "    \n",
    "    counts[batch_loc] = counts_\n",
    "    \n",
    "    max_counts = counts.max()\n",
    "    if max_counts==0: max_counts = 1 #if all 0 will return empty matrix of correct size\n",
    "    s_arr = cum_count_per_group(locations[0])\n",
    "    s_mask   = torch.cuda.FloatTensor(bs,max_counts).fill_(0)\n",
    "    s_mask[locations[0],s_arr] = 1   \n",
    "    \n",
    "    return s_mask, s_arr\n",
    "\n",
    "def get_true_labels_mf(bs, locations, x_os, y_os, z_os, int_ch, codes, int_inf='per_channel'):\n",
    "    \n",
    "    n_gt = len(x_os)\n",
    "    \n",
    "    s_mask, s_arr = get_sample_mask(bs, locations)\n",
    "    max_counts = s_mask.shape[1]\n",
    "\n",
    "    x =  x_os + locations[-1].type(torch.cuda.FloatTensor)\n",
    "    y =  y_os + locations[-2].type(torch.cuda.FloatTensor)\n",
    "    z =  z_os + locations[-3].type(torch.cuda.FloatTensor)\n",
    "    \n",
    "    if int_inf == 'sum': \n",
    "        intensity = int_ch.sum(-1)[:,None]\n",
    "    if int_inf == 'per_bit': \n",
    "        intensity = int_ch[int_ch.nonzero(as_tuple=True)].reshape([int_ch.shape[0],-1])\n",
    "    if int_inf == 'per_channel':\n",
    "        intensity = int_ch\n",
    "    \n",
    "    gt_vars = torch.cat([x[:,None], y[:,None], z[:,None], intensity], dim=1)\n",
    "    gt_list = torch.cuda.FloatTensor(bs,max_counts,gt_vars.shape[1]).fill_(0)\n",
    "    gt_list[locations[0],s_arr] = gt_vars\n",
    "    \n",
    "    gt_codes = torch.cuda.LongTensor(bs,max_counts).fill_(0) - 1\n",
    "    gt_codes[locations[0],s_arr] = codes\n",
    "    \n",
    "    return gt_list, gt_codes, s_mask  \n",
    "\n",
    "def grp_range(counts: torch.Tensor):\n",
    "    assert counts.dim() == 1\n",
    "\n",
    "    idx = counts.cumsum(0)\n",
    "    id_arr = torch.ones(idx[-1], dtype=int, device=counts.device)\n",
    "    id_arr[0] = 0\n",
    "    id_arr[idx[:-1]] = -counts[:-1] + 1\n",
    "    return id_arr.cumsum(0)\n",
    "\n",
    "def cum_count_per_group(arr):\n",
    "    \"\"\"\n",
    "    Helper function that returns the cumulative sum per group.\n",
    "    Example:\n",
    "        [0, 0, 0, 1, 2, 2, 0] --> [0, 1, 2, 0, 0, 1, 3]\n",
    "    \"\"\"\n",
    "\n",
    "    if arr.numel() == 0:\n",
    "        return arr\n",
    "\n",
    "    _, cnt = torch.unique(arr, return_counts=True)\n",
    "    return grp_range(cnt)[np.argsort(np.argsort(arr.cpu().numpy(), kind='mergesort'), kind='mergesort')]"
   ]
  },
  {
   "cell_type": "code",
   "execution_count": null,
   "metadata": {},
   "outputs": [],
   "source": [
    "model_out = torch.load('../data/model_batch_output_class5.pt')\n",
    "sim_vars = torch.load('../data/sim_var_code_class5.pt')"
   ]
  },
  {
   "cell_type": "code",
   "execution_count": null,
   "metadata": {},
   "outputs": [],
   "source": [
    "ppg = PointProcessGaussian(**model_out)\n",
    "# ppg.log_prob(*sim_vars[:5], n_bits=4, channels=16, min_int_sig=1.0, int_fac=0)"
   ]
  },
  {
   "cell_type": "code",
   "execution_count": null,
   "metadata": {},
   "outputs": [],
   "source": [
    "locations, x_offset, y_offset, z_offset, intensities, output_shape, codes = sim_vars\n",
    "batch_size = output_shape[0]\n",
    "xyzi, gt_codes, s_mask = get_true_labels_mf(batch_size, locations, x_offset, y_offset, z_offset, intensities, codes.cuda(), int_inf='per_channel')"
   ]
  },
  {
   "cell_type": "code",
   "execution_count": null,
   "metadata": {},
   "outputs": [
    {
     "data": {
      "text/plain": [
       "(tensor([-5324.7109, -5290.7793], device='cuda:0', grad_fn=<SumBackward1>),\n",
       " tensor([-131861.0938, -134540.7031], device='cuda:0', grad_fn=<SumBackward1>))"
      ]
     },
     "execution_count": null,
     "metadata": {},
     "output_type": "execute_result"
    }
   ],
   "source": [
    "# This will fail if the model outputs and simulated variables don't have the same batch_size\n",
    "ppg.log_prob(*sim_vars[:5], sim_vars[-1], n_channels=22, loss_option=0, int_inf='per_channel')"
   ]
  },
  {
   "cell_type": "code",
   "execution_count": null,
   "metadata": {},
   "outputs": [
    {
     "name": "stdout",
     "output_type": "stream",
     "text": [
      "Converted 00_models.ipynb.\n",
      "Converted 01_psf.ipynb.\n",
      "Converted 02_microscope.ipynb.\n",
      "Converted 02b_place_psfs.ipynb.\n",
      "Converted 03_noise.ipynb.\n",
      "Converted 04_pointsource.ipynb.\n",
      "Converted 05_gmm_loss.ipynb.\n",
      "Converted 06_plotting.ipynb.\n",
      "Converted 07_file_io.ipynb.\n",
      "Converted 08_dataset.ipynb.\n",
      "Converted 09_output_trafo.ipynb.\n",
      "Converted 10_evaluation.ipynb.\n",
      "Converted 11_emitter_io.ipynb.\n",
      "Converted 12_utils.ipynb.\n",
      "Converted 13_train.ipynb.\n",
      "Converted 15_fit_psf.ipynb.\n",
      "Converted 16_visualization.ipynb.\n",
      "Converted 17_eval_routines.ipynb.\n",
      "Converted 18_predict_funcs.ipynb.\n",
      "Converted 19_MERFISH_routines.ipynb.\n",
      "Converted 22_MERFISH_codenet.ipynb.\n",
      "Converted 23_MERFISH_comparison.ipynb.\n",
      "Converted 24_exp_specific.ipynb.\n",
      "Converted 25_ensembling.ipynb.\n",
      "Converted 26_gen_train.ipynb.\n",
      "Converted 27_testtime_rescale.ipynb.\n",
      "Converted index.ipynb.\n"
     ]
    }
   ],
   "source": [
    "!nbdev_build_lib"
   ]
  },
  {
   "cell_type": "code",
   "execution_count": null,
   "metadata": {},
   "outputs": [],
   "source": []
  }
 ],
 "metadata": {
  "kernelspec": {
   "display_name": "Python [conda env:decode_fish_dev2]",
   "language": "python",
   "name": "conda-env-decode_fish_dev2-py"
  }
 },
 "nbformat": 4,
 "nbformat_minor": 4
}
