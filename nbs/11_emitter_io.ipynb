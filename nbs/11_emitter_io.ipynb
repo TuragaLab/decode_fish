{
 "cells": [
  {
   "cell_type": "code",
   "execution_count": null,
   "metadata": {},
   "outputs": [],
   "source": [
    "# default_exp funcs.emitter_io"
   ]
  },
  {
   "cell_type": "code",
   "execution_count": null,
   "metadata": {},
   "outputs": [],
   "source": [
    "%load_ext autoreload\n",
    "%autoreload 2"
   ]
  },
  {
   "cell_type": "markdown",
   "metadata": {},
   "source": [
    "# Functions for working with emitter DFs"
   ]
  },
  {
   "cell_type": "code",
   "execution_count": null,
   "metadata": {},
   "outputs": [],
   "source": [
    "#export\n",
    "from decode_fish.imports import *"
   ]
  },
  {
   "cell_type": "code",
   "execution_count": null,
   "metadata": {},
   "outputs": [],
   "source": [
    "#export\n",
    "def shift_df(df, shift=[0.,0.,0.]):\n",
    "    \n",
    "    df_corr = df.copy()\n",
    "    df_corr['x'] += shift[0]\n",
    "    df_corr['y'] += shift[1]\n",
    "    df_corr['z'] += shift[2]\n",
    "    return df_corr\n",
    "\n",
    "def percentile_filter(df, perc, key='comb_sig', return_low=True):\n",
    "    if perc >= 100:\n",
    "        return df\n",
    "    filt_val = np.percentile(df[key], perc)\n",
    "    if return_low:\n",
    "        return df[df[key] < filt_val]\n",
    "    else:\n",
    "        return df[df[key] > filt_val]\n",
    "\n",
    "\n",
    "def sig_filt(df, perc = 90, return_low=True):\n",
    "    if perc >= 100:\n",
    "        return df\n",
    "    filt_val = np.percentile(df['comb_sig'], perc)\n",
    "    if return_low:\n",
    "        return df[df['comb_sig'] < filt_val]\n",
    "    else:\n",
    "        return df[df['comb_sig'] > filt_val]\n",
    "\n",
    "#export\n",
    "def nm_to_px(df, px_size_zyx=[100.,100.,100.]):\n",
    "    \n",
    "    if df is None: return None\n",
    "    df_corr = df.copy()\n",
    "    df_corr['x'] /= px_size_zyx[2]\n",
    "    df_corr['y'] /= px_size_zyx[1]\n",
    "    df_corr['z'] /= px_size_zyx[0]\n",
    "    return df_corr\n",
    "\n",
    "#export\n",
    "def px_to_nm(df, px_size_zyx=[100.,100.,100.]):\n",
    "    \n",
    "    df_corr = df.copy()\n",
    "    df_corr['x'] *= px_size_zyx[2]\n",
    "    df_corr['y'] *= px_size_zyx[1]\n",
    "    df_corr['z'] *= px_size_zyx[0]\n",
    "    return df_corr\n",
    "\n",
    "#export\n",
    "def cat_emitter_dfs(df_list, n_frames=1):\n",
    "    \n",
    "    if isinstance(n_frames, int):\n",
    "        n_frames = [n_frames for _ in df_list]\n",
    "    cum_frames = np.cumsum(n_frames)\n",
    "    ret_df = df_list[0]\n",
    "    for df, n_f in zip(df_list[1:], cum_frames[:-1]):\n",
    "        dfc = df.copy()\n",
    "        if len(ret_df):\n",
    "            dfc['frame_idx'] += n_f\n",
    "            dfc['loc_idx'] += ret_df['loc_idx'].values[-1] + 1\n",
    "        ret_df = pd.concat([ret_df, dfc], ignore_index=True)\n",
    "    return ret_df\n",
    "\n",
    "def append_emitter_df(df1, df2):\n",
    "    \n",
    "    if not len(df1):\n",
    "        return df2\n",
    "    \n",
    "    dfc = df2.copy()\n",
    "    dfc['frame_idx'] += df1['frame_idx'].max() + 1\n",
    "    dfc['loc_idx'] += df1['loc_idx'].max() + 1    \n",
    "    \n",
    "    return pd.concat([df1, dfc], ignore_index=True)\n",
    "\n",
    "#export\n",
    "def crop_df(df, fzyx_sl=np.s_[:,:,:,:], shift=True, px_size_zyx=[1.,1.,1.], keys=['frame_idx','z','y','x']):\n",
    "    \n",
    "    px_size_zyx = list(px_size_zyx)\n",
    "    df_crop = df.copy()\n",
    "    for sl, key, px_s in zip(fzyx_sl, keys, [1] + px_size_zyx):\n",
    "        if sl.start:\n",
    "            df_crop = df_crop[df_crop[key] >= px_s*sl.start]\n",
    "        if sl.stop:\n",
    "            df_crop = df_crop[df_crop[key] < px_s*sl.stop]\n",
    "        if (shift) & (sl.start is not None):\n",
    "            df_crop[key] -= px_s*sl.start\n",
    "        \n",
    "    return df_crop\n",
    "\n",
    "def exclude_borders(df, img_size, px_size_zyx=[1.,1.,1.], border_size_zyx=[1000,400,400]):\n",
    "    \n",
    "    zm, ym, xm = img_size[-3:]\n",
    "    \n",
    "    sl = np.s_[:,border_size_zyx[0]:zm*px_size_zyx[0]-border_size_zyx[0],\n",
    "                 border_size_zyx[1]:ym*px_size_zyx[1]-border_size_zyx[1],\n",
    "                 border_size_zyx[2]:xm*px_size_zyx[2]-border_size_zyx[2]\n",
    "              ]\n",
    "    \n",
    "    return crop_df(df, sl, px_size_zyx=[1.,1.,1.], shift=False)\n",
    "\n",
    "def get_n_locs(df):\n",
    "    counts = []\n",
    "    vcounts = pred_df['frame_idx'].value_counts()\n",
    "    for i in range(pred_df['frame_idx'].max()+1):\n",
    "        if i in vcounts.index:\n",
    "            counts.append(vcounts[i])\n",
    "    return counts"
   ]
  },
  {
   "cell_type": "code",
   "execution_count": null,
   "metadata": {},
   "outputs": [
    {
     "name": "stdout",
     "output_type": "stream",
     "text": [
      "Converted 00_models.ipynb.\n",
      "Converted 01_psf.ipynb.\n",
      "Converted 02_microscope.ipynb.\n",
      "Converted 03_noise.ipynb.\n",
      "Converted 04_pointsource.ipynb.\n",
      "Converted 05_gmm_loss.ipynb.\n",
      "Converted 06_plotting.ipynb.\n",
      "Converted 07_file_io.ipynb.\n",
      "Converted 08_dataset.ipynb.\n",
      "Converted 09_output_trafo.ipynb.\n",
      "Converted 10_evaluation.ipynb.\n",
      "Converted 11_emitter_io.ipynb.\n",
      "Converted 12_utils.ipynb.\n",
      "Converted 13_train.ipynb.\n",
      "Converted 15_fit_psf.ipynb.\n",
      "Converted 16_visualization.ipynb.\n",
      "Converted 17_eval_routines.ipynb.\n",
      "Converted 18_predict_funcs.ipynb.\n",
      "Converted 19_MERFISH_routines.ipynb.\n",
      "Converted 20_MERFISH_visualization.ipynb.\n",
      "Converted 22_MERFISH_codenet.ipynb.\n",
      "Converted 23_MERFISH_comparison.ipynb.\n",
      "Converted index.ipynb.\n"
     ]
    }
   ],
   "source": [
    "!nbdev_build_lib"
   ]
  },
  {
   "cell_type": "code",
   "execution_count": null,
   "metadata": {},
   "outputs": [],
   "source": []
  }
 ],
 "metadata": {
  "kernelspec": {
   "display_name": "Python [conda env:decode2_dev]",
   "language": "python",
   "name": "conda-env-decode2_dev-py"
  }
 },
 "nbformat": 4,
 "nbformat_minor": 4
}
