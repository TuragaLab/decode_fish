{
 "cells": [
  {
   "cell_type": "code",
   "execution_count": 2,
   "metadata": {
    "ExecuteTime": {
     "end_time": "2022-05-13T08:40:58.108333Z",
     "start_time": "2022-05-13T08:40:53.558096Z"
    }
   },
   "outputs": [],
   "source": [
    "from pathlib import Path\n",
    "from decode_fish.funcs.utils import *\n",
    "import glob\n",
    "\n",
    "def make_sweep_str(pfile, pars, group, resume=False, init=None, gpu='gpu_rtx', runfile='train.py', n=1):\n",
    "    \n",
    "    base_string = f'bsub -gpu \"num=1\" -n {n} -q {gpu} -o logs/ofish.log -e logs/efish.log /groups/turaga/home/speisera/anaconda3/envs/decode_fish_dev2/bin/python /groups/turaga/home/speisera/Mackebox/Artur/WorkDB/deepstorm/decode_fish/decode_fish/{runfile}'   \n",
    "    \n",
    "    base_str = base_string + f' +experiment={pfile}'\n",
    "    name = ''\n",
    "    \n",
    "    for k in pars:\n",
    "        if k!= 'run_name':\n",
    "            base_str += ' ' + k + f'={pars[k]}'\n",
    "            name += k.split('.')[-1]+f':{pars[k]}x'\n",
    "            name = name.replace('[', '')\n",
    "            name = name.replace(']', '')\n",
    "            name = name.replace(',', 'x')\n",
    "    name = name[:-1]\n",
    "    \n",
    "    if 'run_name' in pars:\n",
    "        name=pars['run_name']\n",
    "    \n",
    "    if resume:\n",
    "        base_str += ' training.resume=True '\n",
    "    if init is not None:\n",
    "        base_str += f' data_path.model_init={init} '\n",
    "    \n",
    "    return base_str + f' run_name={name} output.group={group}' + '\\n'\n",
    "    \n",
    "\n",
    "def make_named_str(pfile, name, group):\n",
    "    \n",
    "    base_str = base_string + f' +experiment={pfile}'\n",
    "    \n",
    "    return base_str + f' run_name={name} output.group={group}' + '\\n'"
   ]
  },
  {
   "cell_type": "code",
   "execution_count": 179,
   "metadata": {},
   "outputs": [],
   "source": [
    "# cfg.training.mic.par_grads.channel_facs = False\n",
    "# cfg.training.mic.par_grads.channel_shifts = False\n",
    "# cfg.training.mic.par_grads.theta_par = False\n",
    "# cfg.training.mic.par_grads.psf_vol = False"
   ]
  },
  {
   "cell_type": "code",
   "execution_count": 186,
   "metadata": {
    "ExecuteTime": {
     "end_time": "2022-05-04T15:05:20.727005Z",
     "start_time": "2022-05-04T15:05:20.720955Z"
    }
   },
   "outputs": [],
   "source": [
    "group = 'sweep_mop_20'\n",
    "pfile = 'MERFISH_mop_20'\n",
    "\n",
    "variable_col = param_iter()\n",
    "variable_col.add('data_path.image_path', '/groups/turaga/home/speisera/Mackebox/Artur/WorkDB/deepstorm//datasets/CodFish/MERFISH/MOp/mouse1_sample1_raw/aligned_images150.tif', '/groups/turaga/home/speisera/Mackebox/Artur/WorkDB/deepstorm//datasets/CodFish/MERFISH/MOp/mouse1_sample1_raw/aligned_images151.tif', '/groups/turaga/home/speisera/Mackebox/Artur/WorkDB/deepstorm//datasets/CodFish/MERFISH/MOp/mouse1_sample1_raw/aligned_images47.tif')\n",
    "par_prod = variable_col.param_product()"
   ]
  },
  {
   "cell_type": "code",
   "execution_count": 193,
   "metadata": {
    "ExecuteTime": {
     "end_time": "2022-06-07T17:48:25.147270Z",
     "start_time": "2022-06-07T17:48:25.139389Z"
    }
   },
   "outputs": [],
   "source": [
    "group = 'sweep_mop_27'\n",
    "pfile = 'MERFISH_mop_27'\n",
    "\n",
    "variable_col = param_iter()\n",
    "variable_col.add('training.net.opt.lr', 2e-4)\n",
    "variable_col.add('genm.pos_noise.pos_noise_xy', 0.3)\n",
    "variable_col.add('genm.intensity_dist.int_loc', 1., 2., 3.)\n",
    "# variable_col.add('genm.microscope.scale', 500, 600, 700, 800, 1000)\n",
    "# variable_col.add('data_path.image_path', '/groups/turaga/home/speisera/Mackebox/Artur/WorkDB/deepstorm//datasets/CodFish/MERFISH/MOp/mouse1_sample1_raw/aligned_scaled_images47.tif', \n",
    "#                                         '/groups/turaga/home/speisera/Mackebox/Artur/WorkDB/deepstorm//datasets/CodFish/MERFISH/MOp/mouse1_sample1_raw/aligned_scaled_images150.tif',\n",
    "#                                         '/groups/turaga/home/speisera/Mackebox/Artur/WorkDB/deepstorm//datasets/CodFish/MERFISH/MOp/mouse1_sample1_raw/aligned_scaled_images151.tif')\n",
    "par_prod = variable_col.param_product()"
   ]
  },
  {
   "cell_type": "code",
   "execution_count": 68,
   "metadata": {
    "ExecuteTime": {
     "end_time": "2022-05-26T10:56:37.226038Z",
     "start_time": "2022-05-26T10:56:37.220559Z"
    }
   },
   "outputs": [],
   "source": [
    "group = 'sim_int_2'\n",
    "pfile = 'sim_int_2'\n",
    "\n",
    "variable_col = param_iter()\n",
    "variable_col.add('training.mic.par_grads.channel_facs', False)\n",
    "# variable_col.add('training.mic.par_grads.channel_shifts', False)\n",
    "# variable_col.add('training.mic.par_grads.psf_vol', False)\n",
    "par_prod = variable_col.param_product()"
   ]
  },
  {
   "cell_type": "code",
   "execution_count": 194,
   "metadata": {
    "ExecuteTime": {
     "end_time": "2022-06-07T17:48:26.557723Z",
     "start_time": "2022-06-07T17:48:26.546799Z"
    },
    "code_folding": [],
    "scrolled": true
   },
   "outputs": [
    {
     "name": "stdout",
     "output_type": "stream",
     "text": [
      "bsub -gpu \"num=1\" -n 1 -q gpu_rtx -o logs/ofish.log -e logs/efish.log /groups/turaga/home/speisera/anaconda3/envs/decode_fish_dev2/bin/python /groups/turaga/home/speisera/Mackebox/Artur/WorkDB/deepstorm/decode_fish/decode_fish/train.py +experiment=MERFISH_mop_27 training.net.opt.lr=0.0002 genm.pos_noise.pos_noise_xy=0.3 genm.intensity_dist.int_loc=1.0 run_name=lr:0.0002xpos_noise_xy:0.3xint_loc:1.0 output.group=sweep_mop_27\n",
      "\n",
      "bsub -gpu \"num=1\" -n 1 -q gpu_rtx -o logs/ofish.log -e logs/efish.log /groups/turaga/home/speisera/anaconda3/envs/decode_fish_dev2/bin/python /groups/turaga/home/speisera/Mackebox/Artur/WorkDB/deepstorm/decode_fish/decode_fish/train.py +experiment=MERFISH_mop_27 training.net.opt.lr=0.0002 genm.pos_noise.pos_noise_xy=0.3 genm.intensity_dist.int_loc=2.0 run_name=lr:0.0002xpos_noise_xy:0.3xint_loc:2.0 output.group=sweep_mop_27\n",
      "\n",
      "bsub -gpu \"num=1\" -n 1 -q gpu_rtx -o logs/ofish.log -e logs/efish.log /groups/turaga/home/speisera/anaconda3/envs/decode_fish_dev2/bin/python /groups/turaga/home/speisera/Mackebox/Artur/WorkDB/deepstorm/decode_fish/decode_fish/train.py +experiment=MERFISH_mop_27 training.net.opt.lr=0.0002 genm.pos_noise.pos_noise_xy=0.3 genm.intensity_dist.int_loc=3.0 run_name=lr:0.0002xpos_noise_xy:0.3xint_loc:3.0 output.group=sweep_mop_27\n",
      "\n"
     ]
    }
   ],
   "source": [
    "# Path.mkdir(model_path/group, exist_ok=True)\n",
    "\n",
    "with open('run_slurm.sh', 'w') as f:\n",
    "    for pars in par_prod:  \n",
    "        exec_str = make_sweep_str(pfile, pars, group, resume=False, gpu='gpu_rtx') #, \n",
    "        print(exec_str)\n",
    "        f.write(exec_str)"
   ]
  },
  {
   "cell_type": "code",
   "execution_count": 153,
   "metadata": {
    "ExecuteTime": {
     "end_time": "2022-06-04T15:17:36.049965Z",
     "start_time": "2022-06-04T15:17:36.040871Z"
    }
   },
   "outputs": [
    {
     "ename": "SyntaxError",
     "evalue": "invalid syntax (4178001711.py, line 1)",
     "output_type": "error",
     "traceback": [
      "\u001b[0;36m  Input \u001b[0;32mIn [153]\u001b[0;36m\u001b[0m\n\u001b[0;31m    bsub -gpu \"num=1\" -n 1 -q gpu_rtx -o logs/ofish.log -e logs/efish.log /groups/turaga/home/speisera/anaconda3/envs/decode_fish_dev2/bin/python /groups/turaga/home/speisera/Mackebox/Artur/WorkDB/deepstorm/decode_fish/decode_fish/train.py +experiment=MERFISH_mop_25 data_path.image_path=/groups/turaga/home/speisera/Mackebox/Artur/WorkDB/deepstorm//datasets/CodFish/MERFISH/MOp/mouse1_sample1_raw/aligned_scaled_images47.tif run_name=images47.tif output.group=sweep_mop_25\u001b[0m\n\u001b[0m              ^\u001b[0m\n\u001b[0;31mSyntaxError\u001b[0m\u001b[0;31m:\u001b[0m invalid syntax\n"
     ]
    }
   ],
   "source": [
    "bsub -gpu \"num=1\" -n 1 -q gpu_rtx -o logs/ofish.log -e logs/efish.log /groups/turaga/home/speisera/anaconda3/envs/decode_fish_dev2/bin/python /groups/turaga/home/speisera/Mackebox/Artur/WorkDB/deepstorm/decode_fish/decode_fish/train.py +experiment=MERFISH_mop_25 data_path.image_path=/groups/turaga/home/speisera/Mackebox/Artur/WorkDB/deepstorm//datasets/CodFish/MERFISH/MOp/mouse1_sample1_raw/aligned_scaled_images47.tif run_name=images47.tif output.group=sweep_mop_25\n",
    "\n",
    "bsub -gpu \"num=1\" -n 1 -q gpu_rtx -o logs/ofish.log -e logs/efish.log /groups/turaga/home/speisera/anaconda3/envs/decode_fish_dev2/bin/python /groups/turaga/home/speisera/Mackebox/Artur/WorkDB/deepstorm/decode_fish/decode_fish/train.py +experiment=MERFISH_mop_25 data_path.image_path=/groups/turaga/home/speisera/Mackebox/Artur/WorkDB/deepstorm//datasets/CodFish/MERFISH/MOp/mouse1_sample1_raw/aligned_scaled_images150.tif run_name=images150.tif output.group=sweep_mop_25\n",
    "\n",
    "bsub -gpu \"num=1\" -n 1 -q gpu_rtx -o logs/ofish.log -e logs/efish.log /groups/turaga/home/speisera/anaconda3/envs/decode_fish_dev2/bin/python /groups/turaga/home/speisera/Mackebox/Artur/WorkDB/deepstorm/decode_fish/decode_fish/train.py +experiment=MERFISH_mop_25 data_path.image_path=/groups/turaga/home/speisera/Mackebox/Artur/WorkDB/deepstorm//datasets/CodFish/MERFISH/MOp/mouse1_sample1_raw/aligned_scaled_images151.tif run_name=images151.tif output.group=sweep_mop_25"
   ]
  },
  {
   "cell_type": "code",
   "execution_count": 170,
   "metadata": {
    "ExecuteTime": {
     "end_time": "2022-06-05T17:38:06.992222Z",
     "start_time": "2022-06-05T17:38:06.985186Z"
    }
   },
   "outputs": [],
   "source": [
    "group = 'MERFISH_sweep_gen_5'\n",
    "pfile = 'MERFISH_sweep_gen_5'\n",
    "\n",
    "variable_col = param_iter()\n",
    "# variable_col.add('training.schedule', 'null')\n",
    "# variable_col.add('training.num_iters', 9950)\n",
    "\n",
    "# variable_col.add('genm.microscope.norm', 'none', 'escort')\n",
    "# variable_col.add('training.mic.par_grads.z_facs', True)\n",
    "# variable_col.add('training.mic.mean_diff', True)\n",
    "variable_col.add('sim.bg_estimation.shuffle_ch', True)\n",
    "variable_col.add('genm.PSF.psf_extent_zyx',  9)\n",
    "\n",
    "par_prod = variable_col.param_zip()"
   ]
  },
  {
   "cell_type": "code",
   "execution_count": 171,
   "metadata": {
    "ExecuteTime": {
     "end_time": "2022-06-05T17:38:07.114922Z",
     "start_time": "2022-06-05T17:38:07.103711Z"
    }
   },
   "outputs": [
    {
     "name": "stdout",
     "output_type": "stream",
     "text": [
      "bsub -gpu \"num=1\" -n 1 -q gpu_rtx -o logs/ofish.log -e logs/efish.log /groups/turaga/home/speisera/anaconda3/envs/decode_fish_dev2/bin/python /groups/turaga/home/speisera/Mackebox/Artur/WorkDB/deepstorm/decode_fish/decode_fish/train.py +experiment=MERFISH_sweep_gen_5 sim.bg_estimation.shuffle_ch=True genm.PSF.psf_extent_zyx=9 run_name=shuffle_ch:Truexpsf_extent_zyx:9 output.group=MERFISH_sweep_gen_5\n",
      "\n"
     ]
    }
   ],
   "source": [
    "# Path.mkdir(model_path/group, exist_ok=True)\n",
    "\n",
    "with open('run_slurm.sh', 'w') as f:\n",
    "    for pars in par_prod:  \n",
    "        exec_str = make_sweep_str(pfile, pars, group, resume=False, gpu='gpu_rtx') #, \n",
    "        print(exec_str)\n",
    "        f.write(exec_str)"
   ]
  },
  {
   "cell_type": "code",
   "execution_count": 121,
   "metadata": {
    "ExecuteTime": {
     "end_time": "2022-05-02T16:15:28.514348Z",
     "start_time": "2022-05-02T16:15:28.505612Z"
    }
   },
   "outputs": [],
   "source": [
    "group = 'gensweep_mop_1'\n",
    "pfile = 'gensweep_mop_1'\n",
    "\n",
    "variable_col = param_iter()\n",
    "# variable_col.add('training.mic.par_grads.psf_vol', False)\n",
    "# variable_col.add('training.mic.par_grads.channel_shifts', False)\n",
    "# variable_col.add('training.mic.par_grads.color_shifts', False)\n",
    "variable_col.add('genm.microscope.norm', 'none')\n",
    "variable_col.add('training.mic.par_grads.z_facs', True)\n",
    "variable_col.add('training.mic.mean_diff', True)\n",
    "variable_col.add('training.mic.opt.lr', 0.0005, 0.001)\n",
    "variable_col.add('genm.microscope.scale', 400)\n",
    "\n",
    "par_prod = variable_col.param_product()"
   ]
  },
  {
   "cell_type": "code",
   "execution_count": 348,
   "metadata": {
    "ExecuteTime": {
     "end_time": "2022-05-12T10:07:24.927557Z",
     "start_time": "2022-05-12T10:07:24.915954Z"
    }
   },
   "outputs": [
    {
     "ename": "SyntaxError",
     "evalue": "invalid syntax (3207431614.py, line 1)",
     "output_type": "error",
     "traceback": [
      "\u001b[0;36m  Input \u001b[0;32mIn [348]\u001b[0;36m\u001b[0m\n\u001b[0;31m    bsub -gpu \"num=1\" -n 1 -q gpu_rtx -o logs/ofish.log -e logs/efish.log /groups/turaga/home/speisera/anaconda3/envs/decode_fish_dev2/bin/python /groups/turaga/home/speisera/Mackebox/Artur/WorkDB/deepstorm/decode_fish/decode_fish/train.py +experiment=MERFISH_sweep_gen_3 data_path.psf_path=/groups/turaga/home/speisera/Mackebox/Artur/WorkDB/deepstorm/decode_fish/figures/MFsf_psf1.tif genm.microscope.norm=none run_name=nPSFxnorm:none output.group=MERFISH_sweep_gen_3\u001b[0m\n\u001b[0m              ^\u001b[0m\n\u001b[0;31mSyntaxError\u001b[0m\u001b[0;31m:\u001b[0m invalid syntax\n"
     ]
    }
   ],
   "source": [
    "bsub -gpu \"num=1\" -n 1 -q gpu_rtx -o logs/ofish.log -e logs/efish.log /groups/turaga/home/speisera/anaconda3/envs/decode_fish_dev2/bin/python /groups/turaga/home/speisera/Mackebox/Artur/WorkDB/deepstorm/decode_fish/decode_fish/train.py +experiment=MERFISH_sweep_gen_3 data_path.psf_path=/groups/turaga/home/speisera/Mackebox/Artur/WorkDB/deepstorm/decode_fish/figures/MFsf_psf1.tif genm.microscope.norm=none run_name=nPSFxnorm:none output.group=MERFISH_sweep_gen_3\n",
    "        \n",
    "bsub -gpu \"num=1\" -n 1 -q gpu_rtx -o logs/ofish.log -e logs/efish.log /groups/turaga/home/speisera/anaconda3/envs/decode_fish_dev2/bin/python /groups/turaga/home/speisera/Mackebox/Artur/WorkDB/deepstorm/decode_fish/decode_fish/train.py +experiment=MERFISH_sweep_gen_3 data_path.psf_path=/groups/turaga/home/speisera/Mackebox/Artur/WorkDB/deepstorm/decode_fish/figures/MFsf_psf1.tif genm.microscope.norm=escort run_name=nPSFxnorm:escort output.group=MERFISH_sweep_gen_3"
   ]
  },
  {
   "cell_type": "code",
   "execution_count": null,
   "metadata": {},
   "outputs": [],
   "source": []
  }
 ],
 "metadata": {
  "kernelspec": {
   "display_name": "decode_fish_dev2",
   "language": "python",
   "name": "decode_fish_dev2"
  },
  "language_info": {
   "codemirror_mode": {
    "name": "ipython",
    "version": 3
   },
   "file_extension": ".py",
   "mimetype": "text/x-python",
   "name": "python",
   "nbconvert_exporter": "python",
   "pygments_lexer": "ipython3",
   "version": "3.8.13"
  }
 },
 "nbformat": 4,
 "nbformat_minor": 4
}
