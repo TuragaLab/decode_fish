{
 "cells": [
  {
   "cell_type": "code",
   "execution_count": null,
   "id": "designing-tournament",
   "metadata": {},
   "outputs": [
    {
     "name": "stdout",
     "output_type": "stream",
     "text": [
      "The autoreload extension is already loaded. To reload it, use:\n",
      "  %reload_ext autoreload\n"
     ]
    }
   ],
   "source": [
    "%load_ext autoreload\n",
    "%autoreload 2"
   ]
  },
  {
   "cell_type": "code",
   "execution_count": null,
   "id": "radio-criminal",
   "metadata": {},
   "outputs": [],
   "source": [
    "from decode_fish.imports import *\n",
    "from decode_fish.funcs.file_io import *\n",
    "from decode_fish.funcs.emitter_io import *\n",
    "from decode_fish.funcs.utils import *\n",
    "from decode_fish.funcs.dataset import *\n",
    "from decode_fish.funcs.plotting import *\n",
    "from decode_fish.engine.noise import estimate_noise_scale\n",
    "import shutil\n",
    "from decode_fish.funcs.visualization import *\n",
    "from decode_fish.funcs.predict import predict\n",
    "import torch.nn as nn\n",
    "import torch.nn.functional as F\n",
    "import torch.tensor as T\n",
    "\n",
    "from omegaconf import open_dict\n",
    "from hydra import compose, initialize\n",
    "from decode_fish.funcs.merfish_eval import *"
   ]
  },
  {
   "cell_type": "code",
   "execution_count": null,
   "id": "naughty-england",
   "metadata": {},
   "outputs": [],
   "source": [
    "# cfg = OmegaConf.load(f'/groups/turaga/home/speisera/Mackebox/Artur/WorkDB/deepstorm/models/fishcod/MERFISH_starfish/sweep_ci_13/start_mic:5000xpsf_noise:0.4/train.yaml')\n",
    "cfg = OmegaConf.load(f'/groups/turaga/home/speisera/Mackebox/Artur/WorkDB/deepstorm/models/fishcod/MERFISH_starfish/sweep_ci_14/enabled:Truexsample_from_codebook:Truexpsf_noise:0.4/train.yaml')\n",
    "# cfg = OmegaConf.load(f'/groups/turaga/home/speisera/Mackebox/Artur/WorkDB/deepstorm/models/fishcod/MERFISH_starfish/sweep_ci_15/n_cols:2xconst_theta_sim:Truexpsf_noise:0.4xphasing:True//train.yaml')\n",
    "csv_name = 'exp_ci14_t04'\n",
    "# cfg.foci.n_foci_avg = 0"
   ]
  },
  {
   "cell_type": "code",
   "execution_count": null,
   "id": "indian-victory",
   "metadata": {},
   "outputs": [],
   "source": [
    "# cfg.exp_type.pred_z=False\n",
    "# cfg.PSF.psf_extent_zyx=[1,21,21]\n",
    "# cfg.run_name = 'test'"
   ]
  },
  {
   "cell_type": "code",
   "execution_count": null,
   "id": "voluntary-routine",
   "metadata": {},
   "outputs": [
    {
     "name": "stdout",
     "output_type": "stream",
     "text": [
      "Crop size larger than volume in at least one dimension. Crop size changed to (1, 80, 80)\n",
      "1 volumes\n"
     ]
    }
   ],
   "source": [
    "cfg.foci.n_foci_avg = 1\n",
    "cfg.PSF.n_cols = 1\n",
    "cfg.random_crop.crop_sz = 80\n",
    "model, post_proc, micro, img_3d, decode_dl = load_all(cfg)"
   ]
  },
  {
   "cell_type": "code",
   "execution_count": null,
   "id": "manufactured-youth",
   "metadata": {},
   "outputs": [
    {
     "name": "stdout",
     "output_type": "stream",
     "text": [
      "13832\n"
     ]
    }
   ],
   "source": [
    "from decode_fish.funcs.merfish_eval import *\n",
    "bench_df, code_ref, targets = get_benchmark()\n",
    "code_inds = np.stack([np.nonzero(c)[0] for c in code_ref])"
   ]
  },
  {
   "cell_type": "code",
   "execution_count": null,
   "id": "assigned-establishment",
   "metadata": {},
   "outputs": [],
   "source": [
    "# def target_from_matches(matches_df):\n",
    "    \n",
    "#     return np.where(matches_df[[f'int_tar_{i}' for i in range(16)]]>0,1,0)\n",
    "\n",
    "# def verr_from_matches(matches_df):\n",
    "    \n",
    "#     gt_code = np.where(matches_df[[f'int_tar_{i}' for i in range(16)]]>0,1,0)\n",
    "#     pred_int = matches_df[[f'int_pred_{i}' for i in range(16)]].values\n",
    "    \n",
    "#     corrs = [np.corrcoef(gt_code[i], pred_int[i])[0,1] for i in range(len(matches_df))]\n",
    "    \n",
    "#     return corrs\n",
    "                    \n",
    "# def input_from_df(df, from_matches=True):\n",
    "                    \n",
    "#     df_str = '_pred' if from_matches else  ''\n",
    "#     input_keys = ['prob'+df_str,'x_sig'+df_str,'y_sig'+df_str] + ['int'+df_str+f'_{i}' for i in range(16)] + ['int_sig'+df_str+f'_{i}' for i in range(16)]\n",
    "#     inp_arr = df[input_keys].values\n",
    "#     return df[input_keys].values"
   ]
  },
  {
   "cell_type": "code",
   "execution_count": null,
   "id": "opposite-fitting",
   "metadata": {},
   "outputs": [],
   "source": [
    "# def input_from_df(df, from_matches=True):\n",
    "                    \n",
    "#     df_str = '_pred' if from_matches else  ''\n",
    "#     df = get_code_from_ints(df, code_ref, targets, int_str=df_str)\n",
    "#     matched_codes = code_ref[df['code_inds'].values]\n",
    "    \n",
    "#     input_keys = ['prob'+df_str,'x_sig'+df_str,'y_sig'+df_str, 'code_err'] + [f'int_{i}{df_str}' for i in range(16)] + [f'int_sig_{i}{df_str}' for i in range(16)]\n",
    "#     inp_arr = df[input_keys].values\n",
    "#     return np.concatenate([df[input_keys].values, matched_codes], 1)\n",
    "\n",
    "def input_from_df(df, from_matches=True):\n",
    "                    \n",
    "    df_str = '_pred' if from_matches else  ''\n",
    "    df = get_code_from_ints(df, code_ref, targets, int_str=df_str)\n",
    "    matched_codes = code_ref[df['code_inds'].values]\n",
    "    \n",
    "    input_keys = ['prob'+df_str,'x_sig'+df_str,'y_sig'+df_str, 'code_err'] + [f'int_sig_{i}{df_str}' for i in range(16)]\n",
    "    inp_arr = df[input_keys].values\n",
    "    return df[input_keys].values\n",
    "\n",
    "def target_from_matches(matches_df):\n",
    "    \n",
    "    matches_df = get_code_from_ints(matches_df, code_ref, targets, int_str='_pred')\n",
    "    matched_codes = code_ref[matches_df['code_inds'].values]\n",
    "    \n",
    "#     int_arr = matches_df[[f'int_{i}_tar' for i in range(16)]]\n",
    "#     tar_code = np.where(int_arr>0,1,0)\n",
    "    \n",
    "    int_arr = matches_df[[f'int_{i}_tar' for i in range(16)]].values\n",
    "    s_arr = np.sort(int_arr)\n",
    "    lim = s_arr[:,-5]\n",
    "    tar_code = np.stack([np.where(i>l,1,0) for i,l in zip(int_arr, lim)])\n",
    "    matches_df[[f'int_{i}_tar' for i in range(16)]] = tar_code\n",
    "    matches_df = get_code_from_ints(matches_df, code_ref, targets, int_str='_tar')\n",
    "    tar_code = code_ref[matches_df['code_inds'].values]\n",
    "\n",
    "    return  1 - abs(np.array(matched_codes, dtype='int') - np.array(tar_code, dtype='int')).max(1)"
   ]
  },
  {
   "cell_type": "code",
   "execution_count": null,
   "id": "certified-exception",
   "metadata": {},
   "outputs": [],
   "source": [
    "class code_net(nn.Module):\n",
    "\n",
    "    def __init__(self, n_inputs=20, n_outputs=1):\n",
    "        super(code_net, self).__init__()\n",
    "        \n",
    "        self.fc1 = nn.Linear(n_inputs, 128)\n",
    "        self.fc2 = nn.Linear(128, 64)\n",
    "        self.fc3 = nn.Linear(64, 32)\n",
    "        self.fc4 = nn.Linear(32, n_outputs)\n",
    "        \n",
    "    def forward(self, x):\n",
    "        x = F.elu(self.fc1(x))\n",
    "        x = F.elu(self.fc2(x))\n",
    "        x = F.elu(self.fc3(x))\n",
    "        x = self.fc4(x)\n",
    "        return x\n",
    "\n",
    "net = code_net().cuda()"
   ]
  },
  {
   "cell_type": "code",
   "execution_count": null,
   "id": "built-liechtenstein",
   "metadata": {},
   "outputs": [
    {
     "data": {
      "text/plain": [
       "[<matplotlib.lines.Line2D at 0x7f5535523160>]"
      ]
     },
     "execution_count": null,
     "metadata": {},
     "output_type": "execute_result"
    },
    {
     "data": {
      "image/png": "[encoded data removed]",
      "text/plain": [
       "<Figure size 432x288 with 1 Axes>"
      ]
     },
     "metadata": {
      "needs_background": "light"
     },
     "output_type": "display_data"
    }
   ],
   "source": [
    "plt.plot((micro.noise.theta_scale * micro.noise.theta_par).detach().cpu())"
   ]
  },
  {
   "cell_type": "code",
   "execution_count": null,
   "id": "printable-alloy",
   "metadata": {},
   "outputs": [
    {
     "name": "stderr",
     "output_type": "stream",
     "text": [
      " 23%|█████████████▊                                             | 70/300 [06:14<20:30,  5.35s/it]\n"
     ]
    },
    {
     "ename": "KeyboardInterrupt",
     "evalue": "",
     "output_type": "error",
     "traceback": [
      "\u001b[0;31m---------------------------------------------------------------------------\u001b[0m",
      "\u001b[0;31mKeyboardInterrupt\u001b[0m                         Traceback (most recent call last)",
      "\u001b[0;32m/tmp/ipykernel_41643/730501466.py\u001b[0m in \u001b[0;36m<module>\u001b[0;34m\u001b[0m\n\u001b[1;32m     25\u001b[0m \u001b[0;34m\u001b[0m\u001b[0m\n\u001b[1;32m     26\u001b[0m         \u001b[0mgt_vars\u001b[0m \u001b[0;34m=\u001b[0m \u001b[0msim_vars\u001b[0m\u001b[0;34m[\u001b[0m\u001b[0;34m:\u001b[0m\u001b[0;34m-\u001b[0m\u001b[0;36m1\u001b[0m\u001b[0;34m]\u001b[0m\u001b[0;34m\u001b[0m\u001b[0;34m\u001b[0m\u001b[0m\n\u001b[0;32m---> 27\u001b[0;31m         \u001b[0mgt_df\u001b[0m \u001b[0;34m=\u001b[0m \u001b[0msample_to_df\u001b[0m\u001b[0;34m(\u001b[0m\u001b[0;34m*\u001b[0m\u001b[0mgt_vars\u001b[0m\u001b[0;34m,\u001b[0m \u001b[0mpx_size_zyx\u001b[0m\u001b[0;34m=\u001b[0m\u001b[0;34m[\u001b[0m\u001b[0;36m1.\u001b[0m\u001b[0;34m,\u001b[0m\u001b[0;36m1.\u001b[0m\u001b[0;34m,\u001b[0m\u001b[0;36m1.\u001b[0m\u001b[0;34m]\u001b[0m\u001b[0;34m)\u001b[0m\u001b[0;34m\u001b[0m\u001b[0;34m\u001b[0m\u001b[0m\n\u001b[0m\u001b[1;32m     28\u001b[0m \u001b[0;34m\u001b[0m\u001b[0m\n\u001b[1;32m     29\u001b[0m         \u001b[0mmodel\u001b[0m\u001b[0;34m.\u001b[0m\u001b[0meval\u001b[0m\u001b[0;34m(\u001b[0m\u001b[0;34m)\u001b[0m\u001b[0;34m.\u001b[0m\u001b[0mcuda\u001b[0m\u001b[0;34m(\u001b[0m\u001b[0;34m)\u001b[0m\u001b[0;34m\u001b[0m\u001b[0;34m\u001b[0m\u001b[0m\n",
      "\u001b[0;32m~/Dropbox (mackelab)/Artur/WorkDB/deepstorm/decode_fish/decode_fish/funcs/output_trafo.py\u001b[0m in \u001b[0;36msample_to_df\u001b[0;34m(locs, x_os, y_os, z_os, ints, px_size_zyx, channels, n_bits)\u001b[0m\n\u001b[1;32m     26\u001b[0m     \u001b[0mloc_idx\u001b[0m \u001b[0;34m=\u001b[0m \u001b[0;34m[\u001b[0m\u001b[0;34m]\u001b[0m\u001b[0;34m\u001b[0m\u001b[0;34m\u001b[0m\u001b[0m\n\u001b[1;32m     27\u001b[0m     \u001b[0;32mfor\u001b[0m \u001b[0mi\u001b[0m \u001b[0;32min\u001b[0m \u001b[0mrange\u001b[0m\u001b[0;34m(\u001b[0m\u001b[0mn_gt\u001b[0m\u001b[0;34m)\u001b[0m\u001b[0;34m:\u001b[0m\u001b[0;34m\u001b[0m\u001b[0;34m\u001b[0m\u001b[0m\n\u001b[0;32m---> 28\u001b[0;31m         \u001b[0mloc_idx\u001b[0m \u001b[0;34m+=\u001b[0m \u001b[0;34m[\u001b[0m\u001b[0mi\u001b[0m\u001b[0;34m]\u001b[0m \u001b[0;34m*\u001b[0m \u001b[0;34m(\u001b[0m\u001b[0mb_inds\u001b[0m\u001b[0;34m[\u001b[0m\u001b[0mi\u001b[0m\u001b[0;34m+\u001b[0m\u001b[0;36m1\u001b[0m\u001b[0;34m]\u001b[0m \u001b[0;34m-\u001b[0m \u001b[0mb_inds\u001b[0m\u001b[0;34m[\u001b[0m\u001b[0mi\u001b[0m\u001b[0;34m]\u001b[0m\u001b[0;34m)\u001b[0m\u001b[0;34m\u001b[0m\u001b[0;34m\u001b[0m\u001b[0m\n\u001b[0m\u001b[1;32m     29\u001b[0m \u001b[0;34m\u001b[0m\u001b[0m\n\u001b[1;32m     30\u001b[0m     df = DF({'loc_idx': loc_idx,\n",
      "\u001b[0;31mKeyboardInterrupt\u001b[0m: "
     ]
    }
   ],
   "source": [
    "from decode_fish.engine.point_process import *\n",
    "from decode_fish.funcs.output_trafo import *\n",
    "from decode_fish.funcs.evaluation import *\n",
    "from decode_fish.engine.gmm_loss import *\n",
    "\n",
    "num_iters = 300\n",
    "batch_size = 50\n",
    "i = 0\n",
    "\n",
    "bce = torch.nn.BCEWithLogitsLoss()\n",
    "mse = torch.nn.MSELoss()\n",
    "opt = torch.optim.AdamW(net.parameters(), lr = 5e-3)\n",
    "sched = torch.optim.lr_scheduler.StepLR(opt, step_size=500, gamma=0.5)\n",
    "loss_col = []\n",
    "\n",
    "for i in tqdm(range(num_iters)):\n",
    "\n",
    "    with torch.no_grad():\n",
    "\n",
    "        x, local_rate, background = next(iter(decode_dl))\n",
    "        sim_vars = PointProcessUniform(local_rate*2.,model.int_dist.int_conc, model.int_dist.int_rate, \n",
    "                                       model.int_dist.int_loc, channels=16, n_bits=4, sim_z=False, codebook=torch.tensor(code_inds)).sample(from_code_book=True, phasing=True)\n",
    "        xsim = micro(*sim_vars, add_noise=True)\n",
    "        x = micro.noise(xsim, background, const_theta_sim=False).sample()\n",
    "\n",
    "        gt_vars = sim_vars[:-1]\n",
    "        gt_df = sample_to_df(*gt_vars, px_size_zyx=[1.,1.,1.])\n",
    "\n",
    "        model.eval().cuda()\n",
    "        res_dict = model(x.cuda())\n",
    "        res_dict = model.tensor_to_dict(res_dict)\n",
    "        pred_df = post_proc.get_df(res_dict)\n",
    "\n",
    "        perf, matches, _ = matching(px_to_nm(gt_df), pred_df, tolerance=500, print_res=False)\n",
    "    \n",
    "    matches = matches.sample(frac=1).reset_index(drop=True)\n",
    "        \n",
    "    for b in range(len(matches)//batch_size):\n",
    "\n",
    "        opt.zero_grad()\n",
    "\n",
    "        net_inp = T(input_from_df(matches[b*batch_size:(b+1)*batch_size], True), dtype=torch.float32).cuda()\n",
    "        \n",
    "        net_out = net(net_inp)\n",
    "\n",
    "        net_tar = T(target_from_matches(matches[b*batch_size:(b+1)*batch_size]), dtype=torch.float32).cuda()\n",
    "        loss = bce(net_out, net_tar[:,None])\n",
    "#         net_tar = T(verr_from_matches(matches[b*batch_size:(b+1)*batch_size]), dtype=torch.float32).cuda()\n",
    "#         loss = mse(net_out, net_tar[:,None])\n",
    "        \n",
    "        loss.backward()\n",
    "        \n",
    "        opt.step()\n",
    "        sched.step()\n",
    "        \n",
    "        loss_col.append(loss.item())"
   ]
  },
  {
   "cell_type": "code",
   "execution_count": null,
   "id": "missing-boring",
   "metadata": {},
   "outputs": [
    {
     "data": {
      "image/png": "[encoded data removed]",
      "text/plain": [
       "<Figure size 432x288 with 1 Axes>"
      ]
     },
     "metadata": {
      "needs_background": "light"
     },
     "output_type": "display_data"
    }
   ],
   "source": [
    "from scipy.signal import savgol_filter\n",
    "\n",
    "window = 51\n",
    "order = 2\n",
    "y_sf2 = savgol_filter(loss_col, window, order)\n",
    "plt.plot(y_sf)\n",
    "plt.plot(y_sf2)\n",
    "plt.show()"
   ]
  },
  {
   "cell_type": "code",
   "execution_count": null,
   "id": "large-vegetarian",
   "metadata": {},
   "outputs": [],
   "source": [
    "from monai.inferers import sliding_window_inference\n",
    "def predict(model, post_proc, image_paths, window_size=[None,256,256], device='cuda'):\n",
    "    pred_df = DF()\n",
    "    with torch.no_grad():\n",
    "        for p in image_paths:\n",
    "            print(p.split('/')[-1])\n",
    "            img = load_tiff_image(p)[None]\n",
    "\n",
    "            n_chans = img.shape[1]\n",
    "            print(img.shape)\n",
    "            z, y, x = img.shape[-3:]\n",
    "                \n",
    "            inp = img\n",
    "#                 inp[:,1:] = torch.flip(inp[:,1:], dims=[4])\n",
    "            output = sliding_window_inference(inp, window_size, 1, model.to(device), overlap=0.2, sw_device=device, device='cpu', mode='gaussian')\n",
    "            # output = model.cpu()(img[None,None])\n",
    "            output = model.tensor_to_dict(output)\n",
    "            p_si = sliding_window_inference(output['logits'], window_size, 1, post_proc, overlap=0.2, sw_device=device, device='cpu', mode='gaussian')\n",
    "            i_df = post_proc.get_df(output, p_si)\n",
    "            print('N. emitters: ', len(i_df))\n",
    "            i_df.loc[:,'frame_idx'] = 0\n",
    "            pred_df = append_emitter_df(pred_df, i_df)\n",
    "            free_mem()\n",
    "        return pred_df"
   ]
  },
  {
   "cell_type": "code",
   "execution_count": null,
   "id": "helpful-bahrain",
   "metadata": {},
   "outputs": [
    {
     "name": "stdout",
     "output_type": "stream",
     "text": [
      "img_stack.tiff\n",
      "torch.Size([1, 16, 1, 2048, 2048])\n",
      "N. emitters:  55404\n"
     ]
    }
   ],
   "source": [
    "image_paths = sorted(glob.glob(cfg.data_path.image_path))\n",
    "inf_df = predict(model, post_proc, image_paths, window_size=[None, 256, 256], device='cuda')"
   ]
  },
  {
   "cell_type": "code",
   "execution_count": null,
   "id": "portable-fault",
   "metadata": {},
   "outputs": [
    {
     "name": "stderr",
     "output_type": "stream",
     "text": [
      "100%|██████████████████████████████████████████████████████████| 555/555 [00:09<00:00, 59.34it/s]\n"
     ]
    }
   ],
   "source": [
    "out_vals = []\n",
    "\n",
    "for b in tqdm(range(len(inf_df)//100 + 1)):\n",
    "    \n",
    "    net_inp = T(input_from_df(inf_df[b*100:(b+1)*100], False), dtype=torch.float32).cuda()\n",
    "    net_out = torch.sigmoid(net(net_inp))\n",
    "#     net_out = net(net_inp)\n",
    "    \n",
    "    out_vals.append(np.array(cpu(net_out)))"
   ]
  },
  {
   "cell_type": "code",
   "execution_count": null,
   "id": "continental-theory",
   "metadata": {},
   "outputs": [],
   "source": [
    "out_arr = np.concatenate(out_vals)\n",
    "inf_df['net_qual'] = out_arr"
   ]
  },
  {
   "cell_type": "code",
   "execution_count": null,
   "id": "juvenile-conviction",
   "metadata": {},
   "outputs": [
    {
     "data": {
      "text/plain": [
       "(array([ 3727.,  3853.,  3598.,  3743.,  3663.,  3821.,  3834.,  3747.,\n",
       "         4665., 20753.]),\n",
       " array([0.00220568, 0.10159906, 0.20099244, 0.3003858 , 0.3997792 ,\n",
       "        0.49917257, 0.59856594, 0.6979593 , 0.79735273, 0.8967461 ,\n",
       "        0.99613947], dtype=float32),\n",
       " <BarContainer object of 10 artists>)"
      ]
     },
     "execution_count": null,
     "metadata": {},
     "output_type": "execute_result"
    },
    {
     "data": {
      "image/png": "[encoded data removed]",
      "text/plain": [
       "<Figure size 432x288 with 1 Axes>"
      ]
     },
     "metadata": {
      "needs_background": "light"
     },
     "output_type": "display_data"
    }
   ],
   "source": [
    "plt.hist(inf_df['net_qual'])"
   ]
  },
  {
   "cell_type": "code",
   "execution_count": null,
   "id": "excessive-symbol",
   "metadata": {},
   "outputs": [],
   "source": [
    "inf_df.to_csv(f'../data/results/MERFISH/{csv_name}.csv', index=False)"
   ]
  },
  {
   "cell_type": "code",
   "execution_count": null,
   "id": "material-broadway",
   "metadata": {},
   "outputs": [
    {
     "name": "stderr",
     "output_type": "stream",
     "text": [
      "100%|████████████████████████████████████████████████████████████| 20/20 [01:38<00:00,  4.95s/it]\n"
     ]
    }
   ],
   "source": [
    "from decode_fish.engine.point_process import *\n",
    "num_iters = 20\n",
    "i = 0\n",
    "\n",
    "out_vals = []\n",
    "\n",
    "df_col = []\n",
    "pred_col = []\n",
    "\n",
    "for i in tqdm(range(num_iters)):\n",
    "\n",
    "    with torch.no_grad():\n",
    "\n",
    "        x, local_rate, background = next(iter(decode_dl))\n",
    "        sim_vars = PointProcessUniform(local_rate*2.,model.int_dist.int_conc, model.int_dist.int_rate, \n",
    "                                       model.int_dist.int_loc, channels=16, n_bits=4, sim_z=False, codebook=torch.tensor(code_inds)).sample(from_code_book=True, phasing=True)\n",
    "        xsim = micro(*sim_vars, add_noise=True)\n",
    "        xsim = micro.noise(xsim, background).sample()\n",
    "\n",
    "        gt_vars = sim_vars[:-1]\n",
    "        gt_df = sample_to_df(*gt_vars, px_size_zyx=[1.,1.,1.])\n",
    "\n",
    "        model.eval().cuda()\n",
    "        res_dict = model(xsim.cuda())\n",
    "        res_dict = model.tensor_to_dict(res_dict)\n",
    "        pred_df = post_proc.get_df(res_dict)\n",
    "\n",
    "        perf, matches, _ = matching(px_to_nm(gt_df), pred_df, tolerance=500, print_res=False)\n",
    "    \n",
    "    matches = matches.sample(frac=1).reset_index(drop=True)\n",
    "        \n",
    "    net_inp = T(input_from_df(matches, True), dtype=torch.float32).cuda()\n",
    "    net_out = torch.sigmoid(net(net_inp))\n",
    "#     matches[[f'bin_{i}' for i in range(16)]] = np.array(cpu(net_out))\n",
    "\n",
    "#     net_out = net(net_inp)\n",
    "    matches['net_qual'] = np.array(cpu(net_out))\n",
    "    \n",
    "    df_col.append(matches)\n",
    "    pred_col.append(pred_df)\n",
    "    \n",
    "df_col = pd.concat(df_col)\n",
    "df_col = df_col.reset_index()\n",
    "\n",
    "pred_col = pd.concat(pred_col)\n",
    "pred_col = pred_col.reset_index()"
   ]
  },
  {
   "cell_type": "code",
   "execution_count": null,
   "id": "excess-selection",
   "metadata": {},
   "outputs": [
    {
     "name": "stderr",
     "output_type": "stream",
     "text": [
      "100%|████████████████████████████████████████████████████| 34624/34624 [00:04<00:00, 8502.87it/s]\n"
     ]
    }
   ],
   "source": [
    "res_df = df_col.copy()\n",
    "res_df['comb_sig'] = np.sqrt(res_df['x_sig_pred']**2+res_df['y_sig_pred'])\n",
    "\n",
    "int_keys = [f'int_{i}_tar' for i in range(16)]\n",
    "int_pred = res_df[int_keys].values\n",
    "s_arr = np.sort(int_pred)\n",
    "lim = s_arr[:,-5]\n",
    "tar_code = np.stack([np.where(i>l,1,0) for i,l in zip(int_pred, lim)])\n",
    "\n",
    "code_ind = []\n",
    "\n",
    "for i in tqdm(range(len(int_pred))):\n",
    "\n",
    "    code_errors = vcorrcoef(code_ref, int_pred[i])\n",
    "#     code_errors = bce_code(code_ref, int_pred[i])\n",
    "    min_ind = np.argmin(code_errors)\n",
    "    code_ind.append(min_ind)\n",
    "\n",
    "res_df['gt_gene'] = targets[code_ind]"
   ]
  },
  {
   "cell_type": "code",
   "execution_count": null,
   "id": "worst-router",
   "metadata": {},
   "outputs": [
    {
     "name": "stderr",
     "output_type": "stream",
     "text": [
      "100%|████████████████████████████████████████████████████| 34624/34624 [00:03<00:00, 9672.71it/s]\n"
     ]
    }
   ],
   "source": [
    "int_keys = [f'int_{i}_pred' for i in range(16)]\n",
    "int_pred = res_df[int_keys].values\n",
    "\n",
    "code_err = []\n",
    "code_ind = []\n",
    "\n",
    "for i in tqdm(range(len(int_pred))):\n",
    "\n",
    "    code_errors = vcorrcoef(code_ref, int_pred[i])\n",
    "#     code_errors = bce_code(code_ref, int_pred[i])\n",
    "    min_ind = np.argmin(code_errors)\n",
    "    code_err.append(code_errors[min_ind])\n",
    "    code_ind.append(min_ind)\n",
    "\n",
    "res_df['code_err'] = code_err\n",
    "res_df['code_inds'] = code_ind\n",
    "res_df['int_gene'] = targets[code_ind]"
   ]
  },
  {
   "cell_type": "code",
   "execution_count": null,
   "id": "advance-ordinary",
   "metadata": {},
   "outputs": [
    {
     "data": {
      "text/plain": [
       "0.5835258780036968"
      ]
     },
     "execution_count": null,
     "metadata": {},
     "output_type": "execute_result"
    }
   ],
   "source": [
    "(res_df['gt_gene'] == res_df['int_gene']).sum()/len(res_df)"
   ]
  },
  {
   "cell_type": "code",
   "execution_count": null,
   "id": "frank-placement",
   "metadata": {},
   "outputs": [],
   "source": [
    "# (res_df['gt_gene'] == res_df['bin_gene']).sum()/len(res_df)"
   ]
  },
  {
   "cell_type": "code",
   "execution_count": null,
   "id": "sticky-requirement",
   "metadata": {},
   "outputs": [
    {
     "data": {
      "text/plain": [
       "<matplotlib.legend.Legend at 0x7f552726fc40>"
      ]
     },
     "execution_count": null,
     "metadata": {},
     "output_type": "execute_result"
    },
    {
     "data": {
      "image/png": "[encoded data removed]",
      "text/plain": [
       "<Figure size 1152x360 with 4 Axes>"
      ]
     },
     "metadata": {
      "needs_background": "light"
     },
     "output_type": "display_data"
    }
   ],
   "source": [
    "res_df['int_sigs'] = res_df[[f'int_sig_{i}_pred' for i in range(16)]].values.sum(1)\n",
    "res_df['ints'] = res_df[[f'int_{i}_pred' for i in range(16)]].values.sum(1)\n",
    "metrics = ['code_err', 'x_sig_pred', 'int_sigs', 'net_qual']\n",
    "plt.figure(figsize=(16,5))\n",
    "for i in range(len(metrics)):\n",
    "    plt.subplot(1,len(metrics),i+1)\n",
    "    _=plt.hist(res_df[res_df['gt_gene'] == res_df['int_gene']][metrics[i]], density=True, alpha=0.5, bins=30, label='matches')\n",
    "    _=plt.hist(res_df[res_df['gt_gene'] != res_df['int_gene']][metrics[i]], density=True, alpha=0.5, bins=30, label='errors')\n",
    "    plt.title(metrics[i])\n",
    "plt.legend()"
   ]
  },
  {
   "cell_type": "code",
   "execution_count": null,
   "id": "attractive-nurse",
   "metadata": {},
   "outputs": [],
   "source": [
    "def make_roc(df, var='code_err', ascending=True):\n",
    "    \n",
    "    x = np.arange(1000,len(df),100)\n",
    "    df = df.sort_values(var, ascending=ascending)\n",
    "    n_blanks = []\n",
    "    for i in x:\n",
    "        n_blanks.append(np.array([df[:int(i)]['gt_gene'] != df[:int(i)]['int_gene']]).sum())\n",
    "        \n",
    "    return x, n_blanks"
   ]
  },
  {
   "cell_type": "code",
   "execution_count": null,
   "id": "verified-approval",
   "metadata": {},
   "outputs": [],
   "source": [
    "from decode_fish.funcs.visualization import *\n",
    "par_dict = {'code_err':[res_df, 'code_err', True],\n",
    "            'int_sigs':[res_df, 'int_sigs', True],\n",
    "            'net_qual':[res_df, 'net_qual', False]}\n",
    "\n",
    "roc_dict = {}\n",
    "for k in par_dict:\n",
    "    x, y = make_roc(*par_dict[k])\n",
    "    roc_dict[k] = [x, y]"
   ]
  },
  {
   "cell_type": "code",
   "execution_count": null,
   "id": "adjusted-style",
   "metadata": {},
   "outputs": [],
   "source": [
    "# roc_dicts = roc_dict"
   ]
  },
  {
   "cell_type": "code",
   "execution_count": null,
   "id": "israeli-twenty",
   "metadata": {},
   "outputs": [
    {
     "data": {
      "image/png": "[encoded data removed]",
      "text/plain": [
       "<Figure size 360x360 with 1 Axes>"
      ]
     },
     "metadata": {
      "needs_background": "light"
     },
     "output_type": "display_data"
    }
   ],
   "source": [
    "import seaborn as sns\n",
    "plt.figure(figsize=(5,5))\n",
    "for k in roc_dicts:\n",
    "    x, y = roc_dicts[k]\n",
    "    plt.plot(x, y, label=k, linestyle='--')\n",
    "    \n",
    "for k in roc_dict:\n",
    "    x, y = roc_dict[k]\n",
    "    plt.plot(x, y, label=k)\n",
    "    \n",
    "plt.legend()\n",
    "plt.ylim(0, 2000)\n",
    "plt.xlim(0, 20000)\n",
    "plt.ylabel('N. errors')\n",
    "plt.xlabel('N. detections')\n",
    "sns.despine()"
   ]
  },
  {
   "cell_type": "code",
   "execution_count": null,
   "id": "coral-convert",
   "metadata": {},
   "outputs": [],
   "source": [
    "# for k in inf_df.keys():\n",
    "#     plt.figure(figsize=(15,10))\n",
    "#     _ = plt.hist(inf_df[k], bins=51, alpha=0.5, density=True)\n",
    "#     _ = plt.hist(pred_col[k], bins=51, alpha=0.5, density=True)\n",
    "#     plt.title(k)\n",
    "#     plt.show()"
   ]
  },
  {
   "cell_type": "code",
   "execution_count": null,
   "id": "covered-jersey",
   "metadata": {},
   "outputs": [],
   "source": []
  }
 ],
 "metadata": {
  "kernelspec": {
   "display_name": "Python [conda env:decode_fish_dev]",
   "language": "python",
   "name": "conda-env-decode_fish_dev-py"
  }
 },
 "nbformat": 4,
 "nbformat_minor": 5
}
