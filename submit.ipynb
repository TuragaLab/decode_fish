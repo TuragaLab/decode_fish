{
 "cells": [
  {
   "cell_type": "code",
   "execution_count": 112,
   "metadata": {
    "ExecuteTime": {
     "end_time": "2021-04-20T13:19:21.104876Z",
     "start_time": "2021-04-20T13:19:21.084814Z"
    }
   },
   "outputs": [],
   "source": [
    "from pathlib import Path\n",
    "from decode_fish.funcs.utils import *\n",
    "\n",
    "def make_sweep_str(model_path, pfile, pars, group):\n",
    "    \n",
    "    base_str = f'bsub -gpu \"num=1\" -q gpu_any -o logs/ofish.log -e logs/efish.log /groups/turaga/home/speisera/anaconda3/envs/decode2_dev/bin/python /groups/turaga/home/speisera/Mackebox/Artur/WorkDB/deepstorm/decode_fish/decode_fish/train.py'   \n",
    "    base_str = base_str + f' +experiment={pfile}'\n",
    "    name = ''\n",
    "    \n",
    "    for k in pars:\n",
    "        base_str += ' ' + k + f'={pars[k]}'\n",
    "        name += k.split('.')[-1]+f':{pars[k]}x'\n",
    "    name = name[:-1]\n",
    "    \n",
    "    return base_str + f' run_name={name} output.group={group}' + '\\n'\n",
    "    \n",
    "\n",
    "def make_named_str(model_path, pfile, name, group):\n",
    "    \n",
    "    base_str = f'bsub -gpu \"num=1\" -q gpu_any -o logs/ofish.log -e logs/efish.log /groups/turaga/home/speisera/anaconda3/envs/decode2_dev/bin/python /groups/turaga/home/speisera/Mackebox/Artur/WorkDB/deepstorm/decode_fish/decode_fish/train.py'   \n",
    "    base_str = base_str + f' +experiment={pfile}'\n",
    "    \n",
    "    return base_str + f' run_name={name} output.group={group}' + '\\n'"
   ]
  },
  {
   "cell_type": "code",
   "execution_count": 113,
   "metadata": {
    "ExecuteTime": {
     "end_time": "2021-04-20T13:19:21.520519Z",
     "start_time": "2021-04-20T13:19:21.508322Z"
    }
   },
   "outputs": [],
   "source": [
    "model_path = Path('/groups/turaga/home/speisera/Mackebox/Artur/WorkDB/deepstorm/models/fishcod/N2_352/')\n",
    "group = 'sweep_f6'\n",
    "pfile = 'sim_density_fac1_7'\n",
    "\n",
    "variable_col = param_iter()\n",
    "variable_col.add('microscope.int_mu',1.,2.,3.,4.,5.)\n",
    "\n",
    "par_prod = variable_col.param_product()\n",
    "\n",
    "# name = 'Ref_SI'"
   ]
  },
  {
   "cell_type": "code",
   "execution_count": 114,
   "metadata": {
    "ExecuteTime": {
     "end_time": "2021-04-20T13:19:22.035175Z",
     "start_time": "2021-04-20T13:19:22.020221Z"
    }
   },
   "outputs": [
    {
     "name": "stdout",
     "output_type": "stream",
     "text": [
      "bsub -gpu \"num=1\" -q gpu_any -o logs/ofish.log -e logs/efish.log /groups/turaga/home/speisera/anaconda3/envs/decode2_dev/bin/python /groups/turaga/home/speisera/Mackebox/Artur/WorkDB/deepstorm/decode_fish/decode_fish/train.py +experiment=sim_density_fac1_7 microscope.int_mu=1.0 run_name=int_mu:1.0 output.group=sweep_f6\n",
      "\n",
      "bsub -gpu \"num=1\" -q gpu_any -o logs/ofish.log -e logs/efish.log /groups/turaga/home/speisera/anaconda3/envs/decode2_dev/bin/python /groups/turaga/home/speisera/Mackebox/Artur/WorkDB/deepstorm/decode_fish/decode_fish/train.py +experiment=sim_density_fac1_7 microscope.int_mu=2.0 run_name=int_mu:2.0 output.group=sweep_f6\n",
      "\n",
      "bsub -gpu \"num=1\" -q gpu_any -o logs/ofish.log -e logs/efish.log /groups/turaga/home/speisera/anaconda3/envs/decode2_dev/bin/python /groups/turaga/home/speisera/Mackebox/Artur/WorkDB/deepstorm/decode_fish/decode_fish/train.py +experiment=sim_density_fac1_7 microscope.int_mu=3.0 run_name=int_mu:3.0 output.group=sweep_f6\n",
      "\n",
      "bsub -gpu \"num=1\" -q gpu_any -o logs/ofish.log -e logs/efish.log /groups/turaga/home/speisera/anaconda3/envs/decode2_dev/bin/python /groups/turaga/home/speisera/Mackebox/Artur/WorkDB/deepstorm/decode_fish/decode_fish/train.py +experiment=sim_density_fac1_7 microscope.int_mu=4.0 run_name=int_mu:4.0 output.group=sweep_f6\n",
      "\n",
      "bsub -gpu \"num=1\" -q gpu_any -o logs/ofish.log -e logs/efish.log /groups/turaga/home/speisera/anaconda3/envs/decode2_dev/bin/python /groups/turaga/home/speisera/Mackebox/Artur/WorkDB/deepstorm/decode_fish/decode_fish/train.py +experiment=sim_density_fac1_7 microscope.int_mu=5.0 run_name=int_mu:5.0 output.group=sweep_f6\n",
      "\n"
     ]
    }
   ],
   "source": [
    "Path.mkdir(model_path/group, exist_ok=True)\n",
    "\n",
    "with open('run_slurm.sh', 'w') as f:\n",
    "    for pars in par_prod:  \n",
    "        exec_str = make_sweep_str(model_path, pfile, pars, group)\n",
    "        print(exec_str)\n",
    "        f.write(exec_str)"
   ]
  },
  {
   "cell_type": "code",
   "execution_count": 72,
   "metadata": {
    "ExecuteTime": {
     "end_time": "2021-04-16T14:06:59.744897Z",
     "start_time": "2021-04-16T14:06:59.740582Z"
    }
   },
   "outputs": [],
   "source": [
    "# Path.mkdir(model_path/group, exist_ok=True)\n",
    "\n",
    "# with open('run_slurm.sh', 'w') as f:\n",
    "#     exec_str = make_named_str(model_path, pfile, name, group)\n",
    "#     print(exec_str)\n",
    "#     f.write(exec_str)"
   ]
  },
  {
   "cell_type": "code",
   "execution_count": null,
   "metadata": {},
   "outputs": [],
   "source": []
  }
 ],
 "metadata": {
  "kernelspec": {
   "display_name": "Python [conda env:decode2_dev]",
   "language": "python",
   "name": "conda-env-decode2_dev-py"
  },
  "language_info": {
   "codemirror_mode": {
    "name": "ipython",
    "version": 3
   },
   "file_extension": ".py",
   "mimetype": "text/x-python",
   "name": "python",
   "nbconvert_exporter": "python",
   "pygments_lexer": "ipython3",
   "version": "3.7.7"
  }
 },
 "nbformat": 4,
 "nbformat_minor": 4
}
