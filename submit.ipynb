{
 "cells": [
  {
   "cell_type": "code",
   "execution_count": 34,
   "metadata": {
    "ExecuteTime": {
     "end_time": "2021-06-04T15:24:39.733937Z",
     "start_time": "2021-06-04T15:24:39.723093Z"
    }
   },
   "outputs": [],
   "source": [
    "from pathlib import Path\n",
    "from decode_fish.funcs.utils import *\n",
    "import glob\n",
    "\n",
    "base_string = f'bsub -gpu \"num=1\" -q gpu_any -o logs/ofish.log -e logs/efish.log /groups/turaga/home/speisera/anaconda3/envs/decode2_dev/bin/python /groups/turaga/home/speisera/Mackebox/Artur/WorkDB/deepstorm/decode_fish/decode_fish/train.py'   \n",
    "\n",
    "def make_sweep_str(pfile, pars, group):\n",
    "    \n",
    "    base_str = base_string + f' +experiment={pfile}'\n",
    "    name = ''\n",
    "    \n",
    "    for k in pars:\n",
    "        base_str += ' ' + k + f'={pars[k]}'\n",
    "        name += k.split('.')[-1]+f':{pars[k]}x'\n",
    "    name = name[:-1]\n",
    "    \n",
    "    return base_str + f' run_name={name} output.group={group}' + '\\n'\n",
    "    \n",
    "\n",
    "def make_named_str(pfile, name, group):\n",
    "    \n",
    "    base_str = base_string + f' +experiment={pfile}'\n",
    "    \n",
    "    return base_str + f' run_name={name} output.group={group}' + '\\n'"
   ]
  },
  {
   "cell_type": "code",
   "execution_count": 39,
   "metadata": {
    "ExecuteTime": {
     "end_time": "2021-06-04T15:25:25.335685Z",
     "start_time": "2021-06-04T15:25:25.330107Z"
    }
   },
   "outputs": [],
   "source": [
    "group = 'sweep_scale2'\n",
    "pfile = 'scrib_sweep'\n",
    "\n",
    "variable_col = param_iter()\n",
    "variable_col.add('bg_estimation.fractal.scale', 70, 100, 130)\n",
    "variable_col.add('microscope.norm', 'max','sum')\n",
    "\n",
    "par_prod = variable_col.param_product()"
   ]
  },
  {
   "cell_type": "code",
   "execution_count": 51,
   "metadata": {
    "ExecuteTime": {
     "end_time": "2021-06-04T19:49:26.560374Z",
     "start_time": "2021-06-04T19:49:26.546731Z"
    }
   },
   "outputs": [
    {
     "name": "stdout",
     "output_type": "stream",
     "text": [
      "bsub -gpu \"num=1\" -q gpu_any -o logs/ofish.log -e logs/efish.log /groups/turaga/home/speisera/anaconda3/envs/decode2_dev/bin/python /groups/turaga/home/speisera/Mackebox/Artur/WorkDB/deepstorm/decode_fish/decode_fish/train.py +experiment=fig_sim_b1 microscope.norm=sum training.start_ae=0 run_name=norm:sumxstart_ae:0 output.group=sweep_norm\n",
      "\n",
      "bsub -gpu \"num=1\" -q gpu_any -o logs/ofish.log -e logs/efish.log /groups/turaga/home/speisera/anaconda3/envs/decode2_dev/bin/python /groups/turaga/home/speisera/Mackebox/Artur/WorkDB/deepstorm/decode_fish/decode_fish/train.py +experiment=fig_sim_b1 microscope.norm=sum training.start_ae=1000 run_name=norm:sumxstart_ae:1000 output.group=sweep_norm\n",
      "\n",
      "bsub -gpu \"num=1\" -q gpu_any -o logs/ofish.log -e logs/efish.log /groups/turaga/home/speisera/anaconda3/envs/decode2_dev/bin/python /groups/turaga/home/speisera/Mackebox/Artur/WorkDB/deepstorm/decode_fish/decode_fish/train.py +experiment=fig_sim_b1 microscope.norm=sum training.start_ae=3000 run_name=norm:sumxstart_ae:3000 output.group=sweep_norm\n",
      "\n"
     ]
    }
   ],
   "source": [
    "# Path.mkdir(model_path/group, exist_ok=True)\n",
    "\n",
    "with open('run_slurm.sh', 'w') as f:\n",
    "    for pars in par_prod:  \n",
    "        exec_str = make_sweep_str(pfile, pars, group)\n",
    "        print(exec_str)\n",
    "        f.write(exec_str)"
   ]
  },
  {
   "cell_type": "code",
   "execution_count": 50,
   "metadata": {
    "ExecuteTime": {
     "end_time": "2021-06-04T19:49:24.625914Z",
     "start_time": "2021-06-04T19:49:24.619035Z"
    }
   },
   "outputs": [],
   "source": [
    "group = 'sweep_norm'\n",
    "pfile = 'fig_sim_b1'\n",
    "\n",
    "variable_col = param_iter()\n",
    "variable_col.add('microscope.norm', 'sum')\n",
    "variable_col.add('training.start_ae', 0, 1000, 3000)\n",
    "\n",
    "par_prod = variable_col.param_product()"
   ]
  },
  {
   "cell_type": "code",
   "execution_count": 48,
   "metadata": {
    "ExecuteTime": {
     "end_time": "2021-06-04T19:49:19.721717Z",
     "start_time": "2021-06-04T19:49:19.715819Z"
    }
   },
   "outputs": [],
   "source": [
    "from decode_fish.imports import *"
   ]
  },
  {
   "cell_type": "code",
   "execution_count": 49,
   "metadata": {
    "ExecuteTime": {
     "end_time": "2021-06-04T19:49:20.402316Z",
     "start_time": "2021-06-04T19:49:19.983105Z"
    }
   },
   "outputs": [
    {
     "name": "stdout",
     "output_type": "stream",
     "text": [
      "bsub -gpu \"num=1\" -q gpu_any -o logs/ofish.log -e logs/efish.log /groups/turaga/home/speisera/anaconda3/envs/decode2_dev/bin/python /groups/turaga/home/speisera/Mackebox/Artur/WorkDB/deepstorm/decode_fish/decode_fish/train.py +experiment=msp300_b1  run_name=msp300_b2 noise.theta=54.344570027378\n",
      "\n",
      "bsub -gpu \"num=1\" -q gpu_any -o logs/ofish.log -e logs/efish.log /groups/turaga/home/speisera/anaconda3/envs/decode2_dev/bin/python /groups/turaga/home/speisera/Mackebox/Artur/WorkDB/deepstorm/decode_fish/decode_fish/train.py +experiment=covid_early_b1  run_name=covid_early_b2 noise.theta=0.9362825250621483\n",
      "\n",
      "bsub -gpu \"num=1\" -q gpu_any -o logs/ofish.log -e logs/efish.log /groups/turaga/home/speisera/anaconda3/envs/decode2_dev/bin/python /groups/turaga/home/speisera/Mackebox/Artur/WorkDB/deepstorm/decode_fish/decode_fish/train.py +experiment=N2_352_b1  run_name=N2_352_b2 noise.theta=23.27232633537633\n",
      "\n",
      "bsub -gpu \"num=1\" -q gpu_any -o logs/ofish.log -e logs/efish.log /groups/turaga/home/speisera/anaconda3/envs/decode2_dev/bin/python /groups/turaga/home/speisera/Mackebox/Artur/WorkDB/deepstorm/decode_fish/decode_fish/train.py +experiment=rab11_b1  run_name=rab11_b2 noise.theta=81.16765723381953\n",
      "\n",
      "bsub -gpu \"num=1\" -q gpu_any -o logs/ofish.log -e logs/efish.log /groups/turaga/home/speisera/anaconda3/envs/decode2_dev/bin/python /groups/turaga/home/speisera/Mackebox/Artur/WorkDB/deepstorm/decode_fish/decode_fish/train.py +experiment=scrib_b1  run_name=scrib_b2 noise.theta=0.427573077398337\n",
      "\n",
      "bsub -gpu \"num=1\" -q gpu_any -o logs/ofish.log -e logs/efish.log /groups/turaga/home/speisera/anaconda3/envs/decode2_dev/bin/python /groups/turaga/home/speisera/Mackebox/Artur/WorkDB/deepstorm/decode_fish/decode_fish/train.py +experiment=sgg_b1  run_name=sgg_b2 noise.theta=2.103538967782192\n",
      "\n",
      "bsub -gpu \"num=1\" -q gpu_any -o logs/ofish.log -e logs/efish.log /groups/turaga/home/speisera/anaconda3/envs/decode2_dev/bin/python /groups/turaga/home/speisera/Mackebox/Artur/WorkDB/deepstorm/decode_fish/decode_fish/train.py +experiment=Dlg1_b1  run_name=Dlg1_b2 noise.theta=44.12590443517847\n",
      "\n"
     ]
    }
   ],
   "source": [
    "exps = ['msp300', 'covid_early', 'N2_352', 'rab11', 'scrib', 'sgg', 'Dlg1']\n",
    "ver = 'b1'\n",
    "name = 'b2'\n",
    "\n",
    "with open('run_slurm.sh', 'w') as f:\n",
    "    for exp in exps:  \n",
    "        cfg = OmegaConf.load(f'config/experiment/{exp}_{ver}.yaml')\n",
    "#         exec_str = base_string + f' +experiment={exp}_{ver}  run_name={exp}_{name}' + '\\n'\n",
    "        exec_str = base_string + f' +experiment={exp}_{ver}  run_name={exp}_{name} noise.theta={cfg.noise.theta*1.5}' + '\\n'\n",
    "        print(exec_str)\n",
    "        f.write(exec_str)"
   ]
  },
  {
   "cell_type": "code",
   "execution_count": null,
   "metadata": {},
   "outputs": [],
   "source": []
  }
 ],
 "metadata": {
  "kernelspec": {
   "display_name": "Python [conda env:decode2_dev]",
   "language": "python",
   "name": "conda-env-decode2_dev-py"
  },
  "language_info": {
   "codemirror_mode": {
    "name": "ipython",
    "version": 3
   },
   "file_extension": ".py",
   "mimetype": "text/x-python",
   "name": "python",
   "nbconvert_exporter": "python",
   "pygments_lexer": "ipython3",
   "version": "3.7.7"
  }
 },
 "nbformat": 4,
 "nbformat_minor": 4
}
