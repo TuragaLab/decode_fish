{
 "cells": [
  {
   "cell_type": "code",
   "execution_count": null,
   "metadata": {},
   "outputs": [],
   "source": [
    "# default_exp funcs.train_funcs"
   ]
  },
  {
   "cell_type": "code",
   "execution_count": null,
   "metadata": {},
   "outputs": [],
   "source": [
    "%load_ext autoreload\n",
    "%autoreload 2"
   ]
  },
  {
   "cell_type": "markdown",
   "metadata": {},
   "source": [
    "# Training loop simulator learning"
   ]
  },
  {
   "cell_type": "code",
   "execution_count": null,
   "metadata": {},
   "outputs": [],
   "source": [
    "#export\n",
    "from decode_fish.imports import *\n",
    "from decode_fish.funcs.evaluation import *\n",
    "from decode_fish.funcs.file_io import *\n",
    "from decode_fish.funcs.emitter_io import *\n",
    "from decode_fish.funcs.utils import *\n",
    "from decode_fish.funcs.dataset import *\n",
    "from decode_fish.funcs.output_trafo import *\n",
    "from decode_fish.funcs.plotting import *\n",
    "import torch.nn.functional as F\n",
    "from torch import distributions as D\n",
    "from torch.utils.data import DataLoader\n",
    "import torch_optimizer\n",
    "from decode_fish.engine.microscope import Microscope\n",
    "from decode_fish.engine.model import UnetDecodeNoBn\n",
    "from decode_fish.engine.point_process import PointProcessUniform\n",
    "from decode_fish.engine.gmm_loss import PointProcessGaussian\n",
    "import shutil\n",
    "import wandb\n",
    "# from decode_fish.funcs.visualization vimport get_simulation_statistics"
   ]
  },
  {
   "cell_type": "code",
   "execution_count": null,
   "metadata": {},
   "outputs": [],
   "source": [
    "os.environ[\"CUDA_VISIBLE_DEVICES\"] = '1'"
   ]
  },
  {
   "cell_type": "code",
   "execution_count": null,
   "metadata": {},
   "outputs": [],
   "source": [
    "#export\n",
    "def eval_logger(pred_df, target_df, iteration, data_str='Sim. '):\n",
    "    \n",
    "    perf_dict,_,shift = matching(target_df, pred_df, print_res=False)\n",
    "    if 'Inp' in data_str:\n",
    "        pred_corr = shift_df(pred_df, shift)\n",
    "        perf_dict, _, _ = matching(target_df, pred_corr, print_res=False)\n",
    "\n",
    "    wandb.log({data_str +'Metrics/eff_3d': perf_dict['eff_3d']}, step=iteration)\n",
    "    wandb.log({data_str +'Metrics/jaccard': perf_dict['jaccard']}, step=iteration)\n",
    "    wandb.log({data_str +'Metrics/rmse_vol': perf_dict['rmse_vol']}, step=iteration)\n",
    "\n",
    "    wandb.log({data_str +'Metrics/precision': perf_dict['precision']}, step=iteration)\n",
    "    wandb.log({data_str +'Metrics/recall': perf_dict['recall']}, step=iteration)\n",
    "    wandb.log({data_str +'Metrics/rmse_x': perf_dict['rmse_x']}, step=iteration)\n",
    "    wandb.log({data_str +'Metrics/rmse_y': perf_dict['rmse_y']}, step=iteration)\n",
    "    wandb.log({data_str +'Metrics/rmse_z': perf_dict['rmse_z']}, step=iteration)   \n",
    "    \n",
    "def load_from_eval_dict(eval_dict):\n",
    "    \n",
    "    eval_img = load_tiff_image(sorted(glob.glob(eval_dict['image_path']))[eval_dict['img_ind']])[eval_dict['sm_fish_ch']][None]\n",
    "    eval_img = eval_img[eval_dict['crop_sl']]\n",
    "    eval_df = None\n",
    "    eval_psf = None\n",
    "    if eval_dict['txt_path'] is not None:\n",
    "        txt_path = sorted(glob.glob(eval_dict['txt_path']))[eval_dict['img_ind']]\n",
    "        eval_df = simfish_to_df(txt_path)\n",
    "        eval_df = crop_df(eval_df, eval_dict['crop_sl'], px_size_zyx=eval_dict['px_size_zyx'])\n",
    "\n",
    "    if eval_dict['psf_path'] is not None:\n",
    "        eval_psf = load_tiff_image(eval_dict['psf_path'])\n",
    "        \n",
    "    return eval_img, eval_df, eval_psf\n",
    "\n",
    "def save_train_state(save_dir, model, microscope, optim_dict, train_iter):\n",
    "    \n",
    "        torch.save({'state_dict':model.state_dict(), 'scaling':[model.inp_scale, model.inp_offset]}, save_dir/'model.pkl')\n",
    "        torch.save(microscope.state_dict(), save_dir/'microscope.pkl')\n",
    "        \n",
    "        save_dict = {k:v.state_dict() for (k,v) in optim_dict.items()}\n",
    "        save_dict['train_iter'] = train_iter\n",
    "        \n",
    "        torch.save(save_dict, save_dir/'training_state.pkl')"
   ]
  },
  {
   "cell_type": "code",
   "execution_count": null,
   "metadata": {},
   "outputs": [],
   "source": [
    "#export\n",
    "def train(cfg,\n",
    "          model, \n",
    "          microscope,\n",
    "          post_proc,\n",
    "          dl, \n",
    "          optim_dict,\n",
    "          eval_dict=None):\n",
    "    \n",
    "    \"\"\"\n",
    "    Training loop for autoencoder learning. Alternates between a simulator training step to train the inference network\n",
    "    and an autoencoder step to train the PSF (and microscope) parameters.\n",
    "    \n",
    "    Args:\n",
    "        model (torch.nn.Module): DECODE 3D UNet.\n",
    "        dl  (torch.utils.data.dataloader.DataLoader): Dataloader that returns a random sub volume from the real volume, an estiamted emitter density and background.\n",
    "        optim_net  (torch.optim.Optimizer): Optimizer for the network parameters.\n",
    "        optim_mic  (torch.optim.Optimizer): Optimizer for the PSF parameters.\n",
    "        sched_net  (torch.optim.lr_scheduler): LR scheduler for the network parameters.\n",
    "        sched_mic  (torch.optim.lr_scheduler): LR scheduler for the PSF parameters.\n",
    "        microscope (torch.nn.Module): Microscope class that transforms emitter locations into simulated images.\n",
    "        eval_dict  (dict, optional): Dictionary with evaluation parameters\n",
    "        \n",
    "    \"\"\" \n",
    "    \n",
    "    save_dir = Path(cfg.output.save_dir)\n",
    "    \n",
    "    if eval_dict is not None:\n",
    "        eval_img, eval_df, eval_psf = load_from_eval_dict(eval_dict)\n",
    "\n",
    "    model.cuda().train()\n",
    "    torch.save(microscope.psf.state_dict(), str(save_dir) + '/psf_init.pkl' )\n",
    "\n",
    "    for batch_idx in range(cfg.training.start_iter, cfg.training.num_iters):\n",
    "\n",
    "        x, local_rate, background = next(iter(dl))\n",
    "        \n",
    "        optim_dict['optim_net'].zero_grad()\n",
    "        \n",
    "        sim_vars = PointProcessUniform(local_rate, int_conc=model.int_dist.int_conc.detach(), int_rate=model.int_dist.int_rate.detach(), int_loc=model.int_dist.int_loc.detach(), sim_iters=5).sample()  \n",
    "        # sim_vars = locs_sl, x_os_sl, y_os_sl, z_os_sl, ints_sl, output_shape\n",
    "        xsim = microscope(*sim_vars)\n",
    "        xsim_noise = microscope.noise(xsim, background).sample()\n",
    "\n",
    "        out_sim = model.tensor_to_dict(model(xsim_noise))\n",
    "\n",
    "        count_prob, spatial_prob = PointProcessGaussian(**out_sim).log_prob(*sim_vars[:5])\n",
    "        gmm_loss = -(spatial_prob + cfg.training.net.cnt_loss_scale*count_prob).mean()\n",
    "        \n",
    "        background_loss = F.mse_loss(out_sim['background'], background) * cfg.training.net.bl_loss_scale\n",
    "\n",
    "        loss = gmm_loss + background_loss\n",
    "        \n",
    "        # Update network parameters\n",
    "        loss.backward()\n",
    "        \n",
    "#         if cfg.training.net.grad_clip: torch.nn.utils.clip_grad_norm_(model.unet.parameters(), max_norm=cfg.training.net.grad_clip, norm_type=2)\n",
    "        if cfg.training.net.grad_clip: torch.nn.utils.clip_grad_norm_(model.network.parameters(), max_norm=cfg.training.net.grad_clip, norm_type=2)\n",
    "\n",
    "        optim_dict['optim_net'].step()\n",
    "        optim_dict['sched_net'].step()\n",
    "        \n",
    "#         optim_dict['optim_net'].zero_grad()\n",
    "            \n",
    "        if batch_idx > min(cfg.training.start_mic,cfg.training.start_int):\n",
    "            \n",
    "            out_inp = model.tensor_to_dict(model(x))\n",
    "            proc_out_inp = post_proc.get_micro_inp(out_inp) # locations, x_os_3d, y_os_3d, z_os_3d, ints_3d, output_shape, comb_sig\n",
    "            \n",
    "            if cfg.training.mic.enabled and batch_idx > cfg.training.start_mic:\n",
    "                \n",
    "                optim_dict['optim_mic'].zero_grad()\n",
    "\n",
    "                # Get autoencoder loss\n",
    "                ae_img = microscope(*proc_out_inp[:6])\n",
    "                log_p_x_given_z = -microscope.noise(ae_img,out_inp['background']).log_prob(x).mean()\n",
    "                if cfg.training.mic.norm_reg:\n",
    "                    log_p_x_given_z += cfg.training.mic.norm_reg * (microscope.psf.com_loss())\n",
    "\n",
    "                log_p_x_given_z.backward()\n",
    "                if cfg.training.mic.grad_clip:\n",
    "                    torch.nn.utils.clip_grad_norm_(microscope.parameters(), max_norm=cfg.training.mic.grad_clip, norm_type=2)\n",
    "                \n",
    "                optim_dict['optim_mic'].step()\n",
    "                optim_dict['sched_mic'].step()\n",
    "            \n",
    "            if  cfg.training.int.enabled and batch_idx > cfg.training.start_int and len(proc_out_inp[4]):\n",
    "                \n",
    "                optim_dict['optim_int'].zero_grad()\n",
    "                ints = proc_out_inp[4]\n",
    "                ints = torch.clamp_min(ints, model.int_dist.int_loc.detach() + 0.01)\n",
    "\n",
    "                gamma_int = D.Gamma(model.int_dist.int_conc, model.int_dist.int_rate)\n",
    "                loc_trafo = [D.AffineTransform(loc=model.int_dist.int_loc, scale=1)]\n",
    "                int_loss = -D.TransformedDistribution(gamma_int, loc_trafo).log_prob(ints.detach()).mean()\n",
    "                \n",
    "                if cfg.training.int.grad_clip:\n",
    "                    torch.nn.utils.clip_grad_norm_(model.int_dist.parameters(), max_norm=cfg.training.mic.grad_clip, norm_type=2)\n",
    "                \n",
    "                int_loss.backward()\n",
    "                optim_dict['optim_int'].step()\n",
    "                optim_dict['sched_int'].step()\n",
    "\n",
    "        # Logging\n",
    "        if batch_idx % 10 == 0:\n",
    "            wandb.log({'SL Losses/gmm_loss': gmm_loss.detach().cpu()}, step=batch_idx)\n",
    "            wandb.log({'SL Losses/count_loss': (-count_prob.mean()).detach().cpu()}, step=batch_idx)\n",
    "            wandb.log({'SL Losses/bg_loss': background_loss.detach().cpu()}, step=batch_idx)\n",
    "            wandb.log({'AE Losses/int_mu': model.int_dist.int_conc.item()/model.int_dist.int_rate.item() + model.int_dist.int_loc.item()}, step=batch_idx)\n",
    "            wandb.log({'AE Losses/int_rate': model.int_dist.int_rate.item()}, step=batch_idx)\n",
    "            wandb.log({'AE Losses/int_loc': model.int_dist.int_loc.item()}, step=batch_idx)\n",
    "            wandb.log({'AE Losses/theta': microscope.noise.theta_par.item()*microscope.noise.theta_scale}, step=batch_idx)\n",
    "\n",
    "            if batch_idx > cfg.training.start_mic: \n",
    "                if cfg.training.mic.enabled:\n",
    "                    wandb.log({'AE Losses/p_x_given_z': log_p_x_given_z.detach().cpu()}, step=batch_idx)\n",
    "                    wandb.log({'AE Losses/RMSE(rec)': torch.sqrt(((x-(ae_img+out_inp['background']))**2).mean()).detach().cpu()}, step=batch_idx)\n",
    "                    wandb.log({'AE Losses/sum(psf)': F.relu(microscope.psf.psf_volume/microscope.psf.psf_volume.max())[0].sum().detach().cpu()}, step=batch_idx)\n",
    "#                     wandb.log({'AE Losses/theta': microscope.theta.item()}, step=batch_idx)\n",
    "        \n",
    "        if batch_idx % cfg.output.log_interval == 0:\n",
    "            print(batch_idx)\n",
    "            with torch.no_grad():\n",
    "                pred_df = post_proc.get_df(out_sim)\n",
    "                px_size = cfg.evaluation.px_size_zyx\n",
    "                target_df = sample_to_df(*sim_vars[:5], px_size_zyx=px_size)\n",
    "                eval_logger(pred_df, target_df, batch_idx, data_str='Sim. ')\n",
    "                \n",
    "                wandb.log({'Sim. Metrics/prob_fac': torch.sigmoid(out_sim['logits']).sum().item()/len(target_df)}, step=batch_idx)\n",
    "                wandb.log({'Sim. Metrics/n_em_fac': len(pred_df)/len(target_df)}, step=batch_idx)\n",
    "#                 wandb.log({'Prob hist': wandb.Image(plot_prob_hist(out_sim))}, step=batch_idx)\n",
    "\n",
    "                if cfg.output.log_figs:\n",
    "                    sl_fig = sl_plot(x, xsim_noise, nm_to_px(pred_df, px_size), nm_to_px(target_df, px_size), background, out_sim)\n",
    "                    plt.show()\n",
    "                    wandb.log({'SL summary': sl_fig}, step=batch_idx)\n",
    "\n",
    "                if eval_dict is not None:\n",
    "                    res_eval = model.tensor_to_dict(model(eval_img[None].cuda()))\n",
    "                    ae_img = microscope(*post_proc.get_micro_inp(res_eval)[:6])\n",
    "                    pred_eval_df = post_proc.get_df(res_eval)\n",
    "                    wandb.log({'AE Losses/N preds(eval)': len(pred_eval_df)}, step=batch_idx)\n",
    "                    \n",
    "                    if eval_df is not None:\n",
    "                        eval_logger(pred_eval_df, eval_df, batch_idx, data_str='Inp. ')\n",
    "                        \n",
    "                    if eval_psf is not None:\n",
    "                        wandb.log({'AE Losses/Corr(psf)': np.corrcoef(cpu(eval_psf).reshape(-1), cpu(microscope.psf.psf_volume).reshape(-1))[0,1]}, step=batch_idx)\n",
    "                        wandb.log({'AE Losses/RMSE(psf)': np.sqrt(np.mean((cpu(eval_psf/eval_psf.max())-cpu(microscope.psf.psf_volume/microscope.psf.psf_volume.max()))**2))}, step=batch_idx)\n",
    "        \n",
    "                    if cfg.output.log_figs:\n",
    "                        eval_fig = gt_plot(eval_img, nm_to_px(pred_eval_df, px_size), nm_to_px(eval_df, px_size), px_size,ae_img[0]+res_eval['background'][0], microscope.psf)\n",
    "                        plt.show()\n",
    "                        wandb.log({'GT': eval_fig}, step=batch_idx)\n",
    "\n",
    "            # storing\n",
    "            save_train_state(save_dir, model, microscope, optim_dict, batch_idx) \n",
    "            \n",
    "    wandb.finish()"
   ]
  },
  {
   "cell_type": "code",
   "execution_count": null,
   "metadata": {},
   "outputs": [],
   "source": [
    "cfg = OmegaConf.load('../config/experiment/CL_dlg1_f4_ch0.yaml')\n",
    "cfg.run_name = 'test'\n",
    "\n",
    "cfg.noise.theta = 150\n",
    "\n",
    "psf, noise, micro = load_psf_noise_micro(cfg)\n",
    "post_proc = hydra.utils.instantiate(cfg.post_proc_isi)"
   ]
  },
  {
   "cell_type": "code",
   "execution_count": null,
   "metadata": {},
   "outputs": [
    {
     "name": "stdout",
     "output_type": "stream",
     "text": [
      "Crop size larger than volume in at least one dimension. Crop size changed to (31, 48, 48)\n",
      "17 volumes\n"
     ]
    }
   ],
   "source": [
    "img_3d, decode_dl = get_dataloader(cfg)"
   ]
  },
  {
   "cell_type": "code",
   "execution_count": null,
   "metadata": {},
   "outputs": [
    {
     "data": {
      "text/plain": [
       "Microscope(\n",
       "  (psf): LinearInterpolatedPSF(\n",
       "    (forward_nonlin): Identity()\n",
       "  )\n",
       "  (noise): sCMOS()\n",
       ")"
      ]
     },
     "execution_count": null,
     "metadata": {},
     "output_type": "execute_result"
    }
   ],
   "source": [
    "inp_offset, inp_scale = get_forward_scaling(img_3d[0])\n",
    "model = hydra.utils.instantiate(cfg.model, inp_scale=float(inp_scale), inp_offset=float(inp_offset))\n",
    "\n",
    "psf  .to('cuda')\n",
    "model.to('cuda')\n",
    "micro.to('cuda')"
   ]
  },
  {
   "cell_type": "code",
   "execution_count": null,
   "metadata": {},
   "outputs": [],
   "source": [
    "optim_dict = {}\n",
    "optim_dict['optim_net'] = hydra.utils.instantiate(cfg.training.net.opt, params=model.parameters())\n",
    "optim_dict['optim_mic'] = hydra.utils.instantiate(cfg.training.mic.opt, params=micro.parameters())\n",
    "optim_dict['optim_int'] = hydra.utils.instantiate(cfg.training.int.opt, params=model.int_dist.parameters())\n",
    "\n",
    "optim_dict['sched_net'] = hydra.utils.instantiate(cfg.training.net.sched, optimizer=optim_dict['optim_net'])\n",
    "optim_dict['sched_mic'] = hydra.utils.instantiate(cfg.training.mic.sched, optimizer=optim_dict['optim_mic'])\n",
    "optim_dict['sched_int'] = hydra.utils.instantiate(cfg.training.int.sched, optimizer=optim_dict['optim_int'])\n",
    "\n",
    "if cfg.evaluation is not None:\n",
    "    eval_dict = dict(cfg.evaluation)\n",
    "    eval_dict['crop_sl'] = eval(eval_dict['crop_sl'],{'__builtins__': None},{'s_': np.s_})\n",
    "    eval_dict['px_size_zyx'] = list(eval_dict['px_size_zyx'])\n",
    "else:\n",
    "    eval_dict = None\n",
    "    \n",
    "save_dir = Path(cfg.output.save_dir)\n",
    "save_dir.mkdir(exist_ok=True, parents=True)"
   ]
  },
  {
   "cell_type": "code",
   "execution_count": null,
   "metadata": {},
   "outputs": [],
   "source": [
    "# Resume training from a previous checkpoint\n",
    "\n",
    "# cfg.data_path.model_init = cfg.output.save_dir\n",
    "if cfg.data_path.model_init is not None:\n",
    "    print('loading')\n",
    "    model = load_model_state(model, Path(cfg.data_path.model_init)/'model.pkl').cuda()\n",
    "    micro.load_state_dict(torch.load(Path(cfg.data_path.model_init)/'microscope.pkl'))\n",
    "    \n",
    "    train_state_dict = torch.load(Path(cfg.data_path.model_init)/'training_state.pkl')\n",
    "    for k in optim_dict:\n",
    "        optim_dict[k].load_state_dict(train_state_dict[k])\n",
    "        \n",
    "    cfg.training.start_iter = train_state_dict['train_iter']"
   ]
  },
  {
   "cell_type": "code",
   "execution_count": null,
   "metadata": {},
   "outputs": [],
   "source": [
    "# point_process = PointProcessUniform(local_rate = torch.ones([2,1,48,48,48]).cuda()*.0001, min_int = 0.5, sim_iters=5)\n",
    "# locs_3d, x_os_3d, y_os_3d, z_os_3d, ints_3d, output_shape = point_process.sample()"
   ]
  },
  {
   "cell_type": "code",
   "execution_count": null,
   "metadata": {},
   "outputs": [],
   "source": [
    "# xsim = micro(locs_3d, x_os_3d, y_os_3d, z_os_3d, ints_3d, output_shape)\n",
    "# plot_3d_projections(xsim[0,0])"
   ]
  },
  {
   "cell_type": "code",
   "execution_count": null,
   "metadata": {},
   "outputs": [
    {
     "name": "stderr",
     "output_type": "stream",
     "text": [
      "Failed to detect the name of this notebook, you can set it manually with the WANDB_NOTEBOOK_NAME environment variable to enable code saving.\n",
      "\u001b[34m\u001b[1mwandb\u001b[0m: Currently logged in as: \u001b[33maspeiser\u001b[0m (use `wandb login --relogin` to force relogin)\n",
      "\u001b[34m\u001b[1mwandb\u001b[0m: wandb version 0.10.32 is available!  To upgrade, please run:\n",
      "\u001b[34m\u001b[1mwandb\u001b[0m:  $ pip install wandb --upgrade\n"
     ]
    },
    {
     "data": {
      "text/html": [
       "\n",
       "                Tracking run with wandb version 0.10.30<br/>\n",
       "                Syncing run <strong style=\"color:#cdcd00\">test</strong> to <a href=\"https://wandb.ai\" target=\"_blank\">Weights & Biases</a> <a href=\"https://docs.wandb.com/integrations/jupyter.html\" target=\"_blank\">(Documentation)</a>.<br/>\n",
       "                Project page: <a href=\"https://wandb.ai/aspeiser/CL_dlg1\" target=\"_blank\">https://wandb.ai/aspeiser/CL_dlg1</a><br/>\n",
       "                Run page: <a href=\"https://wandb.ai/aspeiser/CL_dlg1/runs/2y917nuk\" target=\"_blank\">https://wandb.ai/aspeiser/CL_dlg1/runs/2y917nuk</a><br/>\n",
       "                Run data is saved locally in <code>/groups/turaga/home/speisera/Mackebox/Artur/WorkDB/deepstorm//decode_fish/runs/wandb/run-20210623_120044-2y917nuk</code><br/><br/>\n",
       "            "
      ],
      "text/plain": [
       "<IPython.core.display.HTML object>"
      ]
     },
     "metadata": {},
     "output_type": "display_data"
    }
   ],
   "source": [
    "_ = wandb.init(project=cfg.output.project, \n",
    "               config=OmegaConf.to_container(cfg, resolve=True),\n",
    "               dir=cfg.output.log_dir,\n",
    "               group=cfg.output.group,\n",
    "               name=cfg.run_name,\n",
    "               mode=cfg.output.wandb_mode\n",
    "          )"
   ]
  },
  {
   "cell_type": "code",
   "execution_count": null,
   "metadata": {},
   "outputs": [
    {
     "ename": "AttributeError",
     "evalue": "'sCMOS' object has no attribute 'theta'",
     "output_type": "error",
     "traceback": [
      "\u001b[0;31m---------------------------------------------------------------------------\u001b[0m",
      "\u001b[0;31mAttributeError\u001b[0m                            Traceback (most recent call last)",
      "\u001b[0;32m/tmp/ipykernel_22275/1156860225.py\u001b[0m in \u001b[0;36m<module>\u001b[0;34m\u001b[0m\n\u001b[0;32m----> 1\u001b[0;31m train(cfg=cfg,\n\u001b[0m\u001b[1;32m      2\u001b[0m      \u001b[0mmodel\u001b[0m\u001b[0;34m=\u001b[0m\u001b[0mmodel\u001b[0m\u001b[0;34m,\u001b[0m\u001b[0;34m\u001b[0m\u001b[0;34m\u001b[0m\u001b[0m\n\u001b[1;32m      3\u001b[0m      \u001b[0mmicroscope\u001b[0m\u001b[0;34m=\u001b[0m\u001b[0mmicro\u001b[0m\u001b[0;34m,\u001b[0m\u001b[0;34m\u001b[0m\u001b[0;34m\u001b[0m\u001b[0m\n\u001b[1;32m      4\u001b[0m      \u001b[0mpost_proc\u001b[0m\u001b[0;34m=\u001b[0m\u001b[0mpost_proc\u001b[0m\u001b[0;34m,\u001b[0m\u001b[0;34m\u001b[0m\u001b[0;34m\u001b[0m\u001b[0m\n\u001b[1;32m      5\u001b[0m      \u001b[0mdl\u001b[0m\u001b[0;34m=\u001b[0m\u001b[0mdecode_dl\u001b[0m\u001b[0;34m,\u001b[0m\u001b[0;34m\u001b[0m\u001b[0;34m\u001b[0m\u001b[0m\n",
      "\u001b[0;32m/tmp/ipykernel_22275/1835521028.py\u001b[0m in \u001b[0;36mtrain\u001b[0;34m(cfg, model, microscope, post_proc, dl, optim_dict, eval_dict)\u001b[0m\n\u001b[1;32m    110\u001b[0m             \u001b[0mwandb\u001b[0m\u001b[0;34m.\u001b[0m\u001b[0mlog\u001b[0m\u001b[0;34m(\u001b[0m\u001b[0;34m{\u001b[0m\u001b[0;34m'AE Losses/int_rate'\u001b[0m\u001b[0;34m:\u001b[0m \u001b[0mmodel\u001b[0m\u001b[0;34m.\u001b[0m\u001b[0mint_dist\u001b[0m\u001b[0;34m.\u001b[0m\u001b[0mint_rate\u001b[0m\u001b[0;34m.\u001b[0m\u001b[0mitem\u001b[0m\u001b[0;34m(\u001b[0m\u001b[0;34m)\u001b[0m\u001b[0;34m}\u001b[0m\u001b[0;34m,\u001b[0m \u001b[0mstep\u001b[0m\u001b[0;34m=\u001b[0m\u001b[0mbatch_idx\u001b[0m\u001b[0;34m)\u001b[0m\u001b[0;34m\u001b[0m\u001b[0;34m\u001b[0m\u001b[0m\n\u001b[1;32m    111\u001b[0m             \u001b[0mwandb\u001b[0m\u001b[0;34m.\u001b[0m\u001b[0mlog\u001b[0m\u001b[0;34m(\u001b[0m\u001b[0;34m{\u001b[0m\u001b[0;34m'AE Losses/int_loc'\u001b[0m\u001b[0;34m:\u001b[0m \u001b[0mmodel\u001b[0m\u001b[0;34m.\u001b[0m\u001b[0mint_dist\u001b[0m\u001b[0;34m.\u001b[0m\u001b[0mint_loc\u001b[0m\u001b[0;34m.\u001b[0m\u001b[0mitem\u001b[0m\u001b[0;34m(\u001b[0m\u001b[0;34m)\u001b[0m\u001b[0;34m}\u001b[0m\u001b[0;34m,\u001b[0m \u001b[0mstep\u001b[0m\u001b[0;34m=\u001b[0m\u001b[0mbatch_idx\u001b[0m\u001b[0;34m)\u001b[0m\u001b[0;34m\u001b[0m\u001b[0;34m\u001b[0m\u001b[0m\n\u001b[0;32m--> 112\u001b[0;31m             \u001b[0mwandb\u001b[0m\u001b[0;34m.\u001b[0m\u001b[0mlog\u001b[0m\u001b[0;34m(\u001b[0m\u001b[0;34m{\u001b[0m\u001b[0;34m'AE Losses/theta'\u001b[0m\u001b[0;34m:\u001b[0m \u001b[0mmicroscope\u001b[0m\u001b[0;34m.\u001b[0m\u001b[0mnoise\u001b[0m\u001b[0;34m.\u001b[0m\u001b[0mtheta\u001b[0m\u001b[0;34m.\u001b[0m\u001b[0mitem\u001b[0m\u001b[0;34m(\u001b[0m\u001b[0;34m)\u001b[0m\u001b[0;34m}\u001b[0m\u001b[0;34m,\u001b[0m \u001b[0mstep\u001b[0m\u001b[0;34m=\u001b[0m\u001b[0mbatch_idx\u001b[0m\u001b[0;34m)\u001b[0m\u001b[0;34m\u001b[0m\u001b[0;34m\u001b[0m\u001b[0m\n\u001b[0m\u001b[1;32m    113\u001b[0m \u001b[0;34m\u001b[0m\u001b[0m\n\u001b[1;32m    114\u001b[0m             \u001b[0;32mif\u001b[0m \u001b[0mbatch_idx\u001b[0m \u001b[0;34m>\u001b[0m \u001b[0mcfg\u001b[0m\u001b[0;34m.\u001b[0m\u001b[0mtraining\u001b[0m\u001b[0;34m.\u001b[0m\u001b[0mstart_mic\u001b[0m\u001b[0;34m:\u001b[0m\u001b[0;34m\u001b[0m\u001b[0;34m\u001b[0m\u001b[0m\n",
      "\u001b[0;32m~/anaconda3/envs/decode_fish_dev/lib/python3.9/site-packages/torch/nn/modules/module.py\u001b[0m in \u001b[0;36m__getattr__\u001b[0;34m(self, name)\u001b[0m\n\u001b[1;32m    945\u001b[0m             \u001b[0;32mif\u001b[0m \u001b[0mname\u001b[0m \u001b[0;32min\u001b[0m \u001b[0mmodules\u001b[0m\u001b[0;34m:\u001b[0m\u001b[0;34m\u001b[0m\u001b[0;34m\u001b[0m\u001b[0m\n\u001b[1;32m    946\u001b[0m                 \u001b[0;32mreturn\u001b[0m \u001b[0mmodules\u001b[0m\u001b[0;34m[\u001b[0m\u001b[0mname\u001b[0m\u001b[0;34m]\u001b[0m\u001b[0;34m\u001b[0m\u001b[0;34m\u001b[0m\u001b[0m\n\u001b[0;32m--> 947\u001b[0;31m         raise AttributeError(\"'{}' object has no attribute '{}'\".format(\n\u001b[0m\u001b[1;32m    948\u001b[0m             type(self).__name__, name))\n\u001b[1;32m    949\u001b[0m \u001b[0;34m\u001b[0m\u001b[0m\n",
      "\u001b[0;31mAttributeError\u001b[0m: 'sCMOS' object has no attribute 'theta'"
     ]
    }
   ],
   "source": [
    "train(cfg=cfg,\n",
    "     model=model, \n",
    "     microscope=micro, \n",
    "     post_proc=post_proc,\n",
    "     dl=decode_dl, \n",
    "     optim_dict=optim_dict, \n",
    "     eval_dict=eval_dict)"
   ]
  },
  {
   "cell_type": "code",
   "execution_count": null,
   "metadata": {},
   "outputs": [
    {
     "name": "stdout",
     "output_type": "stream",
     "text": [
      "Converted 00_models.ipynb.\n",
      "Converted 01_psf.ipynb.\n",
      "Converted 02_microscope.ipynb.\n",
      "Converted 03_noise.ipynb.\n",
      "Converted 04_pointsource.ipynb.\n",
      "Converted 05_gmm_loss.ipynb.\n",
      "Converted 06_plotting.ipynb.\n",
      "Converted 07_file_io.ipynb.\n",
      "Converted 08_dataset.ipynb.\n",
      "Converted 09_output_trafo.ipynb.\n",
      "Converted 10_evaluation.ipynb.\n",
      "Converted 11_emitter_io.ipynb.\n",
      "Converted 12_utils.ipynb.\n",
      "Converted 13_train.ipynb.\n",
      "Converted 15_fit_psf.ipynb.\n",
      "Converted 16_visualization.ipynb.\n",
      "Converted 17_eval_routines.ipynb.\n",
      "Converted 18_predict_funcs.ipynb.\n",
      "Converted index.ipynb.\n"
     ]
    }
   ],
   "source": [
    "!nbdev_build_lib"
   ]
  },
  {
   "cell_type": "code",
   "execution_count": null,
   "metadata": {},
   "outputs": [],
   "source": []
  }
 ],
 "metadata": {
  "kernelspec": {
   "display_name": "Python [conda env:decode_fish_dev]",
   "language": "python",
   "name": "conda-env-decode_fish_dev-py"
  }
 },
 "nbformat": 4,
 "nbformat_minor": 4
}
