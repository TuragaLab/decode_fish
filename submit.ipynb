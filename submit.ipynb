{
 "cells": [
  {
   "cell_type": "code",
   "execution_count": 243,
   "metadata": {
    "ExecuteTime": {
     "end_time": "2021-08-30T14:51:06.561953Z",
     "start_time": "2021-08-30T14:51:06.543319Z"
    }
   },
   "outputs": [],
   "source": [
    "from pathlib import Path\n",
    "from decode_fish.funcs.utils import *\n",
    "import glob\n",
    "\n",
    "base_string = f'bsub -gpu \"num=1\" -q gpu_any -o logs/ofish.log -e logs/efish.log /groups/turaga/home/speisera/anaconda3/envs/decode_fish_dev/bin/python /groups/turaga/home/speisera/Mackebox/Artur/WorkDB/deepstorm/decode_fish/decode_fish/train.py'   \n",
    "\n",
    "def make_sweep_str(pfile, pars, group):\n",
    "    \n",
    "    base_str = base_string + f' +experiment={pfile}'\n",
    "    name = ''\n",
    "    \n",
    "    for k in pars:\n",
    "        if k!= 'run_name':\n",
    "            base_str += ' ' + k + f'={pars[k]}'\n",
    "            name += k.split('.')[-1]+f':{pars[k]}x'\n",
    "            name = name.replace('[', '')\n",
    "            name = name.replace(']', '')\n",
    "            name = name.replace(',', 'x')\n",
    "    name = name[:-1]\n",
    "    \n",
    "    if 'run_name' in pars:\n",
    "        name=pars['run_name']\n",
    "    \n",
    "    return base_str + f' run_name={name} output.group={group}' + '\\n'\n",
    "    \n",
    "\n",
    "def make_named_str(pfile, name, group):\n",
    "    \n",
    "    base_str = base_string + f' +experiment={pfile}'\n",
    "    \n",
    "    return base_str + f' run_name={name} output.group={group}' + '\\n'"
   ]
  },
  {
   "cell_type": "code",
   "execution_count": 238,
   "metadata": {
    "ExecuteTime": {
     "end_time": "2021-08-30T14:49:22.419113Z",
     "start_time": "2021-08-30T14:49:22.412600Z"
    }
   },
   "outputs": [],
   "source": [
    "group = 'sweep_m3'\n",
    "pfile = 'Dlg1_m3'\n",
    "\n",
    "variable_col = param_iter()\n",
    "variable_col.add('noise.theta', 29.41*1.5)\n",
    "variable_col.add('bg_estimation.fractal.scale', 2000, 3000)\n",
    "variable_col.add('bg_estimation.fractal.persistence', 0.5,0.75)\n",
    "variable_col.add('prob_generator.high', 0.0003, 0.00015)\n",
    "par_prod = variable_col.param_product()"
   ]
  },
  {
   "cell_type": "code",
   "execution_count": 207,
   "metadata": {
    "ExecuteTime": {
     "end_time": "2021-08-29T16:08:17.099094Z",
     "start_time": "2021-08-29T16:08:17.090373Z"
    }
   },
   "outputs": [],
   "source": [
    "group = 'sweep_bg_1a'\n",
    "pfile = 'MERFISH_starfish_ch0_f5'\n",
    "\n",
    "variable_col = param_iter()\n",
    "variable_col.add('bg_estimation.fractal.scale', 0)\n",
    "variable_col.add('bg_estimation.smoothing.smoothing_filter_size', 7,9)\n",
    "par_prod = variable_col.param_product()"
   ]
  },
  {
   "cell_type": "code",
   "execution_count": 208,
   "metadata": {
    "ExecuteTime": {
     "end_time": "2021-08-29T16:08:17.243906Z",
     "start_time": "2021-08-29T16:08:17.239852Z"
    }
   },
   "outputs": [],
   "source": [
    "# group = 'sweep_ctx_4'\n",
    "# pfile = 'MERFISH_starfish_c2'\n",
    "\n",
    "# variable_col = param_iter()\n",
    "# variable_col.add('microscope.norm','none', 'max')\n",
    "# par_prod = variable_col.param_product()"
   ]
  },
  {
   "cell_type": "code",
   "execution_count": 127,
   "metadata": {
    "ExecuteTime": {
     "end_time": "2021-08-24T16:59:14.895418Z",
     "start_time": "2021-08-24T16:59:14.884857Z"
    }
   },
   "outputs": [
    {
     "data": {
      "text/plain": [
       "'/groups/turaga/home/speisera/Mackebox/Artur/WorkDB/deepstorm/models/fishcod/MERFISH_starfish/sweep_ae_1/*'"
      ]
     },
     "execution_count": 127,
     "metadata": {},
     "output_type": "execute_result"
    }
   ],
   "source": [
    "f'/groups/turaga/home/speisera/Mackebox/Artur/WorkDB/deepstorm/models/fishcod/MERFISH_starfish/{sweep}/*'"
   ]
  },
  {
   "cell_type": "code",
   "execution_count": 294,
   "metadata": {
    "ExecuteTime": {
     "end_time": "2021-08-31T11:44:50.151719Z",
     "start_time": "2021-08-31T11:44:50.140933Z"
    }
   },
   "outputs": [],
   "source": [
    "group = 'sweep_sl_9a'\n",
    "pfile = 'MERFISH_ci_2d_sl9'\n",
    "\n",
    "variable_col = param_iter()\n",
    "\n",
    "variable_col.add('run_name','add_lmp2')\n",
    "variable_col.add('seed',1) \n",
    "variable_col.add('training.bs',5)\n",
    "variable_col.add('training.net.opt.lr',2e-4)\n",
    "par_prod = variable_col.param_product()"
   ]
  },
  {
   "cell_type": "code",
   "execution_count": 295,
   "metadata": {
    "ExecuteTime": {
     "end_time": "2021-08-31T11:44:50.533270Z",
     "start_time": "2021-08-31T11:44:50.520122Z"
    },
    "scrolled": false
   },
   "outputs": [
    {
     "name": "stdout",
     "output_type": "stream",
     "text": [
      "bsub -gpu \"num=1\" -q gpu_any -o logs/ofish.log -e logs/efish.log /groups/turaga/home/speisera/anaconda3/envs/decode_fish_dev/bin/python /groups/turaga/home/speisera/Mackebox/Artur/WorkDB/deepstorm/decode_fish/decode_fish/train.py +experiment=MERFISH_ci_2d_sl9 seed=1 training.bs=5 training.net.opt.lr=0.0002 run_name=add_lmp2 output.group=sweep_sl_9a\n",
      "\n"
     ]
    }
   ],
   "source": [
    "# Path.mkdir(model_path/group, exist_ok=True)\n",
    "\n",
    "with open('run_slurm.sh', 'w') as f:\n",
    "    for pars in par_prod:  \n",
    "        exec_str = make_sweep_str(pfile, pars, group)\n",
    "        print(exec_str)\n",
    "        f.write(exec_str)"
   ]
  },
  {
   "cell_type": "code",
   "execution_count": 250,
   "metadata": {
    "ExecuteTime": {
     "end_time": "2021-08-30T15:25:12.884607Z",
     "start_time": "2021-08-30T15:25:12.879306Z"
    }
   },
   "outputs": [],
   "source": [
    "# sweep = 'sweep_sl_8'\n",
    "\n",
    "# dirs = glob.glob(f'/groups/turaga/home/speisera/Mackebox/Artur/WorkDB/deepstorm/models/fishcod/MERFISH_starfish/{sweep}/*')\n",
    "# with open('run_slurm.sh', 'w') as f:\n",
    "#     for d in dirs:\n",
    "#         name = d.split('/')[-1]\n",
    "#         exec_str = f'bsub -gpu \"num=1\" -q gpu_any -o logs/ofish.log -e logs/efish.log /groups/turaga/home/speisera/anaconda3/envs/decode_fish_dev/bin/python /groups/turaga/home/speisera/Mackebox/Artur/WorkDB/deepstorm/decode_fish/decode_fish/merfish_eval.py run_name={name} sweep_name={sweep}'  + '\\n'\n",
    "#         print(exec_str)\n",
    "#         f.write(exec_str)"
   ]
  },
  {
   "cell_type": "code",
   "execution_count": 120,
   "metadata": {
    "ExecuteTime": {
     "end_time": "2021-08-24T16:00:47.042928Z",
     "start_time": "2021-08-24T16:00:47.034161Z"
    }
   },
   "outputs": [],
   "source": [
    "group = 'sep_models_ch0_3'\n",
    "pfile = 'CL_dlg1_ch0_f1'\n",
    "\n",
    "variable_col = param_iter()\n",
    "variable_col.add('data_path.image_path', \n",
    "                 '/groups/turaga/home/speisera/Mackebox/Artur/WorkDB/deepstorm/datasets/CodFish/raw_data_for_codetection/*p1*.tiff',\n",
    "                 '/groups/turaga/home/speisera/Mackebox/Artur/WorkDB/deepstorm/datasets/CodFish/raw_data_for_codetection/*p2*.tiff',\n",
    "                 '/groups/turaga/home/speisera/Mackebox/Artur/WorkDB/deepstorm/datasets/CodFish/raw_data_for_codetection/*p3*.tiff')\n",
    "\n",
    "par_prod = variable_col.param_product()"
   ]
  },
  {
   "cell_type": "code",
   "execution_count": 40,
   "metadata": {
    "ExecuteTime": {
     "end_time": "2021-06-24T15:56:12.376608Z",
     "start_time": "2021-06-24T15:56:12.368608Z"
    }
   },
   "outputs": [],
   "source": [
    "group = 'sweep_fig9'\n",
    "pfile = 'fig_sim_m9'\n",
    "\n",
    "variable_col = param_iter()\n",
    "variable_col.add('training.mic.enabled', True, False)\n",
    "variable_col.add('training.int.enabled', True, False)\n",
    "\n",
    "par_prod = variable_col.param_product()"
   ]
  },
  {
   "cell_type": "code",
   "execution_count": 93,
   "metadata": {
    "ExecuteTime": {
     "end_time": "2021-06-26T21:14:41.708086Z",
     "start_time": "2021-06-26T21:14:41.701413Z"
    }
   },
   "outputs": [],
   "source": [
    "group = 'sweep_psf2'\n",
    "pfile = 'N2_352_f1'\n",
    "\n",
    "variable_col = param_iter()\n",
    "variable_col.add('microscope.psf_noise', 0.1, 0.2)\n",
    "variable_col.add('microscope.double_random', True, False)\n",
    "variable_col.add('model.f_maps', 32, 42)\n",
    "\n",
    "par_prod = variable_col.param_product()"
   ]
  },
  {
   "cell_type": "code",
   "execution_count": 36,
   "metadata": {
    "ExecuteTime": {
     "end_time": "2021-06-24T15:25:38.792723Z",
     "start_time": "2021-06-24T15:25:38.783971Z"
    }
   },
   "outputs": [],
   "source": [
    "from decode_fish.imports import *"
   ]
  },
  {
   "cell_type": "markdown",
   "metadata": {},
   "source": [
    "psfn_3: psf_noise = 0.5\n",
    "psfn_4: psf_noise = 0.75\n",
    "psfn_5: psf_noise = 1.\n",
    "psfn_6: psf_noise = 1. double random\n",
    "psfn_7: psf_noise = 2. double random\n",
    "psfn_8: psf_noise = 3. double random"
   ]
  },
  {
   "cell_type": "code",
   "execution_count": 88,
   "metadata": {
    "ExecuteTime": {
     "end_time": "2021-06-26T16:22:55.115382Z",
     "start_time": "2021-06-26T16:22:55.059563Z"
    }
   },
   "outputs": [
    {
     "name": "stdout",
     "output_type": "stream",
     "text": [
      "bsub -gpu \"num=1\" -q gpu_any -o logs/ofish.log -e logs/efish.log /groups/turaga/home/speisera/anaconda3/envs/decode2_dev/bin/python /groups/turaga/home/speisera/Mackebox/Artur/WorkDB/deepstorm/decode_fish/decode_fish/train.py +experiment=CL_dlg1_ch1_f1  run_name=CL_dlg1_ch1_f1_psfn_5 noise.theta=75.0 microscope.psf_noise=0.1\n",
      "\n"
     ]
    }
   ],
   "source": [
    "exps = ['msp300', 'N2_352', 'rab11', 'scrib', 'sgg', 'Dlg1', 'CL_dlg1_ch0', 'CL_dlg1_ch1']\n",
    "exps = ['CL_dlg1_ch1']\n",
    "ver = 'f1'\n",
    "name = 'f1_psfn_5'\n",
    "\n",
    "with open('run_slurm.sh', 'w') as f:\n",
    "    for exp in exps:  \n",
    "        cfg = OmegaConf.load(f'config/experiment/{exp}_{ver}.yaml')\n",
    "#         exec_str = base_string + f' +experiment={exp}_{ver}  run_name={exp}_{name}' + '\\n'\n",
    "        exec_str = base_string + f' +experiment={exp}_{ver}  run_name={exp}_{name} noise.theta={cfg.noise.theta*1.5} microscope.psf_noise=0.1' + '\\n'\n",
    "        print(exec_str)\n",
    "        f.write(exec_str)"
   ]
  },
  {
   "cell_type": "code",
   "execution_count": null,
   "metadata": {},
   "outputs": [],
   "source": [
    "# bsub -gpu \"num=1\" -q gpu_any -o logs/ofish.log -e logs/efish.log /groups/turaga/home/speisera/anaconda3/envs/decode2_dev/bin/python /groups/turaga/home/speisera/Mackebox/Artur/WorkDB/deepstorm/decode_fish/decode_fish/sim_eval.py sweep_name=fig7"
   ]
  },
  {
   "cell_type": "code",
   "execution_count": null,
   "metadata": {},
   "outputs": [],
   "source": [
    "exps = ['msp300', 'N2_352', 'rab11', 'scrib', 'sgg', 'Dlg1']\n",
    "# exps = [ 'scrib', 'Dlg1']\n",
    "ver = 'f1'\n",
    "name = 'f1_none'"
   ]
  },
  {
   "cell_type": "code",
   "execution_count": null,
   "metadata": {},
   "outputs": [],
   "source": []
  }
 ],
 "metadata": {
  "kernelspec": {
   "display_name": "Python [conda env:decode2_dev]",
   "language": "python",
   "name": "conda-env-decode2_dev-py"
  },
  "language_info": {
   "codemirror_mode": {
    "name": "ipython",
    "version": 3
   },
   "file_extension": ".py",
   "mimetype": "text/x-python",
   "name": "python",
   "nbconvert_exporter": "python",
   "pygments_lexer": "ipython3",
   "version": "3.7.7"
  }
 },
 "nbformat": 4,
 "nbformat_minor": 4
}
