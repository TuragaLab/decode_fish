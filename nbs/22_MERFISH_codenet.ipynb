{
 "cells": [
  {
   "cell_type": "code",
   "execution_count": null,
   "id": "otherwise-vaccine",
   "metadata": {},
   "outputs": [],
   "source": [
    "# default_exp funcs.merfish_codenet"
   ]
  },
  {
   "cell_type": "code",
   "execution_count": null,
   "id": "designing-tournament",
   "metadata": {},
   "outputs": [],
   "source": [
    "%load_ext autoreload\n",
    "%autoreload 2\n",
    "%aimport -decode_fish.engine.place_psfs"
   ]
  },
  {
   "cell_type": "code",
   "execution_count": null,
   "id": "radio-criminal",
   "metadata": {},
   "outputs": [],
   "source": [
    "# export\n",
    "from decode_fish.imports import *\n",
    "from decode_fish.funcs.file_io import *\n",
    "from decode_fish.funcs.emitter_io import *\n",
    "from decode_fish.funcs.utils import *\n",
    "from decode_fish.funcs.dataset import *\n",
    "from decode_fish.funcs.plotting import *\n",
    "from decode_fish.engine.noise import estimate_noise_scale\n",
    "import shutil\n",
    "from decode_fish.funcs.visualization import *\n",
    "import torch.nn as nn\n",
    "import torch.nn.functional as F\n",
    "from decode_fish.funcs.predict import *\n",
    "\n",
    "from omegaconf import open_dict\n",
    "from hydra import compose, initialize\n",
    "from decode_fish.funcs.merfish_eval import *\n",
    "\n",
    "from decode_fish.engine.point_process import *\n",
    "from decode_fish.funcs.output_trafo import *\n",
    "from decode_fish.funcs.matching import *\n",
    "from decode_fish.engine.gmm_loss import *\n",
    "from decode_fish.engine.microscope import add_pos_noise\n",
    "from sklearn.utils import resample\n",
    "import wandb"
   ]
  },
  {
   "cell_type": "code",
   "execution_count": null,
   "id": "awful-assembly",
   "metadata": {},
   "outputs": [],
   "source": [
    "import os\n",
    "os.environ[\"CUDA_VISIBLE_DEVICES\"] = '1'"
   ]
  },
  {
   "cell_type": "code",
   "execution_count": null,
   "id": "naughty-england",
   "metadata": {},
   "outputs": [],
   "source": [
    "# cfg = OmegaConf.load(f'/groups/turaga/home/speisera/Mackebox/Artur/WorkDB/deepstorm/models/fishcod/MERFISH_starfish/MERFISH_sweep_gen_9/z_facs:Falsexnorm:none//train.yaml')\n",
    "cfg = OmegaConf.load('/groups/turaga/home/speisera/Mackebox/Artur/WorkDB/deepstorm/models/fishcod/MERFISH_MOp/sweep_mop_35/image_path:scaled4_images47//train.yaml')"
   ]
  },
  {
   "cell_type": "code",
   "execution_count": null,
   "id": "manufactured-youth",
   "metadata": {},
   "outputs": [],
   "source": [
    "from decode_fish.funcs.exp_specific import *\n",
    "codebook, targets = hydra.utils.instantiate(cfg.codebook)"
   ]
  },
  {
   "cell_type": "code",
   "execution_count": null,
   "id": "desirable-division",
   "metadata": {},
   "outputs": [],
   "source": [
    "# test_csv = pd.read_csv('/groups/turaga/home/speisera/Mackebox/Artur/WorkDB/deepstorm/decode_fish/data/qual_nets/starfish_test.csv')\n",
    "test_csv = pd.read_csv('/groups/turaga/home/speisera/Mackebox/Artur/WorkDB/deepstorm/decode_fish/data/qual_nets/mop_47_test.csv')\n",
    "# test_csv['int_ratio'] = zero_int_ch(test_csv, codebook)['int_ratio']"
   ]
  },
  {
   "cell_type": "code",
   "execution_count": null,
   "id": "voluntary-routine",
   "metadata": {},
   "outputs": [
    {
     "name": "stderr",
     "output_type": "stream",
     "text": [
      "/groups/turaga/home/speisera/Dropbox (mackelab)/Artur/WorkDB/deepstorm/decode_fish/decode_fish/engine/psf.py:26: UserWarning: To copy construct from a tensor, it is recommended to use sourceTensor.clone().detach() or sourceTensor.clone().detach().requires_grad_(True), rather than torch.tensor(sourceTensor).\n",
      "  psf_vol = torch.tensor(psf_vol, dtype=torch.float32).to(device)\n"
     ]
    },
    {
     "name": "stdout",
     "output_type": "stream",
     "text": [
      "Crop size larger than volume in at least one dimension. Crop size changed to (1, 56, 56)\n",
      "7 volumes\n"
     ]
    },
    {
     "name": "stderr",
     "output_type": "stream",
     "text": [
      "/groups/turaga/home/speisera/anaconda3/envs/decode_fish_dev2/lib/python3.8/site-packages/torch/functional.py:568: UserWarning: torch.meshgrid: in an upcoming release, it will be required to pass the indexing argument. (Triggered internally at  ../aten/src/ATen/native/TensorShape.cpp:2228.)\n",
      "  return _VF.meshgrid(tensors, **kwargs)  # type: ignore[attr-defined]\n"
     ]
    }
   ],
   "source": [
    "cfg.genm.foci.n_foci_avg = 0\n",
    "cfg.training.bs = 20\n",
    "model, post_proc, micro, img_3d, decode_dl = load_all(cfg)"
   ]
  },
  {
   "cell_type": "code",
   "execution_count": null,
   "id": "fitting-criterion",
   "metadata": {},
   "outputs": [],
   "source": [
    "post_proc.codebook = expand_codebook(codebook)"
   ]
  },
  {
   "cell_type": "code",
   "execution_count": null,
   "id": "certified-exception",
   "metadata": {},
   "outputs": [],
   "source": [
    "# export\n",
    "class code_net(nn.Module):\n",
    "\n",
    "    def __init__(self, n_inputs=9, n_outputs=1):\n",
    "        super(code_net, self).__init__()\n",
    "        \n",
    "        self.layers = nn.Sequential(\n",
    "          nn.Linear(n_inputs, 256),\n",
    "          nn.ReLU(),\n",
    "          nn.Linear(256, 128),\n",
    "          nn.ReLU(),\n",
    "          nn.Linear(128, 64),\n",
    "          nn.ReLU(),\n",
    "          nn.Linear(64, 32),\n",
    "          nn.ReLU(),\n",
    "          nn.Linear(32, n_outputs)\n",
    "        )\n",
    "        \n",
    "    def forward(self, x):\n",
    "        \n",
    "        return self.layers(x)\n",
    "    \n",
    "class conv_net(nn.Module):\n",
    "\n",
    "    def __init__(self, n_metrics=5, n_chs=16, bn=False):\n",
    "        super(conv_net, self).__init__()\n",
    "    \n",
    "        self.n_chs = n_chs\n",
    "        self.n_metrics = n_metrics\n",
    "\n",
    "        self.int_c1 = nn.Linear(3, 10).cuda()\n",
    "        self.int_c2 = nn.Linear(10, 10).cuda()\n",
    "        self.int_c3 = nn.Linear(10, 1).cuda()\n",
    "        \n",
    "        if bn:\n",
    "            self.layers = nn.Sequential(\n",
    "              nn.Linear(self.n_metrics + self.n_chs, 256),\n",
    "              nn.BatchNorm1d(256),\n",
    "              nn.ReLU(),\n",
    "              nn.Linear(256, 128),\n",
    "              nn.BatchNorm1d(128),\n",
    "              nn.ReLU(),\n",
    "              nn.Linear(128, 64),\n",
    "              nn.BatchNorm1d(64),\n",
    "              nn.ReLU(),\n",
    "              nn.Linear(64, 32),\n",
    "              nn.BatchNorm1d(32),\n",
    "              nn.ReLU(),\n",
    "              nn.Linear(32, 1)\n",
    "            )\n",
    "        else:\n",
    "            self.layers = nn.Sequential(\n",
    "              nn.Linear(self.n_metrics + self.n_chs, 256),\n",
    "              nn.ReLU(),\n",
    "              nn.Linear(256, 128),\n",
    "              nn.ReLU(),\n",
    "              nn.Linear(128, 64),\n",
    "              nn.ReLU(),\n",
    "              nn.Linear(64, 32),\n",
    "              nn.ReLU(),\n",
    "              nn.Linear(32, 1)\n",
    "            )            \n",
    "        \n",
    "    def forward(self, x):\n",
    "        \n",
    "        intm_ints_bin = x[:, -3*self.n_chs:].reshape(-1, 3, self.n_chs).permute(0,2,1)\n",
    "        f_int = F.relu(self.int_c1(intm_ints_bin))\n",
    "        f_int = F.relu(self.int_c2(f_int))\n",
    "        f_int = F.relu(self.int_c3(f_int)[:,:,0])\n",
    "        \n",
    "        dense_inp = torch.cat([x[:, :self.n_metrics], f_int], 1)\n",
    "        return self.layers(dense_inp)   \n",
    "\n",
    "# net = code_net().cuda()\n",
    "net = conv_net(6, 16).cuda()\n",
    "\n",
    "def input_from_df(df, codebook):\n",
    "          \n",
    "    n_ch = len(codebook[0])\n",
    "    input_keys = ['prob', 'z', 'x_sig','y_sig','z_sig','int_ratio'] + [f'int_sig_{i}' for i in range(n_ch)]  + [f'int_{i}' for i in range(n_ch)]\n",
    "    offsets = [0.75, 50, 20., 20., 15.,2.] + n_ch*[1.] + n_ch*[0.]\n",
    "    scales = [1., 100., 20., 20., 15.,2.] + n_ch*[2.] + n_ch*[5.]\n",
    "    inp_arr = df[input_keys].values\n",
    "    inp_arr = (inp_arr - np.array(offsets))/np.array(scales)\n",
    "    \n",
    "    inp_arr = np.concatenate([inp_arr, codebook[df['code_inds'].values]], 1)\n",
    "    \n",
    "    return torch.tensor(inp_arr, dtype=torch.float32).cuda()\n",
    "\n",
    "# def input_from_df(df, codebook):\n",
    "          \n",
    "#     n_ch = len(codebook[0])\n",
    "#     input_keys = ['prob', 'z', 'x_sig','y_sig','z_sig','int_ratio','tot_int','tot_int_0bit','tot_int_sig'] \n",
    "#     offsets = [0.75, 50, 20., 20., 15.,2.,10.,10.,5.]\n",
    "#     scales = [1., 100., 20., 20., 15.,2.,10.,10.,5.]\n",
    "#     inp_arr = df[input_keys].values\n",
    "#     inp_arr = (inp_arr - np.array(offsets))/np.array(scales)\n",
    "    \n",
    "#     return torch.tensor(inp_arr, dtype=torch.float32).cuda()"
   ]
  },
  {
   "cell_type": "code",
   "execution_count": null,
   "id": "latin-index",
   "metadata": {},
   "outputs": [],
   "source": [
    "# export\n",
    "def train_metric_net(net, model, decode_dl, post_proc, micro, point_process, cfg):\n",
    "\n",
    "    bce = torch.nn.BCEWithLogitsLoss(pos_weight=torch.tensor([cfg.pos_weight]).cuda())\n",
    "    opt = torch.optim.AdamW(net.parameters(), lr = 4e-3)\n",
    "    sched = torch.optim.lr_scheduler.StepLR(opt, step_size=100, gamma=0.5)\n",
    "    test_csv = pd.read_csv(cfg.test_csv)\n",
    "    codebook, targets = hydra.utils.instantiate(cfg.codebook)\n",
    "    model.cuda()\n",
    "    test_csv['int_ratio'] = sel_int_ch(test_csv, codebook)['int_ratio']\n",
    "    \n",
    "    ignores = [int(a) for a in str(cfg.ignore)]\n",
    "    zero_out = torch.ones(9).cuda()\n",
    "    zero_out[ignores] = 0\n",
    "    \n",
    "    for i in tqdm(range(cfg.num_iters)):\n",
    "\n",
    "        with torch.no_grad():\n",
    "\n",
    "            ret_dict = next(iter(decode_dl))\n",
    "            x, local_rate, background = ret_dict['x'], ret_dict['local_rate'], ret_dict['background'],\n",
    "            zcrop, ycrop, xcrop = ret_dict['crop_z'], ret_dict['crop_y'], ret_dict['crop_x']\n",
    "            background = background * micro.get_ch_mult()\n",
    "            if cfg.sim.bg_estimation.shuffle_ch:\n",
    "                background = background.index_select(1, torch.randperm(background.shape[1]).cuda())\n",
    "\n",
    "            if cfg.genm.microscope.col_shifts_enabled  :\n",
    "                zcrop, ycrop, xcrop = ret_dict['crop_z'], ret_dict['crop_y'], ret_dict['crop_x']\n",
    "                zcrop, ycrop, xcrop = zcrop.flatten(), ycrop.flatten(), xcrop.flatten()\n",
    "                colshift_crop = get_color_shift_inp(micro.color_shifts, micro.col_shifts_yx, ycrop, xcrop, cfg.sim.random_crop.crop_sz)\n",
    "            else:\n",
    "                zcrop, ycrop, xcrop, colshift_crop = None, None, None, None\n",
    "\n",
    "            local_rate *= cfg.rate_fac\n",
    "            sim_vars = point_process.sample(local_rate[:,0])\n",
    "\n",
    "            ch_inp = list(micro.get_single_ch_inputs(*sim_vars[:-1], ycrop=ycrop, xcrop=xcrop))\n",
    "            cond = sim_vars[-1] < len(codebook)\n",
    "            cb_cool = torch.repeat_interleave(cond, cond * (cfg.genm.exp_type.n_bits - 1) + 1)\n",
    "            ch_inp[1][cb_cool], ch_inp[2][cb_cool], ch_inp[3][cb_cool] = add_pos_noise([ch_inp[1][cb_cool], ch_inp[2][cb_cool], ch_inp[3][cb_cool]],\n",
    "                                                                                       [cfg.genm.pos_noise.pos_noise_xy, cfg.genm.pos_noise.pos_noise_xy, cfg.genm.pos_noise.pos_noise_z], cfg.genm.exp_type.n_bits)\n",
    "            xsim = micro(*ch_inp, add_noise=True)\n",
    "\n",
    "            if cfg.genm.phasing:\n",
    "\n",
    "                phasing_inp = list(micro.get_single_ch_inputs(*sim_vars[:4], get_phased_ints(sim_vars[4], micro.ch_cols, micro.psf.n_cols) ,sim_vars[5], ycrop=ycrop, xcrop=xcrop))\n",
    "                phasing_inp[1:4] = add_pos_noise(phasing_inp[1:4], [cfg.genm.pos_noise.pos_noise_xy, cfg.genm.pos_noise.pos_noise_xy, cfg.genm.pos_noise.pos_noise_z], cfg.genm.exp_type.n_bits, rm_mean=False)\n",
    "                xsim += micro(*phasing_inp, add_noise=True) * cfg.genm.phasing * torch.rand(xsim.shape, device=xsim.device)\n",
    "\n",
    "            x = micro.noise(xsim, background, randomize_range=cfg.genm.exp_type.randomize_noise_range).sample()\n",
    "\n",
    "            colshift_crop = get_color_shift_inp(micro.color_shifts, micro.col_shifts_yx, ycrop, xcrop, cfg.sim.random_crop.crop_sz)\n",
    "            net_inp = torch.concat([x,colshift_crop], 1)\n",
    "\n",
    "            gt_vars = sim_vars[:-2]\n",
    "            gt_df = sample_to_df(*gt_vars, sim_vars[-1], px_size_zyx=[1.,1.,1.])\n",
    "            gt_df = gt_df[gt_df['code_inds'] < len(codebook)]\n",
    "\n",
    "            res_dict = model(net_inp.cuda())\n",
    "            res_dict = model.tensor_to_dict(res_dict)\n",
    "            pred_df = post_proc.get_df(res_dict)\n",
    "            pred_df = pred_df[pred_df['code_inds'] < len(codebook)]\n",
    "            pred_df['gene'] = targets[pred_df['code_inds']]\n",
    "    #         pred_df = sel_int_ch(pred_df, codebook)\n",
    "\n",
    "            perf, matches, _ = matching(px_to_nm(gt_df), pred_df, tolerance=500, print_res=False)\n",
    "\n",
    "            pred_df.loc[:, 'class'] = 1\n",
    "            pred_df.loc[pred_df['loc_idx'].isin(matches['loc_idx_pred']), 'class'] = 0\n",
    "            pred_zeroed = zero_int_ch(pred_df, codebook)\n",
    "            pred_df['int_ratio'] = pred_zeroed['int_ratio'].values\n",
    "            pred_df['tot_int'] = pred_zeroed['tot_int'].values\n",
    "            pred_df['tot_int_0bit'] = pred_zeroed['tot_int_0bit'].values\n",
    "            pred_df['tot_int_sig'] = pred_zeroed['tot_int_sig'].values\n",
    "            \n",
    "        opt.zero_grad()\n",
    "\n",
    "        ''''''\n",
    "        if cfg.resample:\n",
    "            df_majority = pred_df[pred_df['class']==0]\n",
    "            df_minority = pred_df[pred_df['class']==1]\n",
    "\n",
    "            df_maj_down = resample(df_majority, replace=True, n_samples=len(df_minority)*2)\n",
    "\n",
    "            pred_df = pd.concat([df_minority, df_maj_down])\n",
    "        ''''''\n",
    "\n",
    "        net_inp = input_from_df(pred_df, codebook)\n",
    "#         net_inp *= zero_out[None]\n",
    "        net_out = net(net_inp)\n",
    "\n",
    "        net_tar = torch.tensor(pred_df['class'].values, dtype=torch.float32).cuda()\n",
    "        loss = bce(net_out, net_tar[:,None])\n",
    "\n",
    "        test_csv['net_score'] = torch.sigmoid(net(input_from_df(test_csv, codebook)).detach().cpu())\n",
    "\n",
    "        loss.backward()\n",
    "\n",
    "        opt.step()\n",
    "        sched.step()\n",
    "\n",
    "        wandb.log({'loss': loss.item()}, step=i)\n",
    "#         wandb.log({'NN_blanks': test_csv.nsmallest(12555, 'net_score')['class'].sum()}, step=i)\n",
    "        wandb.log({'NN_blanks': test_csv.nsmallest(64252, 'net_score')['class'].sum()/88}, step=i)\n",
    "        wandb.log({'NN_preds': (test_csv.sort_values('net_score', ascending=True)['class'].cumsum().values <= 88).sum()/64252}, step=i)\n",
    "        if i % 20 == 0 and cfg.save_file is not None:\n",
    "            torch.save(net, cfg.save_file)\n",
    "            \n",
    "    wandb.finish()"
   ]
  },
  {
   "cell_type": "code",
   "execution_count": null,
   "id": "standard-inspiration",
   "metadata": {},
   "outputs": [],
   "source": [
    "net = conv_net(6, 16).cuda()\n",
    "net = code_net(9).cuda()"
   ]
  },
  {
   "cell_type": "code",
   "execution_count": null,
   "id": "printable-alloy",
   "metadata": {},
   "outputs": [
    {
     "name": "stderr",
     "output_type": "stream",
     "text": [
      "  0%|▎                                                                                                                                                 | 1/500 [00:08<1:14:21,  8.94s/it]"
     ]
    },
    {
     "name": "stdout",
     "output_type": "stream",
     "text": [
      "1.633864402770996\n",
      "NN_blanks 4.420454545454546\n",
      "NN_preds 0.05069102907302497\n"
     ]
    },
    {
     "name": "stderr",
     "output_type": "stream",
     "text": [
      "\r",
      "  0%|▌                                                                                                                                                 | 2/500 [00:18<1:19:10,  9.54s/it]"
     ]
    },
    {
     "name": "stdout",
     "output_type": "stream",
     "text": [
      "1.6851027011871338\n",
      "NN_blanks 0.42045454545454547\n",
      "NN_preds 1.1434819149598456\n"
     ]
    },
    {
     "name": "stderr",
     "output_type": "stream",
     "text": [
      "\r",
      "  1%|▉                                                                                                                                                 | 3/500 [00:27<1:14:21,  8.98s/it]"
     ]
    },
    {
     "name": "stdout",
     "output_type": "stream",
     "text": [
      "1.4513185024261475\n",
      "NN_blanks 0.4318181818181818\n",
      "NN_preds 1.1358401294901326\n"
     ]
    },
    {
     "name": "stderr",
     "output_type": "stream",
     "text": [
      "\r",
      "  1%|█▏                                                                                                                                                | 4/500 [00:35<1:12:23,  8.76s/it]"
     ]
    },
    {
     "name": "stdout",
     "output_type": "stream",
     "text": [
      "1.3579930067062378\n",
      "NN_blanks 0.4431818181818182\n",
      "NN_preds 1.1376143933262777\n"
     ]
    },
    {
     "name": "stderr",
     "output_type": "stream",
     "text": [
      "\r",
      "  1%|█▍                                                                                                                                                | 5/500 [00:45<1:14:30,  9.03s/it]"
     ]
    },
    {
     "name": "stdout",
     "output_type": "stream",
     "text": [
      "1.379210114479065\n",
      "NN_blanks 0.4090909090909091\n",
      "NN_preds 1.1473728444250764\n"
     ]
    },
    {
     "name": "stderr",
     "output_type": "stream",
     "text": [
      "\r",
      "  1%|█▊                                                                                                                                                | 6/500 [00:56<1:20:58,  9.84s/it]"
     ]
    },
    {
     "name": "stdout",
     "output_type": "stream",
     "text": [
      "1.393174409866333\n",
      "NN_blanks 0.36363636363636365\n",
      "NN_preds 1.1581896283384174\n"
     ]
    },
    {
     "name": "stderr",
     "output_type": "stream",
     "text": [
      "\r",
      "  1%|██                                                                                                                                                | 7/500 [01:09<1:27:54, 10.70s/it]"
     ]
    },
    {
     "name": "stdout",
     "output_type": "stream",
     "text": [
      "1.3811277151107788\n",
      "NN_blanks 0.36363636363636365\n",
      "NN_preds 1.165131046504389\n"
     ]
    },
    {
     "name": "stderr",
     "output_type": "stream",
     "text": [
      "\r",
      "  2%|██▎                                                                                                                                               | 8/500 [01:22<1:33:45, 11.43s/it]"
     ]
    },
    {
     "name": "stdout",
     "output_type": "stream",
     "text": [
      "1.3865987062454224\n",
      "NN_blanks 0.3522727272727273\n",
      "NN_preds 1.1725082487704663\n"
     ]
    },
    {
     "name": "stderr",
     "output_type": "stream",
     "text": [
      "\r",
      "  2%|██▋                                                                                                                                               | 9/500 [01:33<1:34:02, 11.49s/it]"
     ]
    },
    {
     "name": "stdout",
     "output_type": "stream",
     "text": [
      "1.3516132831573486\n",
      "NN_blanks 0.32954545454545453\n",
      "NN_preds 1.176757143746498\n"
     ]
    },
    {
     "name": "stderr",
     "output_type": "stream",
     "text": [
      "\r",
      "  2%|██▉                                                                                                                                              | 10/500 [01:46<1:37:32, 11.94s/it]"
     ]
    },
    {
     "name": "stdout",
     "output_type": "stream",
     "text": [
      "1.3970621824264526\n",
      "NN_blanks 0.32954545454545453\n",
      "NN_preds 1.1817686608977152\n"
     ]
    },
    {
     "name": "stderr",
     "output_type": "stream",
     "text": [
      "\r",
      "  2%|███▏                                                                                                                                             | 11/500 [01:58<1:36:52, 11.89s/it]"
     ]
    },
    {
     "name": "stdout",
     "output_type": "stream",
     "text": [
      "1.3087025880813599\n",
      "NN_blanks 0.3181818181818182\n",
      "NN_preds 1.183231650376642\n"
     ]
    },
    {
     "name": "stderr",
     "output_type": "stream",
     "text": [
      "\r",
      "  2%|███▍                                                                                                                                             | 12/500 [02:10<1:36:54, 11.92s/it]"
     ]
    },
    {
     "name": "stdout",
     "output_type": "stream",
     "text": [
      "1.347165822982788\n",
      "NN_blanks 0.29545454545454547\n",
      "NN_preds 1.183854199091079\n"
     ]
    },
    {
     "name": "stderr",
     "output_type": "stream",
     "text": [
      "\r",
      "  3%|███▊                                                                                                                                             | 13/500 [02:22<1:36:28, 11.89s/it]"
     ]
    },
    {
     "name": "stdout",
     "output_type": "stream",
     "text": [
      "1.3401196002960205\n",
      "NN_blanks 0.2840909090909091\n",
      "NN_preds 1.1881186577849716\n"
     ]
    },
    {
     "name": "stderr",
     "output_type": "stream",
     "text": [
      "\r",
      "  3%|████                                                                                                                                             | 14/500 [02:33<1:34:17, 11.64s/it]"
     ]
    },
    {
     "name": "stdout",
     "output_type": "stream",
     "text": [
      "1.3306161165237427\n",
      "NN_blanks 0.2840909090909091\n",
      "NN_preds 1.1902041959783354\n"
     ]
    },
    {
     "name": "stderr",
     "output_type": "stream",
     "text": [
      "\r",
      "  3%|████▎                                                                                                                                            | 15/500 [02:44<1:33:02, 11.51s/it]"
     ]
    },
    {
     "name": "stdout",
     "output_type": "stream",
     "text": [
      "1.2951453924179077\n",
      "NN_blanks 0.29545454545454547\n",
      "NN_preds 1.1932546846790761\n"
     ]
    },
    {
     "name": "stderr",
     "output_type": "stream",
     "text": [
      "\r",
      "  3%|████▋                                                                                                                                            | 16/500 [02:55<1:32:32, 11.47s/it]"
     ]
    },
    {
     "name": "stdout",
     "output_type": "stream",
     "text": [
      "1.2969824075698853\n",
      "NN_blanks 0.2840909090909091\n",
      "NN_preds 1.1947021104401419\n"
     ]
    },
    {
     "name": "stderr",
     "output_type": "stream",
     "text": [
      "\r",
      "  3%|████▉                                                                                                                                            | 17/500 [03:07<1:33:20, 11.59s/it]"
     ]
    },
    {
     "name": "stdout",
     "output_type": "stream",
     "text": [
      "1.300546646118164\n",
      "NN_blanks 0.25\n",
      "NN_preds 1.197721471705161\n"
     ]
    },
    {
     "name": "stderr",
     "output_type": "stream",
     "text": [
      "\r",
      "  4%|█████▏                                                                                                                                           | 18/500 [03:19<1:33:06, 11.59s/it]"
     ]
    },
    {
     "name": "stdout",
     "output_type": "stream",
     "text": [
      "1.2687371969223022\n",
      "NN_blanks 0.23863636363636365\n",
      "NN_preds 1.1988731868268692\n",
      "1.207198143005371\n",
      "NN_blanks 0.22727272727272727\n",
      "NN_preds 1.2024528419348814\n"
     ]
    },
    {
     "name": "stderr",
     "output_type": "stream",
     "text": [
      "  4%|█████▊                                                                                                                                           | 20/500 [03:43<1:35:53, 11.99s/it]"
     ]
    },
    {
     "name": "stdout",
     "output_type": "stream",
     "text": [
      "1.3063465356826782\n",
      "NN_blanks 0.2159090909090909\n",
      "NN_preds 1.2060947519143372\n"
     ]
    },
    {
     "name": "stderr",
     "output_type": "stream",
     "text": [
      "\r",
      "  4%|██████                                                                                                                                           | 21/500 [03:55<1:34:36, 11.85s/it]"
     ]
    },
    {
     "name": "stdout",
     "output_type": "stream",
     "text": [
      "1.216399908065796\n",
      "NN_blanks 0.20454545454545456\n",
      "NN_preds 1.2072620307539066\n"
     ]
    },
    {
     "name": "stderr",
     "output_type": "stream",
     "text": [
      "\r",
      "  4%|██████▍                                                                                                                                          | 22/500 [04:06<1:34:15, 11.83s/it]"
     ]
    },
    {
     "name": "stdout",
     "output_type": "stream",
     "text": [
      "1.2492157220840454\n",
      "NN_blanks 0.20454545454545456\n",
      "NN_preds 1.2104214654796739\n"
     ]
    },
    {
     "name": "stderr",
     "output_type": "stream",
     "text": [
      "\r",
      "  5%|██████▋                                                                                                                                          | 23/500 [04:17<1:31:51, 11.55s/it]"
     ]
    },
    {
     "name": "stdout",
     "output_type": "stream",
     "text": [
      "1.202275037765503\n",
      "NN_blanks 0.20454545454545456\n",
      "NN_preds 1.2116354354728258\n"
     ]
    },
    {
     "name": "stderr",
     "output_type": "stream",
     "text": [
      "\r",
      "  5%|██████▉                                                                                                                                          | 24/500 [04:29<1:31:15, 11.50s/it]"
     ]
    },
    {
     "name": "stdout",
     "output_type": "stream",
     "text": [
      "1.1676164865493774\n",
      "NN_blanks 0.19318181818181818\n",
      "NN_preds 1.2092541866401045\n"
     ]
    },
    {
     "name": "stderr",
     "output_type": "stream",
     "text": [
      "\r",
      "  5%|███████▎                                                                                                                                         | 25/500 [04:40<1:29:47, 11.34s/it]"
     ]
    },
    {
     "name": "stdout",
     "output_type": "stream",
     "text": [
      "1.195651888847351\n",
      "NN_blanks 0.17045454545454544\n",
      "NN_preds 1.2181721969744133\n"
     ]
    },
    {
     "name": "stderr",
     "output_type": "stream",
     "text": [
      "\r",
      "  5%|███████▌                                                                                                                                         | 26/500 [04:50<1:27:01, 11.02s/it]"
     ]
    },
    {
     "name": "stdout",
     "output_type": "stream",
     "text": [
      "1.1948806047439575\n",
      "NN_blanks 0.17045454545454544\n",
      "NN_preds 1.2255338355226297\n"
     ]
    },
    {
     "name": "stderr",
     "output_type": "stream",
     "text": [
      "\r",
      "  5%|███████▊                                                                                                                                         | 27/500 [05:02<1:28:06, 11.18s/it]"
     ]
    },
    {
     "name": "stdout",
     "output_type": "stream",
     "text": [
      "1.1314581632614136\n",
      "NN_blanks 0.17045454545454544\n",
      "NN_preds 1.2236817530971797\n"
     ]
    },
    {
     "name": "stderr",
     "output_type": "stream",
     "text": [
      "\r",
      "  6%|████████                                                                                                                                         | 28/500 [05:12<1:27:14, 11.09s/it]"
     ]
    },
    {
     "name": "stdout",
     "output_type": "stream",
     "text": [
      "1.178821086883545\n",
      "NN_blanks 0.18181818181818182\n",
      "NN_preds 1.2214250140073462\n"
     ]
    },
    {
     "name": "stderr",
     "output_type": "stream",
     "text": [
      "\r",
      "  6%|████████▍                                                                                                                                        | 29/500 [05:23<1:25:58, 10.95s/it]"
     ]
    },
    {
     "name": "stdout",
     "output_type": "stream",
     "text": [
      "1.1668462753295898\n",
      "NN_blanks 0.19318181818181818\n",
      "NN_preds 1.2158843304488576\n"
     ]
    },
    {
     "name": "stderr",
     "output_type": "stream",
     "text": [
      "\r",
      "  6%|████████▋                                                                                                                                        | 30/500 [05:34<1:26:16, 11.01s/it]"
     ]
    },
    {
     "name": "stdout",
     "output_type": "stream",
     "text": [
      "1.1549376249313354\n",
      "NN_blanks 0.20454545454545456\n",
      "NN_preds 1.2176741580028638\n"
     ]
    },
    {
     "name": "stderr",
     "output_type": "stream",
     "text": [
      "\r",
      "  6%|████████▉                                                                                                                                        | 31/500 [05:46<1:28:40, 11.34s/it]"
     ]
    },
    {
     "name": "stdout",
     "output_type": "stream",
     "text": [
      "1.2110669612884521\n",
      "NN_blanks 0.20454545454545456\n",
      "NN_preds 1.221051484778684\n"
     ]
    },
    {
     "name": "stderr",
     "output_type": "stream",
     "text": [
      "\r",
      "  6%|█████████▎                                                                                                                                       | 32/500 [05:58<1:28:26, 11.34s/it]"
     ]
    },
    {
     "name": "stdout",
     "output_type": "stream",
     "text": [
      "1.166612982749939\n",
      "NN_blanks 0.2159090909090909\n",
      "NN_preds 1.222078690157505\n"
     ]
    },
    {
     "name": "stderr",
     "output_type": "stream",
     "text": [
      "\r",
      "  7%|█████████▌                                                                                                                                       | 33/500 [06:10<1:31:03, 11.70s/it]"
     ]
    },
    {
     "name": "stdout",
     "output_type": "stream",
     "text": [
      "1.2487577199935913\n",
      "NN_blanks 0.2159090909090909\n",
      "NN_preds 1.222421091950445\n"
     ]
    },
    {
     "name": "stderr",
     "output_type": "stream",
     "text": [
      "\r",
      "  7%|█████████▊                                                                                                                                       | 34/500 [06:22<1:30:09, 11.61s/it]"
     ]
    },
    {
     "name": "stdout",
     "output_type": "stream",
     "text": [
      "1.162185788154602\n",
      "NN_blanks 0.2159090909090909\n",
      "NN_preds 1.223666189379319\n"
     ]
    },
    {
     "name": "stderr",
     "output_type": "stream",
     "text": [
      "\r",
      "  7%|██████████▏                                                                                                                                      | 35/500 [06:32<1:27:37, 11.31s/it]"
     ]
    },
    {
     "name": "stdout",
     "output_type": "stream",
     "text": [
      "1.103110671043396\n",
      "NN_blanks 0.2159090909090909\n",
      "NN_preds 1.2209581024715184\n"
     ]
    },
    {
     "name": "stderr",
     "output_type": "stream",
     "text": [
      "\r",
      "  7%|██████████▍                                                                                                                                      | 36/500 [06:44<1:29:12, 11.54s/it]"
     ]
    },
    {
     "name": "stdout",
     "output_type": "stream",
     "text": [
      "1.1797415018081665\n",
      "NN_blanks 0.2159090909090909\n",
      "NN_preds 1.2214094502894852\n"
     ]
    },
    {
     "name": "stderr",
     "output_type": "stream",
     "text": [
      "\r",
      "  7%|██████████▋                                                                                                                                      | 37/500 [06:55<1:27:49, 11.38s/it]"
     ]
    },
    {
     "name": "stdout",
     "output_type": "stream",
     "text": [
      "1.174807071685791\n",
      "NN_blanks 0.2159090909090909\n",
      "NN_preds 1.2208647201643528\n"
     ]
    },
    {
     "name": "stderr",
     "output_type": "stream",
     "text": [
      "\r",
      "  8%|███████████                                                                                                                                      | 38/500 [07:08<1:30:00, 11.69s/it]"
     ]
    },
    {
     "name": "stdout",
     "output_type": "stream",
     "text": [
      "1.1382700204849243\n",
      "NN_blanks 0.2159090909090909\n",
      "NN_preds 1.2225144742576106\n"
     ]
    },
    {
     "name": "stderr",
     "output_type": "stream",
     "text": [
      "\r",
      "  8%|███████████▎                                                                                                                                     | 39/500 [07:18<1:25:40, 11.15s/it]"
     ]
    },
    {
     "name": "stdout",
     "output_type": "stream",
     "text": [
      "1.1794832944869995\n",
      "NN_blanks 0.2159090909090909\n",
      "NN_preds 1.2239463363008156\n"
     ]
    },
    {
     "name": "stderr",
     "output_type": "stream",
     "text": [
      "  8%|███████████▎                                                                                                                                     | 39/500 [07:21<1:26:54, 11.31s/it]\n"
     ]
    },
    {
     "ename": "KeyboardInterrupt",
     "evalue": "",
     "output_type": "error",
     "traceback": [
      "\u001b[0;31m---------------------------------------------------------------------------\u001b[0m",
      "\u001b[0;31mKeyboardInterrupt\u001b[0m                         Traceback (most recent call last)",
      "Input \u001b[0;32mIn [76]\u001b[0m, in \u001b[0;36m<cell line: 22>\u001b[0;34m()\u001b[0m\n\u001b[1;32m     45\u001b[0m cb_cool \u001b[38;5;241m=\u001b[39m torch\u001b[38;5;241m.\u001b[39mrepeat_interleave(cond, cond \u001b[38;5;241m*\u001b[39m (cfg\u001b[38;5;241m.\u001b[39mgenm\u001b[38;5;241m.\u001b[39mexp_type\u001b[38;5;241m.\u001b[39mn_bits \u001b[38;5;241m-\u001b[39m \u001b[38;5;241m1\u001b[39m) \u001b[38;5;241m+\u001b[39m \u001b[38;5;241m1\u001b[39m)\n\u001b[1;32m     46\u001b[0m ch_inp[\u001b[38;5;241m1\u001b[39m][cb_cool], ch_inp[\u001b[38;5;241m2\u001b[39m][cb_cool], ch_inp[\u001b[38;5;241m3\u001b[39m][cb_cool] \u001b[38;5;241m=\u001b[39m add_pos_noise([ch_inp[\u001b[38;5;241m1\u001b[39m][cb_cool], ch_inp[\u001b[38;5;241m2\u001b[39m][cb_cool], ch_inp[\u001b[38;5;241m3\u001b[39m][cb_cool]], \n\u001b[1;32m     47\u001b[0m                                                                            [cfg\u001b[38;5;241m.\u001b[39mgenm\u001b[38;5;241m.\u001b[39mpos_noise\u001b[38;5;241m.\u001b[39mpos_noise_xy\u001b[38;5;241m*\u001b[39m\u001b[38;5;241m0.5\u001b[39m, cfg\u001b[38;5;241m.\u001b[39mgenm\u001b[38;5;241m.\u001b[39mpos_noise\u001b[38;5;241m.\u001b[39mpos_noise_xy\u001b[38;5;241m*\u001b[39m\u001b[38;5;241m0.5\u001b[39m, cfg\u001b[38;5;241m.\u001b[39mgenm\u001b[38;5;241m.\u001b[39mpos_noise\u001b[38;5;241m.\u001b[39mpos_noise_z], cfg\u001b[38;5;241m.\u001b[39mgenm\u001b[38;5;241m.\u001b[39mexp_type\u001b[38;5;241m.\u001b[39mn_bits)\n\u001b[0;32m---> 48\u001b[0m xsim \u001b[38;5;241m=\u001b[39m \u001b[43mmicro\u001b[49m\u001b[43m(\u001b[49m\u001b[38;5;241;43m*\u001b[39;49m\u001b[43mch_inp\u001b[49m\u001b[43m,\u001b[49m\u001b[43m \u001b[49m\u001b[43madd_noise\u001b[49m\u001b[38;5;241;43m=\u001b[39;49m\u001b[38;5;28;43;01mTrue\u001b[39;49;00m\u001b[43m)\u001b[49m\n\u001b[1;32m     50\u001b[0m \u001b[38;5;28;01mif\u001b[39;00m cfg\u001b[38;5;241m.\u001b[39mgenm\u001b[38;5;241m.\u001b[39mphasing:\n\u001b[1;32m     52\u001b[0m     phasing_inp \u001b[38;5;241m=\u001b[39m \u001b[38;5;28mlist\u001b[39m(micro\u001b[38;5;241m.\u001b[39mget_single_ch_inputs(\u001b[38;5;241m*\u001b[39msim_vars[:\u001b[38;5;241m4\u001b[39m], get_phased_ints(sim_vars[\u001b[38;5;241m4\u001b[39m], micro\u001b[38;5;241m.\u001b[39mch_cols, micro\u001b[38;5;241m.\u001b[39mpsf\u001b[38;5;241m.\u001b[39mn_cols) ,sim_vars[\u001b[38;5;241m5\u001b[39m], ycrop\u001b[38;5;241m=\u001b[39mycrop, xcrop\u001b[38;5;241m=\u001b[39mxcrop))\n",
      "File \u001b[0;32m~/anaconda3/envs/decode_fish_dev2/lib/python3.8/site-packages/torch/nn/modules/module.py:1110\u001b[0m, in \u001b[0;36mModule._call_impl\u001b[0;34m(self, *input, **kwargs)\u001b[0m\n\u001b[1;32m   1106\u001b[0m \u001b[38;5;66;03m# If we don't have any hooks, we want to skip the rest of the logic in\u001b[39;00m\n\u001b[1;32m   1107\u001b[0m \u001b[38;5;66;03m# this function, and just call forward.\u001b[39;00m\n\u001b[1;32m   1108\u001b[0m \u001b[38;5;28;01mif\u001b[39;00m \u001b[38;5;129;01mnot\u001b[39;00m (\u001b[38;5;28mself\u001b[39m\u001b[38;5;241m.\u001b[39m_backward_hooks \u001b[38;5;129;01mor\u001b[39;00m \u001b[38;5;28mself\u001b[39m\u001b[38;5;241m.\u001b[39m_forward_hooks \u001b[38;5;129;01mor\u001b[39;00m \u001b[38;5;28mself\u001b[39m\u001b[38;5;241m.\u001b[39m_forward_pre_hooks \u001b[38;5;129;01mor\u001b[39;00m _global_backward_hooks\n\u001b[1;32m   1109\u001b[0m         \u001b[38;5;129;01mor\u001b[39;00m _global_forward_hooks \u001b[38;5;129;01mor\u001b[39;00m _global_forward_pre_hooks):\n\u001b[0;32m-> 1110\u001b[0m     \u001b[38;5;28;01mreturn\u001b[39;00m \u001b[43mforward_call\u001b[49m\u001b[43m(\u001b[49m\u001b[38;5;241;43m*\u001b[39;49m\u001b[38;5;28;43minput\u001b[39;49m\u001b[43m,\u001b[49m\u001b[43m \u001b[49m\u001b[38;5;241;43m*\u001b[39;49m\u001b[38;5;241;43m*\u001b[39;49m\u001b[43mkwargs\u001b[49m\u001b[43m)\u001b[49m\n\u001b[1;32m   1111\u001b[0m \u001b[38;5;66;03m# Do not call functions when jit is used\u001b[39;00m\n\u001b[1;32m   1112\u001b[0m full_backward_hooks, non_full_backward_hooks \u001b[38;5;241m=\u001b[39m [], []\n",
      "File \u001b[0;32m~/Dropbox (mackelab)/Artur/WorkDB/deepstorm/decode_fish/decode_fish/engine/microscope.py:183\u001b[0m, in \u001b[0;36mMicroscope.forward\u001b[0;34m(self, locations, x_os_ch, y_os_ch, z_os_ch, i_val, output_shape, ret_psfs, add_noise)\u001b[0m\n\u001b[1;32m    180\u001b[0m     z_inds \u001b[38;5;241m=\u001b[39m (torch\u001b[38;5;241m.\u001b[39mdiv(z_scaled, \u001b[38;5;241m1\u001b[39m, rounding_mode\u001b[38;5;241m=\u001b[39m\u001b[38;5;124m'\u001b[39m\u001b[38;5;124mtrunc\u001b[39m\u001b[38;5;124m'\u001b[39m))\u001b[38;5;241m.\u001b[39mtype(torch\u001b[38;5;241m.\u001b[39mcuda\u001b[38;5;241m.\u001b[39mLongTensor) \u001b[38;5;241m+\u001b[39m \u001b[38;5;241m1\u001b[39m\n\u001b[1;32m    181\u001b[0m     z_os \u001b[38;5;241m=\u001b[39m \u001b[38;5;241m-\u001b[39m(torch\u001b[38;5;241m.\u001b[39mfmod(z_scaled, \u001b[38;5;241m1.\u001b[39m)) \u001b[38;5;241m+\u001b[39m \u001b[38;5;241m0.5\u001b[39m\n\u001b[0;32m--> 183\u001b[0m     psf \u001b[38;5;241m=\u001b[39m \u001b[38;5;28;43mself\u001b[39;49m\u001b[38;5;241;43m.\u001b[39;49m\u001b[43mpsf\u001b[49m\u001b[43m(\u001b[49m\u001b[43mx_os_ch\u001b[49m\u001b[43m,\u001b[49m\u001b[43m \u001b[49m\u001b[43my_os_ch\u001b[49m\u001b[43m,\u001b[49m\u001b[43m \u001b[49m\u001b[43mz_os\u001b[49m\u001b[43m,\u001b[49m\u001b[43m \u001b[49m\u001b[43mz_inds\u001b[49m\u001b[43m,\u001b[49m\u001b[43m \u001b[49m\u001b[43mc_inds\u001b[49m\u001b[38;5;241;43m=\u001b[39;49m\u001b[43mcol_inds\u001b[49m\u001b[43m)\u001b[49m\n\u001b[1;32m    185\u001b[0m \u001b[38;5;28;01melse\u001b[39;00m:\n\u001b[1;32m    186\u001b[0m     \u001b[38;5;66;03m# Otherwise z_os_ch is treated just as x and y\u001b[39;00m\n\u001b[1;32m    187\u001b[0m     psf \u001b[38;5;241m=\u001b[39m \u001b[38;5;28mself\u001b[39m\u001b[38;5;241m.\u001b[39mpsf(x_os_ch, y_os_ch, z_os_ch, c_inds\u001b[38;5;241m=\u001b[39mcol_inds)\n",
      "File \u001b[0;32m~/anaconda3/envs/decode_fish_dev2/lib/python3.8/site-packages/torch/nn/modules/module.py:1110\u001b[0m, in \u001b[0;36mModule._call_impl\u001b[0;34m(self, *input, **kwargs)\u001b[0m\n\u001b[1;32m   1106\u001b[0m \u001b[38;5;66;03m# If we don't have any hooks, we want to skip the rest of the logic in\u001b[39;00m\n\u001b[1;32m   1107\u001b[0m \u001b[38;5;66;03m# this function, and just call forward.\u001b[39;00m\n\u001b[1;32m   1108\u001b[0m \u001b[38;5;28;01mif\u001b[39;00m \u001b[38;5;129;01mnot\u001b[39;00m (\u001b[38;5;28mself\u001b[39m\u001b[38;5;241m.\u001b[39m_backward_hooks \u001b[38;5;129;01mor\u001b[39;00m \u001b[38;5;28mself\u001b[39m\u001b[38;5;241m.\u001b[39m_forward_hooks \u001b[38;5;129;01mor\u001b[39;00m \u001b[38;5;28mself\u001b[39m\u001b[38;5;241m.\u001b[39m_forward_pre_hooks \u001b[38;5;129;01mor\u001b[39;00m _global_backward_hooks\n\u001b[1;32m   1109\u001b[0m         \u001b[38;5;129;01mor\u001b[39;00m _global_forward_hooks \u001b[38;5;129;01mor\u001b[39;00m _global_forward_pre_hooks):\n\u001b[0;32m-> 1110\u001b[0m     \u001b[38;5;28;01mreturn\u001b[39;00m \u001b[43mforward_call\u001b[49m\u001b[43m(\u001b[49m\u001b[38;5;241;43m*\u001b[39;49m\u001b[38;5;28;43minput\u001b[39;49m\u001b[43m,\u001b[49m\u001b[43m \u001b[49m\u001b[38;5;241;43m*\u001b[39;49m\u001b[38;5;241;43m*\u001b[39;49m\u001b[43mkwargs\u001b[49m\u001b[43m)\u001b[49m\n\u001b[1;32m   1111\u001b[0m \u001b[38;5;66;03m# Do not call functions when jit is used\u001b[39;00m\n\u001b[1;32m   1112\u001b[0m full_backward_hooks, non_full_backward_hooks \u001b[38;5;241m=\u001b[39m [], []\n",
      "File \u001b[0;32m~/Dropbox (mackelab)/Artur/WorkDB/deepstorm/decode_fish/decode_fish/engine/psf.py:75\u001b[0m, in \u001b[0;36mLinearInterpolatedPSF.forward\u001b[0;34m(self, x_offset_val, y_offset_val, z_offset_val, z_inds, c_inds)\u001b[0m\n\u001b[1;32m     71\u001b[0m     \u001b[38;5;66;03m# We select a 3 pixel wide volume around the indexed z slice for interpolation\u001b[39;00m\n\u001b[1;32m     72\u001b[0m     vol \u001b[38;5;241m=\u001b[39m \u001b[38;5;28mself\u001b[39m\u001b[38;5;241m.\u001b[39mpsf_volume \u001b[38;5;241m*\u001b[39m \u001b[38;5;28mself\u001b[39m\u001b[38;5;241m.\u001b[39mz_scale[\u001b[38;5;28;01mNone\u001b[39;00m,:,\u001b[38;5;28;01mNone\u001b[39;00m,\u001b[38;5;28;01mNone\u001b[39;00m]\n\u001b[1;32m     73\u001b[0m     vol \u001b[38;5;241m=\u001b[39m torch\u001b[38;5;241m.\u001b[39mcat([vol[\u001b[38;5;28;01mNone\u001b[39;00m,:,[z\u001b[38;5;241m-\u001b[39m\u001b[38;5;241m1\u001b[39m \u001b[38;5;28;01mfor\u001b[39;00m z \u001b[38;5;129;01min\u001b[39;00m z_inds]],\n\u001b[1;32m     74\u001b[0m                      vol[\u001b[38;5;28;01mNone\u001b[39;00m,:,z_inds],\n\u001b[0;32m---> 75\u001b[0m                      vol[\u001b[38;5;28;01mNone\u001b[39;00m,:,[z\u001b[38;5;241m+\u001b[39m\u001b[38;5;241m1\u001b[39m \u001b[38;5;28;01mfor\u001b[39;00m z \u001b[38;5;129;01min\u001b[39;00m z_inds]]], dim\u001b[38;5;241m=\u001b[39m\u001b[38;5;241m0\u001b[39m)\u001b[38;5;241m.\u001b[39mtranspose(\u001b[38;5;241m0\u001b[39m,\u001b[38;5;241m2\u001b[39m)\u001b[38;5;241m.\u001b[39mto(\u001b[38;5;28mself\u001b[39m\u001b[38;5;241m.\u001b[39mdevice)\n\u001b[1;32m     77\u001b[0m \u001b[38;5;28;01mif\u001b[39;00m c_inds \u001b[38;5;129;01mis\u001b[39;00m \u001b[38;5;129;01mnot\u001b[39;00m \u001b[38;5;28;01mNone\u001b[39;00m:\n\u001b[1;32m     78\u001b[0m     vol \u001b[38;5;241m=\u001b[39m vol[torch\u001b[38;5;241m.\u001b[39marange(\u001b[38;5;28mlen\u001b[39m(c_inds)),c_inds]\n",
      "File \u001b[0;32m~/Dropbox (mackelab)/Artur/WorkDB/deepstorm/decode_fish/decode_fish/engine/psf.py:75\u001b[0m, in \u001b[0;36m<listcomp>\u001b[0;34m(.0)\u001b[0m\n\u001b[1;32m     71\u001b[0m     \u001b[38;5;66;03m# We select a 3 pixel wide volume around the indexed z slice for interpolation\u001b[39;00m\n\u001b[1;32m     72\u001b[0m     vol \u001b[38;5;241m=\u001b[39m \u001b[38;5;28mself\u001b[39m\u001b[38;5;241m.\u001b[39mpsf_volume \u001b[38;5;241m*\u001b[39m \u001b[38;5;28mself\u001b[39m\u001b[38;5;241m.\u001b[39mz_scale[\u001b[38;5;28;01mNone\u001b[39;00m,:,\u001b[38;5;28;01mNone\u001b[39;00m,\u001b[38;5;28;01mNone\u001b[39;00m]\n\u001b[1;32m     73\u001b[0m     vol \u001b[38;5;241m=\u001b[39m torch\u001b[38;5;241m.\u001b[39mcat([vol[\u001b[38;5;28;01mNone\u001b[39;00m,:,[z\u001b[38;5;241m-\u001b[39m\u001b[38;5;241m1\u001b[39m \u001b[38;5;28;01mfor\u001b[39;00m z \u001b[38;5;129;01min\u001b[39;00m z_inds]],\n\u001b[1;32m     74\u001b[0m                      vol[\u001b[38;5;28;01mNone\u001b[39;00m,:,z_inds],\n\u001b[0;32m---> 75\u001b[0m                      vol[\u001b[38;5;28;01mNone\u001b[39;00m,:,[\u001b[43mz\u001b[49m\u001b[38;5;241;43m+\u001b[39;49m\u001b[38;5;241;43m1\u001b[39;49m \u001b[38;5;28;01mfor\u001b[39;00m z \u001b[38;5;129;01min\u001b[39;00m z_inds]]], dim\u001b[38;5;241m=\u001b[39m\u001b[38;5;241m0\u001b[39m)\u001b[38;5;241m.\u001b[39mtranspose(\u001b[38;5;241m0\u001b[39m,\u001b[38;5;241m2\u001b[39m)\u001b[38;5;241m.\u001b[39mto(\u001b[38;5;28mself\u001b[39m\u001b[38;5;241m.\u001b[39mdevice)\n\u001b[1;32m     77\u001b[0m \u001b[38;5;28;01mif\u001b[39;00m c_inds \u001b[38;5;129;01mis\u001b[39;00m \u001b[38;5;129;01mnot\u001b[39;00m \u001b[38;5;28;01mNone\u001b[39;00m:\n\u001b[1;32m     78\u001b[0m     vol \u001b[38;5;241m=\u001b[39m vol[torch\u001b[38;5;241m.\u001b[39marange(\u001b[38;5;28mlen\u001b[39m(c_inds)),c_inds]\n",
      "\u001b[0;31mKeyboardInterrupt\u001b[0m: "
     ]
    }
   ],
   "source": [
    "num_iters = 500\n",
    "i = 0\n",
    "\n",
    "micro.psf_noise = 0.0\n",
    "\n",
    "bce = torch.nn.BCEWithLogitsLoss(pos_weight=torch.tensor([10]).cuda())\n",
    "opt = torch.optim.AdamW(net.parameters(), lr = 4e-3)\n",
    "sched = torch.optim.lr_scheduler.StepLR(opt, step_size=100, gamma=0.5)\n",
    "loss_col = []\n",
    "\n",
    "model.eval().cuda()\n",
    "\n",
    "code_weight = torch.ones(len(post_proc.codebook))\n",
    "code_weight[len(codebook):] *= cfg.genm.emitter_noise.rate_fac\n",
    "point_process = PointProcessUniform(int_conc=cfg.genm.intensity_dist.int_conc, int_rate=cfg.genm.intensity_dist.int_rate, int_loc=cfg.genm.intensity_dist.int_loc, \n",
    "                                   sim_iters=5, n_channels=cfg.genm.exp_type.n_channels, sim_z=cfg.genm.exp_type.pred_z, slice_rec=cfg.genm.exp_type.slice_rec, \n",
    "                                   codebook=post_proc.codebook, int_option=cfg.training.int_option, code_weight=code_weight)\n",
    "\n",
    "zero_out = torch.ones(72).cuda()\n",
    "zero_out[5] = 0\n",
    "\n",
    "for i in tqdm(range(num_iters)):\n",
    "\n",
    "    with torch.no_grad():\n",
    "\n",
    "        ret_dict = next(iter(decode_dl))\n",
    "        x, local_rate, background = ret_dict['x'], ret_dict['local_rate'], ret_dict['background'], \n",
    "        zcrop, ycrop, xcrop = ret_dict['crop_z'], ret_dict['crop_y'], ret_dict['crop_x']\n",
    "        background = background * micro.get_ch_mult()\n",
    "        if cfg.sim.bg_estimation.shuffle_ch:\n",
    "            background = background.index_select(1, torch.randperm(background.shape[1]).cuda())\n",
    "        \n",
    "        local_rate *= 4.\n",
    "        if cfg.genm.microscope.col_shifts_enabled  :\n",
    "            zcrop, ycrop, xcrop = ret_dict['crop_z'], ret_dict['crop_y'], ret_dict['crop_x']\n",
    "            zcrop, ycrop, xcrop = zcrop.flatten(), ycrop.flatten(), xcrop.flatten()\n",
    "            colshift_crop = get_color_shift_inp(micro.color_shifts, micro.col_shifts_yx, ycrop, xcrop, cfg.sim.random_crop.crop_sz)\n",
    "        else:\n",
    "            zcrop, ycrop, xcrop, colshift_crop = None, None, None, None\n",
    "\n",
    "        sim_vars = point_process.sample(local_rate[:,0])\n",
    "        \n",
    "        ch_inp = list(micro.get_single_ch_inputs(*sim_vars[:-1], ycrop=ycrop, xcrop=xcrop))\n",
    "        cond = sim_vars[-1] < len(codebook)\n",
    "        cb_cool = torch.repeat_interleave(cond, cond * (cfg.genm.exp_type.n_bits - 1) + 1)\n",
    "        ch_inp[1][cb_cool], ch_inp[2][cb_cool], ch_inp[3][cb_cool] = add_pos_noise([ch_inp[1][cb_cool], ch_inp[2][cb_cool], ch_inp[3][cb_cool]], \n",
    "                                                                                   [cfg.genm.pos_noise.pos_noise_xy*0.5, cfg.genm.pos_noise.pos_noise_xy*0.5, cfg.genm.pos_noise.pos_noise_z], cfg.genm.exp_type.n_bits)\n",
    "        xsim = micro(*ch_inp, add_noise=True)\n",
    "        \n",
    "        if cfg.genm.phasing:\n",
    "\n",
    "            phasing_inp = list(micro.get_single_ch_inputs(*sim_vars[:4], get_phased_ints(sim_vars[4], micro.ch_cols, micro.psf.n_cols) ,sim_vars[5], ycrop=ycrop, xcrop=xcrop))\n",
    "            phasing_inp[1:4] = add_pos_noise(phasing_inp[1:4], [cfg.genm.pos_noise.pos_noise_xy, cfg.genm.pos_noise.pos_noise_xy, cfg.genm.pos_noise.pos_noise_z], cfg.genm.exp_type.n_bits, rm_mean=False)\n",
    "            xsim += micro(*phasing_inp, add_noise=True) * cfg.genm.phasing * torch.rand(xsim.shape, device=xsim.device)\n",
    "\n",
    "        x = micro.noise(xsim, background, randomize_range=cfg.genm.exp_type.randomize_noise_range).sample()\n",
    "\n",
    "        colshift_crop = get_color_shift_inp(micro.color_shifts, micro.col_shifts_yx, ycrop, xcrop, cfg.sim.random_crop.crop_sz)\n",
    "        net_inp = torch.concat([x,colshift_crop], 1)\n",
    "        \n",
    "        gt_vars = sim_vars[:-2] \n",
    "        gt_df = sample_to_df(*gt_vars, sim_vars[-1], px_size_zyx=[1.,1.,1.])\n",
    "        gt_df = gt_df[gt_df['code_inds'] < len(codebook)]\n",
    "\n",
    "        res_dict = model(net_inp.cuda())\n",
    "        res_dict = model.tensor_to_dict(res_dict)\n",
    "        pred_df = post_proc.get_df(res_dict)\n",
    "        pred_df = pred_df[pred_df['code_inds'] < len(codebook)]\n",
    "        pred_df['gene'] = targets[pred_df['code_inds']]\n",
    "#         pred_df = sel_int_ch(pred_df, codebook)\n",
    "        \n",
    "        perf, matches, _ = matching(px_to_nm(gt_df), pred_df, tolerance=500, print_res=False)\n",
    "        \n",
    "        pred_df.loc[:, 'class'] = 1\n",
    "        pred_df.loc[pred_df['loc_idx'].isin(matches['loc_idx_pred']), 'class'] = 0\n",
    "        pred_zeroed = zero_int_ch(pred_df, codebook)\n",
    "        pred_df['int_ratio'] = pred_zeroed['int_ratio'].values\n",
    "        pred_df['tot_int'] = pred_zeroed['tot_int'].values\n",
    "        pred_df['tot_int_0bit'] = pred_zeroed['tot_int_0bit'].values\n",
    "        pred_df['tot_int_sig'] = pred_zeroed['tot_int_sig'].values\n",
    "\n",
    "    opt.zero_grad()\n",
    "\n",
    "    ''''''\n",
    "#     df_majority = pred_df[pred_df['class']==0]\n",
    "#     df_minority = pred_df[pred_df['class']==1]\n",
    "\n",
    "#     df_maj_down = resample(df_majority, replace=True, n_samples=len(df_minority)*2)\n",
    "\n",
    "#     pred_df = pd.concat([df_minority, df_maj_down])    \n",
    "    ''''''\n",
    "    \n",
    "    net_inp = input_from_df(pred_df, codebook)\n",
    "#     net_inp *= zero_out[None]\n",
    "    net_out = net(net_inp)\n",
    "\n",
    "    net_tar = torch.tensor(pred_df['class'].values, dtype=torch.float32).cuda()\n",
    "    loss = bce(net_out, net_tar[:,None])\n",
    "    print(loss.item())\n",
    "    \n",
    "    test_csv['net_score'] = torch.sigmoid(net(input_from_df(test_csv, codebook)).detach().cpu())\n",
    "#     print(test_csv.nsmallest(12555, 'net_score')['class'].sum())\n",
    "    print('NN_blanks', test_csv.nsmallest(64252, 'net_score')['class'].sum()/88)\n",
    "    print('NN_preds', (test_csv.sort_values('net_score', ascending=True)['class'].cumsum().values <= 88).sum()/64252)\n",
    "\n",
    "    torch.save(net, '../data/qual_nets/net1.pkz')\n",
    "\n",
    "    loss.backward()\n",
    "\n",
    "    opt.step()\n",
    "    sched.step()\n",
    "\n",
    "    loss_col.append(loss.item())"
   ]
  },
  {
   "cell_type": "code",
   "execution_count": null,
   "id": "latin-northern",
   "metadata": {},
   "outputs": [],
   "source": [
    "torch.save(net, '../data/qual_nets/net1.pkz')"
   ]
  },
  {
   "cell_type": "code",
   "execution_count": null,
   "id": "structured-opportunity",
   "metadata": {},
   "outputs": [
    {
     "data": {
      "text/plain": [
       "[<matplotlib.lines.Line2D at 0x7f627a4da280>]"
      ]
     },
     "execution_count": null,
     "metadata": {},
     "output_type": "execute_result"
    },
    {
     "data": {
      "image/png": "[encoded data removed]",
      "text/plain": [
       "<Figure size 432x288 with 1 Axes>"
      ]
     },
     "metadata": {
      "needs_background": "light"
     },
     "output_type": "display_data"
    }
   ],
   "source": [
    "plt.plot(loss_col)"
   ]
  },
  {
   "cell_type": "code",
   "execution_count": null,
   "id": "olive-indie",
   "metadata": {},
   "outputs": [],
   "source": [
    "logr_coefs = {'x_sig': 0.03, 'y_sig': 0.03, 'z_sig': 0.0, 'prob': -2.3}\n",
    "def log_reg(df, weights={}):\n",
    "    \n",
    "    df = df.copy()\n",
    "    df['score'] = 0\n",
    "    for k in weights:\n",
    "        df['score'] += weights[k] * df[k]\n",
    "    df['score'] = 1/(1 + np.exp(-df['score']))\n",
    "    return df"
   ]
  },
  {
   "cell_type": "code",
   "execution_count": null,
   "id": "surface-dispute",
   "metadata": {},
   "outputs": [
    {
     "data": {
      "text/plain": [
       "(array([  85.,  440., 1634., 3826., 5908., 5951., 3874., 1606.,  417.,\n",
       "          94.]),\n",
       " array([-50., -30., -10.,  10.,  30.,  50.,  70.,  90., 110., 130., 150.],\n",
       "       dtype=float32),\n",
       " <BarContainer object of 10 artists>)"
      ]
     },
     "execution_count": null,
     "metadata": {},
     "output_type": "execute_result"
    },
    {
     "data": {
      "image/png": "[encoded data removed]",
      "text/plain": [
       "<Figure size 432x288 with 1 Axes>"
      ]
     },
     "metadata": {
      "needs_background": "light"
     },
     "output_type": "display_data"
    }
   ],
   "source": [
    "plt.hist(cpu(torch.clamp(torch.randn(len(sim_vars[4])) * 30 + 50, -50, 150)))"
   ]
  },
  {
   "cell_type": "code",
   "execution_count": null,
   "id": "fresh-prize",
   "metadata": {},
   "outputs": [
    {
     "name": "stderr",
     "output_type": "stream",
     "text": [
      "100%|████████████████████████████████████████████████████████████████████████████████████████████████████████████████████████████████████████████████████| 10/10 [01:54<00:00, 11.49s/it]\n"
     ]
    }
   ],
   "source": [
    "gt_dfs = []\n",
    "pred_dfs = []\n",
    "\n",
    "for i in tqdm(range(10)):\n",
    "    \n",
    "    with torch.no_grad():\n",
    "\n",
    "        ret_dict = next(iter(decode_dl))\n",
    "        x, local_rate, background = ret_dict['x'], ret_dict['local_rate'], ret_dict['background'], \n",
    "        zcrop, ycrop, xcrop = ret_dict['crop_z'], ret_dict['crop_y'], ret_dict['crop_x']\n",
    "        background = background * micro.get_ch_mult()\n",
    "        local_rate *= 4\n",
    "        if cfg.genm.microscope.col_shifts_enabled  :\n",
    "            zcrop, ycrop, xcrop = ret_dict['crop_z'], ret_dict['crop_y'], ret_dict['crop_x']\n",
    "            zcrop, ycrop, xcrop = zcrop.flatten(), ycrop.flatten(), xcrop.flatten()\n",
    "            colshift_crop = get_color_shift_inp(micro.color_shifts, micro.col_shifts_yx, ycrop, xcrop, cfg.sim.random_crop.crop_sz)\n",
    "        else:\n",
    "            zcrop, ycrop, xcrop, colshift_crop = None, None, None, None\n",
    "\n",
    "        sim_vars = point_process.sample(local_rate[:,0])\n",
    "        \n",
    "        ch_inp = list(micro.get_single_ch_inputs(*sim_vars[:-1], ycrop=ycrop, xcrop=xcrop))\n",
    "        cond = sim_vars[-1] < len(codebook)\n",
    "        cb_cool = torch.repeat_interleave(cond, cond * (cfg.genm.exp_type.n_bits - 1) + 1)\n",
    "        ch_inp[1][cb_cool], ch_inp[2][cb_cool], ch_inp[3][cb_cool] = add_pos_noise([ch_inp[1][cb_cool], ch_inp[2][cb_cool], ch_inp[3][cb_cool]], \n",
    "                                                                                   [cfg.genm.pos_noise.pos_noise_xy*0.5, cfg.genm.pos_noise.pos_noise_xy*0.5, cfg.genm.pos_noise.pos_noise_z], cfg.genm.exp_type.n_bits)\n",
    "        xsim = micro(*ch_inp, add_noise=True)\n",
    "        \n",
    "        if cfg.genm.phasing:\n",
    "\n",
    "            phasing_inp = list(micro.get_single_ch_inputs(*sim_vars[:4], get_phased_ints(sim_vars[4], micro.ch_cols, micro.psf.n_cols) ,sim_vars[5], ycrop=ycrop, xcrop=xcrop))\n",
    "            phasing_inp[1:4] = add_pos_noise(phasing_inp[1:4], [cfg.genm.pos_noise.pos_noise_xy, cfg.genm.pos_noise.pos_noise_xy, cfg.genm.pos_noise.pos_noise_z], cfg.genm.exp_type.n_bits, rm_mean=False)\n",
    "            xsim += micro(*phasing_inp, add_noise=True) * cfg.genm.phasing * torch.rand(xsim.shape, device=xsim.device)\n",
    "\n",
    "        x = micro.noise(xsim, background, randomize_range=cfg.genm.exp_type.randomize_noise_range).sample()\n",
    "\n",
    "        colshift_crop = get_color_shift_inp(micro.color_shifts, micro.col_shifts_yx, ycrop, xcrop, cfg.sim.random_crop.crop_sz)\n",
    "        net_inp = torch.concat([x,colshift_crop], 1)\n",
    "        \n",
    "        gt_vars = sim_vars[:-2] \n",
    "        gt_df = sample_to_df(*gt_vars, sim_vars[-1], px_size_zyx=[1.,1.,1.])\n",
    "        gt_df = gt_df[gt_df['code_inds'] < len(codebook)]\n",
    "\n",
    "        res_dict = model(net_inp.cuda())\n",
    "        res_dict = model.tensor_to_dict(res_dict)\n",
    "        pred_df = post_proc.get_df(res_dict)\n",
    "        pred_df = pred_df[pred_df['code_inds'] < len(codebook)]\n",
    "        pred_df['gene'] = targets[pred_df['code_inds']]\n",
    "        \n",
    "        perf, matches, _ = matching(px_to_nm(gt_df), pred_df, tolerance=500, print_res=False)\n",
    "        \n",
    "        pred_df.loc[:, 'class'] = 1\n",
    "        pred_df.loc[pred_df['loc_idx'].isin(matches['loc_idx_pred']), 'class'] = 0\n",
    "        \n",
    "        pred_df = log_reg(pred_df, logr_coefs)\n",
    "        \n",
    "        pred_dfs.append(pred_df)"
   ]
  },
  {
   "cell_type": "code",
   "execution_count": null,
   "id": "relative-mother",
   "metadata": {},
   "outputs": [],
   "source": [
    "net.eval()\n",
    "res_df = cat_emitter_dfs(pred_dfs, decode_dl.batch_size)\n",
    "pred_zeroed = zero_int_ch(res_df, codebook)\n",
    "res_df['int_ratio'] = pred_zeroed['int_ratio'].values\n",
    "res_df['tot_int'] = pred_zeroed['tot_int'].values\n",
    "res_df['tot_int_0bit'] = pred_zeroed['tot_int_0bit'].values\n",
    "res_df['tot_int_sig'] = pred_zeroed['tot_int_sig'].values\n",
    "inp = input_from_df(res_df, codebook)\n",
    "# inp[:,-22:] *= 0\n",
    "res_df['net_score'] = cpu(torch.sigmoid(net(inp)))"
   ]
  },
  {
   "cell_type": "code",
   "execution_count": null,
   "id": "revolutionary-strengthening",
   "metadata": {},
   "outputs": [],
   "source": [
    "res_df = sel_int_ch(res_df, codebook)"
   ]
  },
  {
   "cell_type": "code",
   "execution_count": null,
   "id": "changing-culture",
   "metadata": {},
   "outputs": [
    {
     "data": {
      "text/plain": [
       "<matplotlib.legend.Legend at 0x7f61fadd9fa0>"
      ]
     },
     "execution_count": null,
     "metadata": {},
     "output_type": "execute_result"
    },
    {
     "data": {
      "image/png": "[encoded data removed]",
      "text/plain": [
       "<Figure size 720x720 with 1 Axes>"
      ]
     },
     "metadata": {
      "needs_background": "light"
     },
     "output_type": "display_data"
    }
   ],
   "source": [
    "plt.figure(figsize=(10,10))\n",
    "for k in ['comb_sig','x_sig','y_sig','z_sig','prob','z','score','net_score','int_ratio']:\n",
    "    b = False if k in ['tot_int','prob'] else True\n",
    "    r  = make_roc(res_df, k, ascending=b)\n",
    "    plt.plot(r, label=k)\n",
    "plt.legend()"
   ]
  },
  {
   "cell_type": "code",
   "execution_count": null,
   "id": "impossible-astrology",
   "metadata": {},
   "outputs": [
    {
     "data": {
      "image/png": "[encoded data removed]",
      "text/plain": [
       "<Figure size 1800x360 with 7 Axes>"
      ]
     },
     "metadata": {
      "needs_background": "light"
     },
     "output_type": "display_data"
    }
   ],
   "source": [
    "# res_df = sel_int_ch(res_df, codebook)\n",
    "metrics = ['comb_sig','tot_int','tot_int_sig', 'prob','z', 'int_ratio', 'net_score']\n",
    "bins = [np.linspace(0,1.5,31), np.linspace(0,30,31), np.linspace(0,15,31), np.linspace(0.4,1,31), np.linspace(-50,150.,31),  np.linspace(0.,3., 31), np.linspace(0.,1., 101)]\n",
    "plt.figure(figsize=(25,5))\n",
    "for i in range(len(metrics)):\n",
    "    plt.subplot(1,len(metrics),i+1)\n",
    "    _=plt.hist(res_df[res_df['class'] == 0][metrics[i]], density=True, alpha=0.5, bins=bins[i], label='gene matches')\n",
    "    _=plt.hist(res_df[res_df['class'] == 1][metrics[i]], density=True, alpha=0.5, bins=bins[i], label='blank matches')\n",
    "    plt.title(metrics[i])"
   ]
  },
  {
   "cell_type": "code",
   "execution_count": null,
   "id": "computational-algorithm",
   "metadata": {},
   "outputs": [
    {
     "ename": "TypeError",
     "evalue": "make_roc() got an unexpected keyword argument 'n_max'",
     "output_type": "error",
     "traceback": [
      "\u001b[0;31m---------------------------------------------------------------------------\u001b[0m",
      "\u001b[0;31mTypeError\u001b[0m                                 Traceback (most recent call last)",
      "Input \u001b[0;32mIn [58]\u001b[0m, in \u001b[0;36m<cell line: 2>\u001b[0;34m()\u001b[0m\n\u001b[1;32m      2\u001b[0m \u001b[38;5;28;01mfor\u001b[39;00m k \u001b[38;5;129;01min\u001b[39;00m [\u001b[38;5;124m'\u001b[39m\u001b[38;5;124mcomb_sig\u001b[39m\u001b[38;5;124m'\u001b[39m,\u001b[38;5;124m'\u001b[39m\u001b[38;5;124mx_sig\u001b[39m\u001b[38;5;124m'\u001b[39m,\u001b[38;5;124m'\u001b[39m\u001b[38;5;124my_sig\u001b[39m\u001b[38;5;124m'\u001b[39m,\u001b[38;5;124m'\u001b[39m\u001b[38;5;124mz_sig\u001b[39m\u001b[38;5;124m'\u001b[39m,\u001b[38;5;124m'\u001b[39m\u001b[38;5;124mprob\u001b[39m\u001b[38;5;124m'\u001b[39m,\u001b[38;5;124m'\u001b[39m\u001b[38;5;124mz\u001b[39m\u001b[38;5;124m'\u001b[39m,\u001b[38;5;124m'\u001b[39m\u001b[38;5;124mscore\u001b[39m\u001b[38;5;124m'\u001b[39m,\u001b[38;5;124m'\u001b[39m\u001b[38;5;124mnet_score\u001b[39m\u001b[38;5;124m'\u001b[39m,\u001b[38;5;124m'\u001b[39m\u001b[38;5;124mint_ratio\u001b[39m\u001b[38;5;124m'\u001b[39m]:\n\u001b[1;32m      3\u001b[0m     b \u001b[38;5;241m=\u001b[39m \u001b[38;5;28;01mFalse\u001b[39;00m \u001b[38;5;28;01mif\u001b[39;00m k \u001b[38;5;129;01min\u001b[39;00m [\u001b[38;5;124m'\u001b[39m\u001b[38;5;124mtot_int\u001b[39m\u001b[38;5;124m'\u001b[39m,\u001b[38;5;124m'\u001b[39m\u001b[38;5;124mprob\u001b[39m\u001b[38;5;124m'\u001b[39m] \u001b[38;5;28;01melse\u001b[39;00m \u001b[38;5;28;01mTrue\u001b[39;00m\n\u001b[0;32m----> 4\u001b[0m     r  \u001b[38;5;241m=\u001b[39m \u001b[43mmake_roc\u001b[49m\u001b[43m(\u001b[49m\u001b[43mres_df\u001b[49m\u001b[43m,\u001b[49m\u001b[43m \u001b[49m\u001b[43mk\u001b[49m\u001b[43m,\u001b[49m\u001b[43m \u001b[49m\u001b[43mn_max\u001b[49m\u001b[38;5;241;43m=\u001b[39;49m\u001b[38;5;241;43m15000\u001b[39;49m\u001b[43m,\u001b[49m\u001b[43m \u001b[49m\u001b[43mascending\u001b[49m\u001b[38;5;241;43m=\u001b[39;49m\u001b[43mb\u001b[49m\u001b[43m)\u001b[49m\n\u001b[1;32m      5\u001b[0m     plt\u001b[38;5;241m.\u001b[39mplot(r[\u001b[38;5;241m0\u001b[39m],r[\u001b[38;5;241m1\u001b[39m], label\u001b[38;5;241m=\u001b[39mk)\n\u001b[1;32m      6\u001b[0m plt\u001b[38;5;241m.\u001b[39mlegend()\n",
      "\u001b[0;31mTypeError\u001b[0m: make_roc() got an unexpected keyword argument 'n_max'"
     ]
    },
    {
     "data": {
      "text/plain": [
       "<Figure size 720x720 with 0 Axes>"
      ]
     },
     "metadata": {},
     "output_type": "display_data"
    }
   ],
   "source": [
    "plt.figure(figsize=(10,10))\n",
    "for k in ['comb_sig','x_sig','y_sig','z_sig','prob','z','score','net_score','int_ratio']:\n",
    "    b = False if k in ['tot_int','prob'] else True\n",
    "    r  = make_roc(res_df, k,  ascending=b)\n",
    "    plt.plot(r[0],r[1], label=k)\n",
    "plt.legend()"
   ]
  },
  {
   "cell_type": "code",
   "execution_count": null,
   "id": "center-neighbor",
   "metadata": {},
   "outputs": [
    {
     "name": "stdout",
     "output_type": "stream",
     "text": [
      "Converted 00_models.ipynb.\n",
      "Converted 01_psf.ipynb.\n",
      "Converted 02_microscope.ipynb.\n",
      "Converted 02b_place_psfs.ipynb.\n",
      "Converted 03_noise.ipynb.\n",
      "Converted 04_pointsource.ipynb.\n",
      "Converted 05_gmm_loss.ipynb.\n",
      "Converted 06_plotting.ipynb.\n",
      "Converted 07_file_io.ipynb.\n",
      "Converted 08_dataset.ipynb.\n",
      "Converted 09_output_trafo.ipynb.\n",
      "Converted 10_matching.ipynb.\n",
      "Converted 11_emitter_io.ipynb.\n",
      "Converted 12_utils.ipynb.\n",
      "Converted 13_train.ipynb.\n",
      "Converted 15_fit_psf.ipynb.\n",
      "Converted 16_visualization.ipynb.\n",
      "Converted 17_eval_routines.ipynb.\n",
      "Converted 18_predict_funcs.ipynb.\n",
      "Converted 19_MERFISH_routines.ipynb.\n",
      "Converted 22_MERFISH_codenet.ipynb.\n",
      "Converted 23_MERFISH_comparison.ipynb.\n",
      "Converted 24_exp_specific.ipynb.\n",
      "Converted 25_ensembling.ipynb.\n",
      "Converted 26_gen_train.ipynb.\n",
      "Converted 27_testtime_rescale.ipynb.\n",
      "Converted index.ipynb.\n"
     ]
    }
   ],
   "source": [
    "!nbdev_build_lib"
   ]
  },
  {
   "cell_type": "code",
   "execution_count": null,
   "id": "broadband-insight",
   "metadata": {},
   "outputs": [],
   "source": []
  }
 ],
 "metadata": {
  "kernelspec": {
   "display_name": "Python [conda env:decode_fish_dev2]",
   "language": "python",
   "name": "conda-env-decode_fish_dev2-py"
  }
 },
 "nbformat": 4,
 "nbformat_minor": 5
}
