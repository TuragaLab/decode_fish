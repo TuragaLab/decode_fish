{
 "cells": [
  {
   "cell_type": "code",
   "execution_count": 13,
   "metadata": {
    "ExecuteTime": {
     "end_time": "2021-06-08T19:08:06.561300Z",
     "start_time": "2021-06-08T19:08:06.546065Z"
    }
   },
   "outputs": [],
   "source": [
    "from pathlib import Path\n",
    "from decode_fish.funcs.utils import *\n",
    "import glob\n",
    "\n",
    "base_string = f'bsub -gpu \"num=1\" -q gpu_any -o logs/ofish.log -e logs/efish.log /groups/turaga/home/speisera/anaconda3/envs/decode2_dev/bin/python /groups/turaga/home/speisera/Mackebox/Artur/WorkDB/deepstorm/decode_fish/decode_fish/train.py'   \n",
    "\n",
    "def make_sweep_str(pfile, pars, group):\n",
    "    \n",
    "    base_str = base_string + f' +experiment={pfile}'\n",
    "    name = ''\n",
    "    \n",
    "    for k in pars:\n",
    "        base_str += ' ' + k + f'={pars[k]}'\n",
    "        name += k.split('.')[-1]+f':{pars[k]}x'\n",
    "    name = name[:-1]\n",
    "    \n",
    "    return base_str + f' run_name={name} output.group={group}' + '\\n'\n",
    "    \n",
    "\n",
    "def make_named_str(pfile, name, group):\n",
    "    \n",
    "    base_str = base_string + f' +experiment={pfile}'\n",
    "    \n",
    "    return base_str + f' run_name={name} output.group={group}' + '\\n'"
   ]
  },
  {
   "cell_type": "code",
   "execution_count": 22,
   "metadata": {
    "ExecuteTime": {
     "end_time": "2021-06-09T15:09:04.535794Z",
     "start_time": "2021-06-09T15:09:04.524559Z"
    }
   },
   "outputs": [],
   "source": [
    "group = 'sweep_m3'\n",
    "pfile = 'Dlg1_m3'\n",
    "\n",
    "variable_col = param_iter()\n",
    "variable_col.add('noise.theta', 29.41*1.5)\n",
    "variable_col.add('bg_estimation.fractal.scale', 2000, 3000)\n",
    "variable_col.add('bg_estimation.fractal.persistence', 0.5,0.75)\n",
    "variable_col.add('prob_generator.high', 0.0003, 0.00015)\n",
    "par_prod = variable_col.param_product()"
   ]
  },
  {
   "cell_type": "code",
   "execution_count": 31,
   "metadata": {
    "ExecuteTime": {
     "end_time": "2021-06-10T16:31:24.276784Z",
     "start_time": "2021-06-10T16:31:24.260119Z"
    },
    "scrolled": false
   },
   "outputs": [
    {
     "name": "stdout",
     "output_type": "stream",
     "text": [
      "bsub -gpu \"num=1\" -q gpu_any -o logs/ofish.log -e logs/efish.log /groups/turaga/home/speisera/anaconda3/envs/decode2_dev/bin/python /groups/turaga/home/speisera/Mackebox/Artur/WorkDB/deepstorm/decode_fish/decode_fish/train.py +experiment=fig_sim_m7 training.mic.enabled=True training.int.enabled=True run_name=enabled:Truexenabled:True output.group=sweep_fig7\n",
      "\n",
      "bsub -gpu \"num=1\" -q gpu_any -o logs/ofish.log -e logs/efish.log /groups/turaga/home/speisera/anaconda3/envs/decode2_dev/bin/python /groups/turaga/home/speisera/Mackebox/Artur/WorkDB/deepstorm/decode_fish/decode_fish/train.py +experiment=fig_sim_m7 training.mic.enabled=True training.int.enabled=False run_name=enabled:Truexenabled:False output.group=sweep_fig7\n",
      "\n",
      "bsub -gpu \"num=1\" -q gpu_any -o logs/ofish.log -e logs/efish.log /groups/turaga/home/speisera/anaconda3/envs/decode2_dev/bin/python /groups/turaga/home/speisera/Mackebox/Artur/WorkDB/deepstorm/decode_fish/decode_fish/train.py +experiment=fig_sim_m7 training.mic.enabled=False training.int.enabled=True run_name=enabled:Falsexenabled:True output.group=sweep_fig7\n",
      "\n",
      "bsub -gpu \"num=1\" -q gpu_any -o logs/ofish.log -e logs/efish.log /groups/turaga/home/speisera/anaconda3/envs/decode2_dev/bin/python /groups/turaga/home/speisera/Mackebox/Artur/WorkDB/deepstorm/decode_fish/decode_fish/train.py +experiment=fig_sim_m7 training.mic.enabled=False training.int.enabled=False run_name=enabled:Falsexenabled:False output.group=sweep_fig7\n",
      "\n"
     ]
    }
   ],
   "source": [
    "# Path.mkdir(model_path/group, exist_ok=True)\n",
    "\n",
    "with open('run_slurm.sh', 'w') as f:\n",
    "    for pars in par_prod:  \n",
    "        exec_str = make_sweep_str(pfile, pars, group)\n",
    "        print(exec_str)\n",
    "        f.write(exec_str)"
   ]
  },
  {
   "cell_type": "code",
   "execution_count": 30,
   "metadata": {
    "ExecuteTime": {
     "end_time": "2021-06-10T16:31:18.722476Z",
     "start_time": "2021-06-10T16:31:18.712233Z"
    }
   },
   "outputs": [],
   "source": [
    "group = 'sweep_fig7'\n",
    "pfile = 'fig_sim_m7'\n",
    "\n",
    "variable_col = param_iter()\n",
    "variable_col.add('training.mic.enabled', True, False)\n",
    "variable_col.add('training.int.enabled', True, False)\n",
    "# variable_col.add('training.mic.opt._target_', 'torch_optimizer.AdaBound', 'torch_optimizer.AdaMod', 'torch_optimizer.Adafactor', 'torch_optimizer.AdamP', 'torch_optimizer.AggMo', 'torch_optimizer.DiffGrad', \n",
    "#                 'torch_optimizer.NovoGrad', 'torch_optimizer.PID', 'torch_optimizer.QHAdam', 'torch_optimizer.QHM', 'torch_optimizer.RAdam', 'torch_optimizer.SGDP', 'torch_optimizer.SGDW', 'torch_optimizer.Shampoo',\n",
    "#                 'torch_optimizer.SWATS', 'torch_optimizer.YOGI')\n",
    "\n",
    "par_prod = variable_col.param_product()"
   ]
  },
  {
   "cell_type": "code",
   "execution_count": 14,
   "metadata": {
    "ExecuteTime": {
     "end_time": "2021-06-08T19:08:11.146305Z",
     "start_time": "2021-06-08T19:08:11.140456Z"
    }
   },
   "outputs": [],
   "source": [
    "from decode_fish.imports import *"
   ]
  },
  {
   "cell_type": "code",
   "execution_count": 29,
   "metadata": {
    "ExecuteTime": {
     "end_time": "2021-06-10T10:23:59.057912Z",
     "start_time": "2021-06-10T10:23:58.544754Z"
    }
   },
   "outputs": [
    {
     "name": "stdout",
     "output_type": "stream",
     "text": [
      "bsub -gpu \"num=1\" -q gpu_any -o logs/ofish.log -e logs/efish.log /groups/turaga/home/speisera/anaconda3/envs/decode2_dev/bin/python /groups/turaga/home/speisera/Mackebox/Artur/WorkDB/deepstorm/decode_fish/decode_fish/train.py +experiment=msp300_f1  run_name=msp300_f1_none noise.theta=54.344570027378 microscope.norm=none\n",
      "\n",
      "bsub -gpu \"num=1\" -q gpu_any -o logs/ofish.log -e logs/efish.log /groups/turaga/home/speisera/anaconda3/envs/decode2_dev/bin/python /groups/turaga/home/speisera/Mackebox/Artur/WorkDB/deepstorm/decode_fish/decode_fish/train.py +experiment=N2_352_f1  run_name=N2_352_f1_none noise.theta=23.27232633537633 microscope.norm=none\n",
      "\n",
      "bsub -gpu \"num=1\" -q gpu_any -o logs/ofish.log -e logs/efish.log /groups/turaga/home/speisera/anaconda3/envs/decode2_dev/bin/python /groups/turaga/home/speisera/Mackebox/Artur/WorkDB/deepstorm/decode_fish/decode_fish/train.py +experiment=rab11_f1  run_name=rab11_f1_none noise.theta=81.16765723381953 microscope.norm=none\n",
      "\n",
      "bsub -gpu \"num=1\" -q gpu_any -o logs/ofish.log -e logs/efish.log /groups/turaga/home/speisera/anaconda3/envs/decode2_dev/bin/python /groups/turaga/home/speisera/Mackebox/Artur/WorkDB/deepstorm/decode_fish/decode_fish/train.py +experiment=scrib_f1  run_name=scrib_f1_none noise.theta=0.427573077398337 microscope.norm=none\n",
      "\n",
      "bsub -gpu \"num=1\" -q gpu_any -o logs/ofish.log -e logs/efish.log /groups/turaga/home/speisera/anaconda3/envs/decode2_dev/bin/python /groups/turaga/home/speisera/Mackebox/Artur/WorkDB/deepstorm/decode_fish/decode_fish/train.py +experiment=sgg_f1  run_name=sgg_f1_none noise.theta=2.103538967782192 microscope.norm=none\n",
      "\n",
      "bsub -gpu \"num=1\" -q gpu_any -o logs/ofish.log -e logs/efish.log /groups/turaga/home/speisera/anaconda3/envs/decode2_dev/bin/python /groups/turaga/home/speisera/Mackebox/Artur/WorkDB/deepstorm/decode_fish/decode_fish/train.py +experiment=Dlg1_f1  run_name=Dlg1_f1_none noise.theta=44.12590443517847 microscope.norm=none\n",
      "\n"
     ]
    }
   ],
   "source": [
    "exps = ['msp300', 'N2_352', 'rab11', 'scrib', 'sgg', 'Dlg1']\n",
    "# exps = [ 'scrib', 'Dlg1']\n",
    "ver = 'f1'\n",
    "name = 'f1_none'\n",
    "\n",
    "with open('run_slurm.sh', 'w') as f:\n",
    "    for exp in exps:  \n",
    "        cfg = OmegaConf.load(f'config/experiment/{exp}_{ver}.yaml')\n",
    "#         exec_str = base_string + f' +experiment={exp}_{ver}  run_name={exp}_{name}' + '\\n'\n",
    "        exec_str = base_string + f' +experiment={exp}_{ver}  run_name={exp}_{name} noise.theta={cfg.noise.theta*1.5} microscope.norm=none' + '\\n'\n",
    "        print(exec_str)\n",
    "        f.write(exec_str)"
   ]
  },
  {
   "cell_type": "code",
   "execution_count": null,
   "metadata": {},
   "outputs": [],
   "source": [
    "# bsub -gpu \"num=1\" -q gpu_any -o logs/ofish.log -e logs/efish.log /groups/turaga/home/speisera/anaconda3/envs/decode2_dev/bin/python /groups/turaga/home/speisera/Mackebox/Artur/WorkDB/deepstorm/decode_fish/decode_fish/sim_eval.py sweep_name=fig2"
   ]
  },
  {
   "cell_type": "code",
   "execution_count": null,
   "metadata": {},
   "outputs": [],
   "source": [
    "exps = ['msp300', 'N2_352', 'rab11', 'scrib', 'sgg', 'Dlg1']\n",
    "# exps = [ 'scrib', 'Dlg1']\n",
    "ver = 'f1'\n",
    "name = 'f1_none'"
   ]
  }
 ],
 "metadata": {
  "kernelspec": {
   "display_name": "Python [conda env:decode2_dev]",
   "language": "python",
   "name": "conda-env-decode2_dev-py"
  },
  "language_info": {
   "codemirror_mode": {
    "name": "ipython",
    "version": 3
   },
   "file_extension": ".py",
   "mimetype": "text/x-python",
   "name": "python",
   "nbconvert_exporter": "python",
   "pygments_lexer": "ipython3",
   "version": "3.7.7"
  }
 },
 "nbformat": 4,
 "nbformat_minor": 4
}
