{
 "cells": [
  {
   "cell_type": "code",
   "execution_count": null,
   "id": "immediate-exploration",
   "metadata": {},
   "outputs": [],
   "source": [
    "%load_ext autoreload\n",
    "%autoreload 2"
   ]
  },
  {
   "cell_type": "code",
   "execution_count": null,
   "id": "racial-january",
   "metadata": {},
   "outputs": [],
   "source": [
    "from decode_fish.imports import *\n",
    "from decode_fish.funcs.file_io import *\n",
    "from decode_fish.funcs.emitter_io import *\n",
    "from decode_fish.funcs.utils import *\n",
    "from decode_fish.funcs.dataset import *\n",
    "from decode_fish.funcs.plotting import *\n",
    "from decode_fish.engine.noise import estimate_noise_scale\n",
    "import shutil\n",
    "from decode_fish.funcs.visualization import *\n",
    "from decode_fish.funcs.predict import window_predict\n",
    "\n",
    "from numba import njit\n",
    "from scipy.spatial import cKDTree\n",
    "from decode_fish.funcs.matching import *\n",
    "\n",
    "import io, requests, glob\n",
    "\n",
    "from decode_fish.funcs.merfish_eval import *\n",
    "from decode_fish.funcs.exp_specific import *\n",
    "# from starfish import data\n",
    "import pprint\n",
    "import seaborn as sns\n",
    "\n",
    "# import plotly.express as px\n",
    "# import plotly.io as pio\n",
    "# pio.renderers.default='notebook'"
   ]
  },
  {
   "cell_type": "code",
   "execution_count": null,
   "id": "animal-driving",
   "metadata": {},
   "outputs": [],
   "source": [
    "paths = glob.glob('/groups/turaga/home/speisera/Mackebox/Artur/WorkDB/deepstorm/models/fishcod/MERFISH_MOp/sweep_mop_16/seed:*/train.yaml')"
   ]
  },
  {
   "cell_type": "code",
   "execution_count": null,
   "id": "existing-parliament",
   "metadata": {},
   "outputs": [
    {
     "name": "stderr",
     "output_type": "stream",
     "text": [
      "/groups/turaga/home/speisera/anaconda3/envs/decode_fish_dev2/lib/python3.8/site-packages/torch/cuda/__init__.py:122: UserWarning: \n",
      "    Found GPU2 NVS 510 which is of cuda capability 3.0.\n",
      "    PyTorch no longer supports this GPU because it is too old.\n",
      "    The minimum cuda capability supported by this library is 3.7.\n",
      "    \n",
      "  warnings.warn(old_gpu_warn % (d, name, major, minor, min_arch // 10, min_arch % 10))\n"
     ]
    },
    {
     "name": "stdout",
     "output_type": "stream",
     "text": [
      "Crop size larger than volume in at least one dimension. Crop size changed to (1, 56, 56)\n",
      "7 volumes\n"
     ]
    },
    {
     "name": "stderr",
     "output_type": "stream",
     "text": [
      "/groups/turaga/home/speisera/anaconda3/envs/decode_fish_dev2/lib/python3.8/site-packages/torch/functional.py:568: UserWarning: torch.meshgrid: in an upcoming release, it will be required to pass the indexing argument. (Triggered internally at  ../aten/src/ATen/native/TensorShape.cpp:2228.)\n",
      "  return _VF.meshgrid(tensors, **kwargs)  # type: ignore[attr-defined]\n"
     ]
    }
   ],
   "source": [
    "models = []\n",
    "micros = []\n",
    "img_3d = None\n",
    "for i,p in enumerate(paths):\n",
    "    cfg = OmegaConf.load(p)\n",
    "    cfg.genm.foci.n_foci_avg = 0\n",
    "    model, post_proc, micro, img_3d, decode_dl = load_all(cfg, load_ds=(i==(len(paths)-1)))\n",
    "    models.append(model)\n",
    "    micros.append(micro)"
   ]
  },
  {
   "cell_type": "code",
   "execution_count": null,
   "id": "supreme-investigation",
   "metadata": {},
   "outputs": [],
   "source": [
    "codebook, targets = hydra.utils.instantiate(cfg.codebook)\n",
    "post_proc.codebook = torch.tensor(codebook)"
   ]
  },
  {
   "cell_type": "code",
   "execution_count": null,
   "id": "communist-marker",
   "metadata": {},
   "outputs": [],
   "source": [
    "from decode_fish.engine.point_process import PointProcessUniform\n",
    "from decode_fish.funcs.emitter_io import *\n",
    "from decode_fish.funcs.output_trafo import *\n",
    "from decode_fish.funcs.matching import *\n",
    "\n",
    "def sim_data(decode_dl, batches, micro, model, channels=1, n_bits=1, sim_z=True, codebook=None):\n",
    "    \n",
    "    gt_dfs = []\n",
    "    xsim_col = []\n",
    "    cols_col = []\n",
    "    \n",
    "    for _ in range(batches):\n",
    "        with torch.no_grad():\n",
    "            ret_dict = next(iter(decode_dl))\n",
    "            x, local_rate, background = ret_dict['x'], ret_dict['local_rate'], ret_dict['background'], \n",
    "            zcrop, ycrop, xcrop = ret_dict['crop_z'], ret_dict['crop_y'], ret_dict['crop_x']\n",
    "            background = background * micro.get_ch_mult()\n",
    "            local_rate *= 2\n",
    "            \n",
    "            sim_vars = PointProcessUniform(local_rate[:,0] ,model.int_dist.int_conc, model.int_dist.int_rate, model.int_dist.int_loc, channels=channels, n_bits=n_bits, sim_z=sim_z, codebook=codebook, int_option=cfg.training.int_option).sample(from_code_book=(codebook is not None))\n",
    "            ch_inp = micro.get_single_ch_inputs(*sim_vars[:-1], ycrop=ycrop.flatten(), xcrop=xcrop.flatten())\n",
    "            xsim = micro(*ch_inp, add_noise=True, add_pos_noise=True)\n",
    "\n",
    "\n",
    "            noise_vars = PointProcessUniform(local_rate[:,0] * cfg.genm.emitter_noise.rate_fac, int_conc=model.int_dist.int_conc.detach() * cfg.genm.emitter_noise.int_fac, \n",
    "                                           int_rate=model.int_dist.int_rate.detach(), int_loc=model.int_dist.int_loc.detach(), \n",
    "                                           sim_iters=5, channels=cfg.genm.exp_type.n_channels, n_bits=1, \n",
    "                                           sim_z=cfg.genm.exp_type.pred_z, codebook=None, int_option=cfg.training.int_option).sample(from_code_book=False)     \n",
    "\n",
    "            noise_inp = micro.get_single_ch_inputs(*noise_vars[:-1], ycrop=ycrop.flatten(), xcrop=xcrop.flatten())\n",
    "            xsim += micro(*noise_inp, add_noise=True)\n",
    "        \n",
    "            x = micro.noise(xsim, background, const_theta_sim=cfg.genm.exp_type.const_theta_sim).sample()\n",
    "\n",
    "            if micro.col_shifts_enabled:\n",
    "                colshift_crop = get_color_shift_inp(micro.color_shifts, micro.col_shifts_yx, ycrop, xcrop, cfg.sim.random_crop.crop_sz)\n",
    "                cols_col.append(colshift_crop)\n",
    "                \n",
    "            xsim_col.append(x)\n",
    "\n",
    "            gt_vars = sim_vars[:-2] \n",
    "            gt_df = sample_to_df(*gt_vars, sim_vars[-1], px_size_zyx=[1.,1.,1.])\n",
    "            gt_dfs.append(gt_df)\n",
    "        \n",
    "    return torch.cat(xsim_col), torch.cat(cols_col), cat_emitter_dfs(gt_dfs, decode_dl.batch_size)\n",
    "\n",
    "def get_sim_perf(x, gt_df, model, post_proc, micro, cuda=True, print_res=True):\n",
    "\n",
    "    pred_dfs = []\n",
    "    x_recs = []\n",
    "    \n",
    "    for i in range(len(x)):\n",
    "        with torch.no_grad():\n",
    "#             pred_df, rec, res_dict, _, _, _, _ = get_prediction(model, post_proc, x[i:i+1], micro=micro, cuda=True, return_rec=True)\n",
    "            pred_df = get_prediction(model, post_proc, x[i:i+1], micro=micro, cuda=True, return_rec=False)\n",
    "            pred_dfs.append(pred_df)\n",
    "#             x_recs.append(rec)\n",
    "        \n",
    "    pred_df = cat_emitter_dfs(pred_dfs)\n",
    "#     xrec = torch.cat(x_recs)\n",
    "    pred_df['z'] = pred_df['z']/100\n",
    "    gt_df['z'] = gt_df['z']/100\n",
    "\n",
    "    perf, matches, _ = matching(gt_df, pred_df, tolerance=1000, print_res=print_res, match_genes=True, allow_multiple_matches=False)\n",
    "#     perf['mae'] = abs(xrec-rec).mean().item()\n",
    "#     perf['rmse'] = torch.sqrt(((xrec-rec)**2).mean()).item()\n",
    "    res_dict = None\n",
    "    return perf, pred_df, matches, res_dict"
   ]
  },
  {
   "cell_type": "code",
   "execution_count": null,
   "id": "pleased-cancellation",
   "metadata": {},
   "outputs": [],
   "source": [
    "xsim, cols, gt = sim_data(decode_dl, 10, micros[2], model, channels=22, n_bits=4, sim_z=cfg.genm.exp_type.pred_z, codebook=torch.tensor(codebook[:252]))"
   ]
  },
  {
   "cell_type": "code",
   "execution_count": null,
   "id": "limiting-fairy",
   "metadata": {},
   "outputs": [
    {
     "name": "stdout",
     "output_type": "stream",
     "text": [
      "Recall: 0.415\n",
      "Precision: 0.876\n",
      "Jaccard: 39.242\n",
      "RMSE_vol: 64.636\n",
      "Eff_3d: 31.181\n",
      "FN: 8637.0 FP: 865.0\n",
      "Num. matches: 6137.000\n",
      "Shift: 6.22,2.74,0.04\n",
      "Recall: 0.428\n",
      "Precision: 0.865\n",
      "Jaccard: 40.117\n",
      "RMSE_vol: 66.559\n",
      "Eff_3d: 31.491\n",
      "FN: 8452.0 FP: 985.0\n",
      "Num. matches: 6322.000\n",
      "Shift: 6.40,-1.91,0.02\n",
      "Recall: 0.421\n",
      "Precision: 0.874\n",
      "Jaccard: 39.708\n",
      "RMSE_vol: 66.303\n",
      "Eff_3d: 31.195\n",
      "FN: 8551.0 FP: 898.0\n",
      "Num. matches: 6223.000\n",
      "Shift: 0.12,1.67,0.03\n"
     ]
    }
   ],
   "source": [
    "dfs = {}\n",
    "\n",
    "for i,m in enumerate(models):\n",
    "    perf, pred_df, matches, res_dict = get_sim_perf(torch.concat([xsim,cols*0], 1), px_to_nm(gt, cfg.evaluation.px_size_zyx), m, post_proc, micro, print_res=True)\n",
    "    pred_df.loc[:, 'class'] = 1\n",
    "    pred_df.loc[pred_df['loc_idx'].isin(matches['loc_idx_pred']), 'class'] = 0\n",
    "    dfs[f'model_{i}'] = pred_df"
   ]
  },
  {
   "cell_type": "code",
   "execution_count": null,
   "id": "elder-philip",
   "metadata": {},
   "outputs": [
    {
     "name": "stdout",
     "output_type": "stream",
     "text": [
      "Recall: 0.418\n",
      "Precision: 0.875\n",
      "Jaccard: 39.401\n",
      "RMSE_vol: 63.810\n",
      "Eff_3d: 31.515\n",
      "FN: 8605.0 FP: 883.0\n",
      "Num. matches: 6169.000\n",
      "Shift: 6.64,2.02,0.04\n",
      "Recall: 0.429\n",
      "Precision: 0.863\n",
      "Jaccard: 40.172\n",
      "RMSE_vol: 62.310\n",
      "Eff_3d: 32.547\n",
      "FN: 8434.0 FP: 1008.0\n",
      "Num. matches: 6340.000\n",
      "Shift: 6.75,-2.84,0.02\n",
      "Recall: 0.422\n",
      "Precision: 0.872\n",
      "Jaccard: 39.788\n",
      "RMSE_vol: 61.437\n",
      "Eff_3d: 32.405\n",
      "FN: 8532.0 FP: 914.0\n",
      "Num. matches: 6242.000\n",
      "Shift: 0.42,0.65,0.03\n"
     ]
    }
   ],
   "source": [
    "dfs = {}\n",
    "\n",
    "for i,m in enumerate(models):\n",
    "    perf, pred_df, matches, res_dict = get_sim_perf(torch.concat([xsim,cols*0], 1), px_to_nm(gt, cfg.evaluation.px_size_zyx), m, post_proc, micro, print_res=True)\n",
    "    pred_df.loc[:, 'class'] = 1\n",
    "    pred_df.loc[pred_df['loc_idx'].isin(matches['loc_idx_pred']), 'class'] = 0\n",
    "    dfs[f'model_{i}'] = pred_df"
   ]
  },
  {
   "cell_type": "code",
   "execution_count": null,
   "id": "charged-genealogy",
   "metadata": {},
   "outputs": [],
   "source": [
    "rdicts = []\n",
    "for m in models:\n",
    "    pred_df, _, res_dict, _, _, _, _ = get_prediction(m, post_proc, torch.concat([xsim,cols], 1), micro=micro, cuda=True, return_rec=True)\n",
    "    rdicts.append(res_dict)\n",
    "    free_mem()"
   ]
  },
  {
   "cell_type": "code",
   "execution_count": null,
   "id": "above-strengthening",
   "metadata": {},
   "outputs": [
    {
     "name": "stderr",
     "output_type": "stream",
     "text": [
      "<>:4: SyntaxWarning: \"is not\" with a literal. Did you mean \"!=\"?\n",
      "<>:4: SyntaxWarning: \"is not\" with a literal. Did you mean \"!=\"?\n",
      "/tmp/ipykernel_15119/1206518881.py:4: SyntaxWarning: \"is not\" with a literal. Did you mean \"!=\"?\n",
      "  if k is not 'logits':\n"
     ]
    }
   ],
   "source": [
    "comb_dict = {}\n",
    "for k in rdicts[0]:\n",
    "    kl = torch.stack([r[k] for r in rdicts], 0)\n",
    "    if k != 'logits':\n",
    "        comb_dict[k] = torch.mean(kl, 0)\n",
    "    else:\n",
    "        comb_dict[k] = torch.log(torch.mean(torch.exp(kl), 0))"
   ]
  },
  {
   "cell_type": "code",
   "execution_count": null,
   "id": "incorrect-courage",
   "metadata": {},
   "outputs": [],
   "source": [
    "del(_)\n",
    "del(rdicts)\n",
    "del(res_dict)\n",
    "torch.cuda.empty_cache()\n",
    "free_mem()"
   ]
  },
  {
   "cell_type": "code",
   "execution_count": null,
   "id": "nearby-duplicate",
   "metadata": {},
   "outputs": [],
   "source": [
    "comb_df = post_proc.get_df(comb_dict)"
   ]
  },
  {
   "cell_type": "code",
   "execution_count": null,
   "id": "wound-newman",
   "metadata": {},
   "outputs": [
    {
     "name": "stdout",
     "output_type": "stream",
     "text": [
      "Recall: 0.424\n",
      "Precision: 0.875\n",
      "Jaccard: 39.957\n",
      "RMSE_vol: 60.348\n",
      "Eff_3d: 32.801\n",
      "FN: 8514.0 FP: 893.0\n",
      "Num. matches: 6260.000\n",
      "Shift: 4.67,0.01,3.05\n"
     ]
    }
   ],
   "source": [
    "perf, matches, _ = matching(px_to_nm(gt), comb_df, tolerance=1000, print_res=True, match_genes=True, allow_multiple_matches=False)\n",
    "comb_df.loc[:, 'class'] = 1\n",
    "comb_df.loc[pred_df['loc_idx'].isin(matches['loc_idx_pred']), 'class'] = 0"
   ]
  },
  {
   "cell_type": "code",
   "execution_count": null,
   "id": "major-blade",
   "metadata": {},
   "outputs": [],
   "source": [
    "dfs['model_mean'] = comb_df"
   ]
  },
  {
   "cell_type": "code",
   "execution_count": null,
   "id": "danish-plane",
   "metadata": {},
   "outputs": [
    {
     "name": "stdout",
     "output_type": "stream",
     "text": [
      "Recall: 0.936\n",
      "Precision: 0.898\n",
      "Jaccard: 84.615\n",
      "RMSE_vol: 19.446\n",
      "Eff_3d: 81.801\n",
      "FN: 452.0 FP: 748.0\n",
      "Num. matches: 6600.000\n",
      "Shift: -0.36,-4.07,-0.02\n"
     ]
    }
   ],
   "source": [
    "perf, matches, _ = matching(dfs['model_0'], dfs['model_1'], tolerance=1000, print_res=True, match_genes=True, allow_multiple_matches=False)"
   ]
  },
  {
   "cell_type": "code",
   "execution_count": null,
   "id": "completed-nelson",
   "metadata": {},
   "outputs": [],
   "source": [
    "preds_01 = dfs['model_0'].loc[dfs['model_0']['loc_idx'].isin(matches['loc_idx_tar'])]\n",
    "matches['prob'] = (matches['prob_tar']+matches['prob_pred'])/2 \n",
    "matches['x_sig'] = (matches['x_sig_tar']+matches['x_sig_pred'])/2 \n",
    "matches['y_sig'] = (matches['y_sig_tar']+matches['y_sig_pred'])/2 \n",
    "matches['z_sig'] = (matches['z_sig_tar']+matches['z_sig_pred'])/2 \n",
    "matches['frame_idx'] = matches['frame_idx_tar']\n",
    "matches['x'] = matches['x_tar']\n",
    "matches['y'] = matches['y_tar']\n",
    "matches['z'] = matches['z_tar']\n",
    "matches['code_inds'] = matches['code_inds_tar']\n",
    "matches['class'] = matches['class_pred']\n",
    "\n",
    "preds_01 = matches"
   ]
  },
  {
   "cell_type": "code",
   "execution_count": null,
   "id": "alone-maintenance",
   "metadata": {},
   "outputs": [
    {
     "name": "stdout",
     "output_type": "stream",
     "text": [
      "Recall: 0.957\n",
      "Precision: 0.883\n",
      "Jaccard: 84.967\n",
      "RMSE_vol: 19.996\n",
      "Eff_3d: 81.946\n",
      "FN: 281.0 FP: 837.0\n",
      "Num. matches: 6319.000\n",
      "Shift: -6.75,-1.19,-0.01\n"
     ]
    }
   ],
   "source": [
    "perf, matches, _ = matching(preds_01, dfs['model_2'], tolerance=1000, print_res=True, match_genes=True, allow_multiple_matches=False)"
   ]
  },
  {
   "cell_type": "code",
   "execution_count": null,
   "id": "furnished-nebraska",
   "metadata": {},
   "outputs": [],
   "source": [
    "matches['prob'] = (matches['prob_tar']+matches['prob_pred'])/2 \n",
    "matches['x_sig'] = (matches['x_sig_tar']+matches['x_sig_pred'])/2 \n",
    "matches['y_sig'] = (matches['y_sig_tar']+matches['y_sig_pred'])/2 \n",
    "matches['z_sig'] = (matches['z_sig_tar']+matches['z_sig_pred'])/2 \n",
    "matches['frame_idx'] = matches['frame_idx_tar']\n",
    "matches['x'] = matches['x_tar']\n",
    "matches['y'] = matches['y_tar']\n",
    "matches['z'] = matches['z_tar']\n",
    "matches['code_inds'] = matches['code_inds_tar']\n",
    "matches['class'] = matches['class_pred']\n",
    "\n",
    "for k in matches: \n",
    "    matches[k] \n",
    "preds_012 = matches"
   ]
  },
  {
   "cell_type": "code",
   "execution_count": null,
   "id": "mature-appraisal",
   "metadata": {},
   "outputs": [],
   "source": [
    "dfs['df_01'] = preds_01\n",
    "dfs['df_012'] = preds_012"
   ]
  },
  {
   "cell_type": "code",
   "execution_count": null,
   "id": "earned-springfield",
   "metadata": {},
   "outputs": [],
   "source": [
    "def make_roc(df, var='code_err', ascending=True, n_max=30000):\n",
    "    \n",
    "    if n_max is None:\n",
    "        n_max = len(df)\n",
    "    x = np.arange(1000,n_max,100)\n",
    "    df = df.sort_values(var, ascending=ascending)\n",
    "    n_blanks = []\n",
    "    for i in x:\n",
    "        n_blanks.append((df[:int(i)]['class']==1).sum())\n",
    "        \n",
    "    return x, n_blanks"
   ]
  },
  {
   "cell_type": "code",
   "execution_count": null,
   "id": "arranged-income",
   "metadata": {},
   "outputs": [
    {
     "data": {
      "text/plain": [
       "<matplotlib.legend.Legend at 0x7f382de0f400>"
      ]
     },
     "execution_count": null,
     "metadata": {},
     "output_type": "execute_result"
    },
    {
     "data": {
      "image/png": "[encoded data removed]",
      "text/plain": [
       "<Figure size 432x288 with 1 Axes>"
      ]
     },
     "metadata": {
      "needs_background": "light"
     },
     "output_type": "display_data"
    }
   ],
   "source": [
    "for i,k in enumerate(dfs):\n",
    "    r  = make_roc(dfs[k],'prob', n_max=6000, ascending=False)\n",
    "    plt.plot(r[0],r[1], label=k)\n",
    "plt.legend()"
   ]
  },
  {
   "cell_type": "code",
   "execution_count": null,
   "id": "superior-tsunami",
   "metadata": {},
   "outputs": [],
   "source": [
    "keys = ['x_sig','y_sig','z_sig','prob']\n",
    "pred_df = dfs['model_1']"
   ]
  },
  {
   "cell_type": "code",
   "execution_count": null,
   "id": "dimensional-harvest",
   "metadata": {},
   "outputs": [],
   "source": [
    "from sklearn.linear_model import LogisticRegressionCV\n",
    "from sklearn import tree\n",
    "from sklearn.ensemble import RandomForestClassifier\n",
    "\n",
    "X = np.concatenate([pred_df[keys].values])\n",
    "y = np.concatenate([pred_df['class'].values])\n",
    " \n",
    "clf = LogisticRegressionCV(random_state=1,max_iter=10000, class_weight='balanced').fit(X, np.array(y, dtype='int'))"
   ]
  },
  {
   "cell_type": "code",
   "execution_count": null,
   "id": "unavailable-saturn",
   "metadata": {},
   "outputs": [],
   "source": [
    "X = np.concatenate([pred_df[keys].values])\n",
    "pred_df['score'] = clf.predict_proba(X)[:,1]\n",
    "pred_df['gene'] = targets[pred_df['code_inds']]"
   ]
  },
  {
   "cell_type": "code",
   "execution_count": null,
   "id": "internal-correction",
   "metadata": {},
   "outputs": [
    {
     "data": {
      "text/plain": [
       "<matplotlib.legend.Legend at 0x7f37ab8183d0>"
      ]
     },
     "execution_count": null,
     "metadata": {},
     "output_type": "execute_result"
    },
    {
     "data": {
      "image/png": "[encoded data removed]",
      "text/plain": [
       "<Figure size 432x288 with 1 Axes>"
      ]
     },
     "metadata": {
      "needs_background": "light"
     },
     "output_type": "display_data"
    }
   ],
   "source": [
    "for df in [pred_df]:\n",
    "    r  = make_roc(df, 'score', n_max=6000, ascending=True)\n",
    "    plt.plot(r[0],r[1], label='score')\n",
    "    r  = make_roc(df, 'comb_sig', n_max=6000, ascending=True)\n",
    "    plt.plot(r[0],r[1], label='comb_sig')\n",
    "plt.legend()"
   ]
  },
  {
   "cell_type": "code",
   "execution_count": null,
   "id": "funded-plaintiff",
   "metadata": {},
   "outputs": [
    {
     "data": {
      "text/plain": [
       "<matplotlib.legend.Legend at 0x7f382c97b100>"
      ]
     },
     "execution_count": null,
     "metadata": {},
     "output_type": "execute_result"
    },
    {
     "data": {
      "image/png": "[encoded data removed]",
      "text/plain": [
       "<Figure size 432x288 with 1 Axes>"
      ]
     },
     "metadata": {
      "needs_background": "light"
     },
     "output_type": "display_data"
    }
   ],
   "source": [
    "for i,k in enumerate(dfs):\n",
    "    pred_df = dfs[k]\n",
    "    X = np.concatenate([pred_df[keys].values])\n",
    "    pred_df['score'] = clf.predict_proba(X)[:,1]\n",
    "    r  = make_roc(dfs[k],'score', n_max=8000, ascending=True)\n",
    "    plt.plot(r[0],r[1], label=k)\n",
    "plt.legend()"
   ]
  },
  {
   "cell_type": "code",
   "execution_count": null,
   "id": "drawn-grass",
   "metadata": {},
   "outputs": [],
   "source": [
    "cfg = OmegaConf.load(f'/groups/turaga/home/speisera/Mackebox/Artur/WorkDB/deepstorm/models/fishcod/MERFISH_MOp/sweep_mop_22/seed:1xnorm:nonexmodel_init:nullxmean_diff:True//train.yaml')"
   ]
  },
  {
   "cell_type": "code",
   "execution_count": null,
   "id": "official-arrangement",
   "metadata": {},
   "outputs": [],
   "source": [
    "code_ref, targets = hydra.utils.instantiate(cfg.codebook)"
   ]
  },
  {
   "cell_type": "code",
   "execution_count": null,
   "id": "north-hindu",
   "metadata": {},
   "outputs": [
    {
     "name": "stderr",
     "output_type": "stream",
     "text": [
      "/groups/turaga/home/speisera/anaconda3/envs/decode_fish_dev2/lib/python3.8/site-packages/torch/cuda/__init__.py:122: UserWarning: \n",
      "    Found GPU2 NVS 510 which is of cuda capability 3.0.\n",
      "    PyTorch no longer supports this GPU because it is too old.\n",
      "    The minimum cuda capability supported by this library is 3.7.\n",
      "    \n",
      "  warnings.warn(old_gpu_warn % (d, name, major, minor, min_arch // 10, min_arch % 10))\n"
     ]
    },
    {
     "name": "stdout",
     "output_type": "stream",
     "text": [
      "Crop size larger than volume in at least one dimension. Crop size changed to (1, 56, 56)\n",
      "7 volumes\n"
     ]
    },
    {
     "name": "stderr",
     "output_type": "stream",
     "text": [
      "/groups/turaga/home/speisera/anaconda3/envs/decode_fish_dev2/lib/python3.8/site-packages/torch/functional.py:568: UserWarning: torch.meshgrid: in an upcoming release, it will be required to pass the indexing argument. (Triggered internally at  ../aten/src/ATen/native/TensorShape.cpp:2228.)\n",
      "  return _VF.meshgrid(tensors, **kwargs)  # type: ignore[attr-defined]\n"
     ]
    }
   ],
   "source": [
    "model, post_proc, micro, img_3d, decode_dl = load_all(cfg)\n",
    "psf_vol = cpu(micro.psf.psf_volume)\n",
    "psf_init = cpu(micro.psf_init_vol)\n",
    "post_proc.codebook = torch.tensor(code_ref)"
   ]
  },
  {
   "cell_type": "code",
   "execution_count": null,
   "id": "rural-plumbing",
   "metadata": {},
   "outputs": [
    {
     "name": "stdout",
     "output_type": "stream",
     "text": [
      "17130008\n"
     ]
    }
   ],
   "source": [
    "fov = 151\n",
    "crop = np.s_[:,:,:,500:1250,500:1250]\n",
    "\n",
    "bench_df = get_mop_benchmark(z_to_batch=True)\n",
    "bench_df = get_mop_fov(bench_df, fov)\n",
    "bench_df = nm_to_px(bench_df, [1.085,1.085,1.085])\n",
    "bench_df['x'] += 70\n",
    "bench_df['y'] += 70\n",
    "\n",
    "bench_df = crop_df(bench_df, crop[-4:], px_size_zyx=[100., 100., 100.])   "
   ]
  },
  {
   "cell_type": "code",
   "execution_count": null,
   "id": "constant-tokyo",
   "metadata": {},
   "outputs": [],
   "source": [
    "image_vol = read_MOp_tiff('/groups/turaga/home/speisera/Mackebox/Artur/WorkDB/deepstorm//datasets/CodFish/MERFISH/MOp/mouse1_sample1_raw/aligned_images151.tif', scaled=False, z_to_batch=True)"
   ]
  },
  {
   "cell_type": "code",
   "execution_count": null,
   "id": "young-forty",
   "metadata": {},
   "outputs": [],
   "source": [
    "mult = micro.get_ch_mult()\n",
    "rmult = (0.1 * torch.randn_like(mult) + 1.) * mult"
   ]
  },
  {
   "cell_type": "code",
   "execution_count": null,
   "id": "better-marine",
   "metadata": {},
   "outputs": [
    {
     "data": {
      "text/plain": [
       "[<matplotlib.lines.Line2D at 0x7f2ca59a0250>]"
      ]
     },
     "execution_count": null,
     "metadata": {},
     "output_type": "execute_result"
    },
    {
     "data": {
      "image/png": "[encoded data removed]",
      "text/plain": [
       "<Figure size 432x288 with 1 Axes>"
      ]
     },
     "metadata": {
      "needs_background": "light"
     },
     "output_type": "display_data"
    }
   ],
   "source": [
    "plt.plot(cpu(mult.flatten()))\n",
    "plt.plot(cpu(rmult.flatten()))"
   ]
  },
  {
   "cell_type": "code",
   "execution_count": null,
   "id": "liable-thought",
   "metadata": {},
   "outputs": [
    {
     "name": "stdout",
     "output_type": "stream",
     "text": [
      "torch.Size([7, 22, 1, 2048, 2048])\n"
     ]
    },
    {
     "name": "stderr",
     "output_type": "stream",
     "text": [
      "100%|█████████████████████████████████████████████████████████████████████████████████████████████████████████████████████████████████████████████████████| 7/7 [00:52<00:00,  7.49s/it]\n"
     ]
    },
    {
     "name": "stdout",
     "output_type": "stream",
     "text": [
      "AE Losses/code_bench_corr 0.9858254338521815\n",
      "AE Losses/N_blanks 0.7692307692307693\n",
      "Recall: 0.735\n",
      "Precision: 0.735\n",
      "Jaccard: 58.125\n",
      "RMSE_vol: 68.615\n",
      "Eff_3d: 45.866\n",
      "FN: 1407.0 FP: 1407.0\n",
      "Num. matches: 3906.000\n",
      "Shift: 1.80,2.93,-9.00\n",
      "AE Losses/jaccard 0.5812499827008933\n",
      "AE Losses/N_pred_tot 1.4438170525127048\n"
     ]
    }
   ],
   "source": [
    "res_df2 = window_predict(model, post_proc, image_vol, window_size=[None, 64, 64], device='cuda', crop=crop, chrom_map=get_color_shift_inp(micro.color_shifts, micro.col_shifts_yx)[:,:,None], scale=mult, progress_bar=True)\n",
    "res_df2['gene'] = targets[res_df2['code_inds']]\n",
    "res_df2 = remove_doublets(res_df2, 200)\n",
    "\n",
    "if len(res_df2):\n",
    "\n",
    "    res_sub = res_df2.nsmallest(len(bench_df), 'comb_sig')\n",
    "    \n",
    "    bench_counts = DF(data=None, index=targets)\n",
    "    bench_counts['Res_all'] = res_sub.groupby('gene')['gene'].count()\n",
    "    bench_counts['Bench_all'] = bench_df.groupby('gene')['gene'].count()\n",
    "    bench_counts = bench_counts.fillna(0)\n",
    "\n",
    "    r = np.corrcoef(bench_counts['Bench_all'].values, bench_counts['Res_all'].values)[0, 1]   \n",
    "\n",
    "    blinds = []\n",
    "    for i,g in enumerate(targets):\n",
    "        if 'Blank' in g:\n",
    "            blinds.append(g)\n",
    "\n",
    "    bc = bench_counts.loc[blinds,'Res_all'].values.sum()\n",
    "    bench_bc = bench_counts.loc[blinds,'Bench_all'].values.sum()\n",
    "\n",
    "#     bench_df['z'] = bench_df['z']/1000\n",
    "#     res_sub['z'] = res_sub['z']/100\n",
    "\n",
    "    print('AE Losses/code_bench_corr', r)\n",
    "    print('AE Losses/N_blanks', bc/bench_bc)\n",
    "\n",
    "    perf_dict, match_df, shifts = matching(bench_df,  res_sub, tolerance=500)\n",
    "    print('AE Losses/jaccard', perf_dict['jaccard'])        \n",
    "\n",
    "print('AE Losses/N_pred_tot', len(res_df2)/len(bench_df))"
   ]
  },
  {
   "cell_type": "code",
   "execution_count": null,
   "id": "innovative-hopkins",
   "metadata": {},
   "outputs": [],
   "source": [
    "AE Losses/code_bench_corr 0.9858254338521815\n",
    "AE Losses/N_blanks 0.7692307692307693\n",
    "Recall: 0.735\n",
    "Precision: 0.735\n",
    "Jaccard: 58.125\n",
    "RMSE_vol: 68.615\n",
    "Eff_3d: 45.866\n",
    "FN: 1407.0 FP: 1407.0\n",
    "Num. matches: 3906.000\n",
    "Shift: 1.80,2.93,-9.00\n",
    "AE Losses/jaccard 0.5812499827008933\n",
    "AE Losses/N_pred_tot 1.4438170525127048"
   ]
  },
  {
   "cell_type": "code",
   "execution_count": null,
   "id": "polar-presentation",
   "metadata": {},
   "outputs": [
    {
     "name": "stdout",
     "output_type": "stream",
     "text": [
      "Recall: 0.893\n",
      "Precision: 0.891\n",
      "Jaccard: 80.483\n",
      "RMSE_vol: 24.194\n",
      "Eff_3d: 77.038\n",
      "FN: 819.0 FP: 838.0\n",
      "Num. matches: 6833.000\n",
      "Shift: -0.42,-0.05,1.37\n"
     ]
    }
   ],
   "source": [
    "_,matches,shift = matching(res_df, res_df2, tolerance=500, print_res=True, allow_multiple_matches=False)"
   ]
  },
  {
   "cell_type": "code",
   "execution_count": null,
   "id": "unauthorized-folks",
   "metadata": {},
   "outputs": [],
   "source": [
    "res_dfc2 = DF()\n",
    "for k in res_df.columns:\n",
    "    try:\n",
    "        res_dfc2[k] = np.array(matches[k+'_tar'].values, dtype=np.float32)\n",
    "    except ValueError:\n",
    "        res_dfc2[k] = np.array(matches[k+'_tar'].values)"
   ]
  },
  {
   "cell_type": "code",
   "execution_count": null,
   "id": "prescription-interaction",
   "metadata": {},
   "outputs": [
    {
     "data": {
      "text/plain": [
       "23"
      ]
     },
     "execution_count": null,
     "metadata": {},
     "output_type": "execute_result"
    }
   ],
   "source": [
    "res_df['gene'].str.contains('Blank').sum()"
   ]
  },
  {
   "cell_type": "code",
   "execution_count": null,
   "id": "suburban-lesbian",
   "metadata": {},
   "outputs": [
    {
     "name": "stdout",
     "output_type": "stream",
     "text": [
      "AE Losses/code_bench_corr 0.9896291970346504\n",
      "AE Losses/N_blanks 0.7692307692307693\n"
     ]
    },
    {
     "ename": "TypeError",
     "evalue": "'float' object cannot be interpreted as an integer",
     "output_type": "error",
     "traceback": [
      "\u001b[0;31m---------------------------------------------------------------------------\u001b[0m",
      "\u001b[0;31mTypeError\u001b[0m                                 Traceback (most recent call last)",
      "Input \u001b[0;32mIn [58]\u001b[0m, in \u001b[0;36m<cell line: 24>\u001b[0;34m()\u001b[0m\n\u001b[1;32m     21\u001b[0m \u001b[38;5;28mprint\u001b[39m(\u001b[38;5;124m'\u001b[39m\u001b[38;5;124mAE Losses/code_bench_corr\u001b[39m\u001b[38;5;124m'\u001b[39m, r)\n\u001b[1;32m     22\u001b[0m \u001b[38;5;28mprint\u001b[39m(\u001b[38;5;124m'\u001b[39m\u001b[38;5;124mAE Losses/N_blanks\u001b[39m\u001b[38;5;124m'\u001b[39m, bc\u001b[38;5;241m/\u001b[39mbench_bc)\n\u001b[0;32m---> 24\u001b[0m perf_dict, match_df, shifts \u001b[38;5;241m=\u001b[39m \u001b[43mmatching\u001b[49m\u001b[43m(\u001b[49m\u001b[43mbench_df\u001b[49m\u001b[43m,\u001b[49m\u001b[43m  \u001b[49m\u001b[43mres_sub\u001b[49m\u001b[43m,\u001b[49m\u001b[43m \u001b[49m\u001b[43mtolerance\u001b[49m\u001b[38;5;241;43m=\u001b[39;49m\u001b[38;5;241;43m500\u001b[39;49m\u001b[43m)\u001b[49m\n\u001b[1;32m     25\u001b[0m \u001b[38;5;28mprint\u001b[39m(\u001b[38;5;124m'\u001b[39m\u001b[38;5;124mAE Losses/jaccard\u001b[39m\u001b[38;5;124m'\u001b[39m, perf_dict[\u001b[38;5;124m'\u001b[39m\u001b[38;5;124mjaccard\u001b[39m\u001b[38;5;124m'\u001b[39m])\n",
      "File \u001b[0;32m~/Dropbox (mackelab)/Artur/WorkDB/deepstorm/decode_fish/decode_fish.funcs.matching.py:58\u001b[0m, in \u001b[0;36mmatching\u001b[0;34m(target_df, pred_df, tolerance, print_res, eff_const, match_genes, self_match, allow_multiple_matches)\u001b[0m\n\u001b[1;32m     54\u001b[0m pred_cols \u001b[38;5;241m=\u001b[39m pred_df\u001b[38;5;241m.\u001b[39mkeys()\n\u001b[1;32m     56\u001b[0m \u001b[38;5;28;01mif\u001b[39;00m \u001b[38;5;28mlen\u001b[39m(pred_df):\n\u001b[0;32m---> 58\u001b[0m     \u001b[38;5;28;01mfor\u001b[39;00m i \u001b[38;5;129;01min\u001b[39;00m \u001b[38;5;28;43mrange\u001b[39;49m\u001b[43m(\u001b[49m\u001b[38;5;241;43m0\u001b[39;49m\u001b[43m,\u001b[49m\u001b[43m \u001b[49m\u001b[43mpred_df\u001b[49m\u001b[43m[\u001b[49m\u001b[38;5;124;43m'\u001b[39;49m\u001b[38;5;124;43mframe_idx\u001b[39;49m\u001b[38;5;124;43m'\u001b[39;49m\u001b[43m]\u001b[49m\u001b[38;5;241;43m.\u001b[39;49m\u001b[43mmax\u001b[49m\u001b[43m(\u001b[49m\u001b[43m)\u001b[49m\u001b[43m \u001b[49m\u001b[38;5;241;43m+\u001b[39;49m\u001b[43m \u001b[49m\u001b[38;5;241;43m1\u001b[39;49m\u001b[43m)\u001b[49m:\n\u001b[1;32m     60\u001b[0m         FC \u001b[38;5;241m=\u001b[39m \u001b[38;5;241m0\u001b[39m\n\u001b[1;32m     61\u001b[0m         sub_tar \u001b[38;5;241m=\u001b[39m target_df[target_df[\u001b[38;5;124m'\u001b[39m\u001b[38;5;124mframe_idx\u001b[39m\u001b[38;5;124m'\u001b[39m]\u001b[38;5;241m==\u001b[39mi]\u001b[38;5;241m.\u001b[39mreset_index()\n",
      "\u001b[0;31mTypeError\u001b[0m: 'float' object cannot be interpreted as an integer"
     ]
    }
   ],
   "source": [
    "res_sub = res_dfc2.nsmallest(len(bench_df), 'comb_sig')\n",
    "\n",
    "bench_counts = DF(data=None, index=targets)\n",
    "bench_counts['Res_all'] = res_sub.groupby('gene')['gene'].count()\n",
    "bench_counts['Bench_all'] = bench_df.groupby('gene')['gene'].count()\n",
    "bench_counts = bench_counts.fillna(0)\n",
    "\n",
    "r = np.corrcoef(bench_counts['Bench_all'].values, bench_counts['Res_all'].values)[0, 1]   \n",
    "\n",
    "blinds = []\n",
    "for i,g in enumerate(targets):\n",
    "    if 'Blank' in g:\n",
    "        blinds.append(g)\n",
    "\n",
    "bc = bench_counts.loc[blinds,'Res_all'].values.sum()\n",
    "bench_bc = bench_counts.loc[blinds,'Bench_all'].values.sum()\n",
    "\n",
    "#     bench_df['z'] = bench_df['z']/1000\n",
    "#     res_sub['z'] = res_sub['z']/100\n",
    "\n",
    "print('AE Losses/code_bench_corr', r)\n",
    "print('AE Losses/N_blanks', bc/bench_bc)\n",
    "\n",
    "perf_dict, match_df, shifts = matching(bench_df,  res_sub, tolerance=500)\n",
    "print('AE Losses/jaccard', perf_dict['jaccard'])        \n"
   ]
  },
  {
   "cell_type": "code",
   "execution_count": null,
   "id": "graduate-tournament",
   "metadata": {},
   "outputs": [
    {
     "data": {
      "text/plain": [
       "13.0"
      ]
     },
     "execution_count": null,
     "metadata": {},
     "output_type": "execute_result"
    }
   ],
   "source": [
    "bench_bc"
   ]
  },
  {
   "cell_type": "code",
   "execution_count": null,
   "id": "touched-beach",
   "metadata": {},
   "outputs": [],
   "source": []
  }
 ],
 "metadata": {
  "kernelspec": {
   "display_name": "decode_fish_dev2",
   "language": "python",
   "name": "decode_fish_dev2"
  }
 },
 "nbformat": 4,
 "nbformat_minor": 5
}
