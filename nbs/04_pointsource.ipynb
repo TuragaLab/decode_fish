{
 "cells": [
  {
   "cell_type": "code",
   "execution_count": null,
   "metadata": {},
   "outputs": [],
   "source": [
    "# default_exp engine.point_process"
   ]
  },
  {
   "cell_type": "code",
   "execution_count": null,
   "metadata": {},
   "outputs": [],
   "source": [
    "%load_ext autoreload\n",
    "%autoreload 2"
   ]
  },
  {
   "cell_type": "markdown",
   "metadata": {},
   "source": [
    "# Emitter distribution\n",
    "\n",
    "> Definition of the class used to simulate random emitter positions and intensities"
   ]
  },
  {
   "cell_type": "code",
   "execution_count": null,
   "metadata": {},
   "outputs": [],
   "source": [
    "#export\n",
    "from decode_fish.imports import *\n",
    "from torch import distributions as D, Tensor\n",
    "from torch.distributions import Distribution\n",
    "from decode_fish.funcs.utils import *"
   ]
  },
  {
   "cell_type": "code",
   "execution_count": null,
   "metadata": {},
   "outputs": [],
   "source": [
    "#export\n",
    "class PointProcessUniform(Distribution):\n",
    "    \"\"\"\n",
    "    This class is part of the generative model and uses the probability local_rate to generate sample locations on the voxel grid.  \n",
    "    For each emitter we then sample x-,y- and z-offsets uniformly in the range [-0.5,0.5] to get continuous locations.\n",
    "    Intensities are sampled from a gamma distribution torch.distirubtions.gamma(int_conc, int_rate) which is shifted by int_loc.\n",
    "    Together with the microscope.scale and the PSF this results in the overall brightness of an emitter.\n",
    "    \n",
    "    Args:\n",
    "        local_rate torch.tensor . shape(BS, C, H, W, D): Local rate\n",
    "        int_conc=0., int_rate=1., int_loc (float): parameters of the intensity gamma distribution\n",
    "        sim_iters (int): instead of sampling once from local_rate, we sample sim_iters times from local_rate/sim_iters. \n",
    "            This results in the same average number of sampled emitters but allows us to sample multiple emitters within one voxel.\n",
    "\n",
    "    \"\"\"\n",
    "    def __init__(self, local_rate: torch.tensor, int_conc=0., int_rate=1., int_loc=1., sim_iters: int = 5, channels=1, n_bits=1, sim_z=True, codebook=None, int_option=1):\n",
    "\n",
    "        assert sim_iters >= 1\n",
    "        self.local_rate = local_rate\n",
    "        self.device = self._get_device(self.local_rate)\n",
    "        self.sim_iters = sim_iters\n",
    "        self.int_conc = int_conc\n",
    "        self.int_rate = int_rate\n",
    "        self.int_loc = int_loc\n",
    "        self.channels = channels\n",
    "        self.n_bits = n_bits\n",
    "        self.sim_z=sim_z\n",
    "        self.codebook=codebook\n",
    "        self.int_option = int_option\n",
    "        if self.codebook is not None:\n",
    "            self.channels = self.codebook.shape[-1]\n",
    "        \n",
    "    def sample(self, from_code_book=False, phasing=False):\n",
    "\n",
    "        res_ = [self._sample(self.local_rate/self.sim_iters, from_code_book, phasing) for i in range(self.sim_iters)]\n",
    "        locations = torch.cat([i[0] for i in res_], dim=0)\n",
    "        x_offset = torch.cat([i[1] for i in res_], dim=0)\n",
    "        y_offset = torch.cat([i[2] for i in res_], dim=0)\n",
    "        z_offset = torch.cat([i[3] for i in res_], dim=0)\n",
    "        intensities = torch.cat([i[4] for i in res_], dim=0)\n",
    "        codes = torch.cat([i[6] for i in res_], dim=0) if from_code_book else None\n",
    "\n",
    "        return list(locations.T), x_offset, y_offset, z_offset, intensities, res_[0][5], codes\n",
    "\n",
    "    def _sample(self, local_rate, from_code_book, phasing):\n",
    "\n",
    "        output_shape = list(local_rate.shape)\n",
    "        local_rate = torch.clamp(local_rate,0.,1.)\n",
    "        locations = D.Bernoulli(local_rate).sample()\n",
    "        n_emitter = int(locations.sum().item())\n",
    "        x_offset = D.Uniform(low=-0.5, high=0.5).sample(sample_shape=[n_emitter]).to(self.device)\n",
    "        y_offset = D.Uniform(low=-0.5, high=0.5).sample(sample_shape=[n_emitter]).to(self.device)\n",
    "        '''1.0 only makes sense for slice rec.'''\n",
    "        z_offset = D.Uniform(low=-1.0, high=1.0).sample(sample_shape=[n_emitter]).to(self.device)\n",
    "        \n",
    "#         intensities = torch.zeros([n_emitter, self.channels]).to(self.device)\n",
    "        if self.int_option == 1:\n",
    "            intensities = D.Gamma(self.int_conc, self.int_rate).sample(sample_shape=[n_emitter, self.channels]).to(self.device) + self.int_loc \n",
    "        elif self.int_option == 2:\n",
    "            intensities = D.Gamma(self.int_conc, self.int_rate).sample(sample_shape=[n_emitter, 1]).to(self.device) + self.int_loc \n",
    "            intensities = intensities.repeat_interleave(self.channels, 1)\n",
    "        elif self.int_option == 3:\n",
    "            intensities = D.Gamma(self.int_conc, self.int_rate).sample(sample_shape=[n_emitter, 1]).to(self.device) + self.int_loc \n",
    "            intensities = intensities.repeat_interleave(self.channels, 1)\n",
    "            int_noise = D.Uniform(low=.7, high=1.5).sample(sample_shape=intensities.shape).to(self.device)\n",
    "            intensities *= int_noise\n",
    "            \n",
    "        # If 2D data z-offset is 0\n",
    "        if not self.sim_z:\n",
    "            z_offset *= 0\n",
    "    \n",
    "        locations = locations.nonzero(as_tuple=False)\n",
    "\n",
    "        if self.channels > 1:\n",
    "            code_draw = None\n",
    "            if from_code_book:\n",
    "                code_draw = torch.randint(0, len(self.codebook), size=[n_emitter])\n",
    "                ch_draw = self.codebook[code_draw]\n",
    "#                 code_draw = torch.randint(0, len(self.codebook) + self.n_dump_codes,size=[n_emitter])\n",
    "    \n",
    "#                 ch_draw = torch.zeros([n_emitter, self.channels], dtype=torch.bool).to(self.device)\n",
    "#                 code_inds = code_draw<len(self.codebook)\n",
    "#                 dump_inds = code_draw>=len(self.codebook)\n",
    "#                 # All draws lower than the codebook length get a code from it\n",
    "#                 ch_draw[code_inds] = self.codebook[code_draw[code_inds]].to(self.device)\n",
    "#                 # All draws higher than the codebook length get a random code with an average length of n_bits, but at least 1\n",
    "#                 # There is a certain probability that dump codes are in the codebook. We ignore it for now. \n",
    "#                 ch_draw[dump_inds, torch.randint(0, self.channels, size=[sum(dump_inds)])] = 1\n",
    "#                 ch_draw[dump_inds] += torch.distributions.Binomial(total_count=1, probs=torch.ones([sum(dump_inds),self.channels])/self.channels*(self.n_bits - 1)).sample().type(torch.bool).to(self.device)\n",
    "                \n",
    "#                 # n_dump_codes controsl the rate of out-of-code book codes, but they all get assigned to the code_index len(codebook)+1\n",
    "#                 code_draw = torch.clamp_max(code_draw, len(self.codebook))\n",
    "\n",
    "            else:\n",
    "\n",
    "                m_draw = torch.multinomial(torch.ones([n_emitter,self.channels])/self.channels, self.n_bits, replacement=False)\n",
    "                ch_draw = torch.zeros(intensities.shape).to(intensities.device)\n",
    "                ch_draw.scatter_(index=m_draw.to(intensities.device), dim=1, value=1)\n",
    "                \n",
    "            intensities = intensities.to(self.device) * ch_draw.to(self.device)\n",
    "            output_shape.insert(1, self.channels)\n",
    "            \n",
    "        return locations, x_offset, y_offset, z_offset, intensities, tuple(output_shape), code_draw\n",
    "\n",
    "    @staticmethod\n",
    "    def _get_device(x):\n",
    "        return getattr(x, 'device')\n",
    "    \n",
    "\n",
    "def list_to_locations(locations, output_shape):\n",
    "    tmp =torch.zeros(output_shape, device=locations[0].device)\n",
    "    coord = torch.stack(locations).T\n",
    "    #incase you have multiple emitter present\n",
    "    for i in coord: tmp[tuple(i)] += 1\n",
    "    return tmp"
   ]
  },
  {
   "cell_type": "code",
   "execution_count": null,
   "metadata": {},
   "outputs": [],
   "source": [
    "from decode_fish.funcs.exp_specific import *\n",
    "codebook, targets = get_mop_codebook()\n",
    "# code_inds = np.stack([np.nonzero(c)[0] for c in code_ref])"
   ]
  },
  {
   "cell_type": "code",
   "execution_count": null,
   "metadata": {},
   "outputs": [],
   "source": [
    "# codebook = None # torch.tensor(code_ref, dtype=torch.bool)\n",
    "point_process = PointProcessUniform(local_rate = torch.ones([5,1,48,48]).cuda()*.3, int_conc=3, int_rate=1, int_loc=1, sim_iters=1, channels=22, n_bits=4, codebook=torch.tensor(codebook), int_option=3)\n",
    "locs_3d, x_os_3d, y_os_3d, z_os_3d, ints_3d, output_shape, codes = point_process.sample(from_code_book=True, phasing=False)"
   ]
  },
  {
   "cell_type": "code",
   "execution_count": null,
   "metadata": {},
   "outputs": [],
   "source": [
    "# export\n",
    "def get_phased_ints(ints, ch_cols, n_cols):\n",
    "    \n",
    "    col_inds = []\n",
    "    for i in range(n_cols):\n",
    "        col_inds.append(torch.where(torch.tensor(ch_cols)==i)[0].cuda()) # Get indices of the different colors\n",
    "        col_inds[i][-1] = 0 # Set last index to 0 because it won't phase\n",
    "        \n",
    "    nonz_inds = ints.nonzero()\n",
    "    phased_ints = torch.zeros_like(ints)\n",
    "    phased_inds = torch.zeros_like(nonz_inds) \n",
    "    \n",
    "    # Loop over colors and each pos in the col_indices. Set the phased indices to the next value \n",
    "    for c in range(n_cols):\n",
    "        for n in range(len(col_inds[c]) - 1):\n",
    "            idx = torch.where(nonz_inds[:,1] == col_inds[c][n])[0]\n",
    "            phased_inds[idx] = torch.stack([nonz_inds[idx][:,0], torch.ones(len(idx), dtype=torch.int32).cuda() * (col_inds[c][n+1])], 1)\n",
    "            \n",
    "    phased_ints[tuple([phased_inds[:,0], phased_inds[:,1]])] += ints[tuple([nonz_inds[:,0], nonz_inds[:,1]])]\n",
    "    phased_ints[:,0] = 0.\n",
    "    \n",
    "    return phased_ints"
   ]
  },
  {
   "cell_type": "code",
   "execution_count": null,
   "metadata": {},
   "outputs": [],
   "source": [
    "ch_cols = [0, 1, 1, 0, 0, 1, 0, 1, 1, 0, 0, 1, 0, 1, 1, 0, 0, 1, 0, 1, 1, 0]\n",
    "phased_ints = get_phased_ints(ints_3d, ch_cols, 2)"
   ]
  },
  {
   "cell_type": "code",
   "execution_count": null,
   "metadata": {},
   "outputs": [
    {
     "data": {
      "text/plain": [
       "<matplotlib.image.AxesImage at 0x7f02c8696d60>"
      ]
     },
     "execution_count": null,
     "metadata": {},
     "output_type": "execute_result"
    },
    {
     "data": {
      "image/png": "[encoded data removed]",
      "text/plain": [
       "<Figure size 720x360 with 2 Axes>"
      ]
     },
     "metadata": {
      "needs_background": "light"
     },
     "output_type": "display_data"
    }
   ],
   "source": [
    "plt.figure(figsize=(10,5))\n",
    "plt.subplot(121)\n",
    "plt.imshow(cpu(ints_3d)[:20])\n",
    "plt.subplot(122)\n",
    "plt.imshow(cpu(phased_ints)[:20])"
   ]
  },
  {
   "cell_type": "code",
   "execution_count": null,
   "metadata": {},
   "outputs": [],
   "source": [
    "for l in locs_3d:\n",
    "    print(l.shape)\n",
    "print('x')\n",
    "print(x_os_3d.shape)\n",
    "print('ints')\n",
    "print(ints_3d.shape)\n",
    "print('codes')\n",
    "print(codes.shape)"
   ]
  },
  {
   "cell_type": "code",
   "execution_count": null,
   "metadata": {},
   "outputs": [],
   "source": [
    "plt.plot(ints_3d[6].detach().cpu())"
   ]
  },
  {
   "cell_type": "code",
   "execution_count": null,
   "metadata": {},
   "outputs": [],
   "source": [
    "torch.save([locs_3d, x_os_3d, y_os_3d, z_os_3d, ints_3d, output_shape, codes], '../data/sim_var_code_class2.pt')"
   ]
  },
  {
   "cell_type": "code",
   "execution_count": null,
   "metadata": {},
   "outputs": [],
   "source": [
    "def sample_to_df(locs, x_os, y_os, z_os, ints, codes, px_size_zyx=[100,100,100]):\n",
    "    \n",
    "    x = locs[-1] + x_os + 0.5 \n",
    "    y = locs[-2] + y_os + 0.5 \n",
    "    z = locs[-3] + z_os + 0.5 \n",
    "    \n",
    "    n_gt = len(x)\n",
    "    channels = ints.shape[1]\n",
    "    \n",
    "    frame_idx = locs[0]\n",
    "    \n",
    "    df = DF({'loc_idx': torch.arange(n_gt),\n",
    "             'frame_idx': frame_idx.cpu(),\n",
    "             'x': x.cpu()*px_size_zyx[2],\n",
    "             'y': y.cpu()*px_size_zyx[1], \n",
    "             'z': z.cpu()*px_size_zyx[0]}) \n",
    "    \n",
    "    for i in range(channels):\n",
    "        df[f'int_{i}'] = ints[:,i].cpu()\n",
    "        \n",
    "    df['code_inds'] = codes\n",
    "    df['ints'] = ints.sum(-1).cpu()\n",
    "\n",
    "    return df"
   ]
  },
  {
   "cell_type": "code",
   "execution_count": null,
   "metadata": {},
   "outputs": [],
   "source": [
    "# from decode_fish.funcs.output_trafo import sample_to_df\n",
    "# locs_3d, x_os_3d, y_os_3d, z_os_3d, ints_3d, output_shape = point_process.sample(from_code_book=False, phasing=False)\n",
    "target_df = sample_to_df(locs_3d, x_os_3d, y_os_3d, z_os_3d, ints_3d, codes, px_size_zyx=[100,100,100])"
   ]
  },
  {
   "cell_type": "code",
   "execution_count": null,
   "metadata": {},
   "outputs": [],
   "source": [
    "target_df"
   ]
  },
  {
   "cell_type": "code",
   "execution_count": null,
   "metadata": {},
   "outputs": [],
   "source": [
    "target_df.loc[0]"
   ]
  },
  {
   "cell_type": "code",
   "execution_count": null,
   "metadata": {},
   "outputs": [
    {
     "name": "stdout",
     "output_type": "stream",
     "text": [
      "Converted 00_models.ipynb.\n",
      "Converted 01_psf.ipynb.\n",
      "Converted 02_microscope.ipynb.\n",
      "Converted 02b_place_psfs.ipynb.\n",
      "Converted 03_noise.ipynb.\n",
      "Converted 04_pointsource.ipynb.\n",
      "Converted 05_gmm_loss.ipynb.\n",
      "Converted 06_plotting.ipynb.\n",
      "Converted 07_file_io.ipynb.\n",
      "Converted 08_dataset.ipynb.\n",
      "Converted 09_output_trafo.ipynb.\n",
      "Converted 10_evaluation.ipynb.\n",
      "Converted 11_emitter_io.ipynb.\n",
      "Converted 12_utils.ipynb.\n",
      "Converted 13_train.ipynb.\n",
      "Converted 15_fit_psf.ipynb.\n",
      "Converted 16_visualization.ipynb.\n",
      "Converted 17_eval_routines.ipynb.\n",
      "Converted 18_predict_funcs.ipynb.\n",
      "Converted 19_MERFISH_routines.ipynb.\n",
      "Converted 20_MERFISH_visualization.ipynb.\n",
      "Converted 22_MERFISH_codenet.ipynb.\n",
      "Converted 23_MERFISH_comparison.ipynb.\n",
      "Converted 24_exp_specific.ipynb.\n",
      "Converted 25_ensembling.ipynb.\n",
      "Converted index.ipynb.\n"
     ]
    }
   ],
   "source": [
    "!nbdev_build_lib"
   ]
  },
  {
   "cell_type": "code",
   "execution_count": null,
   "metadata": {},
   "outputs": [],
   "source": []
  }
 ],
 "metadata": {
  "kernelspec": {
   "display_name": "Python [conda env:decode_fish_dev2]",
   "language": "python",
   "name": "conda-env-decode_fish_dev2-py"
  }
 },
 "nbformat": 4,
 "nbformat_minor": 4
}
