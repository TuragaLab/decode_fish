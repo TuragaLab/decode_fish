{
 "cells": [
  {
   "cell_type": "code",
   "execution_count": 1,
   "id": "increasing-indie",
   "metadata": {
    "ExecuteTime": {
     "end_time": "2022-06-19T16:09:37.632294Z",
     "start_time": "2022-06-19T16:09:37.598862Z"
    }
   },
   "outputs": [],
   "source": [
    "%load_ext autoreload\n",
    "%autoreload 2\n",
    "%aimport -decode_fish.engine.place_psfs"
   ]
  },
  {
   "cell_type": "markdown",
   "id": "dedicated-jumping",
   "metadata": {},
   "source": [
    "# Running ISTDECO on the MOp data"
   ]
  },
  {
   "cell_type": "code",
   "execution_count": 2,
   "id": "executive-poultry",
   "metadata": {
    "ExecuteTime": {
     "end_time": "2022-06-19T16:09:46.083260Z",
     "start_time": "2022-06-19T16:09:37.633960Z"
    }
   },
   "outputs": [],
   "source": [
    "# export\n",
    "from decode_fish.imports import *\n",
    "\n",
    "# os.environ[\"CUDA_VISIBLE_DEVICES\"] = '1'\n",
    "\n",
    "from decode_fish.funcs.file_io import *\n",
    "from decode_fish.funcs.emitter_io import *\n",
    "from decode_fish.funcs.utils import *\n",
    "from decode_fish.funcs.dataset import *\n",
    "from decode_fish.funcs.plotting import *\n",
    "from decode_fish.engine.noise import estimate_noise_scale\n",
    "import shutil\n",
    "from decode_fish.funcs.visualization import *\n",
    "import torch.nn as nn\n",
    "import torch.nn.functional as F\n",
    "from decode_fish.funcs.predict import *\n",
    "\n",
    "from omegaconf import open_dict\n",
    "from hydra import compose, initialize\n",
    "from decode_fish.funcs.merfish_eval import *\n",
    "\n",
    "sys.path.append('/groups/turaga/home/speisera/Mackebox/Artur/WorkDB/deepstorm/FQ/istdeco/')\n",
    "\n",
    "from istdeco import ISTDeco\n",
    "\n",
    "from decode_fish.funcs.merfish_eval import *\n",
    "from decode_fish.funcs.exp_specific import *\n",
    "\n",
    "import optuna\n",
    "optuna.logging.set_verbosity(optuna.logging.INFO)"
   ]
  },
  {
   "cell_type": "code",
   "execution_count": 3,
   "id": "aboriginal-pearl",
   "metadata": {
    "ExecuteTime": {
     "end_time": "2022-06-19T16:09:46.137686Z",
     "start_time": "2022-06-19T16:09:46.086650Z"
    }
   },
   "outputs": [],
   "source": [
    "os.environ[\"CUDA_VISIBLE_DEVICES\"] = '1'"
   ]
  },
  {
   "cell_type": "code",
   "execution_count": 4,
   "id": "stone-titanium",
   "metadata": {
    "ExecuteTime": {
     "end_time": "2022-06-19T16:09:46.411885Z",
     "start_time": "2022-06-19T16:09:46.141198Z"
    }
   },
   "outputs": [],
   "source": [
    "cfg = OmegaConf.load(f'/groups/turaga/home/speisera/Mackebox/Artur/WorkDB/deepstorm/models/fishcod/MERFISH_MOp/sweep_mop_32/target_mean:Trueximage_path:scaled4_images151.tif//train.yaml')\n",
    "artifact_coords = pd.read_csv('/groups/turaga/home/speisera/Mackebox/Artur/WorkDB/deepstorm//datasets/CodFish/MERFISH/MOp/mouse1_sample1_raw/artifact_coords.csv')"
   ]
  },
  {
   "cell_type": "code",
   "execution_count": 5,
   "id": "representative-words",
   "metadata": {
    "ExecuteTime": {
     "end_time": "2022-06-19T16:09:46.467024Z",
     "start_time": "2022-06-19T16:09:46.414054Z"
    }
   },
   "outputs": [],
   "source": [
    "codebook, targets = hydra.utils.instantiate(cfg.codebook)"
   ]
  },
  {
   "cell_type": "markdown",
   "id": "foster-converter",
   "metadata": {},
   "source": [
    "ISTDECO doesn't really come with any method for channel normalization, so we use ours"
   ]
  },
  {
   "cell_type": "code",
   "execution_count": 6,
   "id": "portuguese-distributor",
   "metadata": {
    "ExecuteTime": {
     "end_time": "2022-06-19T16:09:49.533072Z",
     "start_time": "2022-06-19T16:09:46.469317Z"
    }
   },
   "outputs": [],
   "source": [
    "micro_sd = torch.load('/groups/turaga/home/speisera/Mackebox/Artur/WorkDB/deepstorm/models/fishcod/MERFISH_MOp/sweep_mop_32/target_mean:Trueximage_path:scaled4_images151.tif/microscope.pkl')\n",
    "ch_facs_151 = micro_sd['channel_facs']"
   ]
  },
  {
   "cell_type": "code",
   "execution_count": 7,
   "id": "working-butter",
   "metadata": {
    "ExecuteTime": {
     "end_time": "2022-06-19T16:09:50.779072Z",
     "start_time": "2022-06-19T16:09:49.535641Z"
    }
   },
   "outputs": [],
   "source": [
    "dec_df = pd.read_csv('../data/results/MERFISH/merfish_sweep_mop_32_target_mean:Trueximage_path:scaled4_images151.tif_None_151.csv')\n",
    "dec_df = dec_df[dec_df['code_inds'] < 252]\n",
    "dec_df['gene'] = targets[dec_df['code_inds']]\n",
    "dec_df['class'] = dec_df['gene'].str.contains('Blank')\n",
    "res_single = remove_doublets(dec_df, tolerance=200)\n",
    "dec_df = zero_int_ch(dec_df, codebook)\n",
    "dec_df = remove_fids(dec_df, px_to_nm(artifact_coords), tolerance=1000)"
   ]
  },
  {
   "cell_type": "code",
   "execution_count": 8,
   "id": "stretch-gravity",
   "metadata": {
    "ExecuteTime": {
     "end_time": "2022-06-19T16:09:55.637706Z",
     "start_time": "2022-06-19T16:09:50.781411Z"
    }
   },
   "outputs": [],
   "source": [
    "img_5d = read_MOp_tiff(cfg.data_path.image_path, z_to_batch=True)"
   ]
  },
  {
   "cell_type": "code",
   "execution_count": 9,
   "id": "disabled-patrick",
   "metadata": {
    "ExecuteTime": {
     "end_time": "2022-06-19T16:10:09.248520Z",
     "start_time": "2022-06-19T16:09:55.639484Z"
    }
   },
   "outputs": [
    {
     "name": "stdout",
     "output_type": "stream",
     "text": [
      "17130008\n"
     ]
    },
    {
     "name": "stderr",
     "output_type": "stream",
     "text": [
      "/groups/turaga/home/speisera/Dropbox (mackelab)/Artur/WorkDB/deepstorm/decode_fish/decode_fish/funcs/emitter_io.py:178: SettingWithCopyWarning: \n",
      "A value is trying to be set on a copy of a slice from a DataFrame.\n",
      "Try using .loc[row_indexer,col_indexer] = value instead\n",
      "\n",
      "See the caveats in the documentation: https://pandas.pydata.org/pandas-docs/stable/user_guide/indexing.html#returning-a-view-versus-a-copy\n",
      "  res_clean['frame_idx'] = frames[inds]\n"
     ]
    }
   ],
   "source": [
    "bench_151 = clean_bench_df(get_mop_fov(get_mop_benchmark(), 151), artifact_coords)"
   ]
  },
  {
   "cell_type": "code",
   "execution_count": 10,
   "id": "intimate-gravity",
   "metadata": {
    "ExecuteTime": {
     "end_time": "2022-06-19T16:10:09.298567Z",
     "start_time": "2022-06-19T16:10:09.250934Z"
    }
   },
   "outputs": [],
   "source": [
    "def get_istdeco_df(volume, codebook, psf_sig=(1.7, 1.7), n_iter=100, bg=100., device='cuda'):\n",
    "    \n",
    "    istd_results = pd.DataFrame()\n",
    "    \n",
    "    n_rounds = codebook.shape[1]\n",
    "    n_cols = codebook.shape[2]\n",
    "    \n",
    "    for i in tqdm(range(len(volume))):\n",
    "\n",
    "        image_data = np.array(volume)[i,:,0]\n",
    "        image_data = image_data.reshape([n_rounds,n_cols,image_data.shape[-2],image_data.shape[-1]], order='F')\n",
    "        \n",
    "        init_th = np.percentile(image_data,50)\n",
    "\n",
    "        istdeco_model = ISTDeco(image_data, codebook, psf_sig, b=bg).to(device)\n",
    "        X, Q, loss = istdeco_model.run(niter=n_iter)\n",
    "\n",
    "        # Get codes\n",
    "        code_id, y, x = np.where(np.logical_and(X>init_th,Q>0.1))\n",
    "\n",
    "        intensity = X[code_id, y, x]\n",
    "        quality = Q[code_id, y, x]\n",
    "\n",
    "        # Store in dataframe\n",
    "        df = pd.DataFrame(data={\n",
    "                'frame_idx': i,\n",
    "                'x': x.astype('float')+0.5, \n",
    "                'y': y.astype('float')+0.5,\n",
    "                'z': 0.5,\n",
    "                'intensity': intensity, \n",
    "                'quality': quality,\n",
    "                'code_inds': code_id\n",
    "        })\n",
    "\n",
    "        istd_results = istd_results.append(df)\n",
    "\n",
    "    istd_results = px_to_nm(istd_results)\n",
    "\n",
    "    return istd_results\n",
    "\n",
    "def get_istdeco_df_2048(volume, codebook, psf_sig=(1.7, 1.7), n_iter=100, bg=100., device='cuda'):\n",
    "    \n",
    "    '''Tile the data (with overlaps) because we run out of memory'''\n",
    "    \n",
    "    istd_results = pd.DataFrame()\n",
    "    \n",
    "    n_rounds = codebook.shape[1]\n",
    "    n_cols = codebook.shape[2]\n",
    "    \n",
    "    crops = [np.s_[:,  :1044, :1044],\n",
    "             np.s_[:, -1044:, :1044],\n",
    "             np.s_[:,  :1044, -1044:],\n",
    "             np.s_[:, -1044:, -1044:]]\n",
    "    \n",
    "    offsets = [[0,0],\n",
    "               [1004, 0],\n",
    "               [0, 1004],\n",
    "               [1004, 1004]]\n",
    "    \n",
    "    for i in tqdm(range(len(volume))):\n",
    "        \n",
    "        for j in range(len(crops)):\n",
    "                \n",
    "            image_data = np.array(volume)[i,:,0]\n",
    "            image_data = image_data[crops[j]]\n",
    "            image_data = image_data.reshape([n_rounds,n_cols,image_data.shape[-2],image_data.shape[-1]], order='F')\n",
    "\n",
    "            init_th = np.percentile(image_data,90)\n",
    "\n",
    "            istdeco_model = ISTDeco(image_data, codebook, psf_sig, b=bg).to(device)\n",
    "            X, Q, loss = istdeco_model.run(niter=n_iter)\n",
    "\n",
    "            # Get codes\n",
    "            code_id, y, x = np.where(np.logical_and(X>init_th,Q>0.1))\n",
    "\n",
    "            intensity = X[code_id, y, x]\n",
    "            quality = Q[code_id, y, x]\n",
    "\n",
    "            # Store in dataframe\n",
    "            df = pd.DataFrame(data={\n",
    "                    'frame_idx': i,\n",
    "                    'x': x.astype('float')+0.5, \n",
    "                    'y': y.astype('float')+0.5,\n",
    "                    'z': 0.5,\n",
    "                    'intensity': intensity, \n",
    "                    'quality': quality,\n",
    "                    'code_inds': code_id\n",
    "            })\n",
    "            \n",
    "            df = exclude_borders(df, border_size_zyx=[0,20,20], img_size=[1044,1044,1044])\n",
    "            df['x'] += offsets[j][1]\n",
    "            df['y'] += offsets[j][0]\n",
    "\n",
    "            istd_results = pd.concat([istd_results,df])\n",
    "\n",
    "    istd_results = px_to_nm(istd_results)\n",
    "\n",
    "    return istd_results"
   ]
  },
  {
   "cell_type": "code",
   "execution_count": 11,
   "id": "sorted-activation",
   "metadata": {
    "ExecuteTime": {
     "end_time": "2022-06-19T16:10:09.350788Z",
     "start_time": "2022-06-19T16:10:09.300327Z"
    }
   },
   "outputs": [],
   "source": [
    "# sub_vol = img_corr[3:4,:,:,500:1524, 500:1524]\n",
    "bench_sub = crop_df(bench_151, np.s_[3:4,:,:,:], px_size_zyx=[100.,100.,100])\n",
    "dec_sub = crop_df(dec_df, np.s_[3:4,:,:,:], px_size_zyx=[100.,100.,100])"
   ]
  },
  {
   "cell_type": "code",
   "execution_count": 12,
   "id": "popular-witch",
   "metadata": {
    "ExecuteTime": {
     "end_time": "2022-06-19T16:10:09.395040Z",
     "start_time": "2022-06-19T16:10:09.352635Z"
    }
   },
   "outputs": [],
   "source": [
    "class GaussianSmoothing(TransformBase):\n",
    "    def __init__(self, smoothing_filter_size, div_factor=1, device='cuda', z_size=48):\n",
    "        self.smoothing_filter_size = smoothing_filter_size\n",
    "        self.div_factor = div_factor\n",
    "        self.gaussian_filter = torch_gaussian_filter(kernel_size=[1,11,11], sigma=smoothing_filter_size, dim=3).to(device)\n",
    "    \n",
    "    def __call__(self, image, **kwargs):\n",
    "        background = self.gaussian_filter(image[None])/self.div_factor\n",
    "        return background[0]"
   ]
  },
  {
   "cell_type": "code",
   "execution_count": 13,
   "id": "assured-command",
   "metadata": {
    "ExecuteTime": {
     "end_time": "2022-06-19T16:20:16.357763Z",
     "start_time": "2022-06-19T16:10:09.397300Z"
    }
   },
   "outputs": [
    {
     "name": "stderr",
     "output_type": "stream",
     "text": [
      "/groups/turaga/home/speisera/anaconda3/envs/decode_fish_dev2/lib/python3.8/site-packages/torch/functional.py:568: UserWarning: torch.meshgrid: in an upcoming release, it will be required to pass the indexing argument. (Triggered internally at  ../aten/src/ATen/native/TensorShape.cpp:2228.)\n",
      "  return _VF.meshgrid(tensors, **kwargs)  # type: ignore[attr-defined]\n",
      "100%|██████████████████████████████████████████████████████████████████████████████████████████████████████████████████████████████████████████████████████| 1/1 [00:28<00:00, 28.44s/it]\n"
     ]
    },
    {
     "name": "stdout",
     "output_type": "stream",
     "text": [
      "0.5 1.0 7093\n"
     ]
    },
    {
     "name": "stderr",
     "output_type": "stream",
     "text": [
      "100%|██████████████████████████████████████████████████████████████████████████████████████████████████████████████████████████████████████████████████████| 1/1 [00:28<00:00, 28.29s/it]\n"
     ]
    },
    {
     "name": "stdout",
     "output_type": "stream",
     "text": [
      "0.5 1.15 6244\n"
     ]
    },
    {
     "name": "stderr",
     "output_type": "stream",
     "text": [
      "100%|██████████████████████████████████████████████████████████████████████████████████████████████████████████████████████████████████████████████████████| 1/1 [00:28<00:00, 28.98s/it]\n"
     ]
    },
    {
     "name": "stdout",
     "output_type": "stream",
     "text": [
      "0.5 1.3 5814\n"
     ]
    },
    {
     "name": "stderr",
     "output_type": "stream",
     "text": [
      "100%|██████████████████████████████████████████████████████████████████████████████████████████████████████████████████████████████████████████████████████| 1/1 [00:27<00:00, 27.66s/it]\n"
     ]
    },
    {
     "name": "stdout",
     "output_type": "stream",
     "text": [
      "0.5 1.45 5003\n"
     ]
    },
    {
     "name": "stderr",
     "output_type": "stream",
     "text": [
      "100%|██████████████████████████████████████████████████████████████████████████████████████████████████████████████████████████████████████████████████████| 1/1 [00:27<00:00, 27.65s/it]\n"
     ]
    },
    {
     "name": "stdout",
     "output_type": "stream",
     "text": [
      "0.5 1.6 4600\n"
     ]
    },
    {
     "name": "stderr",
     "output_type": "stream",
     "text": [
      "100%|██████████████████████████████████████████████████████████████████████████████████████████████████████████████████████████████████████████████████████| 1/1 [00:29<00:00, 29.08s/it]\n"
     ]
    },
    {
     "name": "stdout",
     "output_type": "stream",
     "text": [
      "1.0 1.0 7652\n"
     ]
    },
    {
     "name": "stderr",
     "output_type": "stream",
     "text": [
      "100%|██████████████████████████████████████████████████████████████████████████████████████████████████████████████████████████████████████████████████████| 1/1 [00:28<00:00, 28.99s/it]\n"
     ]
    },
    {
     "name": "stdout",
     "output_type": "stream",
     "text": [
      "1.0 1.15 7530\n"
     ]
    },
    {
     "name": "stderr",
     "output_type": "stream",
     "text": [
      "100%|██████████████████████████████████████████████████████████████████████████████████████████████████████████████████████████████████████████████████████| 1/1 [00:29<00:00, 29.21s/it]\n"
     ]
    },
    {
     "name": "stdout",
     "output_type": "stream",
     "text": [
      "1.0 1.3 7814\n"
     ]
    },
    {
     "name": "stderr",
     "output_type": "stream",
     "text": [
      "100%|██████████████████████████████████████████████████████████████████████████████████████████████████████████████████████████████████████████████████████| 1/1 [00:28<00:00, 28.20s/it]\n"
     ]
    },
    {
     "name": "stdout",
     "output_type": "stream",
     "text": [
      "1.0 1.45 7697\n"
     ]
    },
    {
     "name": "stderr",
     "output_type": "stream",
     "text": [
      "100%|██████████████████████████████████████████████████████████████████████████████████████████████████████████████████████████████████████████████████████| 1/1 [00:28<00:00, 28.29s/it]\n"
     ]
    },
    {
     "name": "stdout",
     "output_type": "stream",
     "text": [
      "1.0 1.6 7741\n"
     ]
    },
    {
     "name": "stderr",
     "output_type": "stream",
     "text": [
      "100%|██████████████████████████████████████████████████████████████████████████████████████████████████████████████████████████████████████████████████████| 1/1 [00:28<00:00, 28.22s/it]\n"
     ]
    },
    {
     "name": "stdout",
     "output_type": "stream",
     "text": [
      "1.5 1.0 6936\n"
     ]
    },
    {
     "name": "stderr",
     "output_type": "stream",
     "text": [
      "100%|██████████████████████████████████████████████████████████████████████████████████████████████████████████████████████████████████████████████████████| 1/1 [00:27<00:00, 27.61s/it]\n"
     ]
    },
    {
     "name": "stdout",
     "output_type": "stream",
     "text": [
      "1.5 1.15 7203\n"
     ]
    },
    {
     "name": "stderr",
     "output_type": "stream",
     "text": [
      "100%|██████████████████████████████████████████████████████████████████████████████████████████████████████████████████████████████████████████████████████| 1/1 [00:28<00:00, 28.07s/it]\n"
     ]
    },
    {
     "name": "stdout",
     "output_type": "stream",
     "text": [
      "1.5 1.3 7363\n"
     ]
    },
    {
     "name": "stderr",
     "output_type": "stream",
     "text": [
      "100%|██████████████████████████████████████████████████████████████████████████████████████████████████████████████████████████████████████████████████████| 1/1 [00:28<00:00, 28.18s/it]\n"
     ]
    },
    {
     "name": "stdout",
     "output_type": "stream",
     "text": [
      "1.5 1.45 7733\n"
     ]
    },
    {
     "name": "stderr",
     "output_type": "stream",
     "text": [
      "100%|██████████████████████████████████████████████████████████████████████████████████████████████████████████████████████████████████████████████████████| 1/1 [00:28<00:00, 28.62s/it]\n"
     ]
    },
    {
     "name": "stdout",
     "output_type": "stream",
     "text": [
      "1.5 1.6 7719\n"
     ]
    },
    {
     "name": "stderr",
     "output_type": "stream",
     "text": [
      "100%|██████████████████████████████████████████████████████████████████████████████████████████████████████████████████████████████████████████████████████| 1/1 [00:28<00:00, 28.31s/it]\n"
     ]
    },
    {
     "name": "stdout",
     "output_type": "stream",
     "text": [
      "2.0 1.0 6781\n"
     ]
    },
    {
     "name": "stderr",
     "output_type": "stream",
     "text": [
      "100%|██████████████████████████████████████████████████████████████████████████████████████████████████████████████████████████████████████████████████████| 1/1 [00:27<00:00, 27.73s/it]\n"
     ]
    },
    {
     "name": "stdout",
     "output_type": "stream",
     "text": [
      "2.0 1.15 7115\n"
     ]
    },
    {
     "name": "stderr",
     "output_type": "stream",
     "text": [
      "100%|██████████████████████████████████████████████████████████████████████████████████████████████████████████████████████████████████████████████████████| 1/1 [00:28<00:00, 28.36s/it]\n"
     ]
    },
    {
     "name": "stdout",
     "output_type": "stream",
     "text": [
      "2.0 1.3 7182\n"
     ]
    },
    {
     "name": "stderr",
     "output_type": "stream",
     "text": [
      "100%|██████████████████████████████████████████████████████████████████████████████████████████████████████████████████████████████████████████████████████| 1/1 [00:28<00:00, 28.68s/it]\n"
     ]
    },
    {
     "name": "stdout",
     "output_type": "stream",
     "text": [
      "2.0 1.45 7018\n"
     ]
    },
    {
     "name": "stderr",
     "output_type": "stream",
     "text": [
      "100%|██████████████████████████████████████████████████████████████████████████████████████████████████████████████████████████████████████████████████████| 1/1 [00:29<00:00, 29.30s/it]\n"
     ]
    },
    {
     "name": "stdout",
     "output_type": "stream",
     "text": [
      "2.0 1.6 7192\n"
     ]
    }
   ],
   "source": [
    "# Sweep over different gaussian filter size for background removal and constant background levels. These seem to have the biggest effect on performance\n",
    "\n",
    "sfs_list = [0.5, 1. ,1.5 ,2.]\n",
    "# bg_list = [0., 50., 100., 150., 200.]\n",
    "psf_list = [1.,1.15,1.3,1.45,1.6]\n",
    "\n",
    "sweep_mat = np.zeros([len(sfs_list), len(psf_list)])\n",
    "\n",
    "for i in range(len(sweep_mat)):\n",
    "    for j in range(len(sweep_mat[0])):\n",
    "\n",
    "        smoother = GaussianSmoothing(smoothing_filter_size=sfs_list[i], z_size=1, device='cpu')\n",
    "        bg = smoother(img_5d[3:4])\n",
    "        img_corr = (img_5d[3:4] - bg).detach().cpu()\n",
    "\n",
    "#         istd_df_sub = get_istdeco_df_2048(torch.clamp_min(img_corr*ch_facs_151[None,:,None,None,None].cpu() + bg_list[j], 0), codebook.reshape([252,11,2], order='F'), psf_sig=(1.3, 1.3), n_iter=50, bg=bg_list[j], device='cuda')\n",
    "        istd_df_sub = get_istdeco_df_2048(torch.clamp_min(img_corr*ch_facs_151[None,:,None,None,None].cpu() + 100., 0), codebook.reshape([252,11,2], order='F'), psf_sig=(psf_list[j], psf_list[j]), n_iter=50, bg=100., device='cuda')\n",
    "        \n",
    "        istd_df_sub['loc_idx'] = np.arange(len(istd_df_sub))\n",
    "        istd_df_sub['gene'] = targets[istd_df_sub['code_inds']]\n",
    "        istd_df_sub = istd_df_sub.nlargest(20000, 'quality')\n",
    "        istd_df_sub = remove_doublets(istd_df_sub, tolerance=200)\n",
    "        istd_df_sub['class'] = istd_df_sub['gene'].str.contains('Blank')\n",
    "        istd_df_sub = exclude_borders(istd_df_sub, border_size_zyx=[0,15000,15000], img_size=[2048*100,2048*100,2048*100])\n",
    "\n",
    "        n_b = (istd_df_sub.sort_values('quality', ascending=False)['class'].cumsum().values <= bench_sub['class'].sum()).sum()\n",
    "        print(sfs_list[i], psf_list[j], n_b)\n",
    "        sweep_mat[i,j] = n_b"
   ]
  },
  {
   "cell_type": "code",
   "execution_count": 14,
   "id": "chief-melissa",
   "metadata": {
    "ExecuteTime": {
     "end_time": "2022-06-19T16:20:17.209808Z",
     "start_time": "2022-06-19T16:20:16.360295Z"
    }
   },
   "outputs": [
    {
     "data": {
      "text/plain": [
       "array([[7093., 6244., 5814., 5003., 4600.],\n",
       "       [7652., 7530., 7814., 7697., 7741.],\n",
       "       [6936., 7203., 7363., 7733., 7719.],\n",
       "       [6781., 7115., 7182., 7018., 7192.]])"
      ]
     },
     "execution_count": 14,
     "metadata": {},
     "output_type": "execute_result"
    }
   ],
   "source": [
    "sweep_mat"
   ]
  },
  {
   "cell_type": "code",
   "execution_count": 51,
   "id": "capital-funds",
   "metadata": {
    "ExecuteTime": {
     "end_time": "2022-06-16T13:10:13.686141Z",
     "start_time": "2022-06-16T13:10:06.250830Z"
    }
   },
   "outputs": [],
   "source": [
    "smoother = GaussianSmoothing(smoothing_filter_size=1., z_size=1, device='cpu')\n",
    "bg = smoother(img_5d)\n",
    "img_corr = (img_5d - bg).detach().cpu()"
   ]
  },
  {
   "cell_type": "code",
   "execution_count": 78,
   "id": "color-artist",
   "metadata": {
    "ExecuteTime": {
     "end_time": "2022-06-16T13:30:03.283958Z",
     "start_time": "2022-06-16T13:26:11.117675Z"
    }
   },
   "outputs": [
    {
     "name": "stderr",
     "output_type": "stream",
     "text": [
      "100%|██████████████████████████████████████████████████████████████████████████████████████████████████████████████████████████████████████████████████████| 7/7 [03:50<00:00, 32.88s/it]\n"
     ]
    }
   ],
   "source": [
    "istd_df_full = get_istdeco_df_2048(torch.clamp_min(img_corr*ch_facs_151[None,:,None,None,None].cpu() + 100, 0), codebook.reshape([252,11,2], order='F'), psf_sig=(1.3, 1.3), n_iter=50, bg=100, device='cuda')"
   ]
  },
  {
   "cell_type": "code",
   "execution_count": 80,
   "id": "thirty-wrapping",
   "metadata": {
    "ExecuteTime": {
     "end_time": "2022-06-16T13:30:22.573274Z",
     "start_time": "2022-06-16T13:30:21.142311Z"
    }
   },
   "outputs": [
    {
     "name": "stderr",
     "output_type": "stream",
     "text": [
      "/groups/turaga/home/speisera/Dropbox (mackelab)/Artur/WorkDB/deepstorm/decode_fish/decode_fish/funcs/emitter_io.py:223: SettingWithCopyWarning: \n",
      "A value is trying to be set on a copy of a slice from a DataFrame.\n",
      "Try using .loc[row_indexer,col_indexer] = value instead\n",
      "\n",
      "See the caveats in the documentation: https://pandas.pydata.org/pandas-docs/stable/user_guide/indexing.html#returning-a-view-versus-a-copy\n",
      "  res_clean['frame_idx'] = frames[inds]\n"
     ]
    }
   ],
   "source": [
    "istd_df_full['loc_idx'] = np.arange(len(istd_df_full))\n",
    "istd_df_full['gene'] = targets[istd_df_full['code_inds']]\n",
    "istd_df_full = istd_df_full.nlargest(200000, 'quality')\n",
    "istd_df_full = remove_doublets(istd_df_full, tolerance=200)\n",
    "istd_df_full['class'] = istd_df_full['gene'].str.contains('Blank')\n",
    "istd_df_full = exclude_borders(istd_df_full, border_size_zyx=[0,15000,15000], img_size=[2048*100,2048*100,2048*100])\n",
    "istd_df_full = remove_fids(istd_df_full, px_to_nm(artifact_coords), tolerance=1000)"
   ]
  },
  {
   "cell_type": "code",
   "execution_count": 81,
   "id": "spiritual-spectacular",
   "metadata": {
    "ExecuteTime": {
     "end_time": "2022-06-16T13:30:22.940524Z",
     "start_time": "2022-06-16T13:30:22.575241Z"
    }
   },
   "outputs": [
    {
     "name": "stdout",
     "output_type": "stream",
     "text": [
      "36480 36480\n"
     ]
    },
    {
     "data": {
      "image/png": "[encoded data removed]",
      "text/plain": [
       "<Figure size 1080x360 with 2 Axes>"
      ]
     },
     "metadata": {
      "needs_background": "light"
     },
     "output_type": "display_data"
    }
   ],
   "source": [
    "plot_gene_panels(istd_df_full.nlargest(36480 , 'quality'), bench_151, targets)"
   ]
  },
  {
   "cell_type": "code",
   "execution_count": 7,
   "id": "vertical-century",
   "metadata": {
    "ExecuteTime": {
     "end_time": "2022-06-19T15:30:08.287936Z",
     "start_time": "2022-06-19T15:17:39.264757Z"
    }
   },
   "outputs": [
    {
     "name": "stderr",
     "output_type": "stream",
     "text": [
      "/groups/turaga/home/speisera/anaconda3/envs/decode_fish_dev2/lib/python3.8/site-packages/torch/functional.py:568: UserWarning: torch.meshgrid: in an upcoming release, it will be required to pass the indexing argument. (Triggered internally at  ../aten/src/ATen/native/TensorShape.cpp:2228.)\n",
      "  return _VF.meshgrid(tensors, **kwargs)  # type: ignore[attr-defined]\n",
      "100%|██████████████████████████████████████████████████████████████████████████████████████████████████████████████████████████████████████████████████████| 7/7 [03:54<00:00, 33.53s/it]\n",
      "100%|██████████████████████████████████████████████████████████████████████████████████████████████████████████████████████████████████████████████████████| 7/7 [03:50<00:00, 32.89s/it]\n",
      "100%|██████████████████████████████████████████████████████████████████████████████████████████████████████████████████████████████████████████████████████| 7/7 [03:52<00:00, 33.23s/it]\n"
     ]
    }
   ],
   "source": [
    "file_nrs = [47,150,151]\n",
    "\n",
    "smoother = GaussianSmoothing(smoothing_filter_size=1., z_size=1, device='cpu')\n",
    "\n",
    "for fnr in file_nrs:\n",
    "    \n",
    "    img_5d = read_MOp_tiff(f'/groups/turaga/home/speisera/Mackebox/Artur/WorkDB/deepstorm//datasets/CodFish/MERFISH/MOp/mouse1_sample1_raw/aligned_scaled4_images{fnr}.tif', z_to_batch=True)\n",
    "    micro_sd = torch.load(f'../data/results/MERFISH/sweep_mop_35/image_path:scaled4_images150_{fnr}.pt')\n",
    "    ch_facs = micro_sd[None,:,None,None,None].cpu().detach()\n",
    "    \n",
    "    bg = smoother(img_5d)\n",
    "    img_corr = (img_5d - bg).detach().cpu()\n",
    "    \n",
    "    istd_df_full = get_istdeco_df_2048(torch.clamp_min(img_corr*ch_facs + 100, 0), codebook.reshape([252,11,2], order='F'), psf_sig=(1.3, 1.3), n_iter=50, bg=100, device='cuda')\n",
    "        \n",
    "    istd_df_full = istd_df_full.nlargest(200000, 'quality')\n",
    "    istd_df_full['loc_idx'] = np.arange(len(istd_df_full))\n",
    "    istd_df_full['gene'] = targets[istd_df_full['code_inds']]\n",
    "    istd_df_full['class'] = istd_df_full['gene'].str.contains('Blank')\n",
    "        \n",
    "    istd_df_full.to_csv(f'../data/results/MERFISH/MOp_istdeco/sweep_mop_35_norm_{fnr}.csv')"
   ]
  }
 ],
 "metadata": {
  "kernelspec": {
   "display_name": "Python [conda env:decode_fish_dev2]",
   "language": "python",
   "name": "conda-env-decode_fish_dev2-py"
  },
  "language_info": {
   "codemirror_mode": {
    "name": "ipython",
    "version": 3
   },
   "file_extension": ".py",
   "mimetype": "text/x-python",
   "name": "python",
   "nbconvert_exporter": "python",
   "pygments_lexer": "ipython3",
   "version": "3.8.13"
  }
 },
 "nbformat": 4,
 "nbformat_minor": 5
}
