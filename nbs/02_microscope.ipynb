{
 "cells": [
  {
   "cell_type": "code",
   "execution_count": null,
   "metadata": {},
   "outputs": [],
   "source": [
    "# default_exp engine.microscope"
   ]
  },
  {
   "cell_type": "code",
   "execution_count": null,
   "metadata": {},
   "outputs": [],
   "source": [
    "%load_ext autoreload\n",
    "%autoreload 2"
   ]
  },
  {
   "cell_type": "markdown",
   "metadata": {},
   "source": [
    "# Microscope model\n",
    "\n",
    "> Definition of the classes and modules we use to simulate recordings given network outputs"
   ]
  },
  {
   "cell_type": "code",
   "execution_count": null,
   "metadata": {},
   "outputs": [],
   "source": [
    "#export\n",
    "from decode_fish.imports import *\n",
    "import torch.nn as nn\n",
    "from torch.jit import script\n",
    "from typing import Union, List\n",
    "import torch.nn.functional as F"
   ]
  },
  {
   "cell_type": "code",
   "execution_count": null,
   "metadata": {},
   "outputs": [],
   "source": [
    "os.environ[\"CUDA_VISIBLE_DEVICES\"] = '1'"
   ]
  },
  {
   "cell_type": "code",
   "execution_count": null,
   "metadata": {},
   "outputs": [],
   "source": [
    "#export\n",
    "class Microscope(nn.Module):\n",
    "    \"\"\"\n",
    "    Mircoscope module takes  4 volumes 'locations', 'x_os_3d', 'y_os_3d', 'z_os_3d',\n",
    "    'ints_3d'  and applies point spread function:\n",
    "    1) Extracts values of intensities and offsets of given emitters\n",
    "    2) Applies parametric PSF if given\n",
    "    3) Applies empirical  PSF if given\n",
    "    4) Combine all PSF and multiply by intenseties\n",
    "    5) Normalize PSFs\n",
    "    6) Places point spread function on to sampled locations  to\n",
    "    generate 'x_sim' simulated image\n",
    "    7) Multiplies x_sim by multipl\n",
    "\n",
    "\n",
    "    Args:\n",
    "        parametric_psf (torch.nn.Module): List of Paramateric PSF\n",
    "        empirical_psf (torch.nn.Module): List of Emperical PSF\n",
    "        noise (torch.nn.Module): Camera noise model\n",
    "        scale(float): Paramter for scaling point spread functions\n",
    "        multipl(float): Multiplication value that will be applied to xsim \n",
    "    Shape:\n",
    "        -Input: locations: Tuple(BS, Frames, H, W, D)\n",
    "                x_os_val: (N_emitters,)\n",
    "                y_os_val: (N_emitters,)\n",
    "                z_os_val: (N_emitters,)\n",
    "                ints_val: (N_emitters,)\n",
    "                output_shape: Shape Tuple(BS, Frames, H, W, D)\n",
    "\n",
    "        -Output: xsim:    (BS, C, H, W, D)\n",
    "    \"\"\"\n",
    "\n",
    "\n",
    "    def __init__(self,\n",
    "                 parametric_psf: List[torch.nn.Module]=None,\n",
    "                 empirical_psf : List[torch.nn.Module]=None ,\n",
    "                 noise: Union[torch.nn.Module, None]=None,\n",
    "                 scale: float = 10000., multipl=100\n",
    "                 ):\n",
    "\n",
    "        super().__init__()\n",
    "        self.parametric_psf = parametric_psf if parametric_psf else None\n",
    "        self.empirical_psf  = empirical_psf if empirical_psf else None\n",
    "#         self.scale = torch.nn.Parameter(torch.tensor(scale))\n",
    "        self.scale = scale\n",
    "        self.noise = noise\n",
    "        self.multipl = multipl\n",
    "\n",
    "    def forward(self, locations, x_os_val, y_os_val, z_os_val, i_val,output_shape, bg=None, eval_=None, scale_x=None, scale_y=None, scale_z=None):\n",
    "        \n",
    "        if len(locations[0]):\n",
    "        \n",
    "            if scale_x: x_os_val = x_os_val*scale_x\n",
    "            if scale_y: y_os_val = y_os_val*scale_y\n",
    "            if scale_z: z_os_val = z_os_val*scale_z\n",
    "\n",
    "            psf = 0\n",
    "            if self.parametric_psf:\n",
    "                for param_psf_ in self.parametric_psf:\n",
    "                    psf += param_psf_(x_os_val, y_os_val, z_os_val)\n",
    "\n",
    "            if self.empirical_psf:\n",
    "                for emper_psf in self.empirical_psf:\n",
    "                    psf += emper_psf(x_os_val, y_os_val, z_os_val)\n",
    "            #normalizing psf\n",
    "            torch.clamp_min_(psf,0)\n",
    "            psf = psf.div(psf.sum(dim=[2, 3, 4], keepdim=True))\n",
    "            #applying intenseties (N_Emitters, C, H, W, D)\n",
    "\n",
    "            psf = psf * i_val[:,None,None,None,None]\n",
    "            xsim = place_psf(locations, psf, output_shape)\n",
    "            xsim = self.scale * xsim * self.multipl\n",
    "#             torch.clamp_min_(xsim,0)\n",
    "            #torch.clamp_max_(xsim,255)\n",
    "            if eval_:\n",
    "                return xsim, psf\n",
    "            return xsim\n",
    "        \n",
    "        else:\n",
    "            \n",
    "            return torch.zeros(output_shape).cuda()"
   ]
  },
  {
   "cell_type": "code",
   "execution_count": null,
   "metadata": {},
   "outputs": [],
   "source": [
    "#export\n",
    "def place_psf(locations, psf_volume, output_shape):\n",
    "    \"\"\"\n",
    "    Places point spread functions (psf_volume) in to corresponding locations.\n",
    "\n",
    "    Args:\n",
    "        locations: torch.Tensor\n",
    "        psf_volume: torch.Tensor\n",
    "        output_shape: torch.Tensor\n",
    "\n",
    "    Shape:\n",
    "        -Input: locations: Tuple(BS, Frames, H, W, D)\n",
    "                psf: (Num_E, C, PSF_SZ_X, PSF_SZ_Y, PSF_SZ_Z) [\n",
    "                Num_E-Number of Emitters, PSF_SZ_{X, Y, Z} - PSF filter size]\n",
    "                output_shape: shape of the output volume (BS, Frames, H, W, D)\n",
    "        -Output: placed_psf: (BS, Frames, H, W, D)\n",
    "\n",
    "    Returns:\n",
    "        placed_psf\n",
    "    \"\"\"\n",
    "    filter_size = psf_volume.shape[2:]\n",
    "    filter_sizes = torch.cat(\n",
    "        [torch.tensor((sz // 2, sz // 2 + 1)) for sz in filter_size]).reshape(\n",
    "        3, 2).cuda()\n",
    "    padding_sz = torch.tensor(max(filter_size) // 2 + 2).cuda()\n",
    "    batch, frame, h, w, d = locations\n",
    "    placed_psf = _place_psf(psf_volume, padding_sz, filter_sizes, batch, frame, h, w, d, torch.tensor(output_shape))\n",
    "    assert placed_psf.shape == output_shape\n",
    "    return placed_psf"
   ]
  },
  {
   "cell_type": "code",
   "execution_count": null,
   "metadata": {},
   "outputs": [],
   "source": [
    "#export\n",
    "@script\n",
    "def _place_psf(volume, pad_size, fz, b, c, h, w, d, output_shape):\n",
    "    '''jit function for placing point spread function \n",
    "    1) This function will add padding to coordinates (h, w, d) (we need padding in order to place psf on the edges)\n",
    "    afterwards we will just crop out to original shape\n",
    "    2) Create empty tensor with paddings loc3d_like\n",
    "    3) place each individual PSFs in to the coresponding cordinates in loc3d_like\n",
    "    4) unpad to original output shape\n",
    "\n",
    "\n",
    "    Args:\n",
    "        volume:   torch.Tensor\n",
    "        pad_size: torch.Tensor\n",
    "        fs:       torch.Tensor\n",
    "        b:        torch.Tensor\n",
    "        c:        torch.Tensor\n",
    "        h:        torch.Tensor\n",
    "        w:        torch.Tensor\n",
    "        d:        torch.Tensor\n",
    "        szs:      torch.Tensor\n",
    "        \n",
    "    Shape:\n",
    "        volume: (Num_E, C, PSF_SZ_X, PSF_SZ_Y, PSF_SZ_Z)\n",
    "        pad_size: (1,)\n",
    "        fs: (3, 2)\n",
    "        b:  (Num_E,)\n",
    "        c:  (Num_E,)\n",
    "        h:  (Num_E,)\n",
    "        w:  (Num_E,)\n",
    "        d:  (Num_E,)\n",
    "        output_shape:  (BS, Frames, H, W, D)\n",
    "        \n",
    "    -Output: placed_psf: (BS, Frames, H, W, D)\n",
    "        \n",
    "    '''\n",
    "    #adding padding to h, w, d \n",
    "    h = h + pad_size\n",
    "    w = w + pad_size\n",
    "    d = d + pad_size\n",
    "\n",
    "    #create padded tensor (bs, frame, c, h, w) We will need pad_size * 2 since we are padding from both size\n",
    "    loc3d_like = torch.zeros(output_shape[0], \n",
    "                             output_shape[1], \n",
    "                             output_shape[2] + pad_size *2, \n",
    "                             output_shape[3] + pad_size *2, \n",
    "                             output_shape[4] + pad_size *2)\n",
    "    loc3d_like = loc3d_like.to(d.device)\n",
    "    psf_b, psf_c, psf_h, psf_w, psf_d = volume.shape\n",
    "    volume = volume.reshape(-1, psf_h, psf_w, psf_d)\n",
    "\n",
    "    for idx in range(b.shape[0]):\n",
    "        loc3d_like[b[idx], c[idx],\n",
    "        h[idx] - fz[0][0]:h[idx] + fz[0][1],\n",
    "        w[idx] - fz[1][0]:w[idx] + fz[1][1],\n",
    "        d[idx] - fz[2][0]:d[idx] + fz[2][1]] += volume[idx]\n",
    "\n",
    "    b_sz, ch_sz, h_sz, w_sz, d_sz = loc3d_like.shape\n",
    "\n",
    "    # unpad to original size\n",
    "    placed_psf = loc3d_like[:, :, pad_size: h_sz - pad_size,\n",
    "                                  pad_size: w_sz - pad_size,\n",
    "                                  pad_size: d_sz - pad_size]\n",
    "    return placed_psf"
   ]
  },
  {
   "cell_type": "code",
   "execution_count": null,
   "metadata": {},
   "outputs": [],
   "source": [
    "#export \n",
    "def extractvalues( locs: torch.tensor,\n",
    "                    x_os: torch.tensor,\n",
    "                    y_os: torch.tensor,\n",
    "                    z_os: torch.tensor,\n",
    "                    ints:torch.tensor, dim: int=3):\n",
    "    \"\"\"\n",
    "    Extracts Values of intensities and offsets of given emitters\n",
    "\n",
    "     This function will take `locs`, `x_os`, `y_os`, `z_os`, `ints` all of the shapes, \n",
    "     and will extract `coord` coordinate of locations where our emittors  are present. \n",
    "     This `coord` will be used to extract values of `x`, `y`, `z`,\n",
    "     offsets and intensities - `i` where the emitter is present\n",
    "     \n",
    "    Args:\n",
    "        locs: location\n",
    "        x_os: X offset\n",
    "        y_os: Y offset\n",
    "        z_os: Z offset\n",
    "        ints: Intenseties\n",
    "        dim:  Dimension 2D or 3D\n",
    "\n",
    "    Shape:\n",
    "        -Input: locs_3d: (BS, C, H, W, D)\n",
    "                x_os_3d: (BS, C, H, W, D)\n",
    "                y_os_3d: (BS, C, H, W, D)\n",
    "                z_os_3d: (BS, C, H, W, D)\n",
    "                ints_3d: (BS, C, H, W, D)\n",
    "\n",
    "        -Output: :\n",
    "                x_os_val: (Num_E, 1, 1, 1, 1)\n",
    "                y_os_val: (Num_E, 1, 1, 1, 1)\n",
    "                z_os_val: (Num_E, 1, 1, 1, 1)\n",
    "                ints_val: (Num_E, 1, 1, 1, 1)\n",
    "    \"\"\"\n",
    "    \n",
    "    dim = tuple([1 for i in range(dim)])\n",
    "    coord = tuple(locs.nonzero().transpose(1,0))\n",
    "    x_os_val = x_os[coord].reshape(-1, *dim)\n",
    "    y_os_val = y_os[coord].reshape(-1, *dim)\n",
    "    z_os_val = z_os[coord].reshape(-1, *dim)\n",
    "    ints_val = ints[coord].reshape(-1, *dim)\n",
    "    return  x_os_val, y_os_val, z_os_val, ints_val"
   ]
  },
  {
   "cell_type": "code",
   "execution_count": null,
   "metadata": {},
   "outputs": [],
   "source": [
    "from decode_fish.engine.psf import LinearInterpolatedPSF\n",
    "from decode_fish.engine.noise import sCMOS\n",
    "from decode_fish.engine.point_process import PointProcessUniform\n",
    "from decode_fish.funcs.plotting import plot_3d_projections\n",
    "\n",
    "psf_state = torch.load('../data/simfish_psf.pkl')\n",
    "psf = LinearInterpolatedPSF(psf_state['psf_volume'].shape[-3:], upsample_factor= 1)\n",
    "psf.load_state_dict(psf_state)\n",
    "\n",
    "noise = sCMOS()\n",
    "\n",
    "micro = Microscope(parametric_psf=[psf], noise=noise, multipl=10000).cuda()\n",
    "\n",
    "point_process = PointProcessUniform(local_rate = torch.ones([2,1,48,48,48]).cuda()*.0001, min_int = 0.5)\n",
    "locs_3d, x_os_3d, y_os_3d, z_os_3d, ints_3d, output_shape = point_process.sample()"
   ]
  },
  {
   "cell_type": "code",
   "execution_count": null,
   "metadata": {},
   "outputs": [
    {
     "data": {
      "image/png": "[encoded data removed]",
      "text/plain": [
       "<Figure size 1296x432 with 6 Axes>"
      ]
     },
     "metadata": {
      "needs_background": "light"
     },
     "output_type": "display_data"
    }
   ],
   "source": [
    "plot_3d_projections(psf.psf_volume.cpu().detach().numpy()[0])"
   ]
  },
  {
   "cell_type": "code",
   "execution_count": null,
   "metadata": {},
   "outputs": [
    {
     "data": {
      "image/png": "[encoded data removed]",
      "text/plain": [
       "<Figure size 1296x432 with 6 Axes>"
      ]
     },
     "metadata": {
      "needs_background": "light"
     },
     "output_type": "display_data"
    }
   ],
   "source": [
    "xsim = micro(locs_3d, x_os_3d, y_os_3d, z_os_3d, ints_3d, output_shape)\n",
    "plot_3d_projections(xsim[0,0])"
   ]
  },
  {
   "cell_type": "code",
   "execution_count": null,
   "metadata": {},
   "outputs": [],
   "source": [
    "from decode_fish.funcs.file_io import *\n",
    "from decode_fish.funcs.output_trafo import *\n",
    "cfg = OmegaConf.load(default_conf)\n",
    "gt_img = load_tiff_image('/groups/turaga/home/speisera/share_TUM/FishSIM/sim_1/mRNAlevel_200/cell3D/strong/w1_HelaKyoto_Gapdh_2597_p01_cy3__Cell_CP_14__cell3D__1.tif')"
   ]
  },
  {
   "cell_type": "code",
   "execution_count": null,
   "metadata": {},
   "outputs": [],
   "source": [
    "model_out = torch.load('../data/model_output.pt')\n",
    "locs_ae, x_os_ae, y_os_ae, z_os_ae, ints_ae, output_shape_ae = model_output_to_micro_input(model_out, threshold=0.1)\n",
    "ae_img = micro(locs_ae, x_os_ae, y_os_ae, z_os_ae, ints_ae, output_shape_ae)"
   ]
  },
  {
   "cell_type": "code",
   "execution_count": null,
   "metadata": {},
   "outputs": [],
   "source": [
    "log_p_x_given_z = - micro.noise(ae_img,model_out['background']).log_prob(gt_img[None,:,30:].cuda()).mean()\n",
    "log_p_x_given_z.backward()"
   ]
  },
  {
   "cell_type": "code",
   "execution_count": null,
   "metadata": {},
   "outputs": [],
   "source": [
    "log_p_x_given_z"
   ]
  },
  {
   "cell_type": "code",
   "execution_count": null,
   "metadata": {},
   "outputs": [
    {
     "name": "stdout",
     "output_type": "stream",
     "text": [
      "Converted 00_models.ipynb.\n",
      "Converted 01_psf.ipynb.\n",
      "Converted 02_microscope.ipynb.\n",
      "Converted 03_noise.ipynb.\n",
      "Converted 04_pointsource.ipynb.\n",
      "Converted 05_gmm_loss.ipynb.\n",
      "Converted 06_plotting.ipynb.\n",
      "Converted 07_file_io.ipynb.\n",
      "Converted 08_dataset.ipynb.\n",
      "Converted 09_output_trafo.ipynb.\n",
      "Converted 10_evaluation.ipynb.\n",
      "Converted 11_emitter_io.ipynb.\n",
      "Converted 12_utils.ipynb.\n",
      "Converted 13_train.ipynb.\n",
      "Converted 15_fit_psf.ipynb.\n",
      "Converted 16_visualization.ipynb.\n",
      "Converted index.ipynb.\n"
     ]
    }
   ],
   "source": [
    "!nbdev_build_lib"
   ]
  },
  {
   "cell_type": "code",
   "execution_count": null,
   "metadata": {},
   "outputs": [],
   "source": []
  }
 ],
 "metadata": {
  "kernelspec": {
   "display_name": "Python [conda env:decode2_dev]",
   "language": "python",
   "name": "conda-env-decode2_dev-py"
  }
 },
 "nbformat": 4,
 "nbformat_minor": 4
}
