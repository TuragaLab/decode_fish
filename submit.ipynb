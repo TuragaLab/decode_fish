{
 "cells": [
  {
   "cell_type": "code",
   "execution_count": 51,
   "metadata": {
    "ExecuteTime": {
     "end_time": "2021-04-07T17:01:35.115916Z",
     "start_time": "2021-04-07T17:01:35.101225Z"
    }
   },
   "outputs": [],
   "source": [
    "from pathlib import Path\n",
    "from decode_fish.funcs.utils import *\n",
    "\n",
    "def make_sweep_str(model_path, pfile, pars, group):\n",
    "    \n",
    "    base_str = f'bsub -gpu \"num=1\" -q gpu_any -o logs/ofish.log -e logs/efish.log /groups/turaga/home/speisera/anaconda3/envs/decode2_dev/bin/python /groups/turaga/home/speisera/Mackebox/Artur/WorkDB/deepstorm/decode_fish/decode_fish/train.py'   \n",
    "    base_str = base_str + f' +experiment={pfile}'\n",
    "    name = ''\n",
    "    \n",
    "    for k in pars:\n",
    "        base_str += ' ' + k + f'={pars[k]}'\n",
    "        name += k.split('.')[-1]+f':{pars[k]}x'\n",
    "    name = name[:-1]\n",
    "    \n",
    "    return base_str + f' run_name={name} output.group={group}' + '\\n'\n",
    "    \n",
    "\n",
    "def make_named_str(model_path, pfile, name, group):\n",
    "    \n",
    "    base_str = f'bsub -gpu \"num=1\" -q gpu_any -o logs/ofish.log -e logs/efish.log /groups/turaga/home/speisera/anaconda3/envs/decode2_dev/bin/python /groups/turaga/home/speisera/Mackebox/Artur/WorkDB/deepstorm/decode_fish/decode_fish/train.py'   \n",
    "    base_str = base_str + f' +experiment={pfile}'\n",
    "    \n",
    "    return base_str + f' run_name={name} output.group={group}' + '\\n'"
   ]
  },
  {
   "cell_type": "code",
   "execution_count": 54,
   "metadata": {
    "ExecuteTime": {
     "end_time": "2021-04-07T17:01:35.275352Z",
     "start_time": "2021-04-07T17:01:35.265310Z"
    }
   },
   "outputs": [],
   "source": [
    "model_path = Path('/groups/turaga/home/speisera/Mackebox/Artur/WorkDB/deepstorm/models/fishcod/N2_352/')\n",
    "group = 'sweep_b19'\n",
    "pfile = 'N2_352_b12'\n",
    "\n",
    "variable_col = param_iter()\n",
    "variable_col.add('autoencoder.norm_reg',0.51)\n",
    "\n",
    "par_prod = variable_col.param_product()\n",
    "\n",
    "# name = 'Ref_SI'"
   ]
  },
  {
   "cell_type": "code",
   "execution_count": 55,
   "metadata": {
    "ExecuteTime": {
     "end_time": "2021-04-07T17:01:35.457237Z",
     "start_time": "2021-04-07T17:01:35.438476Z"
    }
   },
   "outputs": [
    {
     "name": "stdout",
     "output_type": "stream",
     "text": [
      "bsub -gpu \"num=1\" -q gpu_any -o logs/ofish.log -e logs/efish.log /groups/turaga/home/speisera/anaconda3/envs/decode2_dev/bin/python /groups/turaga/home/speisera/Mackebox/Artur/WorkDB/deepstorm/decode_fish/decode_fish/train.py +experiment=N2_352_b12 autoencoder.norm_reg=0.51 run_name=norm_reg:0.51 output.group=sweep_b19\n",
      "\n"
     ]
    }
   ],
   "source": [
    "Path.mkdir(model_path/group, exist_ok=True)\n",
    "\n",
    "with open('run_slurm.sh', 'w') as f:\n",
    "    for pars in par_prod:  \n",
    "        exec_str = make_sweep_str(model_path, pfile, pars, group)\n",
    "        print(exec_str)\n",
    "        f.write(exec_str)"
   ]
  },
  {
   "cell_type": "code",
   "execution_count": 242,
   "metadata": {
    "ExecuteTime": {
     "end_time": "2021-03-31T08:54:00.303424Z",
     "start_time": "2021-03-31T08:54:00.298611Z"
    }
   },
   "outputs": [],
   "source": [
    "# Path.mkdir(model_path/group, exist_ok=True)\n",
    "\n",
    "# with open('run_slurm.sh', 'w') as f:\n",
    "#     exec_str = make_named_str(model_path, pfile, name, group)\n",
    "#     print(exec_str)\n",
    "#     f.write(exec_str)"
   ]
  },
  {
   "cell_type": "code",
   "execution_count": null,
   "metadata": {},
   "outputs": [],
   "source": []
  }
 ],
 "metadata": {
  "kernelspec": {
   "display_name": "Python [conda env:decode2_dev]",
   "language": "python",
   "name": "conda-env-decode2_dev-py"
  },
  "language_info": {
   "codemirror_mode": {
    "name": "ipython",
    "version": 3
   },
   "file_extension": ".py",
   "mimetype": "text/x-python",
   "name": "python",
   "nbconvert_exporter": "python",
   "pygments_lexer": "ipython3",
   "version": "3.7.7"
  }
 },
 "nbformat": 4,
 "nbformat_minor": 4
}
