{
 "cells": [
  {
   "cell_type": "code",
   "execution_count": null,
   "metadata": {},
   "outputs": [],
   "source": [
    "# default_exp funcs.tt_rescale"
   ]
  },
  {
   "cell_type": "code",
   "execution_count": null,
   "metadata": {},
   "outputs": [],
   "source": [
    "%load_ext autoreload\n",
    "%autoreload 2\n",
    "%aimport -decode_fish.engine.place_psfs"
   ]
  },
  {
   "cell_type": "markdown",
   "metadata": {},
   "source": [
    "# Training loop simulator learning"
   ]
  },
  {
   "cell_type": "code",
   "execution_count": null,
   "metadata": {},
   "outputs": [],
   "source": [
    "# export\n",
    "from decode_fish.imports import *\n",
    "from decode_fish.funcs.evaluation import *\n",
    "from decode_fish.funcs.file_io import *\n",
    "from decode_fish.funcs.emitter_io import *\n",
    "from decode_fish.funcs.utils import *\n",
    "from decode_fish.funcs.dataset import *\n",
    "from decode_fish.funcs.output_trafo import *\n",
    "from decode_fish.funcs.plotting import *\n",
    "from decode_fish.funcs.predict import *\n",
    "import torch.nn.functional as F\n",
    "from torch import distributions as D\n",
    "from torch.utils.data import DataLoader\n",
    "import torch_optimizer\n",
    "from decode_fish.engine.microscope import Microscope, get_roi_filt_inds, extract_psf_roi, mic_inp_apply_inds, add_pos_noise, concat_micro_inp\n",
    "from decode_fish.engine.model import UnetDecodeNoBn\n",
    "from decode_fish.engine.point_process import PointProcessUniform, get_phased_ints\n",
    "from decode_fish.engine.gmm_loss import PointProcessGaussian\n",
    "import shutil\n",
    "import wandb\n",
    "import kornia\n",
    "\n",
    "from hydra import compose, initialize\n",
    "from decode_fish.funcs.merfish_eval import *\n",
    "from decode_fish.funcs.exp_specific import *\n",
    "# from decode_fish.funcs.visualization vimport get_simulation_statistics"
   ]
  },
  {
   "cell_type": "code",
   "execution_count": null,
   "metadata": {},
   "outputs": [],
   "source": [
    "os.environ[\"CUDA_VISIBLE_DEVICES\"] = '1'"
   ]
  },
  {
   "cell_type": "code",
   "execution_count": null,
   "metadata": {},
   "outputs": [],
   "source": [
    "#export \n",
    "def rescale_train(cfg,\n",
    "          model, \n",
    "          microscope,\n",
    "          post_proc,\n",
    "          dl, \n",
    "          optim_dict):\n",
    "    \n",
    "    save_dir = Path(cfg.output.save_dir)\n",
    "    model.cuda()\n",
    "\n",
    "    # Controls which genmodel parameters are optimized\n",
    "    for name, p in microscope.named_parameters():\n",
    "        if name == 'channel_facs':\n",
    "            p.requires_grad = True\n",
    "        else:\n",
    "            False\n",
    "\n",
    "    for batch_idx in range(0, cfg.training.num_iters+1):\n",
    "\n",
    "        optim_dict['optim_mic'].zero_grad()\n",
    "\n",
    "        with torch.no_grad():\n",
    "            \n",
    "            ret_dict = next(iter(dl))\n",
    "            x, local_rate, background = ret_dict['x'], ret_dict['local_rate'], ret_dict['background'] \n",
    "            if cfg.genm.microscope.col_shifts_enabled:\n",
    "                zcrop, ycrop, xcrop = ret_dict['crop_z'], ret_dict['crop_y'], ret_dict['crop_x']\n",
    "                zcrop, ycrop, xcrop = zcrop.flatten(), ycrop.flatten(), xcrop.flatten()\n",
    "                colshift_crop = get_color_shift_inp(microscope.color_shifts, microscope.col_shifts_yx, ycrop, xcrop, cfg.sim.random_crop.crop_sz)\n",
    "            else:\n",
    "                zcrop, ycrop, xcrop, colshift_crop = None, None, None, None\n",
    "        \n",
    "            x = x * microscope.get_ch_mult().detach()\n",
    "        \n",
    "            out_inp = torch.concat([x,colshift_crop], 1) if colshift_crop is not None else x\n",
    "            out_inp = model.tensor_to_dict(model(out_inp))\n",
    "            proc_out_inp = post_proc.get_micro_inp(out_inp)\n",
    "                        \n",
    "        if len(proc_out_inp[1]) > 0:\n",
    "        \n",
    "            ch_out_inp = microscope.get_single_ch_inputs(*proc_out_inp, ycrop=ycrop, xcrop=xcrop)\n",
    "\n",
    "            # Get ch_fac loss\n",
    "            ch_inds = ch_out_inp[0][1]\n",
    "            int_vals = ch_out_inp[-2]\n",
    "\n",
    "            int_means = torch.ones(cfg.genm.exp_type.n_channels).cuda()\n",
    "            for i in range(cfg.genm.exp_type.n_channels):\n",
    "                if i in ch_inds:\n",
    "                    int_means[i] = int_vals[ch_inds == i].mean() / int_vals.mean()\n",
    "#             int_means_col.append(int_means.detach())\n",
    "#             print(int_means)        \n",
    "            ch_fac_loss = torch.sqrt(torch.mean((microscope.channel_facs - microscope.channel_facs.detach() / int_means)**2))\n",
    "\n",
    "            ch_fac_loss.backward()\n",
    "#             torch.nn.utils.clip_grad_norm_(microscope.parameters(), max_norm=cfg.training.mic.grad_clip, norm_type=2)\n",
    "\n",
    "            optim_dict['optim_mic'].step()\n",
    "            optim_dict['sched_mic'].step()\n",
    "            \n",
    "#             losses.append(ch_fac_loss.item())\n",
    "\n",
    "            # Logging\n",
    "            if batch_idx % cfg.output.log_interval == 0:\n",
    "\n",
    "                print(ch_fac_loss)\n",
    "#                 print(micro.channel_facs)"
   ]
  },
  {
   "cell_type": "code",
   "execution_count": null,
   "metadata": {},
   "outputs": [],
   "source": [
    "cfg = OmegaConf.load(f'/groups/turaga/home/speisera/Mackebox/Artur/WorkDB/deepstorm/models/fishcod/MERFISH_MOp/sweep_mop_28/base_2S_phasing///train.yaml')\n",
    "cfg = OmegaConf.load(f'/groups/turaga/home/speisera/Mackebox/Artur/WorkDB/deepstorm/models/fishcod/MERFISH_starfish/MERFISH_sweep_gen_6/2S//train.yaml')\n",
    "\n",
    "cfg.output.log_interval = 20\n",
    "cfg.training.bs = 50\n",
    "\n",
    "cfg.training.num_iters = 300\n",
    "cfg.training.mic.opt.lr = 0.02\n",
    "cfg.training.mic.sched.step_size = 500\n",
    "codebook, targets = hydra.utils.instantiate(cfg.codebook)"
   ]
  },
  {
   "cell_type": "code",
   "execution_count": null,
   "metadata": {},
   "outputs": [],
   "source": [
    "# cfg.data_path.image_path = '/groups/turaga/home/speisera/Mackebox/Artur/WorkDB/deepstorm//datasets/CodFish/MERFISH/MOp/mouse1_sample1_raw/aligned_scaled3_images151.tif'"
   ]
  },
  {
   "cell_type": "code",
   "execution_count": null,
   "metadata": {},
   "outputs": [
    {
     "name": "stdout",
     "output_type": "stream",
     "text": [
      "Crop size larger than volume in at least one dimension. Crop size changed to (1, 48, 48)\n",
      "1 volumes\n"
     ]
    }
   ],
   "source": [
    "# Load the model, post processing, imgages, dataloader\n",
    "model, post_proc, micro, img_3d, decode_dl = load_all(cfg)\n",
    "psf_vol = cpu(micro.psf.psf_volume)\n",
    "psf_init = cpu(micro.psf_init_vol)"
   ]
  },
  {
   "cell_type": "code",
   "execution_count": null,
   "metadata": {},
   "outputs": [],
   "source": [
    "codebook, targets = hydra.utils.instantiate(cfg.codebook)\n",
    "post_proc.codebook = torch.tensor(expand_codebook(codebook))"
   ]
  },
  {
   "cell_type": "code",
   "execution_count": null,
   "metadata": {},
   "outputs": [
    {
     "data": {
      "text/plain": [
       "<All keys matched successfully>"
      ]
     },
     "execution_count": null,
     "metadata": {},
     "output_type": "execute_result"
    }
   ],
   "source": [
    "model = load_model_state(model, Path(cfg.output.save_dir)/'model.pkl').cuda()\n",
    "micro.load_state_dict(torch.load(Path(cfg.output.save_dir)/'microscope.pkl'), strict=False)"
   ]
  },
  {
   "cell_type": "code",
   "execution_count": null,
   "metadata": {},
   "outputs": [
    {
     "data": {
      "text/plain": [
       "<All keys matched successfully>"
      ]
     },
     "execution_count": null,
     "metadata": {},
     "output_type": "execute_result"
    }
   ],
   "source": [
    "state_dict = micro.state_dict()\n",
    "state_dict['channel_facs'] = torch.ones(16)\n",
    "micro.load_state_dict(state_dict)"
   ]
  },
  {
   "cell_type": "code",
   "execution_count": null,
   "metadata": {},
   "outputs": [],
   "source": [
    "init = cpu(micro.channel_facs)\n",
    "# gt = [1.0242, 1.0332, 0.8592, 0.9347, 1.1251, 0.9358, 1.0864, 0.8788, 0.7184,\n",
    "#         0.8038, 0.7526, 0.9513, 0.7877, 0.8720, 0.8223, 0.9490, 0.9773, 1.2481,\n",
    "#         1.0047, 0.5698, 1.1487, 1.0143]"
   ]
  },
  {
   "cell_type": "code",
   "execution_count": null,
   "metadata": {},
   "outputs": [
    {
     "data": {
      "text/plain": [
       "[<matplotlib.lines.Line2D at 0x7feb97d75820>]"
      ]
     },
     "execution_count": null,
     "metadata": {},
     "output_type": "execute_result"
    },
    {
     "data": {
      "image/png": "[encoded data removed]",
      "text/plain": [
       "<Figure size 432x288 with 1 Axes>"
      ]
     },
     "metadata": {
      "needs_background": "light"
     },
     "output_type": "display_data"
    }
   ],
   "source": [
    "# plt.plot(gt)\n",
    "plt.plot(init)\n",
    "plt.plot(cpu(micro.channel_facs))"
   ]
  },
  {
   "cell_type": "code",
   "execution_count": null,
   "metadata": {},
   "outputs": [
    {
     "data": {
      "text/plain": [
       "tensor([1., 1., 1., 1., 1., 1., 1., 1., 1., 1., 1., 1., 1., 1., 1., 1.],\n",
       "       device='cuda:0', grad_fn=<ReshapeAliasBackward0>)"
      ]
     },
     "execution_count": null,
     "metadata": {},
     "output_type": "execute_result"
    }
   ],
   "source": [
    "micro.get_ch_mult().flatten()"
   ]
  },
  {
   "cell_type": "code",
   "execution_count": null,
   "metadata": {},
   "outputs": [],
   "source": [
    "optim_dict = {}\n",
    "optim_dict['optim_mic'] = hydra.utils.instantiate(cfg.training.mic.opt, params=micro.parameters())\n",
    "optim_dict['sched_mic'] = hydra.utils.instantiate(cfg.training.mic.sched, optimizer=optim_dict['optim_mic'])"
   ]
  },
  {
   "cell_type": "code",
   "execution_count": null,
   "metadata": {},
   "outputs": [
    {
     "name": "stdout",
     "output_type": "stream",
     "text": [
      "tensor(0.0635, device='cuda:0', grad_fn=<SqrtBackward0>)\n",
      "tensor(0.0177, device='cuda:0', grad_fn=<SqrtBackward0>)\n",
      "tensor(0.0320, device='cuda:0', grad_fn=<SqrtBackward0>)\n",
      "tensor(0.0221, device='cuda:0', grad_fn=<SqrtBackward0>)\n",
      "tensor(0.0270, device='cuda:0', grad_fn=<SqrtBackward0>)\n",
      "tensor(0.0431, device='cuda:0', grad_fn=<SqrtBackward0>)\n",
      "tensor(0.0356, device='cuda:0', grad_fn=<SqrtBackward0>)\n",
      "tensor(0.0234, device='cuda:0', grad_fn=<SqrtBackward0>)\n"
     ]
    },
    {
     "ename": "KeyboardInterrupt",
     "evalue": "",
     "output_type": "error",
     "traceback": [
      "\u001b[0;31m---------------------------------------------------------------------------\u001b[0m",
      "\u001b[0;31mKeyboardInterrupt\u001b[0m                         Traceback (most recent call last)",
      "Input \u001b[0;32mIn [129]\u001b[0m, in \u001b[0;36m<cell line: 4>\u001b[0;34m()\u001b[0m\n\u001b[1;32m      1\u001b[0m losses \u001b[38;5;241m=\u001b[39m []\n\u001b[1;32m      2\u001b[0m int_means_col \u001b[38;5;241m=\u001b[39m []\n\u001b[0;32m----> 4\u001b[0m \u001b[43mrescale_train\u001b[49m\u001b[43m(\u001b[49m\u001b[43mcfg\u001b[49m\u001b[38;5;241;43m=\u001b[39;49m\u001b[43mcfg\u001b[49m\u001b[43m,\u001b[49m\n\u001b[1;32m      5\u001b[0m \u001b[43m     \u001b[49m\u001b[43mmodel\u001b[49m\u001b[38;5;241;43m=\u001b[39;49m\u001b[43mmodel\u001b[49m\u001b[43m,\u001b[49m\u001b[43m \u001b[49m\n\u001b[1;32m      6\u001b[0m \u001b[43m     \u001b[49m\u001b[43mmicroscope\u001b[49m\u001b[38;5;241;43m=\u001b[39;49m\u001b[43mmicro\u001b[49m\u001b[43m,\u001b[49m\u001b[43m \u001b[49m\n\u001b[1;32m      7\u001b[0m \u001b[43m     \u001b[49m\u001b[43mpost_proc\u001b[49m\u001b[38;5;241;43m=\u001b[39;49m\u001b[43mpost_proc\u001b[49m\u001b[43m,\u001b[49m\n\u001b[1;32m      8\u001b[0m \u001b[43m     \u001b[49m\u001b[43mdl\u001b[49m\u001b[38;5;241;43m=\u001b[39;49m\u001b[43mdecode_dl\u001b[49m\u001b[43m,\u001b[49m\u001b[43m \u001b[49m\n\u001b[1;32m      9\u001b[0m \u001b[43m     \u001b[49m\u001b[43moptim_dict\u001b[49m\u001b[38;5;241;43m=\u001b[39;49m\u001b[43moptim_dict\u001b[49m\u001b[43m)\u001b[49m\n",
      "Input \u001b[0;32mIn [22]\u001b[0m, in \u001b[0;36mrescale_train\u001b[0;34m(cfg, model, microscope, post_proc, dl, optim_dict)\u001b[0m\n\u001b[1;32m     36\u001b[0m     out_inp \u001b[38;5;241m=\u001b[39m torch\u001b[38;5;241m.\u001b[39mconcat([x,colshift_crop], \u001b[38;5;241m1\u001b[39m) \u001b[38;5;28;01mif\u001b[39;00m colshift_crop \u001b[38;5;129;01mis\u001b[39;00m \u001b[38;5;129;01mnot\u001b[39;00m \u001b[38;5;28;01mNone\u001b[39;00m \u001b[38;5;28;01melse\u001b[39;00m x\n\u001b[1;32m     37\u001b[0m     out_inp \u001b[38;5;241m=\u001b[39m model\u001b[38;5;241m.\u001b[39mtensor_to_dict(model(out_inp))\n\u001b[0;32m---> 38\u001b[0m     proc_out_inp \u001b[38;5;241m=\u001b[39m \u001b[43mpost_proc\u001b[49m\u001b[38;5;241;43m.\u001b[39;49m\u001b[43mget_micro_inp\u001b[49m\u001b[43m(\u001b[49m\u001b[43mout_inp\u001b[49m\u001b[43m)\u001b[49m\n\u001b[1;32m     40\u001b[0m \u001b[38;5;28;01mif\u001b[39;00m \u001b[38;5;28mlen\u001b[39m(proc_out_inp[\u001b[38;5;241m1\u001b[39m]) \u001b[38;5;241m>\u001b[39m \u001b[38;5;241m0\u001b[39m:\n\u001b[1;32m     42\u001b[0m     ch_out_inp \u001b[38;5;241m=\u001b[39m microscope\u001b[38;5;241m.\u001b[39mget_single_ch_inputs(\u001b[38;5;241m*\u001b[39mproc_out_inp, ycrop\u001b[38;5;241m=\u001b[39mycrop, xcrop\u001b[38;5;241m=\u001b[39mxcrop)\n",
      "File \u001b[0;32m~/Dropbox (mackelab)/Artur/WorkDB/deepstorm/decode_fish/decode_fish/funcs/output_trafo.py:157\u001b[0m, in \u001b[0;36mSIPostProcess.get_micro_inp\u001b[0;34m(self, res_dict, p_si)\u001b[0m\n\u001b[1;32m    155\u001b[0m channels \u001b[38;5;241m=\u001b[39m \u001b[38;5;28mself\u001b[39m\u001b[38;5;241m.\u001b[39mcodebook\u001b[38;5;241m.\u001b[39mshape[\u001b[38;5;241m1\u001b[39m]\n\u001b[1;32m    156\u001b[0m n_bits \u001b[38;5;241m=\u001b[39m (\u001b[38;5;241m1.\u001b[39m\u001b[38;5;241m*\u001b[39m\u001b[38;5;28mself\u001b[39m\u001b[38;5;241m.\u001b[39mcodebook\u001b[38;5;241m.\u001b[39msum(\u001b[38;5;241m1\u001b[39m))\u001b[38;5;241m.\u001b[39mmean()\n\u001b[0;32m--> 157\u001b[0m res_dict \u001b[38;5;241m=\u001b[39m \u001b[38;5;28;43mself\u001b[39;49m\u001b[38;5;241;43m.\u001b[39;49m\u001b[43mget_si_resdict\u001b[49m\u001b[43m(\u001b[49m\u001b[43mres_dict\u001b[49m\u001b[43m,\u001b[49m\u001b[43m \u001b[49m\u001b[43mp_si\u001b[49m\u001b[43m)\u001b[49m\n\u001b[1;32m    158\u001b[0m locations \u001b[38;5;241m=\u001b[39m res_dict[\u001b[38;5;124m'\u001b[39m\u001b[38;5;124mSamples_si\u001b[39m\u001b[38;5;124m'\u001b[39m]\u001b[38;5;241m.\u001b[39mnonzero(as_tuple\u001b[38;5;241m=\u001b[39m\u001b[38;5;28;01mTrue\u001b[39;00m)\n\u001b[1;32m    160\u001b[0m n_int \u001b[38;5;241m=\u001b[39m res_dict[\u001b[38;5;124m'\u001b[39m\u001b[38;5;124mxyzi_mu\u001b[39m\u001b[38;5;124m'\u001b[39m]\u001b[38;5;241m.\u001b[39mshape[\u001b[38;5;241m1\u001b[39m] \u001b[38;5;241m-\u001b[39m \u001b[38;5;241m3\u001b[39m\n",
      "File \u001b[0;32m~/Dropbox (mackelab)/Artur/WorkDB/deepstorm/decode_fish/decode_fish/funcs/output_trafo.py:107\u001b[0m, in \u001b[0;36mSIPostProcess.get_si_resdict\u001b[0;34m(self, res_dict, p_si)\u001b[0m\n\u001b[1;32m    104\u001b[0m \u001b[38;5;28;01mdef\u001b[39;00m \u001b[38;5;21mget_si_resdict\u001b[39m(\u001b[38;5;28mself\u001b[39m, res_dict, p_si\u001b[38;5;241m=\u001b[39m\u001b[38;5;28;01mNone\u001b[39;00m):\n\u001b[1;32m    106\u001b[0m     \u001b[38;5;28;01mif\u001b[39;00m p_si \u001b[38;5;129;01mis\u001b[39;00m \u001b[38;5;28;01mNone\u001b[39;00m:\n\u001b[0;32m--> 107\u001b[0m         p_si \u001b[38;5;241m=\u001b[39m \u001b[38;5;28;43mself\u001b[39;49m\u001b[38;5;241;43m.\u001b[39;49m\u001b[43mforward\u001b[49m\u001b[43m(\u001b[49m\u001b[43mres_dict\u001b[49m\u001b[43m[\u001b[49m\u001b[38;5;124;43m'\u001b[39;49m\u001b[38;5;124;43mlogits\u001b[39;49m\u001b[38;5;124;43m'\u001b[39;49m\u001b[43m]\u001b[49m\u001b[43m)\u001b[49m\n\u001b[1;32m    109\u001b[0m     res_dict[\u001b[38;5;124m'\u001b[39m\u001b[38;5;124mProbs_si\u001b[39m\u001b[38;5;124m'\u001b[39m] \u001b[38;5;241m=\u001b[39m p_si\n\u001b[1;32m    110\u001b[0m     res_dict[\u001b[38;5;124m'\u001b[39m\u001b[38;5;124mSamples_si\u001b[39m\u001b[38;5;124m'\u001b[39m] \u001b[38;5;241m=\u001b[39m torch\u001b[38;5;241m.\u001b[39mwhere(res_dict[\u001b[38;5;124m'\u001b[39m\u001b[38;5;124mProbs_si\u001b[39m\u001b[38;5;124m'\u001b[39m] \u001b[38;5;241m>\u001b[39m \u001b[38;5;28mself\u001b[39m\u001b[38;5;241m.\u001b[39msamp_threshold, torch\u001b[38;5;241m.\u001b[39mones_like(res_dict[\u001b[38;5;124m'\u001b[39m\u001b[38;5;124mProbs_si\u001b[39m\u001b[38;5;124m'\u001b[39m]), torch\u001b[38;5;241m.\u001b[39mzeros_like(res_dict[\u001b[38;5;124m'\u001b[39m\u001b[38;5;124mProbs_si\u001b[39m\u001b[38;5;124m'\u001b[39m]))\n",
      "File \u001b[0;32m~/Dropbox (mackelab)/Artur/WorkDB/deepstorm/decode_fish/decode_fish/funcs/output_trafo.py:214\u001b[0m, in \u001b[0;36mISIPostProcess.forward\u001b[0;34m(self, logits)\u001b[0m\n\u001b[1;32m    211\u001b[0m tot_mask \u001b[38;5;241m=\u001b[39m torch\u001b[38;5;241m.\u001b[39mones_like(p)\n\u001b[1;32m    212\u001b[0m max_mask \u001b[38;5;241m=\u001b[39m torch\u001b[38;5;241m.\u001b[39mones_like(p)\n\u001b[0;32m--> 214\u001b[0m \u001b[38;5;28;01mwhile\u001b[39;00m max_mask\u001b[38;5;241m.\u001b[39msum():\n\u001b[1;32m    215\u001b[0m \n\u001b[1;32m    216\u001b[0m     \u001b[38;5;66;03m# voxels with probability values > threshold,\u001b[39;00m\n\u001b[1;32m    217\u001b[0m     \u001b[38;5;66;03m# and which where not previously counted as locations, are canditates\u001b[39;00m\n\u001b[1;32m    218\u001b[0m     p_cand \u001b[38;5;241m=\u001b[39m torch\u001b[38;5;241m.\u001b[39mwhere(p\u001b[38;5;241m>\u001b[39m\u001b[38;5;28mself\u001b[39m\u001b[38;5;241m.\u001b[39mm1_threshold, p, torch\u001b[38;5;241m.\u001b[39mzeros_like(p)) \u001b[38;5;241m*\u001b[39m tot_mask\n\u001b[1;32m    220\u001b[0m     \u001b[38;5;66;03m# localize maximum (nonzero) values within a 3x3x3 volume\u001b[39;00m\n",
      "\u001b[0;31mKeyboardInterrupt\u001b[0m: "
     ]
    }
   ],
   "source": [
    "losses = []\n",
    "int_means_col = []\n",
    "\n",
    "rescale_train(cfg=cfg,\n",
    "     model=model, \n",
    "     microscope=micro, \n",
    "     post_proc=post_proc,\n",
    "     dl=decode_dl, \n",
    "     optim_dict=optim_dict)"
   ]
  },
  {
   "cell_type": "code",
   "execution_count": null,
   "metadata": {},
   "outputs": [],
   "source": [
    "tra = cpu(torch.stack(int_means_col, 0))"
   ]
  },
  {
   "cell_type": "code",
   "execution_count": null,
   "metadata": {},
   "outputs": [
    {
     "data": {
      "text/plain": [
       "[<matplotlib.lines.Line2D at 0x7feb97e38a00>]"
      ]
     },
     "execution_count": null,
     "metadata": {},
     "output_type": "execute_result"
    },
    {
     "data": {
      "image/png": "[encoded data removed]",
      "text/plain": [
       "<Figure size 432x288 with 1 Axes>"
      ]
     },
     "metadata": {
      "needs_background": "light"
     },
     "output_type": "display_data"
    }
   ],
   "source": [
    "plt.plot(losses)"
   ]
  },
  {
   "cell_type": "code",
   "execution_count": null,
   "metadata": {},
   "outputs": [
    {
     "data": {
      "text/plain": [
       "[<matplotlib.lines.Line2D at 0x7feb9882c3d0>]"
      ]
     },
     "execution_count": null,
     "metadata": {},
     "output_type": "execute_result"
    },
    {
     "data": {
      "image/png": "[encoded data removed]",
      "text/plain": [
       "<Figure size 432x288 with 1 Axes>"
      ]
     },
     "metadata": {
      "needs_background": "light"
     },
     "output_type": "display_data"
    }
   ],
   "source": [
    "plt.plot(cpu(tra).mean(0))"
   ]
  },
  {
   "cell_type": "code",
   "execution_count": null,
   "metadata": {},
   "outputs": [],
   "source": [
    "plt.plot(cpu(tra)[100:].mean(0))"
   ]
  },
  {
   "cell_type": "code",
   "execution_count": null,
   "metadata": {},
   "outputs": [
    {
     "name": "stdout",
     "output_type": "stream",
     "text": [
      "Converted 00_models.ipynb.\n",
      "Converted 01_psf.ipynb.\n",
      "Converted 02_microscope.ipynb.\n",
      "Converted 02b_place_psfs.ipynb.\n",
      "Converted 03_noise.ipynb.\n",
      "Converted 04_pointsource.ipynb.\n",
      "Converted 05_gmm_loss.ipynb.\n",
      "Converted 06_plotting.ipynb.\n",
      "Converted 07_file_io.ipynb.\n",
      "Converted 08_dataset.ipynb.\n",
      "Converted 09_output_trafo.ipynb.\n",
      "Converted 10_evaluation.ipynb.\n",
      "Converted 11_emitter_io.ipynb.\n",
      "Converted 12_utils.ipynb.\n",
      "Converted 13_train.ipynb.\n",
      "Converted 15_fit_psf.ipynb.\n",
      "Converted 16_visualization.ipynb.\n",
      "Converted 17_eval_routines.ipynb.\n",
      "Converted 18_predict_funcs.ipynb.\n",
      "Converted 19_MERFISH_routines.ipynb.\n",
      "Converted 22_MERFISH_codenet.ipynb.\n",
      "Converted 23_MERFISH_comparison.ipynb.\n",
      "Converted 24_exp_specific.ipynb.\n",
      "Converted 25_ensembling.ipynb.\n",
      "Converted 26_gen_train.ipynb.\n",
      "Converted 27_testtime_rescale.ipynb.\n",
      "Converted index.ipynb.\n"
     ]
    }
   ],
   "source": [
    "!nbdev_build_lib"
   ]
  },
  {
   "cell_type": "code",
   "execution_count": null,
   "metadata": {},
   "outputs": [],
   "source": []
  }
 ],
 "metadata": {
  "kernelspec": {
   "display_name": "Python [conda env:decode_fish_dev2]",
   "language": "python",
   "name": "conda-env-decode_fish_dev2-py"
  }
 },
 "nbformat": 4,
 "nbformat_minor": 4
}
