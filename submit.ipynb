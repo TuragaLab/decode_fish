{
 "cells": [
  {
   "cell_type": "code",
   "execution_count": 176,
   "metadata": {
    "ExecuteTime": {
     "end_time": "2021-05-06T14:24:28.798154Z",
     "start_time": "2021-05-06T14:24:28.785640Z"
    }
   },
   "outputs": [],
   "source": [
    "from pathlib import Path\n",
    "from decode_fish.funcs.utils import *\n",
    "import glob\n",
    "\n",
    "def make_sweep_str(pfile, pars, group):\n",
    "    \n",
    "    base_str = f'bsub -gpu \"num=1\" -q gpu_any -o logs/ofish.log -e logs/efish.log /groups/turaga/home/speisera/anaconda3/envs/decode2_dev/bin/python /groups/turaga/home/speisera/Mackebox/Artur/WorkDB/deepstorm/decode_fish/decode_fish/train.py'   \n",
    "    base_str = base_str + f' +experiment={pfile}'\n",
    "    name = ''\n",
    "    \n",
    "    for k in pars:\n",
    "        base_str += ' ' + k + f'={pars[k]}'\n",
    "        name += k.split('.')[-1]+f':{pars[k]}x'\n",
    "    name = name[:-1]\n",
    "    \n",
    "    return base_str + f' run_name={name} output.group={group}' + '\\n'\n",
    "    \n",
    "\n",
    "def make_named_str(pfile, name, group):\n",
    "    \n",
    "    base_str = f'bsub -gpu \"num=1\" -q gpu_any -o logs/ofish.log -e logs/efish.log /groups/turaga/home/speisera/anaconda3/envs/decode2_dev/bin/python /groups/turaga/home/speisera/Mackebox/Artur/WorkDB/deepstorm/decode_fish/decode_fish/train.py'   \n",
    "    base_str = base_str + f' +experiment={pfile}'\n",
    "    \n",
    "    return base_str + f' run_name={name} output.group={group}' + '\\n'"
   ]
  },
  {
   "cell_type": "code",
   "execution_count": 177,
   "metadata": {
    "ExecuteTime": {
     "end_time": "2021-05-06T14:24:28.814377Z",
     "start_time": "2021-05-06T14:24:28.802281Z"
    }
   },
   "outputs": [],
   "source": [
    "group = 'sweep_ff15'\n",
    "pfile = 'i_psf_max_norm_foci'\n",
    "\n",
    "variable_col = param_iter()\n",
    "variable_col.add('training.micro.int_quantile',0.3,0.6,0.9,1.)\n",
    "\n",
    "par_prod = variable_col.param_product()\n",
    "\n",
    "# name = 'Ref_SI'"
   ]
  },
  {
   "cell_type": "code",
   "execution_count": 178,
   "metadata": {
    "ExecuteTime": {
     "end_time": "2021-05-06T14:24:28.833780Z",
     "start_time": "2021-05-06T14:24:28.817377Z"
    }
   },
   "outputs": [
    {
     "name": "stdout",
     "output_type": "stream",
     "text": [
      "bsub -gpu \"num=1\" -q gpu_any -o logs/ofish.log -e logs/efish.log /groups/turaga/home/speisera/anaconda3/envs/decode2_dev/bin/python /groups/turaga/home/speisera/Mackebox/Artur/WorkDB/deepstorm/decode_fish/decode_fish/train.py +experiment=i_psf_max_norm_foci training.micro.int_quantile=0.3 run_name=int_quantile:0.3 output.group=sweep_ff15\n",
      "\n",
      "bsub -gpu \"num=1\" -q gpu_any -o logs/ofish.log -e logs/efish.log /groups/turaga/home/speisera/anaconda3/envs/decode2_dev/bin/python /groups/turaga/home/speisera/Mackebox/Artur/WorkDB/deepstorm/decode_fish/decode_fish/train.py +experiment=i_psf_max_norm_foci training.micro.int_quantile=0.6 run_name=int_quantile:0.6 output.group=sweep_ff15\n",
      "\n",
      "bsub -gpu \"num=1\" -q gpu_any -o logs/ofish.log -e logs/efish.log /groups/turaga/home/speisera/anaconda3/envs/decode2_dev/bin/python /groups/turaga/home/speisera/Mackebox/Artur/WorkDB/deepstorm/decode_fish/decode_fish/train.py +experiment=i_psf_max_norm_foci training.micro.int_quantile=0.9 run_name=int_quantile:0.9 output.group=sweep_ff15\n",
      "\n",
      "bsub -gpu \"num=1\" -q gpu_any -o logs/ofish.log -e logs/efish.log /groups/turaga/home/speisera/anaconda3/envs/decode2_dev/bin/python /groups/turaga/home/speisera/Mackebox/Artur/WorkDB/deepstorm/decode_fish/decode_fish/train.py +experiment=i_psf_max_norm_foci training.micro.int_quantile=1.0 run_name=int_quantile:1.0 output.group=sweep_ff15\n",
      "\n"
     ]
    }
   ],
   "source": [
    "Path.mkdir(model_path/group, exist_ok=True)\n",
    "\n",
    "with open('run_slurm.sh', 'w') as f:\n",
    "    for pars in par_prod:  \n",
    "        exec_str = make_sweep_str(pfile, pars, group)\n",
    "        print(exec_str)\n",
    "        f.write(exec_str)"
   ]
  },
  {
   "cell_type": "code",
   "execution_count": 131,
   "metadata": {
    "ExecuteTime": {
     "end_time": "2021-05-04T13:15:50.067997Z",
     "start_time": "2021-05-04T13:15:50.062165Z"
    }
   },
   "outputs": [],
   "source": [
    "model_files = sorted(glob.glob('/groups/turaga/home/speisera/Mackebox/Artur/WorkDB/deepstorm/models/fishcod/Fig_sim_density/sweep_ff6/*'))\n",
    "out_file = 'data/results/test_file.hdf5'\n",
    "\n",
    "# with open('run_slurm.sh', 'w') as f:\n",
    "#     for pars in par_prod:  \n",
    "#         exec_str = make_sweep_str(pfile, pars, group)\n",
    "#         print(exec_str)\n",
    "#         f.write(exec_str)"
   ]
  },
  {
   "cell_type": "code",
   "execution_count": 135,
   "metadata": {
    "ExecuteTime": {
     "end_time": "2021-05-04T13:16:39.214436Z",
     "start_time": "2021-05-04T13:16:39.207123Z"
    }
   },
   "outputs": [
    {
     "data": {
      "text/plain": [
       "['int_conc:1.0',\n",
       " 'int_conc:2.0',\n",
       " 'int_conc:3.0',\n",
       " 'int_conc:4.0',\n",
       " 'int_conc:5.0',\n",
       " 'int_conc:6.0']"
      ]
     },
     "execution_count": 135,
     "metadata": {},
     "output_type": "execute_result"
    }
   ],
   "source": [
    "[Path(m).name for m in model_files]"
   ]
  },
  {
   "cell_type": "code",
   "execution_count": null,
   "metadata": {},
   "outputs": [],
   "source": []
  }
 ],
 "metadata": {
  "kernelspec": {
   "display_name": "Python [conda env:decode2_dev]",
   "language": "python",
   "name": "conda-env-decode2_dev-py"
  },
  "language_info": {
   "codemirror_mode": {
    "name": "ipython",
    "version": 3
   },
   "file_extension": ".py",
   "mimetype": "text/x-python",
   "name": "python",
   "nbconvert_exporter": "python",
   "pygments_lexer": "ipython3",
   "version": "3.7.7"
  }
 },
 "nbformat": 4,
 "nbformat_minor": 4
}
