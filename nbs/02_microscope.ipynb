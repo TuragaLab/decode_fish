{
 "cells": [
  {
   "cell_type": "code",
   "execution_count": null,
   "metadata": {},
   "outputs": [],
   "source": [
    "# default_exp engine.microscope"
   ]
  },
  {
   "cell_type": "code",
   "execution_count": null,
   "metadata": {},
   "outputs": [],
   "source": [
    "%load_ext autoreload\n",
    "%autoreload 2"
   ]
  },
  {
   "cell_type": "markdown",
   "metadata": {},
   "source": [
    "# Microscope model\n",
    "\n",
    "> Definition of the classes and functions we use to generate recordings given network outputs or simulations"
   ]
  },
  {
   "cell_type": "code",
   "execution_count": null,
   "metadata": {},
   "outputs": [],
   "source": [
    "#export\n",
    "from decode_fish.imports import *\n",
    "import torch.nn as nn\n",
    "from decode_fish.funcs.utils import *\n",
    "from torch.jit import script\n",
    "from typing import Union, List\n",
    "import torch.nn.functional as F\n",
    "from decode_fish.funcs.plotting import *\n",
    "# import elasticdeform.torch as etorch"
   ]
  },
  {
   "cell_type": "code",
   "execution_count": null,
   "metadata": {},
   "outputs": [],
   "source": [
    "os.environ[\"CUDA_VISIBLE_DEVICES\"] = '1'"
   ]
  },
  {
   "cell_type": "code",
   "execution_count": null,
   "metadata": {},
   "outputs": [],
   "source": [
    "#export\n",
    "class Microscope(nn.Module):\n",
    "    \"\"\"\n",
    "    The Mircoscope module takes  5 vectors 'locations', 'x_os', 'y_os', 'z_os',\n",
    "    'ints_3d' turns them into 3D data through the following steps:\n",
    "    1) Apply continuous shifts to the PSF according to x_os, y_os, z_os\n",
    "    2) Clamping the PSF (retaining only positive values)\n",
    "    3) Normalize the PSF dividing it by it's max value\n",
    "    6) Place point spread function according to locations  to\n",
    "    generate 'x_sim'\n",
    "    7) Multiplies x_sim with scale\n",
    "\n",
    "    Args:\n",
    "        psf (torch.nn.Module): Parametric PSF\n",
    "        noise (torch.nn.Module): Camera noise model\n",
    "        scale(float): Constant for scaling \n",
    "        \n",
    "    Shape:\n",
    "        -Input: locations: Tuple(torch.Tensor)\n",
    "                x_os_val: (N_emitters,)\n",
    "                y_os_val: (N_emitters,)\n",
    "                z_os_val: (N_emitters,)\n",
    "                ints_val: (N_emitters,)\n",
    "                output_shape: Shape Tuple(BS, C, H, W, D)\n",
    "\n",
    "        -Output: xsim: (BS, C, H, W, D)\n",
    "    \"\"\"\n",
    "\n",
    "\n",
    "    def __init__(self, psf: torch.nn.Module=None, noise: Union[torch.nn.Module, None]=None, scale: float = 10000., norm='max', sum_fac=1, psf_noise=0, pred_z=False):\n",
    "\n",
    "        super().__init__()\n",
    "        self.psf = psf\n",
    "        self.scale = scale\n",
    "        self.noise = noise\n",
    "        self.norm = norm\n",
    "        \n",
    "        self.theta = self.noise.theta_scale * self.noise.theta_par\n",
    "        self.sum_fac = sum_fac\n",
    "        \n",
    "        self.psf_noise = psf_noise\n",
    "        self.pred_z = pred_z\n",
    "        self.psf_z_size = self.psf.psf_volume.shape[-3]\n",
    "        \n",
    "        self.channel_shifts = self.noise.channel_shifts \n",
    "        \n",
    "    def add_psf_noise(self, psf_stack):\n",
    "\n",
    "        '''Gaussian noise'''\n",
    "        noise = torch.distributions.Normal(loc=0, scale=self.psf_noise).sample(psf_stack.shape).to(psf_stack.device)\n",
    "        noise *= torch.sqrt(psf_stack)\n",
    "#         noise *= torch.rand(len(psf_stack), device='cuda')[:,None,None,None,None]\n",
    "\n",
    "        return psf_stack + noise\n",
    "    \n",
    "        '''Individual elastic deformation for each PSF (to slow)'''\n",
    "#         psf_deformed = torch.cat([etorch.deform_grid(psf, torch.distributions.Normal(loc=0, scale=self.psf_noise).sample([3,3,3,3]).to(psf_stack.device), order=3)[None] \n",
    "#                                   for psf in psf_stack[:,0]])\n",
    "        '''Single deformation for all PSF in batch (kinda stupid)'''\n",
    "#         psf_deformed = etorch.deform_grid(psf_stack[:,0], torch.distributions.Normal(loc=0, scale=self.psf_noise).sample([3,3,3,3]).to(psf_stack.device), axis=(1,2,3),order=3)\n",
    "#         return psf_deformed[:,None]\n",
    "        \n",
    "    def forward(self, locations, x_os_val, y_os_val, z_os_val, i_val, output_shape, eval_=None, add_noise=False, rec_ch=0):\n",
    "        \n",
    "        if len(locations[0]):\n",
    "            \n",
    "            # We get the right channels when simulating, but for reconstruction we use ch = 0 for a single reconstructed image.\n",
    "            ch_inds = locations[1] + rec_ch\n",
    "            if ch_inds.max() > 0:\n",
    "                shifts = self.channel_shifts - self.channel_shifts.mean(0)[None]\n",
    "\n",
    "                x_os_val = x_os_val + shifts[ch_inds, 0]\n",
    "                y_os_val = y_os_val + shifts[ch_inds, 1]\n",
    "                z_os_val = z_os_val + shifts[ch_inds, 2]\n",
    "                \n",
    "            if 'max' in self.norm:\n",
    "                psf_norm = self.psf.psf_volume.max() \n",
    "            elif 'sum' in self.norm:\n",
    "                psf_norm = torch.clamp_min(self.psf.psf_volume, 0).sum()/self.sum_fac\n",
    "            else:\n",
    "                psf_norm = 1\n",
    "            # Apply continuous shift\n",
    "            if self.pred_z and self.psf_z_size > 1:\n",
    "                z_os_val = torch.clamp(z_os_val,-0.4999,0.4999)\n",
    "                z_scaled = (z_os_val + 0.5) * self.psf_z_size\n",
    "                psf = self.psf(x_os_val, y_os_val, z_scaled%1.)\n",
    "                z_inds = (z_scaled//1).type(torch.cuda.LongTensor)\n",
    "                psf = psf[torch.arange(len(z_os_val)),:,z_inds][:,:,None]\n",
    "            else:\n",
    "                psf = self.psf(x_os_val, y_os_val, z_os_val)\n",
    "                \n",
    "            torch.clamp_min_(psf,0)\n",
    "            psf = psf/psf_norm\n",
    "            \n",
    "            if self.psf_noise and add_noise: \n",
    "                psf = self.add_psf_noise(psf)\n",
    "                \n",
    "            # applying intenseties\n",
    "            tot_intensity = torch.clamp_min(i_val, 0)\n",
    "            psf = psf * tot_intensity[:,None,None,None,None]\n",
    "            # place psf according to locations\n",
    "            xsim = place_psf(locations, psf, output_shape)\n",
    "            # scale (not learnable)\n",
    "            xsim = self.scale * xsim\n",
    "            if eval_:\n",
    "                return xsim, psf\n",
    "            return xsim\n",
    "        \n",
    "        else:\n",
    "            \n",
    "            return torch.zeros(output_shape).cuda()"
   ]
  },
  {
   "cell_type": "code",
   "execution_count": null,
   "metadata": {},
   "outputs": [],
   "source": [
    "#export\n",
    "def place_psf(locations, psf_volume, output_shape):\n",
    "    \"\"\"\n",
    "    Places point spread functions (psf_volume) in to corresponding locations.\n",
    "\n",
    "    Args:\n",
    "        locations: tuple with the 5D voxel coordinates\n",
    "        psf_volume: torch.Tensor\n",
    "        output_shape: Shape Tuple(BS, C, H, W, D) \n",
    "\n",
    "    Returns:\n",
    "        placed_psf: torch.Tensor with shape (BS, C, H, W, D)\n",
    "    \"\"\"\n",
    "\n",
    "    batch, ch, z, y, x = locations\n",
    "    placed_psf = _place_psf(psf_volume, batch, ch, z, y, x, torch.tensor(output_shape))\n",
    "    assert placed_psf.shape == output_shape\n",
    "    return placed_psf"
   ]
  },
  {
   "cell_type": "code",
   "execution_count": null,
   "metadata": {},
   "outputs": [],
   "source": [
    "#export\n",
    "@script\n",
    "def _place_psf(psf_vols, b, ch, z, y, x, output_shape):\n",
    "    '''jit function for placing PSFs\n",
    "    1) This function will add padding to coordinates (z, y, x) (we need padding in order to place psf on the edges)\n",
    "    afterwards we will just crop out to original shape\n",
    "    2) Create empty tensor with paddings loc3d_like\n",
    "    3) place each individual PSFs in to the corresponding cordinates in loc3d_like\n",
    "    4) unpad to original output shape\n",
    "\n",
    "    Args:\n",
    "        psf_vols:   torch.Tensor\n",
    "        b:        torch.Tensor\n",
    "        c:        torch.Tensor\n",
    "        h:        torch.Tensor\n",
    "        w:        torch.Tensor\n",
    "        d:        torch.Tensor\n",
    "        szs:      torch.Tensor\n",
    "        \n",
    "    Shape:\n",
    "        psf_vols: (Num_E, C, PSF_SZ_X, PSF_SZ_Y, PSF_SZ_Z)\n",
    "        b:  (Num_E,)\n",
    "        c:  (Num_E,)\n",
    "        h:  (Num_E,)\n",
    "        w:  (Num_E,)\n",
    "        d:  (Num_E,)\n",
    "        output_shape:  (BS, Frames, H, W, D)\n",
    "        \n",
    "    -Output: placed_psf: (BS, Frames, H, W, D)\n",
    "        \n",
    "    '''\n",
    "    \n",
    "    psf_b, psf_c, psf_h, psf_w, psf_d = psf_vols.shape\n",
    "    pad_zyx = [psf_h//2, psf_w//2, psf_d//2]\n",
    "    #add padding to z, y, x \n",
    "    \n",
    "    z = z + pad_zyx[0]\n",
    "    y = y + pad_zyx[1]\n",
    "    x = x + pad_zyx[2]\n",
    "\n",
    "    #create padded tensor (bs, frame, c, h, w) We will need pad_size * 2 since we are padding from both size\n",
    "    loc3d_like = torch.zeros(output_shape[0], \n",
    "                             output_shape[1], \n",
    "                             output_shape[2] + 2*(pad_zyx[0]), \n",
    "                             output_shape[3] + 2*(pad_zyx[1]), \n",
    "                             output_shape[4] + 2*(pad_zyx[2])).to(x.device)\n",
    "    \n",
    "    psf_vols = psf_vols.reshape(-1, psf_h, psf_w, psf_d)\n",
    "\n",
    "    for idx in range(x.shape[0]):\n",
    "        loc3d_like[b[idx], ch[idx],\n",
    "        z[idx]-pad_zyx[0] : z[idx]+pad_zyx[0] + 1,\n",
    "        y[idx]-pad_zyx[1] : y[idx]+pad_zyx[1] + 1,\n",
    "        x[idx]-pad_zyx[2] : x[idx]+pad_zyx[2] + 1] += psf_vols[idx]\n",
    "\n",
    "    b_sz, ch_sz, h_sz, w_sz, d_sz = loc3d_like.shape\n",
    "\n",
    "    # unpad to original size\n",
    "    placed_psf = loc3d_like[:, :, pad_zyx[0]: h_sz - pad_zyx[0],\n",
    "                                  pad_zyx[1]: w_sz - pad_zyx[1],\n",
    "                                  pad_zyx[2]: d_sz - pad_zyx[2]]\n",
    "    return placed_psf"
   ]
  },
  {
   "cell_type": "code",
   "execution_count": null,
   "metadata": {},
   "outputs": [],
   "source": [
    "from decode_fish.engine.psf import LinearInterpolatedPSF\n",
    "from decode_fish.engine.noise import sCMOS\n",
    "from decode_fish.engine.point_process import PointProcessUniform\n",
    "from decode_fish.funcs.file_io import get_gaussian_psf\n",
    "from decode_fish.funcs.file_io import get_vol_psf\n",
    "from decode_fish.funcs.output_trafo import sample_to_df\n",
    "\n",
    "psf = get_gaussian_psf([11,21,21],[1.8,1.8,1.8], pred_z=True).cuda()\n",
    "psf = get_vol_psf('../figures/MF_psf.tif')\n",
    "\n",
    "noise = sCMOS(channels=16)\n",
    "\n",
    "# micro = Microscope(psf=psf, noise=noise, scale=100, norm='sum', sum_fac=psf.psf_volume.sum().item()).cuda()\n",
    "micro = Microscope(psf=psf, noise=noise, scale=100, norm='max', sum_fac=1, psf_noise=0., pred_z=True).cuda()"
   ]
  },
  {
   "cell_type": "code",
   "execution_count": null,
   "metadata": {},
   "outputs": [],
   "source": [
    "point_process = PointProcessUniform(local_rate = torch.ones([1,1,1,48,48]).cuda()*.02, int_conc=3, int_rate=1, int_loc=1, channels=16, n_bits=4, sim_z=True)\n",
    "locs_3d, x_os_3d, y_os_3d, z_os_3d, ints_3d, output_shape = point_process.sample()\n",
    "df = sample_to_df(locs_3d, x_os_3d, y_os_3d, z_os_3d, ints_3d, px_size_zyx=[1,1,1])\n",
    "# z_os_3d += 0.1"
   ]
  },
  {
   "cell_type": "code",
   "execution_count": null,
   "metadata": {},
   "outputs": [],
   "source": [
    "# ints_3d = ints_3d\n",
    "# z_os_3d = torch.rand(z_os_3d.shape).cuda()"
   ]
  },
  {
   "cell_type": "code",
   "execution_count": null,
   "metadata": {},
   "outputs": [
    {
     "name": "stdout",
     "output_type": "stream",
     "text": [
      "tensor([ 1,  1,  1,  1,  5,  5,  5,  5,  8,  8,  8,  8,  1,  1,  1,  1,  0,  0,\n",
      "         0,  0,  1,  1,  1,  1,  9,  9,  9,  9,  8,  8,  8,  8,  7,  7,  7,  7,\n",
      "         6,  6,  6,  6,  1,  1,  1,  1,  7,  7,  7,  7,  9,  9,  9,  9,  2,  2,\n",
      "         2,  2,  6,  6,  6,  6,  7,  7,  7,  7,  2,  2,  2,  2,  9,  9,  9,  9,\n",
      "         0,  0,  0,  0,  3,  3,  3,  3,  8,  8,  8,  8,  2,  2,  2,  2,  9,  9,\n",
      "         9,  9,  2,  2,  2,  2,  3,  3,  3,  3,  8,  8,  8,  8,  5,  5,  5,  5,\n",
      "         4,  4,  4,  4, 10, 10, 10, 10,  7,  7,  7,  7,  6,  6,  6,  6,  1,  1,\n",
      "         1,  1, 10, 10, 10, 10,  3,  3,  3,  3,  5,  5,  5,  5, 10, 10, 10, 10,\n",
      "         5,  5,  5,  5,  1,  1,  1,  1], device='cuda:0')\n"
     ]
    },
    {
     "data": {
      "text/plain": [
       "tensor(1061951.2500, device='cuda:0', grad_fn=<SumBackward0>)"
      ]
     },
     "execution_count": null,
     "metadata": {},
     "output_type": "execute_result"
    },
    {
     "data": {
      "image/png": "[encoded data removed]",
      "text/plain": [
       "<Figure size 484.2x441 with 6 Axes>"
      ]
     },
     "metadata": {
      "needs_background": "light"
     },
     "output_type": "display_data"
    }
   ],
   "source": [
    "xsim, psf = micro(locs_3d, x_os_3d, y_os_3d+0.33, z_os_3d, ints_3d, output_shape, eval_=True, add_noise=True, rec_ch=0)\n",
    "fig, ax = plot_3d_projections(xsim[0,0])\n",
    "scat_3d_projections(ax, df[df['frame_idx'] == 0])\n",
    "xsim.sum()"
   ]
  },
  {
   "cell_type": "code",
   "execution_count": null,
   "metadata": {},
   "outputs": [
    {
     "data": {
      "text/plain": [
       "1496424"
      ]
     },
     "execution_count": null,
     "metadata": {},
     "output_type": "execute_result"
    }
   ],
   "source": [
    "1496424"
   ]
  },
  {
   "cell_type": "code",
   "execution_count": null,
   "metadata": {},
   "outputs": [
    {
     "data": {
      "text/plain": [
       "tensor(42184.3828, device='cuda:0', grad_fn=<SumBackward0>)"
      ]
     },
     "execution_count": null,
     "metadata": {},
     "output_type": "execute_result"
    }
   ],
   "source": [
    "xsim[:,:,:,30:].sum()"
   ]
  },
  {
   "cell_type": "code",
   "execution_count": null,
   "metadata": {},
   "outputs": [
    {
     "data": {
      "text/plain": [
       "<matplotlib.image.AxesImage at 0x7f3bc33e2d90>"
      ]
     },
     "execution_count": null,
     "metadata": {},
     "output_type": "execute_result"
    },
    {
     "data": {
      "image/png": "[encoded data removed]",
      "text/plain": [
       "<Figure size 432x288 with 1 Axes>"
      ]
     },
     "metadata": {
      "needs_background": "light"
     },
     "output_type": "display_data"
    }
   ],
   "source": [
    "plt.imshow(xsim[0].sum(2)[:,0].cpu().detach().numpy())"
   ]
  },
  {
   "cell_type": "code",
   "execution_count": null,
   "metadata": {},
   "outputs": [],
   "source": [
    "from decode_fish.funcs.file_io import load_tiff_image\n",
    "gt_psf = load_tiff_image('/groups/turaga/home/speisera/Mackebox/Artur/WorkDB/deepstorm/decode_fish/figures/PSF_subsampled.tif')[0]\n",
    "gt_psf /= gt_psf.max()"
   ]
  },
  {
   "cell_type": "code",
   "execution_count": null,
   "metadata": {},
   "outputs": [
    {
     "ename": "AttributeError",
     "evalue": "module 'torch' has no attribute 'deform_grid'",
     "output_type": "error",
     "traceback": [
      "\u001b[0;31m---------------------------------------------------------------------------\u001b[0m",
      "\u001b[0;31mAttributeError\u001b[0m                            Traceback (most recent call last)",
      "\u001b[0;32m/tmp/ipykernel_15517/3407518512.py\u001b[0m in \u001b[0;36m<module>\u001b[0;34m\u001b[0m\n\u001b[1;32m      1\u001b[0m \u001b[0;31m# gt_psf = gt_psf.cuda()\u001b[0m\u001b[0;34m\u001b[0m\u001b[0;34m\u001b[0m\u001b[0;34m\u001b[0m\u001b[0m\n\u001b[1;32m      2\u001b[0m \u001b[0mgt_psf_mul\u001b[0m \u001b[0;34m=\u001b[0m \u001b[0mtorch\u001b[0m\u001b[0;34m.\u001b[0m\u001b[0mcat\u001b[0m\u001b[0;34m(\u001b[0m\u001b[0;36m100\u001b[0m\u001b[0;34m*\u001b[0m\u001b[0;34m[\u001b[0m\u001b[0mgt_psf\u001b[0m\u001b[0;34m[\u001b[0m\u001b[0;32mNone\u001b[0m\u001b[0;34m]\u001b[0m\u001b[0;34m]\u001b[0m\u001b[0;34m)\u001b[0m\u001b[0;34m\u001b[0m\u001b[0;34m\u001b[0m\u001b[0m\n\u001b[0;32m----> 3\u001b[0;31m \u001b[0mpsf_deformed\u001b[0m \u001b[0;34m=\u001b[0m \u001b[0mtorch\u001b[0m\u001b[0;34m.\u001b[0m\u001b[0mcat\u001b[0m\u001b[0;34m(\u001b[0m\u001b[0;34m[\u001b[0m\u001b[0mtorch\u001b[0m\u001b[0;34m.\u001b[0m\u001b[0mdeform_grid\u001b[0m\u001b[0;34m(\u001b[0m\u001b[0mpsf\u001b[0m\u001b[0;34m,\u001b[0m \u001b[0mtorch\u001b[0m\u001b[0;34m.\u001b[0m\u001b[0mdistributions\u001b[0m\u001b[0;34m.\u001b[0m\u001b[0mNormal\u001b[0m\u001b[0;34m(\u001b[0m\u001b[0mloc\u001b[0m\u001b[0;34m=\u001b[0m\u001b[0;36m0\u001b[0m\u001b[0;34m,\u001b[0m \u001b[0mscale\u001b[0m\u001b[0;34m=\u001b[0m\u001b[0;36m0.25\u001b[0m\u001b[0;34m)\u001b[0m\u001b[0;34m.\u001b[0m\u001b[0msample\u001b[0m\u001b[0;34m(\u001b[0m\u001b[0;34m[\u001b[0m\u001b[0;36m3\u001b[0m\u001b[0;34m,\u001b[0m\u001b[0;36m3\u001b[0m\u001b[0;34m,\u001b[0m\u001b[0;36m3\u001b[0m\u001b[0;34m,\u001b[0m\u001b[0;36m3\u001b[0m\u001b[0;34m]\u001b[0m\u001b[0;34m)\u001b[0m\u001b[0;34m.\u001b[0m\u001b[0mto\u001b[0m\u001b[0;34m(\u001b[0m\u001b[0mgt_psf\u001b[0m\u001b[0;34m.\u001b[0m\u001b[0mdevice\u001b[0m\u001b[0;34m)\u001b[0m\u001b[0;34m,\u001b[0m \u001b[0morder\u001b[0m\u001b[0;34m=\u001b[0m\u001b[0;36m3\u001b[0m\u001b[0;34m)\u001b[0m\u001b[0;34m[\u001b[0m\u001b[0;32mNone\u001b[0m\u001b[0;34m]\u001b[0m \u001b[0;32mfor\u001b[0m \u001b[0mpsf\u001b[0m \u001b[0;32min\u001b[0m \u001b[0mgt_psf_mul\u001b[0m\u001b[0;34m]\u001b[0m\u001b[0;34m)\u001b[0m\u001b[0;34m\u001b[0m\u001b[0;34m\u001b[0m\u001b[0m\n\u001b[0m",
      "\u001b[0;32m/tmp/ipykernel_15517/3407518512.py\u001b[0m in \u001b[0;36m<listcomp>\u001b[0;34m(.0)\u001b[0m\n\u001b[1;32m      1\u001b[0m \u001b[0;31m# gt_psf = gt_psf.cuda()\u001b[0m\u001b[0;34m\u001b[0m\u001b[0;34m\u001b[0m\u001b[0;34m\u001b[0m\u001b[0m\n\u001b[1;32m      2\u001b[0m \u001b[0mgt_psf_mul\u001b[0m \u001b[0;34m=\u001b[0m \u001b[0mtorch\u001b[0m\u001b[0;34m.\u001b[0m\u001b[0mcat\u001b[0m\u001b[0;34m(\u001b[0m\u001b[0;36m100\u001b[0m\u001b[0;34m*\u001b[0m\u001b[0;34m[\u001b[0m\u001b[0mgt_psf\u001b[0m\u001b[0;34m[\u001b[0m\u001b[0;32mNone\u001b[0m\u001b[0;34m]\u001b[0m\u001b[0;34m]\u001b[0m\u001b[0;34m)\u001b[0m\u001b[0;34m\u001b[0m\u001b[0;34m\u001b[0m\u001b[0m\n\u001b[0;32m----> 3\u001b[0;31m \u001b[0mpsf_deformed\u001b[0m \u001b[0;34m=\u001b[0m \u001b[0mtorch\u001b[0m\u001b[0;34m.\u001b[0m\u001b[0mcat\u001b[0m\u001b[0;34m(\u001b[0m\u001b[0;34m[\u001b[0m\u001b[0mtorch\u001b[0m\u001b[0;34m.\u001b[0m\u001b[0mdeform_grid\u001b[0m\u001b[0;34m(\u001b[0m\u001b[0mpsf\u001b[0m\u001b[0;34m,\u001b[0m \u001b[0mtorch\u001b[0m\u001b[0;34m.\u001b[0m\u001b[0mdistributions\u001b[0m\u001b[0;34m.\u001b[0m\u001b[0mNormal\u001b[0m\u001b[0;34m(\u001b[0m\u001b[0mloc\u001b[0m\u001b[0;34m=\u001b[0m\u001b[0;36m0\u001b[0m\u001b[0;34m,\u001b[0m \u001b[0mscale\u001b[0m\u001b[0;34m=\u001b[0m\u001b[0;36m0.25\u001b[0m\u001b[0;34m)\u001b[0m\u001b[0;34m.\u001b[0m\u001b[0msample\u001b[0m\u001b[0;34m(\u001b[0m\u001b[0;34m[\u001b[0m\u001b[0;36m3\u001b[0m\u001b[0;34m,\u001b[0m\u001b[0;36m3\u001b[0m\u001b[0;34m,\u001b[0m\u001b[0;36m3\u001b[0m\u001b[0;34m,\u001b[0m\u001b[0;36m3\u001b[0m\u001b[0;34m]\u001b[0m\u001b[0;34m)\u001b[0m\u001b[0;34m.\u001b[0m\u001b[0mto\u001b[0m\u001b[0;34m(\u001b[0m\u001b[0mgt_psf\u001b[0m\u001b[0;34m.\u001b[0m\u001b[0mdevice\u001b[0m\u001b[0;34m)\u001b[0m\u001b[0;34m,\u001b[0m \u001b[0morder\u001b[0m\u001b[0;34m=\u001b[0m\u001b[0;36m3\u001b[0m\u001b[0;34m)\u001b[0m\u001b[0;34m[\u001b[0m\u001b[0;32mNone\u001b[0m\u001b[0;34m]\u001b[0m \u001b[0;32mfor\u001b[0m \u001b[0mpsf\u001b[0m \u001b[0;32min\u001b[0m \u001b[0mgt_psf_mul\u001b[0m\u001b[0;34m]\u001b[0m\u001b[0;34m)\u001b[0m\u001b[0;34m\u001b[0m\u001b[0;34m\u001b[0m\u001b[0m\n\u001b[0m",
      "\u001b[0;31mAttributeError\u001b[0m: module 'torch' has no attribute 'deform_grid'"
     ]
    }
   ],
   "source": [
    "# gt_psf = gt_psf.cuda()\n",
    "gt_psf_mul = torch.cat(100*[gt_psf[None]])\n",
    "psf_deformed = torch.cat([torch.deform_grid(psf, torch.distributions.Normal(loc=0, scale=0.25).sample([3,3,3,3]).to(gt_psf.device), order=3)[None] for psf in gt_psf_mul])"
   ]
  },
  {
   "cell_type": "code",
   "execution_count": null,
   "metadata": {},
   "outputs": [],
   "source": [
    "# gt_psf = gt_psf.cuda()\n",
    "gt_psf_mul = torch.cat(100*[gt_psf[None]])\n",
    "deforms = torch.cuda.FloatTensor(100,3,3,3,3).normal_() * 0.25 # torch.distributions.Normal(loc=0, scale=0.25).sample([100,3,3,3,3])\n",
    "psf_deformed = torch.cat([etorch.deform_grid(psf, deform, order=3)[None] for psf, deform in zip(gt_psf_mul, deforms)])"
   ]
  },
  {
   "cell_type": "code",
   "execution_count": null,
   "metadata": {},
   "outputs": [],
   "source": [
    "z_os_3d = torch.rand(z_os_3d.shape).to('cuda')"
   ]
  },
  {
   "cell_type": "code",
   "execution_count": null,
   "metadata": {},
   "outputs": [],
   "source": [
    "psf_deformed = etorch.deform_grid(gt_psf_mul, deforms[0],axis=(1,2,3), order=3)"
   ]
  },
  {
   "cell_type": "code",
   "execution_count": null,
   "metadata": {},
   "outputs": [],
   "source": [
    "import elasticdeform.torch as etorch\n",
    "\n",
    "gt_psf_mul = torch.cat(5*[gt_psf[None]])\n",
    "\n",
    "psf_deformed = torch.cat([etorch.deform_grid(psf, torch.distributions.Normal(loc=0, scale=0.25).sample([3,3,3,3]).to(gt_psf.device), order=3)[None] for psf in gt_psf_mul])\n",
    "\n",
    "for i in range(5):\n",
    "    fig1,_ = plot_3d_projections(gt_psf, display=False)\n",
    "    fig2,_ = plot_3d_projections(psf_deformed[i], display=False)\n",
    "\n",
    "    combine_figures([fig1,fig2],[])"
   ]
  },
  {
   "cell_type": "code",
   "execution_count": null,
   "metadata": {},
   "outputs": [
    {
     "name": "stdout",
     "output_type": "stream",
     "text": [
      "Converted 00_models.ipynb.\n",
      "Converted 01_psf.ipynb.\n",
      "Converted 02_microscope.ipynb.\n",
      "Converted 03_noise.ipynb.\n",
      "Converted 04_pointsource.ipynb.\n",
      "Converted 05_gmm_loss.ipynb.\n",
      "Converted 06_plotting.ipynb.\n",
      "Converted 07_file_io.ipynb.\n",
      "Converted 08_dataset.ipynb.\n",
      "Converted 09_output_trafo.ipynb.\n",
      "Converted 10_evaluation.ipynb.\n",
      "Converted 11_emitter_io.ipynb.\n",
      "Converted 12_utils.ipynb.\n",
      "Converted 13_train.ipynb.\n",
      "Converted 15_fit_psf.ipynb.\n",
      "Converted 16_visualization.ipynb.\n",
      "Converted 17_eval_routines.ipynb.\n",
      "Converted 18_predict_funcs.ipynb.\n",
      "Converted 19_MERFISH_routines.ipynb.\n",
      "Converted 20_MERFISH_visualization.ipynb.\n",
      "Converted 21_MERFISH_routines_2.ipynb.\n",
      "Converted 22_MERFISH_codenet.ipynb.\n",
      "Converted hyper.ipynb.\n",
      "Converted index.ipynb.\n"
     ]
    }
   ],
   "source": [
    "!nbdev_build_lib"
   ]
  },
  {
   "cell_type": "code",
   "execution_count": null,
   "metadata": {},
   "outputs": [],
   "source": []
  }
 ],
 "metadata": {
  "kernelspec": {
   "display_name": "Python [conda env:decode_fish_dev]",
   "language": "python",
   "name": "conda-env-decode_fish_dev-py"
  }
 },
 "nbformat": 4,
 "nbformat_minor": 4
}
