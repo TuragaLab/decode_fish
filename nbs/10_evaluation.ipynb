{
 "cells": [
  {
   "cell_type": "code",
   "execution_count": null,
   "metadata": {},
   "outputs": [],
   "source": [
    "# default_exp funcs.evaluation"
   ]
  },
  {
   "cell_type": "code",
   "execution_count": null,
   "metadata": {},
   "outputs": [],
   "source": [
    "%load_ext autoreload\n",
    "%autoreload 2\n",
    "%aimport -decode_fish.engine.place_psfs"
   ]
  },
  {
   "cell_type": "markdown",
   "metadata": {},
   "source": [
    "# Performance evaluation"
   ]
  },
  {
   "cell_type": "code",
   "execution_count": null,
   "metadata": {},
   "outputs": [],
   "source": [
    "#export\n",
    "from decode_fish.imports import *\n",
    "from scipy.spatial.distance import cdist\n",
    "from scipy.spatial import cKDTree"
   ]
  },
  {
   "cell_type": "code",
   "execution_count": null,
   "metadata": {},
   "outputs": [],
   "source": [
    "#export\n",
    "def matching(target_df, pred_df, tolerance=1000, print_res=True, eff_const=0.5, match_genes=True, self_match=False, allow_multiple_matches=False, ignore_z=False):\n",
    "    \"\"\"Matches localizations to ground truth positions and provides assessment metrics used in the SMLM2016 challenge.\n",
    "    (see http://bigwww.epfl.ch/smlm/challenge2016/index.html?p=methods#6)\n",
    "    When using default parameters exactly reproduces the procedure used for the challenge (i.e. produces same numbers as the localization tool).\n",
    "\n",
    "    Parameters\n",
    "    ----------\n",
    "    test_csv: str or list\n",
    "        Ground truth positions with columns: 'localization', 'frame', 'x', 'y', 'z'\n",
    "        Either list or str with locations of csv file.\n",
    "    pred_inp: list\n",
    "        List of localizations\n",
    "    size_xy: list of floats\n",
    "        Size of processed recording in nano meters\n",
    "    tolerance: float\n",
    "        Localizations are matched when they are within a circle of the given radius.\n",
    "    tolerance_ax: float\n",
    "        Localizations are matched when they are closer than this value in z direction. Should be ininity for 2D recordings. 500nm is used for 3D recordings in the challenge.\n",
    "    border: float\n",
    "        Localizations that are close to the edge of the recording are excluded because they often suffer from artifacts.\n",
    "    print_res: bool\n",
    "        If true prints a list of assessment metrics.\n",
    "    min_int: bool\n",
    "        If true only uses the brightest 75% of ground truth locations.\n",
    "        This is the setting used in the leaderboard of the challenge. However this implementation does not exactly match the method used in the localization tool.\n",
    "\n",
    "    Returns\n",
    "    -------\n",
    "    perf_dict, matches: dict, list\n",
    "        Dictionary of perfomance metrics.\n",
    "        List of all matches localizations for further evaluation in format: 'localization', 'frame', 'x_true', 'y_true', 'z_true', 'x_pred', 'y_pred', 'z_pred', 'int_true', 'x_sig', 'y_sig', 'z_sig'\n",
    "\n",
    "    \"\"\"\n",
    "\n",
    "    perf_dict = None\n",
    "    match_df = pd.DataFrame()\n",
    "    TP = 0\n",
    "    FP = 0.0001\n",
    "    FN = 0.0001\n",
    "    MSE_vol = 0\n",
    "\n",
    "    match_list = []\n",
    "    tar_cols = target_df.keys()\n",
    "    pred_cols = pred_df.keys()\n",
    "\n",
    "    if len(pred_df):\n",
    "\n",
    "        for i in range(0, pred_df['frame_idx'].max() + 1):\n",
    "\n",
    "            FC = 0\n",
    "            sub_tar = target_df[target_df['frame_idx']==i].reset_index()\n",
    "            sub_pred = pred_df[pred_df['frame_idx']==i].reset_index()\n",
    "            \n",
    "            if ignore_z:\n",
    "                tar_xyz = sub_tar[['x','y']]\n",
    "                pred_xyz = sub_pred[['x','y']]\n",
    "            else:\n",
    "                tar_xyz = sub_tar[['x','y','z']]\n",
    "                pred_xyz = sub_pred[['x','y','z']]\n",
    "            \n",
    "            if match_genes:\n",
    "                tar_gene = sub_tar['code_inds']\n",
    "                pred_gene = sub_pred['code_inds']\n",
    "            \n",
    "            u_dists = []\n",
    "            u_p_inds = []\n",
    "            u_t_inds = []\n",
    "            \n",
    "            if len(tar_xyz) and len(pred_xyz):\n",
    "            \n",
    "                tar_tree = cKDTree(tar_xyz)\n",
    "                pred_tree = cKDTree(pred_xyz)\n",
    "                sdm = tar_tree.sparse_distance_matrix(pred_tree, tolerance, output_type='ndarray')\n",
    "\n",
    "                sort_inds = np.argsort(sdm['v'])\n",
    "                dists = sdm['v'][sort_inds]\n",
    "                t_inds = sdm['i'][sort_inds]\n",
    "                p_inds = sdm['j'][sort_inds]\n",
    "\n",
    "                for d,p,t in zip(dists, p_inds, t_inds):\n",
    "                    \n",
    "                    if allow_multiple_matches is False:\n",
    "                        condition = p not in u_p_inds and t not in u_t_inds\n",
    "                    else:   \n",
    "                        condition = p not in u_p_inds\n",
    "                    if self_match:\n",
    "                        condition = p not in u_p_inds and p not in u_t_inds and d>0\n",
    "                        \n",
    "                    if condition:\n",
    "                        if match_genes:\n",
    "                            if pred_gene[p] != tar_gene[t]:\n",
    "                                continue\n",
    "                         \n",
    "                        u_dists.append(d)\n",
    "                        u_p_inds.append(p)\n",
    "                        u_t_inds.append(t)\n",
    "                    \n",
    "            MSE_vol += (np.array(u_dists) ** 2).sum()\n",
    "\n",
    "            TP += len(u_t_inds)\n",
    "\n",
    "            FP += len(pred_xyz) - len(u_t_inds)\n",
    "            FN += len(tar_xyz) - len(u_t_inds)\n",
    "            \n",
    "            if len(u_t_inds): match_list.append(np.concatenate([sub_tar.loc[u_t_inds,tar_cols].values, sub_pred.loc[u_p_inds,pred_cols].values], 1))\n",
    "\n",
    "    if len(match_list): match_list = np.concatenate(match_list, 0) \n",
    "    \n",
    "    match_df = pd.DataFrame(match_list, columns = [k+'_tar' for k in tar_cols] + [k+'_pred' for k in pred_cols])\n",
    "\n",
    "    precision = TP / (TP + FP)\n",
    "    recall = TP / (TP + FN)\n",
    "    jaccard = TP / (TP + FP + FN)\n",
    "\n",
    "    rmse_vol = np.sqrt(MSE_vol / (TP + 0.00001))\n",
    "\n",
    "    eff_3d = 100-np.sqrt((100-100*jaccard)**2 + eff_const**2 * rmse_vol**2)\n",
    "\n",
    "    rmse_x = np.nan\n",
    "    rmse_y = np.nan\n",
    "    rmse_z = np.nan\n",
    "\n",
    "    x_s = np.nan\n",
    "    y_s = np.nan\n",
    "    z_s = np.nan\n",
    "\n",
    "    if len(match_df):\n",
    "        rmse_x = np.sqrt(((match_df['x_tar']-match_df['x_pred'])**2).mean())\n",
    "        rmse_y = np.sqrt(((match_df['y_tar']-match_df['y_pred'])**2).mean())\n",
    "        rmse_z = np.sqrt(((match_df['z_tar']-match_df['z_pred'])**2).mean())\n",
    "\n",
    "        x_s = (match_df['x_tar']-match_df['x_pred']).mean()\n",
    "        y_s = (match_df['y_tar']-match_df['y_pred']).mean()\n",
    "        z_s = (match_df['z_tar']-match_df['z_pred']).mean()\n",
    "\n",
    "    if print_res:\n",
    "        print('{}{:0.3f}'.format('Recall: ', recall))\n",
    "        print('{}{:0.3f}'.format('Precision: ', precision))\n",
    "        print('{}{:0.3f}'.format('Jaccard: ', 100 * jaccard))\n",
    "        print('{}{:0.3f}'.format('RMSE_vol: ', rmse_vol))\n",
    "        print('{}{:0.3f}'.format('Eff_3d: ', eff_3d))\n",
    "        print('FN: ' + str(np.round(FN)) + ' FP: ' + str(np.round(FP)))\n",
    "        print('{}{:0.3f}'.format('Num. matches: ', len(match_df)))\n",
    "\n",
    "        print(f'Shift: {x_s:.2f},{y_s:.2f},{z_s:.2f}')\n",
    "\n",
    "    perf_dict = {'recall': recall, 'precision': precision, 'jaccard': jaccard, 'rmse_vol': rmse_vol,\n",
    "            'rmse_x': rmse_x, 'rmse_y': rmse_y,  'rmse_z': rmse_z, 'eff_3d': eff_3d, 'n_matches':len(match_df)}\n",
    "\n",
    "    return perf_dict, match_df, [x_s,y_s,z_s]"
   ]
  },
  {
   "cell_type": "code",
   "execution_count": null,
   "metadata": {},
   "outputs": [
    {
     "name": "stdout",
     "output_type": "stream",
     "text": [
      "17130008\n"
     ]
    }
   ],
   "source": [
    "from decode_fish.funcs.exp_specific import get_mop_benchmark, get_mop_fov\n",
    "test_df = pd.read_csv('../data/results/MERFISH/merfish_sweep_mop_16_seed:0_None_150.csv')\n",
    "bench_df = get_mop_benchmark()\n",
    "bench_df = get_mop_fov(bench_df, 150)"
   ]
  },
  {
   "cell_type": "code",
   "execution_count": null,
   "metadata": {},
   "outputs": [],
   "source": [
    "from decode_fish.funcs.emitter_io import exclude_borders, nm_to_px\n",
    "bench_df = nm_to_px((bench_df), [1.085,1.085,1.085])\n",
    "bench_df = exclude_borders(bench_df, border_size_zyx=[0,15000,15000], img_size=[2048*100,2048*100,2048*100])"
   ]
  },
  {
   "cell_type": "code",
   "execution_count": null,
   "metadata": {},
   "outputs": [
    {
     "name": "stdout",
     "output_type": "stream",
     "text": [
      "Recall: 0.833\n",
      "Precision: 0.614\n",
      "Jaccard: 54.676\n",
      "RMSE_vol: 119.736\n",
      "Eff_3d: 24.910\n",
      "FN: 4792.0 FP: 15036.0\n",
      "Num. matches: 23919.000\n",
      "Shift: -68.70,-68.19,-42.27\n"
     ]
    }
   ],
   "source": [
    "# preds = fq_gmm_df\n",
    "perf_df, matches, _ = matching(bench_df, test_df, tolerance=500, match_genes=True)"
   ]
  },
  {
   "cell_type": "code",
   "execution_count": null,
   "metadata": {},
   "outputs": [
    {
     "name": "stdout",
     "output_type": "stream",
     "text": [
      "Recall: 0.859\n",
      "Precision: 0.633\n",
      "Jaccard: 57.403\n",
      "RMSE_vol: 131.813\n",
      "Eff_3d: 21.526\n",
      "FN: 4034.0 FP: 14278.0\n",
      "Num. matches: 24677.000\n",
      "Shift: -65.75,-65.54,-42.81\n"
     ]
    }
   ],
   "source": [
    "perf_df, matches, _ = matching(bench_df, test_df, tolerance=500, match_genes=False)"
   ]
  },
  {
   "cell_type": "code",
   "execution_count": null,
   "metadata": {},
   "outputs": [
    {
     "data": {
      "text/plain": [
       "0.9506017749321231"
      ]
     },
     "execution_count": null,
     "metadata": {},
     "output_type": "execute_result"
    }
   ],
   "source": [
    "(matches['code_inds_pred'] == matches['code_inds_tar']).values.sum()/len(matches)"
   ]
  },
  {
   "cell_type": "code",
   "execution_count": null,
   "metadata": {},
   "outputs": [
    {
     "name": "stdout",
     "output_type": "stream",
     "text": [
      "Converted 00_models.ipynb.\n",
      "Converted 01_psf.ipynb.\n",
      "Converted 02_microscope.ipynb.\n",
      "Converted 02b_place_psfs.ipynb.\n",
      "Converted 03_noise.ipynb.\n",
      "Converted 04_pointsource.ipynb.\n",
      "Converted 05_gmm_loss.ipynb.\n",
      "Converted 06_plotting.ipynb.\n",
      "Converted 07_file_io.ipynb.\n",
      "Converted 08_dataset.ipynb.\n",
      "Converted 09_output_trafo.ipynb.\n",
      "Converted 10_evaluation.ipynb.\n",
      "Converted 11_emitter_io.ipynb.\n",
      "Converted 12_utils.ipynb.\n",
      "Converted 13_train.ipynb.\n",
      "Converted 15_fit_psf.ipynb.\n",
      "Converted 16_visualization.ipynb.\n",
      "Converted 17_eval_routines.ipynb.\n",
      "Converted 18_predict_funcs.ipynb.\n",
      "Converted 19_MERFISH_routines.ipynb.\n",
      "Converted 22_MERFISH_codenet.ipynb.\n",
      "Converted 23_MERFISH_comparison.ipynb.\n",
      "Converted 24_exp_specific.ipynb.\n",
      "Converted 25_ensembling.ipynb.\n",
      "Converted 26_gen_train.ipynb.\n",
      "Converted 27_testtime_rescale.ipynb.\n",
      "Converted index.ipynb.\n"
     ]
    }
   ],
   "source": [
    "!nbdev_build_lib"
   ]
  },
  {
   "cell_type": "code",
   "execution_count": null,
   "metadata": {},
   "outputs": [],
   "source": []
  }
 ],
 "metadata": {
  "kernelspec": {
   "display_name": "Python [conda env:decode_fish_dev2]",
   "language": "python",
   "name": "conda-env-decode_fish_dev2-py"
  }
 },
 "nbformat": 4,
 "nbformat_minor": 4
}
