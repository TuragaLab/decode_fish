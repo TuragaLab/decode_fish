{
 "cells": [
  {
   "cell_type": "code",
   "execution_count": 2,
   "id": "stuck-sleeping",
   "metadata": {
    "ExecuteTime": {
     "end_time": "2021-09-27T07:27:37.894342Z",
     "start_time": "2021-09-27T07:27:37.859599Z"
    }
   },
   "outputs": [],
   "source": [
    "%load_ext autoreload\n",
    "%autoreload 2"
   ]
  },
  {
   "cell_type": "code",
   "execution_count": 3,
   "id": "quiet-wagner",
   "metadata": {
    "ExecuteTime": {
     "end_time": "2021-09-27T07:27:53.043656Z",
     "start_time": "2021-09-27T07:27:38.050838Z"
    }
   },
   "outputs": [
    {
     "data": {
      "text/plain": [
       "hydra.initialize()"
      ]
     },
     "execution_count": 3,
     "metadata": {},
     "output_type": "execute_result"
    }
   ],
   "source": [
    "# export\n",
    "from decode_fish.imports import *\n",
    "\n",
    "# os.environ[\"CUDA_VISIBLE_DEVICES\"] = '1'\n",
    "\n",
    "from decode_fish.funcs.file_io import *\n",
    "from decode_fish.funcs.emitter_io import *\n",
    "from decode_fish.funcs.utils import *\n",
    "from decode_fish.funcs.dataset import *\n",
    "from decode_fish.funcs.plotting import *\n",
    "from decode_fish.engine.noise import estimate_noise_scale\n",
    "import shutil\n",
    "from decode_fish.funcs.visualization import *\n",
    "from decode_fish.funcs.predict import predict\n",
    "import torch.nn as nn\n",
    "import torch.nn.functional as F\n",
    "import torch.tensor as T\n",
    "from decode_fish.funcs.predict import *\n",
    "\n",
    "from omegaconf import open_dict\n",
    "from hydra import compose, initialize\n",
    "from decode_fish.funcs.merfish_eval import *\n",
    "\n",
    "import h5py\n",
    "from decode_fish.funcs.routines import *\n",
    "\n",
    "initialize(config_path=\"../config\")"
   ]
  },
  {
   "cell_type": "markdown",
   "id": "exclusive-vanilla",
   "metadata": {},
   "source": [
    "## Generate Data"
   ]
  },
  {
   "cell_type": "code",
   "execution_count": 4,
   "id": "fossil-judges",
   "metadata": {
    "ExecuteTime": {
     "end_time": "2021-09-27T07:27:56.937937Z",
     "start_time": "2021-09-27T07:27:53.046263Z"
    }
   },
   "outputs": [
    {
     "name": "stdout",
     "output_type": "stream",
     "text": [
      "Crop size larger than volume in at least one dimension. Crop size changed to (1, 256, 256)\n",
      "1 volumes\n"
     ]
    },
    {
     "name": "stderr",
     "output_type": "stream",
     "text": [
      "/groups/turaga/home/speisera/anaconda3/envs/decode_fish_dev2/lib/python3.7/site-packages/torch/cuda/__init__.py:81: UserWarning: \n",
      "    Found GPU2 NVS 510 which is of cuda capability 3.0.\n",
      "    PyTorch no longer supports this GPU because it is too old.\n",
      "    The minimum cuda capability that we support is 3.5.\n",
      "    \n",
      "  warnings.warn(old_gpu_warn % (d, name, major, capability[1]))\n"
     ]
    }
   ],
   "source": [
    "cfg = OmegaConf.load(f'../config/experiment//MERFISH_ci_2d_sim1.yaml')\n",
    "\n",
    "crop_sz = 256\n",
    "cfg.training.bs = 3\n",
    "cfg.random_crop.crop_sz = crop_sz\n",
    "cfg.data_path.image_shape = [16,1,crop_sz,crop_sz]\n",
    "_, decode_dl = get_dataloader(cfg)\n",
    "_, noise, micro = load_psf_noise_micro(cfg)"
   ]
  },
  {
   "cell_type": "code",
   "execution_count": 6,
   "id": "narrow-mounting",
   "metadata": {
    "ExecuteTime": {
     "end_time": "2021-09-27T07:28:28.699706Z",
     "start_time": "2021-09-27T07:28:28.435579Z"
    }
   },
   "outputs": [
    {
     "name": "stdout",
     "output_type": "stream",
     "text": [
      "13832\n"
     ]
    }
   ],
   "source": [
    "bench_df, code_ref, targets = get_benchmark()\n",
    "code_inds = np.stack([np.nonzero(c)[0] for c in code_ref])"
   ]
  },
  {
   "cell_type": "code",
   "execution_count": 8,
   "id": "pointed-guard",
   "metadata": {
    "ExecuteTime": {
     "end_time": "2021-09-27T07:28:48.330327Z",
     "start_time": "2021-09-27T07:28:47.910089Z"
    }
   },
   "outputs": [],
   "source": [
    "out_dir = '/groups/turaga/home/speisera/Mackebox/Artur/WorkDB/deepstorm/decode_fish/data/merfish_sims/sim_data3/'\n",
    "\n",
    "densities = [0.01, 0.025, 0.05, 0.075, 0.1, 0.125, 0.15]\n",
    "intensities = [1., 0.5, 0.25, 0.125]\n",
    "# intensities = [0.8, 0.4, 0.2, 0.12]"
   ]
  },
  {
   "cell_type": "code",
   "execution_count": 11,
   "id": "sunrise-genome",
   "metadata": {
    "ExecuteTime": {
     "end_time": "2021-09-27T07:39:25.466334Z",
     "start_time": "2021-09-27T07:29:24.144411Z"
    }
   },
   "outputs": [
    {
     "name": "stdout",
     "output_type": "stream",
     "text": [
      "dens_0.01_int_1.0\n"
     ]
    },
    {
     "name": "stderr",
     "output_type": "stream",
     "text": [
      "/groups/turaga/home/speisera/Dropbox (mackelab)/Artur/WorkDB/deepstorm/decode_fish/decode_fish/funcs/output_trafo.py:19: UserWarning: This overload of nonzero is deprecated:\n",
      "\tnonzero()\n",
      "Consider using one of the following signatures instead:\n",
      "\tnonzero(*, bool as_tuple) (Triggered internally at  /opt/conda/conda-bld/pytorch_1607370141920/work/torch/csrc/utils/python_arg_parser.cpp:882.)\n",
      "  b_inds = torch.cat([torch.tensor([0], device=x_os.device),((x_os[1:] - x_os[:-1]).nonzero() + 1)[:,0],\n",
      "/groups/turaga/home/speisera/anaconda3/envs/decode_fish_dev2/lib/python3.7/site-packages/ipykernel_launcher.py:26: FutureWarning: In a future version of pandas all arguments of DataFrame.drop except for the argument 'labels' will be keyword-only\n"
     ]
    },
    {
     "name": "stdout",
     "output_type": "stream",
     "text": [
      "dens_0.01_int_0.5\n",
      "dens_0.01_int_0.25\n",
      "dens_0.01_int_0.125\n",
      "dens_0.025_int_1.0\n",
      "dens_0.025_int_0.5\n",
      "dens_0.025_int_0.25\n",
      "dens_0.025_int_0.125\n",
      "dens_0.05_int_1.0\n",
      "dens_0.05_int_0.5\n",
      "dens_0.05_int_0.25\n",
      "dens_0.05_int_0.125\n",
      "dens_0.075_int_1.0\n",
      "dens_0.075_int_0.5\n",
      "dens_0.075_int_0.25\n",
      "dens_0.075_int_0.125\n",
      "dens_0.1_int_1.0\n",
      "dens_0.1_int_0.5\n",
      "dens_0.1_int_0.25\n",
      "dens_0.1_int_0.125\n",
      "dens_0.125_int_1.0\n",
      "dens_0.125_int_0.5\n",
      "dens_0.125_int_0.25\n",
      "dens_0.125_int_0.125\n",
      "dens_0.15_int_1.0\n",
      "dens_0.15_int_0.5\n",
      "dens_0.15_int_0.25\n",
      "dens_0.15_int_0.125\n"
     ]
    }
   ],
   "source": [
    "from decode_fish.engine.point_process import *\n",
    "from decode_fish.funcs.output_trafo import *\n",
    "\n",
    "gt_col = []\n",
    "    \n",
    "for d in densities:\n",
    "    for i in intensities:\n",
    "\n",
    "        k = f'dens_{d}_int_{i}'\n",
    "        print(k)\n",
    "\n",
    "        with h5py.File(out_dir+k+'.h5', 'w') as f:\n",
    "\n",
    "            with torch.no_grad():\n",
    "\n",
    "                x, local_rate, background = next(iter(decode_dl))\n",
    "                sim_vars = PointProcessUniform(local_rate*0 + d, cfg.intensity_dist.int_conc*i, cfg.intensity_dist.int_rate, \n",
    "                                               cfg.intensity_dist.int_loc, channels=16, n_bits=4, sim_z=False, codebook=torch.tensor(code_inds), int_option=3).sample(from_code_book=True, phasing=cfg.exp_type.phasing)\n",
    "                xsim = micro(*sim_vars, add_noise=False)\n",
    "                xsimn = micro.noise(xsim, background).sample()\n",
    "\n",
    "                gt_vars = sim_vars[:-1]\n",
    "                gt_df = sample_to_df(*gt_vars, px_size_zyx=[1.,1.,1.])\n",
    "\n",
    "            gt_df = get_code_from_ints(gt_df, code_ref, targets, int_str='', p_str='')\n",
    "            gt_df = gt_df.drop('gene', 1) # can't store in hd5\n",
    "            gt_df = px_to_nm(gt_df)\n",
    "            gt_df = exclude_borders(gt_df, border_size_zyx=[0,500,500], img_size=[crop_sz*100,crop_sz*100,crop_sz*100])\n",
    "\n",
    "            add_df_to_hdf5(f, 'locations', gt_df)          \n",
    "            f.create_dataset('frames', data=cpu(xsimn))"
   ]
  },
  {
   "cell_type": "code",
   "execution_count": 15,
   "id": "prostate-ireland",
   "metadata": {
    "ExecuteTime": {
     "end_time": "2021-09-27T08:06:04.333432Z",
     "start_time": "2021-09-27T08:06:03.498562Z"
    }
   },
   "outputs": [],
   "source": [
    "out_dir = '/groups/turaga/home/speisera/Mackebox/Artur/WorkDB/deepstorm/decode_fish/data/merfish_sims/sim_data3/'\n",
    "files = glob.glob(out_dir+'/*.h5')\n",
    "base_str = 'bsub -gpu \"num=1\" -q gpu_rtx -o logs/ofish.log -e logs/efish.log /groups/turaga/home/speisera/anaconda3/envs/decode_fish_dev2/bin/python /groups/turaga/home/speisera/Mackebox/Artur/WorkDB/deepstorm/decode_fish/decode_fish/merfish_sim_eval.py '\n",
    "\n",
    "with open('run_slurm.sh', 'w') as f:\n",
    "    for n in files:\n",
    "        name = n.split('/')[-1]\n",
    "        f.write(base_str + f'data_file={name}' + ' \\n')"
   ]
  },
  {
   "cell_type": "code",
   "execution_count": 17,
   "id": "bored-excitement",
   "metadata": {
    "ExecuteTime": {
     "end_time": "2021-09-27T08:32:38.474962Z",
     "start_time": "2021-09-27T08:32:38.293228Z"
    }
   },
   "outputs": [
    {
     "name": "stdout",
     "output_type": "stream",
     "text": [
      "<KeysViewHDF5 ['istdeco', 'old_loss:0xint_option:3xmin_int_sig:1.0', 'old_loss:1xint_option:3xmin_int_sig:1.0']>\n"
     ]
    },
    {
     "ename": "KeyError",
     "evalue": "\"Unable to open object (object 'old_loss:True' doesn't exist)\"",
     "output_type": "error",
     "traceback": [
      "\u001b[0;31m---------------------------------------------------------------------------\u001b[0m",
      "\u001b[0;31mKeyError\u001b[0m                                  Traceback (most recent call last)",
      "\u001b[0;32m/tmp/ipykernel_26961/3625075878.py\u001b[0m in \u001b[0;36m<module>\u001b[0;34m\u001b[0m\n\u001b[1;32m      9\u001b[0m \u001b[0;32mwith\u001b[0m \u001b[0mh5py\u001b[0m\u001b[0;34m.\u001b[0m\u001b[0mFile\u001b[0m\u001b[0;34m(\u001b[0m\u001b[0mfiles\u001b[0m\u001b[0;34m[\u001b[0m\u001b[0;36m0\u001b[0m\u001b[0;34m]\u001b[0m\u001b[0;34m,\u001b[0m \u001b[0;34m'a'\u001b[0m\u001b[0;34m)\u001b[0m \u001b[0;32mas\u001b[0m \u001b[0mf\u001b[0m\u001b[0;34m:\u001b[0m\u001b[0;34m\u001b[0m\u001b[0;34m\u001b[0m\u001b[0m\n\u001b[1;32m     10\u001b[0m     \u001b[0mprint\u001b[0m\u001b[0;34m(\u001b[0m\u001b[0mf\u001b[0m\u001b[0;34m.\u001b[0m\u001b[0mkeys\u001b[0m\u001b[0;34m(\u001b[0m\u001b[0;34m)\u001b[0m\u001b[0;34m)\u001b[0m\u001b[0;34m\u001b[0m\u001b[0;34m\u001b[0m\u001b[0m\n\u001b[0;32m---> 11\u001b[0;31m     \u001b[0mprint\u001b[0m\u001b[0;34m(\u001b[0m\u001b[0mget_df_from_hdf5\u001b[0m\u001b[0;34m(\u001b[0m\u001b[0mf\u001b[0m\u001b[0;34m[\u001b[0m\u001b[0;34m'old_loss:True'\u001b[0m\u001b[0;34m]\u001b[0m\u001b[0;34m[\u001b[0m\u001b[0;34m'perf_int'\u001b[0m\u001b[0;34m]\u001b[0m\u001b[0;34m)\u001b[0m\u001b[0;34m)\u001b[0m\u001b[0;34m\u001b[0m\u001b[0;34m\u001b[0m\u001b[0m\n\u001b[0m",
      "\u001b[0;32mh5py/_objects.pyx\u001b[0m in \u001b[0;36mh5py._objects.with_phil.wrapper\u001b[0;34m()\u001b[0m\n",
      "\u001b[0;32mh5py/_objects.pyx\u001b[0m in \u001b[0;36mh5py._objects.with_phil.wrapper\u001b[0;34m()\u001b[0m\n",
      "\u001b[0;32m~/.local/lib/python3.7/site-packages/h5py/_hl/group.py\u001b[0m in \u001b[0;36m__getitem__\u001b[0;34m(self, name)\u001b[0m\n\u001b[1;32m    262\u001b[0m                 \u001b[0;32mraise\u001b[0m \u001b[0mValueError\u001b[0m\u001b[0;34m(\u001b[0m\u001b[0;34m\"Invalid HDF5 object reference\"\u001b[0m\u001b[0;34m)\u001b[0m\u001b[0;34m\u001b[0m\u001b[0;34m\u001b[0m\u001b[0m\n\u001b[1;32m    263\u001b[0m         \u001b[0;32melse\u001b[0m\u001b[0;34m:\u001b[0m\u001b[0;34m\u001b[0m\u001b[0;34m\u001b[0m\u001b[0m\n\u001b[0;32m--> 264\u001b[0;31m             \u001b[0moid\u001b[0m \u001b[0;34m=\u001b[0m \u001b[0mh5o\u001b[0m\u001b[0;34m.\u001b[0m\u001b[0mopen\u001b[0m\u001b[0;34m(\u001b[0m\u001b[0mself\u001b[0m\u001b[0;34m.\u001b[0m\u001b[0mid\u001b[0m\u001b[0;34m,\u001b[0m \u001b[0mself\u001b[0m\u001b[0;34m.\u001b[0m\u001b[0m_e\u001b[0m\u001b[0;34m(\u001b[0m\u001b[0mname\u001b[0m\u001b[0;34m)\u001b[0m\u001b[0;34m,\u001b[0m \u001b[0mlapl\u001b[0m\u001b[0;34m=\u001b[0m\u001b[0mself\u001b[0m\u001b[0;34m.\u001b[0m\u001b[0m_lapl\u001b[0m\u001b[0;34m)\u001b[0m\u001b[0;34m\u001b[0m\u001b[0;34m\u001b[0m\u001b[0m\n\u001b[0m\u001b[1;32m    265\u001b[0m \u001b[0;34m\u001b[0m\u001b[0m\n\u001b[1;32m    266\u001b[0m         \u001b[0motype\u001b[0m \u001b[0;34m=\u001b[0m \u001b[0mh5i\u001b[0m\u001b[0;34m.\u001b[0m\u001b[0mget_type\u001b[0m\u001b[0;34m(\u001b[0m\u001b[0moid\u001b[0m\u001b[0;34m)\u001b[0m\u001b[0;34m\u001b[0m\u001b[0;34m\u001b[0m\u001b[0m\n",
      "\u001b[0;32mh5py/_objects.pyx\u001b[0m in \u001b[0;36mh5py._objects.with_phil.wrapper\u001b[0;34m()\u001b[0m\n",
      "\u001b[0;32mh5py/_objects.pyx\u001b[0m in \u001b[0;36mh5py._objects.with_phil.wrapper\u001b[0;34m()\u001b[0m\n",
      "\u001b[0;32mh5py/h5o.pyx\u001b[0m in \u001b[0;36mh5py.h5o.open\u001b[0;34m()\u001b[0m\n",
      "\u001b[0;31mKeyError\u001b[0m: \"Unable to open object (object 'old_loss:True' doesn't exist)\""
     ]
    }
   ],
   "source": [
    "out_dir = '/groups/turaga/home/speisera/Mackebox/Artur/WorkDB/deepstorm/decode_fish/data/merfish_sims/sim_data3/'\n",
    "intensities = [1., 0.5, 0.25, 0.125]\n",
    "files = glob.glob(out_dir+'sim_2c/*')\n",
    "\n",
    "# out_dir = '/groups/turaga/home/speisera/Mackebox/Artur/WorkDB/deepstorm/decode_fish/data/merfish_sims/sim_data2/'\n",
    "# intensities = [0.8, 0.4, 0.2, 0.12]\n",
    "# files = glob.glob(out_dir+'sim_2b/*')\n",
    "\n",
    "with h5py.File(files[0], 'a') as f:\n",
    "    print(f.keys())\n",
    "    print(get_df_from_hdf5(f['old_loss:True']['perf_int']))"
   ]
  },
  {
   "cell_type": "code",
   "execution_count": 18,
   "id": "valuable-bennett",
   "metadata": {
    "ExecuteTime": {
     "end_time": "2021-09-27T08:32:40.166786Z",
     "start_time": "2021-09-27T08:32:40.068048Z"
    }
   },
   "outputs": [],
   "source": [
    "snr_keys = [f.split('/')[-1].split('.h5')[0] for f in files]"
   ]
  },
  {
   "cell_type": "code",
   "execution_count": 24,
   "id": "micro-deployment",
   "metadata": {
    "ExecuteTime": {
     "end_time": "2021-09-27T08:36:03.659143Z",
     "start_time": "2021-09-27T08:36:02.551069Z"
    }
   },
   "outputs": [
    {
     "name": "stdout",
     "output_type": "stream",
     "text": [
      "istdeco\n"
     ]
    },
    {
     "data": {
      "text/html": [
       "<div>\n",
       "<style scoped>\n",
       "    .dataframe tbody tr th:only-of-type {\n",
       "        vertical-align: middle;\n",
       "    }\n",
       "\n",
       "    .dataframe tbody tr th {\n",
       "        vertical-align: top;\n",
       "    }\n",
       "\n",
       "    .dataframe thead th {\n",
       "        text-align: right;\n",
       "    }\n",
       "</style>\n",
       "<table border=\"1\" class=\"dataframe\">\n",
       "  <thead>\n",
       "    <tr style=\"text-align: right;\">\n",
       "      <th></th>\n",
       "      <th>eff_3d</th>\n",
       "      <th>jaccard</th>\n",
       "      <th>n_matches</th>\n",
       "      <th>precision</th>\n",
       "      <th>recall</th>\n",
       "      <th>rmse_vol</th>\n",
       "      <th>rmse_x</th>\n",
       "      <th>rmse_y</th>\n",
       "      <th>rmse_z</th>\n",
       "    </tr>\n",
       "  </thead>\n",
       "  <tbody>\n",
       "    <tr>\n",
       "      <th>0</th>\n",
       "      <td>68.720867</td>\n",
       "      <td>0.803136</td>\n",
       "      <td>15674</td>\n",
       "      <td>0.904182</td>\n",
       "      <td>0.877849</td>\n",
       "      <td>48.613962</td>\n",
       "      <td>34.555859</td>\n",
       "      <td>34.193712</td>\n",
       "      <td>0.0</td>\n",
       "    </tr>\n",
       "  </tbody>\n",
       "</table>\n",
       "</div>"
      ],
      "text/plain": [
       "      eff_3d   jaccard  n_matches  precision    recall   rmse_vol     rmse_x  \\\n",
       "0  68.720867  0.803136      15674   0.904182  0.877849  48.613962  34.555859   \n",
       "\n",
       "      rmse_y  rmse_z  \n",
       "0  34.193712     0.0  "
      ]
     },
     "metadata": {},
     "output_type": "display_data"
    },
    {
     "name": "stdout",
     "output_type": "stream",
     "text": [
      "old_loss:0xint_option:3xmin_int_sig:1.0\n"
     ]
    },
    {
     "data": {
      "text/html": [
       "<div>\n",
       "<style scoped>\n",
       "    .dataframe tbody tr th:only-of-type {\n",
       "        vertical-align: middle;\n",
       "    }\n",
       "\n",
       "    .dataframe tbody tr th {\n",
       "        vertical-align: top;\n",
       "    }\n",
       "\n",
       "    .dataframe thead th {\n",
       "        text-align: right;\n",
       "    }\n",
       "</style>\n",
       "<table border=\"1\" class=\"dataframe\">\n",
       "  <thead>\n",
       "    <tr style=\"text-align: right;\">\n",
       "      <th></th>\n",
       "      <th>eff_3d</th>\n",
       "      <th>jaccard</th>\n",
       "      <th>n_matches</th>\n",
       "      <th>precision</th>\n",
       "      <th>recall</th>\n",
       "      <th>rmse_vol</th>\n",
       "      <th>rmse_x</th>\n",
       "      <th>rmse_y</th>\n",
       "      <th>rmse_z</th>\n",
       "    </tr>\n",
       "  </thead>\n",
       "  <tbody>\n",
       "    <tr>\n",
       "      <th>0</th>\n",
       "      <td>66.53088</td>\n",
       "      <td>0.708902</td>\n",
       "      <td>14502</td>\n",
       "      <td>0.847872</td>\n",
       "      <td>0.812209</td>\n",
       "      <td>33.033267</td>\n",
       "      <td>23.565619</td>\n",
       "      <td>23.148614</td>\n",
       "      <td>0.0</td>\n",
       "    </tr>\n",
       "  </tbody>\n",
       "</table>\n",
       "</div>"
      ],
      "text/plain": [
       "     eff_3d   jaccard  n_matches  precision    recall   rmse_vol     rmse_x  \\\n",
       "0  66.53088  0.708902      14502   0.847872  0.812209  33.033267  23.565619   \n",
       "\n",
       "      rmse_y  rmse_z  \n",
       "0  23.148614     0.0  "
      ]
     },
     "metadata": {},
     "output_type": "display_data"
    },
    {
     "name": "stdout",
     "output_type": "stream",
     "text": [
      "old_loss:1xint_option:3xmin_int_sig:1.0\n"
     ]
    },
    {
     "data": {
      "text/html": [
       "<div>\n",
       "<style scoped>\n",
       "    .dataframe tbody tr th:only-of-type {\n",
       "        vertical-align: middle;\n",
       "    }\n",
       "\n",
       "    .dataframe tbody tr th {\n",
       "        vertical-align: top;\n",
       "    }\n",
       "\n",
       "    .dataframe thead th {\n",
       "        text-align: right;\n",
       "    }\n",
       "</style>\n",
       "<table border=\"1\" class=\"dataframe\">\n",
       "  <thead>\n",
       "    <tr style=\"text-align: right;\">\n",
       "      <th></th>\n",
       "      <th>eff_3d</th>\n",
       "      <th>jaccard</th>\n",
       "      <th>n_matches</th>\n",
       "      <th>precision</th>\n",
       "      <th>recall</th>\n",
       "      <th>rmse_vol</th>\n",
       "      <th>rmse_x</th>\n",
       "      <th>rmse_y</th>\n",
       "      <th>rmse_z</th>\n",
       "    </tr>\n",
       "  </thead>\n",
       "  <tbody>\n",
       "    <tr>\n",
       "      <th>0</th>\n",
       "      <td>68.540648</td>\n",
       "      <td>0.733383</td>\n",
       "      <td>14796</td>\n",
       "      <td>0.864454</td>\n",
       "      <td>0.828675</td>\n",
       "      <td>33.397247</td>\n",
       "      <td>23.619392</td>\n",
       "      <td>23.611446</td>\n",
       "      <td>0.0</td>\n",
       "    </tr>\n",
       "  </tbody>\n",
       "</table>\n",
       "</div>"
      ],
      "text/plain": [
       "      eff_3d   jaccard  n_matches  precision    recall   rmse_vol     rmse_x  \\\n",
       "0  68.540648  0.733383      14796   0.864454  0.828675  33.397247  23.619392   \n",
       "\n",
       "      rmse_y  rmse_z  \n",
       "0  23.611446     0.0  "
      ]
     },
     "metadata": {},
     "output_type": "display_data"
    }
   ],
   "source": [
    "with h5py.File(files[0], 'r') as f:\n",
    "    mod_keys = list(f.keys())\n",
    "\n",
    "jacs = {k:np.zeros([len(intensities), len(densities)]) for k in mod_keys}\n",
    "\n",
    "for f in files:\n",
    "    with h5py.File(f, 'r') as h:\n",
    "        for m in mod_keys:\n",
    "            \n",
    "            if m in ['istdeco','bardensr']:\n",
    "                perf_str = 'perf'\n",
    "            elif 'old_loss:0' in m or 'old_loss:False' in m:\n",
    "                perf_str = 'perf_p'\n",
    "            else: # 'True' in m:\n",
    "                perf_str = 'perf_int'\n",
    "#             perf_str = 'perf_int'\n",
    "            k = f.split('/')[-1].split('.h5')[0] \n",
    "            d = k.split('_')[1]\n",
    "            i = k.split('_')[3]\n",
    "            # locs = get_df_from_hdf5(f['evaluations'][k]['old_loss:False']['locations_int'])\n",
    "#             print(m, h[m].keys())\n",
    "            perf = get_df_from_hdf5(h[m][perf_str])\n",
    "            jacs[m][intensities.index(float(i)),densities.index(float(d))] = perf['jaccard'].values[0]\n",
    "            \n",
    "            if k == 'dens_0.1_int_1.0':\n",
    "                print(m)\n",
    "                display(perf)"
   ]
  },
  {
   "cell_type": "code",
   "execution_count": 27,
   "id": "ignored-microphone",
   "metadata": {
    "ExecuteTime": {
     "end_time": "2021-09-27T08:41:18.330068Z",
     "start_time": "2021-09-27T08:41:16.320230Z"
    }
   },
   "outputs": [
    {
     "data": {
      "image/png": "[encoded data removed]",
      "text/plain": [
       "<Figure size 432x288 with 1 Axes>"
      ]
     },
     "metadata": {
      "needs_background": "light"
     },
     "output_type": "display_data"
    },
    {
     "data": {
      "image/png": "[encoded data removed]",
      "text/plain": [
       "<Figure size 432x288 with 1 Axes>"
      ]
     },
     "metadata": {
      "needs_background": "light"
     },
     "output_type": "display_data"
    },
    {
     "data": {
      "image/png": "[encoded data removed]",
      "text/plain": [
       "<Figure size 432x288 with 1 Axes>"
      ]
     },
     "metadata": {
      "needs_background": "light"
     },
     "output_type": "display_data"
    },
    {
     "data": {
      "image/png": "[encoded data removed]",
      "text/plain": [
       "<Figure size 432x288 with 1 Axes>"
      ]
     },
     "metadata": {
      "needs_background": "light"
     },
     "output_type": "display_data"
    }
   ],
   "source": [
    "# import seaborn as sns\n",
    "# for m in mod_keys:\n",
    "#     im = sns.heatmap(jacs[m], annot=True)\n",
    "#     plt.title(m)\n",
    "#     plt.show()\n",
    "\n",
    "for i in range(len(intensities)):\n",
    "    for m in mod_keys:\n",
    "        plt.plot(jacs[m][i], label=m)\n",
    "    plt.legend()\n",
    "    plt.show()\n",
    "    \n",
    "# for m in mod_keys:\n",
    "#     for i in range(len(intensities)):\n",
    "#         plt.plot(jacs[m][i], label=i)\n",
    "#     plt.legend()\n",
    "#     plt.title(m)\n",
    "#     plt.show()"
   ]
  },
  {
   "cell_type": "code",
   "execution_count": 26,
   "id": "latin-deployment",
   "metadata": {
    "ExecuteTime": {
     "end_time": "2021-09-17T06:48:14.450487Z",
     "start_time": "2021-09-17T06:48:14.381784Z"
    }
   },
   "outputs": [
    {
     "data": {
      "text/plain": [
       "'istdeco'"
      ]
     },
     "execution_count": 26,
     "metadata": {},
     "output_type": "execute_result"
    }
   ],
   "source": [
    "m"
   ]
  },
  {
   "cell_type": "markdown",
   "id": "viral-natural",
   "metadata": {},
   "source": [
    "bsub -gpu \"num=1\" -q gpu_any -o logs/ofish.log -e logs/efish.log /groups/turaga/home/speisera/anaconda3/envs/decode_fish_dev2/bin/python /groups/turaga/home/speisera/Mackebox/Artur/WorkDB/deepstorm/decode_fish/decode_fish/merfish_sim_eval.py "
   ]
  },
  {
   "cell_type": "code",
   "execution_count": null,
   "id": "potential-alliance",
   "metadata": {},
   "outputs": [],
   "source": []
  }
 ],
 "metadata": {
  "kernelspec": {
   "display_name": "Python [conda env:decode_fish_dev2]",
   "language": "python",
   "name": "conda-env-decode_fish_dev2-py"
  },
  "language_info": {
   "codemirror_mode": {
    "name": "ipython",
    "version": 3
   },
   "file_extension": ".py",
   "mimetype": "text/x-python",
   "name": "python",
   "nbconvert_exporter": "python",
   "pygments_lexer": "ipython3",
   "version": "3.7.11"
  }
 },
 "nbformat": 4,
 "nbformat_minor": 5
}
