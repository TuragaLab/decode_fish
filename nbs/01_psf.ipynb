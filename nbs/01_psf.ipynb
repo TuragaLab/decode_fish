{
 "cells": [
  {
   "cell_type": "code",
   "execution_count": null,
   "metadata": {},
   "outputs": [],
   "source": [
    "# default_exp engine.psf"
   ]
  },
  {
   "cell_type": "code",
   "execution_count": null,
   "metadata": {},
   "outputs": [],
   "source": [
    "%load_ext autoreload\n",
    "%autoreload 2"
   ]
  },
  {
   "cell_type": "markdown",
   "metadata": {},
   "source": [
    "# PSF model\n",
    "\n",
    "> Definition of the classes and functions we use to model PSFs"
   ]
  },
  {
   "cell_type": "code",
   "execution_count": null,
   "metadata": {},
   "outputs": [],
   "source": [
    "#export\n",
    "from decode_fish.imports import *\n",
    "import torch.nn as nn\n",
    "from torch.jit import script\n",
    "import torch.nn.functional as F\n",
    "from decode_fish.funcs.utils import *\n",
    "from decode_fish.funcs.plotting import *"
   ]
  },
  {
   "cell_type": "code",
   "execution_count": null,
   "metadata": {},
   "outputs": [],
   "source": [
    "#export\n",
    "class LinearInterpolatedPSF(nn.Module):\n",
    "    \"\"\" Stores a PSF volume parameter and enables linear subpixel interpolation\n",
    "\n",
    "    Args:\n",
    "        size_zyx: size of the psf volume in pixels\n",
    "        device: 'cuda' or 'cpu'\n",
    "\n",
    "    ToDo:\n",
    "        Eventually remove unneeded losses. \n",
    "    \"\"\"\n",
    "    \n",
    "    def __init__(self, size_zyx=[21,21,21], device='cuda'):\n",
    "        super().__init__()\n",
    "        \n",
    "        self.psf_size = list(np.array(size_zyx).astype('int'))\n",
    "        # +- /sz so that the values correspond to the pixel centers\n",
    "        v = [torch.linspace(-1+1/sz, 1-1/sz, int(sz)) for sz in self.psf_size]\n",
    "\n",
    "        # Buffers are not optimized\n",
    "        self.register_buffer('x', v[2])\n",
    "        self.register_buffer('y', v[1])\n",
    "        self.register_buffer('z', v[0])\n",
    "        self.device=device\n",
    "        self.psf_volume = nn.Parameter(0.01*torch.rand(1, *self.psf_size))\n",
    "        self.forward_nonlin = torch.nn.Identity()\n",
    "        \n",
    "    def forward(self, x_offset_val, y_offset_val, z_offset_val):\n",
    "        \"\"\" Returns the PSF volume for a number of given subpixel shift.\n",
    "        \n",
    "        Args:\n",
    "            x_offset_val, y_offset_val, z_offset_val: Vector of shifts in x,y,z\n",
    "            \n",
    "        Returns:\n",
    "            PSF volumes shifted by x,y,z\n",
    "        \"\"\"\n",
    "\n",
    "        N_em = x_offset_val.shape[0]\n",
    "        # Scale offsets by size. Factor of two because range [-1,1]\n",
    "        x_offset = 2 * x_offset_val.view(-1) / self.psf_size[2]  \n",
    "        y_offset = 2 * y_offset_val.view(-1) / self.psf_size[1]\n",
    "        z_offset = 2 * z_offset_val.view(-1) / self.psf_size[0]\n",
    "        i_img, x_grid, y_grid, z_grid = torch.meshgrid(torch.arange(N_em, dtype=torch.float32).to(self.device), self.x.to(self.device), self.y.to(self.device), self.z.to(self.device))\n",
    "\n",
    "        x_grid = x_grid - x_offset[:, None, None, None]\n",
    "        y_grid = y_grid - y_offset[:, None, None, None]\n",
    "        z_grid = z_grid - z_offset[:, None, None, None]\n",
    "\n",
    "        m_grid = torch.stack([x_grid, y_grid, z_grid], -1)\n",
    "        psf_out = torch.nn.functional.grid_sample(self.forward_nonlin(self.psf_volume).expand(N_em, -1, -1, -1, -1).to(self.device), m_grid, align_corners = False)\n",
    "        \n",
    "        return psf_out.transpose(-3,-1)\n",
    "    \n",
    "    def get_com(self):\n",
    "        \"\"\" Returns the center of mass of the squared volume.\"\"\"\n",
    "            \n",
    "        x_grid, y_grid, z_grid = torch.meshgrid(torch.arange(self.psf_size[0]),torch.arange(self.psf_size[1]),torch.arange(self.psf_size[2]))\n",
    "        m_grid = torch.stack([x_grid, y_grid, z_grid], -1).to(self.device)\n",
    "        \n",
    "        vol = (self.forward_nonlin(self.psf_volume[0])**2).to(self.device)\n",
    "\n",
    "        zc = (m_grid[:,:,:,0] * vol).sum()/vol.sum()\n",
    "        yc = (m_grid[:,:,:,1] * vol).sum()/vol.sum()\n",
    "        xc = (m_grid[:,:,:,2] * vol).sum()/vol.sum()\n",
    "        \n",
    "        return zc, yc, xc\n",
    "    \n",
    "    def com_loss(self):\n",
    "        \"\"\" Returns the difference between the current CoM and the center of the volume.\n",
    "        \n",
    "        Used as a loss term during AE training to avoid drift of the PSF.\n",
    "        \"\"\"\n",
    "        \n",
    "        return torch.norm(torch.stack(self.get_com()) - torch.tensor(self.psf_size).to(self.device)//2, 2)\n",
    "    \n",
    "    def clip_loss(self):\n",
    "        \"\"\" Returns the 2 norm of negative values of the PSF volume. \"\"\"\n",
    "        return torch.norm(torch.nn.ReLU().forward(-self.psf_volume).sum(), 2)\n",
    "    \n",
    "    def sum_loss(self):\n",
    "        \"\"\" Returns the 1 norm of the PSF volume. \"\"\"\n",
    "        return torch.norm(self.forward_nonlin(self.psf_volume).sum(), 1)"
   ]
  },
  {
   "cell_type": "code",
   "execution_count": null,
   "metadata": {},
   "outputs": [
    {
     "data": {
      "text/plain": [
       "_IncompatibleKeys(missing_keys=['x', 'y', 'z'], unexpected_keys=[])"
      ]
     },
     "execution_count": null,
     "metadata": {},
     "output_type": "execute_result"
    }
   ],
   "source": [
    "psf_state = torch.load('/groups/turaga/home/speisera/Mackebox/Artur/WorkDB/deepstorm/models/fishcod/msp300_smFISH/nb_run/msp300_smFISH_3_3/psf_init.pkl')\n",
    "shape_zyx = psf_state['psf_volume'][:,].shape[-3:]\n",
    "psf = LinearInterpolatedPSF((21,21,21))\n",
    "psf.load_state_dict({'psf_volume':psf_state['psf_volume']}, strict=False)"
   ]
  },
  {
   "cell_type": "code",
   "execution_count": null,
   "metadata": {},
   "outputs": [
    {
     "data": {
      "text/plain": [
       "(tensor(10., device='cuda:0', grad_fn=<DivBackward0>),\n",
       " tensor(10., device='cuda:0', grad_fn=<DivBackward0>),\n",
       " tensor(10., device='cuda:0', grad_fn=<DivBackward0>))"
      ]
     },
     "execution_count": null,
     "metadata": {},
     "output_type": "execute_result"
    }
   ],
   "source": [
    "psf.get_com()"
   ]
  },
  {
   "cell_type": "code",
   "execution_count": null,
   "metadata": {},
   "outputs": [
    {
     "data": {
      "text/plain": [
       "torch.Size([3, 1, 21, 21, 21])"
      ]
     },
     "execution_count": null,
     "metadata": {},
     "output_type": "execute_result"
    },
    {
     "data": {
      "image/png": "[encoded data removed]",
      "text/plain": [
       "<Figure size 907.2x864 with 6 Axes>"
      ]
     },
     "metadata": {
      "needs_background": "light"
     },
     "output_type": "display_data"
    }
   ],
   "source": [
    "shift_xyz = torch.tensor([-2,0.,+2]).cuda(),torch.tensor([-.5,0.,0]).cuda(),torch.tensor([0.,0.,0]).cuda()\n",
    "shifted_psf = psf(shift_xyz[0],shift_xyz[1],shift_xyz[2])\n",
    "# First output is the volume shifted_psfed 2 pixels to the left.\n",
    "fig, ax = plot_3d_projections(cpu(shifted_psf)[0,0])\n",
    "ax[0].plot([10+shift_xyz[0][0],10+shift_xyz[0][0]],[0,20], 'red')\n",
    "ax[0].plot([0,20], [10+shift_xyz[1][0],10+shift_xyz[1][0]], 'red')\n",
    "shifted_psf.shape"
   ]
  },
  {
   "cell_type": "code",
   "execution_count": null,
   "metadata": {},
   "outputs": [],
   "source": [
    "#export\n",
    "def crop_psf(psf, extent_zyx):\n",
    "    \"\"\"Returns a cropped version of a PSF\"\"\"\n",
    "    cropped_vol = center_crop(psf.psf_volume, extent_zyx)\n",
    "    cropped_psf = LinearInterpolatedPSF(extent_zyx)\n",
    "    cropped_psf.load_state_dict({'psf_volume':cropped_vol}, strict=False)\n",
    "    return cropped_psf"
   ]
  },
  {
   "cell_type": "code",
   "execution_count": null,
   "metadata": {},
   "outputs": [
    {
     "data": {
      "text/plain": [
       "(<Figure size 701.486x658.286 with 6 Axes>,\n",
       " [<AxesSubplot:ylabel='y'>,\n",
       "  <AxesSubplot:xlabel='x', ylabel='z'>,\n",
       "  <AxesSubplot:xlabel='z'>])"
      ]
     },
     "execution_count": null,
     "metadata": {},
     "output_type": "execute_result"
    },
    {
     "data": {
      "image/png": "[encoded data removed]",
      "text/plain": [
       "<Figure size 701.486x658.286 with 6 Axes>"
      ]
     },
     "metadata": {
      "needs_background": "light"
     },
     "output_type": "display_data"
    }
   ],
   "source": [
    "cropped_psf = crop_psf(psf,[11,21,21])\n",
    "plot_3d_projections(cropped_psf.psf_volume)"
   ]
  },
  {
   "cell_type": "code",
   "execution_count": null,
   "metadata": {},
   "outputs": [
    {
     "name": "stdout",
     "output_type": "stream",
     "text": [
      "Converted 00_models.ipynb.\n",
      "Converted 01_psf.ipynb.\n",
      "Converted 02_microscope.ipynb.\n",
      "Converted 03_noise.ipynb.\n",
      "Converted 04_pointsource.ipynb.\n",
      "Converted 05_gmm_loss.ipynb.\n",
      "Converted 06_plotting.ipynb.\n",
      "Converted 07_file_io.ipynb.\n",
      "Converted 08_dataset.ipynb.\n",
      "Converted 09_output_trafo.ipynb.\n",
      "Converted 10_evaluation.ipynb.\n",
      "Converted 11_emitter_io.ipynb.\n",
      "Converted 12_utils.ipynb.\n",
      "Converted 13_train.ipynb.\n",
      "Converted 15_fit_psf.ipynb.\n",
      "Converted 16_visualization.ipynb.\n",
      "Converted 17_eval_routines.ipynb.\n",
      "Converted 18_predict_funcs.ipynb.\n",
      "Converted index.ipynb.\n"
     ]
    }
   ],
   "source": [
    "!nbdev_build_lib"
   ]
  },
  {
   "cell_type": "code",
   "execution_count": null,
   "metadata": {},
   "outputs": [],
   "source": []
  }
 ],
 "metadata": {
  "kernelspec": {
   "display_name": "Python [conda env:decode2_dev]",
   "language": "python",
   "name": "conda-env-decode2_dev-py"
  }
 },
 "nbformat": 4,
 "nbformat_minor": 4
}
