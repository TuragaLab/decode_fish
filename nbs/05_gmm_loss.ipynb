{
 "cells": [
  {
   "cell_type": "code",
   "execution_count": null,
   "metadata": {},
   "outputs": [],
   "source": [
    "# default_exp engine.gmm_loss"
   ]
  },
  {
   "cell_type": "code",
   "execution_count": null,
   "metadata": {},
   "outputs": [],
   "source": [
    "%load_ext autoreload\n",
    "%autoreload 2"
   ]
  },
  {
   "cell_type": "markdown",
   "metadata": {},
   "source": [
    "# Loss function"
   ]
  },
  {
   "cell_type": "code",
   "execution_count": null,
   "metadata": {},
   "outputs": [],
   "source": [
    "#export\n",
    "from decode_fish.imports import *\n",
    "from torch import distributions as D, Tensor\n",
    "from torch.distributions import Distribution"
   ]
  },
  {
   "cell_type": "code",
   "execution_count": null,
   "metadata": {},
   "outputs": [],
   "source": [
    "#export\n",
    "class PointProcessGaussian(Distribution):\n",
    "    def __init__(self, logits: torch.tensor, xyzi_mu: torch.tensor, xyzi_sigma: torch.tensor, **kwargs):\n",
    "        \"\"\" Defines our loss function. Given logits, xyzi_mu and xyzi_sigma \n",
    "        \n",
    "        The count loss first constructs a Gaussian approximation to the predicted number of emitters by summing the mean and the variance of the Bernoulli detection probability map,\n",
    "        and then maximizes the probability of the true number of emitters under this distribution. \n",
    "        The localization loss models the distribution of sub-pixel localizations with a coordinate-wise independent Gaussian probability distribution  with a 3D standard deviation. \n",
    "        For imprecise localizations, this probability is maximized for large sigmas, for precise localizations for small sigmas. \n",
    "        The distribution of all localizations over the entire image is approximated as a weighted average of individual localization distributions, where the weights correspond to the probability of detection.\n",
    "        \n",
    "        Args:\n",
    "            logits: shape (B,1,D,H,W)\n",
    "            xyzi_mu: shape (B,4,D,H,W)\n",
    "            xyzi_sigma: shape (B,4,D,H,W)\n",
    "        \"\"\"\n",
    "        self.logits = logits\n",
    "        self.xyzi_mu = xyzi_mu\n",
    "        self.xyzi_sigma = xyzi_sigma\n",
    "\n",
    "    def log_prob(self, locations, x_offset, y_offset, z_offset, intensities, channel=0):\n",
    "        \"\"\" Creates the distributions for the count and localization loss and evaluates the log probability for the given set of localizations under those distriubtions.\n",
    "        \n",
    "            Args:\n",
    "                locations: tuple with voxel locations of inferred emitters\n",
    "                x_offset, y_offset,z_offset: continuous within pixel offsets. Has lenght of number of emitters in the whole batch.\n",
    "                intensties: brightness of emitters. Has lenght of number of emitters in the whole batch.\n",
    "                \n",
    "            Returns:\n",
    "                count_prob: count loss. Has langth of batch_size\n",
    "                spatial_prob: localizations loss. Has langth of batch_size\n",
    "        \"\"\"\n",
    "        \n",
    "        if locations[1].max() > 0:\n",
    "            ch_inds = locations[1]==channel\n",
    "            locations = [l[ch_inds] for l in locations]\n",
    "            x_offset = x_offset[ch_inds]\n",
    "            y_offset = y_offset[ch_inds]\n",
    "            z_offset = z_offset[ch_inds]\n",
    "            intensities = intensities[ch_inds]            \n",
    "        \n",
    "        batch_size = self.logits.shape[0]\n",
    "        xyzi, s_mask = get_true_labels(batch_size, locations, x_offset, y_offset, z_offset, intensities)\n",
    "        counts = s_mask.sum(-1)\n",
    "        \n",
    "        P = torch.sigmoid(self.logits) \n",
    "        count_mean = P.sum(dim=[2, 3, 4]).squeeze(-1)\n",
    "        count_var = (P - P ** 2).sum(dim=[2, 3, 4]).squeeze(-1) \n",
    "        count_dist = D.Normal(count_mean, torch.sqrt(count_var))\n",
    "                \n",
    "        count_prob =  count_dist.log_prob(counts) # * counts\n",
    "        \n",
    "        mixture_probs = P / P.sum(dim=[2, 3, 4], keepdim=True)\n",
    "        \n",
    "        pix_inds = torch.nonzero(P,as_tuple=True)\n",
    "\n",
    "        xyzi_mu = self.xyzi_mu[pix_inds[0],:,pix_inds[2],pix_inds[3],pix_inds[4]]\n",
    "        xyzi_mu[:,:3] += torch.stack([pix_inds[4],pix_inds[3],pix_inds[2]], 1) + 0.5\n",
    "\n",
    "        xyzi_mu = xyzi_mu.reshape(batch_size,-1,4)\n",
    "        xyzi_sig = self.xyzi_sigma[pix_inds[0],:,pix_inds[2],pix_inds[3],pix_inds[4]].reshape(batch_size,-1,4)\n",
    "\n",
    "        mix = D.Categorical(mixture_probs[pix_inds].reshape(batch_size,-1))\n",
    "        comp = D.Independent(D.Normal(xyzi_mu, xyzi_sig + 0.00001), 1)\n",
    "        spatial_gmm = D.MixtureSameFamily(mix, comp)\n",
    "        spatial_prob = spatial_gmm.log_prob(xyzi.transpose(0, 1)).transpose(0,1)\n",
    "        spatial_prob = (spatial_prob * s_mask).sum(-1)\n",
    " \n",
    "        return count_prob, spatial_prob\n",
    "\n",
    "def get_sample_mask(bs, locations):\n",
    "    \n",
    "    counts_ = torch.unique(locations[0], return_counts=True)[1]\n",
    "    batch_loc = torch.unique(locations[0])\n",
    "    \n",
    "    counts = torch.cuda.LongTensor(bs).fill_(0)\n",
    "    counts[batch_loc] = counts_\n",
    "    \n",
    "    max_counts = counts.max()\n",
    "    if max_counts==0: max_counts = 1 #if all 0 will return empty matrix of correct size\n",
    "    s_arr = cum_count_per_group(locations[0])\n",
    "    s_mask   = torch.cuda.FloatTensor(bs,max_counts).fill_(0)\n",
    "    s_mask[locations[0],s_arr] = 1   \n",
    "    \n",
    "    return s_mask, s_arr\n",
    "    \n",
    "def get_true_labels(bs, locations, x_os, y_os, z_os, *args):\n",
    "    \n",
    "    s_mask, s_arr = get_sample_mask(bs, locations)\n",
    "    max_counts = s_mask.shape[1]\n",
    "    \n",
    "    x =  x_os + locations[4].type(torch.cuda.FloatTensor) + 0.5 \n",
    "    y =  y_os + locations[3].type(torch.cuda.FloatTensor) + 0.5 \n",
    "    z =  z_os + locations[2].type(torch.cuda.FloatTensor) + 0.5 \n",
    "    \n",
    "    gt_vars = torch.stack([x, y, z] + [item for item in args], dim=1)\n",
    "    gt_list = torch.cuda.FloatTensor(bs,max_counts,gt_vars.shape[1]).fill_(0)\n",
    "    \n",
    "    gt_list[locations[0],s_arr] = gt_vars\n",
    "    return gt_list, s_mask\n",
    "\n",
    "def grp_range(counts: torch.Tensor):\n",
    "    assert counts.dim() == 1\n",
    "\n",
    "    idx = counts.cumsum(0)\n",
    "    id_arr = torch.ones(idx[-1], dtype=int, device=counts.device)\n",
    "    id_arr[0] = 0\n",
    "    id_arr[idx[:-1]] = -counts[:-1] + 1\n",
    "    return id_arr.cumsum(0)\n",
    "\n",
    "def cum_count_per_group(arr):\n",
    "    \"\"\"\n",
    "    Helper function that returns the cumulative sum per group.\n",
    "    Example:\n",
    "        [0, 0, 0, 1, 2, 2, 0] --> [0, 1, 2, 0, 0, 1, 3]\n",
    "    \"\"\"\n",
    "\n",
    "    if arr.numel() == 0:\n",
    "        return arr\n",
    "\n",
    "    _, cnt = torch.unique(arr, return_counts=True)\n",
    "    return grp_range(cnt)[np.argsort(np.argsort(arr.cpu().numpy(), kind='mergesort'), kind='mergesort')]"
   ]
  },
  {
   "cell_type": "code",
   "execution_count": null,
   "metadata": {},
   "outputs": [
    {
     "data": {
      "text/plain": [
       "torch.Size([2, 1, 48, 48, 48])"
      ]
     },
     "execution_count": null,
     "metadata": {},
     "output_type": "execute_result"
    }
   ],
   "source": [
    "model_out = torch.load('../data/model_batch_output.pt')\n",
    "model_out.keys()\n",
    "model_out['logits'].shape"
   ]
  },
  {
   "cell_type": "code",
   "execution_count": null,
   "metadata": {},
   "outputs": [],
   "source": [
    "from decode_fish.engine.point_process import PointProcessUniform\n",
    "point_process = PointProcessUniform(local_rate = torch.ones([2,1,48,48,48])*.0001, sim_iters=5)\n",
    "locs_3d, x_os_3d, y_os_3d, z_os_3d, ints_3d, output_shape = point_process.sample()"
   ]
  },
  {
   "cell_type": "code",
   "execution_count": null,
   "metadata": {},
   "outputs": [
    {
     "name": "stdout",
     "output_type": "stream",
     "text": [
      "17\n",
      "tensor([[1., 1., 1., 1., 1., 1., 1., 1., 1., 1., 1., 1., 1.],\n",
      "        [1., 1., 1., 1., 0., 0., 0., 0., 0., 0., 0., 0., 0.]], device='cuda:0')\n",
      "tensor([13.,  4.], device='cuda:0')\n"
     ]
    }
   ],
   "source": [
    "locs_3d = [l.cuda() for l in locs_3d]\n",
    "xyzi_true, s_mask = get_true_labels(2, locs_3d, x_os_3d.cuda(), y_os_3d.cuda(), z_os_3d.cuda(), ints_3d.cuda())\n",
    "print(len(locs_3d[0]))\n",
    "print(s_mask)\n",
    "print(s_mask.sum(-1))"
   ]
  },
  {
   "cell_type": "code",
   "execution_count": null,
   "metadata": {},
   "outputs": [
    {
     "data": {
      "text/plain": [
       "(tensor([-2.0836, -4.5372], device='cuda:0', grad_fn=<SubBackward0>),\n",
       " tensor([-931.7775, -274.8009], device='cuda:0', grad_fn=<SumBackward1>))"
      ]
     },
     "execution_count": null,
     "metadata": {},
     "output_type": "execute_result"
    }
   ],
   "source": [
    "gmm_loss = PointProcessGaussian(**model_out).log_prob(locs_3d, x_os_3d.cuda(), y_os_3d.cuda(), z_os_3d.cuda(), ints_3d.cuda())\n",
    "gmm_loss"
   ]
  },
  {
   "cell_type": "code",
   "execution_count": null,
   "metadata": {},
   "outputs": [],
   "source": [
    "for i in range(1000):\n",
    "    gmm_loss = PointProcessGaussian(**model_out).log_prob(locs_3d, x_os_3d.cuda(), y_os_3d.cuda(), z_os_3d.cuda(), ints_3d.cuda())"
   ]
  },
  {
   "cell_type": "code",
   "execution_count": null,
   "metadata": {},
   "outputs": [
    {
     "name": "stdout",
     "output_type": "stream",
     "text": [
      "Converted 00_models.ipynb.\n",
      "Converted 01_psf.ipynb.\n",
      "Converted 02_microscope.ipynb.\n",
      "Converted 03_noise.ipynb.\n",
      "Converted 04_pointsource.ipynb.\n",
      "Converted 05_gmm_loss.ipynb.\n",
      "Converted 06_plotting.ipynb.\n",
      "Converted 07_file_io.ipynb.\n",
      "Converted 08_dataset.ipynb.\n",
      "Converted 09_output_trafo.ipynb.\n",
      "Converted 10_evaluation.ipynb.\n",
      "Converted 11_emitter_io.ipynb.\n",
      "Converted 12_utils.ipynb.\n",
      "Converted 13_train.ipynb.\n",
      "Converted 15_fit_psf.ipynb.\n",
      "Converted 16_visualization.ipynb.\n",
      "Converted 17_eval_routines.ipynb.\n",
      "Converted index.ipynb.\n"
     ]
    }
   ],
   "source": [
    "!nbdev_build_lib"
   ]
  },
  {
   "cell_type": "code",
   "execution_count": null,
   "metadata": {},
   "outputs": [],
   "source": []
  }
 ],
 "metadata": {
  "kernelspec": {
   "display_name": "Python [conda env:decode2_dev]",
   "language": "python",
   "name": "conda-env-decode2_dev-py"
  }
 },
 "nbformat": 4,
 "nbformat_minor": 4
}
