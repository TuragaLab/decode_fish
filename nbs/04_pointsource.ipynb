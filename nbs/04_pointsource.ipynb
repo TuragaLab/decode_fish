{
 "cells": [
  {
   "cell_type": "code",
   "execution_count": null,
   "metadata": {},
   "outputs": [],
   "source": [
    "# default_exp engine.point_process"
   ]
  },
  {
   "cell_type": "code",
   "execution_count": null,
   "metadata": {},
   "outputs": [],
   "source": [
    "%load_ext autoreload\n",
    "%autoreload 2"
   ]
  },
  {
   "cell_type": "markdown",
   "metadata": {},
   "source": [
    "# Emitter distribution\n",
    "\n",
    "> Definition of the class used to simulate random emitter positions and intensities"
   ]
  },
  {
   "cell_type": "code",
   "execution_count": null,
   "metadata": {},
   "outputs": [],
   "source": [
    "#export\n",
    "from decode_fish.imports import *\n",
    "from torch import distributions as D, Tensor\n",
    "from torch.distributions import Distribution\n",
    "from decode_fish.funcs.utils import *"
   ]
  },
  {
   "cell_type": "code",
   "execution_count": null,
   "metadata": {},
   "outputs": [],
   "source": [
    "#export\n",
    "class PointProcessUniform(Distribution):\n",
    "    \"\"\"\n",
    "    This class is part of the generative model and uses the probability local_rate to generate sample locations on the voxel grid.  \n",
    "    For each emitter we then sample x-,y- and z-offsets uniformly in the range [-0.5,0.5] to get continuous locations.\n",
    "    Intensities are sampled from a gamma distribution torch.distirubtions.gamma(int_conc, int_rate) which is shifted by int_loc.\n",
    "    Together with the microscope.scale and the PSF this results in the overall brightness of an emitter.\n",
    "    \n",
    "    Args:\n",
    "        local_rate torch.tensor . shape(BS, C, H, W, D): Local rate\n",
    "        int_conc=0., int_rate=1., int_loc (float): parameters of the intensity gamma distribution\n",
    "        sim_iters (int): instead of sampling once from local_rate, we sample sim_iters times from local_rate/sim_iters. \n",
    "            This results in the same average number of sampled emitters but allows us to sample multiple emitters within one voxel.\n",
    "\n",
    "    \"\"\"\n",
    "    def __init__(self, local_rate: torch.tensor, int_conc=0., int_rate=1., int_loc=1., sim_iters: int = 5, channels=1, n_bits=1, sim_z=True, codebook=None, phase_fac=0.2):\n",
    "\n",
    "        assert sim_iters >= 1\n",
    "        self.local_rate = local_rate\n",
    "        self.device = self._get_device(self.local_rate)\n",
    "        self.sim_iters = sim_iters\n",
    "        self.int_conc = int_conc\n",
    "        self.int_rate = int_rate\n",
    "        self.int_loc = int_loc\n",
    "        self.channels = channels\n",
    "        self.n_bits = n_bits\n",
    "        self.sim_z=sim_z\n",
    "        self.codebook=codebook\n",
    "        self.phase_fac=phase_fac\n",
    "        \n",
    "    def sample(self, from_code_book=False, phasing=False):\n",
    "\n",
    "        res_ = [self._sample(self.local_rate/self.sim_iters, from_code_book, phasing) for i in range(self.sim_iters)]\n",
    "        locations = torch.cat([i[0] for i in res_], dim=0)\n",
    "        x_offset = torch.cat([i[1] for i in res_], dim=0)\n",
    "        y_offset = torch.cat([i[2] for i in res_], dim=0)\n",
    "        z_offset = torch.cat([i[3] for i in res_], dim=0)\n",
    "        intensities = torch.cat([i[4] for i in res_], dim=0)\n",
    "\n",
    "        return list(locations.T), x_offset, y_offset, z_offset, intensities, res_[0][5]\n",
    "\n",
    "    def _sample(self, local_rate, from_code_book, phasing):\n",
    "\n",
    "        output_shape = list(local_rate.shape)\n",
    "        local_rate = torch.clamp(local_rate,0.,1.)\n",
    "        locations = D.Bernoulli(local_rate).sample()\n",
    "        n_emitter = int(locations.sum().item())\n",
    "        zero_point_five = torch.tensor(0.5, device=self.device)\n",
    "        x_offset = D.Uniform(low=0 - zero_point_five, high=0 + zero_point_five).sample(sample_shape=[n_emitter])\n",
    "        y_offset = D.Uniform(low=0 - zero_point_five, high=0 + zero_point_five).sample(sample_shape=[n_emitter])\n",
    "        z_offset = D.Uniform(low=0 - zero_point_five, high=0 + zero_point_five).sample(sample_shape=[n_emitter])\n",
    "        intensities = D.Gamma(self.int_conc, self.int_rate).sample(sample_shape=[n_emitter*self.n_bits]).to(self.device) + self.int_loc    \n",
    "        \n",
    "        # If 2D data z-offset is 0\n",
    "        if not self.sim_z:\n",
    "            z_offset *= 0\n",
    "    \n",
    "        locations = locations.nonzero(as_tuple=False)\n",
    "\n",
    "        if self.channels > 1:\n",
    "            if from_code_book:\n",
    "                ch_draw = torch.randint(0, len(self.codebook),size=[n_emitter])\n",
    "                ch_draw = self.codebook[ch_draw]\n",
    "            else:\n",
    "                ch_draw = torch.multinomial(torch.ones([n_emitter,self.channels])/self.channels, self.n_bits, replacement=False)\n",
    "            locations = locations.repeat_interleave(self.n_bits, 0)\n",
    "            locations[:, 1] = ch_draw.reshape(-1)\n",
    "            \n",
    "            # Exact positions are shared, but not intensities. Problems due to drift?\n",
    "            x_offset = x_offset.repeat_interleave(self.n_bits, 0)\n",
    "            y_offset = y_offset.repeat_interleave(self.n_bits, 0)\n",
    "            z_offset = z_offset.repeat_interleave(self.n_bits, 0)\n",
    "            \n",
    "            output_shape[1] = self.channels\n",
    "            \n",
    "            if phasing:\n",
    "                locations = locations.repeat_interleave(2, 0)\n",
    "                locations[1::2,1] = locations[1::2,1] + 1\n",
    "                x_offset = x_offset.repeat_interleave(2, 0)\n",
    "                y_offset = y_offset.repeat_interleave(2, 0)\n",
    "                z_offset = z_offset.repeat_interleave(2, 0)       \n",
    "                intensities = intensities.repeat_interleave(2, 0)   \n",
    "                \n",
    "                phase_facs = torch.rand(size=intensities[1::2].shape, device=intensities.device) * self.phase_fac\n",
    "                intensities[1::2] = intensities[1::2]*phase_facs\n",
    "                \n",
    "                inds = [locations[:,1] < self.channels][0]\n",
    "                x_offset, y_offset, z_offset = x_offset[inds], y_offset[inds], z_offset[inds]\n",
    "                intensities = intensities[inds]\n",
    "                locations = locations[inds]\n",
    "            \n",
    "        return locations, x_offset, y_offset, z_offset, intensities, tuple(output_shape)\n",
    "\n",
    "\n",
    "    def log_prob(self, locations, x_offset=None, y_offset=None, z_offset=None, intensities=None, output_shape=None):\n",
    "        locations = list_to_locations(locations, output_shape)\n",
    "        log_prob = D.Bernoulli(self.local_rate).log_prob(locations)\n",
    "        return log_prob\n",
    "\n",
    "    @staticmethod\n",
    "    def _get_device(x):\n",
    "        return getattr(x, 'device')\n",
    "    \n",
    "\n",
    "def list_to_locations(locations, output_shape):\n",
    "    tmp =torch.zeros(output_shape, device=locations[0].device)\n",
    "    coord = torch.stack(locations).T\n",
    "    #incase you have multiple emitter present\n",
    "    for i in coord: tmp[tuple(i)] += 1\n",
    "    return tmp"
   ]
  },
  {
   "cell_type": "code",
   "execution_count": null,
   "metadata": {},
   "outputs": [
    {
     "name": "stdout",
     "output_type": "stream",
     "text": [
      "13832\n"
     ]
    }
   ],
   "source": [
    "from decode_fish.funcs.merfish_eval2 import *\n",
    "bench_df, code_ref, targets = get_benchmark()\n",
    "code_inds = np.stack([np.nonzero(c)[0] for c in code_ref])"
   ]
  },
  {
   "cell_type": "code",
   "execution_count": null,
   "metadata": {},
   "outputs": [],
   "source": [
    "point_process = PointProcessUniform(local_rate = torch.ones([2,1,1,48,48])*.3, int_conc=3, int_rate=1, int_loc=1, sim_iters=1, channels=16, n_bits=4, codebook=torch.tensor(code_inds))\n",
    "locs_3d, x_os_3d, y_os_3d, z_os_3d, ints_3d, output_shape = point_process.sample(from_code_book=False, phasing=True)"
   ]
  },
  {
   "cell_type": "code",
   "execution_count": null,
   "metadata": {},
   "outputs": [
    {
     "data": {
      "text/plain": [
       "(array([ 0.,  0.,  3., 21., 22., 41., 51., 36., 30., 36., 19., 12., 10.,\n",
       "         8.,  6., 10.,  2.,  2.,  1.,  3.]),\n",
       " array([ 0. ,  0.5,  1. ,  1.5,  2. ,  2.5,  3. ,  3.5,  4. ,  4.5,  5. ,\n",
       "         5.5,  6. ,  6.5,  7. ,  7.5,  8. ,  8.5,  9. ,  9.5, 10. ]),\n",
       " <BarContainer object of 20 artists>)"
      ]
     },
     "execution_count": null,
     "metadata": {},
     "output_type": "execute_result"
    },
    {
     "data": {
      "image/png": "[encoded data removed]",
      "text/plain": [
       "<Figure size 432x288 with 1 Axes>"
      ]
     },
     "metadata": {
      "needs_background": "light"
     },
     "output_type": "display_data"
    }
   ],
   "source": [
    "plt.hist(ints_3d[locs_3d[1] == 0].numpy(), bins=np.linspace(0,10,21))"
   ]
  },
  {
   "cell_type": "code",
   "execution_count": null,
   "metadata": {},
   "outputs": [],
   "source": [
    "b_inds = [0] + list(np.diff(x_os_3d).nonzero()[0]+1) + [len(x_os_3d)]"
   ]
  },
  {
   "cell_type": "code",
   "execution_count": null,
   "metadata": {},
   "outputs": [],
   "source": [
    "loc_idx = []\n",
    "for i in range(len(b_inds)  -1):\n",
    "    loc_idx += [i] * (b_inds[i+1] - b_inds[i])"
   ]
  },
  {
   "cell_type": "code",
   "execution_count": null,
   "metadata": {},
   "outputs": [],
   "source": [
    "def sample_to_df(locs, x_os, y_os, z_os, ints, px_size_zyx=[100,100,100], channels=16, n_bits=4):\n",
    "    \n",
    "    x = locs[-1] + x_os + 0.5 \n",
    "    y = locs[-2] + y_os + 0.5 \n",
    "    z = locs[-3] + z_os + 0.5 \n",
    "    \n",
    "    b_inds = [0] + list(np.diff(x_os_3d).nonzero()[0]+1) + [len(x_os_3d)]\n",
    "    n_gt = len(b_inds) - 1\n",
    "\n",
    "    frame_idx = locs[0]\n",
    "    ch_idx = locs[1]\n",
    "    \n",
    "    loc_idx = []\n",
    "    for i in range(n_gt):\n",
    "        loc_idx += [i] * (b_inds[i+1] - b_inds[i])\n",
    "    \n",
    "    df = DF({'loc_idx': loc_idx,\n",
    "             'frame_idx': frame_idx.cpu(),\n",
    "             'ch_idx': ch_idx.cpu(),\n",
    "             'x': x.cpu()*px_size_zyx[2],\n",
    "             'y': y.cpu()*px_size_zyx[1], \n",
    "             'z': z.cpu()*px_size_zyx[0],\n",
    "             'int': ints.cpu()}) \n",
    "    \n",
    "    int_arr = np.zeros([n_gt, channels])\n",
    "    int_arr[df['loc_idx'], df['ch_idx']] = ints.cpu()\n",
    "    \n",
    "    df = df.iloc[b_inds[:-1]]\n",
    "    for i in range(16):\n",
    "        df[f'int_{i}'] = int_arr[:,i]\n",
    "\n",
    "    return df"
   ]
  },
  {
   "cell_type": "code",
   "execution_count": null,
   "metadata": {},
   "outputs": [],
   "source": [
    "# from decode_fish.funcs.output_trafo import sample_to_df\n",
    "target_df = sample_to_df(locs_3d, x_os_3d, y_os_3d, z_os_3d, ints_3d, px_size_zyx=[100,100,100])"
   ]
  },
  {
   "cell_type": "code",
   "execution_count": null,
   "metadata": {},
   "outputs": [
    {
     "name": "stdout",
     "output_type": "stream",
     "text": [
      "Converted 00_models.ipynb.\n",
      "Converted 01_psf.ipynb.\n",
      "Converted 02_microscope.ipynb.\n",
      "Converted 03_noise.ipynb.\n",
      "Converted 04_pointsource.ipynb.\n",
      "Converted 05_gmm_loss.ipynb.\n",
      "Converted 06_plotting.ipynb.\n",
      "Converted 07_file_io.ipynb.\n",
      "Converted 08_dataset.ipynb.\n",
      "Converted 09_output_trafo.ipynb.\n",
      "Converted 10_evaluation.ipynb.\n",
      "Converted 11_emitter_io.ipynb.\n",
      "Converted 12_utils.ipynb.\n",
      "Converted 13_train.ipynb.\n",
      "Converted 15_fit_psf.ipynb.\n",
      "Converted 16_visualization.ipynb.\n",
      "Converted 17_eval_routines.ipynb.\n",
      "Converted 18_predict_funcs.ipynb.\n",
      "Converted 19_MERFISH_routines.ipynb.\n",
      "Converted 20_MERFISH_visualization.ipynb.\n",
      "Converted 22_MERFISH_codenet.ipynb.\n",
      "Converted index.ipynb.\n"
     ]
    }
   ],
   "source": [
    "!nbdev_build_lib"
   ]
  },
  {
   "cell_type": "code",
   "execution_count": null,
   "metadata": {},
   "outputs": [],
   "source": []
  }
 ],
 "metadata": {
  "kernelspec": {
   "display_name": "Python [conda env:decode_fish_dev]",
   "language": "python",
   "name": "conda-env-decode_fish_dev-py"
  }
 },
 "nbformat": 4,
 "nbformat_minor": 4
}
