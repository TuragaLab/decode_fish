{
 "cells": [
  {
   "cell_type": "code",
   "execution_count": null,
   "metadata": {},
   "outputs": [],
   "source": [
    "# default_exp funcs.tt_rescale"
   ]
  },
  {
   "cell_type": "code",
   "execution_count": null,
   "metadata": {},
   "outputs": [],
   "source": [
    "%load_ext autoreload\n",
    "%autoreload 2"
   ]
  },
  {
   "cell_type": "markdown",
   "metadata": {},
   "source": [
    "# Training loop simulator learning"
   ]
  },
  {
   "cell_type": "code",
   "execution_count": null,
   "metadata": {},
   "outputs": [],
   "source": [
    "# export\n",
    "from decode_fish.imports import *\n",
    "from decode_fish.funcs.evaluation import *\n",
    "from decode_fish.funcs.file_io import *\n",
    "from decode_fish.funcs.emitter_io import *\n",
    "from decode_fish.funcs.utils import *\n",
    "from decode_fish.funcs.dataset import *\n",
    "from decode_fish.funcs.output_trafo import *\n",
    "from decode_fish.funcs.plotting import *\n",
    "from decode_fish.funcs.predict import *\n",
    "import torch.nn.functional as F\n",
    "from torch import distributions as D\n",
    "from torch.utils.data import DataLoader\n",
    "import torch_optimizer\n",
    "from decode_fish.engine.microscope import Microscope, get_roi_filt_inds, extract_psf_roi, mic_inp_apply_inds, add_pos_noise, concat_micro_inp\n",
    "from decode_fish.engine.model import UnetDecodeNoBn\n",
    "from decode_fish.engine.point_process import PointProcessUniform, get_phased_ints\n",
    "from decode_fish.engine.gmm_loss import PointProcessGaussian\n",
    "import shutil\n",
    "import wandb\n",
    "import kornia\n",
    "\n",
    "from hydra import compose, initialize\n",
    "from decode_fish.funcs.merfish_eval import *\n",
    "from decode_fish.funcs.exp_specific import *\n",
    "# from decode_fish.funcs.visualization vimport get_simulation_statistics"
   ]
  },
  {
   "cell_type": "code",
   "execution_count": null,
   "metadata": {},
   "outputs": [],
   "source": [
    "os.environ[\"CUDA_VISIBLE_DEVICES\"] = '1'"
   ]
  },
  {
   "cell_type": "code",
   "execution_count": null,
   "metadata": {},
   "outputs": [],
   "source": [
    "losses = []"
   ]
  },
  {
   "cell_type": "code",
   "execution_count": null,
   "metadata": {},
   "outputs": [],
   "source": [
    "#export \n",
    "def rescale_train(cfg,\n",
    "          model, \n",
    "          microscope,\n",
    "          post_proc,\n",
    "          dl, \n",
    "          optim_dict):\n",
    "    \n",
    "    save_dir = Path(cfg.output.save_dir)\n",
    "    model.cuda()\n",
    "\n",
    "    # Load codebook \n",
    "    if 'codebook' in cfg:\n",
    "        code_ref, targets = hydra.utils.instantiate(cfg.codebook)\n",
    "\n",
    "    # Controls which genmodel parameters are optimized\n",
    "    for name, p in microscope.named_parameters():\n",
    "        if name == 'channel_facs':\n",
    "            p.requires_grad = True\n",
    "        else:\n",
    "            False\n",
    "\n",
    "    for batch_idx in range(0, cfg.training.num_iters+1):\n",
    "\n",
    "        optim_dict['optim_mic'].zero_grad()\n",
    "\n",
    "        with torch.no_grad():\n",
    "            \n",
    "            ret_dict = next(iter(dl))\n",
    "            x, local_rate, background = ret_dict['x'], ret_dict['local_rate'], ret_dict['background'] \n",
    "            zcrop, ycrop, xcrop = ret_dict['crop_z'], ret_dict['crop_y'], ret_dict['crop_x']\n",
    "        \n",
    "            x = x * microscope.get_ch_mult().detach()\n",
    "            colshift_crop = get_color_shift_inp(microscope.color_shifts, microscope.col_shifts_yx, ycrop, xcrop, cfg.sim.random_crop.crop_sz)\n",
    "        \n",
    "            out_inp = model.tensor_to_dict(model(torch.concat([x, colshift_crop], 1)))\n",
    "            proc_out_inp = post_proc.get_micro_inp(out_inp)\n",
    "        \n",
    "        if len(proc_out_inp[1]) > 0:\n",
    "        \n",
    "            ch_out_inp = microscope.get_single_ch_inputs(*proc_out_inp, ycrop=ycrop.flatten(), xcrop=xcrop.flatten())\n",
    "\n",
    "            # Get ch_fac loss\n",
    "            ch_inds = ch_out_inp[0][1]\n",
    "            int_vals = ch_out_inp[-2]\n",
    "\n",
    "            int_means = torch.ones(cfg.genm.exp_type.n_channels).cuda()\n",
    "            for i in range(cfg.genm.exp_type.n_channels):\n",
    "                if i in ch_inds:\n",
    "                    int_means[i] = int_vals[ch_inds == i].mean() / int_vals.mean()\n",
    "\n",
    "            ch_fac_loss = torch.sqrt(torch.mean((microscope.channel_facs - microscope.channel_facs.detach() / int_means)**2))\n",
    "\n",
    "            ch_fac_loss.backward()\n",
    "            torch.nn.utils.clip_grad_norm_(microscope.parameters(), max_norm=cfg.training.mic.grad_clip, norm_type=2)\n",
    "\n",
    "            optim_dict['optim_mic'].step()\n",
    "            optim_dict['sched_mic'].step()\n",
    "            \n",
    "            losses.append(ch_fac_loss.item())\n",
    "\n",
    "            # Logging\n",
    "            if batch_idx % cfg.output.log_interval == 0:\n",
    "\n",
    "                print(ch_fac_loss)"
   ]
  },
  {
   "cell_type": "code",
   "execution_count": null,
   "metadata": {},
   "outputs": [
    {
     "data": {
      "text/plain": [
       "0.00025"
      ]
     },
     "execution_count": null,
     "metadata": {},
     "output_type": "execute_result"
    }
   ],
   "source": [
    "cfg = OmegaConf.load(f'/groups/turaga/home/speisera/Mackebox/Artur/WorkDB/deepstorm/models/fishcod/MERFISH_MOp/sweep_mop_20/schedule:nullxfreq:1//train.yaml')\n",
    "\n",
    "cfg.output.log_interval = 20\n",
    "cfg.training.bs = 30\n",
    "cfg.genm.microscope.norm='none'\n",
    "\n",
    "cfg.training.num_iters = 5000\n",
    "cfg.training.mic.opt.lr\n"
   ]
  },
  {
   "cell_type": "code",
   "execution_count": null,
   "metadata": {},
   "outputs": [],
   "source": [
    "cfg.training.mic.opt.lr = 0.0005"
   ]
  },
  {
   "cell_type": "code",
   "execution_count": null,
   "metadata": {},
   "outputs": [],
   "source": [
    "cfg.data_path.image_path = '/groups/turaga/home/speisera/Mackebox/Artur/WorkDB/deepstorm//datasets/CodFish/MERFISH/MOp/mouse1_sample1_raw/aligned_images151.tif'"
   ]
  },
  {
   "cell_type": "code",
   "execution_count": null,
   "metadata": {},
   "outputs": [],
   "source": [
    "psf, noise, micro = load_psf_noise_micro(cfg)\n",
    "post_proc = hydra.utils.instantiate(cfg.post_proc_isi)\n",
    "post_proc.samp_threshold = 0.5"
   ]
  },
  {
   "cell_type": "code",
   "execution_count": null,
   "metadata": {},
   "outputs": [
    {
     "name": "stdout",
     "output_type": "stream",
     "text": [
      "Crop size larger than volume in at least one dimension. Crop size changed to (1, 56, 56)\n",
      "7 volumes\n"
     ]
    },
    {
     "name": "stderr",
     "output_type": "stream",
     "text": [
      "/groups/turaga/home/speisera/anaconda3/envs/decode_fish_dev2/lib/python3.8/site-packages/torch/functional.py:568: UserWarning: torch.meshgrid: in an upcoming release, it will be required to pass the indexing argument. (Triggered internally at  ../aten/src/ATen/native/TensorShape.cpp:2228.)\n",
      "  return _VF.meshgrid(tensors, **kwargs)  # type: ignore[attr-defined]\n"
     ]
    }
   ],
   "source": [
    "img_3d, decode_dl = get_dataloader(cfg)"
   ]
  },
  {
   "cell_type": "code",
   "execution_count": null,
   "metadata": {},
   "outputs": [
    {
     "data": {
      "text/plain": [
       "Microscope(\n",
       "  (psf): LinearInterpolatedPSF(\n",
       "    (forward_nonlin): Identity()\n",
       "  )\n",
       "  (noise): sCMOS()\n",
       ")"
      ]
     },
     "execution_count": null,
     "metadata": {},
     "output_type": "execute_result"
    }
   ],
   "source": [
    "model = hydra.utils.instantiate(cfg.network, inp_scale=1., inp_offset=1.)\n",
    "\n",
    "psf  .to('cuda')\n",
    "model.to('cuda')\n",
    "micro.to('cuda')"
   ]
  },
  {
   "cell_type": "code",
   "execution_count": null,
   "metadata": {},
   "outputs": [
    {
     "data": {
      "text/plain": [
       "<All keys matched successfully>"
      ]
     },
     "execution_count": null,
     "metadata": {},
     "output_type": "execute_result"
    }
   ],
   "source": [
    "model = load_model_state(model, Path(cfg.output.save_dir)/'model.pkl').cuda()\n",
    "micro.load_state_dict(torch.load(Path(cfg.output.save_dir)/'microscope.pkl'), strict=False)"
   ]
  },
  {
   "cell_type": "code",
   "execution_count": null,
   "metadata": {},
   "outputs": [],
   "source": [
    "tra = cpu(micro.channel_facs)"
   ]
  },
  {
   "cell_type": "code",
   "execution_count": null,
   "metadata": {},
   "outputs": [
    {
     "data": {
      "text/plain": [
       "[<matplotlib.lines.Line2D at 0x7f1755379bb0>]"
      ]
     },
     "execution_count": null,
     "metadata": {},
     "output_type": "execute_result"
    },
    {
     "data": {
      "image/png": "[encoded data removed]",
      "text/plain": [
       "<Figure size 432x288 with 1 Axes>"
      ]
     },
     "metadata": {
      "needs_background": "light"
     },
     "output_type": "display_data"
    }
   ],
   "source": [
    "plt.plot(tra)\n",
    "plt.plot(cpu(micro.channel_facs))"
   ]
  },
  {
   "cell_type": "code",
   "execution_count": null,
   "metadata": {},
   "outputs": [
    {
     "data": {
      "text/plain": [
       "[<matplotlib.lines.Line2D at 0x7f174d7c22e0>]"
      ]
     },
     "execution_count": null,
     "metadata": {},
     "output_type": "execute_result"
    },
    {
     "data": {
      "image/png": "[encoded data removed]",
      "text/plain": [
       "<Figure size 432x288 with 1 Axes>"
      ]
     },
     "metadata": {
      "needs_background": "light"
     },
     "output_type": "display_data"
    }
   ],
   "source": [
    "plt.plot(tra)\n",
    "plt.plot(cpu(micro.channel_facs))"
   ]
  },
  {
   "cell_type": "code",
   "execution_count": null,
   "metadata": {},
   "outputs": [
    {
     "data": {
      "text/plain": [
       "Parameter containing:\n",
       "tensor([1.3321, 1.2242, 1.2369, 1.2348, 1.3703, 1.1983, 1.3522, 1.3327, 1.1642,\n",
       "        1.3686, 1.2463, 1.2624, 1.4166, 1.2304, 1.2533, 1.3763, 1.3972, 1.1843,\n",
       "        1.3813, 1.3387, 1.3632, 1.4365], device='cuda:0', requires_grad=True)"
      ]
     },
     "execution_count": null,
     "metadata": {},
     "output_type": "execute_result"
    }
   ],
   "source": [
    "micro.channel_facs"
   ]
  },
  {
   "cell_type": "code",
   "execution_count": null,
   "metadata": {},
   "outputs": [],
   "source": [
    "optim_dict = {}\n",
    "optim_dict['optim_mic'] = hydra.utils.instantiate(cfg.training.mic.opt, params=micro.parameters())\n",
    "optim_dict['sched_mic'] = hydra.utils.instantiate(cfg.training.mic.sched, optimizer=optim_dict['optim_mic'])"
   ]
  },
  {
   "cell_type": "code",
   "execution_count": null,
   "metadata": {},
   "outputs": [],
   "source": [
    "code_ref, targets = hydra.utils.instantiate(cfg.codebook)\n",
    "post_proc.codebook = torch.tensor(code_ref)"
   ]
  },
  {
   "cell_type": "code",
   "execution_count": null,
   "metadata": {},
   "outputs": [
    {
     "name": "stdout",
     "output_type": "stream",
     "text": [
      "tensor(0.1055, device='cuda:0', grad_fn=<SqrtBackward0>)\n",
      "tensor(0.0712, device='cuda:0', grad_fn=<SqrtBackward0>)\n",
      "tensor(0.2153, device='cuda:0', grad_fn=<SqrtBackward0>)\n",
      "tensor(0.0810, device='cuda:0', grad_fn=<SqrtBackward0>)\n",
      "tensor(0.0943, device='cuda:0', grad_fn=<SqrtBackward0>)\n",
      "tensor(0.0989, device='cuda:0', grad_fn=<SqrtBackward0>)\n",
      "tensor(0.1928, device='cuda:0', grad_fn=<SqrtBackward0>)\n",
      "tensor(0.0775, device='cuda:0', grad_fn=<SqrtBackward0>)\n",
      "tensor(0.1304, device='cuda:0', grad_fn=<SqrtBackward0>)\n",
      "tensor(0.0826, device='cuda:0', grad_fn=<SqrtBackward0>)\n",
      "tensor(0.0921, device='cuda:0', grad_fn=<SqrtBackward0>)\n",
      "tensor(0.0779, device='cuda:0', grad_fn=<SqrtBackward0>)\n",
      "tensor(0.0712, device='cuda:0', grad_fn=<SqrtBackward0>)\n",
      "tensor(0.0951, device='cuda:0', grad_fn=<SqrtBackward0>)\n",
      "tensor(0.0819, device='cuda:0', grad_fn=<SqrtBackward0>)\n",
      "tensor(0.1846, device='cuda:0', grad_fn=<SqrtBackward0>)\n",
      "tensor(0.0905, device='cuda:0', grad_fn=<SqrtBackward0>)\n",
      "tensor(0.0723, device='cuda:0', grad_fn=<SqrtBackward0>)\n",
      "tensor(0.0791, device='cuda:0', grad_fn=<SqrtBackward0>)\n",
      "tensor(0.0808, device='cuda:0', grad_fn=<SqrtBackward0>)\n",
      "tensor(0.0791, device='cuda:0', grad_fn=<SqrtBackward0>)\n",
      "tensor(0.0867, device='cuda:0', grad_fn=<SqrtBackward0>)\n",
      "tensor(0.1058, device='cuda:0', grad_fn=<SqrtBackward0>)\n",
      "tensor(0.0819, device='cuda:0', grad_fn=<SqrtBackward0>)\n",
      "tensor(0.0823, device='cuda:0', grad_fn=<SqrtBackward0>)\n",
      "tensor(0.0827, device='cuda:0', grad_fn=<SqrtBackward0>)\n",
      "tensor(0.0891, device='cuda:0', grad_fn=<SqrtBackward0>)\n",
      "tensor(0.1037, device='cuda:0', grad_fn=<SqrtBackward0>)\n",
      "tensor(0.0857, device='cuda:0', grad_fn=<SqrtBackward0>)\n",
      "tensor(0.0804, device='cuda:0', grad_fn=<SqrtBackward0>)\n",
      "tensor(0.0853, device='cuda:0', grad_fn=<SqrtBackward0>)\n",
      "tensor(0.1758, device='cuda:0', grad_fn=<SqrtBackward0>)\n",
      "tensor(0.0873, device='cuda:0', grad_fn=<SqrtBackward0>)\n",
      "tensor(0.2697, device='cuda:0', grad_fn=<SqrtBackward0>)\n",
      "tensor(0.1220, device='cuda:0', grad_fn=<SqrtBackward0>)\n",
      "tensor(0.0581, device='cuda:0', grad_fn=<SqrtBackward0>)\n",
      "tensor(0.0563, device='cuda:0', grad_fn=<SqrtBackward0>)\n",
      "tensor(0.1288, device='cuda:0', grad_fn=<SqrtBackward0>)\n",
      "tensor(0.1181, device='cuda:0', grad_fn=<SqrtBackward0>)\n",
      "tensor(0.1277, device='cuda:0', grad_fn=<SqrtBackward0>)\n",
      "tensor(0.1085, device='cuda:0', grad_fn=<SqrtBackward0>)\n",
      "tensor(0.0661, device='cuda:0', grad_fn=<SqrtBackward0>)\n",
      "tensor(0.0632, device='cuda:0', grad_fn=<SqrtBackward0>)\n",
      "tensor(0.0795, device='cuda:0', grad_fn=<SqrtBackward0>)\n",
      "tensor(0.0823, device='cuda:0', grad_fn=<SqrtBackward0>)\n",
      "tensor(0.1502, device='cuda:0', grad_fn=<SqrtBackward0>)\n",
      "tensor(0.1056, device='cuda:0', grad_fn=<SqrtBackward0>)\n",
      "tensor(0.0632, device='cuda:0', grad_fn=<SqrtBackward0>)\n",
      "tensor(0.0951, device='cuda:0', grad_fn=<SqrtBackward0>)\n",
      "tensor(0.0985, device='cuda:0', grad_fn=<SqrtBackward0>)\n",
      "tensor(0.0918, device='cuda:0', grad_fn=<SqrtBackward0>)\n",
      "tensor(0.0990, device='cuda:0', grad_fn=<SqrtBackward0>)\n",
      "tensor(0.0995, device='cuda:0', grad_fn=<SqrtBackward0>)\n",
      "tensor(0.0942, device='cuda:0', grad_fn=<SqrtBackward0>)\n",
      "tensor(0.0873, device='cuda:0', grad_fn=<SqrtBackward0>)\n",
      "tensor(0.1149, device='cuda:0', grad_fn=<SqrtBackward0>)\n",
      "tensor(0.0653, device='cuda:0', grad_fn=<SqrtBackward0>)\n",
      "tensor(0.1613, device='cuda:0', grad_fn=<SqrtBackward0>)\n",
      "tensor(0.0813, device='cuda:0', grad_fn=<SqrtBackward0>)\n",
      "tensor(0.0687, device='cuda:0', grad_fn=<SqrtBackward0>)\n",
      "tensor(0.0803, device='cuda:0', grad_fn=<SqrtBackward0>)\n",
      "tensor(0.0675, device='cuda:0', grad_fn=<SqrtBackward0>)\n",
      "tensor(0.0964, device='cuda:0', grad_fn=<SqrtBackward0>)\n",
      "tensor(0.1193, device='cuda:0', grad_fn=<SqrtBackward0>)\n",
      "tensor(0.0937, device='cuda:0', grad_fn=<SqrtBackward0>)\n",
      "tensor(0.0654, device='cuda:0', grad_fn=<SqrtBackward0>)\n",
      "tensor(0.0941, device='cuda:0', grad_fn=<SqrtBackward0>)\n",
      "tensor(0.0984, device='cuda:0', grad_fn=<SqrtBackward0>)\n",
      "tensor(0.0819, device='cuda:0', grad_fn=<SqrtBackward0>)\n",
      "tensor(0.0757, device='cuda:0', grad_fn=<SqrtBackward0>)\n",
      "tensor(0.3214, device='cuda:0', grad_fn=<SqrtBackward0>)\n",
      "tensor(0.0962, device='cuda:0', grad_fn=<SqrtBackward0>)\n",
      "tensor(0.0949, device='cuda:0', grad_fn=<SqrtBackward0>)\n",
      "tensor(0.0784, device='cuda:0', grad_fn=<SqrtBackward0>)\n",
      "tensor(0.1118, device='cuda:0', grad_fn=<SqrtBackward0>)\n",
      "tensor(0.1234, device='cuda:0', grad_fn=<SqrtBackward0>)\n",
      "tensor(0.0836, device='cuda:0', grad_fn=<SqrtBackward0>)\n",
      "tensor(0.0553, device='cuda:0', grad_fn=<SqrtBackward0>)\n",
      "tensor(0.0832, device='cuda:0', grad_fn=<SqrtBackward0>)\n",
      "tensor(0.1661, device='cuda:0', grad_fn=<SqrtBackward0>)\n",
      "tensor(0.1043, device='cuda:0', grad_fn=<SqrtBackward0>)\n",
      "tensor(0.0800, device='cuda:0', grad_fn=<SqrtBackward0>)\n",
      "tensor(0.0840, device='cuda:0', grad_fn=<SqrtBackward0>)\n",
      "tensor(0.0874, device='cuda:0', grad_fn=<SqrtBackward0>)\n",
      "tensor(0.1226, device='cuda:0', grad_fn=<SqrtBackward0>)\n",
      "tensor(0.2193, device='cuda:0', grad_fn=<SqrtBackward0>)\n",
      "tensor(0.1260, device='cuda:0', grad_fn=<SqrtBackward0>)\n",
      "tensor(0.0985, device='cuda:0', grad_fn=<SqrtBackward0>)\n",
      "tensor(0.0729, device='cuda:0', grad_fn=<SqrtBackward0>)\n",
      "tensor(0.0732, device='cuda:0', grad_fn=<SqrtBackward0>)\n",
      "tensor(0.1002, device='cuda:0', grad_fn=<SqrtBackward0>)\n",
      "tensor(0.0753, device='cuda:0', grad_fn=<SqrtBackward0>)\n",
      "tensor(0.2544, device='cuda:0', grad_fn=<SqrtBackward0>)\n",
      "tensor(0.1169, device='cuda:0', grad_fn=<SqrtBackward0>)\n",
      "tensor(0.0882, device='cuda:0', grad_fn=<SqrtBackward0>)\n",
      "tensor(0.1015, device='cuda:0', grad_fn=<SqrtBackward0>)\n",
      "tensor(0.0935, device='cuda:0', grad_fn=<SqrtBackward0>)\n",
      "tensor(0.0861, device='cuda:0', grad_fn=<SqrtBackward0>)\n",
      "tensor(0.1441, device='cuda:0', grad_fn=<SqrtBackward0>)\n",
      "tensor(0.1025, device='cuda:0', grad_fn=<SqrtBackward0>)\n",
      "tensor(0.1253, device='cuda:0', grad_fn=<SqrtBackward0>)\n",
      "tensor(0.0788, device='cuda:0', grad_fn=<SqrtBackward0>)\n",
      "tensor(0.0981, device='cuda:0', grad_fn=<SqrtBackward0>)\n",
      "tensor(0.1073, device='cuda:0', grad_fn=<SqrtBackward0>)\n",
      "tensor(0.1629, device='cuda:0', grad_fn=<SqrtBackward0>)\n",
      "tensor(0.3341, device='cuda:0', grad_fn=<SqrtBackward0>)\n",
      "tensor(0.0643, device='cuda:0', grad_fn=<SqrtBackward0>)\n",
      "tensor(0.1043, device='cuda:0', grad_fn=<SqrtBackward0>)\n",
      "tensor(0.0711, device='cuda:0', grad_fn=<SqrtBackward0>)\n",
      "tensor(0.0801, device='cuda:0', grad_fn=<SqrtBackward0>)\n",
      "tensor(0.2456, device='cuda:0', grad_fn=<SqrtBackward0>)\n",
      "tensor(0.0702, device='cuda:0', grad_fn=<SqrtBackward0>)\n",
      "tensor(0.1209, device='cuda:0', grad_fn=<SqrtBackward0>)\n",
      "tensor(0.0644, device='cuda:0', grad_fn=<SqrtBackward0>)\n",
      "tensor(0.1038, device='cuda:0', grad_fn=<SqrtBackward0>)\n",
      "tensor(0.2322, device='cuda:0', grad_fn=<SqrtBackward0>)\n",
      "tensor(0.0747, device='cuda:0', grad_fn=<SqrtBackward0>)\n",
      "tensor(0.0829, device='cuda:0', grad_fn=<SqrtBackward0>)\n",
      "tensor(0.0874, device='cuda:0', grad_fn=<SqrtBackward0>)\n",
      "tensor(0.1000, device='cuda:0', grad_fn=<SqrtBackward0>)\n",
      "tensor(0.2395, device='cuda:0', grad_fn=<SqrtBackward0>)\n",
      "tensor(0.2445, device='cuda:0', grad_fn=<SqrtBackward0>)\n",
      "tensor(0.0809, device='cuda:0', grad_fn=<SqrtBackward0>)\n",
      "tensor(0.1296, device='cuda:0', grad_fn=<SqrtBackward0>)\n",
      "tensor(0.0916, device='cuda:0', grad_fn=<SqrtBackward0>)\n",
      "tensor(0.1136, device='cuda:0', grad_fn=<SqrtBackward0>)\n",
      "tensor(0.2507, device='cuda:0', grad_fn=<SqrtBackward0>)\n",
      "tensor(0.1552, device='cuda:0', grad_fn=<SqrtBackward0>)\n",
      "tensor(0.1085, device='cuda:0', grad_fn=<SqrtBackward0>)\n",
      "tensor(0.0765, device='cuda:0', grad_fn=<SqrtBackward0>)\n",
      "tensor(0.0863, device='cuda:0', grad_fn=<SqrtBackward0>)\n",
      "tensor(0.0726, device='cuda:0', grad_fn=<SqrtBackward0>)\n",
      "tensor(0.1024, device='cuda:0', grad_fn=<SqrtBackward0>)\n",
      "tensor(0.0774, device='cuda:0', grad_fn=<SqrtBackward0>)\n",
      "tensor(0.0957, device='cuda:0', grad_fn=<SqrtBackward0>)\n",
      "tensor(0.1650, device='cuda:0', grad_fn=<SqrtBackward0>)\n",
      "tensor(0.0883, device='cuda:0', grad_fn=<SqrtBackward0>)\n",
      "tensor(0.0987, device='cuda:0', grad_fn=<SqrtBackward0>)\n",
      "tensor(0.1485, device='cuda:0', grad_fn=<SqrtBackward0>)\n",
      "tensor(0.1308, device='cuda:0', grad_fn=<SqrtBackward0>)\n",
      "tensor(0.1057, device='cuda:0', grad_fn=<SqrtBackward0>)\n",
      "tensor(0.1106, device='cuda:0', grad_fn=<SqrtBackward0>)\n",
      "tensor(0.2707, device='cuda:0', grad_fn=<SqrtBackward0>)\n",
      "tensor(0.1346, device='cuda:0', grad_fn=<SqrtBackward0>)\n"
     ]
    },
    {
     "name": "stdout",
     "output_type": "stream",
     "text": [
      "tensor(0.0658, device='cuda:0', grad_fn=<SqrtBackward0>)\n",
      "tensor(0.1378, device='cuda:0', grad_fn=<SqrtBackward0>)\n",
      "tensor(0.1273, device='cuda:0', grad_fn=<SqrtBackward0>)\n",
      "tensor(0.0866, device='cuda:0', grad_fn=<SqrtBackward0>)\n",
      "tensor(0.0934, device='cuda:0', grad_fn=<SqrtBackward0>)\n",
      "tensor(0.1103, device='cuda:0', grad_fn=<SqrtBackward0>)\n",
      "tensor(0.0543, device='cuda:0', grad_fn=<SqrtBackward0>)\n",
      "tensor(0.0795, device='cuda:0', grad_fn=<SqrtBackward0>)\n",
      "tensor(0.2058, device='cuda:0', grad_fn=<SqrtBackward0>)\n",
      "tensor(0.0896, device='cuda:0', grad_fn=<SqrtBackward0>)\n",
      "tensor(0.1090, device='cuda:0', grad_fn=<SqrtBackward0>)\n",
      "tensor(0.1131, device='cuda:0', grad_fn=<SqrtBackward0>)\n",
      "tensor(0.1274, device='cuda:0', grad_fn=<SqrtBackward0>)\n",
      "tensor(0.1109, device='cuda:0', grad_fn=<SqrtBackward0>)\n",
      "tensor(0.0759, device='cuda:0', grad_fn=<SqrtBackward0>)\n",
      "tensor(0.0730, device='cuda:0', grad_fn=<SqrtBackward0>)\n",
      "tensor(0.0971, device='cuda:0', grad_fn=<SqrtBackward0>)\n",
      "tensor(0.1622, device='cuda:0', grad_fn=<SqrtBackward0>)\n",
      "tensor(0.2303, device='cuda:0', grad_fn=<SqrtBackward0>)\n",
      "tensor(0.1750, device='cuda:0', grad_fn=<SqrtBackward0>)\n",
      "tensor(0.1293, device='cuda:0', grad_fn=<SqrtBackward0>)\n",
      "tensor(0.1299, device='cuda:0', grad_fn=<SqrtBackward0>)\n",
      "tensor(0.0890, device='cuda:0', grad_fn=<SqrtBackward0>)\n",
      "tensor(0.0859, device='cuda:0', grad_fn=<SqrtBackward0>)\n",
      "tensor(0.1416, device='cuda:0', grad_fn=<SqrtBackward0>)\n",
      "tensor(0.0749, device='cuda:0', grad_fn=<SqrtBackward0>)\n",
      "tensor(0.1050, device='cuda:0', grad_fn=<SqrtBackward0>)\n",
      "tensor(0.1488, device='cuda:0', grad_fn=<SqrtBackward0>)\n",
      "tensor(0.1412, device='cuda:0', grad_fn=<SqrtBackward0>)\n",
      "tensor(0.1130, device='cuda:0', grad_fn=<SqrtBackward0>)\n",
      "tensor(0.0671, device='cuda:0', grad_fn=<SqrtBackward0>)\n",
      "tensor(0.0657, device='cuda:0', grad_fn=<SqrtBackward0>)\n",
      "tensor(0.0877, device='cuda:0', grad_fn=<SqrtBackward0>)\n",
      "tensor(0.1067, device='cuda:0', grad_fn=<SqrtBackward0>)\n",
      "tensor(0.1019, device='cuda:0', grad_fn=<SqrtBackward0>)\n",
      "tensor(0.1239, device='cuda:0', grad_fn=<SqrtBackward0>)\n",
      "tensor(0.0856, device='cuda:0', grad_fn=<SqrtBackward0>)\n",
      "tensor(0.1337, device='cuda:0', grad_fn=<SqrtBackward0>)\n",
      "tensor(0.0776, device='cuda:0', grad_fn=<SqrtBackward0>)\n",
      "tensor(0.1167, device='cuda:0', grad_fn=<SqrtBackward0>)\n",
      "tensor(0.1042, device='cuda:0', grad_fn=<SqrtBackward0>)\n",
      "tensor(0.1046, device='cuda:0', grad_fn=<SqrtBackward0>)\n",
      "tensor(0.1039, device='cuda:0', grad_fn=<SqrtBackward0>)\n",
      "tensor(0.0802, device='cuda:0', grad_fn=<SqrtBackward0>)\n",
      "tensor(0.0880, device='cuda:0', grad_fn=<SqrtBackward0>)\n",
      "tensor(0.3142, device='cuda:0', grad_fn=<SqrtBackward0>)\n",
      "tensor(0.1206, device='cuda:0', grad_fn=<SqrtBackward0>)\n",
      "tensor(0.0956, device='cuda:0', grad_fn=<SqrtBackward0>)\n",
      "tensor(0.0804, device='cuda:0', grad_fn=<SqrtBackward0>)\n",
      "tensor(0.1267, device='cuda:0', grad_fn=<SqrtBackward0>)\n",
      "tensor(0.1136, device='cuda:0', grad_fn=<SqrtBackward0>)\n",
      "tensor(0.0799, device='cuda:0', grad_fn=<SqrtBackward0>)\n",
      "tensor(0.0708, device='cuda:0', grad_fn=<SqrtBackward0>)\n",
      "tensor(0.1147, device='cuda:0', grad_fn=<SqrtBackward0>)\n",
      "tensor(0.1469, device='cuda:0', grad_fn=<SqrtBackward0>)\n",
      "tensor(0.0870, device='cuda:0', grad_fn=<SqrtBackward0>)\n",
      "tensor(0.0873, device='cuda:0', grad_fn=<SqrtBackward0>)\n",
      "tensor(0.0500, device='cuda:0', grad_fn=<SqrtBackward0>)\n",
      "tensor(0.0823, device='cuda:0', grad_fn=<SqrtBackward0>)\n",
      "tensor(0.0970, device='cuda:0', grad_fn=<SqrtBackward0>)\n",
      "tensor(0.0880, device='cuda:0', grad_fn=<SqrtBackward0>)\n",
      "tensor(0.0963, device='cuda:0', grad_fn=<SqrtBackward0>)\n",
      "tensor(0.0888, device='cuda:0', grad_fn=<SqrtBackward0>)\n",
      "tensor(0.0898, device='cuda:0', grad_fn=<SqrtBackward0>)\n",
      "tensor(0.0987, device='cuda:0', grad_fn=<SqrtBackward0>)\n",
      "tensor(0.0925, device='cuda:0', grad_fn=<SqrtBackward0>)\n",
      "tensor(0.1006, device='cuda:0', grad_fn=<SqrtBackward0>)\n",
      "tensor(0.1269, device='cuda:0', grad_fn=<SqrtBackward0>)\n",
      "tensor(0.0993, device='cuda:0', grad_fn=<SqrtBackward0>)\n",
      "tensor(0.1021, device='cuda:0', grad_fn=<SqrtBackward0>)\n",
      "tensor(0.0965, device='cuda:0', grad_fn=<SqrtBackward0>)\n",
      "tensor(0.0830, device='cuda:0', grad_fn=<SqrtBackward0>)\n",
      "tensor(0.0661, device='cuda:0', grad_fn=<SqrtBackward0>)\n",
      "tensor(0.1136, device='cuda:0', grad_fn=<SqrtBackward0>)\n",
      "tensor(0.1409, device='cuda:0', grad_fn=<SqrtBackward0>)\n",
      "tensor(0.0918, device='cuda:0', grad_fn=<SqrtBackward0>)\n",
      "tensor(0.0835, device='cuda:0', grad_fn=<SqrtBackward0>)\n",
      "tensor(0.0993, device='cuda:0', grad_fn=<SqrtBackward0>)\n",
      "tensor(0.1157, device='cuda:0', grad_fn=<SqrtBackward0>)\n",
      "tensor(0.1174, device='cuda:0', grad_fn=<SqrtBackward0>)\n",
      "tensor(0.0932, device='cuda:0', grad_fn=<SqrtBackward0>)\n",
      "tensor(0.0720, device='cuda:0', grad_fn=<SqrtBackward0>)\n",
      "tensor(0.0951, device='cuda:0', grad_fn=<SqrtBackward0>)\n",
      "tensor(0.0724, device='cuda:0', grad_fn=<SqrtBackward0>)\n",
      "tensor(0.1211, device='cuda:0', grad_fn=<SqrtBackward0>)\n",
      "tensor(0.0915, device='cuda:0', grad_fn=<SqrtBackward0>)\n",
      "tensor(0.1297, device='cuda:0', grad_fn=<SqrtBackward0>)\n",
      "tensor(0.2401, device='cuda:0', grad_fn=<SqrtBackward0>)\n",
      "tensor(0.1079, device='cuda:0', grad_fn=<SqrtBackward0>)\n",
      "tensor(0.1385, device='cuda:0', grad_fn=<SqrtBackward0>)\n",
      "tensor(0.0646, device='cuda:0', grad_fn=<SqrtBackward0>)\n",
      "tensor(0.0941, device='cuda:0', grad_fn=<SqrtBackward0>)\n",
      "tensor(0.1036, device='cuda:0', grad_fn=<SqrtBackward0>)\n",
      "tensor(0.0861, device='cuda:0', grad_fn=<SqrtBackward0>)\n",
      "tensor(0.0598, device='cuda:0', grad_fn=<SqrtBackward0>)\n",
      "tensor(0.1240, device='cuda:0', grad_fn=<SqrtBackward0>)\n",
      "tensor(0.0800, device='cuda:0', grad_fn=<SqrtBackward0>)\n",
      "tensor(0.0797, device='cuda:0', grad_fn=<SqrtBackward0>)\n",
      "tensor(0.0822, device='cuda:0', grad_fn=<SqrtBackward0>)\n",
      "tensor(0.1965, device='cuda:0', grad_fn=<SqrtBackward0>)\n",
      "tensor(0.1334, device='cuda:0', grad_fn=<SqrtBackward0>)\n",
      "tensor(0.0922, device='cuda:0', grad_fn=<SqrtBackward0>)\n",
      "tensor(0.1154, device='cuda:0', grad_fn=<SqrtBackward0>)\n",
      "tensor(0.1222, device='cuda:0', grad_fn=<SqrtBackward0>)\n",
      "tensor(0.1289, device='cuda:0', grad_fn=<SqrtBackward0>)\n",
      "tensor(0.1110, device='cuda:0', grad_fn=<SqrtBackward0>)\n",
      "tensor(0.0848, device='cuda:0', grad_fn=<SqrtBackward0>)\n"
     ]
    }
   ],
   "source": [
    "rescale_train(cfg=cfg,\n",
    "     model=model, \n",
    "     microscope=micro, \n",
    "     post_proc=post_proc,\n",
    "     dl=decode_dl, \n",
    "     optim_dict=optim_dict)"
   ]
  },
  {
   "cell_type": "code",
   "execution_count": null,
   "metadata": {},
   "outputs": [
    {
     "name": "stdout",
     "output_type": "stream",
     "text": [
      "Converted 00_models.ipynb.\n",
      "Converted 01_psf.ipynb.\n",
      "Converted 02_microscope.ipynb.\n",
      "Converted 02b_place_psfs.ipynb.\n",
      "Converted 03_noise.ipynb.\n",
      "Converted 04_pointsource.ipynb.\n",
      "Converted 05_gmm_loss.ipynb.\n",
      "Converted 06_plotting.ipynb.\n",
      "Converted 07_file_io.ipynb.\n",
      "Converted 08_dataset.ipynb.\n",
      "Converted 09_output_trafo.ipynb.\n",
      "Converted 10_evaluation.ipynb.\n",
      "Converted 11_emitter_io.ipynb.\n",
      "Converted 12_utils.ipynb.\n",
      "Converted 13_train.ipynb.\n",
      "Converted 15_fit_psf.ipynb.\n",
      "Converted 16_visualization.ipynb.\n",
      "Converted 17_eval_routines.ipynb.\n",
      "Converted 18_predict_funcs.ipynb.\n",
      "Converted 19_MERFISH_routines.ipynb.\n",
      "Converted 22_MERFISH_codenet.ipynb.\n",
      "Converted 23_MERFISH_comparison.ipynb.\n",
      "Converted 24_exp_specific.ipynb.\n",
      "Converted 25_ensembling.ipynb.\n",
      "Converted 25_gen_train.ipynb.\n",
      "Converted 26_testtime_rescale.ipynb.\n",
      "Converted index.ipynb.\n"
     ]
    }
   ],
   "source": [
    "!nbdev_build_lib"
   ]
  },
  {
   "cell_type": "code",
   "execution_count": null,
   "metadata": {},
   "outputs": [
    {
     "data": {
      "text/plain": [
       "[<matplotlib.lines.Line2D at 0x7f174d92a400>]"
      ]
     },
     "execution_count": null,
     "metadata": {},
     "output_type": "execute_result"
    },
    {
     "data": {
      "image/png": "[encoded data removed]",
      "text/plain": [
       "<Figure size 432x288 with 1 Axes>"
      ]
     },
     "metadata": {
      "needs_background": "light"
     },
     "output_type": "display_data"
    }
   ],
   "source": [
    "plt.plot(losses)"
   ]
  },
  {
   "cell_type": "code",
   "execution_count": null,
   "metadata": {},
   "outputs": [],
   "source": []
  }
 ],
 "metadata": {
  "kernelspec": {
   "display_name": "Python [conda env:decode_fish_dev2]",
   "language": "python",
   "name": "conda-env-decode_fish_dev2-py"
  }
 },
 "nbformat": 4,
 "nbformat_minor": 4
}
