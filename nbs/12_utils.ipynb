{
 "cells": [
  {
   "cell_type": "code",
   "execution_count": null,
   "metadata": {},
   "outputs": [],
   "source": [
    "# default_exp funcs.utils"
   ]
  },
  {
   "cell_type": "code",
   "execution_count": null,
   "metadata": {},
   "outputs": [],
   "source": [
    "%load_ext autoreload\n",
    "%autoreload 2"
   ]
  },
  {
   "cell_type": "markdown",
   "metadata": {},
   "source": [
    "# Random assortment of helper functions"
   ]
  },
  {
   "cell_type": "code",
   "execution_count": null,
   "metadata": {},
   "outputs": [],
   "source": [
    "#export\n",
    "from tensorboard.backend.event_processing.event_accumulator import EventAccumulator\n",
    "from decode_fish.imports import *\n",
    "import gc"
   ]
  },
  {
   "cell_type": "code",
   "execution_count": null,
   "metadata": {},
   "outputs": [],
   "source": [
    "#export\n",
    "def free_mem():\n",
    "    gc.collect()\n",
    "    torch.cuda.empty_cache()    \n",
    "    \n",
    "def crop_vol(vol, fxyz_sl=np.s_[:,:,:,:], px_size=[1.,1.,1.]):\n",
    "    \n",
    "    vol_sl = tuple([fxyz_sl[i] for i in [0,3,2,1]])\n",
    "    if vol.ndim == 3:\n",
    "        vol = vol[vol_sl[-3:]]\n",
    "    else:\n",
    "        vol = vol[vol_sl]\n",
    "    \n",
    "    return vol\n",
    "\n",
    "def center_crop(volume, zyx_ext):\n",
    "    \n",
    "    shape_3d = volume.shape[-3:]\n",
    "    center = [s//2 for s in shape_3d]\n",
    "    volume = volume[...,center[0]-math.floor(zyx_ext[0]/2):center[0]+math.ceil(zyx_ext[0]/2),\n",
    "                        center[1]-math.floor(zyx_ext[1]/2):center[1]+math.ceil(zyx_ext[1]/2),\n",
    "                        center[2]-math.floor(zyx_ext[2]/2):center[2]+math.ceil(zyx_ext[2]/2)]\n",
    "    return volume\n",
    "\n",
    "def smooth(x,window_len=11,window='flat'):\n",
    "\n",
    "    if window_len<3:\n",
    "        return x\n",
    "\n",
    "    s=np.r_[x[window_len-1:0:-1],x,x[-2:-window_len-1:-1]]\n",
    "    if window == 'flat': #moving average\n",
    "        w=np.ones(window_len,'d')\n",
    "\n",
    "    y=np.convolve(w/w.sum(),s,mode='valid')\n",
    "    return y\n",
    "\n",
    "def plot_tb_logs(exps, metric='Sim. Metrics/eff_3d', window_len=1):\n",
    "    all_vals = []\n",
    "    for exp in exps:\n",
    "        event_acc = EventAccumulator(exp)\n",
    "        event_acc.Reload()       \n",
    "        w_times, step_nums, vals = zip(*event_acc.Scalars(metric))\n",
    "        all_vals.append(vals)\n",
    "    \n",
    "    for v,e in zip(all_vals,exps):\n",
    "        plt.plot(smooth(v, window_len), label=e)\n",
    "        print(np.array(v).max().round(2), np.array(v).min().round(2), len(v), e)\n",
    "    plt.legend()"
   ]
  },
  {
   "cell_type": "code",
   "execution_count": null,
   "metadata": {},
   "outputs": [
    {
     "name": "stdout",
     "output_type": "stream",
     "text": [
      "Converted 00_models.ipynb.\n",
      "Converted 01_psf.ipynb.\n",
      "Converted 02_microscope.ipynb.\n",
      "Converted 03_noise.ipynb.\n",
      "Converted 04_pointsource.ipynb.\n",
      "Converted 05_gmm_loss.ipynb.\n",
      "Converted 06_plotting.ipynb.\n",
      "Converted 07_file_io.ipynb.\n",
      "Converted 08_dataset.ipynb.\n",
      "Converted 09_output_trafo.ipynb.\n",
      "Converted 10_evaluation.ipynb.\n",
      "Converted 11_emitter_io.ipynb.\n",
      "Converted 12_utils.ipynb.\n",
      "Converted 13_train_sl.ipynb.\n",
      "Converted 14_train_ae.ipynb.\n",
      "Converted 15_fit_psf.ipynb.\n",
      "Converted index.ipynb.\n"
     ]
    }
   ],
   "source": [
    "!nbdev_build_lib"
   ]
  },
  {
   "cell_type": "code",
   "execution_count": null,
   "metadata": {},
   "outputs": [],
   "source": []
  }
 ],
 "metadata": {
  "kernelspec": {
   "display_name": "Python [conda env:decode2_dev]",
   "language": "python",
   "name": "conda-env-decode2_dev-py"
  }
 },
 "nbformat": 4,
 "nbformat_minor": 4
}
