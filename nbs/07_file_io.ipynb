{
 "cells": [
  {
   "cell_type": "code",
   "execution_count": null,
   "metadata": {},
   "outputs": [],
   "source": [
    "# default_exp funcs.file_io"
   ]
  },
  {
   "cell_type": "code",
   "execution_count": null,
   "metadata": {},
   "outputs": [],
   "source": [
    "%load_ext autoreload\n",
    "%autoreload 2"
   ]
  },
  {
   "cell_type": "markdown",
   "metadata": {},
   "source": [
    "# File handling"
   ]
  },
  {
   "cell_type": "code",
   "execution_count": null,
   "metadata": {},
   "outputs": [],
   "source": [
    "#export\n",
    "from decode_fish.imports import *\n",
    "from decode_fish.funcs.utils import *\n",
    "from tifffile import imread\n",
    "from decode_fish.engine.microscope import Microscope\n",
    "from decode_fish.engine.psf import crop_psf"
   ]
  },
  {
   "cell_type": "code",
   "execution_count": null,
   "metadata": {},
   "outputs": [],
   "source": [
    "#export\n",
    "def tiff_imread(path):\n",
    "    '''helper function to read tiff file with pathlib object or str'''\n",
    "    if isinstance(path, str) : return imread(path)\n",
    "    if isinstance(path, Path): return imread(str(path))"
   ]
  },
  {
   "cell_type": "code",
   "execution_count": null,
   "metadata": {},
   "outputs": [],
   "source": [
    "#export\n",
    "def load_model_state(model, path, file_name ='model.pkl'):\n",
    "    model_dict = torch.load(Path(path)/file_name)\n",
    "    model.load_state_dict(model_dict['state_dict'])\n",
    "    model.unet.inp_scale = model_dict['scaling'][0]\n",
    "    model.unet.inp_offset = model_dict['scaling'][1]\n",
    "    return model"
   ]
  },
  {
   "cell_type": "code",
   "execution_count": null,
   "metadata": {},
   "outputs": [],
   "source": [
    "#export\n",
    "def simfish_to_df(sim_file, px_size=np.array([100.,100.,300.]), frame_idx=0):\n",
    "    \n",
    "    yxz = []\n",
    "    with open(sim_file) as f:\n",
    "        read = False\n",
    "        for line in f:\n",
    "            if 'Pos_Y' in line: \n",
    "                read = True\n",
    "                continue\n",
    "            if 'SPOTS_END' in line: break\n",
    "            if read: yxz.append([float(s) for s in line.split()[:3]])\n",
    "\n",
    "    yxz = np.array(yxz)/px_size\n",
    "    loc_idx = np.arange(len(yxz))\n",
    "    \n",
    "    df = pd.DataFrame({'loc_idx': loc_idx,\n",
    "                       'frame_idx': frame_idx,\n",
    "                       'x': yxz[:,1]*px_size[0],\n",
    "                       'y': yxz[:,0]*px_size[1], \n",
    "                       'z': yxz[:,2]*px_size[2], \n",
    "                       'prob': np.ones_like(loc_idx), \n",
    "                       'int': np.ones_like(loc_idx), \n",
    "                       'int_sig': np.ones_like(loc_idx), \n",
    "                       'x_sig': np.ones_like(loc_idx), \n",
    "                       'y_sig': np.ones_like(loc_idx), \n",
    "                       'z_sig': np.ones_like(loc_idx)})\n",
    "\n",
    "    return df   \n",
    "\n",
    "#export\n",
    "def load_sim_fish(basedir, mrna_lvl=200, shape='cell3D', exp_strength='strong'):\n",
    "    \n",
    "    spec_dir = f'/mRNAlevel_200/{shape}/{exp_strength}/'\n",
    "#     file_name = f'/w1_HelaKyoto_Gapdh_2597_p01_cy3__Cell_CP_{cell_cp}__{shape}__{nr}'\n",
    "    img_path = glob.glob(basedir + spec_dir + 'w1*.tif')[0]\n",
    "    print(img_path)\n",
    "    img = load_tiff_image(img_path)\n",
    "    gt_df = simfish_to_df(glob.glob(basedir + spec_dir + '*.txt')[0])\n",
    "    fq_nog_df = simfish_to_df(glob.glob(basedir + '/_results_detection/' + spec_dir + '/results_noGMM/' + 'w1*.txt')[0])\n",
    "    fq_gmm_df = simfish_to_df(glob.glob(basedir + '/_results_detection/' + spec_dir + '/results_GMM/' + 'w1*.txt')[0])\n",
    "    \n",
    "    return img, gt_df, fq_nog_df, fq_gmm_df"
   ]
  },
  {
   "cell_type": "code",
   "execution_count": null,
   "metadata": {},
   "outputs": [],
   "source": [
    "#export\n",
    "def load_tiff_image(image_path: str):\n",
    "    \"Given tiff stack path, loads the stack and converts it to a tensor. If necessary adds a dimension for the batch size\"\n",
    "    image_path = Path(image_path)\n",
    "    image  = torch.tensor(tiff_imread(image_path).astype('float32'))\n",
    "    if len(image.shape) == 3: image.unsqueeze_(0)\n",
    "    assert len(image.shape) == 4, 'the shape of image must be 4, (1, Z, X, Y)'\n",
    "    #removing minum values of the image\n",
    "    return image"
   ]
  },
  {
   "cell_type": "code",
   "execution_count": null,
   "metadata": {},
   "outputs": [],
   "source": [
    "#export\n",
    "def load_psf_noise_micro(cfg):\n",
    "    psf_state = torch.load(cfg.data_path.psf_path)\n",
    "        \n",
    "    psf = hydra.utils.instantiate(cfg.PSF, size_zyx=psf_state['psf_volume'].shape[-3:])\n",
    "    psf.load_state_dict(psf_state)\n",
    "    \n",
    "    if cfg.microscope.psf_extent_zyx:\n",
    "        psf = crop_psf(psf,cfg.microscope.psf_extent_zyx)\n",
    "\n",
    "    noise = hydra.utils.instantiate(cfg.noise)\n",
    "    micro = Microscope(parametric_psf=[psf], noise=noise, multipl=cfg.microscope.multipl).cuda()\n",
    "    \n",
    "    return psf, noise, micro"
   ]
  },
  {
   "cell_type": "code",
   "execution_count": null,
   "metadata": {},
   "outputs": [
    {
     "name": "stderr",
     "output_type": "stream",
     "text": [
      "/groups/turaga/home/speisera/anaconda3/envs/decode2_dev/lib/python3.7/site-packages/torch/cuda/__init__.py:81: UserWarning: \n",
      "    Found GPU2 NVS 510 which is of cuda capability 3.0.\n",
      "    PyTorch no longer supports this GPU because it is too old.\n",
      "    The minimum cuda capability that we support is 3.5.\n",
      "    \n",
      "  warnings.warn(old_gpu_warn % (d, name, major, capability[1]))\n"
     ]
    }
   ],
   "source": [
    "cfg = OmegaConf.load(default_conf)\n",
    "psf, noise, micro = load_psf_noise_micro(cfg)"
   ]
  },
  {
   "cell_type": "code",
   "execution_count": null,
   "metadata": {},
   "outputs": [
    {
     "data": {
      "image/png": "[encoded data removed]",
      "text/plain": [
       "<Figure size 1296x432 with 6 Axes>"
      ]
     },
     "metadata": {
      "needs_background": "light"
     },
     "output_type": "display_data"
    }
   ],
   "source": [
    "from decode_fish.funcs.plotting import *\n",
    "plot_3d_projections(psf.psf_volume[0])"
   ]
  },
  {
   "cell_type": "code",
   "execution_count": null,
   "metadata": {},
   "outputs": [
    {
     "name": "stdout",
     "output_type": "stream",
     "text": [
      "Converted 00_models.ipynb.\n",
      "Converted 01_psf.ipynb.\n",
      "Converted 02_microscope.ipynb.\n",
      "Converted 03_noise.ipynb.\n",
      "Converted 04_pointsource.ipynb.\n",
      "Converted 05_gmm_loss.ipynb.\n",
      "Converted 06_plotting.ipynb.\n",
      "Converted 07_file_io.ipynb.\n",
      "Converted 08_dataset.ipynb.\n",
      "Converted 09_output_trafo.ipynb.\n",
      "Converted 10_evaluation.ipynb.\n",
      "Converted 11_emitter_io.ipynb.\n",
      "Converted 12_utils.ipynb.\n",
      "Converted 13_train_sl.ipynb.\n",
      "Converted 14_train_ae.ipynb.\n",
      "Converted 15_fit_psf.ipynb.\n",
      "Converted 16_visualization.ipynb.\n",
      "Converted index.ipynb.\n"
     ]
    }
   ],
   "source": [
    "!nbdev_build_lib"
   ]
  },
  {
   "cell_type": "code",
   "execution_count": null,
   "metadata": {},
   "outputs": [],
   "source": []
  }
 ],
 "metadata": {
  "kernelspec": {
   "display_name": "Python [conda env:decode2_dev]",
   "language": "python",
   "name": "conda-env-decode2_dev-py"
  }
 },
 "nbformat": 4,
 "nbformat_minor": 4
}
