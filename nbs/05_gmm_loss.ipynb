{
 "cells": [
  {
   "cell_type": "code",
   "execution_count": null,
   "metadata": {},
   "outputs": [],
   "source": [
    "# default_exp engine.gmm_loss"
   ]
  },
  {
   "cell_type": "code",
   "execution_count": null,
   "metadata": {},
   "outputs": [],
   "source": [
    "%load_ext autoreload\n",
    "%autoreload 2"
   ]
  },
  {
   "cell_type": "markdown",
   "metadata": {},
   "source": [
    "# Loss function"
   ]
  },
  {
   "cell_type": "code",
   "execution_count": null,
   "metadata": {},
   "outputs": [],
   "source": [
    "#export\n",
    "from decode_fish.imports import *\n",
    "from torch import distributions as D, Tensor\n",
    "from torch.distributions import Distribution\n",
    "from torch.distributions.utils import _sum_rightmost"
   ]
  },
  {
   "cell_type": "code",
   "execution_count": null,
   "metadata": {},
   "outputs": [],
   "source": [
    "import os\n",
    "os.environ[\"CUDA_VISIBLE_DEVICES\"] = '1'"
   ]
  },
  {
   "cell_type": "code",
   "execution_count": null,
   "metadata": {},
   "outputs": [],
   "source": [
    "#export\n",
    "def xyz_log_prob(mix, x):\n",
    "#     print('spatial')\n",
    "#     print(x.shape)\n",
    "    x = mix._pad(x)\n",
    "#     print(x.shape)\n",
    "    log_prob_x = mix.component_distribution.base_dist.log_prob(x) \n",
    "#     print(log_prob_x.shape)\n",
    "    log_prob_x = _sum_rightmost(log_prob_x, 1)\n",
    "#     log_prob_x = log_prob_x.mean(-1)\n",
    "    log_mix_prob = torch.log_softmax(mix.mixture_distribution.logits, dim=-1) \n",
    "    \n",
    "    return log_prob_x, log_mix_prob\n",
    "\n",
    "def int_log_prob(mix, x):\n",
    "#     print('int')    \n",
    "#     print(x.shape)\n",
    "    x = mix._pad(x)\n",
    "    x_bin = torch.where(x > 0, torch.ones_like(x), torch.zeros_like(x))\n",
    "#     print(x.shape)\n",
    "    log_prob_x = mix.component_distribution.base_dist.log_prob(x) * x_bin\n",
    "    print(log_prob_x.shape, x_bin.shape)\n",
    "#     print(log_prob_x.shape)\n",
    "    log_prob_x = _sum_rightmost(log_prob_x, 1)\n",
    "#     log_prob_x = log_prob_x.mean(-1)\n",
    "    log_mix_prob = torch.log_softmax(mix.mixture_distribution.logits, dim=-1)\n",
    " \n",
    "    return log_prob_x, log_mix_prob\n",
    "\n",
    "# def ext_log_prob(gauss_mix, bern_mix, x):\n",
    "    \n",
    "#     x = gauss_mix._pad(x)\n",
    "#     x_bin = torch.where(x > 0, torch.ones_like(x), torch.zeros_like(x))\n",
    "    \n",
    "#     log_prob_x = gauss_mix.component_distribution.base_dist.log_prob(x) * x_bin \n",
    "#     log_prob_x = _sum_rightmost(log_prob_x, 1) \n",
    "    \n",
    "#     bin_prob_x = bern_mix.component_distribution.base_dist.log_prob(x_bin) \n",
    "#     bin_prob_x = _sum_rightmost(bin_prob_x, 1)\n",
    "        \n",
    "#     return log_prob_x, bin_prob_x"
   ]
  },
  {
   "cell_type": "code",
   "execution_count": null,
   "metadata": {},
   "outputs": [],
   "source": [
    "#export\n",
    "from einops import rearrange\n",
    "class PointProcessGaussian(Distribution):\n",
    "    def __init__(self, logits: torch.tensor,  int_logits: torch.tensor, xyzi_mu: torch.tensor, xyzi_sigma: torch.tensor, **kwargs):\n",
    "        \"\"\" Defines our loss function. Given logits, xyzi_mu and xyzi_sigma \n",
    "        \n",
    "        The count loss first constructs a Gaussian approximation to the predicted number of emitters by summing the mean and the variance of the Bernoulli detection probability map,\n",
    "        and then maximizes the probability of the true number of emitters under this distribution. \n",
    "        The localization loss models the distribution of sub-pixel localizations with a coordinate-wise independent Gaussian probability distribution  with a 3D standard deviation. \n",
    "        For imprecise localizations, this probability is maximized for large sigmas, for precise localizations for small sigmas. \n",
    "        The distribution of all localizations over the entire image is approximated as a weighted average of individual localization distributions, where the weights correspond to the probability of detection.\n",
    "        \n",
    "        Args:\n",
    "            logits: shape (B,1,D,H,W)\n",
    "            xyzi_mu: shape (B,4,D,H,W)\n",
    "            xyzi_sigma: shape (B,4,D,H,W)\n",
    "        \"\"\"\n",
    "        self.logits = logits\n",
    "        self.int_logits = int_logits\n",
    "        self.xyzi_mu = xyzi_mu\n",
    "        self.xyzi_sigma = xyzi_sigma\n",
    "        \n",
    "    def log_prob(self, locations, x_offset, y_offset, z_offset, intensities, n_bits, channels, min_int_sig):\n",
    "        \"\"\" Creates the distributions for the count and localization loss and evaluates the log probability for the given set of localizations under those distriubtions.\n",
    "            Args:\n",
    "                locations: tuple with voxel locations of inferred emitters\n",
    "                x_offset, y_offset,z_offset: continuous within pixel offsets. Has lenght of number of emitters in the whole batch.\n",
    "                intensties: brightness of emitters. Has lenght of number of emitters in the whole batch.\n",
    "            Returns:\n",
    "                count_prob: count loss. Has langth of batch_size\n",
    "                spatial_prob: localizations loss. Has langth of batch_size\n",
    "        \"\"\"\n",
    "\n",
    "        gauss_dim = 3 + channels\n",
    "        batch_size = self.logits.shape[0]\n",
    "        if channels == 1:\n",
    "            xyzi, s_mask = get_true_labels(batch_size, locations, x_offset, y_offset, z_offset, intensities)\n",
    "        else:\n",
    "            xyzi, s_mask = get_true_labels_mf(batch_size, n_bits, channels,\n",
    "                                              locations, x_offset, y_offset, z_offset, intensities)\n",
    "        counts = s_mask.sum(-1)\n",
    "\n",
    "        P = torch.sigmoid(self.logits)\n",
    "        count_mean = P.sum(dim=[2, 3, 4]).squeeze(-1)\n",
    "        count_var = (P - P ** 2).sum(dim=[2, 3, 4]).squeeze(-1)\n",
    "        count_dist = D.Normal(count_mean, torch.sqrt(count_var))\n",
    "\n",
    "        count_prob =  count_dist.log_prob(counts) # * counts\n",
    "\n",
    "        mixture_probs = P / P.sum(dim=[2, 3, 4], keepdim=True)\n",
    "\n",
    "        pix_inds = torch.nonzero(P,as_tuple=True)\n",
    "\n",
    "        xyzi_mu = self.xyzi_mu[pix_inds[0],:,pix_inds[2],pix_inds[3],pix_inds[4]]\n",
    "        xyzi_mu[:,:3] += torch.stack([pix_inds[4],pix_inds[3],pix_inds[2]], 1) + 0.5\n",
    "        xyzi_mu = xyzi_mu.reshape(batch_size,-1,gauss_dim)\n",
    "        xyzi_sig = self.xyzi_sigma[pix_inds[0],:,pix_inds[2],pix_inds[3],pix_inds[4]].reshape(batch_size,-1,gauss_dim)\n",
    "\n",
    "#         print(xyzi_mu.shape, xyzi.shape)\n",
    "\n",
    "        mix = D.Categorical(mixture_probs[pix_inds].reshape(batch_size,-1))\n",
    "\n",
    "        xyzi_sig[:,:,3:] = xyzi_sig[:,:,3:] + min_int_sig\n",
    "        comp = D.Independent(D.Normal(xyzi_mu, xyzi_sig + 0.00001), 1)\n",
    "        spatial_gmm = D.MixtureSameFamily(mix, comp)\n",
    "        spatial_prob = spatial_gmm.log_prob(xyzi.transpose(0, 1)).transpose(0,1)\n",
    "        spatial_prob = (spatial_prob * s_mask).sum(-1)\n",
    "\n",
    "        return count_prob, spatial_prob\n",
    "        \n",
    "    def log_prob1(self, locations, x_offset, y_offset, z_offset, intensities, n_bits, channels, min_int_sig):\n",
    "        \"\"\" Creates the distributions for the count and localization loss and evaluates the log probability for the given set of localizations under those distriubtions.\n",
    "        \n",
    "            Args:\n",
    "                locations: tuple with voxel locations of inferred emitters\n",
    "                x_offset, y_offset,z_offset: continuous within pixel offsets. Has lenght of number of emitters in the whole batch.\n",
    "                intensties: brightness of emitters. Has lenght of number of emitters in the whole batch.\n",
    "                \n",
    "            Returns:\n",
    "                count_prob: count loss. Has langth of batch_size\n",
    "                spatial_prob: localizations loss. Has langth of batch_size\n",
    "        \"\"\"     \n",
    "        \n",
    "        gauss_dim = 3 + channels\n",
    "        batch_size = self.logits.shape[0]\n",
    "        if channels == 1:\n",
    "            xyzi, s_mask = get_true_labels(batch_size, locations, x_offset, y_offset, z_offset, intensities)\n",
    "        else:\n",
    "            xyzi, s_mask = get_true_labels_mf(batch_size, n_bits, channels, \n",
    "                                              locations, x_offset, y_offset, z_offset, intensities)\n",
    "        counts = s_mask.sum(-1)\n",
    "        \n",
    "        P = torch.sigmoid(self.logits) \n",
    "        count_mean = P.sum(dim=[2, 3, 4]).squeeze(-1)\n",
    "        count_var = (P - P ** 2).sum(dim=[2, 3, 4]).squeeze(-1) \n",
    "        count_dist = D.Normal(count_mean, torch.sqrt(count_var))\n",
    "                \n",
    "        count_prob =  count_dist.log_prob(counts) # * counts\n",
    "        \n",
    "        mixture_probs = P / P.sum(dim=[2, 3, 4], keepdim=True)\n",
    "        \n",
    "        pix_inds = torch.nonzero(P,as_tuple=True)\n",
    "\n",
    "        xyzi_mu = self.xyzi_mu[pix_inds[0],:,pix_inds[2],pix_inds[3],pix_inds[4]]\n",
    "        xyzi_mu[:,:3] += torch.stack([pix_inds[4],pix_inds[3],pix_inds[2]], 1) + 0.5\n",
    "        xyzi_mu = xyzi_mu.reshape(batch_size,-1,gauss_dim)\n",
    "        xyzi_sig = self.xyzi_sigma[pix_inds[0],:,pix_inds[2],pix_inds[3],pix_inds[4]].reshape(batch_size,-1,gauss_dim)\n",
    "        \n",
    "        mix = D.Categorical(mixture_probs[pix_inds].reshape(batch_size,-1))\n",
    "\n",
    "        xyz_sl = np.s_[:,:,:3]\n",
    "        int_sl = np.s_[:,:,3:]\n",
    "        \n",
    "        xyzi_sig[int_sl] = xyzi_sig[int_sl] + min_int_sig\n",
    "        \n",
    "        comp_xyz = D.Independent(D.Normal(xyzi_mu[xyz_sl], xyzi_sig[xyz_sl] + 0.00001), 1)\n",
    "        comp_int = D.Independent(D.Normal(xyzi_mu[int_sl], xyzi_sig[int_sl] + 0.00001), 1)\n",
    "        \n",
    "        spatial_gmm = D.MixtureSameFamily(mix, comp_xyz)\n",
    "        int_gmm = D.MixtureSameFamily(mix, comp_int)\n",
    "        \n",
    "        spatial_prob, log_mix_prob = xyz_log_prob(spatial_gmm, xyzi[xyz_sl].transpose(0, 1))\n",
    "        int_prob, _                = xyz_log_prob(int_gmm, xyzi[int_sl].transpose(0, 1))\n",
    "        \n",
    "        total_prob = torch.logsumexp(spatial_prob + int_prob + log_mix_prob,-1).transpose(0, 1)\n",
    "        total_prob = (total_prob * s_mask).sum(-1)\n",
    "        \n",
    "        return count_prob, total_prob\n",
    "\n",
    "    def log_prob2(self, locations, x_offset, y_offset, z_offset, intensities, n_bits, channels, min_int_sig, int_fac=1):\n",
    "        \"\"\" Creates the distributions for the count and localization loss and evaluates the log probability for the given set of localizations under those distriubtions.\n",
    "        \n",
    "            Args:\n",
    "                locations: tuple with voxel locations of inferred emitters\n",
    "                x_offset, y_offset,z_offset: continuous within pixel offsets. Has lenght of number of emitters in the whole batch.\n",
    "                intensties: brightness of emitters. Has lenght of number of emitters in the whole batch.\n",
    "                \n",
    "            Returns:\n",
    "                count_prob: count loss. Has langth of batch_size\n",
    "                spatial_prob: localizations loss. Has langth of batch_size\n",
    "        \"\"\"     \n",
    "        \n",
    "        gauss_dim = 3 + channels\n",
    "        batch_size = self.logits.shape[0]\n",
    "        if channels == 1:\n",
    "            xyzi, s_mask = get_true_labels(batch_size, locations, x_offset, y_offset, z_offset, intensities)\n",
    "        else:\n",
    "            xyzi, s_mask = get_true_labels_mf(batch_size, n_bits, channels, \n",
    "                                              locations, x_offset, y_offset, z_offset, intensities)\n",
    "        counts = s_mask.sum(-1)\n",
    "        \n",
    "        P = torch.sigmoid(self.logits) \n",
    "        count_mean = P.sum(dim=[2, 3, 4]).squeeze(-1)\n",
    "        count_var = (P - P ** 2).sum(dim=[2, 3, 4]).squeeze(-1) \n",
    "        count_dist = D.Normal(count_mean, torch.sqrt(count_var))\n",
    "                \n",
    "        count_prob =  count_dist.log_prob(counts) # * counts\n",
    "        \n",
    "        mixture_probs = P / P.sum(dim=[2, 3, 4], keepdim=True)\n",
    "        \n",
    "        pix_inds = torch.nonzero(P,as_tuple=True)\n",
    "\n",
    "        xyzi_mu = self.xyzi_mu[pix_inds[0],:,pix_inds[2],pix_inds[3],pix_inds[4]]\n",
    "        xyzi_mu[:,:3] += torch.stack([pix_inds[4],pix_inds[3],pix_inds[2]], 1) + 0.5\n",
    "        xyzi_mu = xyzi_mu.reshape(batch_size,-1,gauss_dim)\n",
    "        xyzi_sig = self.xyzi_sigma[pix_inds[0],:,pix_inds[2],pix_inds[3],pix_inds[4]].reshape(batch_size,-1,gauss_dim)\n",
    "\n",
    "#         print(xyzi_mu.shape, xyzi.shape)\n",
    "        \n",
    "        mix = D.Categorical(mixture_probs[pix_inds].reshape(batch_size,-1))\n",
    "        \n",
    "#         int_P = torch.sigmoid(self.int_logits)[:,:channels]\n",
    "        \n",
    "#         int_mean = int_P.sum(dim=[1])\n",
    "#         int_var = (int_P - int_P ** 2).sum(dim=[1])\n",
    "#         int_dist = D.Normal(int_mean, torch.sqrt(int_var))\n",
    "        \n",
    "#         int_count_prob = (P[:,0].detach() * int_dist.log_prob(torch.ones_like(int_mean).cuda() * n_bits)).mean(dim=[1,2,3])\n",
    "        \n",
    "#         int_PP = int_P * P.detach()\n",
    "#         int_mix = D.Categorical(int_PP[torch.nonzero(int_P,as_tuple=True)].reshape(batch_size,-1))\n",
    "\n",
    "        int_count_prob = 0\n",
    "        \n",
    "        xyz_sl = np.s_[:,:,:3]\n",
    "        int_sl = np.s_[:,:,3:3+channels]\n",
    "\n",
    "        comp_xyz = D.Independent(D.Normal(xyzi_mu[xyz_sl], xyzi_sig[xyz_sl] + 0.00001), 1)\n",
    "        comp_int = D.Independent(D.Normal(xyzi_mu[int_sl], xyzi_sig[int_sl] + min_int_sig), 1)\n",
    "\n",
    "        spatial_gmm = D.MixtureSameFamily(mix, comp_xyz)\n",
    "        # int_gmm = D.MixtureSameFamily(int_mix, comp_int)\n",
    "\n",
    "        spatial_prob, log_mix_prob1 = xyz_log_prob(spatial_gmm, xyzi[xyz_sl].transpose(0, 1))\n",
    "\n",
    "        ''' '''\n",
    "        x = xyzi[int_sl].transpose(0, 1)\n",
    "        x = spatial_gmm._pad(x)\n",
    "#         x_bin = torch.where(x > 0, torch.ones_like(x), torch.zeros_like(x))\n",
    "        log_prob_x = comp_int.base_dist.log_prob(x) # * x_bin\n",
    "        int_prob = _sum_rightmost(log_prob_x, 1)\n",
    "        log_mix_prob2 = 0\n",
    "#         log_mix_prob2 = torch.log_softmax(rearrange(int_mix.logits, 'b (ch p) -> b p ch', ch=channels), dim=-1)\n",
    "#         log_mix_prob2 = _sum_rightmost(log_mix_prob2, 1)\n",
    "        ''' '''\n",
    "        total_prob = torch.logsumexp(spatial_prob + log_mix_prob1 + int_prob + log_mix_prob2,-1).transpose(0, 1)\n",
    "\n",
    "        total_prob = (total_prob * s_mask).sum(-1)\n",
    "        \n",
    "        return count_prob+int_count_prob, total_prob\n",
    "\n",
    "def get_sample_mask(bs, locations):\n",
    "    \n",
    "    counts_ = torch.unique(locations[0], return_counts=True)[1]\n",
    "    batch_loc = torch.unique(locations[0])\n",
    "    \n",
    "    counts = torch.cuda.LongTensor(bs).fill_(0)\n",
    "    counts[batch_loc] = counts_\n",
    "    \n",
    "    max_counts = counts.max()\n",
    "    if max_counts==0: max_counts = 1 #if all 0 will return empty matrix of correct size\n",
    "    s_arr = cum_count_per_group(locations[0])\n",
    "    s_mask   = torch.cuda.FloatTensor(bs,max_counts).fill_(0)\n",
    "    s_mask[locations[0],s_arr] = 1   \n",
    "    \n",
    "    return s_mask, s_arr\n",
    "    \n",
    "def get_true_labels(bs, locations, x_os, y_os, z_os, *args):\n",
    "    \n",
    "    s_mask, s_arr = get_sample_mask(bs, locations)\n",
    "    max_counts = s_mask.shape[1]\n",
    "    \n",
    "    x =  x_os + locations[4].type(torch.cuda.FloatTensor) + 0.5 \n",
    "    y =  y_os + locations[3].type(torch.cuda.FloatTensor) + 0.5 \n",
    "    z =  z_os + locations[2].type(torch.cuda.FloatTensor) + 0.5 \n",
    "    \n",
    "    gt_vars = torch.stack([x, y, z] + [item for item in args], dim=1)\n",
    "    gt_list = torch.cuda.FloatTensor(bs,max_counts,gt_vars.shape[1]).fill_(0)\n",
    "    \n",
    "    gt_list[locations[0],s_arr] = gt_vars\n",
    "    return gt_list, s_mask    \n",
    "\n",
    "def get_true_labels_mf(bs, n_bits, channels, locations, x_os, y_os, z_os, int_ch):\n",
    "    \n",
    "    b_inds = torch.cat([torch.tensor([0], device=x_os.device),((x_os[1:] - x_os[:-1]).nonzero() + 1)[:,0], \n",
    "                        torch.tensor([len(x_os)], device=x_os.device)])\n",
    "    n_gt = len(b_inds) - 1\n",
    "    \n",
    "    xyz_locs = [l[b_inds[:-1]] for l in locations]\n",
    "    x_os = x_os[b_inds[:-1]]\n",
    "    y_os = y_os[b_inds[:-1]]\n",
    "    z_os = z_os[b_inds[:-1]]\n",
    "    \n",
    "    s_mask, s_arr = get_sample_mask(bs, xyz_locs)\n",
    "    max_counts = s_mask.shape[1]\n",
    "    \n",
    "    x =  x_os + xyz_locs[4].type(torch.cuda.FloatTensor) + 0.5 \n",
    "    y =  y_os + xyz_locs[3].type(torch.cuda.FloatTensor) + 0.5 \n",
    "    z =  z_os + xyz_locs[2].type(torch.cuda.FloatTensor) + 0.5 \n",
    "    \n",
    "    loc_idx = []\n",
    "    for i in range(n_gt):\n",
    "        loc_idx += [i] * (b_inds[i+1] - b_inds[i])\n",
    "    \n",
    "    intensity = torch.zeros([n_gt, channels]).to(x.device)\n",
    "    intensity[loc_idx, locations[1]] = int_ch\n",
    "    \n",
    "    gt_vars = torch.stack([x, y, z], dim=1)\n",
    "    gt_vars = torch.cat([gt_vars, intensity], dim=1)\n",
    "    gt_list = torch.cuda.FloatTensor(bs,max_counts,gt_vars.shape[1]).fill_(0)\n",
    "    \n",
    "    gt_list[xyz_locs[0],s_arr] = gt_vars\n",
    "    return gt_list, s_mask  \n",
    "\n",
    "def grp_range(counts: torch.Tensor):\n",
    "    assert counts.dim() == 1\n",
    "\n",
    "    idx = counts.cumsum(0)\n",
    "    id_arr = torch.ones(idx[-1], dtype=int, device=counts.device)\n",
    "    id_arr[0] = 0\n",
    "    id_arr[idx[:-1]] = -counts[:-1] + 1\n",
    "    return id_arr.cumsum(0)\n",
    "\n",
    "def cum_count_per_group(arr):\n",
    "    \"\"\"\n",
    "    Helper function that returns the cumulative sum per group.\n",
    "    Example:\n",
    "        [0, 0, 0, 1, 2, 2, 0] --> [0, 1, 2, 0, 0, 1, 3]\n",
    "    \"\"\"\n",
    "\n",
    "    if arr.numel() == 0:\n",
    "        return arr\n",
    "\n",
    "    _, cnt = torch.unique(arr, return_counts=True)\n",
    "    return grp_range(cnt)[np.argsort(np.argsort(arr.cpu().numpy(), kind='mergesort'), kind='mergesort')]"
   ]
  },
  {
   "cell_type": "code",
   "execution_count": null,
   "metadata": {},
   "outputs": [
    {
     "name": "stdout",
     "output_type": "stream",
     "text": [
      "tensor([-0.4427, -0.6439,  0.8149,  1.5036,  1.7690,  1.2149, -1.6208],\n",
      "       device='cuda:0')\n"
     ]
    },
    {
     "data": {
      "text/plain": [
       "tensor([   0.0000, -177.5380,    0.0000,  -62.3007,  -63.2242,    0.0000,\n",
       "           0.0000], device='cuda:0')"
      ]
     },
     "execution_count": null,
     "metadata": {},
     "output_type": "execute_result"
    }
   ],
   "source": [
    "ppg = PointProcessGaussian(**model_out)\n",
    "spatial_gmm, gmm_loss = ppg.log_prob(*sim_vars[:5], n_bits=4, channels=16, min_int_sig=0.2)\n",
    "# spatial_gmm, gmm_loss = ppg.log_prob(locs_3d, x_os_3d.cuda(), y_os_3d.cuda(), z_os_3d.cuda(), ints_3d.cuda(), n_bits=4, channels=16, min_int_sig=0.5, int_fac=4)\n",
    "print(spatial_gmm)\n",
    "gmm_loss"
   ]
  },
  {
   "cell_type": "code",
   "execution_count": null,
   "metadata": {},
   "outputs": [],
   "source": [
    "locations, x_offset, y_offset, z_offset, intensities = sim_vars[:5]\n",
    "n_bits=4; channels=16; min_int_sig=0.2; int_fac=16"
   ]
  },
  {
   "cell_type": "code",
   "execution_count": null,
   "metadata": {},
   "outputs": [],
   "source": [
    "gauss_dim = 3 + channels\n",
    "batch_size = ppg.logits.shape[0]\n",
    "if channels == 1:\n",
    "    xyzi, s_mask = get_true_labels(batch_size, locations, x_offset, y_offset, z_offset, intensities)\n",
    "else:\n",
    "    xyzi, s_mask = get_true_labels_mf(batch_size, n_bits, channels, \n",
    "                                      locations, x_offset, y_offset, z_offset, intensities)\n",
    "counts = s_mask.sum(-1)\n",
    "\n",
    "P = torch.sigmoid(ppg.logits) \n",
    "count_mean = P.sum(dim=[2, 3, 4]).squeeze(-1)\n",
    "count_var = (P - P ** 2).sum(dim=[2, 3, 4]).squeeze(-1) \n",
    "count_dist = D.Normal(count_mean, torch.sqrt(count_var))\n",
    "\n",
    "count_prob =  count_dist.log_prob(counts) # * counts\n",
    "\n",
    "mixture_probs = P / P.sum(dim=[2, 3, 4], keepdim=True)\n",
    "\n",
    "pix_inds = torch.nonzero(P,as_tuple=True)\n",
    "\n",
    "xyzi_mu = ppg.xyzi_mu[pix_inds[0],:,pix_inds[2],pix_inds[3],pix_inds[4]]\n",
    "xyzi_mu[:,:3] += torch.stack([pix_inds[4],pix_inds[3],pix_inds[2]], 1) + 0.5\n",
    "xyzi_mu = xyzi_mu.reshape(batch_size,-1,gauss_dim)\n",
    "xyzi_sig = ppg.xyzi_sigma[pix_inds[0],:,pix_inds[2],pix_inds[3],pix_inds[4]].reshape(batch_size,-1,gauss_dim)\n",
    "\n",
    "mix = D.Categorical(mixture_probs[pix_inds].reshape(batch_size,-1))\n",
    "\n",
    "int_P = torch.sigmoid(ppg.int_logits)[:,:channels]\n",
    "\n",
    "int_mean = int_P.sum(dim=[1])\n",
    "int_var = (int_P - int_P ** 2).sum(dim=[1])\n",
    "int_dist = D.Normal(int_mean, torch.sqrt(int_var))\n",
    "\n",
    "int_count_prob = (P[:,0].detach() * int_dist.log_prob(torch.ones_like(int_mean).cuda() * n_bits)).mean(dim=[1,2,3])\n",
    "\n",
    "int_PP = int_P * P.detach()\n",
    "int_mix = D.Categorical(int_PP[torch.nonzero(int_P,as_tuple=True)].reshape(batch_size,-1))\n",
    "\n",
    "xyz_sl = np.s_[:,:,:3]\n",
    "int_sl = np.s_[:,:,3:3+channels]\n",
    "\n",
    "comp_xyz = D.Independent(D.Normal(xyzi_mu[xyz_sl], xyzi_sig[xyz_sl] + 0.00001), 1)\n",
    "comp_int = D.Independent(D.Normal(xyzi_mu[int_sl], xyzi_sig[int_sl] + min_int_sig), 1)\n",
    "\n",
    "spatial_gmm = D.MixtureSameFamily(mix, comp_xyz)\n",
    "# int_gmm = D.MixtureSameFamily(int_mix, comp_int)\n",
    "\n",
    "spatial_prob, log_mix_prob1 = xyz_log_prob(spatial_gmm, xyzi[xyz_sl].transpose(0, 1))\n",
    "\n",
    "''' '''\n",
    "x = xyzi[int_sl].transpose(0, 1)\n",
    "x = spatial_gmm._pad(x)\n",
    "x_bin = torch.where(x > 0, torch.ones_like(x), torch.zeros_like(x))\n",
    "log_prob_x = comp_int.base_dist.log_prob(x) * x_bin\n",
    "int_prob = _sum_rightmost(log_prob_x, 1)\n",
    "log_mix_prob2 = torch.log_softmax(rearrange(int_mix.logits, 'b (ch p) -> b p ch', ch=channels), dim=-1)\n",
    "log_mix_prob2 = _sum_rightmost(log_mix_prob2, 1)\n",
    "''' '''\n",
    "total_prob = torch.logsumexp(spatial_prob + log_mix_prob1 + int_prob + log_mix_prob2,-1).transpose(0, 1)\n",
    "\n",
    "total_prob = (total_prob * s_mask).sum(-1)"
   ]
  },
  {
   "cell_type": "code",
   "execution_count": null,
   "metadata": {},
   "outputs": [
    {
     "data": {
      "text/plain": [
       "Normal(loc: torch.Size([7, 1, 48, 48]), scale: torch.Size([7, 1, 48, 48]))"
      ]
     },
     "execution_count": null,
     "metadata": {},
     "output_type": "execute_result"
    }
   ],
   "source": [
    "int_dist"
   ]
  },
  {
   "cell_type": "code",
   "execution_count": null,
   "metadata": {},
   "outputs": [],
   "source": [
    "tra = D.Categorical(rearrange(int_PP[pix_inds[0],:,pix_inds[2],pix_inds[3],pix_inds[4]], '(b p) ch -> b (p ch)', b=batch_size))\n",
    "bla = D.Categorical(int_PP[torch.nonzero(int_P,as_tuple=True)].reshape(batch_size,-1))"
   ]
  },
  {
   "cell_type": "code",
   "execution_count": null,
   "metadata": {},
   "outputs": [],
   "source": [
    "tra = log_mix_prob2"
   ]
  },
  {
   "cell_type": "code",
   "execution_count": null,
   "metadata": {},
   "outputs": [
    {
     "data": {
      "text/plain": [
       "[<matplotlib.lines.Line2D at 0x7f7270591ca0>]"
      ]
     },
     "execution_count": null,
     "metadata": {},
     "output_type": "execute_result"
    },
    {
     "data": {
      "image/png": "[encoded data removed]",
      "text/plain": [
       "<Figure size 432x288 with 1 Axes>"
      ]
     },
     "metadata": {
      "needs_background": "light"
     },
     "output_type": "display_data"
    }
   ],
   "source": [
    "plt.plot(tra[4,:].sum(-1).cpu())"
   ]
  },
  {
   "cell_type": "code",
   "execution_count": null,
   "metadata": {},
   "outputs": [
    {
     "data": {
      "text/plain": [
       "torch.Size([16128, 16])"
      ]
     },
     "execution_count": null,
     "metadata": {},
     "output_type": "execute_result"
    }
   ],
   "source": [
    "int_PP[pix_inds[0],:,pix_inds[2],pix_inds[3],pix_inds[4]].shape"
   ]
  },
  {
   "cell_type": "code",
   "execution_count": null,
   "metadata": {},
   "outputs": [
    {
     "data": {
      "text/plain": [
       "torch.Size([16128])"
      ]
     },
     "execution_count": null,
     "metadata": {},
     "output_type": "execute_result"
    }
   ],
   "source": [
    "mixture_probs[pix_inds].shape"
   ]
  },
  {
   "cell_type": "code",
   "execution_count": null,
   "metadata": {},
   "outputs": [
    {
     "name": "stdout",
     "output_type": "stream",
     "text": [
      "torch.Size([3, 7, 36864, 10]) torch.Size([3, 7, 1, 10])\n"
     ]
    }
   ],
   "source": [
    "int_prob    , log_mix_prob2 = int_log_prob(int_gmm, xyzi[int_sl].transpose(0, 1)[:,:,:10])\n",
    "# int_prob = rearrange(int_prob, 'n b (p ch) -> n b p ch', ch=channels)"
   ]
  },
  {
   "cell_type": "code",
   "execution_count": null,
   "metadata": {},
   "outputs": [
    {
     "data": {
      "text/plain": [
       "torch.Size([3, 7, 16])"
      ]
     },
     "execution_count": null,
     "metadata": {},
     "output_type": "execute_result"
    }
   ],
   "source": [
    "xyzi[int_sl].transpose(0, 1).shape"
   ]
  },
  {
   "cell_type": "code",
   "execution_count": null,
   "metadata": {},
   "outputs": [
    {
     "data": {
      "text/plain": [
       "Independent(Normal(loc: torch.Size([7, 2304, 3]), scale: torch.Size([7, 2304, 3])), 1)"
      ]
     },
     "execution_count": null,
     "metadata": {},
     "output_type": "execute_result"
    }
   ],
   "source": [
    "comp_xyz"
   ]
  },
  {
   "cell_type": "code",
   "execution_count": null,
   "metadata": {},
   "outputs": [
    {
     "data": {
      "text/plain": [
       "Independent(Normal(loc: torch.Size([7, 36864, 1]), scale: torch.Size([7, 36864, 1])), 1)"
      ]
     },
     "execution_count": null,
     "metadata": {},
     "output_type": "execute_result"
    }
   ],
   "source": [
    "comp_int"
   ]
  },
  {
   "cell_type": "code",
   "execution_count": null,
   "metadata": {},
   "outputs": [
    {
     "data": {
      "text/plain": [
       "Normal(loc: torch.Size([7, 2304, 3]), scale: torch.Size([7, 2304, 3]))"
      ]
     },
     "execution_count": null,
     "metadata": {},
     "output_type": "execute_result"
    }
   ],
   "source": [
    "spatial_gmm.component_distribution.base_dist"
   ]
  },
  {
   "cell_type": "code",
   "execution_count": null,
   "metadata": {},
   "outputs": [
    {
     "data": {
      "text/plain": [
       "tensor([1.0000, 1.0000, 1.0000, 1.0000, 1.0000, 1.0000, 1.0000],\n",
       "       device='cuda:0')"
      ]
     },
     "execution_count": null,
     "metadata": {},
     "output_type": "execute_result"
    }
   ],
   "source": [
    "int_gmm.mixture_distribution.probs.sum(-1)"
   ]
  },
  {
   "cell_type": "code",
   "execution_count": null,
   "metadata": {},
   "outputs": [
    {
     "data": {
      "text/plain": [
       "[<matplotlib.lines.Line2D at 0x7f7277bfcee0>]"
      ]
     },
     "execution_count": null,
     "metadata": {},
     "output_type": "execute_result"
    },
    {
     "data": {
      "image/png": "[encoded data removed]",
      "text/plain": [
       "<Figure size 432x288 with 1 Axes>"
      ]
     },
     "metadata": {
      "needs_background": "light"
     },
     "output_type": "display_data"
    }
   ],
   "source": [
    "plt.plot(comp_xyz.log_prob(spatial_gmm._pad((xyzi[xyz_sl].transpose(0,1))))[0,4].cpu())"
   ]
  },
  {
   "cell_type": "code",
   "execution_count": null,
   "metadata": {},
   "outputs": [
    {
     "data": {
      "text/plain": [
       "[<matplotlib.lines.Line2D at 0x7f7274a53f70>]"
      ]
     },
     "execution_count": null,
     "metadata": {},
     "output_type": "execute_result"
    },
    {
     "data": {
      "image/png": "[encoded data removed]",
      "text/plain": [
       "<Figure size 720x360 with 2 Axes>"
      ]
     },
     "metadata": {
      "needs_background": "light"
     },
     "output_type": "display_data"
    }
   ],
   "source": [
    "plt.figure(figsize=(10,5))\n",
    "plt.subplot(121)\n",
    "plt.plot((spatial_prob)[0,4].cpu())\n",
    "plt.subplot(122)\n",
    "plt.plot((log_mix_prob1)[4].cpu())"
   ]
  },
  {
   "cell_type": "code",
   "execution_count": null,
   "metadata": {},
   "outputs": [
    {
     "data": {
      "text/plain": [
       "tensor(1528)"
      ]
     },
     "execution_count": null,
     "metadata": {},
     "output_type": "execute_result"
    }
   ],
   "source": [
    "np.argmax((log_mix_prob1)[4].cpu())"
   ]
  },
  {
   "cell_type": "code",
   "execution_count": null,
   "metadata": {},
   "outputs": [
    {
     "name": "stdout",
     "output_type": "stream",
     "text": [
      "tensor([-1.5323, -1.8759, -1.7097, -2.9416], device='cuda:0') tensor(-8.0595, device='cuda:0')\n"
     ]
    },
    {
     "name": "stderr",
     "output_type": "stream",
     "text": [
      "/tmp/ipykernel_56556/2928413706.py:6: UserWarning: To copy construct from a tensor, it is recommended to use sourceTensor.clone().detach() or sourceTensor.clone().detach().requires_grad_(True), rather than torch.tensor(sourceTensor).\n",
      "  logp = torch.distributions.Normal(T(mu[gt.nonzero()[:,0]]), T(sig[gt.nonzero()[:,0]])).log_prob(gt[gt.nonzero()[:,0]])\n"
     ]
    }
   ],
   "source": [
    "mu = xyzi_mu[int_sl][4,1528]\n",
    "sig = xyzi_sig[int_sl][4,1528]\n",
    "gt = xyzi[int_sl].transpose(0,1)[0,4]\n",
    "\n",
    "import torch.tensor as T\n",
    "logp = torch.distributions.Normal(T(mu[gt.nonzero()[:,0]]), T(sig[gt.nonzero()[:,0]])).log_prob(gt[gt.nonzero()[:,0]])\n",
    "print(logp, logp.sum())"
   ]
  },
  {
   "cell_type": "code",
   "execution_count": null,
   "metadata": {},
   "outputs": [
    {
     "data": {
      "text/plain": [
       "tensor(-7.9618, device='cuda:0')"
      ]
     },
     "execution_count": null,
     "metadata": {},
     "output_type": "execute_result"
    }
   ],
   "source": [
    "int_prob[0,4,1528]"
   ]
  },
  {
   "cell_type": "code",
   "execution_count": null,
   "metadata": {},
   "outputs": [
    {
     "data": {
      "text/plain": [
       "tensor([-63.4164, -64.7677, -63.8612, -67.1287, -68.3800, -62.8519, -63.0564,\n",
       "        -65.9451, -61.5541, -67.5492, -63.4677, -62.2973, -66.1599, -60.0437,\n",
       "        -59.0938, -60.6916])"
      ]
     },
     "execution_count": null,
     "metadata": {},
     "output_type": "execute_result"
    }
   ],
   "source": [
    "comp_int.log_prob(int_gmm._pad(xyzi[int_sl].transpose(0,1))).cpu()[0,4].reshape(-1,16)[1528]"
   ]
  },
  {
   "cell_type": "code",
   "execution_count": null,
   "metadata": {},
   "outputs": [
    {
     "data": {
      "text/plain": [
       "torch.Size([36864])"
      ]
     },
     "execution_count": null,
     "metadata": {},
     "output_type": "execute_result"
    }
   ],
   "source": [
    "comp_int.log_prob(int_gmm._pad(xyzi[int_sl].transpose(0,1))).cpu()[0,4].shape"
   ]
  },
  {
   "cell_type": "code",
   "execution_count": null,
   "metadata": {},
   "outputs": [
    {
     "data": {
      "text/plain": [
       "torch.Size([3, 7, 36864])"
      ]
     },
     "execution_count": null,
     "metadata": {},
     "output_type": "execute_result"
    }
   ],
   "source": [
    "comp_int.log_prob(int_gmm._pad(xyzi[int_sl].transpose(0,1))).cpu().shape"
   ]
  },
  {
   "cell_type": "code",
   "execution_count": null,
   "metadata": {},
   "outputs": [
    {
     "data": {
      "text/plain": [
       "torch.Size([3, 7, 16])"
      ]
     },
     "execution_count": null,
     "metadata": {},
     "output_type": "execute_result"
    }
   ],
   "source": [
    "xyzi[int_sl].transpose(0,1).shape"
   ]
  },
  {
   "cell_type": "code",
   "execution_count": null,
   "metadata": {},
   "outputs": [],
   "source": [
    "tra = torch.distributions.Normal(comp_int.base_dist.loc, comp_int.base_dist.scale).log_prob(int_gmm._pad(xyzi[int_sl].transpose(0,1))).reshape(3,7,-1,16,16)"
   ]
  },
  {
   "cell_type": "code",
   "execution_count": null,
   "metadata": {},
   "outputs": [
    {
     "data": {
      "text/plain": [
       "tensor([-1.6202, -1.8732, -1.7483, -2.7201])"
      ]
     },
     "execution_count": null,
     "metadata": {},
     "output_type": "execute_result"
    }
   ],
   "source": [
    "torch.diag(tra[0,4,1528]).cpu()[gt.nonzero()[:,0]]"
   ]
  },
  {
   "cell_type": "code",
   "execution_count": null,
   "metadata": {},
   "outputs": [
    {
     "name": "stdout",
     "output_type": "stream",
     "text": [
      "tensor([ 0.3336,  1.1125, -0.9189], device='cuda:0') tensor(0.5272, device='cuda:0')\n"
     ]
    },
    {
     "name": "stderr",
     "output_type": "stream",
     "text": [
      "/tmp/ipykernel_56556/1467059899.py:6: UserWarning: To copy construct from a tensor, it is recommended to use sourceTensor.clone().detach() or sourceTensor.clone().detach().requires_grad_(True), rather than torch.tensor(sourceTensor).\n",
      "  logp = torch.distributions.Normal(T(mu[gt.nonzero()[:,0]]), T(sig[gt.nonzero()[:,0]])).log_prob(gt[gt.nonzero()[:,0]])\n"
     ]
    }
   ],
   "source": [
    "mu = xyzi_mu[xyz_sl][4,1528]\n",
    "sig = xyzi_sig[xyz_sl][4,1528]\n",
    "gt = xyzi[xyz_sl].transpose(0,1)[0,4]\n",
    "\n",
    "import torch.tensor as T\n",
    "logp = torch.distributions.Normal(T(mu[gt.nonzero()[:,0]]), T(sig[gt.nonzero()[:,0]])).log_prob(gt[gt.nonzero()[:,0]])\n",
    "print(logp, logp.sum())"
   ]
  },
  {
   "cell_type": "code",
   "execution_count": null,
   "metadata": {},
   "outputs": [
    {
     "data": {
      "text/plain": [
       "tensor(0.5271)"
      ]
     },
     "execution_count": null,
     "metadata": {},
     "output_type": "execute_result"
    }
   ],
   "source": [
    "comp_xyz.log_prob(spatial_gmm._pad(xyzi[xyz_sl].transpose(0,1))).cpu()[0,4,1528]"
   ]
  },
  {
   "cell_type": "code",
   "execution_count": null,
   "metadata": {},
   "outputs": [
    {
     "data": {
      "text/plain": [
       "torch.Size([7, 2304])"
      ]
     },
     "execution_count": null,
     "metadata": {},
     "output_type": "execute_result"
    }
   ],
   "source": [
    "log_mix_prob2.shape"
   ]
  },
  {
   "cell_type": "code",
   "execution_count": null,
   "metadata": {},
   "outputs": [
    {
     "data": {
      "text/plain": [
       "[<matplotlib.lines.Line2D at 0x7f72748d8280>]"
      ]
     },
     "execution_count": null,
     "metadata": {},
     "output_type": "execute_result"
    },
    {
     "data": {
      "image/png": "[encoded data removed]",
      "text/plain": [
       "<Figure size 720x360 with 2 Axes>"
      ]
     },
     "metadata": {
      "needs_background": "light"
     },
     "output_type": "display_data"
    }
   ],
   "source": [
    "plt.figure(figsize=(10,5))\n",
    "plt.subplot(121)\n",
    "plt.plot((int_prob)[0,4].cpu())\n",
    "plt.subplot(122)\n",
    "plt.plot((log_mix_prob2)[4].cpu())"
   ]
  },
  {
   "cell_type": "code",
   "execution_count": null,
   "metadata": {},
   "outputs": [
    {
     "data": {
      "text/plain": [
       "tensor(2253, device='cuda:0')"
      ]
     },
     "execution_count": null,
     "metadata": {},
     "output_type": "execute_result"
    }
   ],
   "source": [
    "torch.argmax(log_mix_prob2[4])"
   ]
  },
  {
   "cell_type": "code",
   "execution_count": null,
   "metadata": {},
   "outputs": [
    {
     "data": {
      "text/plain": [
       "torch.Size([3, 7, 2304])"
      ]
     },
     "execution_count": null,
     "metadata": {},
     "output_type": "execute_result"
    }
   ],
   "source": [
    "spatial_prob.shape"
   ]
  },
  {
   "cell_type": "code",
   "execution_count": null,
   "metadata": {},
   "outputs": [
    {
     "data": {
      "text/plain": [
       "<matplotlib.colorbar.Colorbar at 0x7f7277cae1f0>"
      ]
     },
     "execution_count": null,
     "metadata": {},
     "output_type": "execute_result"
    },
    {
     "data": {
      "image/png": "[encoded data removed]",
      "text/plain": [
       "<Figure size 432x288 with 2 Axes>"
      ]
     },
     "metadata": {
      "needs_background": "light"
     },
     "output_type": "display_data"
    }
   ],
   "source": [
    "plt.imshow(torch.exp(spatial_prob+log_mix_prob1)[0,4].cpu().reshape([48,-1]))\n",
    "plt.colorbar()"
   ]
  },
  {
   "cell_type": "code",
   "execution_count": null,
   "metadata": {},
   "outputs": [
    {
     "data": {
      "text/plain": [
       "<matplotlib.colorbar.Colorbar at 0x7f7277e16730>"
      ]
     },
     "execution_count": null,
     "metadata": {},
     "output_type": "execute_result"
    },
    {
     "data": {
      "image/png": "[encoded data removed]",
      "text/plain": [
       "<Figure size 432x288 with 2 Axes>"
      ]
     },
     "metadata": {
      "needs_background": "light"
     },
     "output_type": "display_data"
    }
   ],
   "source": [
    "plt.imshow(torch.exp(log_mix_prob1)[4].cpu().reshape([48,-1]))\n",
    "plt.colorbar()"
   ]
  },
  {
   "cell_type": "code",
   "execution_count": null,
   "metadata": {},
   "outputs": [
    {
     "data": {
      "text/plain": [
       "tensor([[-0.0000, -0.0000, -0.0000],\n",
       "        [0.8051, 1.7006, 1.2011],\n",
       "        [-0.0000, -0.0000, -0.0000],\n",
       "        [0.8855, -0.0000, -0.0000],\n",
       "        [1.1286, -0.0000, -0.0000],\n",
       "        [-0.0000, -0.0000, -0.0000],\n",
       "        [-0.0000, -0.0000, -0.0000]], device='cuda:0')"
      ]
     },
     "execution_count": null,
     "metadata": {},
     "output_type": "execute_result"
    }
   ],
   "source": [
    "torch.logsumexp(spatial_prob,-1).transpose(0, 1) * s_mask"
   ]
  },
  {
   "cell_type": "code",
   "execution_count": null,
   "metadata": {},
   "outputs": [
    {
     "data": {
      "text/plain": [
       "tensor([[   0.0000,    0.0000,    0.0000],\n",
       "        [-430.6706, -845.0146, -710.6526],\n",
       "        [   0.0000,    0.0000,    0.0000],\n",
       "        [-817.6026,    0.0000,    0.0000],\n",
       "        [-845.3740,    0.0000,    0.0000],\n",
       "        [   0.0000,    0.0000,    0.0000],\n",
       "        [   0.0000,    0.0000,    0.0000]], device='cuda:0')"
      ]
     },
     "execution_count": null,
     "metadata": {},
     "output_type": "execute_result"
    }
   ],
   "source": [
    "torch.logsumexp(int_prob ,-1).transpose(0, 1)  * s_mask"
   ]
  },
  {
   "cell_type": "code",
   "execution_count": null,
   "metadata": {},
   "outputs": [
    {
     "data": {
      "text/plain": [
       "torch.Size([7, 3])"
      ]
     },
     "execution_count": null,
     "metadata": {},
     "output_type": "execute_result"
    }
   ],
   "source": [
    "s_mask.shape"
   ]
  },
  {
   "cell_type": "code",
   "execution_count": null,
   "metadata": {},
   "outputs": [
    {
     "data": {
      "text/plain": [
       "torch.Size([7, 48])"
      ]
     },
     "execution_count": null,
     "metadata": {},
     "output_type": "execute_result"
    }
   ],
   "source": [
    "int_count_prob.shape"
   ]
  },
  {
   "cell_type": "code",
   "execution_count": null,
   "metadata": {},
   "outputs": [
    {
     "data": {
      "text/plain": [
       "torch.Size([7])"
      ]
     },
     "execution_count": null,
     "metadata": {},
     "output_type": "execute_result"
    }
   ],
   "source": [
    "count_prob.shape"
   ]
  },
  {
   "cell_type": "code",
   "execution_count": null,
   "metadata": {},
   "outputs": [
    {
     "data": {
      "text/plain": [
       "tensor(7259.4150, device='cuda:0')"
      ]
     },
     "execution_count": null,
     "metadata": {},
     "output_type": "execute_result"
    }
   ],
   "source": [
    "(int_dist.log_prob(torch.ones_like(int_mean).cuda() * n_bits)*P).sum()"
   ]
  },
  {
   "cell_type": "code",
   "execution_count": null,
   "metadata": {},
   "outputs": [
    {
     "name": "stdout",
     "output_type": "stream",
     "text": [
      "tensor(-8857.0488, device='cuda:0')\n"
     ]
    }
   ],
   "source": [
    "ppg = PointProcessGaussian(**model_out)\n",
    "spatial_prob, log_mix_prob1, int_prob, log_mix_prob2 = ppg.log_prob(*sim_vars[:5], n_bits=4, channels=16, min_int_sig=.2, int_fac=16)\n",
    "print(spatial_prob.mean())"
   ]
  },
  {
   "cell_type": "code",
   "execution_count": null,
   "metadata": {},
   "outputs": [
    {
     "data": {
      "image/png": "[encoded data removed]",
      "text/plain": [
       "<Figure size 432x288 with 1 Axes>"
      ]
     },
     "metadata": {
      "needs_background": "light"
     },
     "output_type": "display_data"
    }
   ],
   "source": [
    "_= plt.hist(np.array(spatial_prob.reshape(-1).cpu().detach()))\n",
    "_= plt.hist(np.array(int_prob.reshape(-1).cpu().detach()))"
   ]
  },
  {
   "cell_type": "code",
   "execution_count": null,
   "metadata": {},
   "outputs": [
    {
     "data": {
      "text/plain": [
       "tensor(-3072.4915, device='cuda:0')"
      ]
     },
     "execution_count": null,
     "metadata": {},
     "output_type": "execute_result"
    }
   ],
   "source": [
    "int_prob.min()"
   ]
  },
  {
   "cell_type": "code",
   "execution_count": null,
   "metadata": {},
   "outputs": [],
   "source": [
    "model_out = torch.load('../data/model_batch_output_code_int_p.pt')\n",
    "sim_vars = torch.load('../data/sim_var_code_int_p.pt')"
   ]
  },
  {
   "cell_type": "code",
   "execution_count": null,
   "metadata": {},
   "outputs": [
    {
     "data": {
      "text/plain": [
       "dict_keys(['logits', 'xyzi_mu', 'xyzi_sigma', 'background', 'int_logits', 'Probs_si', 'Samples_si'])"
      ]
     },
     "execution_count": null,
     "metadata": {},
     "output_type": "execute_result"
    }
   ],
   "source": [
    "model_out.keys()"
   ]
  },
  {
   "cell_type": "code",
   "execution_count": null,
   "metadata": {},
   "outputs": [
    {
     "data": {
      "text/plain": [
       "dict_keys(['logits', 'xyzi_mu', 'xyzi_sigma', 'background', 'int_logits', 'Probs_si', 'Samples_si'])"
      ]
     },
     "execution_count": null,
     "metadata": {},
     "output_type": "execute_result"
    }
   ],
   "source": [
    "model_out = torch.load('../data/model_batch_output_code_int_p.pt')\n",
    "for k in model_out:\n",
    "    model_out[k] = model_out[k].to('cuda') \n",
    "model_out.keys()\n",
    "# model_out['logits'].shape"
   ]
  },
  {
   "cell_type": "code",
   "execution_count": null,
   "metadata": {},
   "outputs": [],
   "source": [
    "from decode_fish.engine.point_process import PointProcessUniform\n",
    "point_process = PointProcessUniform(local_rate = torch.ones([2,1,48,48,48])*.001, int_conc=1.0, sim_iters=5, channels=16, n_bits=4)\n",
    "locs_3d, x_os_3d, y_os_3d, z_os_3d, ints_3d, output_shape = point_process.sample(phasing=False)"
   ]
  },
  {
   "cell_type": "code",
   "execution_count": null,
   "metadata": {},
   "outputs": [
    {
     "ename": "NameError",
     "evalue": "name 'get_true_labels_mf' is not defined",
     "output_type": "error",
     "traceback": [
      "\u001b[0;31m---------------------------------------------------------------------------\u001b[0m",
      "\u001b[0;31mNameError\u001b[0m                                 Traceback (most recent call last)",
      "\u001b[0;32m/tmp/ipykernel_46350/558580176.py\u001b[0m in \u001b[0;36m<module>\u001b[0;34m\u001b[0m\n\u001b[1;32m      1\u001b[0m \u001b[0mlocs_3d\u001b[0m \u001b[0;34m=\u001b[0m \u001b[0;34m[\u001b[0m\u001b[0ml\u001b[0m\u001b[0;34m.\u001b[0m\u001b[0mcuda\u001b[0m\u001b[0;34m(\u001b[0m\u001b[0;34m)\u001b[0m \u001b[0;32mfor\u001b[0m \u001b[0ml\u001b[0m \u001b[0;32min\u001b[0m \u001b[0mlocs_3d\u001b[0m\u001b[0;34m]\u001b[0m\u001b[0;34m\u001b[0m\u001b[0;34m\u001b[0m\u001b[0m\n\u001b[1;32m      2\u001b[0m \u001b[0;31m# xyzi_true, s_mask = get_true_labels(2, locs_3d, x_os_3d.cuda(), y_os_3d.cuda(), z_os_3d.cuda(), ints_3d.cuda())\u001b[0m\u001b[0;34m\u001b[0m\u001b[0;34m\u001b[0m\u001b[0;34m\u001b[0m\u001b[0m\n\u001b[0;32m----> 3\u001b[0;31m \u001b[0mxyzi_true\u001b[0m\u001b[0;34m,\u001b[0m \u001b[0ms_mask\u001b[0m \u001b[0;34m=\u001b[0m \u001b[0mget_true_labels_mf\u001b[0m\u001b[0;34m(\u001b[0m\u001b[0;36m2\u001b[0m\u001b[0;34m,\u001b[0m \u001b[0;36m4\u001b[0m\u001b[0;34m,\u001b[0m \u001b[0;36m16\u001b[0m\u001b[0;34m,\u001b[0m \u001b[0mlocs_3d\u001b[0m\u001b[0;34m,\u001b[0m \u001b[0mx_os_3d\u001b[0m\u001b[0;34m.\u001b[0m\u001b[0mcuda\u001b[0m\u001b[0;34m(\u001b[0m\u001b[0;34m)\u001b[0m\u001b[0;34m,\u001b[0m \u001b[0my_os_3d\u001b[0m\u001b[0;34m.\u001b[0m\u001b[0mcuda\u001b[0m\u001b[0;34m(\u001b[0m\u001b[0;34m)\u001b[0m\u001b[0;34m,\u001b[0m \u001b[0mz_os_3d\u001b[0m\u001b[0;34m.\u001b[0m\u001b[0mcuda\u001b[0m\u001b[0;34m(\u001b[0m\u001b[0;34m)\u001b[0m\u001b[0;34m,\u001b[0m \u001b[0mints_3d\u001b[0m\u001b[0;34m.\u001b[0m\u001b[0mcuda\u001b[0m\u001b[0;34m(\u001b[0m\u001b[0;34m)\u001b[0m\u001b[0;34m)\u001b[0m\u001b[0;34m\u001b[0m\u001b[0;34m\u001b[0m\u001b[0m\n\u001b[0m\u001b[1;32m      4\u001b[0m \u001b[0mprint\u001b[0m\u001b[0;34m(\u001b[0m\u001b[0mlen\u001b[0m\u001b[0;34m(\u001b[0m\u001b[0mlocs_3d\u001b[0m\u001b[0;34m[\u001b[0m\u001b[0;36m0\u001b[0m\u001b[0;34m]\u001b[0m\u001b[0;34m)\u001b[0m\u001b[0;34m)\u001b[0m\u001b[0;34m\u001b[0m\u001b[0;34m\u001b[0m\u001b[0m\n\u001b[1;32m      5\u001b[0m \u001b[0mprint\u001b[0m\u001b[0;34m(\u001b[0m\u001b[0ms_mask\u001b[0m\u001b[0;34m)\u001b[0m\u001b[0;34m\u001b[0m\u001b[0;34m\u001b[0m\u001b[0m\n",
      "\u001b[0;31mNameError\u001b[0m: name 'get_true_labels_mf' is not defined"
     ]
    }
   ],
   "source": [
    "locs_3d = [l.cuda() for l in locs_3d]\n",
    "# xyzi_true, s_mask = get_true_labels(2, locs_3d, x_os_3d.cuda(), y_os_3d.cuda(), z_os_3d.cuda(), ints_3d.cuda())\n",
    "xyzi_true, s_mask = get_true_labels_mf(2, 4, 16, locs_3d, x_os_3d.cuda(), y_os_3d.cuda(), z_os_3d.cuda(), ints_3d.cuda())\n",
    "print(len(locs_3d[0]))\n",
    "print(s_mask)\n",
    "print(s_mask.sum(-1))"
   ]
  },
  {
   "cell_type": "code",
   "execution_count": null,
   "metadata": {},
   "outputs": [
    {
     "name": "stdout",
     "output_type": "stream",
     "text": [
      "torch.Size([2]) torch.Size([])\n",
      "torch.Size([2, 2304]) torch.Size([3])\n",
      "torch.Size([2, 2304]) torch.Size([])\n",
      "torch.Size([2, 2304, 16]) torch.Size([1])\n",
      "torch.Size([2]) torch.Size([3])\n",
      "torch.Size([2, 2304]) torch.Size([1])\n",
      "torch.Size([116, 2, 1, 3])\n",
      "torch.Size([116, 2, 1, 16])\n"
     ]
    },
    {
     "ename": "RuntimeError",
     "evalue": "The size of tensor a (2) must match the size of tensor b (2304) at non-singleton dimension 1",
     "output_type": "error",
     "traceback": [
      "\u001b[0;31m---------------------------------------------------------------------------\u001b[0m",
      "\u001b[0;31mRuntimeError\u001b[0m                              Traceback (most recent call last)",
      "\u001b[0;32m<ipython-input-11-2c7bbd7b19b7>\u001b[0m in \u001b[0;36m<module>\u001b[0;34m\u001b[0m\n\u001b[1;32m      1\u001b[0m \u001b[0mppg\u001b[0m \u001b[0;34m=\u001b[0m \u001b[0mPointProcessGaussian\u001b[0m\u001b[0;34m(\u001b[0m\u001b[0;34m**\u001b[0m\u001b[0mmodel_out\u001b[0m\u001b[0;34m)\u001b[0m\u001b[0;34m\u001b[0m\u001b[0;34m\u001b[0m\u001b[0m\n\u001b[0;32m----> 2\u001b[0;31m \u001b[0mgmm_loss\u001b[0m \u001b[0;34m=\u001b[0m \u001b[0mppg\u001b[0m\u001b[0;34m.\u001b[0m\u001b[0mlog_prob\u001b[0m\u001b[0;34m(\u001b[0m\u001b[0mlocs_3d\u001b[0m\u001b[0;34m,\u001b[0m \u001b[0mx_os_3d\u001b[0m\u001b[0;34m.\u001b[0m\u001b[0mcuda\u001b[0m\u001b[0;34m(\u001b[0m\u001b[0;34m)\u001b[0m\u001b[0;34m,\u001b[0m \u001b[0my_os_3d\u001b[0m\u001b[0;34m.\u001b[0m\u001b[0mcuda\u001b[0m\u001b[0;34m(\u001b[0m\u001b[0;34m)\u001b[0m\u001b[0;34m,\u001b[0m \u001b[0mz_os_3d\u001b[0m\u001b[0;34m.\u001b[0m\u001b[0mcuda\u001b[0m\u001b[0;34m(\u001b[0m\u001b[0;34m)\u001b[0m\u001b[0;34m,\u001b[0m \u001b[0mints_3d\u001b[0m\u001b[0;34m.\u001b[0m\u001b[0mcuda\u001b[0m\u001b[0;34m(\u001b[0m\u001b[0;34m)\u001b[0m\u001b[0;34m,\u001b[0m \u001b[0mn_bits\u001b[0m\u001b[0;34m=\u001b[0m\u001b[0;36m4\u001b[0m\u001b[0;34m,\u001b[0m \u001b[0mchannels\u001b[0m\u001b[0;34m=\u001b[0m\u001b[0;36m16\u001b[0m\u001b[0;34m,\u001b[0m \u001b[0mmin_int_sig\u001b[0m\u001b[0;34m=\u001b[0m\u001b[0;36m0.1\u001b[0m\u001b[0;34m)\u001b[0m\u001b[0;34m\u001b[0m\u001b[0;34m\u001b[0m\u001b[0m\n\u001b[0m\u001b[1;32m      3\u001b[0m \u001b[0mgmm_loss\u001b[0m\u001b[0;34m\u001b[0m\u001b[0;34m\u001b[0m\u001b[0m\n",
      "\u001b[0;32m<ipython-input-4-61fabb91af9a>\u001b[0m in \u001b[0;36mlog_prob\u001b[0;34m(self, locations, x_offset, y_offset, z_offset, intensities, n_bits, channels, min_int_sig, int_fac)\u001b[0m\n\u001b[1;32m     89\u001b[0m \u001b[0;34m\u001b[0m\u001b[0m\n\u001b[1;32m     90\u001b[0m         \u001b[0mspatial_prob\u001b[0m\u001b[0;34m,\u001b[0m \u001b[0mlog_mix_prob\u001b[0m \u001b[0;34m=\u001b[0m \u001b[0mxyz_log_prob\u001b[0m\u001b[0;34m(\u001b[0m\u001b[0mspatial_gmm\u001b[0m\u001b[0;34m,\u001b[0m \u001b[0mxyzi\u001b[0m\u001b[0;34m[\u001b[0m\u001b[0mxyz_sl\u001b[0m\u001b[0;34m]\u001b[0m\u001b[0;34m.\u001b[0m\u001b[0mtranspose\u001b[0m\u001b[0;34m(\u001b[0m\u001b[0;36m0\u001b[0m\u001b[0;34m,\u001b[0m \u001b[0;36m1\u001b[0m\u001b[0;34m)\u001b[0m\u001b[0;34m)\u001b[0m\u001b[0;34m\u001b[0m\u001b[0;34m\u001b[0m\u001b[0m\n\u001b[0;32m---> 91\u001b[0;31m         \u001b[0mint_prob\u001b[0m\u001b[0;34m,\u001b[0m \u001b[0m_\u001b[0m                \u001b[0;34m=\u001b[0m \u001b[0mint_log_prob\u001b[0m\u001b[0;34m(\u001b[0m\u001b[0mint_gmm\u001b[0m\u001b[0;34m,\u001b[0m \u001b[0mxyzi\u001b[0m\u001b[0;34m[\u001b[0m\u001b[0mint_sl\u001b[0m\u001b[0;34m]\u001b[0m\u001b[0;34m.\u001b[0m\u001b[0mtranspose\u001b[0m\u001b[0;34m(\u001b[0m\u001b[0;36m0\u001b[0m\u001b[0;34m,\u001b[0m \u001b[0;36m1\u001b[0m\u001b[0;34m)\u001b[0m\u001b[0;34m)\u001b[0m\u001b[0;34m\u001b[0m\u001b[0;34m\u001b[0m\u001b[0m\n\u001b[0m\u001b[1;32m     92\u001b[0m \u001b[0;34m\u001b[0m\u001b[0m\n\u001b[1;32m     93\u001b[0m         \u001b[0mtotal_prob\u001b[0m \u001b[0;34m=\u001b[0m \u001b[0mtorch\u001b[0m\u001b[0;34m.\u001b[0m\u001b[0mlogsumexp\u001b[0m\u001b[0;34m(\u001b[0m\u001b[0mspatial_prob\u001b[0m \u001b[0;34m+\u001b[0m \u001b[0mint_prob\u001b[0m \u001b[0;34m+\u001b[0m \u001b[0mlog_mix_prob\u001b[0m\u001b[0;34m,\u001b[0m\u001b[0;34m-\u001b[0m\u001b[0;36m1\u001b[0m\u001b[0;34m)\u001b[0m\u001b[0;34m.\u001b[0m\u001b[0mtranspose\u001b[0m\u001b[0;34m(\u001b[0m\u001b[0;36m0\u001b[0m\u001b[0;34m,\u001b[0m \u001b[0;36m1\u001b[0m\u001b[0;34m)\u001b[0m\u001b[0;34m\u001b[0m\u001b[0;34m\u001b[0m\u001b[0m\n",
      "\u001b[0;32m<ipython-input-3-583d92f91285>\u001b[0m in \u001b[0;36mint_log_prob\u001b[0;34m(mix, x)\u001b[0m\n\u001b[1;32m     14\u001b[0m     \u001b[0mx\u001b[0m \u001b[0;34m=\u001b[0m \u001b[0mmix\u001b[0m\u001b[0;34m.\u001b[0m\u001b[0m_pad\u001b[0m\u001b[0;34m(\u001b[0m\u001b[0mx\u001b[0m\u001b[0;34m)\u001b[0m\u001b[0;34m\u001b[0m\u001b[0;34m\u001b[0m\u001b[0m\n\u001b[1;32m     15\u001b[0m     \u001b[0mprint\u001b[0m\u001b[0;34m(\u001b[0m\u001b[0mx\u001b[0m\u001b[0;34m.\u001b[0m\u001b[0mshape\u001b[0m\u001b[0;34m)\u001b[0m\u001b[0;34m\u001b[0m\u001b[0;34m\u001b[0m\u001b[0m\n\u001b[0;32m---> 16\u001b[0;31m     \u001b[0mlog_prob_x\u001b[0m \u001b[0;34m=\u001b[0m \u001b[0mmix\u001b[0m\u001b[0;34m.\u001b[0m\u001b[0mcomponent_distribution\u001b[0m\u001b[0;34m.\u001b[0m\u001b[0mlog_prob\u001b[0m\u001b[0;34m(\u001b[0m\u001b[0mx\u001b[0m\u001b[0;34m)\u001b[0m\u001b[0;34m\u001b[0m\u001b[0;34m\u001b[0m\u001b[0m\n\u001b[0m\u001b[1;32m     17\u001b[0m     \u001b[0mlog_prob_x\u001b[0m \u001b[0;34m=\u001b[0m \u001b[0m_sum_rightmost\u001b[0m\u001b[0;34m(\u001b[0m\u001b[0mlog_prob_x\u001b[0m\u001b[0;34m,\u001b[0m \u001b[0;36m1\u001b[0m\u001b[0;34m)\u001b[0m\u001b[0;34m\u001b[0m\u001b[0;34m\u001b[0m\u001b[0m\n\u001b[1;32m     18\u001b[0m \u001b[0;34m\u001b[0m\u001b[0m\n",
      "\u001b[0;32m~/anaconda3/envs/decode2_dev/lib/python3.7/site-packages/torch/distributions/independent.py\u001b[0m in \u001b[0;36mlog_prob\u001b[0;34m(self, value)\u001b[0m\n\u001b[1;32m     86\u001b[0m \u001b[0;34m\u001b[0m\u001b[0m\n\u001b[1;32m     87\u001b[0m     \u001b[0;32mdef\u001b[0m \u001b[0mlog_prob\u001b[0m\u001b[0;34m(\u001b[0m\u001b[0mself\u001b[0m\u001b[0;34m,\u001b[0m \u001b[0mvalue\u001b[0m\u001b[0;34m)\u001b[0m\u001b[0;34m:\u001b[0m\u001b[0;34m\u001b[0m\u001b[0;34m\u001b[0m\u001b[0m\n\u001b[0;32m---> 88\u001b[0;31m         \u001b[0mlog_prob\u001b[0m \u001b[0;34m=\u001b[0m \u001b[0mself\u001b[0m\u001b[0;34m.\u001b[0m\u001b[0mbase_dist\u001b[0m\u001b[0;34m.\u001b[0m\u001b[0mlog_prob\u001b[0m\u001b[0;34m(\u001b[0m\u001b[0mvalue\u001b[0m\u001b[0;34m)\u001b[0m\u001b[0;34m\u001b[0m\u001b[0;34m\u001b[0m\u001b[0m\n\u001b[0m\u001b[1;32m     89\u001b[0m         \u001b[0;32mreturn\u001b[0m \u001b[0m_sum_rightmost\u001b[0m\u001b[0;34m(\u001b[0m\u001b[0mlog_prob\u001b[0m\u001b[0;34m,\u001b[0m \u001b[0mself\u001b[0m\u001b[0;34m.\u001b[0m\u001b[0mreinterpreted_batch_ndims\u001b[0m\u001b[0;34m)\u001b[0m\u001b[0;34m\u001b[0m\u001b[0;34m\u001b[0m\u001b[0m\n\u001b[1;32m     90\u001b[0m \u001b[0;34m\u001b[0m\u001b[0m\n",
      "\u001b[0;32m~/anaconda3/envs/decode2_dev/lib/python3.7/site-packages/torch/distributions/normal.py\u001b[0m in \u001b[0;36mlog_prob\u001b[0;34m(self, value)\u001b[0m\n\u001b[1;32m     74\u001b[0m         \u001b[0mvar\u001b[0m \u001b[0;34m=\u001b[0m \u001b[0;34m(\u001b[0m\u001b[0mself\u001b[0m\u001b[0;34m.\u001b[0m\u001b[0mscale\u001b[0m \u001b[0;34m**\u001b[0m \u001b[0;36m2\u001b[0m\u001b[0;34m)\u001b[0m\u001b[0;34m\u001b[0m\u001b[0;34m\u001b[0m\u001b[0m\n\u001b[1;32m     75\u001b[0m         \u001b[0mlog_scale\u001b[0m \u001b[0;34m=\u001b[0m \u001b[0mmath\u001b[0m\u001b[0;34m.\u001b[0m\u001b[0mlog\u001b[0m\u001b[0;34m(\u001b[0m\u001b[0mself\u001b[0m\u001b[0;34m.\u001b[0m\u001b[0mscale\u001b[0m\u001b[0;34m)\u001b[0m \u001b[0;32mif\u001b[0m \u001b[0misinstance\u001b[0m\u001b[0;34m(\u001b[0m\u001b[0mself\u001b[0m\u001b[0;34m.\u001b[0m\u001b[0mscale\u001b[0m\u001b[0;34m,\u001b[0m \u001b[0mNumber\u001b[0m\u001b[0;34m)\u001b[0m \u001b[0;32melse\u001b[0m \u001b[0mself\u001b[0m\u001b[0;34m.\u001b[0m\u001b[0mscale\u001b[0m\u001b[0;34m.\u001b[0m\u001b[0mlog\u001b[0m\u001b[0;34m(\u001b[0m\u001b[0;34m)\u001b[0m\u001b[0;34m\u001b[0m\u001b[0;34m\u001b[0m\u001b[0m\n\u001b[0;32m---> 76\u001b[0;31m         \u001b[0;32mreturn\u001b[0m \u001b[0;34m-\u001b[0m\u001b[0;34m(\u001b[0m\u001b[0;34m(\u001b[0m\u001b[0mvalue\u001b[0m \u001b[0;34m-\u001b[0m \u001b[0mself\u001b[0m\u001b[0;34m.\u001b[0m\u001b[0mloc\u001b[0m\u001b[0;34m)\u001b[0m \u001b[0;34m**\u001b[0m \u001b[0;36m2\u001b[0m\u001b[0;34m)\u001b[0m \u001b[0;34m/\u001b[0m \u001b[0;34m(\u001b[0m\u001b[0;36m2\u001b[0m \u001b[0;34m*\u001b[0m \u001b[0mvar\u001b[0m\u001b[0;34m)\u001b[0m \u001b[0;34m-\u001b[0m \u001b[0mlog_scale\u001b[0m \u001b[0;34m-\u001b[0m \u001b[0mmath\u001b[0m\u001b[0;34m.\u001b[0m\u001b[0mlog\u001b[0m\u001b[0;34m(\u001b[0m\u001b[0mmath\u001b[0m\u001b[0;34m.\u001b[0m\u001b[0msqrt\u001b[0m\u001b[0;34m(\u001b[0m\u001b[0;36m2\u001b[0m \u001b[0;34m*\u001b[0m \u001b[0mmath\u001b[0m\u001b[0;34m.\u001b[0m\u001b[0mpi\u001b[0m\u001b[0;34m)\u001b[0m\u001b[0;34m)\u001b[0m\u001b[0;34m\u001b[0m\u001b[0;34m\u001b[0m\u001b[0m\n\u001b[0m\u001b[1;32m     77\u001b[0m \u001b[0;34m\u001b[0m\u001b[0m\n\u001b[1;32m     78\u001b[0m     \u001b[0;32mdef\u001b[0m \u001b[0mcdf\u001b[0m\u001b[0;34m(\u001b[0m\u001b[0mself\u001b[0m\u001b[0;34m,\u001b[0m \u001b[0mvalue\u001b[0m\u001b[0;34m)\u001b[0m\u001b[0;34m:\u001b[0m\u001b[0;34m\u001b[0m\u001b[0;34m\u001b[0m\u001b[0m\n",
      "\u001b[0;31mRuntimeError\u001b[0m: The size of tensor a (2) must match the size of tensor b (2304) at non-singleton dimension 1"
     ]
    }
   ],
   "source": [
    "ppg = PointProcessGaussian(**model_out)\n",
    "gmm_loss = ppg.log_prob(locs_3d, x_os_3d.cuda(), y_os_3d.cuda(), z_os_3d.cuda(), ints_3d.cuda(), n_bits=4, channels=16, min_int_sig=0.1)\n",
    "gmm_loss"
   ]
  },
  {
   "cell_type": "code",
   "execution_count": null,
   "metadata": {},
   "outputs": [
    {
     "data": {
      "text/plain": [
       "tensor([1.4218, 0.1334, 1.1148,  ..., 0.1914, 1.5103, 0.0080], device='cuda:0')"
      ]
     },
     "execution_count": null,
     "metadata": {},
     "output_type": "execute_result"
    }
   ],
   "source": [
    "ints_3d.cuda()"
   ]
  },
  {
   "cell_type": "code",
   "execution_count": null,
   "metadata": {},
   "outputs": [],
   "source": [
    "# for i in range(1000):\n",
    "#     gmm_loss = PointProcessGaussian(**model_out).log_prob(locs_3d, x_os_3d.cuda(), y_os_3d.cuda(), z_os_3d.cuda(), ints_3d.cuda())"
   ]
  },
  {
   "cell_type": "code",
   "execution_count": null,
   "metadata": {},
   "outputs": [
    {
     "name": "stdout",
     "output_type": "stream",
     "text": [
      "Converted 00_models.ipynb.\n",
      "Converted 01_psf.ipynb.\n",
      "Converted 02_microscope.ipynb.\n",
      "Converted 03_noise.ipynb.\n",
      "Converted 04_pointsource.ipynb.\n",
      "Converted 05_gmm_loss.ipynb.\n",
      "Converted 06_plotting.ipynb.\n",
      "Converted 07_file_io.ipynb.\n",
      "Converted 08_dataset.ipynb.\n",
      "Converted 09_output_trafo.ipynb.\n",
      "Converted 10_evaluation.ipynb.\n",
      "Converted 11_emitter_io.ipynb.\n",
      "Converted 12_utils.ipynb.\n",
      "Converted 13_train.ipynb.\n",
      "Converted 15_fit_psf.ipynb.\n",
      "Converted 16_visualization.ipynb.\n",
      "Converted 17_eval_routines.ipynb.\n",
      "Converted 18_predict_funcs.ipynb.\n",
      "Converted 19_MERFISH_routines.ipynb.\n",
      "Converted 20_MERFISH_visualization.ipynb.\n",
      "Converted 22_MERFISH_codenet.ipynb.\n",
      "Converted index.ipynb.\n"
     ]
    }
   ],
   "source": [
    "!nbdev_build_lib"
   ]
  },
  {
   "cell_type": "code",
   "execution_count": null,
   "metadata": {},
   "outputs": [],
   "source": []
  }
 ],
 "metadata": {
  "kernelspec": {
   "display_name": "Python [conda env:decode_fish_dev]",
   "language": "python",
   "name": "conda-env-decode_fish_dev-py"
  }
 },
 "nbformat": 4,
 "nbformat_minor": 4
}
