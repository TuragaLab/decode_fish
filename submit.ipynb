{
 "cells": [
  {
   "cell_type": "code",
   "execution_count": 2,
   "metadata": {
    "ExecuteTime": {
     "end_time": "2022-05-13T08:40:58.108333Z",
     "start_time": "2022-05-13T08:40:53.558096Z"
    }
   },
   "outputs": [],
   "source": [
    "from pathlib import Path\n",
    "from decode_fish.funcs.utils import *\n",
    "import glob\n",
    "\n",
    "def make_sweep_str(pfile, pars, group, resume=False, init=None, gpu='gpu_rtx', runfile='train.py', n=1):\n",
    "    \n",
    "    base_string = f'bsub -gpu \"num=1\" -n {n} -q {gpu} -o logs/ofish.log -e logs/efish.log /groups/turaga/home/speisera/anaconda3/envs/decode_fish_dev2/bin/python /groups/turaga/home/speisera/Mackebox/Artur/WorkDB/deepstorm/decode_fish/decode_fish/{runfile}'   \n",
    "    \n",
    "    base_str = base_string + f' +experiment={pfile}'\n",
    "    name = ''\n",
    "    \n",
    "    for k in pars:\n",
    "        if k!= 'run_name':\n",
    "            base_str += ' ' + k + f'={pars[k]}'\n",
    "            name += k.split('.')[-1]+f':{pars[k]}x'\n",
    "            name = name.replace('[', '')\n",
    "            name = name.replace(']', '')\n",
    "            name = name.replace(',', 'x')\n",
    "    name = name[:-1]\n",
    "    \n",
    "    if 'run_name' in pars:\n",
    "        name=pars['run_name']\n",
    "    \n",
    "    if resume:\n",
    "        base_str += ' training.resume=True '\n",
    "    if init is not None:\n",
    "        base_str += f' data_path.model_init={init} '\n",
    "    \n",
    "    return base_str + f' run_name={name} output.group={group}' + '\\n'\n",
    "    \n",
    "\n",
    "def make_named_str(pfile, name, group):\n",
    "    \n",
    "    base_str = base_string + f' +experiment={pfile}'\n",
    "    \n",
    "    return base_str + f' run_name={name} output.group={group}' + '\\n'"
   ]
  },
  {
   "cell_type": "code",
   "execution_count": 179,
   "metadata": {},
   "outputs": [],
   "source": [
    "# cfg.training.mic.par_grads.channel_facs = False\n",
    "# cfg.training.mic.par_grads.channel_shifts = False\n",
    "# cfg.training.mic.par_grads.theta_par = False\n",
    "# cfg.training.mic.par_grads.psf_vol = False"
   ]
  },
  {
   "cell_type": "code",
   "execution_count": 186,
   "metadata": {
    "ExecuteTime": {
     "end_time": "2022-05-04T15:05:20.727005Z",
     "start_time": "2022-05-04T15:05:20.720955Z"
    }
   },
   "outputs": [],
   "source": [
    "group = 'sweep_mop_20'\n",
    "pfile = 'MERFISH_mop_20'\n",
    "\n",
    "variable_col = param_iter()\n",
    "variable_col.add('data_path.image_path', '/groups/turaga/home/speisera/Mackebox/Artur/WorkDB/deepstorm//datasets/CodFish/MERFISH/MOp/mouse1_sample1_raw/aligned_images150.tif', '/groups/turaga/home/speisera/Mackebox/Artur/WorkDB/deepstorm//datasets/CodFish/MERFISH/MOp/mouse1_sample1_raw/aligned_images151.tif', '/groups/turaga/home/speisera/Mackebox/Artur/WorkDB/deepstorm//datasets/CodFish/MERFISH/MOp/mouse1_sample1_raw/aligned_images47.tif')\n",
    "par_prod = variable_col.param_product()"
   ]
  },
  {
   "cell_type": "code",
   "execution_count": 68,
   "metadata": {
    "ExecuteTime": {
     "end_time": "2022-05-26T10:56:37.226038Z",
     "start_time": "2022-05-26T10:56:37.220559Z"
    }
   },
   "outputs": [],
   "source": [
    "group = 'sim_int_2'\n",
    "pfile = 'sim_int_2'\n",
    "\n",
    "variable_col = param_iter()\n",
    "variable_col.add('training.mic.par_grads.channel_facs', False)\n",
    "# variable_col.add('training.mic.par_grads.channel_shifts', False)\n",
    "# variable_col.add('training.mic.par_grads.psf_vol', False)\n",
    "par_prod = variable_col.param_product()"
   ]
  },
  {
   "cell_type": "code",
   "execution_count": 273,
   "metadata": {
    "ExecuteTime": {
     "end_time": "2022-06-12T21:30:41.199814Z",
     "start_time": "2022-06-12T21:30:41.188474Z"
    }
   },
   "outputs": [],
   "source": [
    "group = 'sweep_mop_31'\n",
    "pfile = 'MERFISH_mop_31'\n",
    "\n",
    "variable_col = param_iter()\n",
    "# variable_col.add('training.net.opt.lr', 2e-4)\n",
    "# variable_col.add('genm.pos_noise.pos_noise_xy', 0.3)\n",
    "variable_col.add('training.target_mean', True)\n",
    "variable_col.add('data_path.image_path', '/groups/turaga/home/speisera/Mackebox/Artur/WorkDB/deepstorm//datasets/CodFish/MERFISH/MOp/mouse1_sample1_raw/aligned_scaled5_images47.tif', \n",
    "                                        '/groups/turaga/home/speisera/Mackebox/Artur/WorkDB/deepstorm//datasets/CodFish/MERFISH/MOp/mouse1_sample1_raw/aligned_scaled5_images150.tif',\n",
    "                                        '/groups/turaga/home/speisera/Mackebox/Artur/WorkDB/deepstorm//datasets/CodFish/MERFISH/MOp/mouse1_sample1_raw/aligned_scaled5_images151.tif')\n",
    "par_prod = variable_col.param_product()"
   ]
  },
  {
   "cell_type": "code",
   "execution_count": 274,
   "metadata": {
    "ExecuteTime": {
     "end_time": "2022-06-12T21:30:41.904006Z",
     "start_time": "2022-06-12T21:30:41.887431Z"
    },
    "code_folding": [],
    "scrolled": true
   },
   "outputs": [
    {
     "name": "stdout",
     "output_type": "stream",
     "text": [
      "bsub -gpu \"num=1\" -n 1 -q gpu_rtx -o logs/ofish.log -e logs/efish.log /groups/turaga/home/speisera/anaconda3/envs/decode_fish_dev2/bin/python /groups/turaga/home/speisera/Mackebox/Artur/WorkDB/deepstorm/decode_fish/decode_fish/train.py +experiment=MERFISH_mop_31 training.target_mean=True data_path.image_path=/groups/turaga/home/speisera/Mackebox/Artur/WorkDB/deepstorm//datasets/CodFish/MERFISH/MOp/mouse1_sample1_raw/aligned_scaled5_images47.tif run_name=target_mean:Trueximage_path:/groups/turaga/home/speisera/Mackebox/Artur/WorkDB/deepstorm//datasets/CodFish/MERFISH/MOp/mouse1_sample1_raw/aligned_scaled5_images47.tif output.group=sweep_mop_31\n",
      "\n",
      "bsub -gpu \"num=1\" -n 1 -q gpu_rtx -o logs/ofish.log -e logs/efish.log /groups/turaga/home/speisera/anaconda3/envs/decode_fish_dev2/bin/python /groups/turaga/home/speisera/Mackebox/Artur/WorkDB/deepstorm/decode_fish/decode_fish/train.py +experiment=MERFISH_mop_31 training.target_mean=True data_path.image_path=/groups/turaga/home/speisera/Mackebox/Artur/WorkDB/deepstorm//datasets/CodFish/MERFISH/MOp/mouse1_sample1_raw/aligned_scaled5_images150.tif run_name=target_mean:Trueximage_path:/groups/turaga/home/speisera/Mackebox/Artur/WorkDB/deepstorm//datasets/CodFish/MERFISH/MOp/mouse1_sample1_raw/aligned_scaled5_images150.tif output.group=sweep_mop_31\n",
      "\n",
      "bsub -gpu \"num=1\" -n 1 -q gpu_rtx -o logs/ofish.log -e logs/efish.log /groups/turaga/home/speisera/anaconda3/envs/decode_fish_dev2/bin/python /groups/turaga/home/speisera/Mackebox/Artur/WorkDB/deepstorm/decode_fish/decode_fish/train.py +experiment=MERFISH_mop_31 training.target_mean=True data_path.image_path=/groups/turaga/home/speisera/Mackebox/Artur/WorkDB/deepstorm//datasets/CodFish/MERFISH/MOp/mouse1_sample1_raw/aligned_scaled5_images151.tif run_name=target_mean:Trueximage_path:/groups/turaga/home/speisera/Mackebox/Artur/WorkDB/deepstorm//datasets/CodFish/MERFISH/MOp/mouse1_sample1_raw/aligned_scaled5_images151.tif output.group=sweep_mop_31\n",
      "\n"
     ]
    }
   ],
   "source": [
    "# Path.mkdir(model_path/group, exist_ok=True)\n",
    "\n",
    "with open('run_slurm.sh', 'w') as f:\n",
    "    for pars in par_prod:  \n",
    "        exec_str = make_sweep_str(pfile, pars, group, resume=False, gpu='gpu_rtx') #, \n",
    "        print(exec_str)\n",
    "        f.write(exec_str)"
   ]
  },
  {
   "cell_type": "code",
   "execution_count": 236,
   "metadata": {
    "ExecuteTime": {
     "end_time": "2022-06-11T15:32:04.295394Z",
     "start_time": "2022-06-11T15:32:04.280718Z"
    }
   },
   "outputs": [
    {
     "ename": "SyntaxError",
     "evalue": "invalid syntax (3663348337.py, line 1)",
     "output_type": "error",
     "traceback": [
      "\u001b[0;36m  Input \u001b[0;32mIn [236]\u001b[0;36m\u001b[0m\n\u001b[0;31m    bsub -gpu \"num=1\" -n 1 -q gpu_rtx -o logs/ofish.log -e logs/efish.log /groups/turaga/home/speisera/anaconda3/envs/decode_fish_dev2/bin/python /groups/turaga/home/speisera/Mackebox/Artur/WorkDB/deepstorm/decode_fish/decode_fish/train.py +experiment=MERFISH_mop_30 genm.exp_type.const_theta_sim=True data_path.image_path=/groups/turaga/home/speisera/Mackebox/Artur/WorkDB/deepstorm//datasets/CodFish/MERFISH/MOp/mouse1_sample1_raw/aligned_scaled5_images47.tif run_name=const_theta_sim:Truexscaled5_images47.tif output.group=sweep_mop_30\u001b[0m\n\u001b[0m              ^\u001b[0m\n\u001b[0;31mSyntaxError\u001b[0m\u001b[0;31m:\u001b[0m invalid syntax\n"
     ]
    }
   ],
   "source": [
    "\n",
    "bsub -gpu \"num=1\" -n 1 -q gpu_rtx -o logs/ofish.log -e logs/efish.log /groups/turaga/home/speisera/anaconda3/envs/decode_fish_dev2/bin/python /groups/turaga/home/speisera/Mackebox/Artur/WorkDB/deepstorm/decode_fish/decode_fish/train.py +experiment=MERFISH_mop_31 training.target_mean=True data_path.image_path=/groups/turaga/home/speisera/Mackebox/Artur/WorkDB/deepstorm//datasets/CodFish/MERFISH/MOp/mouse1_sample1_raw/aligned_scaled5_images150.tif run_name=target_mean:Trueximage_path:scaled5_images150.tif output.group=sweep_mop_31\n",
    "\n",
    "bsub -gpu \"num=1\" -n 1 -q gpu_rtx -o logs/ofish.log -e logs/efish.log /groups/turaga/home/speisera/anaconda3/envs/decode_fish_dev2/bin/python /groups/turaga/home/speisera/Mackebox/Artur/WorkDB/deepstorm/decode_fish/decode_fish/train.py +experiment=MERFISH_mop_31 training.target_mean=True data_path.image_path=/groups/turaga/home/speisera/Mackebox/Artur/WorkDB/deepstorm//datasets/CodFish/MERFISH/MOp/mouse1_sample1_raw/aligned_scaled5_images151.tif run_name=target_mean:Trueximage_path:scaled5_images151.tif output.group=sweep_mop_31"
   ]
  },
  {
   "cell_type": "code",
   "execution_count": 271,
   "metadata": {
    "ExecuteTime": {
     "end_time": "2022-06-12T21:31:21.733931Z",
     "start_time": "2022-06-12T21:31:21.726531Z"
    }
   },
   "outputs": [],
   "source": [
    "group = 'MERFISH_sweep_gen_8'\n",
    "pfile = 'MERFISH_sweep_gen_8'\n",
    "\n",
    "variable_col = param_iter()\n",
    "variable_col.add('training.target_mean', True, False)\n",
    "# variable_col.add('training.mic.ch_facs_as_theta', True)\n",
    "# variable_col.add('data_path.model_init', '/groups/turaga/home/speisera/Mackebox/Artur/WorkDB/deepstorm/models/fishcod/MERFISH_starfish/MERFISH_sweep_gen_7/seed:0xphasing:0.1//checkpoint/')\n",
    "\n",
    "par_prod = variable_col.param_zip()"
   ]
  },
  {
   "cell_type": "code",
   "execution_count": 272,
   "metadata": {
    "ExecuteTime": {
     "end_time": "2022-06-12T21:31:22.249075Z",
     "start_time": "2022-06-12T21:31:22.238347Z"
    }
   },
   "outputs": [
    {
     "name": "stdout",
     "output_type": "stream",
     "text": [
      "bsub -gpu \"num=1\" -n 1 -q gpu_rtx -o logs/ofish.log -e logs/efish.log /groups/turaga/home/speisera/anaconda3/envs/decode_fish_dev2/bin/python /groups/turaga/home/speisera/Mackebox/Artur/WorkDB/deepstorm/decode_fish/decode_fish/train.py +experiment=MERFISH_sweep_gen_8 training.target_mean=True run_name=target_mean:True output.group=MERFISH_sweep_gen_8\n",
      "\n",
      "bsub -gpu \"num=1\" -n 1 -q gpu_rtx -o logs/ofish.log -e logs/efish.log /groups/turaga/home/speisera/anaconda3/envs/decode_fish_dev2/bin/python /groups/turaga/home/speisera/Mackebox/Artur/WorkDB/deepstorm/decode_fish/decode_fish/train.py +experiment=MERFISH_sweep_gen_8 training.target_mean=False run_name=target_mean:False output.group=MERFISH_sweep_gen_8\n",
      "\n"
     ]
    }
   ],
   "source": [
    "# Path.mkdir(model_path/group, exist_ok=True)\n",
    "\n",
    "with open('run_slurm.sh', 'w') as f:\n",
    "    for pars in par_prod:  \n",
    "        exec_str = make_sweep_str(pfile, pars, group, resume=False, gpu='gpu_rtx') #, \n",
    "        print(exec_str)\n",
    "        f.write(exec_str)"
   ]
  },
  {
   "cell_type": "code",
   "execution_count": 264,
   "metadata": {
    "ExecuteTime": {
     "end_time": "2022-06-11T17:29:39.173417Z",
     "start_time": "2022-06-11T17:29:39.164324Z"
    }
   },
   "outputs": [
    {
     "ename": "SyntaxError",
     "evalue": "invalid syntax (3707715445.py, line 1)",
     "output_type": "error",
     "traceback": [
      "\u001b[0;36m  Input \u001b[0;32mIn [264]\u001b[0;36m\u001b[0m\n\u001b[0;31m    bsub -gpu \"num=1\" -n 1 -q gpu_rtx -o logs/ofish.log -e logs/efish.log /groups/turaga/home/speisera/anaconda3/envs/decode_fish_dev2/bin/python /groups/turaga/home/speisera/Mackebox/Artur/WorkDB/deepstorm/decode_fish/decode_fish/train.py +experiment=MERFISH_sweep_gen_7 seed=0 genm.phasing=0.1 data_path.model_init=/groups/turaga/home/speisera/Mackebox/Artur/WorkDB/deepstorm/models/fishcod/MERFISH_starfish/MERFISH_sweep_gen_7/seed:0xphasing:0.1//checkpoint/ run_name=seed:0xphasing:0.1 training.resume=True output.group=MERFISH_sweep_gen_7\u001b[0m\n\u001b[0m              ^\u001b[0m\n\u001b[0;31mSyntaxError\u001b[0m\u001b[0;31m:\u001b[0m invalid syntax\n"
     ]
    }
   ],
   "source": [
    "bsub -gpu \"num=1\" -n 1 -q gpu_rtx -o logs/ofish.log -e logs/efish.log /groups/turaga/home/speisera/anaconda3/envs/decode_fish_dev2/bin/python /groups/turaga/home/speisera/Mackebox/Artur/WorkDB/deepstorm/decode_fish/decode_fish/train.py +experiment=MERFISH_sweep_gen_7 seed=0 genm.phasing=0.1 data_path.model_init=/groups/turaga/home/speisera/Mackebox/Artur/WorkDB/deepstorm/models/fishcod/MERFISH_starfish/MERFISH_sweep_gen_7/seed:0xphasing:0.1//checkpoint/ run_name=seed:0xphasing:0.1 training.resume=True output.group=MERFISH_sweep_gen_7"
   ]
  },
  {
   "cell_type": "code",
   "execution_count": 121,
   "metadata": {
    "ExecuteTime": {
     "end_time": "2022-05-02T16:15:28.514348Z",
     "start_time": "2022-05-02T16:15:28.505612Z"
    }
   },
   "outputs": [],
   "source": [
    "group = 'gensweep_mop_1'\n",
    "pfile = 'gensweep_mop_1'\n",
    "\n",
    "variable_col = param_iter()\n",
    "# variable_col.add('training.mic.par_grads.psf_vol', False)\n",
    "# variable_col.add('training.mic.par_grads.channel_shifts', False)\n",
    "# variable_col.add('training.mic.par_grads.color_shifts', False)\n",
    "variable_col.add('genm.microscope.norm', 'none')\n",
    "variable_col.add('training.mic.par_grads.z_facs', True)\n",
    "variable_col.add('training.mic.mean_diff', True)\n",
    "variable_col.add('training.mic.opt.lr', 0.0005, 0.001)\n",
    "variable_col.add('genm.microscope.scale', 400)\n",
    "\n",
    "par_prod = variable_col.param_product()"
   ]
  },
  {
   "cell_type": "code",
   "execution_count": 348,
   "metadata": {
    "ExecuteTime": {
     "end_time": "2022-05-12T10:07:24.927557Z",
     "start_time": "2022-05-12T10:07:24.915954Z"
    }
   },
   "outputs": [
    {
     "ename": "SyntaxError",
     "evalue": "invalid syntax (3207431614.py, line 1)",
     "output_type": "error",
     "traceback": [
      "\u001b[0;36m  Input \u001b[0;32mIn [348]\u001b[0;36m\u001b[0m\n\u001b[0;31m    bsub -gpu \"num=1\" -n 1 -q gpu_rtx -o logs/ofish.log -e logs/efish.log /groups/turaga/home/speisera/anaconda3/envs/decode_fish_dev2/bin/python /groups/turaga/home/speisera/Mackebox/Artur/WorkDB/deepstorm/decode_fish/decode_fish/train.py +experiment=MERFISH_sweep_gen_3 data_path.psf_path=/groups/turaga/home/speisera/Mackebox/Artur/WorkDB/deepstorm/decode_fish/figures/MFsf_psf1.tif genm.microscope.norm=none run_name=nPSFxnorm:none output.group=MERFISH_sweep_gen_3\u001b[0m\n\u001b[0m              ^\u001b[0m\n\u001b[0;31mSyntaxError\u001b[0m\u001b[0;31m:\u001b[0m invalid syntax\n"
     ]
    }
   ],
   "source": [
    "bsub -gpu \"num=1\" -n 1 -q gpu_rtx -o logs/ofish.log -e logs/efish.log /groups/turaga/home/speisera/anaconda3/envs/decode_fish_dev2/bin/python /groups/turaga/home/speisera/Mackebox/Artur/WorkDB/deepstorm/decode_fish/decode_fish/train.py +experiment=MERFISH_sweep_gen_3 data_path.psf_path=/groups/turaga/home/speisera/Mackebox/Artur/WorkDB/deepstorm/decode_fish/figures/MFsf_psf1.tif genm.microscope.norm=none run_name=nPSFxnorm:none output.group=MERFISH_sweep_gen_3\n",
    "        \n",
    "bsub -gpu \"num=1\" -n 1 -q gpu_rtx -o logs/ofish.log -e logs/efish.log /groups/turaga/home/speisera/anaconda3/envs/decode_fish_dev2/bin/python /groups/turaga/home/speisera/Mackebox/Artur/WorkDB/deepstorm/decode_fish/decode_fish/train.py +experiment=MERFISH_sweep_gen_3 data_path.psf_path=/groups/turaga/home/speisera/Mackebox/Artur/WorkDB/deepstorm/decode_fish/figures/MFsf_psf1.tif genm.microscope.norm=escort run_name=nPSFxnorm:escort output.group=MERFISH_sweep_gen_3"
   ]
  },
  {
   "cell_type": "code",
   "execution_count": null,
   "metadata": {},
   "outputs": [],
   "source": []
  }
 ],
 "metadata": {
  "kernelspec": {
   "display_name": "decode_fish_dev2",
   "language": "python",
   "name": "decode_fish_dev2"
  },
  "language_info": {
   "codemirror_mode": {
    "name": "ipython",
    "version": 3
   },
   "file_extension": ".py",
   "mimetype": "text/x-python",
   "name": "python",
   "nbconvert_exporter": "python",
   "pygments_lexer": "ipython3",
   "version": "3.8.13"
  }
 },
 "nbformat": 4,
 "nbformat_minor": 4
}
