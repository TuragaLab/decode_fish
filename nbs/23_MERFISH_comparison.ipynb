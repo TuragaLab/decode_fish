{
 "cells": [
  {
   "cell_type": "code",
   "execution_count": null,
   "id": "otherwise-vaccine",
   "metadata": {},
   "outputs": [],
   "source": [
    "# default_exp funcs.merfish_comparison"
   ]
  },
  {
   "cell_type": "code",
   "execution_count": null,
   "id": "designing-tournament",
   "metadata": {},
   "outputs": [],
   "source": [
    "%load_ext autoreload\n",
    "%autoreload 2"
   ]
  },
  {
   "cell_type": "code",
   "execution_count": null,
   "id": "radio-criminal",
   "metadata": {},
   "outputs": [
    {
     "name": "stderr",
     "output_type": "stream",
     "text": [
      "2021-10-05 03:45:40.574215: I tensorflow/stream_executor/platform/default/dso_loader.cc:49] Successfully opened dynamic library libcudart.so.10.1\n"
     ]
    }
   ],
   "source": [
    "# export\n",
    "from decode_fish.imports import *\n",
    "\n",
    "# os.environ[\"CUDA_VISIBLE_DEVICES\"] = '1'\n",
    "\n",
    "from decode_fish.funcs.file_io import *\n",
    "from decode_fish.funcs.emitter_io import *\n",
    "from decode_fish.funcs.utils import *\n",
    "from decode_fish.funcs.dataset import *\n",
    "from decode_fish.funcs.plotting import *\n",
    "from decode_fish.engine.noise import estimate_noise_scale\n",
    "import shutil\n",
    "from decode_fish.funcs.visualization import *\n",
    "from decode_fish.funcs.predict import predict\n",
    "import torch.nn as nn\n",
    "import torch.nn.functional as F\n",
    "import torch.tensor as T\n",
    "from decode_fish.funcs.predict import *\n",
    "\n",
    "from omegaconf import open_dict\n",
    "from hydra import compose, initialize\n",
    "from decode_fish.funcs.merfish_eval import *\n",
    "\n",
    "sys.path.append('/groups/turaga/home/speisera/Mackebox/Artur/WorkDB/deepstorm/FQ/istdeco/')\n",
    "\n",
    "from istdeco import ISTDeco\n",
    "from utils import random_codebook, random_image_stack\n",
    "from codebook import Codebook\n",
    "from starfish.image import Filter\n",
    "\n",
    "sys.path.append('/groups/turaga/home/speisera/Mackebox/Artur/WorkDB/deepstorm/FQ/bardensr/')\n",
    "import bardensr\n",
    "\n",
    "import optuna\n",
    "optuna.logging.set_verbosity(optuna.logging.INFO)"
   ]
  },
  {
   "cell_type": "code",
   "execution_count": null,
   "id": "naughty-england",
   "metadata": {},
   "outputs": [],
   "source": [
    "# cfg = OmegaConf.load(f'/groups/turaga/home/speisera/Mackebox/Artur/WorkDB/deepstorm/models/fishcod/MERFISH_starfish/sweep_ci_13/start_mic:5000xpsf_noise:0.4/train.yaml')\n",
    "cfg = OmegaConf.load(f'/groups/turaga/home/speisera/Mackebox/Artur/WorkDB/deepstorm/models/fishcod/MERFISH_starfish/sweep_sl_9a/old_new_format/train.yaml')\n",
    "cfg = OmegaConf.load(f'/groups/turaga/home/speisera/Mackebox/Artur/WorkDB/deepstorm/models/fishcod/MERFISH_starfish/sweep_sl_11/seed:1xint_fac:0.1/train.yaml')\n",
    "cfg = OmegaConf.load(f'/groups/turaga/home/speisera/Mackebox/Artur/WorkDB/deepstorm/models/fishcod/MERFISH_starfish/sweep_sim_1/old_loss:Truexmin_int_sig:1.0/train.yaml')\n",
    "cfg = OmegaConf.load(f'/groups/turaga/home/speisera/Mackebox/Artur/WorkDB/deepstorm/models/fishcod/MERFISH_starfish/sweep_sim_1/old_loss:False/train.yaml')\n",
    "# csv_name = 'test'\n",
    "# cfg.foci.n_foci_avg = 0"
   ]
  },
  {
   "cell_type": "code",
   "execution_count": null,
   "id": "indian-victory",
   "metadata": {},
   "outputs": [],
   "source": [
    "# cfg.exp_type.pred_z=False\n",
    "# cfg.PSF.psf_extent_zyx=[1,21,21]\n",
    "# cfg.run_name = 'test'"
   ]
  },
  {
   "cell_type": "code",
   "execution_count": null,
   "id": "manufactured-youth",
   "metadata": {},
   "outputs": [
    {
     "name": "stdout",
     "output_type": "stream",
     "text": [
      "13832\n"
     ]
    }
   ],
   "source": [
    "from decode_fish.funcs.merfish_eval import *\n",
    "bench_df, code_ref, targets = get_benchmark()\n",
    "code_inds = np.stack([np.nonzero(c)[0] for c in code_ref])"
   ]
  },
  {
   "cell_type": "code",
   "execution_count": null,
   "id": "premium-founder",
   "metadata": {},
   "outputs": [],
   "source": [
    "# cfg = OmegaConf.load(f'/groups/turaga/home/speisera/Mackebox/Artur/WorkDB/deepstorm/models/fishcod/MERFISH_starfish/sweep_sim_2/test1/train.yaml')\n",
    "# cfg = OmegaConf.load(f'/groups/turaga/home/speisera/Mackebox/Artur/WorkDB/deepstorm/models/fishcod/MERFISH_starfish/sweep_sim_1b/old_loss:Falsexpsf_noise:0.0xint_fac:0.0/train.yaml')\n",
    "cfg = OmegaConf.load(f'/groups/turaga/home/speisera/Mackebox/Artur/WorkDB/deepstorm/models/fishcod/MERFISH_starfish/sweep_cinfsim_1/depth:2xf_maps:256///train.yaml')\n",
    "cfg = OmegaConf.load(f'/groups/turaga/home/speisera/Mackebox/Artur/WorkDB/deepstorm/models/fishcod/MERFISH_starfish/sweep_cinfsim_1c/loss_option:1xcount_mult:0xcat_logits:0//train.yaml')\n",
    "cfg = OmegaConf.load(f'/groups/turaga/home/speisera/Mackebox/Artur/WorkDB/deepstorm/models/fishcod/MERFISH_starfish/sweep_sl_16b/psf_noise:0.15xenabled:False///train.yaml')\n",
    "# cfg = OmegaConf.load(f'/groups/turaga/home/speisera/Mackebox/Artur/WorkDB/deepstorm/models/fishcod/MERFISH_starfish/sweep_sl_14c/loss_option:0xcount_mult:1xcat_logits:1/train.yaml')"
   ]
  },
  {
   "cell_type": "code",
   "execution_count": null,
   "id": "seventh-testimony",
   "metadata": {},
   "outputs": [],
   "source": [
    "# cfg = OmegaConf.load('../config/experiment/MERFISH_ci_2d_sim1.yaml')\n",
    "# cfg.output.save_dir = '/groups/turaga/home/speisera/Mackebox/Artur/WorkDB/deepstorm//models/fishcod/MERFISH_starfish/nb_run/test/'"
   ]
  },
  {
   "cell_type": "code",
   "execution_count": null,
   "id": "worth-campus",
   "metadata": {},
   "outputs": [
    {
     "name": "stdout",
     "output_type": "stream",
     "text": [
      "Crop size larger than volume in at least one dimension. Crop size changed to (1, 128, 128)\n",
      "1 volumes\n"
     ]
    }
   ],
   "source": [
    "crop_sz = 128\n",
    "cfg.foci.n_foci_avg = 0\n",
    "cfg.training.bs = 5\n",
    "cfg.PSF.n_cols = 1\n",
    "cfg.random_crop.crop_sz = crop_sz\n",
    "cfg.data_path.image_shape = [16,1,crop_sz,crop_sz]\n",
    "cfg.model.n_p_layers = 1\n",
    "\n",
    "model, post_proc, micro, img_3d, decode_dl = load_all(cfg)\n",
    "psf, noise, micro = load_psf_noise_micro(cfg)"
   ]
  },
  {
   "cell_type": "code",
   "execution_count": null,
   "id": "material-broadway",
   "metadata": {},
   "outputs": [],
   "source": [
    "from decode_fish.engine.point_process import *\n",
    "from decode_fish.funcs.output_trafo import *\n",
    "from decode_fish.funcs.evaluation import *\n",
    "import h5py\n",
    "from decode_fish.funcs.routines import *\n",
    "\n",
    "with torch.no_grad():\n",
    "\n",
    "    x, local_rate, background = next(iter(decode_dl))\n",
    "    sim_vars = PointProcessUniform(local_rate*0 + 0.02, model.int_dist.int_conc, model.int_dist.int_rate, \n",
    "                                   model.int_dist.int_loc, channels=16, n_bits=4, sim_z=True, codebook=torch.tensor(code_inds), int_option=3).sample(from_code_book=True, phasing=cfg.exp_type.phasing)\n",
    "    xsim = micro(*sim_vars[:-1], add_noise=True)\n",
    "    xsimn = micro.noise(xsim, background*0 + 100).sample()\n",
    "\n",
    "    gt_vars = sim_vars[:-1]\n",
    "    gt_df = px_to_nm(sample_to_df(*sim_vars[:-2], codes=sim_vars[-1], px_size_zyx=[1.,1.,1.]))\n",
    "\n",
    "# with h5py.File('/groups/turaga/home/speisera/Mackebox/Artur/WorkDB/deepstorm/decode_fish/data/merfish_sims/sim_data1/dens_0.1_int_1.0.h5', 'r') as f:\n",
    "\n",
    "#     xsimn = f['frames'][()]\n",
    "#     gt_df = get_df_from_hdf5(f['locations']) \n",
    "        \n",
    "# with h5py.File('/groups/turaga/home/speisera/Mackebox/Artur/WorkDB/deepstorm/decode_fish/data/merfish_sims/sim_data1/sim_2/dens_0.1_int_1.0.h5', 'r') as f:\n",
    "\n",
    "#     dec_df = get_df_from_hdf5(f['old_loss:False']['locations_int'])"
   ]
  },
  {
   "cell_type": "code",
   "execution_count": null,
   "id": "cardiac-supplement",
   "metadata": {},
   "outputs": [],
   "source": [
    "# gt_df = get_code_from_ints(gt_df, code_ref, targets, int_str='', p_str='')\n",
    "# gt_df = exclude_borders(gt_df, border_size_zyx=[0,500,500], img_size=[crop_sz*100,crop_sz*100,crop_sz*100])"
   ]
  },
  {
   "cell_type": "code",
   "execution_count": null,
   "id": "involved-antenna",
   "metadata": {},
   "outputs": [],
   "source": [
    "# gt_df = gt_df.loc[:,['frame_idx', 'code_inds', 'x', 'y', 'z']+[f'int_{i}' for i in range(16)]]\n",
    "# np.save('../data/chen_bardensr/sim_data.npy',cpu(xsimn))\n",
    "# gt_df.to_csv('../data/chen_bardensr/gt_df.csv', index=False)\n",
    "# np.save('../data/chen_bardensr/codebook.npy',cpu(code_ref))"
   ]
  },
  {
   "cell_type": "code",
   "execution_count": null,
   "id": "occasional-broad",
   "metadata": {},
   "outputs": [
    {
     "name": "stdout",
     "output_type": "stream",
     "text": [
      "Crop size larger than volume in at least one dimension. Crop size changed to (1, 128, 128)\n",
      "1 volumes\n"
     ]
    }
   ],
   "source": [
    "model, post_proc, micro, img_3d, decode_dl = load_all(cfg)"
   ]
  },
  {
   "cell_type": "code",
   "execution_count": null,
   "id": "celtic-grammar",
   "metadata": {},
   "outputs": [
    {
     "name": "stderr",
     "output_type": "stream",
     "text": [
      "/groups/turaga/home/speisera/anaconda3/envs/decode_fish_dev2/lib/python3.7/site-packages/ipykernel_launcher.py:4: UserWarning: To copy construct from a tensor, it is recommended to use sourceTensor.clone().detach() or sourceTensor.clone().detach().requires_grad_(True), rather than torch.tensor(sourceTensor).\n",
      "  after removing the cwd from sys.path.\n"
     ]
    }
   ],
   "source": [
    "with torch.no_grad():\n",
    "    \n",
    "    model.eval().cuda()\n",
    "    res_dict = model(T(xsimn).cuda())\n",
    "    res_dict = model.tensor_to_dict(res_dict)\n",
    "    pred_df = post_proc.get_df(res_dict, softmax=False)\n",
    "#     pred_df = get_code_from_ints(pred_df, code_ref, targets, func=vcorrcoef, int_str='', p_str='')\n",
    "#     pred_df = exclude_borders(pred_df, border_size_zyx=[0,500,500], img_size=[crop_sz*100,crop_sz*100,crop_sz*100])"
   ]
  },
  {
   "cell_type": "code",
   "execution_count": null,
   "id": "stunning-replacement",
   "metadata": {},
   "outputs": [],
   "source": [
    "# for c in range(30):\n",
    "# #     c = 72\n",
    "\n",
    "#     sub_gt = gt_df[gt_df['frame_idx'] == 1]\n",
    "#     sub_gt = sub_gt[sub_gt['code_inds'] == c]\n",
    "    \n",
    "#     sub_pred = pred_df[pred_df['frame_idx'] == 1]\n",
    "#     sub_pred = sub_pred[sub_pred['code_inds'] == c]\n",
    "\n",
    "#     plt.figure(figsize=(10,10))\n",
    "#     im = plt.imshow(cpu(torch.sigmoid(res_dict['logits']))[1,c,0])\n",
    "#     add_colorbar(im)\n",
    "#     plt.scatter(sub_gt['x']/100, sub_gt['y']/100, ec='red', s=100, marker='+')\n",
    "#     plt.scatter(sub_pred['x']/100, sub_pred['y']/100, ec='green', fc='none', s=100, marker='o', linewidth=3)\n",
    "#     plt.show()"
   ]
  },
  {
   "cell_type": "code",
   "execution_count": null,
   "id": "packed-registrar",
   "metadata": {},
   "outputs": [
    {
     "name": "stdout",
     "output_type": "stream",
     "text": [
      "Recall: 0.932\n",
      "Precision: 0.886\n",
      "Jaccard: 83.239\n",
      "RMSE_vol: 66.413\n",
      "Eff_3d: 62.803\n",
      "FN: 108.0 FP: 189.0\n",
      "Num. matches: 1475.000\n",
      "Shift: 1.27,-0.61,51.79\n",
      "------- 0.9823728813559321\n",
      "Recall: 0.918\n",
      "Precision: 0.873\n",
      "Jaccard: 80.992\n",
      "RMSE_vol: 61.783\n",
      "Eff_3d: 63.729\n",
      "FN: 130.0 FP: 211.0\n",
      "Num. matches: 1453.000\n",
      "Shift: 1.28,-0.42,51.73\n"
     ]
    }
   ],
   "source": [
    "sub_df = percentile_filter(pred_df, 100, 'comb_sig')\n",
    "perf, matches, _  = matching(gt_df, sub_df, match_genes=False, tolerance=300)\n",
    "print(f'-------', sum(matches['code_inds_pred'] == matches['code_inds_tar'])/len(matches))\n",
    "perf, matches, _  = matching(gt_df, sub_df, match_genes=True, tolerance=300)"
   ]
  },
  {
   "cell_type": "code",
   "execution_count": null,
   "id": "theoretical-pricing",
   "metadata": {},
   "outputs": [],
   "source": [
    "# export\n",
    "def get_istdeco_df(sim_data, codebook, psf_sig=(1.7, 1.7), n_iter=100, bg=100.):\n",
    "    \n",
    "    istd_results = pd.DataFrame()\n",
    "    \n",
    "    n_rounds = codebook.shape[1]\n",
    "    n_cols = codebook.shape[2]\n",
    "    \n",
    "    for i in range(len(sim_data)):\n",
    "\n",
    "        image_data = np.array(sim_data)[i,:,0]\n",
    "        image_data = image_data.reshape([n_rounds,n_cols,image_data.shape[-2],image_data.shape[-1]], order='F')\n",
    "        \n",
    "        init_th = np.percentile(image_data,50)\n",
    "\n",
    "        istdeco_model = ISTDeco(image_data, codebook, psf_sig, b=bg)\n",
    "        X, Q, loss = istdeco_model.run(niter=n_iter)\n",
    "\n",
    "        # Get codes\n",
    "        code_id, y, x = np.where(np.logical_and(X>init_th,Q>0.1))\n",
    "\n",
    "        intensity = X[code_id, y, x]\n",
    "        quality = Q[code_id, y, x]\n",
    "\n",
    "        # Store in dataframe\n",
    "        df = pd.DataFrame(data={\n",
    "                'frame_idx': i,\n",
    "                'x': x.astype('float')+0.5, \n",
    "                'y': y.astype('float')+0.5,\n",
    "                'z': 0.5,\n",
    "                'intensity': intensity, \n",
    "                'quality': quality,\n",
    "                'code_inds': code_id\n",
    "        })\n",
    "\n",
    "        istd_results = istd_results.append(df)\n",
    "\n",
    "    istd_results = px_to_nm(istd_results)\n",
    "\n",
    "    return istd_results"
   ]
  },
  {
   "cell_type": "code",
   "execution_count": null,
   "id": "conditional-trick",
   "metadata": {},
   "outputs": [],
   "source": [
    "istd_df = get_istdeco_df(cpu(xsimn), code_ref.reshape([140,8,2], order='F'), psf_sig=(1.7, 1.7), n_iter=400)\n",
    "# istd_df = exclude_borders(istd_df, border_size_zyx=[0,500,500], img_size=[crop_sz*100,crop_sz*100,crop_sz*100])"
   ]
  },
  {
   "cell_type": "code",
   "execution_count": null,
   "id": "increased-sussex",
   "metadata": {},
   "outputs": [],
   "source": [
    "sub_df = istd_df[istd_df['quality'] > 0.55]\n",
    "sub_df = sub_df[sub_df['intensity'] > 350]"
   ]
  },
  {
   "cell_type": "code",
   "execution_count": null,
   "id": "maritime-queen",
   "metadata": {},
   "outputs": [
    {
     "name": "stdout",
     "output_type": "stream",
     "text": [
      "Recall: 0.980\n",
      "Precision: 0.969\n",
      "Jaccard: 94.979\n",
      "RMSE_vol: 76.533\n",
      "Eff_3d: 61.405\n",
      "FN: 32.0 FP: 50.0\n",
      "Num. matches: 1551.000\n",
      "Shift: 0.03,1.50,-1.52\n",
      "------- 0.9800128949065119\n",
      "Recall: 0.977\n",
      "Precision: 0.966\n",
      "Jaccard: 94.502\n",
      "RMSE_vol: 76.120\n",
      "Eff_3d: 61.545\n",
      "FN: 36.0 FP: 54.0\n",
      "Num. matches: 1547.000\n",
      "Shift: -0.20,1.45,-1.54\n"
     ]
    }
   ],
   "source": [
    "perf, matches, _  = matching(gt_df, sub_df, match_genes=False, tolerance=300)\n",
    "print(f'-------', sum(matches['code_inds_pred'] == matches['code_inds_tar'])/len(matches))\n",
    "perf, matches, _  = matching(gt_df, sub_df, match_genes=True, tolerance=300)"
   ]
  },
  {
   "cell_type": "code",
   "execution_count": null,
   "id": "intimate-graduation",
   "metadata": {},
   "outputs": [
    {
     "name": "stderr",
     "output_type": "stream",
     "text": [
      "\u001b[32m[I 2021-10-04 07:42:54,248]\u001b[0m A new study created in memory with name: no-name-2b35cf76-7b34-4c14-9f2c-b39ad890b568\u001b[0m\n",
      "\u001b[32m[I 2021-10-04 07:42:54,282]\u001b[0m Trial 0 finished with value: -0.1092896042149843 and parameters: {'qual_th': 0.13290640735882736, 'int_th': 3774.5292021449723}. Best is trial 0 with value: -0.1092896042149843.\u001b[0m\n",
      "\u001b[32m[I 2021-10-04 07:42:54,311]\u001b[0m Trial 1 finished with value: -0.03458924835216203 and parameters: {'qual_th': 0.3983130894117003, 'int_th': 5053.285288963072}. Best is trial 0 with value: -0.1092896042149843.\u001b[0m\n",
      "\u001b[32m[I 2021-10-04 07:42:54,346]\u001b[0m Trial 2 finished with value: -0.04582338464693225 and parameters: {'qual_th': 0.38578318228084474, 'int_th': 1199.5615636800203}. Best is trial 0 with value: -0.1092896042149843.\u001b[0m\n",
      "\u001b[32m[I 2021-10-04 07:42:54,377]\u001b[0m Trial 3 finished with value: -0.0387215686881907 and parameters: {'qual_th': 0.3999929044591227, 'int_th': 4550.351919498556}. Best is trial 0 with value: -0.1092896042149843.\u001b[0m\n",
      "\u001b[32m[I 2021-10-04 07:42:54,407]\u001b[0m Trial 4 finished with value: -0.08711655372803022 and parameters: {'qual_th': 0.20885693834268737, 'int_th': 4252.553733244151}. Best is trial 0 with value: -0.1092896042149843.\u001b[0m\n",
      "\u001b[32m[I 2021-10-04 07:42:54,433]\u001b[0m Trial 5 finished with value: -0.024783144388705776 and parameters: {'qual_th': 0.44300395591649233, 'int_th': 5470.7198203400085}. Best is trial 0 with value: -0.1092896042149843.\u001b[0m\n",
      "\u001b[32m[I 2021-10-04 07:42:54,464]\u001b[0m Trial 6 finished with value: -0.05894205955243732 and parameters: {'qual_th': 0.34992116770259996, 'int_th': 1558.3030056187338}. Best is trial 0 with value: -0.1092896042149843.\u001b[0m\n",
      "\u001b[32m[I 2021-10-04 07:42:54,492]\u001b[0m Trial 7 finished with value: -0.03285802444413832 and parameters: {'qual_th': 0.3650309332508346, 'int_th': 5857.867524399539}. Best is trial 0 with value: -0.1092896042149843.\u001b[0m\n",
      "\u001b[32m[I 2021-10-04 07:42:54,522]\u001b[0m Trial 8 finished with value: -0.13154829667656617 and parameters: {'qual_th': 0.15499015060513965, 'int_th': 3131.3684552175555}. Best is trial 8 with value: -0.13154829667656617.\u001b[0m\n",
      "\u001b[32m[I 2021-10-04 07:42:54,550]\u001b[0m Trial 9 finished with value: -0.08571427529309723 and parameters: {'qual_th': 0.25611832763334774, 'int_th': 3801.4042272370507}. Best is trial 8 with value: -0.13154829667656617.\u001b[0m\n",
      "\u001b[32m[I 2021-10-04 07:42:54,590]\u001b[0m Trial 10 finished with value: -0.18102027635542772 and parameters: {'qual_th': 0.13145594973010583, 'int_th': 2388.504195793077}. Best is trial 10 with value: -0.18102027635542772.\u001b[0m\n",
      "\u001b[32m[I 2021-10-04 07:42:54,628]\u001b[0m Trial 11 finished with value: -0.18396483427074858 and parameters: {'qual_th': 0.102868417729584, 'int_th': 2398.496348504595}. Best is trial 11 with value: -0.18396483427074858.\u001b[0m\n",
      "\u001b[32m[I 2021-10-04 07:42:54,668]\u001b[0m Trial 12 finished with value: -0.1891743915610288 and parameters: {'qual_th': 0.10615922313296895, 'int_th': 2313.426090523718}. Best is trial 12 with value: -0.1891743915610288.\u001b[0m\n",
      "\u001b[32m[I 2021-10-04 07:42:54,759]\u001b[0m Trial 13 finished with value: -0.18286695224020852 and parameters: {'qual_th': 0.10087816642320142, 'int_th': 485.8603481097666}. Best is trial 12 with value: -0.1891743915610288.\u001b[0m\n",
      "\u001b[32m[I 2021-10-04 07:42:54,797]\u001b[0m Trial 14 finished with value: -0.15134835978554104 and parameters: {'qual_th': 0.19392179911953644, 'int_th': 2417.2848511154116}. Best is trial 12 with value: -0.1891743915610288.\u001b[0m\n",
      "\u001b[32m[I 2021-10-04 07:42:54,833]\u001b[0m Trial 15 finished with value: -0.09136211612822634 and parameters: {'qual_th': 0.2826135052951528, 'int_th': 2440.4494548475527}. Best is trial 12 with value: -0.1891743915610288.\u001b[0m\n",
      "\u001b[32m[I 2021-10-04 07:42:54,875]\u001b[0m Trial 16 finished with value: -0.17261903049414382 and parameters: {'qual_th': 0.1977747342604522, 'int_th': 1623.6289229406075}. Best is trial 12 with value: -0.1891743915610288.\u001b[0m\n",
      "\u001b[32m[I 2021-10-04 07:42:54,910]\u001b[0m Trial 17 finished with value: -0.1136890819386216 and parameters: {'qual_th': 0.230960170237951, 'int_th': 3075.168367226428}. Best is trial 12 with value: -0.1891743915610288.\u001b[0m\n",
      "\u001b[32m[I 2021-10-04 07:42:54,953]\u001b[0m Trial 18 finished with value: -0.2272032371672708 and parameters: {'qual_th': 0.10016044266941787, 'int_th': 1803.8143688369057}. Best is trial 18 with value: -0.2272032371672708.\u001b[0m\n",
      "\u001b[32m[I 2021-10-04 07:42:55,008]\u001b[0m Trial 19 finished with value: -0.1905120338469854 and parameters: {'qual_th': 0.16749598667313853, 'int_th': 916.0403731644878}. Best is trial 18 with value: -0.2272032371672708.\u001b[0m\n",
      "\u001b[32m[I 2021-10-04 07:42:55,096]\u001b[0m Trial 20 finished with value: -0.1240910098948623 and parameters: {'qual_th': 0.16380040624558553, 'int_th': 439.7514112707138}. Best is trial 18 with value: -0.2272032371672708.\u001b[0m\n",
      "\u001b[32m[I 2021-10-04 07:42:55,146]\u001b[0m Trial 21 finished with value: -0.21098624960580528 and parameters: {'qual_th': 0.16211179761442546, 'int_th': 1101.0097775860122}. Best is trial 18 with value: -0.2272032371672708.\u001b[0m\n",
      "\u001b[32m[I 2021-10-04 07:42:55,193]\u001b[0m Trial 22 finished with value: -0.21425407576325137 and parameters: {'qual_th': 0.16434164477941157, 'int_th': 1208.6565938633364}. Best is trial 18 with value: -0.2272032371672708.\u001b[0m\n",
      "\u001b[32m[I 2021-10-04 07:42:55,230]\u001b[0m Trial 23 finished with value: -0.08402060989478248 and parameters: {'qual_th': 0.2995915752534938, 'int_th': 1781.7019797747653}. Best is trial 18 with value: -0.2272032371672708.\u001b[0m\n",
      "\u001b[32m[I 2021-10-04 07:42:55,283]\u001b[0m Trial 24 finished with value: -0.2353663335762314 and parameters: {'qual_th': 0.13918125430028566, 'int_th': 1090.354231635622}. Best is trial 24 with value: -0.2353663335762314.\u001b[0m\n",
      "\u001b[32m[I 2021-10-04 07:42:55,346]\u001b[0m Trial 25 finished with value: -0.2154163650780203 and parameters: {'qual_th': 0.13335494489030292, 'int_th': 815.459941561998}. Best is trial 24 with value: -0.2353663335762314.\u001b[0m\n",
      "\u001b[32m[I 2021-10-04 07:42:55,386]\u001b[0m Trial 26 finished with value: -0.21248686122908067 and parameters: {'qual_th': 0.1302147478115547, 'int_th': 1973.1269256923667}. Best is trial 24 with value: -0.2353663335762314.\u001b[0m\n",
      "\u001b[32m[I 2021-10-04 07:42:55,433]\u001b[0m Trial 27 finished with value: -0.12750305455635028 and parameters: {'qual_th': 0.22962001788097683, 'int_th': 1000.5955553697214}. Best is trial 24 with value: -0.2353663335762314.\u001b[0m\n",
      "\u001b[32m[I 2021-10-04 07:42:55,479]\u001b[0m Trial 28 finished with value: -0.06921528617985624 and parameters: {'qual_th': 0.3133523380533652, 'int_th': 758.9143888652112}. Best is trial 24 with value: -0.2353663335762314.\u001b[0m\n",
      "\u001b[32m[I 2021-10-04 07:42:55,525]\u001b[0m Trial 29 finished with value: -0.2479147128902027 and parameters: {'qual_th': 0.1328126886390249, 'int_th': 1361.77602402287}. Best is trial 29 with value: -0.2479147128902027.\u001b[0m\n",
      "\u001b[32m[I 2021-10-04 07:42:55,562]\u001b[0m Trial 30 finished with value: -0.14783103335262177 and parameters: {'qual_th': 0.13824354423704568, 'int_th': 2885.391160559324}. Best is trial 29 with value: -0.2479147128902027.\u001b[0m\n",
      "\u001b[32m[I 2021-10-04 07:42:55,608]\u001b[0m Trial 31 finished with value: -0.25131387947311234 and parameters: {'qual_th': 0.12579023752203752, 'int_th': 1460.3227302275802}. Best is trial 31 with value: -0.25131387947311234.\u001b[0m\n",
      "\u001b[32m[I 2021-10-04 07:42:55,653]\u001b[0m Trial 32 finished with value: -0.18457168153604528 and parameters: {'qual_th': 0.18936174106360262, 'int_th': 1408.3995815373266}. Best is trial 31 with value: -0.25131387947311234.\u001b[0m\n",
      "\u001b[32m[I 2021-10-04 07:42:55,693]\u001b[0m Trial 33 finished with value: -0.21586132186330653 and parameters: {'qual_th': 0.1216007635190293, 'int_th': 1986.336346009195}. Best is trial 31 with value: -0.25131387947311234.\u001b[0m\n",
      "\u001b[32m[I 2021-10-04 07:42:55,743]\u001b[0m Trial 34 finished with value: -0.22904759723356216 and parameters: {'qual_th': 0.14656821059373976, 'int_th': 1441.1384156929548}. Best is trial 31 with value: -0.25131387947311234.\u001b[0m\n",
      "\u001b[32m[I 2021-10-04 07:42:55,801]\u001b[0m Trial 35 finished with value: -0.15503128020883195 and parameters: {'qual_th': 0.2193668679218908, 'int_th': 1440.6168675637657}. Best is trial 31 with value: -0.25131387947311234.\u001b[0m\n",
      "\u001b[32m[I 2021-10-04 07:42:55,841]\u001b[0m Trial 36 finished with value: -0.1750396430418146 and parameters: {'qual_th': 0.18255255723516314, 'int_th': 2059.848780854635}. Best is trial 31 with value: -0.25131387947311234.\u001b[0m\n"
     ]
    },
    {
     "name": "stderr",
     "output_type": "stream",
     "text": [
      "\u001b[32m[I 2021-10-04 07:42:55,884]\u001b[0m Trial 37 finished with value: -0.11893433692346937 and parameters: {'qual_th': 0.25057006758606637, 'int_th': 1365.4742820855322}. Best is trial 31 with value: -0.25131387947311234.\u001b[0m\n",
      "\u001b[32m[I 2021-10-04 07:42:55,923]\u001b[0m Trial 38 finished with value: -0.15192742041639223 and parameters: {'qual_th': 0.1474901937334432, 'int_th': 2771.897281703781}. Best is trial 31 with value: -0.25131387947311234.\u001b[0m\n",
      "\u001b[32m[I 2021-10-04 07:42:55,958]\u001b[0m Trial 39 finished with value: -0.036461442144477926 and parameters: {'qual_th': 0.4270652185047952, 'int_th': 3458.4925218764133}. Best is trial 31 with value: -0.25131387947311234.\u001b[0m\n",
      "\u001b[32m[I 2021-10-04 07:42:55,994]\u001b[0m Trial 40 finished with value: -0.09442058928012394 and parameters: {'qual_th': 0.11954729010832658, 'int_th': 4159.520511249009}. Best is trial 31 with value: -0.25131387947311234.\u001b[0m\n",
      "\u001b[32m[I 2021-10-04 07:42:56,039]\u001b[0m Trial 41 finished with value: -0.21821819637455492 and parameters: {'qual_th': 0.14730581974725784, 'int_th': 1696.4676642757863}. Best is trial 31 with value: -0.25131387947311234.\u001b[0m\n",
      "\u001b[32m[I 2021-10-04 07:42:56,112]\u001b[0m Trial 42 finished with value: -0.22288028535659066 and parameters: {'qual_th': 0.11263538882036978, 'int_th': 691.180506566554}. Best is trial 31 with value: -0.25131387947311234.\u001b[0m\n",
      "\u001b[32m[I 2021-10-04 07:42:56,151]\u001b[0m Trial 43 finished with value: -0.023854959555824472 and parameters: {'qual_th': 0.47573702217826486, 'int_th': 1091.2423436825093}. Best is trial 31 with value: -0.25131387947311234.\u001b[0m\n",
      "\u001b[32m[I 2021-10-04 07:42:56,192]\u001b[0m Trial 44 finished with value: -0.1905737509658042 and parameters: {'qual_th': 0.1704438832447604, 'int_th': 1816.1688697142868}. Best is trial 31 with value: -0.25131387947311234.\u001b[0m\n",
      "\u001b[32m[I 2021-10-04 07:42:56,240]\u001b[0m Trial 45 finished with value: -0.23713233114592544 and parameters: {'qual_th': 0.14366203870601163, 'int_th': 1334.7077225238033}. Best is trial 31 with value: -0.25131387947311234.\u001b[0m\n",
      "\u001b[32m[I 2021-10-04 07:42:56,274]\u001b[0m Trial 46 finished with value: -0.06354101621949214 and parameters: {'qual_th': 0.18077374053253434, 'int_th': 4901.769418329053}. Best is trial 31 with value: -0.25131387947311234.\u001b[0m\n",
      "\u001b[32m[I 2021-10-04 07:42:56,319]\u001b[0m Trial 47 finished with value: -0.165975088430144 and parameters: {'qual_th': 0.20736353153413667, 'int_th': 1275.9021881832996}. Best is trial 31 with value: -0.25131387947311234.\u001b[0m\n",
      "\u001b[32m[I 2021-10-04 07:42:56,388]\u001b[0m Trial 48 finished with value: -0.1790769120568054 and parameters: {'qual_th': 0.14597429229631512, 'int_th': 632.7011196914677}. Best is trial 31 with value: -0.25131387947311234.\u001b[0m\n",
      "\u001b[32m[I 2021-10-04 07:42:56,429]\u001b[0m Trial 49 finished with value: -0.1961206685214797 and parameters: {'qual_th': 0.12380699125665778, 'int_th': 2198.4854081765075}. Best is trial 31 with value: -0.25131387947311234.\u001b[0m\n",
      "\u001b[32m[I 2021-10-04 07:42:56,467]\u001b[0m Trial 50 finished with value: -0.15948515282762699 and parameters: {'qual_th': 0.15006780896470268, 'int_th': 2619.261152362924}. Best is trial 31 with value: -0.25131387947311234.\u001b[0m\n",
      "\u001b[32m[I 2021-10-04 07:42:56,513]\u001b[0m Trial 51 finished with value: -0.24890614983897424 and parameters: {'qual_th': 0.10323706918701482, 'int_th': 1551.2123271819285}. Best is trial 31 with value: -0.25131387947311234.\u001b[0m\n",
      "\u001b[32m[I 2021-10-04 07:42:56,559]\u001b[0m Trial 52 finished with value: -0.24621394760977552 and parameters: {'qual_th': 0.11497907144898545, 'int_th': 1565.9292413151998}. Best is trial 31 with value: -0.25131387947311234.\u001b[0m\n",
      "\u001b[32m[I 2021-10-04 07:42:56,604]\u001b[0m Trial 53 finished with value: -0.24202255846612092 and parameters: {'qual_th': 0.11439443915906697, 'int_th': 1606.3477526082224}. Best is trial 31 with value: -0.25131387947311234.\u001b[0m\n",
      "\u001b[32m[I 2021-10-04 07:42:56,649]\u001b[0m Trial 54 finished with value: -0.2416502709577337 and parameters: {'qual_th': 0.11514284879954972, 'int_th': 1599.5037803434427}. Best is trial 31 with value: -0.25131387947311234.\u001b[0m\n",
      "\u001b[32m[I 2021-10-04 07:42:56,693]\u001b[0m Trial 55 finished with value: -0.24707599931033145 and parameters: {'qual_th': 0.10978221926165664, 'int_th': 1560.9995511142984}. Best is trial 31 with value: -0.25131387947311234.\u001b[0m\n",
      "\u001b[32m[I 2021-10-04 07:42:56,734]\u001b[0m Trial 56 finished with value: -0.21274352683059222 and parameters: {'qual_th': 0.10124843338984203, 'int_th': 2010.1156991053963}. Best is trial 31 with value: -0.25131387947311234.\u001b[0m\n",
      "\u001b[32m[I 2021-10-04 07:42:56,779]\u001b[0m Trial 57 finished with value: -0.24239448062860838 and parameters: {'qual_th': 0.11325024182772213, 'int_th': 1604.6511457023803}. Best is trial 31 with value: -0.25131387947311234.\u001b[0m\n",
      "\u001b[32m[I 2021-10-04 07:42:56,819]\u001b[0m Trial 58 finished with value: -0.1927645580167864 and parameters: {'qual_th': 0.1281177654758141, 'int_th': 2213.402009677583}. Best is trial 31 with value: -0.25131387947311234.\u001b[0m\n",
      "\u001b[32m[I 2021-10-04 07:42:56,882]\u001b[0m Trial 59 finished with value: -0.25843106609742916 and parameters: {'qual_th': 0.10308869345643698, 'int_th': 923.7839191476035}. Best is trial 59 with value: -0.25843106609742916.\u001b[0m\n",
      "\u001b[32m[I 2021-10-04 07:42:56,944]\u001b[0m Trial 60 finished with value: -0.25723587140116705 and parameters: {'qual_th': 0.10096067027524167, 'int_th': 901.17638464162}. Best is trial 59 with value: -0.25843106609742916.\u001b[0m\n",
      "\u001b[32m[I 2021-10-04 07:42:57,007]\u001b[0m Trial 61 finished with value: -0.2579234784755207 and parameters: {'qual_th': 0.10153088551123975, 'int_th': 911.8313421767166}. Best is trial 59 with value: -0.25843106609742916.\u001b[0m\n",
      "\u001b[32m[I 2021-10-04 07:42:57,070]\u001b[0m Trial 62 finished with value: -0.2542979760531536 and parameters: {'qual_th': 0.10287805747265005, 'int_th': 885.3886413115399}. Best is trial 59 with value: -0.25843106609742916.\u001b[0m\n",
      "\u001b[32m[I 2021-10-04 07:42:57,133]\u001b[0m Trial 63 finished with value: -0.255738862572535 and parameters: {'qual_th': 0.10016407136694491, 'int_th': 889.4669105177618}. Best is trial 59 with value: -0.25843106609742916.\u001b[0m\n",
      "\u001b[32m[I 2021-10-04 07:42:57,219]\u001b[0m Trial 64 finished with value: -0.19068449867810092 and parameters: {'qual_th': 0.1031844348806578, 'int_th': 512.1755429672969}. Best is trial 59 with value: -0.25843106609742916.\u001b[0m\n",
      "\u001b[32m[I 2021-10-04 07:42:57,283]\u001b[0m Trial 65 finished with value: -0.2573289716012326 and parameters: {'qual_th': 0.10091872034242107, 'int_th': 902.0783746651489}. Best is trial 59 with value: -0.25843106609742916.\u001b[0m\n",
      "\u001b[32m[I 2021-10-04 07:42:57,344]\u001b[0m Trial 66 finished with value: -0.06205356588807447 and parameters: {'qual_th': 0.3359210236956629, 'int_th': 970.9831325165778}. Best is trial 59 with value: -0.25843106609742916.\u001b[0m\n",
      "\u001b[32m[I 2021-10-04 07:42:57,408]\u001b[0m Trial 67 finished with value: -0.22906848647564435 and parameters: {'qual_th': 0.12856861544348608, 'int_th': 893.4654723175902}. Best is trial 59 with value: -0.25843106609742916.\u001b[0m\n",
      "\u001b[32m[I 2021-10-04 07:42:57,480]\u001b[0m Trial 68 finished with value: -0.21003133479427366 and parameters: {'qual_th': 0.12476199749456657, 'int_th': 692.7431428195939}. Best is trial 59 with value: -0.25843106609742916.\u001b[0m\n",
      "\u001b[32m[I 2021-10-04 07:42:57,577]\u001b[0m Trial 69 finished with value: -0.18757888474734233 and parameters: {'qual_th': 0.1017785028997121, 'int_th': 499.7569460789623}. Best is trial 59 with value: -0.25843106609742916.\u001b[0m\n",
      "\u001b[32m[I 2021-10-04 07:42:57,630]\u001b[0m Trial 70 finished with value: -0.21955328954460265 and parameters: {'qual_th': 0.15641914675381666, 'int_th': 1127.1485117625477}. Best is trial 59 with value: -0.25843106609742916.\u001b[0m\n",
      "\u001b[32m[I 2021-10-04 07:42:57,696]\u001b[0m Trial 71 finished with value: -0.25889253693490744 and parameters: {'qual_th': 0.10143903432714807, 'int_th': 924.8363367399484}. Best is trial 71 with value: -0.25889253693490744.\u001b[0m\n",
      "\u001b[32m[I 2021-10-04 07:42:57,760]\u001b[0m Trial 72 finished with value: -0.22633134420626153 and parameters: {'qual_th': 0.1341752124755389, 'int_th': 919.2476331574054}. Best is trial 71 with value: -0.25889253693490744.\u001b[0m\n",
      "\u001b[32m[I 2021-10-04 07:42:57,828]\u001b[0m Trial 73 finished with value: -0.22814068823177966 and parameters: {'qual_th': 0.12046159770713044, 'int_th': 789.115830040498}. Best is trial 71 with value: -0.25889253693490744.\u001b[0m\n"
     ]
    },
    {
     "name": "stderr",
     "output_type": "stream",
     "text": [
      "\u001b[32m[I 2021-10-04 07:42:57,882]\u001b[0m Trial 74 finished with value: -0.2743555898335002 and parameters: {'qual_th': 0.10035218290872235, 'int_th': 1205.9429570044824}. Best is trial 74 with value: -0.2743555898335002.\u001b[0m\n",
      "\u001b[32m[I 2021-10-04 07:42:57,964]\u001b[0m Trial 75 finished with value: -0.21078861267730206 and parameters: {'qual_th': 0.11129156121790101, 'int_th': 604.795501015285}. Best is trial 74 with value: -0.2743555898335002.\u001b[0m\n",
      "\u001b[32m[I 2021-10-04 07:42:58,021]\u001b[0m Trial 76 finished with value: -0.27368864012786465 and parameters: {'qual_th': 0.10041413798732915, 'int_th': 1155.4838940024529}. Best is trial 74 with value: -0.2743555898335002.\u001b[0m\n",
      "\u001b[32m[I 2021-10-04 07:42:58,061]\u001b[0m Trial 77 finished with value: -0.0484330438335191 and parameters: {'qual_th': 0.37861760158051977, 'int_th': 1182.404677965084}. Best is trial 74 with value: -0.2743555898335002.\u001b[0m\n",
      "\u001b[32m[I 2021-10-04 07:42:58,113]\u001b[0m Trial 78 finished with value: -0.24603871073602898 and parameters: {'qual_th': 0.1360147681444494, 'int_th': 1209.0277431236168}. Best is trial 74 with value: -0.2743555898335002.\u001b[0m\n",
      "\u001b[32m[I 2021-10-04 07:42:58,175]\u001b[0m Trial 79 finished with value: -0.26782195605971204 and parameters: {'qual_th': 0.100546259986428, 'int_th': 1041.6270143538018}. Best is trial 74 with value: -0.2743555898335002.\u001b[0m\n",
      "\u001b[32m[I 2021-10-04 07:42:58,230]\u001b[0m Trial 80 finished with value: -0.18453080608317188 and parameters: {'qual_th': 0.17665525180656366, 'int_th': 995.7791966950704}. Best is trial 74 with value: -0.2743555898335002.\u001b[0m\n",
      "\u001b[32m[I 2021-10-04 07:42:58,299]\u001b[0m Trial 81 finished with value: -0.22746922331431835 and parameters: {'qual_th': 0.11976178306158194, 'int_th': 782.6748191860629}. Best is trial 74 with value: -0.2743555898335002.\u001b[0m\n",
      "\u001b[32m[I 2021-10-04 07:42:58,357]\u001b[0m Trial 82 finished with value: -0.2618858746524664 and parameters: {'qual_th': 0.11081800431596515, 'int_th': 1048.579421913779}. Best is trial 74 with value: -0.2743555898335002.\u001b[0m\n",
      "\u001b[32m[I 2021-10-04 07:42:58,410]\u001b[0m Trial 83 finished with value: -0.21750103344543262 and parameters: {'qual_th': 0.15912306695977774, 'int_th': 1122.2766968492115}. Best is trial 74 with value: -0.2743555898335002.\u001b[0m\n",
      "\u001b[32m[I 2021-10-04 07:42:58,485]\u001b[0m Trial 84 finished with value: -0.17822348548862546 and parameters: {'qual_th': 0.13749381026664187, 'int_th': 568.3110355480318}. Best is trial 74 with value: -0.2743555898335002.\u001b[0m\n",
      "\u001b[32m[I 2021-10-04 07:42:58,535]\u001b[0m Trial 85 finished with value: -0.26642661868347267 and parameters: {'qual_th': 0.11114869137662492, 'int_th': 1275.7577090294008}. Best is trial 74 with value: -0.2743555898335002.\u001b[0m\n",
      "\u001b[32m[I 2021-10-04 07:42:58,576]\u001b[0m Trial 86 finished with value: -0.09892169724128484 and parameters: {'qual_th': 0.2720771012835196, 'int_th': 1269.207719907256}. Best is trial 74 with value: -0.2743555898335002.\u001b[0m\n",
      "\u001b[32m[I 2021-10-04 07:42:58,611]\u001b[0m Trial 87 finished with value: -0.04399008128995276 and parameters: {'qual_th': 0.11129775925007136, 'int_th': 5802.975601001258}. Best is trial 74 with value: -0.2743555898335002.\u001b[0m\n",
      "\u001b[32m[I 2021-10-04 07:42:58,654]\u001b[0m Trial 88 finished with value: -0.22510160314008099 and parameters: {'qual_th': 0.12387730265848934, 'int_th': 1787.8229438735912}. Best is trial 74 with value: -0.2743555898335002.\u001b[0m\n",
      "\u001b[32m[I 2021-10-04 07:42:58,711]\u001b[0m Trial 89 finished with value: -0.2609879221324059 and parameters: {'qual_th': 0.1093554225690969, 'int_th': 1024.3035685754144}. Best is trial 74 with value: -0.2743555898335002.\u001b[0m\n",
      "\u001b[32m[I 2021-10-04 07:42:58,767]\u001b[0m Trial 90 finished with value: -0.23189583141612438 and parameters: {'qual_th': 0.14041700859638412, 'int_th': 1079.7351756390096}. Best is trial 74 with value: -0.2743555898335002.\u001b[0m\n",
      "\u001b[32m[I 2021-10-04 07:42:58,848]\u001b[0m Trial 91 finished with value: -0.2268827310528928 and parameters: {'qual_th': 0.1103460686707899, 'int_th': 730.3363437640336}. Best is trial 74 with value: -0.2743555898335002.\u001b[0m\n",
      "\u001b[32m[I 2021-10-04 07:42:58,956]\u001b[0m Trial 92 finished with value: -0.1584785982124248 and parameters: {'qual_th': 0.11793480491057157, 'int_th': 443.4675340687582}. Best is trial 74 with value: -0.2743555898335002.\u001b[0m\n",
      "\u001b[32m[I 2021-10-04 07:42:59,017]\u001b[0m Trial 93 finished with value: -0.25905724510656447 and parameters: {'qual_th': 0.1108848982785994, 'int_th': 1026.8676343441325}. Best is trial 74 with value: -0.2743555898335002.\u001b[0m\n",
      "\u001b[32m[I 2021-10-04 07:42:59,067]\u001b[0m Trial 94 finished with value: -0.25148603095692446 and parameters: {'qual_th': 0.1297071018542739, 'int_th': 1329.5195592546395}. Best is trial 74 with value: -0.2743555898335002.\u001b[0m\n",
      "\u001b[32m[I 2021-10-04 07:42:59,124]\u001b[0m Trial 95 finished with value: -0.2611264071582192 and parameters: {'qual_th': 0.10997344499995011, 'int_th': 1041.0976785383857}. Best is trial 74 with value: -0.2743555898335002.\u001b[0m\n",
      "\u001b[32m[I 2021-10-04 07:42:59,177]\u001b[0m Trial 96 finished with value: -0.22072621617901134 and parameters: {'qual_th': 0.1508379514741006, 'int_th': 1078.4036541275493}. Best is trial 74 with value: -0.2743555898335002.\u001b[0m\n",
      "\u001b[32m[I 2021-10-04 07:42:59,230]\u001b[0m Trial 97 finished with value: -0.2666075937460059 and parameters: {'qual_th': 0.11032814064678592, 'int_th': 1234.866940326048}. Best is trial 74 with value: -0.2743555898335002.\u001b[0m\n",
      "\u001b[32m[I 2021-10-04 07:42:59,281]\u001b[0m Trial 98 finished with value: -0.26306303936369013 and parameters: {'qual_th': 0.11958475581291755, 'int_th': 1272.1858702954553}. Best is trial 74 with value: -0.2743555898335002.\u001b[0m\n",
      "\u001b[32m[I 2021-10-04 07:42:59,329]\u001b[0m Trial 99 finished with value: -0.25461426837536505 and parameters: {'qual_th': 0.11895956665052519, 'int_th': 1434.7795742254038}. Best is trial 74 with value: -0.2743555898335002.\u001b[0m\n",
      "\u001b[32m[I 2021-10-04 07:42:59,379]\u001b[0m Trial 100 finished with value: -0.2470224748987671 and parameters: {'qual_th': 0.13480164496951624, 'int_th': 1212.7604899280805}. Best is trial 74 with value: -0.2743555898335002.\u001b[0m\n",
      "\u001b[32m[I 2021-10-04 07:42:59,429]\u001b[0m Trial 101 finished with value: -0.26494562817521483 and parameters: {'qual_th': 0.11226771487379494, 'int_th': 1295.4544291032553}. Best is trial 74 with value: -0.2743555898335002.\u001b[0m\n",
      "\u001b[32m[I 2021-10-04 07:42:59,476]\u001b[0m Trial 102 finished with value: -0.2560917098813464 and parameters: {'qual_th': 0.1111727316087771, 'int_th': 1468.6372648078284}. Best is trial 74 with value: -0.2743555898335002.\u001b[0m\n",
      "\u001b[32m[I 2021-10-04 07:42:59,524]\u001b[0m Trial 103 finished with value: -0.25615312159041737 and parameters: {'qual_th': 0.1258504499912534, 'int_th': 1318.2867290990825}. Best is trial 74 with value: -0.2743555898335002.\u001b[0m\n",
      "\u001b[32m[I 2021-10-04 07:42:59,581]\u001b[0m Trial 104 finished with value: -0.25914147383613084 and parameters: {'qual_th': 0.118012825173212, 'int_th': 1049.049361102666}. Best is trial 74 with value: -0.2743555898335002.\u001b[0m\n",
      "\u001b[32m[I 2021-10-04 07:42:59,624]\u001b[0m Trial 105 finished with value: -0.22433262583853944 and parameters: {'qual_th': 0.12090971161376055, 'int_th': 1846.7939502762647}. Best is trial 74 with value: -0.2743555898335002.\u001b[0m\n",
      "\u001b[32m[I 2021-10-04 07:42:59,669]\u001b[0m Trial 106 finished with value: -0.22110550541653212 and parameters: {'qual_th': 0.1415746183640214, 'int_th': 1720.3501309734277}. Best is trial 74 with value: -0.2743555898335002.\u001b[0m\n",
      "\u001b[32m[I 2021-10-04 07:42:59,718]\u001b[0m Trial 107 finished with value: -0.255520481701624 and parameters: {'qual_th': 0.12785871773887966, 'int_th': 1271.283221221664}. Best is trial 74 with value: -0.2743555898335002.\u001b[0m\n",
      "\u001b[32m[I 2021-10-04 07:42:59,765]\u001b[0m Trial 108 finished with value: -0.2552782864416232 and parameters: {'qual_th': 0.10968586533346521, 'int_th': 1484.5463780552195}. Best is trial 74 with value: -0.2743555898335002.\u001b[0m\n",
      "\u001b[32m[I 2021-10-04 07:42:59,802]\u001b[0m Trial 109 finished with value: -0.12028723874479488 and parameters: {'qual_th': 0.11783216467680968, 'int_th': 3493.4593773534857}. Best is trial 74 with value: -0.2743555898335002.\u001b[0m\n",
      "\u001b[32m[I 2021-10-04 07:42:59,849]\u001b[0m Trial 110 finished with value: -0.20840785255743716 and parameters: {'qual_th': 0.17023045434070444, 'int_th': 1228.172041920172}. Best is trial 74 with value: -0.2743555898335002.\u001b[0m\n",
      "\u001b[32m[I 2021-10-04 07:42:59,907]\u001b[0m Trial 111 finished with value: -0.26443276023958334 and parameters: {'qual_th': 0.1108048646995187, 'int_th': 1083.7305836757153}. Best is trial 74 with value: -0.2743555898335002.\u001b[0m\n"
     ]
    },
    {
     "name": "stderr",
     "output_type": "stream",
     "text": [
      "\u001b[32m[I 2021-10-04 07:42:59,965]\u001b[0m Trial 112 finished with value: -0.26266193461625953 and parameters: {'qual_th': 0.10790378119654274, 'int_th': 1038.4589405708464}. Best is trial 74 with value: -0.2743555898335002.\u001b[0m\n",
      "\u001b[32m[I 2021-10-04 07:43:00,014]\u001b[0m Trial 113 finished with value: -0.2630364316533058 and parameters: {'qual_th': 0.10816986886866237, 'int_th': 1360.7184637668547}. Best is trial 74 with value: -0.2743555898335002.\u001b[0m\n",
      "\u001b[32m[I 2021-10-04 07:43:00,063]\u001b[0m Trial 114 finished with value: -0.2515137166731517 and parameters: {'qual_th': 0.1288640148931493, 'int_th': 1385.528727622256}. Best is trial 74 with value: -0.2743555898335002.\u001b[0m\n",
      "\u001b[32m[I 2021-10-04 07:43:00,107]\u001b[0m Trial 115 finished with value: -0.21499997850000216 and parameters: {'qual_th': 0.153062797946946, 'int_th': 1692.787154743468}. Best is trial 74 with value: -0.2743555898335002.\u001b[0m\n",
      "\u001b[32m[I 2021-10-04 07:43:00,151]\u001b[0m Trial 116 finished with value: -0.21432275928149877 and parameters: {'qual_th': 0.1365962814177931, 'int_th': 1895.9121204016212}. Best is trial 74 with value: -0.2743555898335002.\u001b[0m\n",
      "\u001b[32m[I 2021-10-04 07:43:00,205]\u001b[0m Trial 117 finished with value: -0.2678645827108581 and parameters: {'qual_th': 0.10784761039048459, 'int_th': 1137.3172489967287}. Best is trial 74 with value: -0.2743555898335002.\u001b[0m\n",
      "\u001b[32m[I 2021-10-04 07:43:00,245]\u001b[0m Trial 118 finished with value: -0.033285779050330096 and parameters: {'qual_th': 0.4184147054061431, 'int_th': 1166.1388855181817}. Best is trial 74 with value: -0.2743555898335002.\u001b[0m\n",
      "\u001b[32m[I 2021-10-04 07:43:00,310]\u001b[0m Trial 119 finished with value: -0.1963927724520526 and parameters: {'qual_th': 0.14389035759417812, 'int_th': 773.1686494845349}. Best is trial 74 with value: -0.2743555898335002.\u001b[0m\n",
      "\u001b[32m[I 2021-10-04 07:43:00,356]\u001b[0m Trial 120 finished with value: -0.24975935998466217 and parameters: {'qual_th': 0.12435071463158875, 'int_th': 1485.3310750688477}. Best is trial 74 with value: -0.2743555898335002.\u001b[0m\n",
      "\u001b[32m[I 2021-10-04 07:43:00,424]\u001b[0m Trial 121 finished with value: -0.2632066484516545 and parameters: {'qual_th': 0.11202134134559101, 'int_th': 1370.155647305121}. Best is trial 74 with value: -0.2743555898335002.\u001b[0m\n",
      "\u001b[32m[I 2021-10-04 07:43:00,474]\u001b[0m Trial 122 finished with value: -0.26369542584072186 and parameters: {'qual_th': 0.10956218535057753, 'int_th': 1379.2629706351538}. Best is trial 74 with value: -0.2743555898335002.\u001b[0m\n",
      "\u001b[32m[I 2021-10-04 07:43:00,526]\u001b[0m Trial 123 finished with value: -0.2641072836163475 and parameters: {'qual_th': 0.10656081076823984, 'int_th': 1365.8255151241835}. Best is trial 74 with value: -0.2743555898335002.\u001b[0m\n",
      "\u001b[32m[I 2021-10-04 07:43:00,578]\u001b[0m Trial 124 finished with value: -0.26076991193676335 and parameters: {'qual_th': 0.1182144919859164, 'int_th': 1339.046899646533}. Best is trial 74 with value: -0.2743555898335002.\u001b[0m\n",
      "\u001b[32m[I 2021-10-04 07:43:00,625]\u001b[0m Trial 125 finished with value: -0.23038726609858332 and parameters: {'qual_th': 0.13112962717863694, 'int_th': 1671.3578459593023}. Best is trial 74 with value: -0.2743555898335002.\u001b[0m\n",
      "\u001b[32m[I 2021-10-04 07:43:00,674]\u001b[0m Trial 126 finished with value: -0.2520600822045485 and parameters: {'qual_th': 0.10656868640738515, 'int_th': 1529.0247036377245}. Best is trial 74 with value: -0.2743555898335002.\u001b[0m\n",
      "\u001b[32m[I 2021-10-04 07:43:00,711]\u001b[0m Trial 127 finished with value: -0.08895704429974917 and parameters: {'qual_th': 0.11611062965236259, 'int_th': 4286.873396939136}. Best is trial 74 with value: -0.2743555898335002.\u001b[0m\n",
      "\u001b[32m[I 2021-10-04 07:43:00,765]\u001b[0m Trial 128 finished with value: -0.2739372886271113 and parameters: {'qual_th': 0.10081520721807213, 'int_th': 1178.1264005637556}. Best is trial 74 with value: -0.2743555898335002.\u001b[0m\n",
      "\u001b[32m[I 2021-10-04 07:43:00,816]\u001b[0m Trial 129 finished with value: -0.26046302222056794 and parameters: {'qual_th': 0.12367169209642312, 'int_th': 1244.8938547369485}. Best is trial 74 with value: -0.2743555898335002.\u001b[0m\n",
      "\u001b[32m[I 2021-10-04 07:43:00,869]\u001b[0m Trial 130 finished with value: -0.27428569017268656 and parameters: {'qual_th': 0.10011685692662958, 'int_th': 1217.367006853897}. Best is trial 74 with value: -0.2743555898335002.\u001b[0m\n",
      "\u001b[32m[I 2021-10-04 07:43:00,922]\u001b[0m Trial 131 finished with value: -0.27354449712803963 and parameters: {'qual_th': 0.10017408609735447, 'int_th': 1173.766296472828}. Best is trial 74 with value: -0.2743555898335002.\u001b[0m\n",
      "\u001b[32m[I 2021-10-04 07:43:00,977]\u001b[0m Trial 132 finished with value: -0.2729957575531006 and parameters: {'qual_th': 0.10323438516372192, 'int_th': 1149.9928515427819}. Best is trial 74 with value: -0.2743555898335002.\u001b[0m\n",
      "\u001b[32m[I 2021-10-04 07:43:01,033]\u001b[0m Trial 133 finished with value: -0.2737241439287943 and parameters: {'qual_th': 0.100554080568847, 'int_th': 1149.897545682597}. Best is trial 74 with value: -0.2743555898335002.\u001b[0m\n",
      "\u001b[32m[I 2021-10-04 07:43:01,088]\u001b[0m Trial 134 finished with value: -0.2727272495558836 and parameters: {'qual_th': 0.10195116812698907, 'int_th': 1162.5721083276737}. Best is trial 74 with value: -0.2743555898335002.\u001b[0m\n",
      "\u001b[32m[I 2021-10-04 07:43:01,144]\u001b[0m Trial 135 finished with value: -0.2728036760988923 and parameters: {'qual_th': 0.10100872985307494, 'int_th': 1145.7498739590753}. Best is trial 74 with value: -0.2743555898335002.\u001b[0m\n",
      "\u001b[32m[I 2021-10-04 07:43:01,198]\u001b[0m Trial 136 finished with value: -0.27354449712803963 and parameters: {'qual_th': 0.1007618704406162, 'int_th': 1174.1278565768455}. Best is trial 74 with value: -0.2743555898335002.\u001b[0m\n",
      "\u001b[32m[I 2021-10-04 07:43:01,264]\u001b[0m Trial 137 finished with value: -0.250260308902443 and parameters: {'qual_th': 0.10039113679631564, 'int_th': 844.3272695130954}. Best is trial 74 with value: -0.2743555898335002.\u001b[0m\n",
      "\u001b[32m[I 2021-10-04 07:43:01,342]\u001b[0m Trial 138 finished with value: -0.2256690860298609 and parameters: {'qual_th': 0.1019893983016119, 'int_th': 657.6564328490279}. Best is trial 74 with value: -0.2743555898335002.\u001b[0m\n",
      "\u001b[32m[I 2021-10-04 07:43:01,395]\u001b[0m Trial 139 finished with value: -0.27395467996910455 and parameters: {'qual_th': 0.10074634811779276, 'int_th': 1200.5777552542759}. Best is trial 74 with value: -0.2743555898335002.\u001b[0m\n",
      "\u001b[32m[I 2021-10-04 07:43:01,449]\u001b[0m Trial 140 finished with value: -0.27362966994996374 and parameters: {'qual_th': 0.10130608672548742, 'int_th': 1188.1126885251958}. Best is trial 74 with value: -0.2743555898335002.\u001b[0m\n",
      "\u001b[32m[I 2021-10-04 07:43:01,503]\u001b[0m Trial 141 finished with value: -0.2730785510452082 and parameters: {'qual_th': 0.10274674719073543, 'int_th': 1179.5486943091582}. Best is trial 74 with value: -0.2743555898335002.\u001b[0m\n",
      "\u001b[32m[I 2021-10-04 07:43:01,557]\u001b[0m Trial 142 finished with value: -0.2731500826088725 and parameters: {'qual_th': 0.10183374528401401, 'int_th': 1155.2218313593103}. Best is trial 74 with value: -0.2743555898335002.\u001b[0m\n",
      "\u001b[32m[I 2021-10-04 07:43:01,613]\u001b[0m Trial 143 finished with value: -0.2720033300919254 and parameters: {'qual_th': 0.1007180028115788, 'int_th': 1143.5360173504148}. Best is trial 74 with value: -0.2743555898335002.\u001b[0m\n",
      "\u001b[32m[I 2021-10-04 07:43:01,682]\u001b[0m Trial 144 finished with value: -0.2433154917569858 and parameters: {'qual_th': 0.1015694815954762, 'int_th': 798.3527667174642}. Best is trial 74 with value: -0.2743555898335002.\u001b[0m\n",
      "\u001b[32m[I 2021-10-04 07:43:01,736]\u001b[0m Trial 145 finished with value: -0.27326313488310444 and parameters: {'qual_th': 0.10064379958720544, 'int_th': 1147.2705158044555}. Best is trial 74 with value: -0.2743555898335002.\u001b[0m\n",
      "\u001b[32m[I 2021-10-04 07:43:01,791]\u001b[0m Trial 146 finished with value: -0.26218485191723934 and parameters: {'qual_th': 0.11921930050603538, 'int_th': 1142.3272111525177}. Best is trial 74 with value: -0.2743555898335002.\u001b[0m\n",
      "\u001b[32m[I 2021-10-04 07:43:01,853]\u001b[0m Trial 147 finished with value: -0.2513167606232686 and parameters: {'qual_th': 0.11691054324680375, 'int_th': 961.5891516688996}. Best is trial 74 with value: -0.2743555898335002.\u001b[0m\n",
      "\u001b[32m[I 2021-10-04 07:43:01,906]\u001b[0m Trial 148 finished with value: -0.274061262489317 and parameters: {'qual_th': 0.1000390069491499, 'int_th': 1188.6457925409604}. Best is trial 74 with value: -0.2743555898335002.\u001b[0m\n"
     ]
    },
    {
     "name": "stderr",
     "output_type": "stream",
     "text": [
      "\u001b[32m[I 2021-10-04 07:43:01,970]\u001b[0m Trial 149 finished with value: -0.24563104411349088 and parameters: {'qual_th': 0.12713045003808296, 'int_th': 1517.4984542568939}. Best is trial 74 with value: -0.2743555898335002.\u001b[0m\n",
      "\u001b[32m[I 2021-10-04 07:43:02,011]\u001b[0m Trial 150 finished with value: -0.02352940955017322 and parameters: {'qual_th': 0.478821448264194, 'int_th': 976.6393021263835}. Best is trial 74 with value: -0.2743555898335002.\u001b[0m\n",
      "\u001b[32m[I 2021-10-04 07:43:02,055]\u001b[0m Trial 151 finished with value: -0.06915887204122691 and parameters: {'qual_th': 0.3287687329892431, 'int_th': 1175.328543418909}. Best is trial 74 with value: -0.2743555898335002.\u001b[0m\n",
      "\u001b[32m[I 2021-10-04 07:43:02,112]\u001b[0m Trial 152 finished with value: -0.27357291555408747 and parameters: {'qual_th': 0.10009787571881268, 'int_th': 1155.0713069400433}. Best is trial 74 with value: -0.2743555898335002.\u001b[0m\n",
      "\u001b[32m[I 2021-10-04 07:43:02,181]\u001b[0m Trial 153 finished with value: -0.2538106874292317 and parameters: {'qual_th': 0.10036806229760534, 'int_th': 868.1725920467062}. Best is trial 74 with value: -0.2743555898335002.\u001b[0m\n",
      "\u001b[32m[I 2021-10-04 07:43:02,234]\u001b[0m Trial 154 finished with value: -0.2745270325977094 and parameters: {'qual_th': 0.10049332505103824, 'int_th': 1219.4121189263444}. Best is trial 154 with value: -0.2745270325977094.\u001b[0m\n",
      "\u001b[32m[I 2021-10-04 07:43:02,284]\u001b[0m Trial 155 finished with value: -0.256132051308297 and parameters: {'qual_th': 0.11529572941901464, 'int_th': 1429.5544811932843}. Best is trial 154 with value: -0.2745270325977094.\u001b[0m\n",
      "\u001b[32m[I 2021-10-04 07:43:02,347]\u001b[0m Trial 156 finished with value: -0.257650150536445 and parameters: {'qual_th': 0.10695549006323592, 'int_th': 981.6835956514115}. Best is trial 154 with value: -0.2745270325977094.\u001b[0m\n",
      "\u001b[32m[I 2021-10-04 07:43:02,399]\u001b[0m Trial 157 finished with value: -0.2623097347976961 and parameters: {'qual_th': 0.12180730050972215, 'int_th': 1254.7031842114943}. Best is trial 154 with value: -0.2745270325977094.\u001b[0m\n",
      "\u001b[32m[I 2021-10-04 07:43:02,436]\u001b[0m Trial 158 finished with value: -0.05315203298491558 and parameters: {'qual_th': 0.10008992164065103, 'int_th': 5173.864565777411}. Best is trial 154 with value: -0.2745270325977094.\u001b[0m\n",
      "\u001b[32m[I 2021-10-04 07:43:02,483]\u001b[0m Trial 159 finished with value: -0.24114170854904443 and parameters: {'qual_th': 0.1168998646126645, 'int_th': 1614.2793338290874}. Best is trial 154 with value: -0.2745270325977094.\u001b[0m\n",
      "\u001b[32m[I 2021-10-04 07:43:02,560]\u001b[0m Trial 160 finished with value: -0.22771346714335516 and parameters: {'qual_th': 0.10687958936829335, 'int_th': 705.3900171540273}. Best is trial 154 with value: -0.2745270325977094.\u001b[0m\n",
      "\u001b[32m[I 2021-10-04 07:43:02,616]\u001b[0m Trial 161 finished with value: -0.27347112200937795 and parameters: {'qual_th': 0.10052966815129268, 'int_th': 1185.7386105047237}. Best is trial 154 with value: -0.2745270325977094.\u001b[0m\n",
      "\u001b[32m[I 2021-10-04 07:43:02,670]\u001b[0m Trial 162 finished with value: -0.26651980030662553 and parameters: {'qual_th': 0.1140517315248222, 'int_th': 1220.6526944074799}. Best is trial 154 with value: -0.2745270325977094.\u001b[0m\n",
      "\u001b[32m[I 2021-10-04 07:43:02,736]\u001b[0m Trial 163 finished with value: -0.2619136764042269 and parameters: {'qual_th': 0.10018585737711316, 'int_th': 970.3609540753476}. Best is trial 154 with value: -0.2745270325977094.\u001b[0m\n",
      "\u001b[32m[I 2021-10-04 07:43:02,783]\u001b[0m Trial 164 finished with value: -0.11192738877032077 and parameters: {'qual_th': 0.2518170262966037, 'int_th': 1088.3880164815816}. Best is trial 154 with value: -0.2745270325977094.\u001b[0m\n",
      "\u001b[32m[I 2021-10-04 07:43:02,831]\u001b[0m Trial 165 finished with value: -0.25780508440822286 and parameters: {'qual_th': 0.10801819604855889, 'int_th': 1437.6174713445835}. Best is trial 154 with value: -0.2745270325977094.\u001b[0m\n",
      "\u001b[32m[I 2021-10-04 07:43:02,882]\u001b[0m Trial 166 finished with value: -0.2592924084825429 and parameters: {'qual_th': 0.125053580535972, 'int_th': 1255.1517778879147}. Best is trial 154 with value: -0.2745270325977094.\u001b[0m\n",
      "\u001b[32m[I 2021-10-04 07:43:02,923]\u001b[0m Trial 167 finished with value: -0.02516010748763884 and parameters: {'qual_th': 0.457422105332799, 'int_th': 837.6461621391054}. Best is trial 154 with value: -0.2745270325977094.\u001b[0m\n",
      "\u001b[32m[I 2021-10-04 07:43:02,961]\u001b[0m Trial 168 finished with value: -0.14351318673786606 and parameters: {'qual_th': 0.11530249388065962, 'int_th': 2993.389303224565}. Best is trial 154 with value: -0.2745270325977094.\u001b[0m\n",
      "\u001b[32m[I 2021-10-04 07:43:03,011]\u001b[0m Trial 169 finished with value: -0.26487957611271457 and parameters: {'qual_th': 0.10748737670657833, 'int_th': 1318.079614782898}. Best is trial 154 with value: -0.2745270325977094.\u001b[0m\n",
      "\u001b[32m[I 2021-10-04 07:43:03,068]\u001b[0m Trial 170 finished with value: -0.23766638702690784 and parameters: {'qual_th': 0.1328770874719299, 'int_th': 1024.0362746324872}. Best is trial 154 with value: -0.2745270325977094.\u001b[0m\n",
      "\u001b[32m[I 2021-10-04 07:43:03,123]\u001b[0m Trial 171 finished with value: -0.2699540100330957 and parameters: {'qual_th': 0.10560770397818793, 'int_th': 1137.8521477629718}. Best is trial 154 with value: -0.2745270325977094.\u001b[0m\n",
      "\u001b[32m[I 2021-10-04 07:43:03,178]\u001b[0m Trial 172 finished with value: -0.2734934451332958 and parameters: {'qual_th': 0.10031189967815016, 'int_th': 1149.4524522616252}. Best is trial 154 with value: -0.2745270325977094.\u001b[0m\n",
      "\u001b[32m[I 2021-10-04 07:43:03,230]\u001b[0m Trial 173 finished with value: -0.26651882336861876 and parameters: {'qual_th': 0.11325118301615131, 'int_th': 1237.4947769739097}. Best is trial 154 with value: -0.2745270325977094.\u001b[0m\n",
      "\u001b[32m[I 2021-10-04 07:43:03,269]\u001b[0m Trial 174 finished with value: -0.16787910823960736 and parameters: {'qual_th': 0.1004628414531794, 'int_th': 2604.129975343848}. Best is trial 154 with value: -0.2745270325977094.\u001b[0m\n",
      "\u001b[32m[I 2021-10-04 07:43:03,318]\u001b[0m Trial 175 finished with value: -0.2573182004420963 and parameters: {'qual_th': 0.10819524875166046, 'int_th': 1435.3663703427378}. Best is trial 154 with value: -0.2745270325977094.\u001b[0m\n",
      "\u001b[32m[I 2021-10-04 07:43:03,374]\u001b[0m Trial 176 finished with value: -0.25874123745444366 and parameters: {'qual_th': 0.12098791844967771, 'int_th': 1107.1466992649173}. Best is trial 154 with value: -0.2745270325977094.\u001b[0m\n",
      "\u001b[32m[I 2021-10-04 07:43:03,437]\u001b[0m Trial 177 finished with value: -0.25092522198925077 and parameters: {'qual_th': 0.114179670201872, 'int_th': 935.8627741907226}. Best is trial 154 with value: -0.2745270325977094.\u001b[0m\n",
      "\u001b[32m[I 2021-10-04 07:43:03,493]\u001b[0m Trial 178 finished with value: -0.13831774408245381 and parameters: {'qual_th': 0.22996077182081304, 'int_th': 1323.200714285985}. Best is trial 154 with value: -0.2745270325977094.\u001b[0m\n",
      "\u001b[32m[I 2021-10-04 07:43:03,554]\u001b[0m Trial 179 finished with value: -0.27299827316880126 and parameters: {'qual_th': 0.1003307389068841, 'int_th': 1168.8019462519246}. Best is trial 154 with value: -0.2745270325977094.\u001b[0m\n",
      "\u001b[32m[I 2021-10-04 07:43:03,601]\u001b[0m Trial 180 finished with value: -0.24597362167168163 and parameters: {'qual_th': 0.107587004787302, 'int_th': 1569.0477900876936}. Best is trial 154 with value: -0.2745270325977094.\u001b[0m\n",
      "\u001b[32m[I 2021-10-04 07:43:03,655]\u001b[0m Trial 181 finished with value: -0.27417273105520146 and parameters: {'qual_th': 0.1007729938093447, 'int_th': 1182.2147831259176}. Best is trial 154 with value: -0.2745270325977094.\u001b[0m\n",
      "\u001b[32m[I 2021-10-04 07:43:03,713]\u001b[0m Trial 182 finished with value: -0.26403159968129647 and parameters: {'qual_th': 0.10731153121557731, 'int_th': 1045.2699536890807}. Best is trial 154 with value: -0.2745270325977094.\u001b[0m\n",
      "\u001b[32m[I 2021-10-04 07:43:03,766]\u001b[0m Trial 183 finished with value: -0.2737675815345439 and parameters: {'qual_th': 0.10012452064338291, 'int_th': 1223.0628978383806}. Best is trial 154 with value: -0.2745270325977094.\u001b[0m\n",
      "\u001b[32m[I 2021-10-04 07:43:03,817]\u001b[0m Trial 184 finished with value: -0.2702580108412847 and parameters: {'qual_th': 0.10011819420231403, 'int_th': 1297.351053643618}. Best is trial 154 with value: -0.2745270325977094.\u001b[0m\n",
      "\u001b[32m[I 2021-10-04 07:43:03,865]\u001b[0m Trial 185 finished with value: -0.2573978151810413 and parameters: {'qual_th': 0.11385359702266451, 'int_th': 1421.112219290139}. Best is trial 154 with value: -0.2745270325977094.\u001b[0m\n"
     ]
    },
    {
     "name": "stderr",
     "output_type": "stream",
     "text": [
      "\u001b[32m[I 2021-10-04 07:43:03,917]\u001b[0m Trial 186 finished with value: -0.25855173180348895 and parameters: {'qual_th': 0.12406979257819742, 'int_th': 1235.08504936027}. Best is trial 154 with value: -0.2745270325977094.\u001b[0m\n",
      "\u001b[32m[I 2021-10-04 07:43:03,975]\u001b[0m Trial 187 finished with value: -0.2591427244087515 and parameters: {'qual_th': 0.11552530757951344, 'int_th': 1037.284253191193}. Best is trial 154 with value: -0.2745270325977094.\u001b[0m\n",
      "\u001b[32m[I 2021-10-04 07:43:04,039]\u001b[0m Trial 188 finished with value: -0.2536549522182053 and parameters: {'qual_th': 0.10753373668645791, 'int_th': 916.2789857577015}. Best is trial 154 with value: -0.2745270325977094.\u001b[0m\n",
      "\u001b[32m[I 2021-10-04 07:43:04,089]\u001b[0m Trial 189 finished with value: -0.2597700910556238 and parameters: {'qual_th': 0.119818507513686, 'int_th': 1346.1338242641825}. Best is trial 154 with value: -0.2745270325977094.\u001b[0m\n",
      "\u001b[32m[I 2021-10-04 07:43:04,144]\u001b[0m Trial 190 finished with value: -0.2672981657909254 and parameters: {'qual_th': 0.1089500287090412, 'int_th': 1115.742430591923}. Best is trial 154 with value: -0.2745270325977094.\u001b[0m\n",
      "\u001b[32m[I 2021-10-04 07:43:04,200]\u001b[0m Trial 191 finished with value: -0.2734641404894078 and parameters: {'qual_th': 0.10094770772691357, 'int_th': 1170.1396407910113}. Best is trial 154 with value: -0.2745270325977094.\u001b[0m\n",
      "\u001b[32m[I 2021-10-04 07:43:04,255]\u001b[0m Trial 192 finished with value: -0.27471563650781833 and parameters: {'qual_th': 0.10038908191941358, 'int_th': 1208.9583165166134}. Best is trial 192 with value: -0.27471563650781833.\u001b[0m\n",
      "\u001b[32m[I 2021-10-04 07:43:04,309]\u001b[0m Trial 193 finished with value: -0.2741432777798596 and parameters: {'qual_th': 0.1006304388318084, 'int_th': 1250.376840766118}. Best is trial 192 with value: -0.27471563650781833.\u001b[0m\n",
      "\u001b[32m[I 2021-10-04 07:43:04,360]\u001b[0m Trial 194 finished with value: -0.2641851780131477 and parameters: {'qual_th': 0.11345637914334264, 'int_th': 1311.3859319004196}. Best is trial 192 with value: -0.27471563650781833.\u001b[0m\n",
      "\u001b[32m[I 2021-10-04 07:43:04,407]\u001b[0m Trial 195 finished with value: -0.2536161761218731 and parameters: {'qual_th': 0.10854228570133069, 'int_th': 1504.3435701292199}. Best is trial 192 with value: -0.27471563650781833.\u001b[0m\n",
      "\u001b[32m[I 2021-10-04 07:43:04,446]\u001b[0m Trial 196 finished with value: -0.13199762734264853 and parameters: {'qual_th': 0.10011878466090536, 'int_th': 3265.7803190443424}. Best is trial 192 with value: -0.27471563650781833.\u001b[0m\n",
      "\u001b[32m[I 2021-10-04 07:43:04,503]\u001b[0m Trial 197 finished with value: -0.25814042697995865 and parameters: {'qual_th': 0.11642793676404872, 'int_th': 1031.963920585044}. Best is trial 192 with value: -0.27471563650781833.\u001b[0m\n",
      "\u001b[32m[I 2021-10-04 07:43:04,556]\u001b[0m Trial 198 finished with value: -0.2727674383052663 and parameters: {'qual_th': 0.10007737442700404, 'int_th': 1230.7070745196763}. Best is trial 192 with value: -0.27471563650781833.\u001b[0m\n",
      "\u001b[32m[I 2021-10-04 07:43:04,605]\u001b[0m Trial 199 finished with value: -0.26272349722847343 and parameters: {'qual_th': 0.10846178831324606, 'int_th': 1346.6632247020802}. Best is trial 192 with value: -0.27471563650781833.\u001b[0m\n"
     ]
    },
    {
     "name": "stdout",
     "output_type": "stream",
     "text": [
      "{'qual_th': 0.10038908191941358, 'int_th': 1208.9583165166134}\n",
      "Jaccard  0.27471563650781833\n"
     ]
    }
   ],
   "source": [
    "istd_df = get_istdeco_df(cpu(xsimn), code_ref.reshape([140,8,2], order='F'), psf_sig=(1.7, 1.7), n_iter=400)\n",
    "# istd_df = exclude_borders(istd_df, border_size_zyx=[0,500,500], img_size=[crop_sz*100,crop_sz*100,crop_sz*100])\n",
    "\n",
    "q_max = 0.3*istd_df['quality'].max()\n",
    "i_max = 0.3*istd_df['intensity'].max()\n",
    "i_min = istd_df['intensity'].min()\n",
    "\n",
    "def objective(trial):\n",
    "    \n",
    "    n_iter = 400 # trial.suggest_uniform('n_iter', 50, 500)\n",
    "    psf_s = 1.7 # trial.suggest_uniform('psf_s', 1.5, 1.7)\n",
    "    \n",
    "#     istd_df = get_istdeco_df(xsimn, code_ref.reshape([140,8,2], order='F'), psf_sig=(psf_s, psf_s), n_iter=int(n_iter))\n",
    "#     istd_df = exclude_borders(istd_df, border_size_zyx=[0,500,500], img_size=[crop_sz*100,crop_sz*100,crop_sz*100])\n",
    "    \n",
    "    qual_th = trial.suggest_uniform('qual_th', 0.1, q_max)\n",
    "    int_th = trial.suggest_uniform('int_th', i_min, i_max)\n",
    "    \n",
    "    sub_df = istd_df[(istd_df['intensity'] > int_th) & (istd_df['quality'] > qual_th)]\n",
    "    perf, matches, _  = matching(gt_df, sub_df, match_genes=True, print_res=False) \n",
    "    \n",
    "    return -perf['jaccard']\n",
    "\n",
    "study = optuna.create_study()\n",
    "study.optimize(objective, n_trials=200)\n",
    "\n",
    "print(study.best_params)\n",
    "print('Jaccard ', -study.best_value)"
   ]
  },
  {
   "cell_type": "code",
   "execution_count": null,
   "id": "interesting-treasurer",
   "metadata": {},
   "outputs": [
    {
     "name": "stdout",
     "output_type": "stream",
     "text": [
      "Recall: 0.595\n",
      "Precision: 0.729\n",
      "Jaccard: 48.749\n",
      "RMSE_vol: 169.596\n",
      "Eff_3d: 0.918\n",
      "FN: 649.0 FP: 355.0\n",
      "Num. matches: 955.000\n",
      "Shift: 2.48,3.01,0.00\n",
      "------- 0.5821989528795811\n",
      "Recall: 0.392\n",
      "Precision: 0.479\n",
      "Jaccard: 27.472\n",
      "RMSE_vol: 50.623\n",
      "Eff_3d: 23.182\n",
      "FN: 976.0 FP: 682.0\n",
      "Num. matches: 628.000\n",
      "Shift: 1.57,0.01,0.00\n"
     ]
    }
   ],
   "source": [
    "sub_df = istd_df[(istd_df['intensity'] > study.best_params['int_th']) & (istd_df['quality'] > study.best_params['qual_th'])]\n",
    "perf, matches, _  = matching(gt_df, sub_df, match_genes=False)\n",
    "print(f'-------', sum(matches['code_inds_pred'] == matches['code_inds_tar'])/len(matches))\n",
    "perf, matches, _  = matching(gt_df, sub_df, match_genes=True)"
   ]
  },
  {
   "cell_type": "code",
   "execution_count": null,
   "id": "unlike-cross",
   "metadata": {},
   "outputs": [],
   "source": [
    "# export\n",
    "def get_bardensr_tensor(sim_data, codebook, bg=100., n_iter=400, l1_pen=0., psf_r=0):\n",
    "    \n",
    "    bard_results = pd.DataFrame()\n",
    "    evd_tensors = []\n",
    "    codeflat = codebook.T\n",
    "    \n",
    "    for i in range(len(sim_data)):\n",
    "    \n",
    "        image_data = sim_data[i]\n",
    "        Xnorm = image_data - bg\n",
    "#         Xnorm /= Xnorm.max()\n",
    "        \n",
    "#         Xnorm = bardensr.preprocessing.minmax(image_data - bg)\n",
    "\n",
    "#         Xnorm = bardensr.preprocessing.minmax(image_data)\n",
    "#         Xnorm = bardensr.preprocessing.background_subtraction(Xnorm,[0,10,10])\n",
    "        Xnorm = bardensr.preprocessing.minmax(Xnorm)\n",
    "\n",
    "        evidence_tensor_iterative,extra_learned_params=\\\n",
    "            bardensr.spot_calling.estimate_density_iterative(Xnorm.astype('float64'),codeflat,l1_penalty=l1_pen,use_tqdm_notebook=True,iterations=n_iter, estimate_codebook_gain=True, psf_radius=(psf_r, psf_r, psf_r))\n",
    "\n",
    "#         evidence_tensor_iterative= bardensr.spot_calling.estimate_density_singleshot(Xnorm.astype('float64'), codeflat, noisefloor=0.05)\n",
    "    \n",
    "        evd_tensors.append(evidence_tensor_iterative)\n",
    "        \n",
    "    return evd_tensors\n",
    "\n",
    "def get_bardensr_df(evd_tensors, th, ps=1.0):\n",
    "    \n",
    "    bard_results = pd.DataFrame()\n",
    "\n",
    "    for i in range(len(evd_tensors)):    \n",
    "    #     thresh_iterative=evd_tensors[i].max()*.1\n",
    "        result_iterative=bardensr.spot_calling.find_peaks(evd_tensors[i],th, poolsize=(ps,ps,ps))\n",
    "\n",
    "        code_inds = np.array(result_iterative.j.values, dtype=np.int16)\n",
    "        df = pd.DataFrame(data={\n",
    "                    'frame_idx': i,\n",
    "                    'x': result_iterative.m2.values + 0.5, \n",
    "                    'y': result_iterative.m1.values + 0.5,\n",
    "                    'z': 0.5,\n",
    "                    'intensity': result_iterative.int.values,\n",
    "                    'code_inds': code_inds\n",
    "            })\n",
    "\n",
    "        bard_results = bard_results.append(df)\n",
    "\n",
    "    bard_results = px_to_nm(bard_results)\n",
    "    return bard_results"
   ]
  },
  {
   "cell_type": "code",
   "execution_count": null,
   "id": "still-highway",
   "metadata": {},
   "outputs": [
    {
     "name": "stderr",
     "output_type": "stream",
     "text": [
      "2021-09-25 11:24:06.459223: I tensorflow/compiler/jit/xla_cpu_device.cc:41] Not creating XLA devices, tf_xla_enable_xla_devices not set\n",
      "2021-09-25 11:24:06.460009: I tensorflow/stream_executor/platform/default/dso_loader.cc:49] Successfully opened dynamic library libcuda.so.1\n",
      "2021-09-25 11:24:06.461228: I tensorflow/core/common_runtime/gpu/gpu_device.cc:1720] Found device 0 with properties: \n",
      "pciBusID: 0000:04:00.0 name: TITAN V computeCapability: 7.0\n",
      "coreClock: 1.455GHz coreCount: 80 deviceMemorySize: 11.78GiB deviceMemoryBandwidth: 607.97GiB/s\n",
      "2021-09-25 11:24:06.461275: I tensorflow/stream_executor/platform/default/dso_loader.cc:49] Successfully opened dynamic library libcudart.so.10.1\n",
      "2021-09-25 11:24:06.461340: I tensorflow/stream_executor/platform/default/dso_loader.cc:49] Successfully opened dynamic library libcublas.so.10\n",
      "2021-09-25 11:24:06.461381: I tensorflow/stream_executor/platform/default/dso_loader.cc:49] Successfully opened dynamic library libcublasLt.so.10\n",
      "2021-09-25 11:24:06.461420: I tensorflow/stream_executor/platform/default/dso_loader.cc:49] Successfully opened dynamic library libcufft.so.10\n",
      "2021-09-25 11:24:06.461457: I tensorflow/stream_executor/platform/default/dso_loader.cc:49] Successfully opened dynamic library libcurand.so.10\n",
      "2021-09-25 11:24:06.461504: I tensorflow/stream_executor/platform/default/dso_loader.cc:49] Successfully opened dynamic library libcusolver.so.10\n",
      "2021-09-25 11:24:06.461546: I tensorflow/stream_executor/platform/default/dso_loader.cc:49] Successfully opened dynamic library libcusparse.so.10\n",
      "2021-09-25 11:24:06.466318: I tensorflow/stream_executor/platform/default/dso_loader.cc:49] Successfully opened dynamic library libcudnn.so.7\n",
      "2021-09-25 11:24:06.468228: I tensorflow/core/common_runtime/gpu/gpu_device.cc:1862] Adding visible gpu devices: 0\n",
      "2021-09-25 11:24:06.468910: I tensorflow/core/platform/cpu_feature_guard.cc:142] This TensorFlow binary is optimized with oneAPI Deep Neural Network Library (oneDNN) to use the following CPU instructions in performance-critical operations:  SSE4.1 SSE4.2 AVX AVX2 FMA\n",
      "To enable them in other operations, rebuild TensorFlow with the appropriate compiler flags.\n",
      "2021-09-25 11:24:06.476972: I tensorflow/core/common_runtime/gpu/gpu_device.cc:1720] Found device 0 with properties: \n",
      "pciBusID: 0000:04:00.0 name: TITAN V computeCapability: 7.0\n",
      "coreClock: 1.455GHz coreCount: 80 deviceMemorySize: 11.78GiB deviceMemoryBandwidth: 607.97GiB/s\n",
      "2021-09-25 11:24:06.477059: I tensorflow/stream_executor/platform/default/dso_loader.cc:49] Successfully opened dynamic library libcudart.so.10.1\n",
      "2021-09-25 11:24:06.477103: I tensorflow/stream_executor/platform/default/dso_loader.cc:49] Successfully opened dynamic library libcublas.so.10\n",
      "2021-09-25 11:24:06.477141: I tensorflow/stream_executor/platform/default/dso_loader.cc:49] Successfully opened dynamic library libcublasLt.so.10\n",
      "2021-09-25 11:24:06.477176: I tensorflow/stream_executor/platform/default/dso_loader.cc:49] Successfully opened dynamic library libcufft.so.10\n",
      "2021-09-25 11:24:06.477211: I tensorflow/stream_executor/platform/default/dso_loader.cc:49] Successfully opened dynamic library libcurand.so.10\n",
      "2021-09-25 11:24:06.477249: I tensorflow/stream_executor/platform/default/dso_loader.cc:49] Successfully opened dynamic library libcusolver.so.10\n",
      "2021-09-25 11:24:06.477287: I tensorflow/stream_executor/platform/default/dso_loader.cc:49] Successfully opened dynamic library libcusparse.so.10\n",
      "2021-09-25 11:24:06.477352: I tensorflow/stream_executor/platform/default/dso_loader.cc:49] Successfully opened dynamic library libcudnn.so.7\n",
      "2021-09-25 11:24:06.480858: I tensorflow/core/common_runtime/gpu/gpu_device.cc:1862] Adding visible gpu devices: 0\n",
      "2021-09-25 11:24:06.481153: I tensorflow/core/common_runtime/gpu/gpu_device.cc:1261] Device interconnect StreamExecutor with strength 1 edge matrix:\n",
      "2021-09-25 11:24:06.481179: I tensorflow/core/common_runtime/gpu/gpu_device.cc:1267]      0 \n",
      "2021-09-25 11:24:06.481199: I tensorflow/core/common_runtime/gpu/gpu_device.cc:1280] 0:   N \n",
      "2021-09-25 11:24:06.489849: I tensorflow/core/common_runtime/gpu/gpu_device.cc:1406] Created TensorFlow device (/job:localhost/replica:0/task:0/device:GPU:0 with 7399 MB memory) -> physical GPU (device: 0, name: TITAN V, pci bus id: 0000:04:00.0, compute capability: 7.0)\n",
      "2021-09-25 11:24:06.490313: I tensorflow/compiler/jit/xla_gpu_device.cc:99] Not creating XLA devices, tf_xla_enable_xla_devices not set\n",
      "2021-09-25 11:24:06.570243: I tensorflow/compiler/mlir/mlir_graph_optimization_pass.cc:116] None of the MLIR optimization passes are enabled (registered 2)\n",
      "2021-09-25 11:24:06.591780: I tensorflow/core/platform/profile_utils/cpu_utils.cc:112] CPU Frequency: 2593850000 Hz\n"
     ]
    },
    {
     "data": {
      "application/vnd.jupyter.widget-view+json": {
       "model_id": "7635992b054f42609e06fe482cc7df9b",
       "version_major": 2,
       "version_minor": 0
      },
      "text/plain": [
       "  0%|          | 0/100 [00:00<?, ?it/s]"
      ]
     },
     "metadata": {},
     "output_type": "display_data"
    },
    {
     "data": {
      "application/vnd.jupyter.widget-view+json": {
       "model_id": "4f4a3260fd2643e490ba114d5f02f647",
       "version_major": 2,
       "version_minor": 0
      },
      "text/plain": [
       "  0%|          | 0/100 [00:00<?, ?it/s]"
      ]
     },
     "metadata": {},
     "output_type": "display_data"
    },
    {
     "data": {
      "application/vnd.jupyter.widget-view+json": {
       "model_id": "6d3114326d894192a2d7b040d5361897",
       "version_major": 2,
       "version_minor": 0
      },
      "text/plain": [
       "  0%|          | 0/100 [00:00<?, ?it/s]"
      ]
     },
     "metadata": {},
     "output_type": "display_data"
    },
    {
     "data": {
      "application/vnd.jupyter.widget-view+json": {
       "model_id": "77aef814b34b48b289ae8b2193ee9f02",
       "version_major": 2,
       "version_minor": 0
      },
      "text/plain": [
       "  0%|          | 0/100 [00:00<?, ?it/s]"
      ]
     },
     "metadata": {},
     "output_type": "display_data"
    },
    {
     "data": {
      "application/vnd.jupyter.widget-view+json": {
       "model_id": "3643898e81744f89bce619d71f9239fd",
       "version_major": 2,
       "version_minor": 0
      },
      "text/plain": [
       "  0%|          | 0/100 [00:00<?, ?it/s]"
      ]
     },
     "metadata": {},
     "output_type": "display_data"
    }
   ],
   "source": [
    "evd_tensors = get_bardensr_tensor(cpu(xsimn), code_ref, n_iter=100, l1_pen=.01, bg=100., psf_r=0)"
   ]
  },
  {
   "cell_type": "code",
   "execution_count": null,
   "id": "impressed-press",
   "metadata": {},
   "outputs": [
    {
     "name": "stderr",
     "output_type": "stream",
     "text": [
      "2021-09-25 11:24:10.373225: I tensorflow/stream_executor/platform/default/dso_loader.cc:49] Successfully opened dynamic library libcudnn.so.7\n"
     ]
    }
   ],
   "source": [
    "bard_df = get_bardensr_df(evd_tensors, th=.25, ps=1.05)\n",
    "# bard_df = exclude_borders(bard_df, border_size_zyx=[0,500,500], img_size=[crop_sz*100,crop_sz*100,crop_sz*100])"
   ]
  },
  {
   "cell_type": "code",
   "execution_count": null,
   "id": "iraqi-potato",
   "metadata": {},
   "outputs": [
    {
     "data": {
      "text/plain": [
       "8159"
      ]
     },
     "execution_count": null,
     "metadata": {},
     "output_type": "execute_result"
    }
   ],
   "source": [
    "len(bard_df)"
   ]
  },
  {
   "cell_type": "code",
   "execution_count": null,
   "id": "indirect-large",
   "metadata": {},
   "outputs": [
    {
     "name": "stdout",
     "output_type": "stream",
     "text": [
      "Recall: 0.858\n",
      "Precision: 0.850\n",
      "Jaccard: 74.517\n",
      "RMSE_vol: 143.815\n",
      "Eff_3d: 23.711\n",
      "FN: 1149.0 FP: 1223.0\n",
      "Num. matches: 6936.000\n",
      "Shift: -1.75,2.97,0.00\n",
      "------- 0.5641580161476355\n",
      "Recall: 0.623\n",
      "Precision: 0.618\n",
      "Jaccard: 44.984\n",
      "RMSE_vol: 81.173\n",
      "Eff_3d: 31.633\n",
      "FN: 3045.0 FP: 3119.0\n",
      "Num. matches: 5040.000\n",
      "Shift: 0.37,1.18,0.00\n"
     ]
    }
   ],
   "source": [
    "perf, matches, _  = matching(gt_df, bard_df, match_genes=False)\n",
    "print(f'-------', sum(matches['code_inds_pred'] == matches['code_inds_tar'])/len(matches))\n",
    "perf, matches, _  = matching(gt_df, bard_df, match_genes=True)"
   ]
  },
  {
   "cell_type": "code",
   "execution_count": null,
   "id": "secondary-executive",
   "metadata": {},
   "outputs": [],
   "source": [
    "# evd_tensors = get_bardensr_tensor(xsimn, code_ref, n_iter=int(300), l1_pen=0.01)\n",
    "\n",
    "def objective(trial):\n",
    "    \n",
    "#     n_iter = 300\n",
    "#     l1_pen = trial.suggest_uniform('l1_pen', 0., 0.1)\n",
    "    th     = trial.suggest_uniform('th', 0.2, 0.6)\n",
    "    ps     = trial.suggest_uniform('ps', 0.1, 1.5)\n",
    "    \n",
    "#     evd_tensors = get_bardensr_tensor(xsimn, code_ref, n_iter=int(n_iter), l1_pen=l1_pen)\n",
    "#     print(evd_tensors[0].mean())\n",
    "    bard_df = get_bardensr_df(evd_tensors, th, ps)\n",
    "    bard_df = exclude_borders(bard_df, border_size_zyx=[0,500,500], img_size=[crop_sz*100,crop_sz*100,crop_sz*100])\n",
    "    \n",
    "    perf, matches, _  = matching(gt_df, bard_df, match_genes=True, print_res=False) \n",
    "    \n",
    "    return -perf['jaccard']\n",
    "\n",
    "study = optuna.create_study()\n",
    "study.optimize(objective, n_trials=200)\n",
    "\n",
    "print(study.best_params)\n",
    "print('Jaccard ', -study.best_value)"
   ]
  },
  {
   "cell_type": "code",
   "execution_count": null,
   "id": "portuguese-australia",
   "metadata": {},
   "outputs": [],
   "source": [
    "evd_tensors = get_bardensr_tensor(cpu(xsimn), code_ref, n_iter=100, l1_pen=.05, bg=100., psf_r=0)"
   ]
  },
  {
   "cell_type": "code",
   "execution_count": null,
   "id": "operating-actress",
   "metadata": {},
   "outputs": [],
   "source": [
    "bard_df = get_bardensr_df(evd_tensors, th=study.best_params['th'], ps=study.best_params['ps'])\n",
    "# bard_df = get_bardensr_df(evd_tensors, th=0.5, ps=1.05)\n",
    "bard_df = exclude_borders(bard_df, border_size_zyx=[0,500,500], img_size=[crop_sz*100,crop_sz*100,crop_sz*100])\n",
    "perf, matches, _  = matching(gt_df, bard_df, match_genes=False)\n",
    "print(f'-------', sum(matches['code_inds_pred'] == matches['code_inds_tar'])/len(matches))\n",
    "perf, matches, _  = matching(gt_df, bard_df, match_genes=True)"
   ]
  },
  {
   "cell_type": "code",
   "execution_count": null,
   "id": "corresponding-lewis",
   "metadata": {},
   "outputs": [
    {
     "name": "stdout",
     "output_type": "stream",
     "text": [
      "Converted 00_models.ipynb.\n",
      "Converted 01_psf.ipynb.\n",
      "Converted 02_microscope.ipynb.\n",
      "Converted 03_noise.ipynb.\n",
      "Converted 04_pointsource.ipynb.\n",
      "Converted 05_gmm_loss.ipynb.\n",
      "Converted 06_plotting.ipynb.\n",
      "Converted 07_file_io.ipynb.\n",
      "Converted 08_dataset.ipynb.\n",
      "Converted 09_output_trafo.ipynb.\n",
      "Converted 10_evaluation.ipynb.\n",
      "Converted 11_emitter_io.ipynb.\n",
      "Converted 12_utils.ipynb.\n",
      "Converted 13_train.ipynb.\n",
      "Converted 15_fit_psf.ipynb.\n",
      "Converted 16_visualization.ipynb.\n",
      "Converted 17_eval_routines.ipynb.\n",
      "Converted 18_predict_funcs.ipynb.\n",
      "Converted 19_MERFISH_routines.ipynb.\n",
      "Converted 20_MERFISH_visualization.ipynb.\n",
      "Converted 22_MERFISH_codenet.ipynb.\n",
      "Converted 23_MERFISH_comparison.ipynb.\n",
      "Converted index.ipynb.\n"
     ]
    }
   ],
   "source": [
    "!nbdev_build_lib"
   ]
  },
  {
   "cell_type": "code",
   "execution_count": null,
   "id": "corporate-governor",
   "metadata": {},
   "outputs": [],
   "source": []
  }
 ],
 "metadata": {
  "kernelspec": {
   "display_name": "Python [conda env:decode_fish_dev2]",
   "language": "python",
   "name": "conda-env-decode_fish_dev2-py"
  }
 },
 "nbformat": 4,
 "nbformat_minor": 5
}
