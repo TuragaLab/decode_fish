{
 "cells": [
  {
   "cell_type": "code",
   "execution_count": null,
   "metadata": {},
   "outputs": [],
   "source": [
    "# default_exp engine.noise"
   ]
  },
  {
   "cell_type": "code",
   "execution_count": null,
   "metadata": {},
   "outputs": [],
   "source": [
    "%load_ext autoreload\n",
    "%autoreload 2\n",
    "%aimport -decode_fish.engine.place_psfs"
   ]
  },
  {
   "cell_type": "markdown",
   "metadata": {},
   "source": [
    "# Noise model\n",
    "\n",
    "> Definition of the classes used to model the camera noise"
   ]
  },
  {
   "cell_type": "code",
   "execution_count": null,
   "metadata": {},
   "outputs": [],
   "source": [
    "#export\n",
    "from decode_fish.imports import *\n",
    "from torch import nn\n",
    "from torch import distributions as D\n",
    "from decode_fish.funcs.utils import *\n",
    "import scipy.stats as stats  "
   ]
  },
  {
   "cell_type": "code",
   "execution_count": null,
   "metadata": {},
   "outputs": [],
   "source": [
    "#export\n",
    "class GammaNoise(nn.Module):\n",
    "    \"\"\"\n",
    "    Generates GammaNoise noise distribution which can be used for sampling and\n",
    "    calculating log probabilites.\n",
    "\n",
    "    Theta can be learned (but not the baseline)\n",
    "\n",
    "    Args:\n",
    "        theta (float): 1/theta gives the rate for torch.distributions.gamma\n",
    "        baseline (float): baseline (currently not used)\n",
    "\n",
    "    \"\"\"\n",
    "    def __init__(self, theta = 3., baseline = 0., n_channels = 0):\n",
    "\n",
    "        super().__init__()\n",
    "\n",
    "        if n_channels > 1:\n",
    "            self.theta_scale = torch.tensor(theta)\n",
    "            self.theta_par = torch.nn.Parameter(torch.ones(n_channels))\n",
    "        else:\n",
    "            self.theta_scale = theta\n",
    "            self.theta_par = torch.nn.Parameter(torch.tensor(1.))\n",
    "\n",
    "        self.baseline = baseline\n",
    "        self.n_channels = n_channels\n",
    "\n",
    "    def forward(self, x_sim, background, ch_inds=None, randomize_range=None):\n",
    "        \"\"\" Calculates the concentration (mean / theta) of a Gamma distribution given\n",
    "        the signal x_sim and background tensors.\n",
    "        Also applies a shift and returns resulting the Gamma distribution\n",
    "        \"\"\"\n",
    "\n",
    "        theta = (self.theta_scale.to(self.theta_par.device) * self.theta_par)\n",
    "        \n",
    "        if randomize_range is not None:\n",
    "            theta = theta * torch.zeros_like(theta).uniform_(*randomize_range)\n",
    "\n",
    "        if ch_inds is None:  \n",
    "            theta = theta[None,:,None,None,None]\n",
    "        else:\n",
    "            theta = theta[ch_inds]\n",
    "            theta = theta[:,None,None,None,None]\n",
    "\n",
    "        x_sim_background = x_sim + background\n",
    "        x_sim_background.clamp_(1.0 + self.baseline)\n",
    "\n",
    "        conc = (x_sim_background - self.baseline) / theta\n",
    "        xsim_dist = D.Gamma(concentration=conc, rate=1 / theta)\n",
    "\n",
    "        loc_trafo = [D.AffineTransform(loc=self.baseline, scale=1)]\n",
    "        xsim_dist = D.TransformedDistribution(xsim_dist, loc_trafo)\n",
    "        \n",
    "        return xsim_dist\n"
   ]
  },
  {
   "cell_type": "code",
   "execution_count": null,
   "metadata": {},
   "outputs": [],
   "source": [
    "from decode_fish.engine.psf import LinearInterpolatedPSF\n",
    "from decode_fish.engine.point_process import PointProcessUniform\n",
    "from decode_fish.engine.microscope import Microscope\n",
    "from decode_fish.funcs.plotting import plot_3d_projections\n",
    "from decode_fish.funcs.file_io import get_gaussian_psf\n",
    "\n",
    "psf = LinearInterpolatedPSF(gaussian_sphere([11,21,21], [2,1,1]))\n",
    "noise = GammaNoise(theta=15., baseline=0, n_channels=12)\n",
    "micro = Microscope(psf=psf, noise=noise, scale=1000).cuda()\n",
    "\n",
    "point_process = PointProcessUniform(int_conc=5., n_channels=12)\n",
    "locs_3d, x_os_3d, y_os_3d, z_os_3d, ints_3d, output_shape, codes = point_process.sample(torch.ones([1,16,48,48]).cuda()*.01, from_code_book=False)\n",
    "ch_inps = micro.get_single_ch_inputs(locs_3d, x_os_3d, y_os_3d, z_os_3d, ints_3d, output_shape)\n",
    "\n",
    "xsim = micro(*ch_inps)\n",
    "\n",
    "background = torch.ones_like(xsim) * 500\n",
    "xsim_noise = micro.noise(xsim, background).sample()"
   ]
  },
  {
   "cell_type": "code",
   "execution_count": null,
   "metadata": {},
   "outputs": [
    {
     "data": {
      "image/png": "[encoded data removed]",
      "text/plain": [
       "<Figure size 309.6x288 with 6 Axes>"
      ]
     },
     "metadata": {
      "needs_background": "light"
     },
     "output_type": "display_data"
    }
   ],
   "source": [
    "from decode_fish.funcs.plotting import plot_3d_projections\n",
    "_ = plot_3d_projections(xsim_noise[0,2], size=3)"
   ]
  },
  {
   "cell_type": "code",
   "execution_count": null,
   "metadata": {},
   "outputs": [
    {
     "name": "stdout",
     "output_type": "stream",
     "text": [
      "Converted 00_models.ipynb.\n",
      "Converted 01_psf.ipynb.\n",
      "Converted 02_microscope.ipynb.\n",
      "Converted 02b_place_psfs.ipynb.\n",
      "Converted 03_noise.ipynb.\n",
      "Converted 04_pointsource.ipynb.\n",
      "Converted 05_gmm_loss.ipynb.\n",
      "Converted 06_plotting.ipynb.\n",
      "Converted 07_file_io.ipynb.\n",
      "Converted 08_dataset.ipynb.\n",
      "Converted 09_output_trafo.ipynb.\n",
      "Converted 10_evaluation.ipynb.\n",
      "Converted 11_emitter_io.ipynb.\n",
      "Converted 12_utils.ipynb.\n",
      "Converted 13_train.ipynb.\n",
      "Converted 15_fit_psf.ipynb.\n",
      "Converted 16_visualization.ipynb.\n",
      "Converted 17_eval_routines.ipynb.\n",
      "Converted 18_predict_funcs.ipynb.\n",
      "Converted 19_MERFISH_routines.ipynb.\n",
      "Converted 22_MERFISH_codenet.ipynb.\n",
      "Converted 23_MERFISH_comparison.ipynb.\n",
      "Converted 24_exp_specific.ipynb.\n",
      "Converted 25_ensembling.ipynb.\n",
      "Converted 26_gen_train.ipynb.\n",
      "Converted 27_testtime_rescale.ipynb.\n",
      "Converted index.ipynb.\n"
     ]
    }
   ],
   "source": [
    "!nbdev_build_lib"
   ]
  },
  {
   "cell_type": "code",
   "execution_count": null,
   "metadata": {},
   "outputs": [],
   "source": []
  }
 ],
 "metadata": {
  "kernelspec": {
   "display_name": "decode_fish_dev2",
   "language": "python",
   "name": "decode_fish_dev2"
  }
 },
 "nbformat": 4,
 "nbformat_minor": 4
}
