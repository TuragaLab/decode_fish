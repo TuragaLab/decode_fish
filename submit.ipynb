{
 "cells": [
  {
   "cell_type": "code",
   "execution_count": 2,
   "metadata": {
    "ExecuteTime": {
     "end_time": "2021-07-14T13:27:51.807812Z",
     "start_time": "2021-07-14T13:27:49.073107Z"
    }
   },
   "outputs": [],
   "source": [
    "from pathlib import Path\n",
    "from decode_fish.funcs.utils import *\n",
    "import glob\n",
    "\n",
    "base_string = f'bsub -gpu \"num=1\" -q gpu_any -o logs/ofish.log -e logs/efish.log /groups/turaga/home/speisera/anaconda3/envs/decode2_dev/bin/python /groups/turaga/home/speisera/Mackebox/Artur/WorkDB/deepstorm/decode_fish/decode_fish/train.py'   \n",
    "\n",
    "def make_sweep_str(pfile, pars, group):\n",
    "    \n",
    "    base_str = base_string + f' +experiment={pfile}'\n",
    "    name = ''\n",
    "    \n",
    "    for k in pars:\n",
    "        base_str += ' ' + k + f'={pars[k]}'\n",
    "        name += k.split('.')[-1]+f':{pars[k]}x'\n",
    "        name = name.replace('[', '')\n",
    "        name = name.replace(']', '')\n",
    "        name = name.replace(',', 'x')\n",
    "    name = name[:-1]\n",
    "    \n",
    "    return base_str + f' run_name={name} output.group={group}' + '\\n'\n",
    "    \n",
    "\n",
    "def make_named_str(pfile, name, group):\n",
    "    \n",
    "    base_str = base_string + f' +experiment={pfile}'\n",
    "    \n",
    "    return base_str + f' run_name={name} output.group={group}' + '\\n'"
   ]
  },
  {
   "cell_type": "code",
   "execution_count": 42,
   "metadata": {
    "ExecuteTime": {
     "end_time": "2021-06-15T14:07:23.134791Z",
     "start_time": "2021-06-15T14:07:23.125309Z"
    }
   },
   "outputs": [],
   "source": [
    "group = 'sweep_m3'\n",
    "pfile = 'Dlg1_m3'\n",
    "\n",
    "variable_col = param_iter()\n",
    "variable_col.add('noise.theta', 29.41*1.5)\n",
    "variable_col.add('bg_estimation.fractal.scale', 2000, 3000)\n",
    "variable_col.add('bg_estimation.fractal.persistence', 0.5,0.75)\n",
    "variable_col.add('prob_generator.high', 0.0003, 0.00015)\n",
    "par_prod = variable_col.param_product()"
   ]
  },
  {
   "cell_type": "code",
   "execution_count": 61,
   "metadata": {
    "ExecuteTime": {
     "end_time": "2021-07-12T20:35:05.758575Z",
     "start_time": "2021-07-12T20:35:05.749970Z"
    }
   },
   "outputs": [],
   "source": [
    "group = 'sweep_bg_1a'\n",
    "pfile = 'MERFISH_starfish_ch0_f5'\n",
    "\n",
    "variable_col = param_iter()\n",
    "variable_col.add('bg_estimation.fractal.scale', 0)\n",
    "variable_col.add('bg_estimation.smoothing.smoothing_filter_size', 7,9)\n",
    "par_prod = variable_col.param_product()"
   ]
  },
  {
   "cell_type": "code",
   "execution_count": 29,
   "metadata": {
    "ExecuteTime": {
     "end_time": "2021-07-18T10:19:22.914188Z",
     "start_time": "2021-07-18T10:19:22.902829Z"
    }
   },
   "outputs": [],
   "source": [
    "group = 'sweep_ctx_4'\n",
    "pfile = 'MERFISH_starfish_c3'\n",
    "\n",
    "variable_col = param_iter()\n",
    "variable_col.add('microscope.psf_noise',0.2,0.25,0.3)\n",
    "par_prod = variable_col.param_product()"
   ]
  },
  {
   "cell_type": "code",
   "execution_count": 25,
   "metadata": {
    "ExecuteTime": {
     "end_time": "2021-07-16T09:51:40.526607Z",
     "start_time": "2021-07-16T09:51:40.518959Z"
    }
   },
   "outputs": [],
   "source": [
    "group = 'sweep_ctx_4'\n",
    "pfile = 'MERFISH_starfish_c2'\n",
    "\n",
    "variable_col = param_iter()\n",
    "variable_col.add('microscope.norm','none', 'max')\n",
    "par_prod = variable_col.param_product()"
   ]
  },
  {
   "cell_type": "code",
   "execution_count": 30,
   "metadata": {
    "ExecuteTime": {
     "end_time": "2021-07-18T10:19:26.160238Z",
     "start_time": "2021-07-18T10:19:26.143781Z"
    },
    "scrolled": false
   },
   "outputs": [
    {
     "name": "stdout",
     "output_type": "stream",
     "text": [
      "bsub -gpu \"num=1\" -q gpu_any -o logs/ofish.log -e logs/efish.log /groups/turaga/home/speisera/anaconda3/envs/decode2_dev/bin/python /groups/turaga/home/speisera/Mackebox/Artur/WorkDB/deepstorm/decode_fish/decode_fish/train.py +experiment=MERFISH_starfish_c3 microscope.psf_noise=0.2 run_name=psf_noise:0.2 output.group=sweep_ctx_4\n",
      "\n",
      "bsub -gpu \"num=1\" -q gpu_any -o logs/ofish.log -e logs/efish.log /groups/turaga/home/speisera/anaconda3/envs/decode2_dev/bin/python /groups/turaga/home/speisera/Mackebox/Artur/WorkDB/deepstorm/decode_fish/decode_fish/train.py +experiment=MERFISH_starfish_c3 microscope.psf_noise=0.25 run_name=psf_noise:0.25 output.group=sweep_ctx_4\n",
      "\n",
      "bsub -gpu \"num=1\" -q gpu_any -o logs/ofish.log -e logs/efish.log /groups/turaga/home/speisera/anaconda3/envs/decode2_dev/bin/python /groups/turaga/home/speisera/Mackebox/Artur/WorkDB/deepstorm/decode_fish/decode_fish/train.py +experiment=MERFISH_starfish_c3 microscope.psf_noise=0.3 run_name=psf_noise:0.3 output.group=sweep_ctx_4\n",
      "\n"
     ]
    }
   ],
   "source": [
    "# Path.mkdir(model_path/group, exist_ok=True)\n",
    "\n",
    "with open('run_slurm.sh', 'w') as f:\n",
    "    for pars in par_prod:  \n",
    "        exec_str = make_sweep_str(pfile, pars, group)\n",
    "        print(exec_str)\n",
    "        f.write(exec_str)"
   ]
  },
  {
   "cell_type": "code",
   "execution_count": 126,
   "metadata": {
    "ExecuteTime": {
     "end_time": "2021-06-28T12:49:14.662956Z",
     "start_time": "2021-06-28T12:49:14.656208Z"
    }
   },
   "outputs": [],
   "source": [
    "group = 'sep_models_ch0_3'\n",
    "pfile = 'CL_dlg1_ch0_f1'\n",
    "\n",
    "variable_col = param_iter()\n",
    "variable_col.add('data_path.image_path', \n",
    "                 '/groups/turaga/home/speisera/Mackebox/Artur/WorkDB/deepstorm/datasets/CodFish/raw_data_for_codetection/*p1*.tiff',\n",
    "                 '/groups/turaga/home/speisera/Mackebox/Artur/WorkDB/deepstorm/datasets/CodFish/raw_data_for_codetection/*p2*.tiff',\n",
    "                 '/groups/turaga/home/speisera/Mackebox/Artur/WorkDB/deepstorm/datasets/CodFish/raw_data_for_codetection/*p3*.tiff')\n",
    "\n",
    "par_prod = variable_col.param_product()"
   ]
  },
  {
   "cell_type": "code",
   "execution_count": 40,
   "metadata": {
    "ExecuteTime": {
     "end_time": "2021-06-24T15:56:12.376608Z",
     "start_time": "2021-06-24T15:56:12.368608Z"
    }
   },
   "outputs": [],
   "source": [
    "group = 'sweep_fig9'\n",
    "pfile = 'fig_sim_m9'\n",
    "\n",
    "variable_col = param_iter()\n",
    "variable_col.add('training.mic.enabled', True, False)\n",
    "variable_col.add('training.int.enabled', True, False)\n",
    "\n",
    "par_prod = variable_col.param_product()"
   ]
  },
  {
   "cell_type": "code",
   "execution_count": 93,
   "metadata": {
    "ExecuteTime": {
     "end_time": "2021-06-26T21:14:41.708086Z",
     "start_time": "2021-06-26T21:14:41.701413Z"
    }
   },
   "outputs": [],
   "source": [
    "group = 'sweep_psf2'\n",
    "pfile = 'N2_352_f1'\n",
    "\n",
    "variable_col = param_iter()\n",
    "variable_col.add('microscope.psf_noise', 0.1, 0.2)\n",
    "variable_col.add('microscope.double_random', True, False)\n",
    "variable_col.add('model.f_maps', 32, 42)\n",
    "\n",
    "par_prod = variable_col.param_product()"
   ]
  },
  {
   "cell_type": "code",
   "execution_count": 36,
   "metadata": {
    "ExecuteTime": {
     "end_time": "2021-06-24T15:25:38.792723Z",
     "start_time": "2021-06-24T15:25:38.783971Z"
    }
   },
   "outputs": [],
   "source": [
    "from decode_fish.imports import *"
   ]
  },
  {
   "cell_type": "markdown",
   "metadata": {},
   "source": [
    "psfn_3: psf_noise = 0.5\n",
    "psfn_4: psf_noise = 0.75\n",
    "psfn_5: psf_noise = 1.\n",
    "psfn_6: psf_noise = 1. double random\n",
    "psfn_7: psf_noise = 2. double random\n",
    "psfn_8: psf_noise = 3. double random"
   ]
  },
  {
   "cell_type": "code",
   "execution_count": 88,
   "metadata": {
    "ExecuteTime": {
     "end_time": "2021-06-26T16:22:55.115382Z",
     "start_time": "2021-06-26T16:22:55.059563Z"
    }
   },
   "outputs": [
    {
     "name": "stdout",
     "output_type": "stream",
     "text": [
      "bsub -gpu \"num=1\" -q gpu_any -o logs/ofish.log -e logs/efish.log /groups/turaga/home/speisera/anaconda3/envs/decode2_dev/bin/python /groups/turaga/home/speisera/Mackebox/Artur/WorkDB/deepstorm/decode_fish/decode_fish/train.py +experiment=CL_dlg1_ch1_f1  run_name=CL_dlg1_ch1_f1_psfn_5 noise.theta=75.0 microscope.psf_noise=0.1\n",
      "\n"
     ]
    }
   ],
   "source": [
    "exps = ['msp300', 'N2_352', 'rab11', 'scrib', 'sgg', 'Dlg1', 'CL_dlg1_ch0', 'CL_dlg1_ch1']\n",
    "exps = ['CL_dlg1_ch1']\n",
    "ver = 'f1'\n",
    "name = 'f1_psfn_5'\n",
    "\n",
    "with open('run_slurm.sh', 'w') as f:\n",
    "    for exp in exps:  \n",
    "        cfg = OmegaConf.load(f'config/experiment/{exp}_{ver}.yaml')\n",
    "#         exec_str = base_string + f' +experiment={exp}_{ver}  run_name={exp}_{name}' + '\\n'\n",
    "        exec_str = base_string + f' +experiment={exp}_{ver}  run_name={exp}_{name} noise.theta={cfg.noise.theta*1.5} microscope.psf_noise=0.1' + '\\n'\n",
    "        print(exec_str)\n",
    "        f.write(exec_str)"
   ]
  },
  {
   "cell_type": "code",
   "execution_count": null,
   "metadata": {},
   "outputs": [],
   "source": [
    "# bsub -gpu \"num=1\" -q gpu_any -o logs/ofish.log -e logs/efish.log /groups/turaga/home/speisera/anaconda3/envs/decode2_dev/bin/python /groups/turaga/home/speisera/Mackebox/Artur/WorkDB/deepstorm/decode_fish/decode_fish/sim_eval.py sweep_name=fig7"
   ]
  },
  {
   "cell_type": "code",
   "execution_count": null,
   "metadata": {},
   "outputs": [],
   "source": [
    "exps = ['msp300', 'N2_352', 'rab11', 'scrib', 'sgg', 'Dlg1']\n",
    "# exps = [ 'scrib', 'Dlg1']\n",
    "ver = 'f1'\n",
    "name = 'f1_none'"
   ]
  }
 ],
 "metadata": {
  "kernelspec": {
   "display_name": "Python [conda env:decode2_dev]",
   "language": "python",
   "name": "conda-env-decode2_dev-py"
  },
  "language_info": {
   "codemirror_mode": {
    "name": "ipython",
    "version": 3
   },
   "file_extension": ".py",
   "mimetype": "text/x-python",
   "name": "python",
   "nbconvert_exporter": "python",
   "pygments_lexer": "ipython3",
   "version": "3.7.7"
  }
 },
 "nbformat": 4,
 "nbformat_minor": 4
}
