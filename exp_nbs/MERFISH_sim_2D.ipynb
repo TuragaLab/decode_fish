{
 "cells": [
  {
   "cell_type": "code",
   "execution_count": 1,
   "metadata": {
    "ExecuteTime": {
     "end_time": "2022-05-25T07:17:15.940235Z",
     "start_time": "2022-05-25T07:17:15.903110Z"
    }
   },
   "outputs": [],
   "source": [
    "%load_ext autoreload\n",
    "%autoreload 2\n",
    "%aimport -decode_fish.engine.place_psfs"
   ]
  },
  {
   "cell_type": "code",
   "execution_count": 2,
   "metadata": {
    "ExecuteTime": {
     "end_time": "2022-05-25T07:17:22.608576Z",
     "start_time": "2022-05-25T07:17:16.063603Z"
    }
   },
   "outputs": [],
   "source": [
    "import os\n",
    "os.environ[\"CUDA_VISIBLE_DEVICES\"] = '1'\n",
    "\n",
    "from decode_fish.imports import *\n",
    "from decode_fish.funcs.file_io import *\n",
    "from decode_fish.funcs.emitter_io import *\n",
    "from decode_fish.funcs.utils import *\n",
    "from decode_fish.funcs.dataset import *\n",
    "from decode_fish.funcs.plotting import *\n",
    "from decode_fish.engine.noise import estimate_noise_scale\n",
    "from decode_fish.engine.microscope import add_pos_noise\n",
    "import shutil\n",
    "from decode_fish.funcs.visualization import *\n",
    "from decode_fish.funcs.evaluation import *\n",
    "from decode_fish.funcs.predict import window_predict\n",
    "from decode_fish.funcs.evaluation import matching\n",
    "from decode_fish.funcs.merfish_eval import *\n",
    "from decode_fish.funcs.exp_specific import *\n",
    "from decode_fish.funcs.routines import *\n",
    "\n",
    "from omegaconf import open_dict\n",
    "from hydra import compose, initialize"
   ]
  },
  {
   "cell_type": "code",
   "execution_count": 3,
   "metadata": {
    "ExecuteTime": {
     "end_time": "2022-05-25T07:17:22.656403Z",
     "start_time": "2022-05-25T07:17:22.611575Z"
    }
   },
   "outputs": [],
   "source": [
    "# import os\n",
    "# os.environ[\"CUDA_VISIBLE_DEVICES\"] = '1'"
   ]
  },
  {
   "cell_type": "code",
   "execution_count": 8,
   "metadata": {
    "ExecuteTime": {
     "end_time": "2022-05-25T07:18:16.876336Z",
     "start_time": "2022-05-25T07:18:16.325195Z"
    }
   },
   "outputs": [
    {
     "data": {
      "text/plain": [
       "hydra.initialize()"
      ]
     },
     "execution_count": 8,
     "metadata": {},
     "output_type": "execute_result"
    }
   ],
   "source": [
    "initialize(config_path=\"../config\")"
   ]
  },
  {
   "cell_type": "code",
   "execution_count": 168,
   "metadata": {
    "ExecuteTime": {
     "end_time": "2022-05-24T13:17:43.136114Z",
     "start_time": "2022-05-24T13:17:42.191721Z"
    }
   },
   "outputs": [],
   "source": [
    "cfg = compose(config_name='train.yaml')\n",
    "cfg = OmegaConf.create(cfg)"
   ]
  },
  {
   "cell_type": "markdown",
   "metadata": {},
   "source": [
    "## Simple simulations for comparison with ISTDECO (no z, constant BG)"
   ]
  },
  {
   "cell_type": "code",
   "execution_count": 134,
   "metadata": {
    "ExecuteTime": {
     "end_time": "2022-05-23T15:17:33.577779Z",
     "start_time": "2022-05-23T15:17:24.129787Z"
    }
   },
   "outputs": [],
   "source": [
    "# project and run_name set the directories where the trained models are saved, as well as the structure in wandb.ai\n",
    "cfg.output.project = 'MERFISH_sim_2D'\n",
    "cfg.run_name ='sim_2d_1'\n",
    "\n",
    "cfg.codebook._target_ = 'decode_fish.funcs.exp_specific.get_starfish_codebook'\n",
    "\n",
    "cfg.genm.exp_type.n_channels = 16\n",
    "cfg.genm.exp_type.n_genes = 140\n",
    "cfg.genm.exp_type.n_bits = 4\n",
    "cfg.genm.exp_type.sample_from_codebook = True\n",
    "cfg.genm.exp_type.pred_z = False\n",
    "\n",
    "cfg.data_path.image_sim.image_shape = [1,16,1,48,48]\n",
    "\n",
    "'''Simulation parameters'''\n",
    "cfg.genm.PSF.gauss_radii = [1.,1.5,1.5]\n",
    "\n",
    "cfg.genm.foci.n_foci_avg = 0\n",
    "    \n",
    "cfg.genm.prob_generator.low = 0.0002\n",
    "cfg.genm.prob_generator.high = 0.1\n",
    "\n",
    "cfg.genm.intensity_dist.int_conc = 4.\n",
    "cfg.genm.intensity_dist.int_rate = 1.\n",
    "cfg.genm.intensity_dist.int_loc = .5\n",
    "\n",
    "cfg.genm.microscope.scale = 100\n",
    "cfg.genm.emitter_noise.rate_fac = 0.\n",
    "\n",
    "cfg.genm.pos_noise.pos_noise_z = 0.\n",
    "cfg.genm.pos_noise.pos_noise_xy = 0.\n",
    "cfg.training.z_sig_fac = 1.\n",
    "\n",
    "\n",
    "'''Performance tracking'''\n",
    "# Set to 'disabled' if you do not have a wandb account.\n",
    "cfg.output.wandb_mode = 'online'\n",
    "cfg.output.log_interval = 500\n",
    "\n",
    "'''Network architecture'''\n",
    "cfg.network.f_maps = 256\n",
    "cfg.network.depth = 2\n",
    "cfg.network.is_2D = True\n",
    "\n",
    "cfg.network.inp_scale = 300\n",
    "cfg.network.inp_offset = 100 \n",
    "'''Training'''\n",
    "cfg.training.bs = 20\n",
    "cfg.training.net.opt.lr = 5e-4\n",
    "cfg.training.mic.norm_reg = 0.\n",
    "cfg.training.net.bl_loss_scale = 0.0\n",
    "\n",
    "cfg.training.num_iters = 30000\n",
    "\n",
    "cfg.training.int.enabled = False\n",
    "cfg.training.mic.enabled = False\n",
    "\n",
    "cfg.data_path.model_init = None"
   ]
  },
  {
   "cell_type": "markdown",
   "metadata": {},
   "source": [
    "Save cfg"
   ]
  },
  {
   "cell_type": "code",
   "execution_count": 135,
   "metadata": {
    "ExecuteTime": {
     "end_time": "2022-05-23T15:17:33.662630Z",
     "start_time": "2022-05-23T15:17:33.580181Z"
    }
   },
   "outputs": [
    {
     "data": {
      "text/plain": [
       "'sim_2d_1'"
      ]
     },
     "execution_count": 135,
     "metadata": {},
     "output_type": "execute_result"
    }
   ],
   "source": [
    "fname = f'../config/experiment/{cfg.run_name}.yaml'\n",
    "OmegaConf.save(cfg, fname)\n",
    "prepend_line(fname, '# @package _global_')\n",
    "cfg.run_name"
   ]
  },
  {
   "cell_type": "code",
   "execution_count": 110,
   "metadata": {
    "ExecuteTime": {
     "end_time": "2022-05-23T12:27:20.053735Z",
     "start_time": "2022-05-23T12:27:14.909298Z"
    }
   },
   "outputs": [
    {
     "name": "stdout",
     "output_type": "stream",
     "text": [
      "bsub -gpu \"num=1\" -q gpu_rtx -o /groups/turaga/home/speisera/logs/ofish.log -e /groups/turaga/home/speisera/logs/efish.log /groups/turaga/home/speisera/anaconda3/envs/decode_fish_dev2/bin/python /groups/turaga/home/speisera/Mackebox/Artur/WorkDB/deepstorm/decode_fish/decode_fish/train.py +experiment=sim_2d_1 run_name=norm:none output.group=sim_2d_1\n"
     ]
    }
   ],
   "source": [
    "home_dir = os.getenv(\"HOME\")\n",
    "print(f'bsub -gpu \"num=1\" -q gpu_rtx -o {home_dir}/logs/ofish.log -e {home_dir}/logs/efish.log {home_dir}/anaconda3/envs/decode_fish_dev2/bin/python {home_dir}/Mackebox/Artur/WorkDB/deepstorm/decode_fish/decode_fish/train.py +experiment={cfg.run_name} run_name=norm:none output.group={cfg.run_name}')"
   ]
  },
  {
   "cell_type": "code",
   "execution_count": 104,
   "metadata": {
    "ExecuteTime": {
     "end_time": "2022-05-23T09:24:40.073739Z",
     "start_time": "2022-05-23T09:24:36.574262Z"
    }
   },
   "outputs": [
    {
     "name": "stdout",
     "output_type": "stream",
     "text": [
      "Crop size larger than volume in at least one dimension. Crop size changed to (1, 48, 48)\n",
      "1 volumes\n"
     ]
    }
   ],
   "source": [
    "img_3d, decode_dl = get_dataloader(cfg)\n",
    "psf, noise, micro = load_psf_noise_micro(cfg)"
   ]
  },
  {
   "cell_type": "markdown",
   "metadata": {
    "ExecuteTime": {
     "end_time": "2021-05-21T08:30:15.750690Z",
     "start_time": "2021-05-21T08:30:15.265729Z"
    }
   },
   "source": [
    "## Simulations for internal testing of gen. model learning"
   ]
  },
  {
   "cell_type": "code",
   "execution_count": 136,
   "metadata": {
    "ExecuteTime": {
     "end_time": "2022-05-24T09:10:25.291623Z",
     "start_time": "2022-05-24T09:10:13.093303Z"
    },
    "scrolled": false
   },
   "outputs": [],
   "source": [
    "## Simple simulations for comparison with ISTDECO (no z, constant BG)# get_simulation_statistics(decode_dl, micro, **cfg.genm.intensity_dist, int_threshold=0.1, samples=5, channels=cfg.genm.exp_type.n_channels, n_bits=cfg.genm.exp_type.n_bits, psf_noise=False)"
   ]
  },
  {
   "cell_type": "code",
   "execution_count": 86,
   "metadata": {
    "ExecuteTime": {
     "end_time": "2022-05-25T14:23:40.247252Z",
     "start_time": "2022-05-25T14:23:40.052074Z"
    }
   },
   "outputs": [],
   "source": [
    "cfg = compose(config_name='train.yaml', overrides= [\"+exp_type=merfish_MOp\"])\n",
    "del(cfg.data_path.image_proc.override)"
   ]
  },
  {
   "cell_type": "code",
   "execution_count": 87,
   "metadata": {
    "ExecuteTime": {
     "end_time": "2022-05-25T14:23:40.283242Z",
     "start_time": "2022-05-25T14:23:40.249366Z"
    }
   },
   "outputs": [],
   "source": [
    "thetas = 2.\n",
    "channel_facs = [1.] * 22"
   ]
  },
  {
   "cell_type": "code",
   "execution_count": 123,
   "metadata": {
    "ExecuteTime": {
     "end_time": "2022-05-29T07:10:31.111703Z",
     "start_time": "2022-05-29T07:10:31.034732Z"
    }
   },
   "outputs": [],
   "source": [
    "cfg.output.project = 'MERFISH_sim_int'\n",
    "\n",
    "cfg.data_path.image_path = '/groups/turaga/home/speisera/Mackebox/Artur/WorkDB/deepstorm/decode_fish/data/merfish_sims/sim_int_2/images.tiff'\n",
    "\n",
    "cfg.genm.foci.n_foci_avg = 0\n",
    "\n",
    "cfg.genm.prob_generator.low = 0.01\n",
    "cfg.genm.prob_generator.high = 0.06\n",
    "\n",
    "cfg.output.wandb_mode = 'online'\n",
    "\n",
    "cfg.network.f_maps = 384\n",
    "cfg.network.depth = 2\n",
    "cfg.network.n_out_l = 1\n",
    "cfg.training.bs = 8\n",
    "\n",
    "cfg.genm.noise.theta = thetas\n",
    "cfg.genm.microscope.ch_facs = channel_facs\n",
    "cfg.genm.microscope.col_shifts_enabled = False\n",
    "\n",
    "cfg.sim.roi_mask.percentile = 20\n",
    "cfg.sim.random_crop.crop_sz = 56\n",
    "\n",
    "cfg.sim.bg_estimation.smoothing.smoothing_filter_size = 9\n",
    "\n",
    "# cfg.sim.bg_estimation.type = 'smoothing'\n",
    "cfg.sim.bg_estimation.uniform.img_mean = True\n",
    "cfg.sim.bg_estimation.type = 'uniform'\n",
    "\n",
    "cfg.genm.intensity_dist.int_conc = 4\n",
    "cfg.genm.intensity_dist.int_rate = 1.\n",
    "cfg.genm.intensity_dist.int_loc = .1\n",
    "\n",
    "cfg.training.num_iters = 35000\n",
    "cfg.training.int.enabled = False\n",
    "cfg.training.mic.enabled = False\n",
    "\n",
    "cfg.genm.microscope.scale = 500\n",
    "cfg.genm.phasing = 0.0\n",
    "cfg.sim.bg_estimation.fractal.scale = 0\n",
    "\n",
    "cfg.run_name ='sim_int_2'\n",
    "cfg.data_path.psf_path = '/groups/turaga/home/speisera/Mackebox/Artur/WorkDB/deepstorm/decode_fish/figures/MF_psf2n.tif'\n",
    "# cfg.data_path.psf_path = None\n",
    "# cfg.genm.PSF.gauss_radii = [1.,1.,1.1]\n",
    "# cfg.genm.PSF.psf_extent_zyx = [13,21,21]\n",
    "cfg.genm.microscope.norm = 'none'\n",
    "\n",
    "cfg.training.mic.mean_diff = True\n",
    "\n",
    "cfg.training.mic.par_grads.channel_facs = True\n",
    "cfg.training.mic.par_grads.channel_shifts = True\n",
    "cfg.training.mic.par_grads.theta_par = False\n",
    "cfg.training.mic.par_grads.psf_vol = True\n",
    "cfg.training.mic.par_grads.color_shifts = False\n",
    "cfg.training.mic.par_grads.z_facs = True\n",
    "\n",
    "cfg.training.net.enabled = True\n",
    "\n",
    "cfg.training.start_mic = 10000\n",
    "cfg.training.start_int = 100000\n",
    "\n",
    "cfg.output.log_interval = 600\n",
    "\n",
    "cfg.genm.emitter_noise.rate_fac = 3.\n",
    "cfg.genm.emitter_noise.int_fac = 1.\n",
    "\n",
    "cfg.training.net.opt.lr = 3e-4\n",
    "cfg.training.z_sig_fac = 1.\n",
    "\n",
    "cfg.evaluation.code_stats.enabled = False\n",
    "cfg.training.schedule = None\n",
    "cfg.training.schedule = [10000, 3000, 5000, 2000, 5000, 2000, 5000, 2000, 10000]\n",
    "cfg.network.chrom_map = False\n",
    "\n",
    "cfg.training.mic.opt.lr = 0.00025\n",
    "cfg.training.mic.sched.step_size = 2000\n",
    "\n",
    "cfg.data_path.model_init  = None\n",
    "cfg.data_path.micro_init  = None\n",
    "\n",
    "# cfg.data_path.micro_init  = '/groups/turaga/home/speisera/Mackebox/Artur/WorkDB/deepstorm/decode_fish/data/merfish_sims/sim_int_2/'\n",
    "# cfg.data_path.model_init  = '/groups/turaga/home/speisera/Mackebox/Artur/WorkDB/deepstorm//models/fishcod/MERFISH_sim_int/sim_int_2/sl_9900/'\n",
    "cfg.genm.exp_type.const_theta_sim = True\n",
    "\n",
    "cfg.training.net.bl_loss_scale = 0.003\n",
    "cfg.network.is_2D = True\n",
    "cfg.network.pred_z = True\n",
    "\n",
    "cfg.genm.noise.sim_scale = 1."
   ]
  },
  {
   "cell_type": "code",
   "execution_count": 124,
   "metadata": {
    "ExecuteTime": {
     "end_time": "2022-05-29T07:10:31.217276Z",
     "start_time": "2022-05-29T07:10:31.140004Z"
    }
   },
   "outputs": [
    {
     "data": {
      "text/plain": [
       "'sim_int_2'"
      ]
     },
     "execution_count": 124,
     "metadata": {},
     "output_type": "execute_result"
    }
   ],
   "source": [
    "fname = f'../config/experiment/{cfg.run_name}.yaml'\n",
    "OmegaConf.save(cfg, fname)\n",
    "prepend_line(fname, '# @package _global_')\n",
    "cfg.run_name"
   ]
  },
  {
   "cell_type": "code",
   "execution_count": 125,
   "metadata": {
    "ExecuteTime": {
     "end_time": "2022-05-29T07:10:31.366267Z",
     "start_time": "2022-05-29T07:10:31.314266Z"
    }
   },
   "outputs": [
    {
     "name": "stdout",
     "output_type": "stream",
     "text": [
      "bsub -gpu \"num=1\" -q gpu_rtx -o /groups/turaga/home/speisera/logs/ofish.log -e /groups/turaga/home/speisera/logs/efish.log /groups/turaga/home/speisera/anaconda3/envs/decode_fish_dev2/bin/python /groups/turaga/home/speisera/Mackebox/Artur/WorkDB/deepstorm/decode_fish/decode_fish/train.py +experiment=sim_int_2 run_name=ae_train_unibg output.group=sim_int_2\n"
     ]
    }
   ],
   "source": [
    "home_dir = os.getenv(\"HOME\")\n",
    "print(f'bsub -gpu \"num=1\" -q gpu_rtx -o {home_dir}/logs/ofish.log -e {home_dir}/logs/efish.log {home_dir}/anaconda3/envs/decode_fish_dev2/bin/python {home_dir}/Mackebox/Artur/WorkDB/deepstorm/decode_fish/decode_fish/train.py +experiment={cfg.run_name} run_name=ae_train_unibg output.group={cfg.run_name}')"
   ]
  },
  {
   "cell_type": "code",
   "execution_count": 30,
   "metadata": {
    "ExecuteTime": {
     "end_time": "2022-05-25T07:28:35.376171Z",
     "start_time": "2022-05-25T07:28:34.242639Z"
    }
   },
   "outputs": [
    {
     "name": "stdout",
     "output_type": "stream",
     "text": [
      "Crop size larger than volume in at least one dimension. Crop size changed to (1, 56, 56)\n",
      "10 volumes\n"
     ]
    }
   ],
   "source": [
    "img_3d, decode_dl = get_dataloader(cfg)\n",
    "psf, noise, micro = load_psf_noise_micro(cfg)"
   ]
  },
  {
   "cell_type": "code",
   "execution_count": 33,
   "metadata": {
    "ExecuteTime": {
     "end_time": "2022-05-25T07:46:44.737909Z",
     "start_time": "2022-05-25T07:46:43.916314Z"
    },
    "scrolled": false
   },
   "outputs": [],
   "source": [
    "# get_simulation_statistics(decode_dl, micro, **cfg.genm.intensity_dist, int_threshold=0.1, samples=10, channels=cfg.genm.exp_type.n_channels, n_bits=cfg.genm.exp_type.n_bits, psf_noise=False)"
   ]
  },
  {
   "cell_type": "code",
   "execution_count": null,
   "metadata": {},
   "outputs": [],
   "source": []
  }
 ],
 "metadata": {
  "kernelspec": {
   "display_name": "decode_fish_dev2",
   "language": "python",
   "name": "decode_fish_dev2"
  },
  "language_info": {
   "codemirror_mode": {
    "name": "ipython",
    "version": 3
   },
   "file_extension": ".py",
   "mimetype": "text/x-python",
   "name": "python",
   "nbconvert_exporter": "python",
   "pygments_lexer": "ipython3",
   "version": "3.8.13"
  }
 },
 "nbformat": 4,
 "nbformat_minor": 4
}
