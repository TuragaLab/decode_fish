{
 "cells": [
  {
   "cell_type": "code",
   "execution_count": null,
   "metadata": {},
   "outputs": [],
   "source": [
    "# default_exp engine.noise"
   ]
  },
  {
   "cell_type": "code",
   "execution_count": null,
   "metadata": {},
   "outputs": [
    {
     "name": "stdout",
     "output_type": "stream",
     "text": [
      "The autoreload extension is already loaded. To reload it, use:\n",
      "  %reload_ext autoreload\n"
     ]
    }
   ],
   "source": [
    "%load_ext autoreload\n",
    "%autoreload 2"
   ]
  },
  {
   "cell_type": "markdown",
   "metadata": {},
   "source": [
    "# Noise model\n",
    "\n",
    "> Definition of the classes used to model the camera noise"
   ]
  },
  {
   "cell_type": "code",
   "execution_count": null,
   "metadata": {},
   "outputs": [],
   "source": [
    "#export\n",
    "from decode_fish.imports import *\n",
    "from torch import nn\n",
    "from torch import distributions as D\n",
    "from decode_fish.funcs.utils import *\n",
    "from decode_fish.funcs.plotting import *\n",
    "import scipy.stats as stats  "
   ]
  },
  {
   "cell_type": "code",
   "execution_count": null,
   "metadata": {},
   "outputs": [],
   "source": [
    "#export\n",
    "class sCMOS(nn.Module):\n",
    "    \"\"\"\n",
    "    Generates sCMOS noise distribution which can be used for sampling and\n",
    "    calculating log probabilites.\n",
    "    \n",
    "    Theta can be learned (but no the baseline)\n",
    "\n",
    "    Args:\n",
    "        theta (float): 1/theta gives the rate for torch.distributions.gamma\n",
    "        baseline (float): baseline\n",
    "\n",
    "    \"\"\"\n",
    "    def __init__(self,\n",
    "                 theta: float = 3.,\n",
    "                 baseline: float = 0.,\n",
    "                 channels: int = 0):\n",
    "        super().__init__()\n",
    "        \n",
    "        if channels:\n",
    "            self.theta_scale = theta * channels\n",
    "            self.theta_par = torch.nn.Parameter(torch.ones(channels)/channels)\n",
    "            self.channel_shifts = torch.nn.Parameter(torch.zeros([channels, 3]))\n",
    "        else:\n",
    "            self.theta_scale = theta \n",
    "            self.theta_par = torch.nn.Parameter(torch.tensor(1.))\n",
    "            \n",
    "        self.theta_const = (self.theta_scale * self.theta_par).detach().cuda()\n",
    "            \n",
    "        self.register_buffer('baseline', torch.tensor(baseline))\n",
    "        self.channels = channels\n",
    "\n",
    "    def forward(self, x_sim, background, rec_ch=None):\n",
    "        \"\"\" Calculates the concentration (mean / theta) of a Gamma distribution given\n",
    "        the signal x_sim and background tensors.\n",
    "        Also applies a shift and returns resulting the Gamma distribution\n",
    "        \"\"\"\n",
    "        \n",
    "        theta = (self.theta_scale * self.theta_par)\n",
    "        if rec_ch:\n",
    "            theta = theta[rec_ch].reshape([1,1,1,1,1])\n",
    "            background = background[:,rec_ch:rec_ch+1]\n",
    "        else:\n",
    "            theta = self.theta_const\n",
    "            theta = theta[None,:,None,None,None]\n",
    "        \n",
    "        x_sim_background = x_sim + background\n",
    "        x_sim_background.clamp_(1.0 + self.baseline)\n",
    "        \n",
    "        conc = (x_sim_background - self.baseline) / theta\n",
    "        xsim_dist = D.Gamma(concentration=conc, rate=1 / theta)\n",
    "        \n",
    "        loc_trafo = [D.AffineTransform(loc=self.baseline, scale=1)]\n",
    "        xsim_dist = D.TransformedDistribution(xsim_dist, loc_trafo)\n",
    "        return xsim_dist"
   ]
  },
  {
   "cell_type": "code",
   "execution_count": null,
   "metadata": {},
   "outputs": [],
   "source": [
    "from decode_fish.engine.psf import LinearInterpolatedPSF\n",
    "from decode_fish.engine.point_process import PointProcessUniform\n",
    "from decode_fish.engine.microscope import Microscope\n",
    "from decode_fish.funcs.plotting import plot_3d_projections\n",
    "from decode_fish.funcs.file_io import get_gaussian_psf\n",
    "\n",
    "psf = get_gaussian_psf([1,21,21],[1.,1.,1.], pred_z=True)\n",
    "noise = sCMOS(theta=7., baseline=0, channels=12)\n",
    "\n",
    "micro = Microscope(psf=psf, noise=noise, scale=1000).cuda()\n",
    "\n",
    "point_process = PointProcessUniform(local_rate = torch.ones([1,12,16,48,48]).cuda()*.0001, channels=12)\n",
    "locs_3d, x_os_3d, y_os_3d, z_os_3d, ints_3d, output_shape = point_process.sample()\n",
    "\n",
    "xsim = micro(locs_3d, x_os_3d, y_os_3d, z_os_3d, ints_3d, output_shape)\n",
    "\n",
    "background = torch.ones_like(xsim) * 500\n",
    "xsim_noise = micro.noise(xsim, background).sample()"
   ]
  },
  {
   "cell_type": "code",
   "execution_count": null,
   "metadata": {},
   "outputs": [
    {
     "data": {
      "image/png": "[encoded data removed]",
      "text/plain": [
       "<Figure size 309.6x288 with 6 Axes>"
      ]
     },
     "metadata": {
      "needs_background": "light"
     },
     "output_type": "display_data"
    }
   ],
   "source": [
    "_ = plot_3d_projections(xsim_noise[0,2], size=3)"
   ]
  },
  {
   "cell_type": "code",
   "execution_count": null,
   "metadata": {},
   "outputs": [
    {
     "data": {
      "text/plain": [
       "tensor(-5.4956, device='cuda:0', grad_fn=<MeanBackward0>)"
      ]
     },
     "execution_count": null,
     "metadata": {},
     "output_type": "execute_result"
    }
   ],
   "source": [
    "micro.noise(xsim,background).log_prob(xsim_noise).mean()"
   ]
  },
  {
   "cell_type": "code",
   "execution_count": null,
   "metadata": {},
   "outputs": [
    {
     "ename": "ImportError",
     "evalue": "cannot import name 'EstimateBackground' from 'decode_fish.funcs.dataset' (/groups/turaga/home/speisera/Dropbox (mackelab)/Artur/WorkDB/deepstorm/decode_fish/decode_fish/funcs/dataset.py)",
     "output_type": "error",
     "traceback": [
      "\u001b[0;31m---------------------------------------------------------------------------\u001b[0m",
      "\u001b[0;31mImportError\u001b[0m                               Traceback (most recent call last)",
      "\u001b[0;32m<ipython-input-23-370b5ca2f3dc>\u001b[0m in \u001b[0;36m<module>\u001b[0;34m\u001b[0m\n\u001b[0;32m----> 1\u001b[0;31m \u001b[0;32mfrom\u001b[0m \u001b[0mdecode_fish\u001b[0m\u001b[0;34m.\u001b[0m\u001b[0mfuncs\u001b[0m\u001b[0;34m.\u001b[0m\u001b[0mdataset\u001b[0m \u001b[0;32mimport\u001b[0m \u001b[0mEstimateBackground\u001b[0m\u001b[0;34m\u001b[0m\u001b[0;34m\u001b[0m\u001b[0m\n\u001b[0m\u001b[1;32m      2\u001b[0m \u001b[0;31m# img = load_tiff_image('/groups/turaga/home/speisera/Mackebox/Artur/WorkDB/deepstorm//datasets/CodFish/smFISH_data_Titlow/msp300_smFISH_3.tif')\u001b[0m\u001b[0;34m\u001b[0m\u001b[0;34m\u001b[0m\u001b[0;34m\u001b[0m\u001b[0m\n\u001b[1;32m      3\u001b[0m \u001b[0mimg\u001b[0m \u001b[0;34m=\u001b[0m \u001b[0mxsim_noise\u001b[0m\u001b[0;34m.\u001b[0m\u001b[0mcpu\u001b[0m\u001b[0;34m(\u001b[0m\u001b[0;34m)\u001b[0m\u001b[0;34m\u001b[0m\u001b[0;34m\u001b[0m\u001b[0m\n\u001b[1;32m      4\u001b[0m \u001b[0mestimate_bg\u001b[0m \u001b[0;34m=\u001b[0m \u001b[0mEstimateBackground\u001b[0m\u001b[0;34m(\u001b[0m\u001b[0msmoothing_filter_size\u001b[0m\u001b[0;34m=\u001b[0m\u001b[0;36m5\u001b[0m\u001b[0;34m)\u001b[0m\u001b[0;34m\u001b[0m\u001b[0;34m\u001b[0m\u001b[0m\n\u001b[1;32m      5\u001b[0m \u001b[0mbg\u001b[0m \u001b[0;34m=\u001b[0m \u001b[0mestimate_bg\u001b[0m\u001b[0;34m(\u001b[0m\u001b[0mimg\u001b[0m\u001b[0;34m)\u001b[0m\u001b[0;34m\u001b[0m\u001b[0;34m\u001b[0m\u001b[0m\n",
      "\u001b[0;31mImportError\u001b[0m: cannot import name 'EstimateBackground' from 'decode_fish.funcs.dataset' (/groups/turaga/home/speisera/Dropbox (mackelab)/Artur/WorkDB/deepstorm/decode_fish/decode_fish/funcs/dataset.py)"
     ]
    }
   ],
   "source": [
    "from decode_fish.funcs.dataset import EstimateBackground\n",
    "# img = load_tiff_image('/groups/turaga/home/speisera/Mackebox/Artur/WorkDB/deepstorm//datasets/CodFish/smFISH_data_Titlow/msp300_smFISH_3.tif')\n",
    "img = xsim_noise.cpu()\n",
    "estimate_bg = EstimateBackground(smoothing_filter_size=5)\n",
    "bg = estimate_bg(img)"
   ]
  },
  {
   "cell_type": "code",
   "execution_count": null,
   "metadata": {},
   "outputs": [],
   "source": [
    "# export\n",
    "def estimate_noise_scale(img, bg_est, percentile=99, plot=True):\n",
    "    \"\"\" Returns an estimate of theta given a volume and a background estimate \n",
    "    \n",
    "    Args:\n",
    "        img: recorded volume for which we want to estimate the noise \n",
    "        bg_est: estimated background for img\n",
    "        percentile: we wan't to exclude the signal for our fit. therefore we only use the lower percentile of all voxels\n",
    "        plot: whether to plot the data and the final fit\n",
    "        \n",
    "    Returns:\n",
    "        fit_theta: theta estimate\n",
    "    \"\"\"\n",
    "    \n",
    "    img = cpu(img)\n",
    "    bg_est = cpu(bg_est)\n",
    "    residual = np.clip(img - bg_est + bg_est.mean(), img.min(), 1e10)\n",
    "    fit_vals = residual[residual < np.percentile(residual, percentile)]\n",
    "    fit_alpha, fit_loc, fit_theta=stats.gamma.fit(fit_vals, floc=0)   \n",
    "\n",
    "    if plot:\n",
    "        _ = plt.hist(fit_vals,bins=np.linspace(fit_vals.min(),fit_vals.max(), 51),  histtype ='step',label='data', density=True)\n",
    "        x = np.linspace(fit_vals.min(),fit_vals.max(),101)\n",
    "        y = stats.gamma.pdf(x, fit_alpha, fit_loc, fit_theta)\n",
    "        plt.plot(x, y, label='Fit')\n",
    "        plt.legend()\n",
    "        \n",
    "    return fit_theta"
   ]
  },
  {
   "cell_type": "code",
   "execution_count": null,
   "metadata": {},
   "outputs": [],
   "source": [
    "estimate_noise_scale(img, bg, 99.5)"
   ]
  },
  {
   "cell_type": "code",
   "execution_count": null,
   "metadata": {},
   "outputs": [
    {
     "name": "stdout",
     "output_type": "stream",
     "text": [
      "Converted 00_models.ipynb.\n",
      "Converted 01_psf.ipynb.\n",
      "Converted 02_microscope.ipynb.\n",
      "Converted 03_noise.ipynb.\n",
      "Converted 04_pointsource.ipynb.\n",
      "Converted 05_gmm_loss.ipynb.\n",
      "Converted 06_plotting.ipynb.\n",
      "Converted 07_file_io.ipynb.\n",
      "Converted 08_dataset.ipynb.\n",
      "Converted 09_output_trafo.ipynb.\n",
      "Converted 10_evaluation.ipynb.\n",
      "Converted 11_emitter_io.ipynb.\n",
      "Converted 12_utils.ipynb.\n",
      "Converted 13_train.ipynb.\n",
      "Converted 15_fit_psf.ipynb.\n",
      "Converted 16_visualization.ipynb.\n",
      "Converted 17_eval_routines.ipynb.\n",
      "Converted 18_predict_funcs.ipynb.\n",
      "Converted 19_MERFISH_routines.ipynb.\n",
      "Converted 20_MERFISH_visualization.ipynb.\n",
      "Converted 21_MERFISH_routines_2.ipynb.\n",
      "Converted 22_MERFISH_codenet.ipynb.\n",
      "Converted hyper.ipynb.\n",
      "Converted index.ipynb.\n"
     ]
    }
   ],
   "source": [
    "!nbdev_build_lib"
   ]
  },
  {
   "cell_type": "code",
   "execution_count": null,
   "metadata": {},
   "outputs": [],
   "source": []
  }
 ],
 "metadata": {
  "kernelspec": {
   "display_name": "Python [conda env:decode2_dev]",
   "language": "python",
   "name": "conda-env-decode2_dev-py"
  }
 },
 "nbformat": 4,
 "nbformat_minor": 4
}
