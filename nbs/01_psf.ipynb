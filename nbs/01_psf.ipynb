{
 "cells": [
  {
   "cell_type": "code",
   "execution_count": null,
   "metadata": {},
   "outputs": [],
   "source": [
    "# default_exp engine.psf"
   ]
  },
  {
   "cell_type": "code",
   "execution_count": null,
   "metadata": {},
   "outputs": [],
   "source": [
    "%load_ext autoreload\n",
    "%autoreload 2\n",
    "%aimport -decode_fish.engine.place_psfs"
   ]
  },
  {
   "cell_type": "markdown",
   "metadata": {},
   "source": [
    "# PSF model\n",
    "\n",
    "> Definition of the classes and functions we use to model PSFs\n",
    "\n",
    "ToDo: Eventually remove unneeded losses. "
   ]
  },
  {
   "cell_type": "code",
   "execution_count": null,
   "metadata": {},
   "outputs": [],
   "source": [
    "#export\n",
    "from decode_fish.imports import *\n",
    "import torch.nn as nn\n",
    "from torch.jit import script\n",
    "import torch.nn.functional as F\n",
    "from decode_fish.funcs.utils import *"
   ]
  },
  {
   "cell_type": "code",
   "execution_count": null,
   "metadata": {},
   "outputs": [],
   "source": [
    "#export\n",
    "class LinearInterpolatedPSF(nn.Module):\n",
    "    \"\"\" Stores a PSF volume parameter and enables linear subpixel interpolation\n",
    "\n",
    "    Args:\n",
    "        psf_vol: psf_volume, 3 or 4 dim\n",
    "        n_cols: number of colorchannels (and therefore PSFs)\n",
    "        device: 'cuda' or 'cpu'\n",
    "        mode: interpolation mode, currently bilinear or bicubic\n",
    "    \"\"\"\n",
    "    \n",
    "    def __init__(self, psf_vol, n_cols=1, device='cuda', mode='bilinear'):\n",
    "        super().__init__()\n",
    "        \n",
    "        psf_vol = torch.tensor(psf_vol, dtype=torch.float32).to(device)\n",
    "        self.psf_size = psf_vol.shape[-3:]\n",
    "        self.n_cols = n_cols\n",
    "        # +- /sz so that the values correspond to the pixel centers\n",
    "        v = [torch.linspace(-1+1/sz, 1-1/sz, int(sz)) for sz in self.psf_size]\n",
    "        \n",
    "        # We use a 4 dimensional psf n_col,z,y,z\n",
    "        if psf_vol.ndim == 3: psf_vol = psf_vol[None]\n",
    "        if psf_vol.shape[0] == 1: psf_vol = psf_vol.repeat_interleave(n_cols,0)\n",
    "            \n",
    "        # Buffers are not optimized\n",
    "        self.register_buffer('x', v[2])\n",
    "        self.register_buffer('y', v[1])\n",
    "        self.register_buffer('z', v[0])\n",
    "        self.register_buffer('z_2d', torch.zeros(1))\n",
    "        self.device=device\n",
    "        self.psf_volume = nn.Parameter(psf_vol, requires_grad=True)\n",
    "        self.z_scale = nn.Parameter(torch.ones(self.psf_size[0]), requires_grad=True)\n",
    "        self.mode = mode\n",
    "        \n",
    "    def forward(self, x_offset_val, y_offset_val, z_offset_val, z_inds=None, c_inds=None):\n",
    "        \"\"\" Returns the PSF volume for given subpixel shifts.\n",
    "        \n",
    "        Args:\n",
    "            x_offset_val, y_offset_val, z_offset_val: Vector of shifts in x,y,z\n",
    "            z_inds: indices of the psf_slices used (only for slice data)\n",
    "            c_inds: colors indices\n",
    "            \n",
    "        Returns:\n",
    "            PSF volumes/slices shifted by x,y,z\n",
    "        \"\"\"\n",
    "\n",
    "        N_em = x_offset_val.shape[0]\n",
    "        # Scale offsets by size. Factor of two because range [-1,1]\n",
    "        x_offset = 2 * x_offset_val.view(-1) / self.psf_size[2]  \n",
    "        y_offset = 2 * y_offset_val.view(-1) / self.psf_size[1]\n",
    "        if z_inds is None:\n",
    "            # Treat z like the other dimensions\n",
    "            z_offset = 2 * z_offset_val.view(-1) / self.psf_size[0]\n",
    "            z_g = self.z.to(self.device)\n",
    "            vol = self.psf_volume.expand(N_em, -1, -1, -1, -1).to(self.device)\n",
    "        else:\n",
    "            z_offset = 2 * z_offset_val.view(-1) / 3\n",
    "            z_g = self.z_2d.to(self.device)\n",
    "\n",
    "            # We select a 3 pixel wide volume around the indexed z slice for interpolation\n",
    "            vol = self.psf_volume * self.z_scale[None,:,None,None]\n",
    "            vol = torch.cat([vol[None,:,[z-1 for z in z_inds]], \n",
    "                             vol[None,:,z_inds], \n",
    "                             vol[None,:,[z+1 for z in z_inds]]], dim=0).transpose(0,2).to(self.device)\n",
    "            \n",
    "        if c_inds is not None:\n",
    "            vol = vol[torch.arange(len(c_inds)),c_inds]\n",
    "            vol = vol[:,None]\n",
    "        \n",
    "        # Create the grids\n",
    "        i_img, x_grid, y_grid, z_grid = torch.meshgrid(torch.arange(N_em, dtype=torch.float32).to(self.device), self.x.to(self.device), self.y.to(self.device), z_g)\n",
    "        \n",
    "        if self.mode == 'bilinear':\n",
    "\n",
    "            # Shift the grids\n",
    "            x_grid = x_grid - x_offset[:, None, None, None]\n",
    "            y_grid = y_grid - y_offset[:, None, None, None]\n",
    "            z_grid = z_grid - z_offset[:, None, None, None]\n",
    "\n",
    "            m_grid = torch.stack([x_grid, y_grid, z_grid], -1)\n",
    "            psf_out = torch.nn.functional.grid_sample(vol, m_grid, align_corners = False)\n",
    "            \n",
    "            return psf_out.transpose(-3,-1)\n",
    "            \n",
    "        else:\n",
    "            \n",
    "            z_grid_shifted = z_grid - z_offset[:, None, None, None]\n",
    "            m_grid = torch.stack([x_grid, y_grid, z_grid_shifted], -1)\n",
    "            psf_out = torch.nn.functional.grid_sample(vol, m_grid, align_corners = False, mode='bilinear')\n",
    "            psf_out = psf_out.transpose(-3,-1).transpose(1,2)[:,:,0] # Swap z into channel dim, and drop z dim. \n",
    "            i_img, x_grid, y_grid = torch.meshgrid(torch.arange(N_em, dtype=torch.float32).to(self.device), self.x.to(self.device), self.y.to(self.device))\n",
    "            \n",
    "            x_grid = x_grid - x_offset[:, None, None]\n",
    "            y_grid = y_grid - y_offset[:, None, None]\n",
    "            \n",
    "            m_grid = torch.stack([x_grid, y_grid], -1)\n",
    "            psf_out = torch.nn.functional.grid_sample(psf_out, m_grid, align_corners = False, mode='bicubic')\n",
    "        \n",
    "            return psf_out[:,None].transpose(-2,-1)\n",
    "    \n",
    "    def get_com(self):\n",
    "        \"\"\" Returns the center of mass of the squared volume.\"\"\"\n",
    "            \n",
    "        x_grid, y_grid, z_grid = torch.meshgrid(torch.arange(self.psf_size[0]),torch.arange(self.psf_size[1]),torch.arange(self.psf_size[2]))\n",
    "        m_grid = torch.stack([x_grid, y_grid, z_grid], -1).to(self.device)\n",
    "        \n",
    "        vol = ((self.psf_volume[0])**2).to(self.device)\n",
    "\n",
    "        zc = (m_grid[:,:,:,0] * vol).sum()/vol.sum()\n",
    "        yc = (m_grid[:,:,:,1] * vol).sum()/vol.sum()\n",
    "        xc = (m_grid[:,:,:,2] * vol).sum()/vol.sum()\n",
    "        \n",
    "        return zc, yc, xc\n",
    "    \n",
    "    def com_loss(self):\n",
    "        \"\"\" Returns the difference between the current CoM and the center of the volume.\n",
    "        \n",
    "        Used as a loss term during AE training to avoid drift of the PSF.\n",
    "        \"\"\"\n",
    "        \n",
    "        return torch.norm(torch.stack(self.get_com()) - torch.tensor(self.psf_size).to(self.device)//2, 2)\n",
    "    \n",
    "    def clip_loss(self):\n",
    "        \"\"\" Returns the 2 norm of negative values of the PSF volume. \"\"\"\n",
    "        return torch.norm(torch.nn.ReLU().forward(-self.psf_volume).sum(), 2)\n",
    "    \n",
    "    def sum_loss(self):\n",
    "        \"\"\" Returns the 1 norm of the PSF volume. \"\"\"\n",
    "        return torch.norm((self.psf_volume).sum(), 1)\n",
    "    \n",
    "    def l1_diff_norm(self, init_vol):\n",
    "        \"\"\" Returns the 1 norm of the difference to the initial volume. \"\"\"\n",
    "        return torch.linalg.norm((self.psf_volume - init_vol).reshape(-1), 1)"
   ]
  },
  {
   "cell_type": "code",
   "execution_count": null,
   "metadata": {},
   "outputs": [],
   "source": [
    "gauss_vol = gaussian_sphere([11,21,21], [2,1,1])"
   ]
  },
  {
   "cell_type": "code",
   "execution_count": null,
   "metadata": {},
   "outputs": [
    {
     "data": {
      "text/plain": [
       "torch.Size([4, 1, 11, 21, 21])"
      ]
     },
     "execution_count": null,
     "metadata": {},
     "output_type": "execute_result"
    }
   ],
   "source": [
    "from decode_fish.funcs.file_io import *\n",
    "psf = LinearInterpolatedPSF(gauss_vol, n_cols=1, mode='bicubic')\n",
    "shift_xyz = torch.tensor([-2,0.,+2,0.]).cuda(),torch.tensor([-.5,0.,0.,0.]).cuda(),torch.tensor([0.2,0.4,0.,0.]).cuda()\n",
    "shifted_psf_bc = psf(shift_xyz[0],shift_xyz[1],shift_xyz[2], z_inds=None)\n",
    "shifted_psf_bc.shape"
   ]
  },
  {
   "cell_type": "code",
   "execution_count": null,
   "metadata": {},
   "outputs": [
    {
     "data": {
      "text/plain": [
       "torch.Size([4, 1, 11, 21, 21])"
      ]
     },
     "execution_count": null,
     "metadata": {},
     "output_type": "execute_result"
    },
    {
     "data": {
      "image/png": "[encoded data removed]",
      "text/plain": [
       "<Figure size 701.486x658.286 with 6 Axes>"
      ]
     },
     "metadata": {
      "needs_background": "light"
     },
     "output_type": "display_data"
    }
   ],
   "source": [
    "from decode_fish.funcs.plotting import plot_3d_projections\n",
    "shift_xyz = torch.tensor([-2,0.,+2,0.]).cuda(),torch.tensor([-.5,0.,0.,0.]).cuda(),torch.tensor([0.,0.,0.,0.]).cuda()\n",
    "# shifted_psf_bl = psf(shift_xyz[0],shift_xyz[1],shift_xyz[2], [7,6,4,2]) # Treat as slice\n",
    "shifted_psf_bl = psf(shift_xyz[0],shift_xyz[1],shift_xyz[2]) # Treat as volume\n",
    "# First output is the volume_shifted_psf_bl 2 pixels to the left.\n",
    "fig, ax = plot_3d_projections(cpu(shifted_psf_bl)[0,0])\n",
    "ax[0].plot([10.5+shift_xyz[0][0],10.5+shift_xyz[0][0]],[0,20], 'red') \n",
    "ax[0].plot([0,20], [10.5+shift_xyz[1][0],10.5+shift_xyz[1][0]], 'red')\n",
    "shifted_psf_bl.shape"
   ]
  },
  {
   "cell_type": "code",
   "execution_count": null,
   "metadata": {},
   "outputs": [],
   "source": [
    "# export \n",
    "def PSFloader(psf_file=None, gauss_radii=[1.,1.,1.], psf_extent_zyx=[13,13,13], n_cols=1, mode='bicubic', device='gpu'):\n",
    "    \n",
    "    if psf_file:\n",
    "        psf_vol = load_tiff_image(psf_file)\n",
    "    else:\n",
    "        psf_vol = gaussian_sphere(psf_extent_zyx, gauss_radii)\n",
    "        \n",
    "    return LinearInterpolatedPSF(psf_vol, n_cols=n_cols, device=device, mode=mode)"
   ]
  },
  {
   "cell_type": "code",
   "execution_count": null,
   "metadata": {},
   "outputs": [],
   "source": [
    "size_zyx = [1,21,21]\n",
    "\n",
    "vol_3d = []\n",
    "facs = np.linspace(0.7,2.,11)\n",
    "for i in range(len(facs)):\n",
    "    \n",
    "    s = gaussian_sphere(size_zyx, [1.7,1.7*facs[i],1.7*facs[i]], [size_zyx[0]//2,size_zyx[1]//2,size_zyx[2]//2])\n",
    "    vol_3d.append(s)\n",
    "    \n",
    "vol_3d = np.concatenate(vol_3d,0)\n",
    "vol_3d /= vol_3d[0].sum(-1).sum(-1)"
   ]
  },
  {
   "cell_type": "code",
   "execution_count": null,
   "metadata": {},
   "outputs": [
    {
     "data": {
      "text/plain": [
       "array([1.        , 1.        , 1.        , 0.99999998, 0.99999936,\n",
       "       0.99999198, 0.99994674, 0.99977095, 0.99927674, 0.99817802,\n",
       "       0.99612515])"
      ]
     },
     "execution_count": null,
     "metadata": {},
     "output_type": "execute_result"
    }
   ],
   "source": [
    "vol_3d.sum(-1).sum(-1)"
   ]
  },
  {
   "cell_type": "code",
   "execution_count": null,
   "metadata": {},
   "outputs": [
    {
     "data": {
      "text/plain": [
       "(<Figure size 701.486x658.286 with 6 Axes>,\n",
       " [<AxesSubplot:ylabel='y'>,\n",
       "  <AxesSubplot:xlabel='x', ylabel='z'>,\n",
       "  <AxesSubplot:xlabel='z'>])"
      ]
     },
     "execution_count": null,
     "metadata": {},
     "output_type": "execute_result"
    },
    {
     "data": {
      "image/png": "[encoded data removed]",
      "text/plain": [
       "<Figure size 701.486x658.286 with 6 Axes>"
      ]
     },
     "metadata": {
      "needs_background": "light"
     },
     "output_type": "display_data"
    }
   ],
   "source": [
    "from decode_fish.funcs.plotting import plot_3d_projections\n",
    "plot_3d_projections(vol_3d)"
   ]
  },
  {
   "cell_type": "code",
   "execution_count": null,
   "metadata": {},
   "outputs": [],
   "source": [
    "# import tifffile\n",
    "# tifffile.imsave('../figures/MF_psf_07_20n.tif', data=vol_3d)"
   ]
  },
  {
   "cell_type": "code",
   "execution_count": null,
   "metadata": {},
   "outputs": [
    {
     "name": "stdout",
     "output_type": "stream",
     "text": [
      "Converted 00_models.ipynb.\n",
      "Converted 01_psf.ipynb.\n",
      "Converted 02_microscope.ipynb.\n",
      "Converted 02b_place_psfs.ipynb.\n",
      "Converted 03_noise.ipynb.\n",
      "Converted 04_pointsource.ipynb.\n",
      "Converted 05_gmm_loss.ipynb.\n",
      "Converted 06_plotting.ipynb.\n",
      "Converted 07_file_io.ipynb.\n",
      "Converted 08_dataset.ipynb.\n",
      "Converted 09_output_trafo.ipynb.\n",
      "Converted 10_matching.ipynb.\n",
      "Converted 11_emitter_io.ipynb.\n",
      "Converted 12_utils.ipynb.\n",
      "Converted 13_train.ipynb.\n",
      "Converted 15_fit_psf.ipynb.\n",
      "Converted 16_visualization.ipynb.\n",
      "Converted 17_eval_routines.ipynb.\n",
      "Converted 18_predict_funcs.ipynb.\n",
      "Converted 19_MERFISH_routines.ipynb.\n",
      "Converted 22_MERFISH_codenet.ipynb.\n",
      "Converted 23_MERFISH_comparison.ipynb.\n",
      "Converted 24_exp_specific.ipynb.\n",
      "Converted 25_ensembling.ipynb.\n",
      "Converted 26_gen_train.ipynb.\n",
      "Converted 27_testtime_rescale.ipynb.\n",
      "Converted index.ipynb.\n"
     ]
    }
   ],
   "source": [
    "!nbdev_build_lib"
   ]
  },
  {
   "cell_type": "code",
   "execution_count": null,
   "metadata": {},
   "outputs": [],
   "source": []
  }
 ],
 "metadata": {
  "kernelspec": {
   "display_name": "decode_fish_dev2",
   "language": "python",
   "name": "decode_fish_dev2"
  }
 },
 "nbformat": 4,
 "nbformat_minor": 4
}
