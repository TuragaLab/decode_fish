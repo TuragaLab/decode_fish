{
 "cells": [
  {
   "cell_type": "code",
   "execution_count": null,
   "metadata": {},
   "outputs": [],
   "source": [
    "# default_exp engine.point_process"
   ]
  },
  {
   "cell_type": "code",
   "execution_count": null,
   "metadata": {},
   "outputs": [],
   "source": [
    "%load_ext autoreload\n",
    "%autoreload 2"
   ]
  },
  {
   "cell_type": "markdown",
   "metadata": {},
   "source": [
    "# Emitter distribution\n",
    "\n",
    "> Definition of the class used to simulate random emitter positions and intensities"
   ]
  },
  {
   "cell_type": "code",
   "execution_count": null,
   "metadata": {},
   "outputs": [],
   "source": [
    "#export\n",
    "from decode_fish.imports import *\n",
    "from torch import distributions as D, Tensor\n",
    "from torch.distributions import Distribution\n",
    "from decode_fish.funcs.utils import *"
   ]
  },
  {
   "cell_type": "code",
   "execution_count": null,
   "metadata": {},
   "outputs": [],
   "source": [
    "#export\n",
    "class PointProcessUniform(Distribution):\n",
    "    \"\"\"\n",
    "    This class is part of the generative model and uses the probability local_rate to generate sample locations on the voxel grid.  \n",
    "    For each emitter we then sample x-,y- and z-offsets uniformly in the range [-0.5,0.5] to get continuous locations.\n",
    "    Intensities are sampled from a gamma distribution torch.distirubtions.gamma(int_conc, int_rate) which is shifted by int_loc.\n",
    "    Together with the microscope.scale and the PSF this results in the overall brightness of an emitter.\n",
    "    \n",
    "    Args:\n",
    "        local_rate torch.tensor . shape(BS, C, H, W, D): Local rate\n",
    "        int_conc=0., int_rate=1., int_loc (float): parameters of the intensity gamma distribution\n",
    "        sim_iters (int): instead of sampling once from local_rate, we sample sim_iters times from local_rate/sim_iters. \n",
    "            This results in the same average number of sampled emitters but allows us to sample multiple emitters within one voxel.\n",
    "\n",
    "    \"\"\"\n",
    "    def __init__(self, local_rate: torch.tensor, int_conc=0., int_rate=1., int_loc=1., sim_iters: int = 5):\n",
    "\n",
    "        assert sim_iters > 1\n",
    "        self.local_rate = local_rate\n",
    "        self.device = self._get_device(self.local_rate)\n",
    "        self.sim_iters = sim_iters\n",
    "        self.int_conc = int_conc\n",
    "        self.int_rate = int_rate\n",
    "        self.int_loc = int_loc\n",
    "        \n",
    "    def sample(self):\n",
    "\n",
    "        res_ = [self._sample(self.local_rate/self.sim_iters) for i in range(self.sim_iters)]\n",
    "        locations = torch.cat([i[0] for i in res_], dim=0)\n",
    "        x_offset = torch.cat([i[1] for i in res_], dim=0)\n",
    "        y_offset = torch.cat([i[2] for i in res_], dim=0)\n",
    "        z_offset = torch.cat([i[3] for i in res_], dim=0)\n",
    "        intensities = torch.cat([i[4] for i in res_], dim=0)\n",
    "\n",
    "        return tuple(locations.T), x_offset, y_offset, z_offset, intensities, res_[0][5]\n",
    "\n",
    "    def _sample(self, local_rate):\n",
    "\n",
    "        local_rate = torch.clamp(local_rate,0.,1.)\n",
    "        locations = D.Bernoulli(local_rate).sample()\n",
    "        n_emitter = int(locations.sum().item())\n",
    "        zero_point_five = torch.tensor(0.5, device=self.device)\n",
    "        x_offset = D.Uniform(low=0 - zero_point_five, high=0 + zero_point_five).sample(sample_shape=[n_emitter])\n",
    "        y_offset = D.Uniform(low=0 - zero_point_five, high=0 + zero_point_five).sample(sample_shape=[n_emitter])\n",
    "        z_offset = D.Uniform(low=0 - zero_point_five, high=0 + zero_point_five).sample(sample_shape=[n_emitter])\n",
    "        intensities = D.Gamma(self.int_conc, self.int_rate).sample(sample_shape=[n_emitter]).to(self.device) + self.int_loc       \n",
    "      \n",
    "        output_shape = tuple(locations.shape)\n",
    "        locations = locations.nonzero(as_tuple=False)\n",
    "        return locations, x_offset, y_offset, z_offset, intensities, output_shape\n",
    "\n",
    "\n",
    "    def log_prob(self, locations, x_offset=None, y_offset=None, z_offset=None, intensities=None, output_shape=None):\n",
    "        locations = list_to_locations(locations, output_shape)\n",
    "        log_prob = D.Bernoulli(self.local_rate).log_prob(locations)\n",
    "        return log_prob\n",
    "\n",
    "    @staticmethod\n",
    "    def _get_device(x):\n",
    "        return getattr(x, 'device')\n",
    "    \n",
    "\n",
    "def list_to_locations(locations, output_shape):\n",
    "    tmp =torch.zeros(output_shape, device=locations[0].device)\n",
    "    coord = torch.stack(locations).T\n",
    "    #incase you have multiple emitter present\n",
    "    for i in coord: tmp[tuple(i)] += 1\n",
    "    return tmp"
   ]
  },
  {
   "cell_type": "code",
   "execution_count": null,
   "metadata": {},
   "outputs": [],
   "source": [
    "point_process = PointProcessUniform(local_rate = torch.ones([1,1,48,48,48])*.01, int_conc=4, int_rate=10, int_loc=2, sim_iters=10)\n",
    "locs_3d, x_os_3d, y_os_3d, z_os_3d, ints_3d, output_shape = point_process.sample()"
   ]
  },
  {
   "cell_type": "code",
   "execution_count": null,
   "metadata": {},
   "outputs": [
    {
     "data": {
      "image/png": "[encoded data removed]",
      "text/plain": [
       "<Figure size 432x288 with 1 Axes>"
      ]
     },
     "metadata": {
      "needs_background": "light"
     },
     "output_type": "display_data"
    }
   ],
   "source": [
    "_=plt.hist(cpu(ints_3d))"
   ]
  },
  {
   "cell_type": "code",
   "execution_count": null,
   "metadata": {},
   "outputs": [
    {
     "name": "stdout",
     "output_type": "stream",
     "text": [
      "Converted 00_models.ipynb.\n",
      "Converted 01_psf.ipynb.\n",
      "Converted 02_microscope.ipynb.\n",
      "Converted 03_noise.ipynb.\n",
      "Converted 04_pointsource.ipynb.\n",
      "Converted 05_gmm_loss.ipynb.\n",
      "Converted 06_plotting.ipynb.\n",
      "Converted 07_file_io.ipynb.\n",
      "Converted 08_dataset.ipynb.\n",
      "Converted 09_output_trafo.ipynb.\n",
      "Converted 10_evaluation.ipynb.\n",
      "Converted 11_emitter_io.ipynb.\n",
      "Converted 12_utils.ipynb.\n",
      "Converted 13_train.ipynb.\n",
      "Converted 15_fit_psf.ipynb.\n",
      "Converted 16_visualization.ipynb.\n",
      "Converted 17_eval_routines.ipynb.\n",
      "Converted index.ipynb.\n"
     ]
    }
   ],
   "source": [
    "!nbdev_build_lib"
   ]
  },
  {
   "cell_type": "code",
   "execution_count": null,
   "metadata": {},
   "outputs": [],
   "source": []
  }
 ],
 "metadata": {
  "kernelspec": {
   "display_name": "Python [conda env:decode2_dev]",
   "language": "python",
   "name": "conda-env-decode2_dev-py"
  }
 },
 "nbformat": 4,
 "nbformat_minor": 4
}
