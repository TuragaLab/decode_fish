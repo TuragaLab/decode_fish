{
 "cells": [
  {
   "cell_type": "code",
   "execution_count": null,
   "id": "otherwise-vaccine",
   "metadata": {},
   "outputs": [],
   "source": [
    "# default_exp funcs.merfish_comparison"
   ]
  },
  {
   "cell_type": "code",
   "execution_count": null,
   "id": "designing-tournament",
   "metadata": {},
   "outputs": [],
   "source": [
    "%load_ext autoreload\n",
    "%autoreload 2"
   ]
  },
  {
   "cell_type": "code",
   "execution_count": null,
   "id": "radio-criminal",
   "metadata": {},
   "outputs": [
    {
     "name": "stderr",
     "output_type": "stream",
     "text": [
      "2021-09-17 09:59:47.849725: I tensorflow/stream_executor/platform/default/dso_loader.cc:49] Successfully opened dynamic library libcudart.so.10.1\n"
     ]
    }
   ],
   "source": [
    "# export\n",
    "from decode_fish.imports import *\n",
    "\n",
    "os.environ[\"CUDA_VISIBLE_DEVICES\"] = '1'\n",
    "\n",
    "from decode_fish.funcs.file_io import *\n",
    "from decode_fish.funcs.emitter_io import *\n",
    "from decode_fish.funcs.utils import *\n",
    "from decode_fish.funcs.dataset import *\n",
    "from decode_fish.funcs.plotting import *\n",
    "from decode_fish.engine.noise import estimate_noise_scale\n",
    "import shutil\n",
    "from decode_fish.funcs.visualization import *\n",
    "from decode_fish.funcs.predict import predict\n",
    "import torch.nn as nn\n",
    "import torch.nn.functional as F\n",
    "import torch.tensor as T\n",
    "from decode_fish.funcs.predict import *\n",
    "\n",
    "from omegaconf import open_dict\n",
    "from hydra import compose, initialize\n",
    "from decode_fish.funcs.merfish_eval import *\n",
    "\n",
    "sys.path.append('/groups/turaga/home/speisera/Mackebox/Artur/WorkDB/deepstorm/FQ/istdeco/')\n",
    "\n",
    "from istdeco import ISTDeco\n",
    "from utils import random_codebook, random_image_stack\n",
    "from codebook import Codebook\n",
    "from starfish.image import Filter\n",
    "\n",
    "sys.path.append('/groups/turaga/home/speisera/Mackebox/Artur/WorkDB/deepstorm/FQ/bardensr/')\n",
    "import bardensr\n",
    "\n",
    "import optuna\n",
    "optuna.logging.set_verbosity(optuna.logging.INFO)"
   ]
  },
  {
   "cell_type": "code",
   "execution_count": null,
   "id": "naughty-england",
   "metadata": {},
   "outputs": [],
   "source": [
    "# cfg = OmegaConf.load(f'/groups/turaga/home/speisera/Mackebox/Artur/WorkDB/deepstorm/models/fishcod/MERFISH_starfish/sweep_ci_13/start_mic:5000xpsf_noise:0.4/train.yaml')\n",
    "cfg = OmegaConf.load(f'/groups/turaga/home/speisera/Mackebox/Artur/WorkDB/deepstorm/models/fishcod/MERFISH_starfish/sweep_sl_9a/old_new_format/train.yaml')\n",
    "cfg = OmegaConf.load(f'/groups/turaga/home/speisera/Mackebox/Artur/WorkDB/deepstorm/models/fishcod/MERFISH_starfish/sweep_sl_11/seed:1xint_fac:0.1/train.yaml')\n",
    "cfg = OmegaConf.load(f'/groups/turaga/home/speisera/Mackebox/Artur/WorkDB/deepstorm/models/fishcod/MERFISH_starfish/sweep_sim_1/old_loss:Truexmin_int_sig:1.0/train.yaml')\n",
    "cfg = OmegaConf.load(f'/groups/turaga/home/speisera/Mackebox/Artur/WorkDB/deepstorm/models/fishcod/MERFISH_starfish/sweep_sim_1/old_loss:False/train.yaml')\n",
    "# csv_name = 'test'\n",
    "# cfg.foci.n_foci_avg = 0"
   ]
  },
  {
   "cell_type": "code",
   "execution_count": null,
   "id": "indian-victory",
   "metadata": {},
   "outputs": [],
   "source": [
    "# cfg.exp_type.pred_z=False\n",
    "# cfg.PSF.psf_extent_zyx=[1,21,21]\n",
    "# cfg.run_name = 'test'"
   ]
  },
  {
   "cell_type": "code",
   "execution_count": null,
   "id": "voluntary-routine",
   "metadata": {},
   "outputs": [
    {
     "name": "stdout",
     "output_type": "stream",
     "text": [
      "Crop size larger than volume in at least one dimension. Crop size changed to (1, 256, 256)\n",
      "1 volumes\n"
     ]
    }
   ],
   "source": [
    "crop_sz = 256\n",
    "cfg.foci.n_foci_avg = 0\n",
    "cfg.training.bs = 3\n",
    "cfg.PSF.n_cols = 1\n",
    "cfg.random_crop.crop_sz = crop_sz\n",
    "cfg.data_path.image_shape = [16,1,crop_sz,crop_sz]\n",
    "model, post_proc, micro, img_3d, decode_dl = load_all(cfg)"
   ]
  },
  {
   "cell_type": "code",
   "execution_count": null,
   "id": "manufactured-youth",
   "metadata": {},
   "outputs": [
    {
     "name": "stdout",
     "output_type": "stream",
     "text": [
      "13832\n"
     ]
    }
   ],
   "source": [
    "from decode_fish.funcs.merfish_eval import *\n",
    "bench_df, code_ref, targets = get_benchmark()\n",
    "code_inds = np.stack([np.nonzero(c)[0] for c in code_ref])"
   ]
  },
  {
   "cell_type": "code",
   "execution_count": null,
   "id": "virgin-cabinet",
   "metadata": {},
   "outputs": [
    {
     "name": "stdout",
     "output_type": "stream",
     "text": [
      "Crop size larger than volume in at least one dimension. Crop size changed to (1, 48, 48)\n",
      "1 volumes\n"
     ]
    }
   ],
   "source": [
    "cfg = OmegaConf.load(f'/groups/turaga/home/speisera/Mackebox/Artur/WorkDB/deepstorm/models/fishcod/MERFISH_starfish/sweep_sim_2/old_loss:True/train.yaml')\n",
    "model, post_proc, micro, img_3d, decode_dl = load_all(cfg)"
   ]
  },
  {
   "cell_type": "code",
   "execution_count": null,
   "id": "material-broadway",
   "metadata": {},
   "outputs": [],
   "source": [
    "from decode_fish.engine.point_process import *\n",
    "from decode_fish.funcs.output_trafo import *\n",
    "from decode_fish.funcs.evaluation import *\n",
    "import h5py\n",
    "from decode_fish.funcs.routines import *\n",
    "\n",
    "# with torch.no_grad():\n",
    "\n",
    "#     x, local_rate, background = next(iter(decode_dl))\n",
    "#     sim_vars = PointProcessUniform(local_rate*0 + 0.075,model.int_dist.int_conc, model.int_dist.int_rate, \n",
    "#                                    model.int_dist.int_loc, channels=16, n_bits=4, sim_z=False, codebook=torch.tensor(code_inds)).sample(from_code_book=True, phasing=cfg.exp_type.phasing)\n",
    "#     xsim = micro(*sim_vars, add_noise=False)\n",
    "#     xsimn = micro.noise(xsim, background).sample()\n",
    "\n",
    "#     gt_vars = sim_vars[:-1]\n",
    "#     gt_df = sample_to_df(*gt_vars, px_size_zyx=[1.,1.,1.])\n",
    "\n",
    "with h5py.File('/groups/turaga/home/speisera/Mackebox/Artur/WorkDB/deepstorm/decode_fish/data/merfish_sims/sim_data1/dens_0.01_int_0.5.h5', 'r') as f:\n",
    "\n",
    "    xsimn = f['frames'][()]\n",
    "    gt_df = get_df_from_hdf5(f['locations']) \n",
    "        \n",
    "with h5py.File('/groups/turaga/home/speisera/Mackebox/Artur/WorkDB/deepstorm/decode_fish/data/merfish_sims/sim_data1/sim_2/dens_0.01_int_0.5.h5', 'r') as f:\n",
    "\n",
    "    dec_df = get_df_from_hdf5(f['old_loss:False']['locations_int'])"
   ]
  },
  {
   "cell_type": "code",
   "execution_count": null,
   "id": "cardiac-supplement",
   "metadata": {},
   "outputs": [],
   "source": [
    "gt_df = get_code_from_ints(gt_df, code_ref, targets, int_str='', p_str='')\n",
    "gt_df = exclude_borders(gt_df, border_size_zyx=[0,500,500], img_size=[crop_sz*100,crop_sz*100,crop_sz*100])"
   ]
  },
  {
   "cell_type": "code",
   "execution_count": null,
   "id": "precise-cambodia",
   "metadata": {},
   "outputs": [],
   "source": [
    "post_proc.samp_threshold = 0.5"
   ]
  },
  {
   "cell_type": "code",
   "execution_count": null,
   "id": "ordinary-symposium",
   "metadata": {},
   "outputs": [],
   "source": [
    "with torch.no_grad():\n",
    "    \n",
    "    model.eval().cuda()\n",
    "    res_dict = model(T(xsimn).cuda())\n",
    "    res_dict = model.tensor_to_dict(res_dict)\n",
    "    pred_df = post_proc.get_df(res_dict)\n",
    "    pred_df = get_code_from_ints(pred_df, code_ref, targets, func=vcorrcoef, int_str='', p_str='p_')\n",
    "    pred_df = exclude_borders(pred_df, border_size_zyx=[0,500,500], img_size=[crop_sz*100,crop_sz*100,crop_sz*100])"
   ]
  },
  {
   "cell_type": "code",
   "execution_count": null,
   "id": "daily-straight",
   "metadata": {},
   "outputs": [
    {
     "name": "stdout",
     "output_type": "stream",
     "text": [
      "Recall: 0.948\n",
      "Precision: 0.981\n",
      "Jaccard: 93.096\n",
      "RMSE_vol: 13.988\n",
      "Eff_3d: 90.172\n",
      "FN: 96.0 FP: 34.0\n",
      "Num. matches: 1753.000\n",
      "Shift: -0.37,0.22,0.00\n"
     ]
    },
    {
     "data": {
      "text/plain": [
       "0.003993154592127781"
      ]
     },
     "execution_count": null,
     "metadata": {},
     "output_type": "execute_result"
    }
   ],
   "source": [
    "# sub_df = percentile_filter(pred_df, 80, 'p_code_err')\n",
    "perf, matches, _  = matching(gt_df, pred_df, match_genes=False)\n",
    "sum(matches['code_inds_pred'] == matches['code_inds_tar'])/len(matches)"
   ]
  },
  {
   "cell_type": "code",
   "execution_count": null,
   "id": "diagnostic-designer",
   "metadata": {},
   "outputs": [
    {
     "name": "stdout",
     "output_type": "stream",
     "text": [
      "1849\n",
      "tensor(1949.2300, device='cuda:0') None\n"
     ]
    },
    {
     "data": {
      "image/png": "[encoded data removed]",
      "text/plain": [
       "<Figure size 432x288 with 1 Axes>"
      ]
     },
     "metadata": {
      "needs_background": "light"
     },
     "output_type": "display_data"
    }
   ],
   "source": [
    "plt.hist(pred_df['prob'])\n",
    "print(torch.sigmoid(res_dict['logits']).sum(), print(len(gt_df)))"
   ]
  },
  {
   "cell_type": "code",
   "execution_count": null,
   "id": "nasty-matter",
   "metadata": {},
   "outputs": [
    {
     "name": "stdout",
     "output_type": "stream",
     "text": [
      "Recall: 0.778\n",
      "Precision: 0.856\n",
      "Jaccard: 68.800\n",
      "RMSE_vol: 26.057\n",
      "Eff_3d: 66.189\n",
      "FN: 395.0 FP: 234.0\n",
      "Num. matches: 1387.000\n",
      "Shift: 2.39,0.28,0.00\n"
     ]
    },
    {
     "data": {
      "text/plain": [
       "1.0"
      ]
     },
     "execution_count": null,
     "metadata": {},
     "output_type": "execute_result"
    }
   ],
   "source": [
    "# sub_df = percentile_filter(pred_df, 80, 'p_code_err')\n",
    "perf, matches, _  = matching(gt_df, pred_df, match_genes=True)\n",
    "sum(matches['code_inds_pred'] == matches['code_inds_tar'])/len(matches)"
   ]
  },
  {
   "cell_type": "code",
   "execution_count": null,
   "id": "theoretical-pricing",
   "metadata": {},
   "outputs": [],
   "source": [
    "# export\n",
    "def get_istdeco_df(sim_data, codebook, psf_sig=(1.7, 1.7), n_iter=100, bg=100.):\n",
    "    \n",
    "    istd_results = pd.DataFrame()\n",
    "    \n",
    "    n_rounds = codebook.shape[1]\n",
    "    n_cols = codebook.shape[2]\n",
    "    \n",
    "    for i in range(len(sim_data)):\n",
    "\n",
    "        image_data = sim_data[i,:,0]\n",
    "        image_data = image_data.reshape([n_rounds,n_cols,image_data.shape[-2],image_data.shape[-1]], order='F')\n",
    "        \n",
    "        init_th = np.percentile(image_data,50)\n",
    "\n",
    "        istdeco_model = ISTDeco(image_data, codebook, psf_sig, b=bg)\n",
    "        X, Q, loss = istdeco_model.run(niter=n_iter)\n",
    "\n",
    "        # Get codes\n",
    "        code_id, y, x = np.where(np.logical_and(X>init_th,Q>0.1))\n",
    "\n",
    "        intensity = X[code_id, y, x]\n",
    "        quality = Q[code_id, y, x]\n",
    "\n",
    "        # Store in dataframe\n",
    "        df = pd.DataFrame(data={\n",
    "                'frame_idx': i,\n",
    "                'x': x.astype('float')+0.5, \n",
    "                'y': y.astype('float')+0.5,\n",
    "                'z': 0.5,\n",
    "                'intensity': intensity, \n",
    "                'quality': quality,\n",
    "                'code_inds': code_id\n",
    "        })\n",
    "\n",
    "        istd_results = istd_results.append(df)\n",
    "\n",
    "    istd_results = px_to_nm(istd_results)\n",
    "\n",
    "    return istd_results"
   ]
  },
  {
   "cell_type": "code",
   "execution_count": null,
   "id": "conditional-trick",
   "metadata": {},
   "outputs": [],
   "source": [
    "istd_df = get_istdeco_df(xsimn, code_ref.reshape([140,8,2], order='F'), psf_sig=(1.7, 1.7), n_iter=400)\n",
    "istd_df = exclude_borders(istd_df, border_size_zyx=[0,500,500], img_size=[crop_sz*100,crop_sz*100,crop_sz*100])"
   ]
  },
  {
   "cell_type": "code",
   "execution_count": null,
   "id": "disturbed-genius",
   "metadata": {},
   "outputs": [
    {
     "data": {
      "text/plain": [
       "1786"
      ]
     },
     "execution_count": null,
     "metadata": {},
     "output_type": "execute_result"
    }
   ],
   "source": [
    "len(sub_df)"
   ]
  },
  {
   "cell_type": "code",
   "execution_count": null,
   "id": "increased-sussex",
   "metadata": {},
   "outputs": [
    {
     "name": "stdout",
     "output_type": "stream",
     "text": [
      "Recall: 0.953\n",
      "Precision: 0.951\n",
      "Jaccard: 90.904\n",
      "RMSE_vol: 46.041\n",
      "Eff_3d: 75.248\n",
      "FN: 83.0 FP: 87.0\n",
      "Num. matches: 1699.000\n",
      "Shift: 0.48,-0.04,0.00\n"
     ]
    },
    {
     "data": {
      "text/plain": [
       "1.0"
      ]
     },
     "execution_count": null,
     "metadata": {},
     "output_type": "execute_result"
    }
   ],
   "source": [
    "sub_df = istd_df[istd_df['quality'] > 0.35]\n",
    "sub_df = sub_df[sub_df['intensity'] > 750]\n",
    "perf, matches, _  = matching(gt_df, sub_df, match_genes=True, print_res=True)\n",
    "sum(matches['code_inds_pred'] == matches['code_inds_tar'])/len(matches)"
   ]
  },
  {
   "cell_type": "code",
   "execution_count": null,
   "id": "hungarian-stanford",
   "metadata": {},
   "outputs": [
    {
     "name": "stdout",
     "output_type": "stream",
     "text": [
      "Recall: 0.924\n",
      "Precision: 0.951\n",
      "Jaccard: 88.191\n",
      "RMSE_vol: 74.208\n",
      "Eff_3d: 61.062\n",
      "FN: 703.0 FP: 438.0\n",
      "Num. matches: 8521.000\n",
      "Shift: -0.42,-0.23,0.00\n"
     ]
    },
    {
     "data": {
      "text/plain": [
       "0.8579978875718812"
      ]
     },
     "execution_count": null,
     "metadata": {},
     "output_type": "execute_result"
    }
   ],
   "source": [
    "perf, matches, _  = matching(gt_df, sub_df, match_genes=False, print_res=True)\n",
    "sum(matches['code_inds_pred'] == matches['code_inds_tar'])/len(matches)"
   ]
  },
  {
   "cell_type": "code",
   "execution_count": null,
   "id": "intimate-graduation",
   "metadata": {},
   "outputs": [],
   "source": [
    "istd_df = get_istdeco_df(xsimn, code_ref.reshape([140,8,2], order='F'), psf_sig=(1.7, 1.7), n_iter=400)\n",
    "istd_df = exclude_borders(istd_df, border_size_zyx=[0,500,500], img_size=[crop_sz*100,crop_sz*100,crop_sz*100])\n",
    "\n",
    "q_max = 0.3*istd_df['quality'].max()\n",
    "i_max = 0.3*istd_df['intensity'].max()\n",
    "i_min = istd_df['intensity'].min()\n",
    "\n",
    "def objective(trial):\n",
    "    \n",
    "    n_iter = 400 # trial.suggest_uniform('n_iter', 50, 500)\n",
    "    psf_s = 1.7 # trial.suggest_uniform('psf_s', 1.5, 2.0)\n",
    "    \n",
    "#     istd_df = get_istdeco_df(xsimn, code_ref.reshape([140,8,2], order='F'), psf_sig=(psf_s, psf_s), n_iter=int(n_iter))\n",
    "#     istd_df = exclude_borders(istd_df, border_size_zyx=[0,500,500], img_size=[crop_sz*100,crop_sz*100,crop_sz*100])\n",
    "    \n",
    "    qual_th = trial.suggest_uniform('qual_th', 0.1, q_max)\n",
    "    int_th = trial.suggest_uniform('int_th', i_min, i_max)\n",
    "    \n",
    "    sub_df = istd_df[(istd_df['intensity'] > int_th) & (istd_df['quality'] > qual_th)]\n",
    "    perf, matches, _  = matching(gt_df, sub_df, match_genes=True, print_res=False) \n",
    "    \n",
    "    return -perf['jaccard']\n",
    "\n",
    "study = optuna.create_study()\n",
    "study.optimize(objective, n_trials=200)\n",
    "\n",
    "print(study.best_params)\n",
    "print('Jaccard ', -study.best_value)"
   ]
  },
  {
   "cell_type": "code",
   "execution_count": null,
   "id": "interesting-treasurer",
   "metadata": {},
   "outputs": [],
   "source": [
    "sub_df = istd_df[(istd_df['intensity'] > study.best_params['int_th']) & (istd_df['quality'] > study.best_params['qual_th'])]\n",
    "perf, matches, _  = matching(gt_df, sub_df, match_genes=True, print_res=False) "
   ]
  },
  {
   "cell_type": "code",
   "execution_count": null,
   "id": "unlike-cross",
   "metadata": {},
   "outputs": [],
   "source": [
    "# export\n",
    "def get_bardensr_tensor(sim_data, codebook, bg=100., n_iter=400, l1_pen=0.):\n",
    "    \n",
    "    bard_results = pd.DataFrame()\n",
    "    evd_tensors = []\n",
    "    codeflat = codebook.T\n",
    "    \n",
    "    for i in range(len(sim_data)):\n",
    "    \n",
    "        image_data = sim_data[i]\n",
    "        Xnorm = image_data - bg\n",
    "        Xnorm /= Xnorm.max()\n",
    "        \n",
    "#         Xnorm = bardensr.preprocessing.minmax(image_data - bg)\n",
    "\n",
    "#         Xnorm = bardensr.preprocessing.minmax(image_data)\n",
    "#         Xnorm = bardensr.preprocessing.background_subtraction(Xnorm,[0,10,10])\n",
    "#         Xnorm = bardensr.preprocessing.minmax(Xnorm)\n",
    "\n",
    "        evidence_tensor_iterative,extra_learned_params=\\\n",
    "            bardensr.spot_calling.estimate_density_iterative(Xnorm.astype('float64'),codeflat,l1_penalty=l1_pen,use_tqdm_notebook=True,iterations=n_iter, estimate_codebook_gain=False, psf_radius=(0, 0, 0))\n",
    "\n",
    "#         evidence_tensor_iterative= bardensr.spot_calling.estimate_density_singleshot(Xnorm.astype('float64'), codeflat, noisefloor=0.05)\n",
    "    \n",
    "        evd_tensors.append(evidence_tensor_iterative)\n",
    "        \n",
    "    return evd_tensors\n",
    "\n",
    "def get_bardensr_df(evd_tensors, th, ps=1.0):\n",
    "    \n",
    "    bard_results = pd.DataFrame()\n",
    "\n",
    "    for i in range(len(evd_tensors)):    \n",
    "    #     thresh_iterative=evd_tensors[i].max()*.1\n",
    "        result_iterative=bardensr.spot_calling.find_peaks(evd_tensors[i],th, poolsize=(ps,ps,ps))\n",
    "\n",
    "        code_inds = np.array(result_iterative.j.values, dtype=np.int16)\n",
    "        df = pd.DataFrame(data={\n",
    "                    'frame_idx': i,\n",
    "                    'x': result_iterative.m2.values + 0.5, \n",
    "                    'y': result_iterative.m1.values + 0.5,\n",
    "                    'z': 0.5,\n",
    "                    'intensity': result_iterative.int.values,\n",
    "                    'code_inds': code_inds\n",
    "            })\n",
    "\n",
    "        bard_results = bard_results.append(df)\n",
    "\n",
    "    bard_results = px_to_nm(bard_results)\n",
    "    return bard_results"
   ]
  },
  {
   "cell_type": "code",
   "execution_count": null,
   "id": "still-highway",
   "metadata": {},
   "outputs": [
    {
     "data": {
      "application/vnd.jupyter.widget-view+json": {
       "model_id": "677322c958dd4662be9e7cf6658ce3de",
       "version_major": 2,
       "version_minor": 0
      },
      "text/plain": [
       "  0%|          | 0/1000 [00:00<?, ?it/s]"
      ]
     },
     "metadata": {},
     "output_type": "display_data"
    },
    {
     "data": {
      "application/vnd.jupyter.widget-view+json": {
       "model_id": "94af5ad87b544f969a9b5eb8801cb62e",
       "version_major": 2,
       "version_minor": 0
      },
      "text/plain": [
       "  0%|          | 0/1000 [00:00<?, ?it/s]"
      ]
     },
     "metadata": {},
     "output_type": "display_data"
    },
    {
     "data": {
      "application/vnd.jupyter.widget-view+json": {
       "model_id": "9510506ed4a741ad869c661740b2f30b",
       "version_major": 2,
       "version_minor": 0
      },
      "text/plain": [
       "  0%|          | 0/1000 [00:00<?, ?it/s]"
      ]
     },
     "metadata": {},
     "output_type": "display_data"
    }
   ],
   "source": [
    "evd_tensors = get_bardensr_tensor(xsimn, code_ref, n_iter=1000, l1_pen=.05, bg=100.)"
   ]
  },
  {
   "cell_type": "code",
   "execution_count": null,
   "id": "impressed-realtor",
   "metadata": {},
   "outputs": [],
   "source": [
    "bard_df = get_bardensr_df(evd_tensors, .7, ps=1.)\n",
    "bard_df = exclude_borders(bard_df, border_size_zyx=[0,500,500], img_size=[crop_sz*100,crop_sz*100,crop_sz*100])"
   ]
  },
  {
   "cell_type": "code",
   "execution_count": null,
   "id": "seasonal-anthony",
   "metadata": {},
   "outputs": [
    {
     "name": "stdout",
     "output_type": "stream",
     "text": [
      "Recall: 0.039\n",
      "Precision: 0.948\n",
      "Jaccard: 3.905\n",
      "RMSE_vol: 67.918\n",
      "Eff_3d: -1.919\n",
      "FN: 8863.0 FP: 20.0\n",
      "Num. matches: 361.000\n",
      "Shift: -3.30,-3.72,0.00\n"
     ]
    },
    {
     "data": {
      "text/plain": [
       "1.0"
      ]
     },
     "execution_count": null,
     "metadata": {},
     "output_type": "execute_result"
    }
   ],
   "source": [
    "perf, matches, _  = matching(gt_df, bard_df, match_genes=True)\n",
    "sum(matches['code_inds_pred'] == matches['code_inds_tar'])/len(matches)"
   ]
  },
  {
   "cell_type": "code",
   "execution_count": null,
   "id": "changing-afternoon",
   "metadata": {},
   "outputs": [
    {
     "name": "stdout",
     "output_type": "stream",
     "text": [
      "Recall: 0.709\n",
      "Precision: 0.767\n",
      "Jaccard: 58.378\n",
      "RMSE_vol: 68.890\n",
      "Eff_3d: 45.974\n",
      "FN: 2681.0 FP: 1984.0\n",
      "Num. matches: 6543.000\n",
      "Shift: 0.56,-1.14,0.00\n"
     ]
    },
    {
     "data": {
      "text/plain": [
       "1.0"
      ]
     },
     "execution_count": null,
     "metadata": {},
     "output_type": "execute_result"
    }
   ],
   "source": [
    "perf, matches, _  = matching(gt_df, bard_df, match_genes=True)\n",
    "sum(matches['code_inds_pred'] == matches['code_inds_tar'])/len(matches)"
   ]
  },
  {
   "cell_type": "code",
   "execution_count": null,
   "id": "durable-spyware",
   "metadata": {},
   "outputs": [],
   "source": [
    "# bard_results = pd.DataFrame()\n",
    "\n",
    "# for i in range(len(evd_tensors)):    \n",
    "# #     thresh_iterative=evd_tensors[i].max()*.1\n",
    "#     result_iterative=bardensr.spot_calling.find_peaks(evd_tensors[i],0.25, poolsize=(1.0,1.0,1.0))\n",
    "    \n",
    "#     code_inds = np.array(result_iterative.j.values, dtype=np.int16)\n",
    "#     df = pd.DataFrame(data={\n",
    "#                 'frame_idx': i,\n",
    "#                 'x': result_iterative.m2.values + 0.5, \n",
    "#                 'y': result_iterative.m1.values + 0.5,\n",
    "#                 'z': 0.5,\n",
    "#                 'intensity': result_iterative.int.values,\n",
    "#                 'code_inds': code_inds,\n",
    "#                 'gene': targets[code_inds].ravel()\n",
    "#         })\n",
    "    \n",
    "#     bard_results = bard_results.append(df)\n",
    "    \n",
    "# bard_results = px_to_nm(bard_results)\n",
    "# bard_results = exclude_borders(bard_results, border_size_zyx=[0,500,500], img_size=[crop_sz*100,crop_sz*100,crop_sz*100])"
   ]
  },
  {
   "cell_type": "code",
   "execution_count": null,
   "id": "neither-train",
   "metadata": {},
   "outputs": [
    {
     "data": {
      "application/vnd.jupyter.widget-view+json": {
       "model_id": "8d22cbcc8b3e4f8986c465ae28b9da6f",
       "version_major": 2,
       "version_minor": 0
      },
      "text/plain": [
       "  0%|          | 0/300 [00:00<?, ?it/s]"
      ]
     },
     "metadata": {},
     "output_type": "display_data"
    },
    {
     "data": {
      "application/vnd.jupyter.widget-view+json": {
       "model_id": "073118c4491849b4b173a2f18a21c60a",
       "version_major": 2,
       "version_minor": 0
      },
      "text/plain": [
       "  0%|          | 0/300 [00:00<?, ?it/s]"
      ]
     },
     "metadata": {},
     "output_type": "display_data"
    },
    {
     "data": {
      "application/vnd.jupyter.widget-view+json": {
       "model_id": "3cb813394c2946aaa7d988296f01fa5e",
       "version_major": 2,
       "version_minor": 0
      },
      "text/plain": [
       "  0%|          | 0/300 [00:00<?, ?it/s]"
      ]
     },
     "metadata": {},
     "output_type": "display_data"
    },
    {
     "name": "stderr",
     "output_type": "stream",
     "text": [
      "\u001b[32m[I 2021-09-17 12:03:32,271]\u001b[0m A new study created in memory with name: no-name-0444ac95-7572-44e2-8419-846cbac274ca\u001b[0m\n",
      "\u001b[32m[I 2021-09-17 12:03:51,881]\u001b[0m Trial 0 finished with value: -0.15474322405709606 and parameters: {'th': 0.2604584383854186, 'ps': 0.6927663132468188}. Best is trial 0 with value: -0.15474322405709606.\u001b[0m\n",
      "\u001b[32m[I 2021-09-17 12:04:14,227]\u001b[0m Trial 1 finished with value: -0.10594050139593864 and parameters: {'th': 0.34764175889230753, 'ps': 0.3445239071416411}. Best is trial 0 with value: -0.15474322405709606.\u001b[0m\n",
      "\u001b[32m[I 2021-09-17 12:04:24,844]\u001b[0m Trial 2 finished with value: -0.333281647156511 and parameters: {'th': 0.16774441704114512, 'ps': 1.058708129030902}. Best is trial 2 with value: -0.333281647156511.\u001b[0m\n",
      "\u001b[32m[I 2021-09-17 12:04:32,081]\u001b[0m Trial 3 finished with value: -0.14364713532819529 and parameters: {'th': 0.48471157845729806, 'ps': 0.13452343949822448}. Best is trial 2 with value: -0.333281647156511.\u001b[0m\n",
      "\u001b[32m[I 2021-09-17 12:04:40,756]\u001b[0m Trial 4 finished with value: -0.22241068431809827 and parameters: {'th': 0.3770936981829184, 'ps': 0.6681178269492528}. Best is trial 2 with value: -0.333281647156511.\u001b[0m\n",
      "\u001b[32m[I 2021-09-17 12:05:44,064]\u001b[0m Trial 5 finished with value: -0.05986298601670631 and parameters: {'th': 0.12353489410963486, 'ps': 0.5690445270535542}. Best is trial 2 with value: -0.333281647156511.\u001b[0m\n",
      "\u001b[32m[I 2021-09-17 12:05:54,358]\u001b[0m Trial 6 finished with value: -0.21247742332323166 and parameters: {'th': 0.35348916373169803, 'ps': 0.6554169914134302}. Best is trial 2 with value: -0.333281647156511.\u001b[0m\n",
      "\u001b[32m[I 2021-09-17 12:06:23,447]\u001b[0m Trial 7 finished with value: -0.11970481765499234 and parameters: {'th': 0.21162314553008846, 'ps': 0.7760629167962759}. Best is trial 2 with value: -0.333281647156511.\u001b[0m\n",
      "\u001b[32m[I 2021-09-17 12:06:33,285]\u001b[0m Trial 8 finished with value: -0.1360465108921227 and parameters: {'th': 0.44620125469605976, 'ps': 0.4585985832934979}. Best is trial 2 with value: -0.333281647156511.\u001b[0m\n",
      "\u001b[32m[I 2021-09-17 12:07:01,875]\u001b[0m Trial 9 finished with value: -0.09243006704327464 and parameters: {'th': 0.31358822198294845, 'ps': 0.12260380580414663}. Best is trial 2 with value: -0.333281647156511.\u001b[0m\n",
      "\u001b[32m[I 2021-09-17 12:07:23,227]\u001b[0m Trial 10 finished with value: -0.16933249185219482 and parameters: {'th': 0.10107882187336714, 'ps': 1.2320608364491004}. Best is trial 2 with value: -0.333281647156511.\u001b[0m\n",
      "\u001b[32m[I 2021-09-17 12:07:25,859]\u001b[0m Trial 11 finished with value: -0.5348904164765395 and parameters: {'th': 0.41256821715042447, 'ps': 1.0884711047914}. Best is trial 11 with value: -0.5348904164765395.\u001b[0m\n",
      "\u001b[32m[I 2021-09-17 12:07:33,569]\u001b[0m Trial 12 finished with value: -0.42563580441876087 and parameters: {'th': 0.2038280204021918, 'ps': 1.1490311223249685}. Best is trial 11 with value: -0.5348904164765395.\u001b[0m\n",
      "\u001b[32m[I 2021-09-17 12:07:39,249]\u001b[0m Trial 13 finished with value: -0.5163521132839696 and parameters: {'th': 0.24786223613252553, 'ps': 1.380847195478515}. Best is trial 11 with value: -0.5348904164765395.\u001b[0m\n",
      "\u001b[32m[I 2021-09-17 12:07:41,928]\u001b[0m Trial 14 finished with value: -0.5415590522896403 and parameters: {'th': 0.40726459327057596, 'ps': 1.443075020346435}. Best is trial 14 with value: -0.5415590522896403.\u001b[0m\n",
      "\u001b[32m[I 2021-09-17 12:07:48,526]\u001b[0m Trial 15 finished with value: -0.23586166372181383 and parameters: {'th': 0.4150869236414838, 'ps': 0.936528624484976}. Best is trial 14 with value: -0.5415590522896403.\u001b[0m\n",
      "\u001b[32m[I 2021-09-17 12:07:51,121]\u001b[0m Trial 16 finished with value: -0.5263208630093525 and parameters: {'th': 0.41844416274553864, 'ps': 1.4688928379286945}. Best is trial 14 with value: -0.5415590522896403.\u001b[0m\n",
      "\u001b[32m[I 2021-09-17 12:07:53,206]\u001b[0m Trial 17 finished with value: -0.41722799719885695 and parameters: {'th': 0.4929717992204065, 'ps': 1.2665232639297457}. Best is trial 14 with value: -0.5415590522896403.\u001b[0m\n",
      "\u001b[32m[I 2021-09-17 12:08:00,931]\u001b[0m Trial 18 finished with value: -0.2291459574191761 and parameters: {'th': 0.3942380640080889, 'ps': 0.9503185765830278}. Best is trial 14 with value: -0.5415590522896403.\u001b[0m\n",
      "\u001b[32m[I 2021-09-17 12:08:03,286]\u001b[0m Trial 19 finished with value: -0.4846412904351706 and parameters: {'th': 0.44703475756473987, 'ps': 1.345875326292297}. Best is trial 14 with value: -0.5415590522896403.\u001b[0m\n",
      "\u001b[32m[I 2021-09-17 12:08:07,144]\u001b[0m Trial 20 finished with value: -0.5851395634624045 and parameters: {'th': 0.317919795167786, 'ps': 1.484062595780651}. Best is trial 20 with value: -0.5851395634624045.\u001b[0m\n",
      "\u001b[32m[I 2021-09-17 12:08:11,053]\u001b[0m Trial 21 finished with value: -0.5834895186457579 and parameters: {'th': 0.3148559038368788, 'ps': 1.4823388755688522}. Best is trial 20 with value: -0.5851395634624045.\u001b[0m\n",
      "\u001b[32m[I 2021-09-17 12:08:15,327]\u001b[0m Trial 22 finished with value: -0.5763382377604618 and parameters: {'th': 0.296769297908611, 'ps': 1.4427316106900683}. Best is trial 20 with value: -0.5851395634624045.\u001b[0m\n",
      "\u001b[32m[I 2021-09-17 12:08:19,552]\u001b[0m Trial 23 finished with value: -0.580145999362863 and parameters: {'th': 0.3050986862373175, 'ps': 1.301059575003857}. Best is trial 20 with value: -0.5851395634624045.\u001b[0m\n",
      "\u001b[32m[I 2021-09-17 12:08:23,816]\u001b[0m Trial 24 finished with value: -0.5786198112711547 and parameters: {'th': 0.3021979524492944, 'ps': 1.2380714368826093}. Best is trial 20 with value: -0.5851395634624045.\u001b[0m\n",
      "\u001b[32m[I 2021-09-17 12:08:29,081]\u001b[0m Trial 25 finished with value: -0.5460734009955309 and parameters: {'th': 0.2667821662762129, 'ps': 1.3324802100396473}. Best is trial 20 with value: -0.5851395634624045.\u001b[0m\n",
      "\u001b[32m[I 2021-09-17 12:08:32,803]\u001b[0m Trial 26 finished with value: -0.5886926292792591 and parameters: {'th': 0.3305963074193727, 'ps': 1.4877365551370296}. Best is trial 26 with value: -0.5886926292792591.\u001b[0m\n",
      "\u001b[32m[I 2021-09-17 12:08:36,460]\u001b[0m Trial 27 finished with value: -0.5861264584290521 and parameters: {'th': 0.34096483261793636, 'ps': 1.148897590075301}. Best is trial 26 with value: -0.5886926292792591.\u001b[0m\n",
      "\u001b[32m[I 2021-09-17 12:08:47,542]\u001b[0m Trial 28 finished with value: -0.20738370388273186 and parameters: {'th': 0.3437702169035674, 'ps': 0.9380817808597841}. Best is trial 26 with value: -0.5886926292792591.\u001b[0m\n",
      "\u001b[32m[I 2021-09-17 12:08:53,292]\u001b[0m Trial 29 finished with value: -0.529411757620133 and parameters: {'th': 0.25571049672940216, 'ps': 1.1416772439130527}. Best is trial 26 with value: -0.5886926292792591.\u001b[0m\n",
      "\u001b[32m[I 2021-09-17 12:08:58,458]\u001b[0m Trial 30 finished with value: -0.5507235966247438 and parameters: {'th': 0.27124967087693896, 'ps': 1.2056796703074073}. Best is trial 26 with value: -0.5886926292792591.\u001b[0m\n",
      "\u001b[32m[I 2021-09-17 12:09:02,464]\u001b[0m Trial 31 finished with value: -0.5869329906461423 and parameters: {'th': 0.3237043651386306, 'ps': 1.4980814755560523}. Best is trial 26 with value: -0.5886926292792591.\u001b[0m\n",
      "\u001b[32m[I 2021-09-17 12:09:05,759]\u001b[0m Trial 32 finished with value: -0.5795135958862021 and parameters: {'th': 0.3649913235966749, 'ps': 1.468327155390492}. Best is trial 26 with value: -0.5886926292792591.\u001b[0m\n",
      "\u001b[32m[I 2021-09-17 12:09:09,437]\u001b[0m Trial 33 finished with value: -0.586932150901954 and parameters: {'th': 0.33952829255755, 'ps': 1.3533058896473538}. Best is trial 26 with value: -0.5886926292792591.\u001b[0m\n",
      "\u001b[32m[I 2021-09-17 12:09:13,203]\u001b[0m Trial 34 finished with value: -0.5878684222491511 and parameters: {'th': 0.3351885620829342, 'ps': 1.3710560745069333}. Best is trial 26 with value: -0.5886926292792591.\u001b[0m\n",
      "\u001b[32m[I 2021-09-17 12:09:16,937]\u001b[0m Trial 35 finished with value: -0.5872485992768746 and parameters: {'th': 0.33604398536645447, 'ps': 1.3744563709805604}. Best is trial 26 with value: -0.5886926292792591.\u001b[0m\n",
      "\u001b[32m[I 2021-09-17 12:09:34,970]\u001b[0m Trial 36 finished with value: -0.11494583239630682 and parameters: {'th': 0.372509629624469, 'ps': 0.2439715772555202}. Best is trial 26 with value: -0.5886926292792591.\u001b[0m\n",
      "\u001b[32m[I 2021-09-17 12:09:39,733]\u001b[0m Trial 37 finished with value: -0.5654387456508124 and parameters: {'th': 0.28561999397052207, 'ps': 1.3985132058076402}. Best is trial 26 with value: -0.5886926292792591.\u001b[0m\n",
      "\u001b[32m[I 2021-09-17 12:09:42,812]\u001b[0m Trial 38 finished with value: -0.5644006218841138 and parameters: {'th': 0.3827192655398324, 'ps': 1.032295840889989}. Best is trial 26 with value: -0.5886926292792591.\u001b[0m\n"
     ]
    },
    {
     "name": "stderr",
     "output_type": "stream",
     "text": [
      "\u001b[32m[I 2021-09-17 12:09:49,306]\u001b[0m Trial 39 finished with value: -0.4948711625977389 and parameters: {'th': 0.23587166208375115, 'ps': 1.2903695273003868}. Best is trial 26 with value: -0.5886926292792591.\u001b[0m\n",
      "\u001b[32m[I 2021-09-17 12:09:53,099]\u001b[0m Trial 40 finished with value: -0.5885045678449546 and parameters: {'th': 0.3320012361674086, 'ps': 1.4071281067360788}. Best is trial 26 with value: -0.5886926292792591.\u001b[0m\n",
      "\u001b[32m[I 2021-09-17 12:09:57,020]\u001b[0m Trial 41 finished with value: -0.5866276542143308 and parameters: {'th': 0.32588471649569145, 'ps': 1.3837917416466752}. Best is trial 26 with value: -0.5886926292792591.\u001b[0m\n",
      "\u001b[32m[I 2021-09-17 12:10:00,426]\u001b[0m Trial 42 finished with value: -0.5803248992721138 and parameters: {'th': 0.36400502449412986, 'ps': 1.398367870670909}. Best is trial 26 with value: -0.5886926292792591.\u001b[0m\n"
     ]
    },
    {
     "ename": "KeyboardInterrupt",
     "evalue": "",
     "output_type": "error",
     "traceback": [
      "\u001b[0;31m---------------------------------------------------------------------------\u001b[0m",
      "\u001b[0;31mKeyboardInterrupt\u001b[0m                         Traceback (most recent call last)",
      "\u001b[0;32m/tmp/ipykernel_33167/536328330.py\u001b[0m in \u001b[0;36m<module>\u001b[0;34m\u001b[0m\n\u001b[1;32m     18\u001b[0m \u001b[0;34m\u001b[0m\u001b[0m\n\u001b[1;32m     19\u001b[0m \u001b[0mstudy\u001b[0m \u001b[0;34m=\u001b[0m \u001b[0moptuna\u001b[0m\u001b[0;34m.\u001b[0m\u001b[0mcreate_study\u001b[0m\u001b[0;34m(\u001b[0m\u001b[0;34m)\u001b[0m\u001b[0;34m\u001b[0m\u001b[0;34m\u001b[0m\u001b[0m\n\u001b[0;32m---> 20\u001b[0;31m \u001b[0mstudy\u001b[0m\u001b[0;34m.\u001b[0m\u001b[0moptimize\u001b[0m\u001b[0;34m(\u001b[0m\u001b[0mobjective\u001b[0m\u001b[0;34m,\u001b[0m \u001b[0mn_trials\u001b[0m\u001b[0;34m=\u001b[0m\u001b[0;36m200\u001b[0m\u001b[0;34m)\u001b[0m\u001b[0;34m\u001b[0m\u001b[0;34m\u001b[0m\u001b[0m\n\u001b[0m\u001b[1;32m     21\u001b[0m \u001b[0;34m\u001b[0m\u001b[0m\n\u001b[1;32m     22\u001b[0m \u001b[0mprint\u001b[0m\u001b[0;34m(\u001b[0m\u001b[0mstudy\u001b[0m\u001b[0;34m.\u001b[0m\u001b[0mbest_params\u001b[0m\u001b[0;34m)\u001b[0m\u001b[0;34m\u001b[0m\u001b[0;34m\u001b[0m\u001b[0m\n",
      "\u001b[0;32m~/anaconda3/envs/decode_fish_dev2/lib/python3.7/site-packages/optuna/study/study.py\u001b[0m in \u001b[0;36moptimize\u001b[0;34m(self, func, n_trials, timeout, n_jobs, catch, callbacks, gc_after_trial, show_progress_bar)\u001b[0m\n\u001b[1;32m    407\u001b[0m             \u001b[0mcallbacks\u001b[0m\u001b[0;34m=\u001b[0m\u001b[0mcallbacks\u001b[0m\u001b[0;34m,\u001b[0m\u001b[0;34m\u001b[0m\u001b[0;34m\u001b[0m\u001b[0m\n\u001b[1;32m    408\u001b[0m             \u001b[0mgc_after_trial\u001b[0m\u001b[0;34m=\u001b[0m\u001b[0mgc_after_trial\u001b[0m\u001b[0;34m,\u001b[0m\u001b[0;34m\u001b[0m\u001b[0;34m\u001b[0m\u001b[0m\n\u001b[0;32m--> 409\u001b[0;31m             \u001b[0mshow_progress_bar\u001b[0m\u001b[0;34m=\u001b[0m\u001b[0mshow_progress_bar\u001b[0m\u001b[0;34m,\u001b[0m\u001b[0;34m\u001b[0m\u001b[0;34m\u001b[0m\u001b[0m\n\u001b[0m\u001b[1;32m    410\u001b[0m         )\n\u001b[1;32m    411\u001b[0m \u001b[0;34m\u001b[0m\u001b[0m\n",
      "\u001b[0;32m~/anaconda3/envs/decode_fish_dev2/lib/python3.7/site-packages/optuna/study/_optimize.py\u001b[0m in \u001b[0;36m_optimize\u001b[0;34m(study, func, n_trials, timeout, n_jobs, catch, callbacks, gc_after_trial, show_progress_bar)\u001b[0m\n\u001b[1;32m     74\u001b[0m                 \u001b[0mreseed_sampler_rng\u001b[0m\u001b[0;34m=\u001b[0m\u001b[0;32mFalse\u001b[0m\u001b[0;34m,\u001b[0m\u001b[0;34m\u001b[0m\u001b[0;34m\u001b[0m\u001b[0m\n\u001b[1;32m     75\u001b[0m                 \u001b[0mtime_start\u001b[0m\u001b[0;34m=\u001b[0m\u001b[0;32mNone\u001b[0m\u001b[0;34m,\u001b[0m\u001b[0;34m\u001b[0m\u001b[0;34m\u001b[0m\u001b[0m\n\u001b[0;32m---> 76\u001b[0;31m                 \u001b[0mprogress_bar\u001b[0m\u001b[0;34m=\u001b[0m\u001b[0mprogress_bar\u001b[0m\u001b[0;34m,\u001b[0m\u001b[0;34m\u001b[0m\u001b[0;34m\u001b[0m\u001b[0m\n\u001b[0m\u001b[1;32m     77\u001b[0m             )\n\u001b[1;32m     78\u001b[0m         \u001b[0;32melse\u001b[0m\u001b[0;34m:\u001b[0m\u001b[0;34m\u001b[0m\u001b[0;34m\u001b[0m\u001b[0m\n",
      "\u001b[0;32m~/anaconda3/envs/decode_fish_dev2/lib/python3.7/site-packages/optuna/study/_optimize.py\u001b[0m in \u001b[0;36m_optimize_sequential\u001b[0;34m(study, func, n_trials, timeout, catch, callbacks, gc_after_trial, reseed_sampler_rng, time_start, progress_bar)\u001b[0m\n\u001b[1;32m    161\u001b[0m \u001b[0;34m\u001b[0m\u001b[0m\n\u001b[1;32m    162\u001b[0m         \u001b[0;32mtry\u001b[0m\u001b[0;34m:\u001b[0m\u001b[0;34m\u001b[0m\u001b[0;34m\u001b[0m\u001b[0m\n\u001b[0;32m--> 163\u001b[0;31m             \u001b[0mtrial\u001b[0m \u001b[0;34m=\u001b[0m \u001b[0m_run_trial\u001b[0m\u001b[0;34m(\u001b[0m\u001b[0mstudy\u001b[0m\u001b[0;34m,\u001b[0m \u001b[0mfunc\u001b[0m\u001b[0;34m,\u001b[0m \u001b[0mcatch\u001b[0m\u001b[0;34m)\u001b[0m\u001b[0;34m\u001b[0m\u001b[0;34m\u001b[0m\u001b[0m\n\u001b[0m\u001b[1;32m    164\u001b[0m         \u001b[0;32mexcept\u001b[0m \u001b[0mException\u001b[0m\u001b[0;34m:\u001b[0m\u001b[0;34m\u001b[0m\u001b[0;34m\u001b[0m\u001b[0m\n\u001b[1;32m    165\u001b[0m             \u001b[0;32mraise\u001b[0m\u001b[0;34m\u001b[0m\u001b[0;34m\u001b[0m\u001b[0m\n",
      "\u001b[0;32m~/anaconda3/envs/decode_fish_dev2/lib/python3.7/site-packages/optuna/study/_optimize.py\u001b[0m in \u001b[0;36m_run_trial\u001b[0;34m(study, func, catch)\u001b[0m\n\u001b[1;32m    211\u001b[0m \u001b[0;34m\u001b[0m\u001b[0m\n\u001b[1;32m    212\u001b[0m     \u001b[0;32mtry\u001b[0m\u001b[0;34m:\u001b[0m\u001b[0;34m\u001b[0m\u001b[0;34m\u001b[0m\u001b[0m\n\u001b[0;32m--> 213\u001b[0;31m         \u001b[0mvalue_or_values\u001b[0m \u001b[0;34m=\u001b[0m \u001b[0mfunc\u001b[0m\u001b[0;34m(\u001b[0m\u001b[0mtrial\u001b[0m\u001b[0;34m)\u001b[0m\u001b[0;34m\u001b[0m\u001b[0;34m\u001b[0m\u001b[0m\n\u001b[0m\u001b[1;32m    214\u001b[0m     \u001b[0;32mexcept\u001b[0m \u001b[0mexceptions\u001b[0m\u001b[0;34m.\u001b[0m\u001b[0mTrialPruned\u001b[0m \u001b[0;32mas\u001b[0m \u001b[0me\u001b[0m\u001b[0;34m:\u001b[0m\u001b[0;34m\u001b[0m\u001b[0;34m\u001b[0m\u001b[0m\n\u001b[1;32m    215\u001b[0m         \u001b[0;31m# TODO(mamu): Handle multi-objective cases.\u001b[0m\u001b[0;34m\u001b[0m\u001b[0;34m\u001b[0m\u001b[0;34m\u001b[0m\u001b[0m\n",
      "\u001b[0;32m/tmp/ipykernel_33167/536328330.py\u001b[0m in \u001b[0;36mobjective\u001b[0;34m(trial)\u001b[0m\n\u001b[1;32m     13\u001b[0m     \u001b[0mbard_df\u001b[0m \u001b[0;34m=\u001b[0m \u001b[0mexclude_borders\u001b[0m\u001b[0;34m(\u001b[0m\u001b[0mbard_df\u001b[0m\u001b[0;34m,\u001b[0m \u001b[0mborder_size_zyx\u001b[0m\u001b[0;34m=\u001b[0m\u001b[0;34m[\u001b[0m\u001b[0;36m0\u001b[0m\u001b[0;34m,\u001b[0m\u001b[0;36m500\u001b[0m\u001b[0;34m,\u001b[0m\u001b[0;36m500\u001b[0m\u001b[0;34m]\u001b[0m\u001b[0;34m,\u001b[0m \u001b[0mimg_size\u001b[0m\u001b[0;34m=\u001b[0m\u001b[0;34m[\u001b[0m\u001b[0mcrop_sz\u001b[0m\u001b[0;34m*\u001b[0m\u001b[0;36m100\u001b[0m\u001b[0;34m,\u001b[0m\u001b[0mcrop_sz\u001b[0m\u001b[0;34m*\u001b[0m\u001b[0;36m100\u001b[0m\u001b[0;34m,\u001b[0m\u001b[0mcrop_sz\u001b[0m\u001b[0;34m*\u001b[0m\u001b[0;36m100\u001b[0m\u001b[0;34m]\u001b[0m\u001b[0;34m)\u001b[0m\u001b[0;34m\u001b[0m\u001b[0;34m\u001b[0m\u001b[0m\n\u001b[1;32m     14\u001b[0m \u001b[0;34m\u001b[0m\u001b[0m\n\u001b[0;32m---> 15\u001b[0;31m     \u001b[0mperf\u001b[0m\u001b[0;34m,\u001b[0m \u001b[0mmatches\u001b[0m\u001b[0;34m,\u001b[0m \u001b[0m_\u001b[0m  \u001b[0;34m=\u001b[0m \u001b[0mmatching\u001b[0m\u001b[0;34m(\u001b[0m\u001b[0mgt_df\u001b[0m\u001b[0;34m,\u001b[0m \u001b[0mbard_df\u001b[0m\u001b[0;34m,\u001b[0m \u001b[0mmatch_genes\u001b[0m\u001b[0;34m=\u001b[0m\u001b[0;32mTrue\u001b[0m\u001b[0;34m,\u001b[0m \u001b[0mprint_res\u001b[0m\u001b[0;34m=\u001b[0m\u001b[0;32mFalse\u001b[0m\u001b[0;34m)\u001b[0m\u001b[0;34m\u001b[0m\u001b[0;34m\u001b[0m\u001b[0m\n\u001b[0m\u001b[1;32m     16\u001b[0m \u001b[0;34m\u001b[0m\u001b[0m\n\u001b[1;32m     17\u001b[0m     \u001b[0;32mreturn\u001b[0m \u001b[0;34m-\u001b[0m\u001b[0mperf\u001b[0m\u001b[0;34m[\u001b[0m\u001b[0;34m'jaccard'\u001b[0m\u001b[0;34m]\u001b[0m\u001b[0;34m\u001b[0m\u001b[0;34m\u001b[0m\u001b[0m\n",
      "\u001b[0;32m~/Dropbox (mackelab)/Artur/WorkDB/deepstorm/decode_fish/decode_fish/funcs/evaluation.py\u001b[0m in \u001b[0;36mmatching\u001b[0;34m(target_df, pred_df, tolerance, print_res, eff_const, match_genes)\u001b[0m\n\u001b[1;32m     88\u001b[0m                 \u001b[0;32mfor\u001b[0m \u001b[0md\u001b[0m\u001b[0;34m,\u001b[0m\u001b[0mp\u001b[0m\u001b[0;34m,\u001b[0m\u001b[0mt\u001b[0m \u001b[0;32min\u001b[0m \u001b[0mzip\u001b[0m\u001b[0;34m(\u001b[0m\u001b[0mdists\u001b[0m\u001b[0;34m,\u001b[0m \u001b[0mp_inds\u001b[0m\u001b[0;34m,\u001b[0m \u001b[0mt_inds\u001b[0m\u001b[0;34m)\u001b[0m\u001b[0;34m:\u001b[0m\u001b[0;34m\u001b[0m\u001b[0;34m\u001b[0m\u001b[0m\n\u001b[1;32m     89\u001b[0m \u001b[0;34m\u001b[0m\u001b[0m\n\u001b[0;32m---> 90\u001b[0;31m                     \u001b[0;32mif\u001b[0m \u001b[0mp\u001b[0m \u001b[0;32mnot\u001b[0m \u001b[0;32min\u001b[0m \u001b[0mu_p_inds\u001b[0m \u001b[0;32mand\u001b[0m \u001b[0mt\u001b[0m \u001b[0;32mnot\u001b[0m \u001b[0;32min\u001b[0m \u001b[0mu_t_inds\u001b[0m\u001b[0;34m:\u001b[0m\u001b[0;34m\u001b[0m\u001b[0;34m\u001b[0m\u001b[0m\n\u001b[0m\u001b[1;32m     91\u001b[0m \u001b[0;34m\u001b[0m\u001b[0m\n\u001b[1;32m     92\u001b[0m                         \u001b[0;32mif\u001b[0m \u001b[0mmatch_genes\u001b[0m\u001b[0;34m:\u001b[0m\u001b[0;34m\u001b[0m\u001b[0;34m\u001b[0m\u001b[0m\n",
      "\u001b[0;31mKeyboardInterrupt\u001b[0m: "
     ]
    }
   ],
   "source": [
    "evd_tensors = get_bardensr_tensor(xsimn, code_ref, n_iter=int(300), l1_pen=0.01)\n",
    "\n",
    "def objective(trial):\n",
    "    \n",
    "#     n_iter = 300\n",
    "#     l1_pen = trial.suggest_uniform('l1_pen', 0., 0.1)\n",
    "    th     = trial.suggest_uniform('th', 0.1, 0.5)\n",
    "    ps     = trial.suggest_uniform('ps', 0.1, 1.5)\n",
    "    \n",
    "#     evd_tensors = get_bardensr_tensor(xsimn, code_ref, n_iter=int(n_iter), l1_pen=l1_pen)\n",
    "#     print(evd_tensors[0].mean())\n",
    "    bard_df = get_bardensr_df(evd_tensors, th, ps)\n",
    "    bard_df = exclude_borders(bard_df, border_size_zyx=[0,500,500], img_size=[crop_sz*100,crop_sz*100,crop_sz*100])\n",
    "    \n",
    "    perf, matches, _  = matching(gt_df, bard_df, match_genes=True, print_res=False) \n",
    "    \n",
    "    return -perf['jaccard']\n",
    "\n",
    "study = optuna.create_study()\n",
    "study.optimize(objective, n_trials=200)\n",
    "\n",
    "print(study.best_params)\n",
    "print('Jaccard ', -study.best_value)"
   ]
  },
  {
   "cell_type": "code",
   "execution_count": null,
   "id": "corresponding-lewis",
   "metadata": {},
   "outputs": [
    {
     "name": "stdout",
     "output_type": "stream",
     "text": [
      "Converted 00_models.ipynb.\n",
      "Converted 01_psf.ipynb.\n",
      "Converted 02_microscope.ipynb.\n",
      "Converted 03_noise.ipynb.\n",
      "Converted 04_pointsource.ipynb.\n",
      "Converted 05_gmm_loss.ipynb.\n",
      "Converted 06_plotting.ipynb.\n",
      "Converted 07_file_io.ipynb.\n",
      "Converted 08_dataset.ipynb.\n",
      "Converted 09_output_trafo.ipynb.\n",
      "Converted 10_evaluation.ipynb.\n",
      "Converted 11_emitter_io.ipynb.\n",
      "Converted 12_utils.ipynb.\n",
      "Converted 13_train.ipynb.\n",
      "Converted 15_fit_psf.ipynb.\n",
      "Converted 16_visualization.ipynb.\n",
      "Converted 17_eval_routines.ipynb.\n",
      "Converted 18_predict_funcs.ipynb.\n",
      "Converted 19_MERFISH_routines.ipynb.\n",
      "Converted 20_MERFISH_visualization.ipynb.\n",
      "Converted 22_MERFISH_codenet.ipynb.\n",
      "Converted 23_MERFISH_comparison.ipynb.\n",
      "Converted index.ipynb.\n"
     ]
    }
   ],
   "source": [
    "!nbdev_build_lib"
   ]
  },
  {
   "cell_type": "code",
   "execution_count": null,
   "id": "corporate-governor",
   "metadata": {},
   "outputs": [],
   "source": []
  }
 ],
 "metadata": {
  "kernelspec": {
   "display_name": "Python [conda env:decode_fish_dev2]",
   "language": "python",
   "name": "conda-env-decode_fish_dev2-py"
  }
 },
 "nbformat": 4,
 "nbformat_minor": 5
}
