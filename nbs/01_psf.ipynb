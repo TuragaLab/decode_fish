{
 "cells": [
  {
   "cell_type": "code",
   "execution_count": null,
   "metadata": {},
   "outputs": [],
   "source": [
    "# default_exp engine.psf"
   ]
  },
  {
   "cell_type": "code",
   "execution_count": null,
   "metadata": {},
   "outputs": [],
   "source": [
    "%load_ext autoreload\n",
    "%autoreload 2"
   ]
  },
  {
   "cell_type": "markdown",
   "metadata": {},
   "source": [
    "# PSF model\n",
    "\n",
    "> Definition of the classes and functions we use to model PSFs"
   ]
  },
  {
   "cell_type": "code",
   "execution_count": null,
   "metadata": {},
   "outputs": [],
   "source": [
    "#export\n",
    "from decode_fish.imports import *\n",
    "import torch.nn as nn\n",
    "from torch.jit import script\n",
    "import torch.nn.functional as F\n",
    "from decode_fish.funcs.utils import *"
   ]
  },
  {
   "cell_type": "code",
   "execution_count": null,
   "metadata": {},
   "outputs": [],
   "source": [
    "#export\n",
    "class LinearInterpolatedPSF(nn.Module):\n",
    "    \"\"\" Stores a PSF volume parameter and enables linear subpixel interpolation\n",
    "\n",
    "    Args:\n",
    "        size_zyx: size of the psf volume in pixels\n",
    "        n_cols: number of colorchannels (and therefore PSFs)\n",
    "        device: 'cuda' or 'cpu'\n",
    "\n",
    "    ToDo:\n",
    "        Eventually remove unneeded losses. \n",
    "    \"\"\"\n",
    "    \n",
    "    def __init__(self, size_zyx=[21,21,21], n_cols=1, device='cuda'):\n",
    "        super().__init__()\n",
    "        \n",
    "        self.psf_size = list(np.array(size_zyx).astype('int'))\n",
    "        self.n_cols = n_cols\n",
    "        # +- /sz so that the values correspond to the pixel centers\n",
    "        v = [torch.linspace(-1+1/sz, 1-1/sz, int(sz)) for sz in self.psf_size]\n",
    "\n",
    "        # Buffers are not optimized\n",
    "        self.register_buffer('x', v[2])\n",
    "        self.register_buffer('y', v[1])\n",
    "        self.register_buffer('z', v[0])\n",
    "        self.register_buffer('z_2d', torch.zeros(1))\n",
    "        self.device=device\n",
    "        self.psf_volume = nn.Parameter(0.01*torch.rand(self.n_cols, *self.psf_size), requires_grad=True)\n",
    "        self.forward_nonlin = torch.nn.Identity() # Could be used if one want's to save the psf volume in log space\n",
    "        \n",
    "    def forward(self, x_offset_val, y_offset_val, z_offset_val, z_inds=None, c_inds=None):\n",
    "        \"\"\" Returns the PSF volume for a number of given subpixel shift.\n",
    "        \n",
    "        Args:\n",
    "            x_offset_val, y_offset_val, z_offset_val: Vector of shifts in x,y,z\n",
    "            z_inds: indices of the psf_slices used (only for 2D data)\n",
    "            c_inds: colors indices\n",
    "            \n",
    "        Returns:\n",
    "            PSF volumes/slices shifted by x,y,z\n",
    "        \"\"\"\n",
    "\n",
    "        N_em = x_offset_val.shape[0]\n",
    "        # Scale offsets by size. Factor of two because range [-1,1]\n",
    "        x_offset = 2 * x_offset_val.view(-1) / self.psf_size[2]  \n",
    "        y_offset = 2 * y_offset_val.view(-1) / self.psf_size[1]\n",
    "        if z_inds is None:\n",
    "            # Treat z like the other dimensions\n",
    "            z_offset = 2 * z_offset_val.view(-1) / self.psf_size[0]\n",
    "            z_g = self.z.to(self.device)\n",
    "            vol = self.forward_nonlin(self.psf_volume).expand(N_em, -1, -1, -1, -1).to(self.device)\n",
    "        else:\n",
    "            \n",
    "            z_offset = 2 * z_offset_val.view(-1) / 3\n",
    "            z_g = self.z_2d.to(self.device)\n",
    "\n",
    "            # We select a 3 pixel wide volume around the indexed z slice for interpolation\n",
    "            vol = torch.cat([self.psf_volume[None,:,[z-1 for z in z_inds]], \n",
    "                             self.psf_volume[None,:,z_inds], \n",
    "                             self.psf_volume[None,:,[z+1 for z in z_inds]]], dim=0).transpose(0,2).to(self.device)\n",
    "            \n",
    "        if c_inds is not None:\n",
    "            vol = vol[torch.arange(len(c_inds)),c_inds]\n",
    "            vol = vol[:,None]\n",
    "        \n",
    "        # Create the grids\n",
    "        i_img, x_grid, y_grid, z_grid = torch.meshgrid(torch.arange(N_em, dtype=torch.float32).to(self.device), self.x.to(self.device), self.y.to(self.device), z_g)\n",
    "\n",
    "        # Shift the grids\n",
    "        x_grid = x_grid - x_offset[:, None, None, None]\n",
    "        y_grid = y_grid - y_offset[:, None, None, None]\n",
    "        z_grid = z_grid - z_offset[:, None, None, None]\n",
    "\n",
    "        m_grid = torch.stack([x_grid, y_grid, z_grid], -1)\n",
    "        psf_out = torch.nn.functional.grid_sample(vol, m_grid, align_corners = False)\n",
    "        \n",
    "        return psf_out.transpose(-3,-1)\n",
    "    \n",
    "    def get_com(self):\n",
    "        \"\"\" Returns the center of mass of the squared volume.\"\"\"\n",
    "            \n",
    "        x_grid, y_grid, z_grid = torch.meshgrid(torch.arange(self.psf_size[0]),torch.arange(self.psf_size[1]),torch.arange(self.psf_size[2]))\n",
    "        m_grid = torch.stack([x_grid, y_grid, z_grid], -1).to(self.device)\n",
    "        \n",
    "        vol = (self.forward_nonlin(self.psf_volume[0])**2).to(self.device)\n",
    "\n",
    "        zc = (m_grid[:,:,:,0] * vol).sum()/vol.sum()\n",
    "        yc = (m_grid[:,:,:,1] * vol).sum()/vol.sum()\n",
    "        xc = (m_grid[:,:,:,2] * vol).sum()/vol.sum()\n",
    "        \n",
    "        return zc, yc, xc\n",
    "    \n",
    "    def com_loss(self):\n",
    "        \"\"\" Returns the difference between the current CoM and the center of the volume.\n",
    "        \n",
    "        Used as a loss term during AE training to avoid drift of the PSF.\n",
    "        \"\"\"\n",
    "        \n",
    "        return torch.norm(torch.stack(self.get_com()) - torch.tensor(self.psf_size).to(self.device)//2, 2)\n",
    "    \n",
    "    def clip_loss(self):\n",
    "        \"\"\" Returns the 2 norm of negative values of the PSF volume. \"\"\"\n",
    "        return torch.norm(torch.nn.ReLU().forward(-self.psf_volume).sum(), 2)\n",
    "    \n",
    "    def sum_loss(self):\n",
    "        \"\"\" Returns the 1 norm of the PSF volume. \"\"\"\n",
    "        return torch.norm(self.forward_nonlin(self.psf_volume).sum(), 1)\n",
    "    \n",
    "    def l1_diff_norm(self, init_vol):\n",
    "        \"\"\" Returns the 1 norm of the difference to the initial volume. \"\"\"\n",
    "        return torch.linalg.norm((self.psf_volume - init_vol).reshape(-1), 1)"
   ]
  },
  {
   "cell_type": "code",
   "execution_count": null,
   "metadata": {},
   "outputs": [
    {
     "name": "stderr",
     "output_type": "stream",
     "text": [
      "/groups/turaga/home/speisera/anaconda3/envs/decode_fish_dev2/lib/python3.8/site-packages/torch/cuda/__init__.py:122: UserWarning: \n",
      "    Found GPU2 NVS 510 which is of cuda capability 3.0.\n",
      "    PyTorch no longer supports this GPU because it is too old.\n",
      "    The minimum cuda capability supported by this library is 3.7.\n",
      "    \n",
      "  warnings.warn(old_gpu_warn % (d, name, major, minor, min_arch // 10, min_arch % 10))\n"
     ]
    },
    {
     "data": {
      "text/plain": [
       "_IncompatibleKeys(missing_keys=['x', 'y', 'z', 'z_2d'], unexpected_keys=[])"
      ]
     },
     "execution_count": null,
     "metadata": {},
     "output_type": "execute_result"
    }
   ],
   "source": [
    "psf_state = torch.load('/groups/turaga/home/speisera/Mackebox/Artur/WorkDB/deepstorm/models/fishcod/msp300_smFISH/nb_run/msp300_smFISH_3_3/psf_init.pkl')\n",
    "shape_zyx = psf_state['psf_volume'][:,].shape[-3:]\n",
    "psf = LinearInterpolatedPSF(shape_zyx, n_cols=1)\n",
    "psf.load_state_dict({'psf_volume':psf_state['psf_volume']}, strict=False)"
   ]
  },
  {
   "cell_type": "code",
   "execution_count": null,
   "metadata": {},
   "outputs": [
    {
     "data": {
      "text/plain": [
       "torch.Size([1, 21, 21, 21])"
      ]
     },
     "execution_count": null,
     "metadata": {},
     "output_type": "execute_result"
    }
   ],
   "source": [
    "psf.psf_volume.shape"
   ]
  },
  {
   "cell_type": "code",
   "execution_count": null,
   "metadata": {},
   "outputs": [
    {
     "name": "stderr",
     "output_type": "stream",
     "text": [
      "/groups/turaga/home/speisera/anaconda3/envs/decode_fish_dev2/lib/python3.8/site-packages/torch/functional.py:568: UserWarning: torch.meshgrid: in an upcoming release, it will be required to pass the indexing argument. (Triggered internally at  ../aten/src/ATen/native/TensorShape.cpp:2228.)\n",
      "  return _VF.meshgrid(tensors, **kwargs)  # type: ignore[attr-defined]\n"
     ]
    },
    {
     "ename": "NameError",
     "evalue": "name 'cpu' is not defined",
     "output_type": "error",
     "traceback": [
      "\u001b[0;31m---------------------------------------------------------------------------\u001b[0m",
      "\u001b[0;31mNameError\u001b[0m                                 Traceback (most recent call last)",
      "Input \u001b[0;32mIn [7]\u001b[0m, in \u001b[0;36m<cell line: 5>\u001b[0;34m()\u001b[0m\n\u001b[1;32m      3\u001b[0m shifted_psf \u001b[38;5;241m=\u001b[39m psf(shift_xyz[\u001b[38;5;241m0\u001b[39m],shift_xyz[\u001b[38;5;241m1\u001b[39m],shift_xyz[\u001b[38;5;241m2\u001b[39m], [\u001b[38;5;241m7\u001b[39m,\u001b[38;5;241m6\u001b[39m,\u001b[38;5;241m4\u001b[39m,\u001b[38;5;241m2\u001b[39m])\n\u001b[1;32m      4\u001b[0m \u001b[38;5;66;03m# First output is the volume_shifted_psf 2 pixels to the left.\u001b[39;00m\n\u001b[0;32m----> 5\u001b[0m fig, ax \u001b[38;5;241m=\u001b[39m plot_3d_projections(\u001b[43mcpu\u001b[49m(shifted_psf)[\u001b[38;5;241m0\u001b[39m,\u001b[38;5;241m0\u001b[39m])\n\u001b[1;32m      6\u001b[0m ax[\u001b[38;5;241m0\u001b[39m]\u001b[38;5;241m.\u001b[39mplot([\u001b[38;5;241m10.5\u001b[39m\u001b[38;5;241m+\u001b[39mshift_xyz[\u001b[38;5;241m0\u001b[39m][\u001b[38;5;241m0\u001b[39m],\u001b[38;5;241m10.5\u001b[39m\u001b[38;5;241m+\u001b[39mshift_xyz[\u001b[38;5;241m0\u001b[39m][\u001b[38;5;241m0\u001b[39m]],[\u001b[38;5;241m0\u001b[39m,\u001b[38;5;241m20\u001b[39m], \u001b[38;5;124m'\u001b[39m\u001b[38;5;124mred\u001b[39m\u001b[38;5;124m'\u001b[39m) \n\u001b[1;32m      7\u001b[0m ax[\u001b[38;5;241m0\u001b[39m]\u001b[38;5;241m.\u001b[39mplot([\u001b[38;5;241m0\u001b[39m,\u001b[38;5;241m20\u001b[39m], [\u001b[38;5;241m10.5\u001b[39m\u001b[38;5;241m+\u001b[39mshift_xyz[\u001b[38;5;241m1\u001b[39m][\u001b[38;5;241m0\u001b[39m],\u001b[38;5;241m10.5\u001b[39m\u001b[38;5;241m+\u001b[39mshift_xyz[\u001b[38;5;241m1\u001b[39m][\u001b[38;5;241m0\u001b[39m]], \u001b[38;5;124m'\u001b[39m\u001b[38;5;124mred\u001b[39m\u001b[38;5;124m'\u001b[39m)\n",
      "\u001b[0;31mNameError\u001b[0m: name 'cpu' is not defined"
     ]
    }
   ],
   "source": [
    "from decode_fish.funcs.plotting import plot_3d_projections\n",
    "shift_xyz = torch.tensor([-2,0.,+2,0.]).cuda(),torch.tensor([-.5,0.,0.,0.]).cuda(),torch.tensor([0.,0.,0.,0.]).cuda()\n",
    "shifted_psf = psf(shift_xyz[0],shift_xyz[1],shift_xyz[2], [7,6,4,2])\n",
    "# First output is the volume_shifted_psf 2 pixels to the left.\n",
    "fig, ax = plot_3d_projections(cpu(shifted_psf)[0,0])\n",
    "ax[0].plot([10.5+shift_xyz[0][0],10.5+shift_xyz[0][0]],[0,20], 'red') \n",
    "ax[0].plot([0,20], [10.5+shift_xyz[1][0],10.5+shift_xyz[1][0]], 'red')\n",
    "shifted_psf.shape"
   ]
  },
  {
   "cell_type": "code",
   "execution_count": null,
   "metadata": {},
   "outputs": [],
   "source": [
    "#export\n",
    "def crop_psf(psf, extent_zyx):\n",
    "    \"\"\"Returns a cropped version of a PSF\"\"\"\n",
    "    cropped_vol = center_crop(psf.psf_volume, extent_zyx)\n",
    "    cropped_psf = LinearInterpolatedPSF(extent_zyx)\n",
    "    cropped_psf.load_state_dict({'psf_volume':cropped_vol}, strict=False)\n",
    "    return cropped_psf"
   ]
  },
  {
   "cell_type": "code",
   "execution_count": null,
   "metadata": {},
   "outputs": [],
   "source": [
    "cropped_psf = crop_psf(psf,[11,21,21])\n",
    "plot_3d_projections(cropped_psf.psf_volume)"
   ]
  },
  {
   "cell_type": "code",
   "execution_count": null,
   "metadata": {},
   "outputs": [],
   "source": [
    "!nbdev_build_lib"
   ]
  },
  {
   "cell_type": "code",
   "execution_count": null,
   "metadata": {},
   "outputs": [],
   "source": []
  }
 ],
 "metadata": {
  "kernelspec": {
   "display_name": "decode_fish_dev2",
   "language": "python",
   "name": "decode_fish_dev2"
  }
 },
 "nbformat": 4,
 "nbformat_minor": 4
}
