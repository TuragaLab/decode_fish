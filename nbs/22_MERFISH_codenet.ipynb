{
 "cells": [
  {
   "cell_type": "code",
   "execution_count": null,
   "id": "otherwise-vaccine",
   "metadata": {},
   "outputs": [],
   "source": [
    "# default_exp funcs.merfish_codenet"
   ]
  },
  {
   "cell_type": "code",
   "execution_count": null,
   "id": "designing-tournament",
   "metadata": {},
   "outputs": [],
   "source": [
    "%load_ext autoreload\n",
    "%autoreload 2"
   ]
  },
  {
   "cell_type": "code",
   "execution_count": null,
   "id": "radio-criminal",
   "metadata": {},
   "outputs": [
    {
     "name": "stderr",
     "output_type": "stream",
     "text": [
      "/groups/turaga/home/speisera/anaconda3/envs/decode_fish_dev/lib/python3.9/site-packages/torch/cuda/__init__.py:81: UserWarning: \n",
      "    Found GPU2 NVS 510 which is of cuda capability 3.0.\n",
      "    PyTorch no longer supports this GPU because it is too old.\n",
      "    The minimum cuda capability that we support is 3.5.\n",
      "    \n",
      "  warnings.warn(old_gpu_warn % (d, name, major, capability[1]))\n"
     ]
    }
   ],
   "source": [
    "# export\n",
    "from decode_fish.imports import *\n",
    "from decode_fish.funcs.file_io import *\n",
    "from decode_fish.funcs.emitter_io import *\n",
    "from decode_fish.funcs.utils import *\n",
    "from decode_fish.funcs.dataset import *\n",
    "from decode_fish.funcs.plotting import *\n",
    "from decode_fish.engine.noise import estimate_noise_scale\n",
    "import shutil\n",
    "from decode_fish.funcs.visualization import *\n",
    "from decode_fish.funcs.predict import predict\n",
    "import torch.nn as nn\n",
    "import torch.nn.functional as F\n",
    "import torch.tensor as T\n",
    "from decode_fish.funcs.predict import *\n",
    "\n",
    "from omegaconf import open_dict\n",
    "from hydra import compose, initialize\n",
    "from decode_fish.funcs.merfish_eval import *"
   ]
  },
  {
   "cell_type": "code",
   "execution_count": null,
   "id": "naughty-england",
   "metadata": {},
   "outputs": [],
   "source": [
    "# cfg = OmegaConf.load(f'/groups/turaga/home/speisera/Mackebox/Artur/WorkDB/deepstorm/models/fishcod/MERFISH_starfish/sweep_ci_13/start_mic:5000xpsf_noise:0.4/train.yaml')\n",
    "# cfg = OmegaConf.load(f'/groups/turaga/home/speisera/Mackebox/Artur/WorkDB/deepstorm/models/fishcod/MERFISH_starfish/sweep_ci_14/enabled:Truexsample_from_codebook:Truexpsf_noise:0.4/train.yaml')\n",
    "cfg = OmegaConf.load(f'/groups/turaga/home/speisera/Mackebox/Artur/WorkDB/deepstorm/models/fishcod/MERFISH_starfish/sweep_sl_11/seed:1xint_fac:0.1/train.yaml')\n",
    "csv_name = 'test'\n",
    "# cfg.foci.n_foci_avg = 0"
   ]
  },
  {
   "cell_type": "code",
   "execution_count": null,
   "id": "indian-victory",
   "metadata": {},
   "outputs": [],
   "source": [
    "# cfg.exp_type.pred_z=False\n",
    "# cfg.PSF.psf_extent_zyx=[1,21,21]\n",
    "# cfg.run_name = 'test'"
   ]
  },
  {
   "cell_type": "code",
   "execution_count": null,
   "id": "voluntary-routine",
   "metadata": {},
   "outputs": [
    {
     "name": "stdout",
     "output_type": "stream",
     "text": [
      "Crop size larger than volume in at least one dimension. Crop size changed to (1, 64, 64)\n",
      "1 volumes\n"
     ]
    }
   ],
   "source": [
    "cfg.foci.n_foci_avg = 0\n",
    "cfg.training.bs = 10\n",
    "cfg.PSF.n_cols = 1\n",
    "cfg.random_crop.crop_sz = 64\n",
    "model, post_proc, micro, img_3d, decode_dl = load_all(cfg)"
   ]
  },
  {
   "cell_type": "code",
   "execution_count": null,
   "id": "manufactured-youth",
   "metadata": {},
   "outputs": [
    {
     "name": "stdout",
     "output_type": "stream",
     "text": [
      "13832\n"
     ]
    }
   ],
   "source": [
    "from decode_fish.funcs.merfish_eval import *\n",
    "bench_df, code_ref, targets = get_benchmark()\n",
    "code_inds = np.stack([np.nonzero(c)[0] for c in code_ref])"
   ]
  },
  {
   "cell_type": "code",
   "execution_count": null,
   "id": "assigned-establishment",
   "metadata": {},
   "outputs": [],
   "source": [
    "# def target_from_matches(matches_df):\n",
    "    \n",
    "#     return np.where(matches_df[[f'int_tar_{i}' for i in range(16)]]>0,1,0)\n",
    "\n",
    "# def verr_from_matches(matches_df):\n",
    "    \n",
    "#     gt_code = np.where(matches_df[[f'int_tar_{i}' for i in range(16)]]>0,1,0)\n",
    "#     pred_int = matches_df[[f'int_pred_{i}' for i in range(16)]].values\n",
    "    \n",
    "#     corrs = [np.corrcoef(gt_code[i], pred_int[i])[0,1] for i in range(len(matches_df))]\n",
    "    \n",
    "#     return corrs\n",
    "                    \n",
    "# def input_from_df(df, from_matches=True):\n",
    "                    \n",
    "#     df_str = '_pred' if from_matches else  ''\n",
    "#     input_keys = ['prob'+df_str,'x_sig'+df_str,'y_sig'+df_str] + ['int'+df_str+f'_{i}' for i in range(16)] + ['int_sig'+df_str+f'_{i}' for i in range(16)]\n",
    "#     inp_arr = df[input_keys].values\n",
    "#     return df[input_keys].values"
   ]
  },
  {
   "cell_type": "code",
   "execution_count": null,
   "id": "opposite-fitting",
   "metadata": {},
   "outputs": [],
   "source": [
    "# export\n",
    "\n",
    "# def input_from_df(df, from_matches=True):\n",
    "                    \n",
    "#     df_str = '_pred' if from_matches else  ''\n",
    "#     df = get_code_from_ints(df, code_ref, targets, int_str=df_str)\n",
    "#     matched_codes = code_ref[df['code_inds'].values]\n",
    "    \n",
    "#     input_keys = ['prob'+df_str,'x_sig'+df_str,'y_sig'+df_str, 'code_err'] + [f'int_{i}{df_str}' for i in range(16)] + [f'int_sig_{i}{df_str}' for i in range(16)]\n",
    "#     inp_arr = df[input_keys].values\n",
    "#     return np.concatenate([df[input_keys].values, matched_codes], 1)\n",
    "\n",
    "# def input_from_df(df, code_ref, targets, from_matches=True):\n",
    "                    \n",
    "#     df_str = '_pred' if from_matches else  ''\n",
    "#     df = get_code_from_ints(df, code_ref, targets, int_str=df_str)\n",
    "#     matched_codes = code_ref[df['code_inds'].values]\n",
    "    \n",
    "#     input_keys = ['prob'+df_str,'x_sig'+df_str,'y_sig'+df_str, 'code_err'] #+ ['rec_rmses'] + [f'int_sig_{i}{df_str}' for i in range(16)]\n",
    "#     inp_arr = df[input_keys].values\n",
    "#     int_sum = df[[f'int_{i}{df_str}' for i in range(16)]].values.sum(-1)[:,None]\n",
    "#     ints_sum = df[[f'int_sig_{i}{df_str}' for i in range(16)]].values.sum(-1)[:,None]\n",
    "    \n",
    "#     return np.concatenate([inp_arr, int_sum, ints_sum], 1)\n",
    "\n",
    "def input_from_df(df):\n",
    "                    \n",
    "    input_keys = ['prob','x_sig','y_sig','p_code_err'] #+ ['rec_rmses'] + [f'int_sig_{i}' for i in range(16)]\n",
    "    inp_arr = df[input_keys].values\n",
    "    int_sum = df[[f'int_{i}' for i in range(16)]].values.sum(-1)[:,None]\n",
    "    ints_sum = df[[f'int_sig_{i}' for i in range(16)]].values.sum(-1)[:,None]\n",
    "    \n",
    "    return np.concatenate([inp_arr, int_sum, ints_sum], 1)\n",
    "\n",
    "# def target_from_matches(matches_df, code_ref, targets):\n",
    "    \n",
    "#     matches_df = get_code_from_ints(matches_df, code_ref, targets, int_str='_pred')\n",
    "#     matched_codes = code_ref[matches_df['code_inds'].values]\n",
    "    \n",
    "# #     int_arr = matches_df[[f'int_{i}_tar' for i in range(16)]]\n",
    "# #     tar_code = np.where(int_arr>0,1,0)\n",
    "    \n",
    "#     int_arr = matches_df[[f'int_{i}_tar' for i in range(16)]].values\n",
    "#     s_arr = np.sort(int_arr)\n",
    "#     lim = s_arr[:,-5]\n",
    "#     tar_code = np.stack([np.where(i>l,1,0) for i,l in zip(int_arr, lim)])\n",
    "#     matches_df[[f'int_{i}_tar' for i in range(16)]] = tar_code\n",
    "#     matches_df = get_code_from_ints(matches_df, code_ref, targets, int_str='_tar')\n",
    "#     tar_code = code_ref[matches_df['code_inds'].values]\n",
    "\n",
    "#     return  1 - abs(np.array(matched_codes, dtype='int') - np.array(tar_code, dtype='int')).max(1)\n",
    "\n",
    "def extract_rmses(vol, ixy_coords, size_xy = 10, px_size=100):\n",
    "\n",
    "    rmses = []\n",
    "    \n",
    "    for k in range(len(ixy_coords)):\n",
    "\n",
    "        i, x, y = ixy_coords[k]\n",
    "        crop = np.s_[int(i),:, np.max([0,int(y/px_size-size_xy)]): int(y/px_size+size_xy+1), np.max([0,int(x/px_size-size_xy)]): int(x/px_size+size_xy+1)]\n",
    "        \n",
    "        rmses.append(vol[crop].mean().item())\n",
    "        \n",
    "    return rmses"
   ]
  },
  {
   "cell_type": "code",
   "execution_count": null,
   "id": "certified-exception",
   "metadata": {},
   "outputs": [],
   "source": [
    "# export\n",
    "class code_net(nn.Module):\n",
    "\n",
    "    def __init__(self, n_inputs=6, n_outputs=1):\n",
    "        super(code_net, self).__init__()\n",
    "        \n",
    "        self.fc1 = nn.Linear(n_inputs, 128)\n",
    "        self.fc2 = nn.Linear(128, 64)\n",
    "        self.fc3 = nn.Linear(64, 32)\n",
    "        self.fc4 = nn.Linear(32, n_outputs)\n",
    "        \n",
    "    def forward(self, x):\n",
    "        x = F.elu(self.fc1(x))\n",
    "        x = F.elu(self.fc2(x))\n",
    "        x = F.elu(self.fc3(x))\n",
    "        x = self.fc4(x)\n",
    "        return x\n",
    "\n",
    "net = code_net().cuda()"
   ]
  },
  {
   "cell_type": "code",
   "execution_count": null,
   "id": "printable-alloy",
   "metadata": {},
   "outputs": [
    {
     "name": "stderr",
     "output_type": "stream",
     "text": [
      "  0%|                                                                    | 0/100 [00:02<?, ?it/s]\n"
     ]
    },
    {
     "ename": "KeyboardInterrupt",
     "evalue": "",
     "output_type": "error",
     "traceback": [
      "\u001b[0;31m---------------------------------------------------------------------------\u001b[0m",
      "\u001b[0;31mKeyboardInterrupt\u001b[0m                         Traceback (most recent call last)",
      "\u001b[0;32m/tmp/ipykernel_934/458532998.py\u001b[0m in \u001b[0;36m<module>\u001b[0;34m\u001b[0m\n\u001b[1;32m     24\u001b[0m \u001b[0;34m\u001b[0m\u001b[0m\n\u001b[1;32m     25\u001b[0m         \u001b[0mgt_vars\u001b[0m \u001b[0;34m=\u001b[0m \u001b[0msim_vars\u001b[0m\u001b[0;34m[\u001b[0m\u001b[0;34m:\u001b[0m\u001b[0;34m-\u001b[0m\u001b[0;36m1\u001b[0m\u001b[0;34m]\u001b[0m\u001b[0;34m\u001b[0m\u001b[0;34m\u001b[0m\u001b[0m\n\u001b[0;32m---> 26\u001b[0;31m         \u001b[0mgt_df\u001b[0m \u001b[0;34m=\u001b[0m \u001b[0msample_to_df\u001b[0m\u001b[0;34m(\u001b[0m\u001b[0;34m*\u001b[0m\u001b[0mgt_vars\u001b[0m\u001b[0;34m,\u001b[0m \u001b[0mpx_size_zyx\u001b[0m\u001b[0;34m=\u001b[0m\u001b[0;34m[\u001b[0m\u001b[0;36m1.\u001b[0m\u001b[0;34m,\u001b[0m\u001b[0;36m1.\u001b[0m\u001b[0;34m,\u001b[0m\u001b[0;36m1.\u001b[0m\u001b[0;34m]\u001b[0m\u001b[0;34m)\u001b[0m\u001b[0;34m\u001b[0m\u001b[0;34m\u001b[0m\u001b[0m\n\u001b[0m\u001b[1;32m     27\u001b[0m \u001b[0;34m\u001b[0m\u001b[0m\n\u001b[1;32m     28\u001b[0m         \u001b[0mmodel\u001b[0m\u001b[0;34m.\u001b[0m\u001b[0meval\u001b[0m\u001b[0;34m(\u001b[0m\u001b[0;34m)\u001b[0m\u001b[0;34m.\u001b[0m\u001b[0mcuda\u001b[0m\u001b[0;34m(\u001b[0m\u001b[0;34m)\u001b[0m\u001b[0;34m\u001b[0m\u001b[0;34m\u001b[0m\u001b[0m\n",
      "\u001b[0;32m~/Dropbox (mackelab)/Artur/WorkDB/deepstorm/decode_fish/decode_fish/funcs/output_trafo.py\u001b[0m in \u001b[0;36msample_to_df\u001b[0;34m(locs, x_os, y_os, z_os, ints, px_size_zyx, channels, n_bits)\u001b[0m\n\u001b[1;32m     26\u001b[0m     \u001b[0mloc_idx\u001b[0m \u001b[0;34m=\u001b[0m \u001b[0;34m[\u001b[0m\u001b[0;34m]\u001b[0m\u001b[0;34m\u001b[0m\u001b[0;34m\u001b[0m\u001b[0m\n\u001b[1;32m     27\u001b[0m     \u001b[0;32mfor\u001b[0m \u001b[0mi\u001b[0m \u001b[0;32min\u001b[0m \u001b[0mrange\u001b[0m\u001b[0;34m(\u001b[0m\u001b[0mn_gt\u001b[0m\u001b[0;34m)\u001b[0m\u001b[0;34m:\u001b[0m\u001b[0;34m\u001b[0m\u001b[0;34m\u001b[0m\u001b[0m\n\u001b[0;32m---> 28\u001b[0;31m         \u001b[0mloc_idx\u001b[0m \u001b[0;34m+=\u001b[0m \u001b[0;34m[\u001b[0m\u001b[0mi\u001b[0m\u001b[0;34m]\u001b[0m \u001b[0;34m*\u001b[0m \u001b[0;34m(\u001b[0m\u001b[0mb_inds\u001b[0m\u001b[0;34m[\u001b[0m\u001b[0mi\u001b[0m\u001b[0;34m+\u001b[0m\u001b[0;36m1\u001b[0m\u001b[0;34m]\u001b[0m \u001b[0;34m-\u001b[0m \u001b[0mb_inds\u001b[0m\u001b[0;34m[\u001b[0m\u001b[0mi\u001b[0m\u001b[0;34m]\u001b[0m\u001b[0;34m)\u001b[0m\u001b[0;34m\u001b[0m\u001b[0;34m\u001b[0m\u001b[0m\n\u001b[0m\u001b[1;32m     29\u001b[0m \u001b[0;34m\u001b[0m\u001b[0m\n\u001b[1;32m     30\u001b[0m     df = DF({'loc_idx': loc_idx,\n",
      "\u001b[0;31mKeyboardInterrupt\u001b[0m: "
     ]
    }
   ],
   "source": [
    "from decode_fish.engine.point_process import *\n",
    "from decode_fish.funcs.output_trafo import *\n",
    "from decode_fish.funcs.evaluation import *\n",
    "from decode_fish.engine.gmm_loss import *\n",
    "\n",
    "num_iters = 100\n",
    "batch_size = 100\n",
    "i = 0\n",
    "\n",
    "bce = torch.nn.BCEWithLogitsLoss()\n",
    "opt = torch.optim.AdamW(net.parameters(), lr = 5e-3)\n",
    "sched = torch.optim.lr_scheduler.StepLR(opt, step_size=500, gamma=0.5)\n",
    "loss_col = []\n",
    "\n",
    "for i in tqdm(range(num_iters)):\n",
    "\n",
    "    with torch.no_grad():\n",
    "\n",
    "        x, local_rate, background = next(iter(decode_dl))\n",
    "        sim_vars = PointProcessUniform(local_rate*3.,model.int_dist.int_conc, model.int_dist.int_rate, \n",
    "                                       model.int_dist.int_loc, channels=16, n_bits=4, sim_z=False, codebook=torch.tensor(code_inds)).sample(from_code_book=True, phasing=cfg.exp_type.phasing)\n",
    "        xsim = micro(*sim_vars, add_noise=True)\n",
    "        xsimn = micro.noise(xsim, background, const_theta_sim=False).sample()\n",
    "\n",
    "        gt_vars = sim_vars[:-1]\n",
    "        gt_df = sample_to_df(*gt_vars, px_size_zyx=[1.,1.,1.])\n",
    "\n",
    "        model.eval().cuda()\n",
    "        res_dict = model(xsimn.cuda())\n",
    "        res_dict = model.tensor_to_dict(res_dict)\n",
    "        pred_df = post_proc.get_df(res_dict)\n",
    "        \n",
    "        perf, matches, _ = matching(px_to_nm(gt_df), pred_df, tolerance=200, print_res=False)\n",
    "        \n",
    "        pred_df = get_code_from_ints(pred_df, code_ref, targets, int_str='')\n",
    "        pred_df = pred_df.set_index('loc_idx')\n",
    "        matches = get_code_from_ints(matches, code_ref, targets, int_str='_tar')\n",
    "        pred_df.loc[matches['loc_idx_pred'],'matched_code'] = matches['code_inds'].values\n",
    "        pred_df['gt_match'] = np.zeros(len(pred_df))\n",
    "        pred_df.loc[pred_df['code_inds']==pred_df['matched_code'], 'gt_match'] += 1\n",
    "        \n",
    "        get_p = get_code_from_ints(pred_df, code_ref, targets, int_str='', p_str='p_')\n",
    "        pred_df['p_code_err'] = get_p['code_err']\n",
    "#         res_dict = post_proc.get_si_resdict(res_dict, p_si=None)\n",
    "#         ch_img_col = []\n",
    "#         for i in range(16):\n",
    "#             locations, x_os_3d, y_os_3d, z_os_3d, ints_3d, output_shape = post_proc.get_micro_inp(res_dict, p_si=res_dict['Probs_si'], channel=i)\n",
    "#             ch_img_col.append(micro(locations, x_os_3d, y_os_3d, z_os_3d, ints_3d, output_shape, rec_ch=i))  \n",
    "#         rec = torch.cat(ch_img_col, dim=1) + res_dict['background']\n",
    "#         rmse_vol = torch.sqrt((xsimn - rec)**2).mean(1)\n",
    "\n",
    "#         ixy_coords = matches.loc[:,['frame_idx_pred', 'x_pred', 'y_pred']].values\n",
    "#         rmses = extract_rmses(rmse_vol,ixy_coords)\n",
    "        \n",
    "#         matches['rec_rmses'] = rmses\n",
    "    \n",
    "#     matches = matches.sample(frac=1).reset_index(drop=True)\n",
    "    pred_df = pred_df.sample(frac=1).reset_index(drop=True)\n",
    "        \n",
    "    for b in range(len(matches)//batch_size):\n",
    "\n",
    "        opt.zero_grad()\n",
    "\n",
    "        net_inp = T(input_from_df(pred_df[b*batch_size:(b+1)*batch_size]), dtype=torch.float32).cuda()\n",
    "        net_out = net(net_inp)\n",
    "\n",
    "        net_tar = T(pred_df[b*batch_size:(b+1)*batch_size]['gt_match'].values, dtype=torch.float32).cuda()\n",
    "        loss = bce(net_out, net_tar[:,None])\n",
    "        \n",
    "        loss.backward()\n",
    "        \n",
    "        opt.step()\n",
    "        sched.step()\n",
    "        \n",
    "        loss_col.append(loss.item())"
   ]
  },
  {
   "cell_type": "code",
   "execution_count": null,
   "id": "missing-boring",
   "metadata": {},
   "outputs": [],
   "source": [
    "from scipy.signal import savgol_filter\n",
    "\n",
    "window = 51\n",
    "order = 2\n",
    "y_sf1 = savgol_filter(loss_col, window, order)\n",
    "# plt.plot(y_sf2)\n",
    "plt.plot(y_sf1)\n",
    "# plt.plot(loss_col)\n",
    "plt.show()"
   ]
  },
  {
   "cell_type": "code",
   "execution_count": null,
   "id": "helpful-bahrain",
   "metadata": {},
   "outputs": [],
   "source": [
    "image_paths = sorted(glob.glob(cfg.data_path.image_path))\n",
    "inf_df = merfish_predict(model, post_proc, image_paths, window_size=[None, 256, 256], device='cuda')"
   ]
  },
  {
   "cell_type": "code",
   "execution_count": null,
   "id": "portable-fault",
   "metadata": {},
   "outputs": [],
   "source": [
    "out_vals = []\n",
    "inf_df = get_code_from_ints(inf_df, code_ref, targets, int_str='')\n",
    "get_p = get_code_from_ints(inf_df, code_ref, targets, int_str='', p_str='p_')\n",
    "inf_df['p_code_err'] = get_p['code_err']\n",
    "\n",
    "for b in tqdm(range(len(inf_df)//100 + 1)):\n",
    "    if len(inf_df[b*100:(b+1)*100]):\n",
    "        net_inp = T(input_from_df(inf_df[b*100:(b+1)*100]), dtype=torch.float32).cuda()\n",
    "        net_out = torch.sigmoid(net(net_inp))\n",
    "\n",
    "        out_vals.append(np.array(cpu(net_out)))"
   ]
  },
  {
   "cell_type": "code",
   "execution_count": null,
   "id": "continental-theory",
   "metadata": {},
   "outputs": [],
   "source": [
    "out_arr = np.concatenate(out_vals)\n",
    "inf_df['net_qual'] = out_arr"
   ]
  },
  {
   "cell_type": "code",
   "execution_count": null,
   "id": "juvenile-conviction",
   "metadata": {},
   "outputs": [],
   "source": [
    "plt.hist(inf_df['net_qual'])"
   ]
  },
  {
   "cell_type": "code",
   "execution_count": null,
   "id": "excessive-symbol",
   "metadata": {},
   "outputs": [],
   "source": [
    "inf_df.to_csv(f'../data/results/MERFISH/{csv_name}.csv', index=False)"
   ]
  },
  {
   "cell_type": "code",
   "execution_count": null,
   "id": "material-broadway",
   "metadata": {},
   "outputs": [
    {
     "name": "stderr",
     "output_type": "stream",
     "text": [
      "100%|██████████████████████████████████████████████████████████████| 1/1 [00:00<00:00,  1.01it/s]\n"
     ]
    }
   ],
   "source": [
    "from decode_fish.engine.point_process import *\n",
    "num_iters = 1\n",
    "i = 0\n",
    "\n",
    "out_vals = []\n",
    "\n",
    "df_col = []\n",
    "pred_col = []\n",
    "\n",
    "for i in tqdm(range(num_iters)):\n",
    "\n",
    "    with torch.no_grad():\n",
    "\n",
    "        x, local_rate, background = next(iter(decode_dl))\n",
    "        sim_vars = PointProcessUniform(local_rate*1.,model.int_dist.int_conc, model.int_dist.int_rate, \n",
    "                                       model.int_dist.int_loc+1, channels=16, n_bits=4, sim_z=False, codebook=torch.tensor(code_inds)).sample(from_code_book=True, phasing=cfg.exp_type.phasing)\n",
    "        xsim = micro(*sim_vars, add_noise=True)\n",
    "        xsimn = micro.noise(xsim, background).sample()\n",
    "\n",
    "        gt_vars = sim_vars[:-1]\n",
    "        gt_df = sample_to_df(*gt_vars, px_size_zyx=[1.,1.,1.])\n",
    "\n",
    "        model.eval().cuda()\n",
    "        res_dict = model(xsimn.cuda())\n",
    "        res_dict = model.tensor_to_dict(res_dict)\n",
    "        pred_df = post_proc.get_df(res_dict)\n",
    "        \n",
    "        perf, matches, _ = matching(px_to_nm(gt_df), pred_df, tolerance=500, print_res=False)\n",
    "        \n",
    "        pred_df = get_code_from_ints(pred_df, code_ref, targets, int_str='', p_str='')\n",
    "        pred_df = pred_df.set_index('loc_idx')\n",
    "        matches = get_code_from_ints(matches, code_ref, targets, int_str='_tar')\n",
    "        pred_df.loc[matches['loc_idx_pred'],'matched_code'] = matches['code_inds'].values\n",
    "        pred_df['gt_match'] = np.zeros(len(pred_df))\n",
    "        pred_df.loc[pred_df['code_inds']==pred_df['matched_code'], 'gt_match'] += 1\n",
    "        \n",
    "        get_p = get_code_from_ints(pred_df, code_ref, targets, int_str='', p_str='p_')\n",
    "        pred_df['p_code_err'] = get_p['code_err']\n",
    "\n",
    "#         res_dict = post_proc.get_si_resdict(res_dict, p_si=None)\n",
    "#         ch_img_col = []\n",
    "#         for i in range(16):\n",
    "#             locations, x_os_3d, y_os_3d, z_os_3d, ints_3d, output_shape = post_proc.get_micro_inp(res_dict, p_si=res_dict['Probs_si'], channel=i)\n",
    "#             ch_img_col.append(micro(locations, x_os_3d, y_os_3d, z_os_3d, ints_3d, output_shape, rec_ch=i))  \n",
    "#         rec = torch.cat(ch_img_col, dim=1) + res_dict['background']\n",
    "#         rmse_vol = torch.sqrt((xsimn - rec)**2).mean(1)\n",
    "\n",
    "#         ixy_coords = matches.loc[:,['frame_idx_pred', 'x_pred', 'y_pred']].values\n",
    "#         rmses = extract_rmses(rmse_vol,ixy_coords)\n",
    "        \n",
    "#         matches['rec_rmses'] = rmses\n",
    "    \n",
    "    pred_df = pred_df.sample(frac=1).reset_index(drop=True)\n",
    "        \n",
    "    net_inp = T(input_from_df(pred_df), dtype=torch.float32).cuda()\n",
    "    net_out = torch.sigmoid(net(net_inp))\n",
    "#     matches[[f'bin_{i}' for i in range(16)]] = np.array(cpu(net_out))\n",
    "\n",
    "#     net_out = net(net_inp)\n",
    "    pred_df['net_qual'] = np.array(cpu(net_out))\n",
    "    \n",
    "    df_col.append(pred_df)\n",
    "    \n",
    "df_col = pd.concat(df_col)\n",
    "res_df = df_col.reset_index()"
   ]
  },
  {
   "cell_type": "code",
   "execution_count": null,
   "id": "frank-placement",
   "metadata": {},
   "outputs": [],
   "source": [
    "# (res_df['gt_gene'] == res_df['bin_gene']).sum()/len(res_df)"
   ]
  },
  {
   "cell_type": "code",
   "execution_count": null,
   "id": "partial-masters",
   "metadata": {},
   "outputs": [
    {
     "data": {
      "text/plain": [
       "<matplotlib.legend.Legend at 0x7fa8ce7042e0>"
      ]
     },
     "execution_count": null,
     "metadata": {},
     "output_type": "execute_result"
    },
    {
     "data": {
      "image/png": "[encoded data removed]",
      "text/plain": [
       "<Figure size 1152x360 with 6 Axes>"
      ]
     },
     "metadata": {
      "needs_background": "light"
     },
     "output_type": "display_data"
    }
   ],
   "source": [
    "res_df['int_sigs'] = res_df[[f'int_sig_{i}' for i in range(16)]].values.sum(1)\n",
    "res_df['ints'] = res_df[[f'int_{i}' for i in range(16)]].values.sum(1)\n",
    "metrics = ['code_err', 'p_code_err', 'x_sig', 'int_sigs','ints','net_qual']\n",
    "plt.figure(figsize=(16,5))\n",
    "for i in range(len(metrics)):\n",
    "    plt.subplot(1,len(metrics),i+1)\n",
    "    _=plt.hist(res_df[res_df['gt_match'] == 1][metrics[i]], density=True, alpha=0.5, bins=30, label='matches')\n",
    "    _=plt.hist(res_df[res_df['gt_match'] == 0][metrics[i]], density=True, alpha=0.5, bins=30, label='errors')\n",
    "    plt.title(metrics[i])\n",
    "plt.legend()"
   ]
  },
  {
   "cell_type": "code",
   "execution_count": null,
   "id": "developing-girlfriend",
   "metadata": {},
   "outputs": [],
   "source": [
    "# export\n",
    "def make_roc(df, var='code_err', ascending=True, n_max=30000):\n",
    "    \n",
    "    if n_max is None:\n",
    "        n_max = len(df)\n",
    "    x = np.arange(1000,n_max,100)\n",
    "    df = df.sort_values(var, ascending=ascending)\n",
    "    n_blanks = []\n",
    "    for i in x:\n",
    "        n_blanks.append((df[:i]['gt_match'] == 0).sum())\n",
    "        \n",
    "    return x, n_blanks"
   ]
  },
  {
   "cell_type": "code",
   "execution_count": null,
   "id": "verified-approval",
   "metadata": {},
   "outputs": [],
   "source": [
    "from decode_fish.funcs.visualization import *\n",
    "par_dict = {'code_err':[res_df, 'code_err', True],\n",
    "            'p_code_err':[res_df, 'p_code_err', True],\n",
    "            'int_sigs':[res_df, 'int_sigs', True],\n",
    "#             'rec_rmses':[res_df, 'rec_rmses', True],\n",
    "            'net_qual':[res_df, 'net_qual', False]}\n",
    "\n",
    "roc_dict = {}\n",
    "for k in par_dict:\n",
    "    x, y = make_roc(*par_dict[k])\n",
    "    roc_dict[k] = [x, y]"
   ]
  },
  {
   "cell_type": "code",
   "execution_count": null,
   "id": "underlying-anxiety",
   "metadata": {},
   "outputs": [],
   "source": [
    "# roc_dicts = roc_dict"
   ]
  },
  {
   "cell_type": "code",
   "execution_count": null,
   "id": "consecutive-washer",
   "metadata": {},
   "outputs": [],
   "source": [
    "import seaborn as sns\n",
    "plt.figure(figsize=(5,5))\n",
    "# for k in roc_dicts:\n",
    "#     x, y = roc_dicts[k]\n",
    "#     plt.plot(x, y, label=k, linestyle='--')\n",
    "    \n",
    "for k in roc_dict:\n",
    "    x, y = roc_dict[k]\n",
    "    plt.plot(x, y, label=k)\n",
    "    \n",
    "plt.legend()\n",
    "plt.ylim(0, 1000)\n",
    "plt.xlim(0, 10000)\n",
    "plt.ylabel('N. errors')\n",
    "plt.xlabel('N. detections')\n",
    "sns.despine()"
   ]
  },
  {
   "cell_type": "code",
   "execution_count": null,
   "id": "cordless-master",
   "metadata": {},
   "outputs": [],
   "source": [
    "import seaborn as sns\n",
    "plt.figure(figsize=(5,5))\n",
    "# for k in roc_dicts:\n",
    "#     x, y = roc_dicts[k]\n",
    "#     plt.plot(x, y, label=k, linestyle='--')\n",
    "    \n",
    "for k in roc_dict:\n",
    "    x, y = roc_dict[k]\n",
    "    plt.plot(x, y, label=k)\n",
    "    \n",
    "plt.legend()\n",
    "plt.ylim(0, 1000)\n",
    "plt.xlim(0, 10000)\n",
    "plt.ylabel('N. errors')\n",
    "plt.xlabel('N. detections')\n",
    "sns.despine()"
   ]
  },
  {
   "cell_type": "code",
   "execution_count": null,
   "id": "coral-convert",
   "metadata": {},
   "outputs": [],
   "source": [
    "# for k in inf_df.keys():\n",
    "#     plt.figure(figsize=(15,10))\n",
    "#     _ = plt.hist(inf_df[k], bins=51, alpha=0.5, density=True)\n",
    "#     _ = plt.hist(pred_col[k], bins=51, alpha=0.5, density=True)\n",
    "#     plt.title(k)\n",
    "#     plt.show()"
   ]
  }
 ],
 "metadata": {
  "kernelspec": {
   "display_name": "Python [conda env:decode_fish_dev]",
   "language": "python",
   "name": "conda-env-decode_fish_dev-py"
  }
 },
 "nbformat": 4,
 "nbformat_minor": 5
}
