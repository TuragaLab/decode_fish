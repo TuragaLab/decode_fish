{
 "cells": [
  {
   "cell_type": "code",
   "execution_count": null,
   "metadata": {},
   "outputs": [],
   "source": [
    "# default_exp engine.microscope"
   ]
  },
  {
   "cell_type": "code",
   "execution_count": null,
   "metadata": {},
   "outputs": [],
   "source": [
    "%load_ext autoreload\n",
    "%autoreload 2\n",
    "%aimport -decode_fish.engine.place_psfs"
   ]
  },
  {
   "cell_type": "markdown",
   "metadata": {},
   "source": [
    "# Microscope model\n",
    "\n",
    "> Definition of the classes and functions we use to generate recordings given network outputs or simulations\n",
    "\n",
    "ToDo: \n",
    "* Currently only supports color shifts for data with 2 colors\n",
    "* Currently hard coded to sit on the gpu"
   ]
  },
  {
   "cell_type": "code",
   "execution_count": null,
   "metadata": {},
   "outputs": [],
   "source": [
    "#export\n",
    "from decode_fish.imports import *\n",
    "from decode_fish.funcs.utils import *\n",
    "import torch.nn as nn\n",
    "from torch.jit import script\n",
    "from typing import Union, List\n",
    "import torch.nn.functional as F\n",
    "from decode_fish.engine.place_psfs import CudaPlaceROI"
   ]
  },
  {
   "cell_type": "code",
   "execution_count": null,
   "metadata": {},
   "outputs": [],
   "source": [
    "os.environ[\"CUDA_VISIBLE_DEVICES\"] = '0'"
   ]
  },
  {
   "cell_type": "code",
   "execution_count": null,
   "metadata": {},
   "outputs": [],
   "source": [
    "#export\n",
    "class Microscope(nn.Module):\n",
    "    \"\"\"\n",
    "    The Mircoscope module takes 5 vectors 'locations', 'x_os', 'y_os', 'z_os',\n",
    "    'ints_3d' and the outputshape and turns them into 3D data through the following steps:\n",
    "    1) Select the right PSF according to color\n",
    "    2) Apply continuous shifts to the PSF according to x_os, y_os, z_os\n",
    "    3) Clamping the PSF (retaining only positive values)\n",
    "    4) Normalize the PSF (if set to do so)\n",
    "    5) Scales PSFs by intensities\n",
    "    6) Place point spread function according to locations\n",
    "    7) Multiply resulting image by scale\n",
    "\n",
    "    Args:\n",
    "        psf (torch.nn.Module): Parametric PSF\n",
    "        noise (torch.nn.Module): Camera noise model\n",
    "        scale (float): Constant for scaling \n",
    "        slice_rec (bool): Whether the data is 1-dimensional in z (i.e. slices)\n",
    "        ch_facs (torch.tensor or None): scaling factor for each channel (used to normalize real data inputs). if None is initialize to 1\n",
    "        ch_cols (torch.tensor or None): Tensor that indicates the color of each channel.\n",
    "        col_shifts_enabled (bool): Whether we learn and apply a map that stores chromatic abberations between colors\n",
    "        col_shifts_yxds (tuple): size of the FOVs, and the downsampling factor used for the chrom. abberation map. e.g. [2048, 2048, 50] \n",
    "        \n",
    "    Shape:\n",
    "        -Input: locations: Tuple(torch.Tensor)\n",
    "                x_os_val: (N_emitters,)\n",
    "                y_os_val: (N_emitters,)\n",
    "                z_os_val: (N_emitters,)\n",
    "                ints_val: (N_emitters,C)\n",
    "                output_shape: Shape Tuple(BS, C, D, H, W)\n",
    "\n",
    "        -Output: xsim: (BS, C, D, H, W)\n",
    "    \"\"\"\n",
    "\n",
    "\n",
    "    def __init__(self, psf, noise, scale = 10000., norm='none', psf_noise=0, slice_rec=False, ch_facs=None, ch_cols=None, col_shifts_enabled=False, col_shifts_yxds=None):\n",
    "\n",
    "        super().__init__()\n",
    "        \n",
    "        self.psf = psf\n",
    "        self.psf_init_vol = psf.psf_volume.detach().to('cuda')\n",
    "        self.psf_z_size = self.psf.psf_volume.shape[-3]\n",
    "        \n",
    "        self.scale = scale\n",
    "        self.noise = noise\n",
    "        self.norm = norm\n",
    "        self.psf_noise = psf_noise\n",
    "        self.slice_rec = slice_rec\n",
    "        self.ch_cols = ch_cols\n",
    "        \n",
    "        if self.psf.n_cols > 1: assert self.ch_cols is not None, f\"ch_cols cannot be None for n_cols > 1\"\n",
    "        if self.ch_cols is not None: assert self.psf.n_cols > 1, f\"ch_cols contains {max(self.ch_cols) + 1} colors but the psf has {self.psf.n_cols} colors\"\n",
    "        \n",
    "        self.theta = self.noise.theta_scale * self.noise.theta_par\n",
    "        \n",
    "        self.col_shifts_enabled = col_shifts_enabled\n",
    "        if col_shifts_enabled:\n",
    "            \n",
    "            assert self.psf.n_cols > 1, f\"col_shifts_enabled but n_cols = 0\"\n",
    "            \n",
    "            self.col_shifts_yx = col_shifts_yxds[:2]\n",
    "            self.col_shift_ds = col_shifts_yxds[2]   \n",
    "        \n",
    "            xs = int(np.ceil(self.col_shifts_yx[0]/self.col_shift_ds))\n",
    "            ys = int(np.ceil(self.col_shifts_yx[1]/self.col_shift_ds))\n",
    "\n",
    "            self.register_parameter(name='color_shifts', param=torch.nn.Parameter(torch.zeros([self.psf.n_cols, ys, xs])))\n",
    "        \n",
    "        self.register_parameter(name='channel_shifts', param=torch.nn.Parameter(torch.zeros((int(self.noise.n_channels/self.psf.n_cols), 3))))\n",
    "        self.ch_scale = 1. if ch_facs is None else torch.tensor(ch_facs).cuda()\n",
    "        self.register_parameter(name='channel_facs', param=torch.nn.Parameter(torch.ones(int(self.noise.n_channels)).cuda()))\n",
    "        self.register_parameter(name='z_facs', param=self.psf.z_scale)\n",
    "        self.register_parameter(name='sc_fac', param=torch.nn.Parameter(torch.ones(1).cuda()))    \n",
    "        self.register_parameter(name='theta_par', param=self.noise.theta_par)\n",
    "        \n",
    "    def get_ch_mult(self):\n",
    "        ''' Returns multiplicative factors to scale a 5D volume across the channel dimension '''\n",
    "        return (self.channel_facs * self.ch_scale)[None,:,None,None,None]\n",
    "    \n",
    "    def add_psf_noise(self, psf_stack):\n",
    "        '''Adds Gaussian noise to the psf. Idea is that this makes the network less sensitive to mismatch in the PSF. \n",
    "        Was usefull once but seems to not be needed anymore'''\n",
    "        noise = torch.distributions.Normal(loc=0, scale=self.psf_noise).sample(psf_stack.shape).to(psf_stack.device)\n",
    "        noise *= torch.sqrt(psf_stack)\n",
    "\n",
    "        return psf_stack + noise\n",
    "    \n",
    "    def apply_channel_shifts(self, ch_inds, x_os_val, y_os_val, z_os_val):\n",
    "        '''Applies round (! not color) dependent shifts '''\n",
    "        shifts = self.channel_shifts - self.channel_shifts.mean(0)[None]\n",
    "\n",
    "        if self.psf.n_cols > 1:\n",
    "            multi_col_shifts = torch.zeros([self.noise.n_channels, 3]).to(shifts.device)\n",
    "            for i in range(self.psf.n_cols):\n",
    "                multi_col_shifts[torch.tensor(self.ch_cols)==i,:] = shifts\n",
    "        else:\n",
    "            multi_col_shifts = shifts\n",
    "\n",
    "        x_os_val = x_os_val[ch_inds[0]] + multi_col_shifts[ch_inds[1], 0] \n",
    "        y_os_val = y_os_val[ch_inds[0]] + multi_col_shifts[ch_inds[1], 1]\n",
    "        \n",
    "        ''' Can't get optimization to work for some reason. look into it '''\n",
    "        z_os_val = z_os_val[ch_inds[0]] # + multi_col_shifts[ch_inds[1], 2]\n",
    "        \n",
    "        return x_os_val, y_os_val, z_os_val\n",
    "    \n",
    "    def apply_color_shifts(self, ch_inds, locations, x_os_val, y_os_val, ycrop, xcrop):\n",
    "        '''Apply color dependent shifts'''\n",
    "        \n",
    "        # Select the color inds assigned to each channel\n",
    "        col_inds = torch.tensor(self.ch_cols)[ch_inds[1]]\n",
    "        \n",
    "        # We blur the colorshift map to obtain smooth results\n",
    "        blurred_col_shift = kornia.filters.gaussian_blur2d(self.color_shifts[None],  (9,9), (3,3))[0]\n",
    "\n",
    "        # Select the right element from the downsampled shift map for each emitter\n",
    "        col_shifts = blurred_col_shift[:, torch.div(locations[2][ch_inds[0]] + ycrop.cuda()[locations[0]], self.col_shift_ds, rounding_mode='trunc'), \n",
    "                                          torch.div(locations[3][ch_inds[0]] + xcrop.cuda()[locations[0]], self.col_shift_ds, rounding_mode='trunc')]\n",
    "\n",
    "        # Shift emitters in color channel 1\n",
    "        x_os_val[col_inds==1] = x_os_val[col_inds==1] + col_shifts[0, col_inds==1]\n",
    "        y_os_val[col_inds==1] = y_os_val[col_inds==1] + col_shifts[1, col_inds==1]\n",
    "        \n",
    "        return x_os_val, y_os_val\n",
    "\n",
    "    def get_single_ch_inputs(self, locations, x_os_val, y_os_val, z_os_val, i_val, output_shape=None, ycrop=None, xcrop=None):\n",
    "        '''Transforms outputs from the network or the pointprocess sampler where each emitter has N_channel intensities and one xyz position\n",
    "        into the single channel represenation (one intensity and a channel index) which the microscope uses.\n",
    "        \n",
    "        Also applies round and color shifts.\n",
    "        '''\n",
    "        \n",
    "        # Identify channels by looking for nonzero intensities\n",
    "        ch_inds = i_val.nonzero(as_tuple=True)\n",
    "\n",
    "        if len(ch_inds[1]):\n",
    "            if ch_inds[1].max() > 0:\n",
    "\n",
    "                i_val = i_val[ch_inds]\n",
    "\n",
    "                locations = [l[ch_inds[0]] for l in locations]\n",
    "                locations.insert(1,ch_inds[1])   \n",
    "\n",
    "                x_os_val, y_os_val, z_os_val = self.apply_channel_shifts(ch_inds, x_os_val, y_os_val, z_os_val)\n",
    "                \n",
    "                if self.col_shifts_enabled and ycrop is not None:\n",
    "\n",
    "                    x_os_val, y_os_val = self.apply_color_shifts(ch_inds, locations, x_os_val, y_os_val, ycrop, xcrop)\n",
    "\n",
    "        else:\n",
    "            locations.insert(1,locations[0]) \n",
    "\n",
    "        return locations, x_os_val, y_os_val, z_os_val, i_val, output_shape\n",
    "    \n",
    "    def forward(self, locations, x_os_ch, y_os_ch, z_os_ch, i_val, output_shape, ret_psfs=False, add_noise=False):\n",
    "        '''Locations contains indices for Batch, Channel, Z, Y, X'''\n",
    "        if len(locations[0]):\n",
    "            # If multi color get the right color indices dendent on channel indices\n",
    "            col_inds=torch.tensor(self.ch_cols)[locations[1]] if self.ch_cols is not None else None\n",
    "\n",
    "            if self.slice_rec and self.psf_z_size > 1:\n",
    "                # If we do slice rec z_os_ch which has a range of [-1,1] (from simulations or network output) is turned into an index for a slice from the psf_volume and a continuous offset \n",
    "                z_os_ch = torch.clamp(0.5*z_os_ch,-0.49999,0.49999) + 0.5 # transform to [0,1]\n",
    "                z_scaled = z_os_ch * (self.psf_z_size - 2) # [0, z_size]\n",
    "                z_inds = (torch.div(z_scaled, 1, rounding_mode='trunc')).type(torch.cuda.LongTensor) + 1\n",
    "                z_os = -(torch.fmod(z_scaled, 1.)) + 0.5\n",
    "\n",
    "                psf = self.psf(x_os_ch, y_os_ch, z_os, z_inds, c_inds=col_inds)\n",
    "                \n",
    "            else:\n",
    "                # Otherwise z_os_ch is treated just as x and y    \n",
    "                psf = self.psf(x_os_ch, y_os_ch, z_os_ch, c_inds=col_inds)\n",
    "                z_inds = None\n",
    "\n",
    "            if self.norm == 'escort':\n",
    "                psf = torch.abs(psf)\n",
    "                if self.slice_rec:\n",
    "                    # normalize each slice individually\n",
    "                    psf = psf/psf.flatten(-2,-1).sum(-1)[...,None,None]\n",
    "                else:\n",
    "                    psf = psf/psf.sum()\n",
    "            else:\n",
    "                torch.clamp_min_(psf,0)\n",
    "        \n",
    "            if self.psf_noise and add_noise: \n",
    "                psf = self.add_psf_noise(psf)\n",
    "\n",
    "            tot_intensity = torch.clamp_min(i_val, 0)  \n",
    "    \n",
    "            psf_sc = psf * tot_intensity[:,None,None,None,None]\n",
    "            \n",
    "            if ret_psfs:\n",
    "                # Don't place the psfs and instead return the PSF volumes. Used for ROI based gen. model learning\n",
    "                return self.sc_fac * self.scale * psf_sc\n",
    "            \n",
    "            # place psf according to locations\n",
    "            xsim = place_psf(locations, psf_sc, output_shape)\n",
    "            \n",
    "            # scale using the initial parameter and a learned factor\n",
    "            xsim = self.sc_fac * self.scale * xsim\n",
    "            \n",
    "            return xsim\n",
    "        \n",
    "        else:\n",
    "            \n",
    "            return torch.zeros(output_shape).cuda()"
   ]
  },
  {
   "cell_type": "code",
   "execution_count": null,
   "metadata": {},
   "outputs": [],
   "source": [
    "#export\n",
    "def place_psf(locations, psf_volume, output_shape):\n",
    "    \"\"\"\n",
    "    Places point spread functions (psf_volume) in to corresponding locations.\n",
    "\n",
    "    Args:\n",
    "        locations: tuple with the 5D voxel coordinates\n",
    "        psf_volume: torch.Tensor\n",
    "        output_shape: Shape Tuple(BS, C, H, W, D) \n",
    "\n",
    "    Returns:\n",
    "        placed_psf: torch.Tensor with shape (BS, C, H, W, D)\n",
    "    \"\"\"\n",
    "\n",
    "    b, c, z, y, x = locations\n",
    "    # Deprecated python loop\n",
    "#     placed_psf = _place_psf(psf_volume, b, c, z, y, x, torch.tensor(output_shape))\n",
    "    \n",
    "    # New fancy cuda loop\n",
    "    N_psfs, _, psf_s_z, psf_s_y, psf_s_x = psf_volume.shape   \n",
    "    placed_psf = CudaPlaceROI.apply(psf_volume[:,0], output_shape[0], output_shape[1], output_shape[2], output_shape[3], output_shape[4], N_psfs, psf_s_z, psf_s_y, psf_s_x, b, c, z-psf_s_z//2, y-psf_s_y//2, x-psf_s_x//2)\n",
    "    \n",
    "    assert placed_psf.shape == output_shape\n",
    "    return placed_psf\n",
    "\n",
    "def extract_psf_roi(locations, x_vol, roi_shape):\n",
    "    \"\"\"\n",
    "    Extract ROIs from a given volume\n",
    "    \"\"\"\n",
    "    \n",
    "    batch, ch, z, y, x = locations \n",
    "    rois = _extract_psf_roi(x_vol, batch, ch, z, y, x, roi_shape)\n",
    "    \n",
    "    return rois\n",
    "\n",
    "from scipy.spatial.distance import cdist\n",
    "from scipy.spatial import KDTree\n",
    "\n",
    "def get_roi_filt_inds(batch, ch, z, y, x, psf_shape, vol_shape, min_dist=None, slice_rec=False):\n",
    "    \"\"\"\n",
    "    Filter locations that are used for gen. model training.\n",
    "    Returns remaining indices.\n",
    "    \"\"\"\n",
    "    \n",
    "    inds = torch.arange(len(x))\n",
    "    \n",
    "    if min_dist:\n",
    "        # scale z if slice_rec ?? \n",
    "        # Scale catch and channel such that only emitter in the same b/ch are considered close\n",
    "        bczyx = np.stack([cpu(batch)*1000,cpu(ch)*1000,cpu(z),cpu(y),cpu(x)]).T\n",
    "        tree = KDTree(bczyx)\n",
    "        pairs = tree.query_pairs(r=min_dist, output_type='ndarray')\n",
    "        pair_inds = np.unique(pairs.reshape(-1))\n",
    "        \n",
    "    psf_d, psf_h, psf_w = psf_shape[-3:]\n",
    "    vol_d, vol_h, vol_w = vol_shape[-3:]\n",
    "    # Filter locs at the edges\n",
    "    cond = (x > psf_w//2) & (x < vol_w - psf_w//2)\n",
    "    cond*= (y > psf_h//2) & (y < vol_h - psf_h//2)\n",
    "    if not slice_rec:\n",
    "        cond*= (z > psf_d//2) & (z < vol_d - psf_d)   \n",
    "        \n",
    "    if min_dist:\n",
    "        return np.setdiff1d(inds[cond], pair_inds, assume_unique=True)\n",
    "    else:\n",
    "        return inds[cond]\n",
    "    \n",
    "def mic_inp_apply_inds(locations, x_os_ch, y_os_ch, z_os_ch, i_val, output_shape, inds):\n",
    "    \n",
    "    locations = [l[inds] for l in locations]\n",
    "    return locations, x_os_ch[inds], y_os_ch[inds], z_os_ch[inds], i_val[inds], output_shape\n",
    "\n",
    "def add_pos_noise(offset_vars, scales, n_bits, cond=None, rm_mean=True):\n",
    "    \"\"\"\n",
    "    Add noise on the continuous positions. The noise values for the same transcript across n_bits channels have a 0 mean such that the network can actually infer the correct position.\n",
    "    \"\"\"\n",
    "\n",
    "    # Get indices of emitters that belong to multi-channel code\n",
    "    if cond is not None: \n",
    "        cb_inds = torch.repeat_interleave(cond, cond * (n_bits - 1) + 1)\n",
    "        n_os = sum(cb_inds)\n",
    "    else:\n",
    "        n_os = len(offset_vars[0])\n",
    "    \n",
    "    for i in range(len(scales)):\n",
    "        \n",
    "        if scales[i] > 0:\n",
    "    \n",
    "            if rm_mean:\n",
    "                noise = torch.distributions.Normal(loc=0, scale=scales[i]).sample([n_os]).to(offset_vars[i].device).reshape(-1, n_bits)\n",
    "                noise -= noise.mean(-1, keepdim=True)\n",
    "            else:\n",
    "                noise = torch.distributions.Normal(loc=0, scale=scales[i]).sample([n_os]).to(offset_vars[i].device)\n",
    "            \n",
    "            if cond is not None: \n",
    "                offset_vars[i][cb_inds] = offset_vars[i][cb_inds] + noise.reshape(-1)\n",
    "            else:\n",
    "                offset_vars[i] = offset_vars[i] + noise.reshape(-1)\n",
    "\n",
    "    return offset_vars\n",
    "\n",
    "def concat_micro_inp(micro_inp_list, batch_size=1):\n",
    "    locs = [torch.concat([o[0][0] + i*batch_size for i,o in enumerate(micro_inp_list)])]\n",
    "    for k in range(1,4):\n",
    "        locs += [torch.concat([o[0][k] for i,o in enumerate(micro_inp_list)])]\n",
    "    ret_vars = [locs]\n",
    "    # last element is output size\n",
    "    for k in range(1, len(micro_inp_list[0]) - 1):\n",
    "        ret_vars.append(torch.concat([o[k] for o in micro_inp_list]))\n",
    "    out_len = len(micro_inp_list) * batch_size\n",
    "    ret_vars.append(torch.Size([out_len] + list(micro_inp_list[0][-1][1:])))\n",
    "    return tuple(ret_vars)"
   ]
  },
  {
   "cell_type": "code",
   "execution_count": null,
   "metadata": {},
   "outputs": [],
   "source": [
    "#export\n",
    "@script\n",
    "def _extract_psf_roi(x_vol, batch, ch, z, y, x, roi_shape):\n",
    "    \n",
    "    \"\"\"\n",
    "    Extract rois. We assume that border conditions are dealt with already. \n",
    "    \n",
    "    \"\"\"\n",
    "\n",
    "    psf_b, psf_ch, psf_d, psf_h, psf_w = roi_shape[0], roi_shape[1], roi_shape[2], roi_shape[3], roi_shape[4]\n",
    "    roi_vol = torch.empty(psf_b, psf_ch, psf_d, psf_h, psf_w).to(x_vol.device)    \n",
    "    pad_zyx = [torch.div(psf_d, 2, rounding_mode='trunc'), torch.div(psf_h, 2, rounding_mode='trunc'), torch.div(psf_w, 2, rounding_mode='trunc')]\n",
    "    \n",
    "    z_l = z - pad_zyx[0]\n",
    "    y_l = y - pad_zyx[1]\n",
    "    x_l = x - pad_zyx[2]\n",
    "    \n",
    "    z_h = z + pad_zyx[0] + 1\n",
    "    y_h = y + pad_zyx[1] + 1\n",
    "    x_h = x + pad_zyx[2] + 1\n",
    "    \n",
    "    for idx in range(x.shape[0]):\n",
    "\n",
    "        roi_vol[idx] = x_vol[batch[idx], ch[idx],\n",
    "                         z_l[idx] : z_h[idx],\n",
    "                         y_l[idx] : y_h[idx],\n",
    "                         x_l[idx] : x_h[idx]]\n",
    "        \n",
    "    return roi_vol"
   ]
  },
  {
   "cell_type": "code",
   "execution_count": null,
   "metadata": {},
   "outputs": [
    {
     "name": "stderr",
     "output_type": "stream",
     "text": [
      "/groups/turaga/home/speisera/Dropbox (mackelab)/Artur/WorkDB/deepstorm/decode_fish/decode_fish/engine/psf.py:26: UserWarning: To copy construct from a tensor, it is recommended to use sourceTensor.clone().detach() or sourceTensor.clone().detach().requires_grad_(True), rather than torch.tensor(sourceTensor).\n",
      "  psf_vol = torch.tensor(psf_vol, dtype=torch.float32).to(device)\n"
     ]
    }
   ],
   "source": [
    "from decode_fish.engine.psf import LinearInterpolatedPSF\n",
    "from decode_fish.engine.noise import GammaNoise\n",
    "from decode_fish.engine.point_process import PointProcessUniform, get_phased_ints\n",
    "from decode_fish.funcs.file_io import get_gaussian_psf\n",
    "from decode_fish.funcs.file_io import get_vol_psf\n",
    "from decode_fish.funcs.output_trafo import sample_to_df\n",
    "\n",
    "psf = LinearInterpolatedPSF(load_tiff_image('/groups/turaga/home/speisera/Mackebox/Artur/WorkDB/deepstorm/decode_fish/figures/MF_psf_07_20n.tif'), n_cols=2, mode='bicubic')\n",
    "\n",
    "noise = GammaNoise(channels=22)\n",
    "\n",
    "n_bits = 4\n",
    "ch_cols = [0, 1, 1, 0, 0, 1, 0, 1, 1, 0, 0, 1, 0, 1, 1, 0, 0, 1, 0, 1, 1, 0]\n",
    "micro = Microscope(psf=psf, noise=noise, scale=100, norm='none',  psf_noise=0.0, slice_rec=True, ch_cols=ch_cols).cuda()"
   ]
  },
  {
   "cell_type": "code",
   "execution_count": null,
   "metadata": {},
   "outputs": [
    {
     "name": "stdout",
     "output_type": "stream",
     "text": [
      "channel_shifts True\n",
      "channel_facs True\n",
      "z_facs True\n",
      "sc_fac True\n",
      "theta_par True\n",
      "psf.psf_volume True\n"
     ]
    }
   ],
   "source": [
    "for name, p in micro.named_parameters():\n",
    "    print(name, p.requires_grad)"
   ]
  },
  {
   "cell_type": "code",
   "execution_count": null,
   "metadata": {},
   "outputs": [],
   "source": [
    "from decode_fish.funcs.exp_specific import *\n",
    "codebook, targets = get_mop_codebook()\n",
    "codebook_sim = np.concatenate([codebook, np.eye(22)], 0)\n",
    "code_weight = torch.ones(len(codebook_sim))\n",
    "code_weight[-22:] *= 3"
   ]
  },
  {
   "cell_type": "code",
   "execution_count": null,
   "metadata": {},
   "outputs": [
    {
     "name": "stderr",
     "output_type": "stream",
     "text": [
      "/groups/turaga/home/speisera/Dropbox (mackelab)/Artur/WorkDB/deepstorm/decode_fish/decode_fish/engine/point_process.py:39: UserWarning: To copy construct from a tensor, it is recommended to use sourceTensor.clone().detach() or sourceTensor.clone().detach().requires_grad_(True), rather than torch.tensor(sourceTensor).\n",
      "  self.codebook = torch.tensor(codebook).to(self.device) if codebook is not None else None\n"
     ]
    }
   ],
   "source": [
    "point_process = PointProcessUniform(int_conc=3, int_rate=1, int_loc=1, sim_iters=5, n_channels=22, sim_z=True, codebook=torch.tensor(codebook_sim, dtype=torch.bool), int_option=1, code_weight=code_weight)\n",
    "local_rate = torch.ones([3,7,48,48]).cuda()*.002\n",
    "locs_3d, x_os_3d, y_os_3d, z_os_3d, ints_3d, output_shape, codes = point_process.sample(local_rate=torch.ones([3,7,48,48]).cuda()*.002, from_code_book=True)\n",
    "locations, x_os_ch, y_os_ch, z_os_ch, i_val, output_shape = micro.get_single_ch_inputs(locs_3d, x_os_3d, y_os_3d, z_os_3d, ints_3d, output_shape)\n",
    "\n",
    "x_tra, y_tra, z_tra = x_os_ch+0, y_os_ch+0, z_os_ch+0\n",
    "\n",
    "x_os_ch, y_os_ch, z_os_ch = add_pos_noise([x_os_ch, y_os_ch, z_os_ch], [0.1,0.1,0.02], 4, codes < len(codebook))\n",
    "df = sample_to_df(locs_3d, x_os_3d, y_os_3d, z_os_3d, ints_3d, codes, px_size_zyx=[1,1,1])"
   ]
  },
  {
   "cell_type": "code",
   "execution_count": null,
   "metadata": {},
   "outputs": [],
   "source": [
    "psfs = micro(locations, x_os_ch, y_os_ch, z_os_ch, i_val, output_shape, add_noise=False, ret_psfs=True)"
   ]
  },
  {
   "cell_type": "code",
   "execution_count": null,
   "metadata": {},
   "outputs": [],
   "source": [
    "xsim = micro(locations, x_os_ch, y_os_ch, z_os_ch, i_val, output_shape, add_noise=True)"
   ]
  },
  {
   "cell_type": "code",
   "execution_count": null,
   "metadata": {},
   "outputs": [],
   "source": [
    "filt_inds = get_roi_filt_inds(*locations, micro.psf.psf_volume.shape, xsim.shape, slice_rec=True, min_dist=13)\n",
    "ch_out_inp = mic_inp_apply_inds(locations, x_os_ch, y_os_ch, z_os_ch, i_val, output_shape, filt_inds)\n",
    "psf_recs = micro(*ch_out_inp, ret_psfs=True, add_noise=False)  \n",
    "rois = extract_psf_roi(ch_out_inp[0], xsim, torch.tensor(psf_recs.shape))"
   ]
  },
  {
   "cell_type": "code",
   "execution_count": null,
   "metadata": {},
   "outputs": [
    {
     "name": "stderr",
     "output_type": "stream",
     "text": [
      "No handles with labels found to put in legend.\n"
     ]
    },
    {
     "data": {
      "image/png": "[encoded data removed]",
      "text/plain": [
       "<Figure size 4752x864 with 22 Axes>"
      ]
     },
     "metadata": {
      "needs_background": "light"
     },
     "output_type": "display_data"
    }
   ],
   "source": [
    "from decode_fish.funcs.plotting import *\n",
    "_ = plot_channels(xsim[0],2, proj_func=np.sum)"
   ]
  },
  {
   "cell_type": "markdown",
   "metadata": {},
   "source": [
    "### check that 2D Z reconstruction is correct."
   ]
  },
  {
   "cell_type": "code",
   "execution_count": null,
   "metadata": {},
   "outputs": [
    {
     "name": "stderr",
     "output_type": "stream",
     "text": [
      "/groups/turaga/home/speisera/Dropbox (mackelab)/Artur/WorkDB/deepstorm/decode_fish/decode_fish/engine/point_process.py:39: UserWarning: To copy construct from a tensor, it is recommended to use sourceTensor.clone().detach() or sourceTensor.clone().detach().requires_grad_(True), rather than torch.tensor(sourceTensor).\n",
      "  self.codebook = torch.tensor(codebook).to(self.device) if codebook is not None else None\n"
     ]
    }
   ],
   "source": [
    "local_rate = torch.zeros([100,7,11,11]).cuda()\n",
    "local_rate[:,0,5,5] = 1.\n",
    "\n",
    "point_process = PointProcessUniform(int_conc=3, int_rate=1, sim_iters=1, int_loc=1, n_channels=22,  codebook=torch.tensor(codebook)[:1], sim_z=True)\n",
    "locs_3d, x_os_3d, y_os_3d, z_os_3d, ints_3d, output_shape, codes = point_process.sample(local_rate=local_rate, from_code_book=True)\n",
    "df = sample_to_df(locs_3d, x_os_3d, y_os_3d, z_os_3d, ints_3d, codes, px_size_zyx=[1,1,1])\n",
    "\n",
    "x_os_3d *= 0 \n",
    "y_os_3d *= 0 \n",
    "ints_3d *= 0 \n",
    "ints_3d += 1\n",
    "z_os_3d = torch.linspace(-1.,1.,100).cuda()\n",
    "\n",
    "ch_inp = micro.get_single_ch_inputs(locs_3d, x_os_3d, y_os_3d, z_os_3d, ints_3d, output_shape)\n",
    "\n",
    "psf_s = micro(*ch_inp, add_noise=False, ret_psfs=True)"
   ]
  },
  {
   "cell_type": "code",
   "execution_count": null,
   "metadata": {},
   "outputs": [
    {
     "data": {
      "text/plain": [
       "[<matplotlib.lines.Line2D at 0x7f3c8fcdd400>]"
      ]
     },
     "execution_count": null,
     "metadata": {},
     "output_type": "execute_result"
    },
    {
     "data": {
      "image/png": "[encoded data removed]",
      "text/plain": [
       "<Figure size 432x288 with 1 Axes>"
      ]
     },
     "metadata": {
      "needs_background": "light"
     },
     "output_type": "display_data"
    }
   ],
   "source": [
    "plt.plot(cpu(psf_s)[:,0,0,10,10])"
   ]
  },
  {
   "cell_type": "code",
   "execution_count": null,
   "metadata": {},
   "outputs": [
    {
     "name": "stdout",
     "output_type": "stream",
     "text": [
      "Converted 00_models.ipynb.\n",
      "Converted 01_psf.ipynb.\n",
      "Converted 02_microscope.ipynb.\n",
      "Converted 02b_place_psfs.ipynb.\n",
      "Converted 03_noise.ipynb.\n",
      "Converted 04_pointsource.ipynb.\n",
      "Converted 05_gmm_loss.ipynb.\n",
      "Converted 06_plotting.ipynb.\n",
      "Converted 07_file_io.ipynb.\n",
      "Converted 08_dataset.ipynb.\n",
      "Converted 09_output_trafo.ipynb.\n",
      "Converted 10_evaluation.ipynb.\n",
      "Converted 11_emitter_io.ipynb.\n",
      "Converted 12_utils.ipynb.\n",
      "Converted 13_train.ipynb.\n",
      "Converted 15_fit_psf.ipynb.\n",
      "Converted 16_visualization.ipynb.\n",
      "Converted 17_eval_routines.ipynb.\n",
      "Converted 18_predict_funcs.ipynb.\n",
      "Converted 19_MERFISH_routines.ipynb.\n",
      "Converted 22_MERFISH_codenet.ipynb.\n",
      "Converted 23_MERFISH_comparison.ipynb.\n",
      "Converted 24_exp_specific.ipynb.\n",
      "Converted 25_ensembling.ipynb.\n",
      "Converted 26_gen_train.ipynb.\n",
      "Converted 27_testtime_rescale.ipynb.\n",
      "Converted index.ipynb.\n"
     ]
    }
   ],
   "source": [
    "!nbdev_build_lib"
   ]
  },
  {
   "cell_type": "code",
   "execution_count": null,
   "metadata": {},
   "outputs": [],
   "source": []
  }
 ],
 "metadata": {
  "kernelspec": {
   "display_name": "decode_fish_dev2",
   "language": "python",
   "name": "decode_fish_dev2"
  }
 },
 "nbformat": 4,
 "nbformat_minor": 4
}
