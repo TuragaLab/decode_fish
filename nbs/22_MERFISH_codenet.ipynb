{
 "cells": [
  {
   "cell_type": "code",
   "execution_count": null,
   "id": "designing-tournament",
   "metadata": {},
   "outputs": [],
   "source": [
    "%load_ext autoreload\n",
    "%autoreload 2"
   ]
  },
  {
   "cell_type": "code",
   "execution_count": null,
   "id": "radio-criminal",
   "metadata": {},
   "outputs": [],
   "source": [
    "from decode_fish.imports import *\n",
    "from decode_fish.funcs.file_io import *\n",
    "from decode_fish.funcs.emitter_io import *\n",
    "from decode_fish.funcs.utils import *\n",
    "from decode_fish.funcs.dataset import *\n",
    "from decode_fish.funcs.plotting import *\n",
    "from decode_fish.engine.noise import estimate_noise_scale\n",
    "import shutil\n",
    "from decode_fish.funcs.visualization import *\n",
    "from decode_fish.funcs.predict import predict\n",
    "import torch.nn as nn\n",
    "import torch.nn.functional as F\n",
    "import torch.tensor as T\n",
    "\n",
    "from omegaconf import open_dict\n",
    "from hydra import compose, initialize\n",
    "from decode_fish.funcs.merfish_eval2 import *"
   ]
  },
  {
   "cell_type": "code",
   "execution_count": null,
   "id": "naughty-england",
   "metadata": {},
   "outputs": [],
   "source": [
    "# cfg = OmegaConf.load(f'/groups/turaga/home/speisera/Mackebox/Artur/WorkDB/deepstorm/models/fishcod/MERFISH_starfish/sweep_ci_13/start_mic:5000xpsf_noise:0.4/train.yaml')\n",
    "cfg = OmegaConf.load(f'/groups/turaga/home/speisera/Mackebox/Artur/WorkDB/deepstorm/models/fishcod/MERFISH_starfish/sweep_ci_14/enabled:Truexsample_from_codebook:Truexpsf_noise:0.4/train.yaml')\n",
    "# cfg = OmegaConf.load('../config/experiment/MERFISH_ci_2d.yaml')\n",
    "# cfg.foci.n_foci_avg = 0"
   ]
  },
  {
   "cell_type": "code",
   "execution_count": null,
   "id": "indian-victory",
   "metadata": {},
   "outputs": [],
   "source": [
    "# cfg.exp_type.pred_z=False\n",
    "# cfg.PSF.psf_extent_zyx=[1,21,21]\n",
    "# cfg.run_name = 'test'"
   ]
  },
  {
   "cell_type": "code",
   "execution_count": null,
   "id": "voluntary-routine",
   "metadata": {},
   "outputs": [
    {
     "name": "stdout",
     "output_type": "stream",
     "text": [
      "Crop size larger than volume in at least one dimension. Crop size changed to (1, 48, 48)\n",
      "1 volumes\n"
     ]
    }
   ],
   "source": [
    "model, post_proc, micro, img_3d, decode_dl = load_all(cfg)"
   ]
  },
  {
   "cell_type": "code",
   "execution_count": null,
   "id": "manufactured-youth",
   "metadata": {},
   "outputs": [
    {
     "name": "stdout",
     "output_type": "stream",
     "text": [
      "13832\n"
     ]
    }
   ],
   "source": [
    "from decode_fish.funcs.merfish_eval2 import *\n",
    "bench_df, code_ref, targets = get_benchmark()\n",
    "code_inds = np.stack([np.nonzero(c)[0] for c in code_ref])"
   ]
  },
  {
   "cell_type": "code",
   "execution_count": null,
   "id": "assigned-establishment",
   "metadata": {},
   "outputs": [],
   "source": [
    "def target_from_matches(matches_df):\n",
    "    \n",
    "    return np.where(matches_df[[f'int_tar_{i}' for i in range(16)]]>0,1,0)\n",
    "\n",
    "def verr_from_matches(matches_df):\n",
    "    \n",
    "    gt_code = np.where(matches_df[[f'int_tar_{i}' for i in range(16)]]>0,1,0)\n",
    "    pred_int = matches_df[[f'int_pred_{i}' for i in range(16)]].values\n",
    "    \n",
    "    corrs = [np.corrcoef(gt_code[i], pred_int[i])[0,1] for i in range(len(matches_df))]\n",
    "    \n",
    "    return corrs\n",
    "                    \n",
    "def input_from_df(df, from_matches=True):\n",
    "                    \n",
    "    df_str = '_pred' if from_matches else  ''\n",
    "    input_keys = ['prob'+df_str,'x_sig'+df_str,'y_sig'+df_str] + ['int'+df_str+f'_{i}' for i in range(16)] + ['int_sig'+df_str+f'_{i}' for i in range(16)]\n",
    "    inp_arr = df[input_keys].values\n",
    "#     inp_arr[:,1:3] /= 20\n",
    "#     inp_arr[:,-16:] *= 10\n",
    "    return df[input_keys].values"
   ]
  },
  {
   "cell_type": "code",
   "execution_count": null,
   "id": "certified-exception",
   "metadata": {},
   "outputs": [],
   "source": [
    "class code_net(nn.Module):\n",
    "\n",
    "    def __init__(self, n_inputs=35, n_outputs=1):\n",
    "        super(code_net, self).__init__()\n",
    "        \n",
    "        self.fc1 = nn.Linear(n_inputs, 64)\n",
    "        self.fc2 = nn.Linear(64, 32)\n",
    "        self.fc3 = nn.Linear(32, 32)\n",
    "        self.fc4 = nn.Linear(32, n_outputs)\n",
    "        \n",
    "    def forward(self, x):\n",
    "        x = F.elu(self.fc1(x))\n",
    "        x = F.elu(self.fc2(x))\n",
    "        x = F.elu(self.fc3(x))\n",
    "        x = torch.tanh(self.fc4(x))\n",
    "        return x\n",
    "\n",
    "net = code_net().cuda()"
   ]
  },
  {
   "cell_type": "code",
   "execution_count": null,
   "id": "printable-alloy",
   "metadata": {},
   "outputs": [
    {
     "name": "stderr",
     "output_type": "stream",
     "text": [
      "100%|████████████████████████████████████████████████████████████| 50/50 [01:02<00:00,  1.24s/it]\n"
     ]
    }
   ],
   "source": [
    "from decode_fish.engine.point_process import *\n",
    "from decode_fish.funcs.output_trafo import *\n",
    "from decode_fish.funcs.evaluation import *\n",
    "from decode_fish.engine.gmm_loss import *\n",
    "\n",
    "num_iters = 50\n",
    "batch_size = 50\n",
    "i = 0\n",
    "\n",
    "bce = torch.nn.BCEWithLogitsLoss()\n",
    "mse = torch.nn.MSELoss()\n",
    "opt = torch.optim.AdamW(net.parameters(), lr = 1e-3)\n",
    "sched = torch.optim.lr_scheduler.StepLR(opt, step_size=500, gamma=0.5)\n",
    "loss_col = []\n",
    "\n",
    "for i in tqdm(range(num_iters)):\n",
    "\n",
    "    with torch.no_grad():\n",
    "\n",
    "        x, local_rate, background = next(iter(decode_dl))\n",
    "        sim_vars = PointProcessUniform(local_rate*2.,model.int_dist.int_conc, model.int_dist.int_rate, \n",
    "                                       model.int_dist.int_loc, channels=16, n_bits=4, sim_z=False, codebook=torch.tensor(code_inds)).sample(from_code_book=False)\n",
    "        xsim = micro(*sim_vars)\n",
    "        x = micro.noise(xsim, background).sample()\n",
    "\n",
    "        gt_vars = sim_vars[:-1]\n",
    "        gt_df = sample_to_df(*gt_vars, px_size_zyx=[1.,1.,1.])\n",
    "\n",
    "        model.eval().cuda()\n",
    "        res_dict = model(x.cuda())\n",
    "        res_dict = model.tensor_to_dict(res_dict)\n",
    "        pred_df = post_proc.get_df(res_dict)\n",
    "\n",
    "        perf, matches, _ = matching(px_to_nm(gt_df), pred_df, tolerance=500, print_res=False)\n",
    "    \n",
    "    matches = matches.sample(frac=1).reset_index(drop=True)\n",
    "        \n",
    "    for b in range(len(matches)//batch_size):\n",
    "\n",
    "        opt.zero_grad()\n",
    "\n",
    "        net_inp = T(input_from_df(matches[b*batch_size:(b+1)*batch_size], True), dtype=torch.float32).cuda()\n",
    "        \n",
    "        net_out = net(net_inp)\n",
    "\n",
    "#         net_tar = T(target_from_matches(matches[b*batch_size:(b+1)*batch_size]), dtype=torch.float32).cuda()\n",
    "#         loss = bce(net_out, net_tar)\n",
    "        \n",
    "        net_tar = T(verr_from_matches(matches[b*batch_size:(b+1)*batch_size]), dtype=torch.float32).cuda()\n",
    "        loss = mse(net_out, net_tar[:,None])\n",
    "        \n",
    "        loss.backward()\n",
    "        \n",
    "        opt.step()\n",
    "        sched.step()\n",
    "        \n",
    "        loss_col.append(loss.item())"
   ]
  },
  {
   "cell_type": "code",
   "execution_count": null,
   "id": "missing-boring",
   "metadata": {},
   "outputs": [
    {
     "data": {
      "text/plain": [
       "[<matplotlib.lines.Line2D at 0x7f40ed8be370>]"
      ]
     },
     "execution_count": null,
     "metadata": {},
     "output_type": "execute_result"
    },
    {
     "data": {
      "image/png": "[encoded data removed]",
      "text/plain": [
       "<Figure size 432x288 with 1 Axes>"
      ]
     },
     "metadata": {
      "needs_background": "light"
     },
     "output_type": "display_data"
    }
   ],
   "source": [
    "plt.plot(loss_col)\n",
    "plt.plot(loss_col2)"
   ]
  },
  {
   "cell_type": "code",
   "execution_count": null,
   "id": "large-vegetarian",
   "metadata": {},
   "outputs": [],
   "source": [
    "from monai.inferers import sliding_window_inference\n",
    "def predict(model, post_proc, image_paths, window_size=[None,256,256], device='cuda'):\n",
    "    pred_df = DF()\n",
    "    with torch.no_grad():\n",
    "        for p in image_paths:\n",
    "            print(p.split('/')[-1])\n",
    "            img = load_tiff_image(p)[None]\n",
    "\n",
    "            n_chans = img.shape[1]\n",
    "            print(img.shape)\n",
    "            z, y, x = img.shape[-3:]\n",
    "                \n",
    "            inp = img\n",
    "#                 inp[:,1:] = torch.flip(inp[:,1:], dims=[4])\n",
    "            output = sliding_window_inference(inp, window_size, 1, model.to(device), overlap=0.2, sw_device=device, device='cpu', mode='gaussian')\n",
    "            # output = model.cpu()(img[None,None])\n",
    "            output = model.tensor_to_dict(output)\n",
    "            p_si = sliding_window_inference(output['logits'], window_size, 1, post_proc, overlap=0.2, sw_device=device, device='cpu', mode='gaussian')\n",
    "            i_df = post_proc.get_df(output, p_si)\n",
    "            print('N. emitters: ', len(i_df))\n",
    "            i_df.loc[:,'frame_idx'] = 0\n",
    "            pred_df = append_emitter_df(pred_df, i_df)\n",
    "            free_mem()\n",
    "        return pred_df"
   ]
  },
  {
   "cell_type": "code",
   "execution_count": null,
   "id": "helpful-bahrain",
   "metadata": {},
   "outputs": [
    {
     "name": "stdout",
     "output_type": "stream",
     "text": [
      "img_stack.tiff\n",
      "torch.Size([1, 16, 1, 2048, 2048])\n",
      "N. emitters:  55404\n"
     ]
    }
   ],
   "source": [
    "image_paths = sorted(glob.glob(cfg.data_path.image_path))\n",
    "inf_df = predict(model, post_proc, image_paths, window_size=[None, 256, 256], device='cuda')"
   ]
  },
  {
   "cell_type": "code",
   "execution_count": null,
   "id": "portable-fault",
   "metadata": {},
   "outputs": [
    {
     "name": "stderr",
     "output_type": "stream",
     "text": [
      "100%|█████████████████████████████████████████████████████████| 555/555 [00:01<00:00, 414.31it/s]\n"
     ]
    }
   ],
   "source": [
    "out_vals = []\n",
    "\n",
    "for b in tqdm(range(len(inf_df)//100 + 1)):\n",
    "    \n",
    "    net_inp = T(input_from_df(inf_df[b*100:(b+1)*100], False), dtype=torch.float32).cuda()\n",
    "#     net_out = torch.sigmoid(net(net_inp))\n",
    "    net_out = net(net_inp)\n",
    "    \n",
    "    out_vals.append(np.array(cpu(net_out)))"
   ]
  },
  {
   "cell_type": "code",
   "execution_count": null,
   "id": "continental-theory",
   "metadata": {},
   "outputs": [],
   "source": [
    "out_arr = np.concatenate(out_vals)\n",
    "# inf_df[[f'bin_{i}' for i in range(16)]] = out_arr\n",
    "inf_df['corr_pred'] = out_arr"
   ]
  },
  {
   "cell_type": "code",
   "execution_count": null,
   "id": "juvenile-conviction",
   "metadata": {},
   "outputs": [
    {
     "data": {
      "text/plain": [
       "(array([  519.,  1236.,  1648.,  2172.,  2376.,  2486.,  3553.,  4334.,\n",
       "        11710., 25370.]),\n",
       " array([-0.04854582,  0.04656484,  0.1416755 ,  0.23678616,  0.3318968 ,\n",
       "         0.42700747,  0.52211815,  0.6172288 ,  0.71233946,  0.8074501 ,\n",
       "         0.9025608 ], dtype=float32),\n",
       " <BarContainer object of 10 artists>)"
      ]
     },
     "execution_count": null,
     "metadata": {},
     "output_type": "execute_result"
    },
    {
     "data": {
      "image/png": "[encoded data removed]",
      "text/plain": [
       "<Figure size 432x288 with 1 Axes>"
      ]
     },
     "metadata": {
      "needs_background": "light"
     },
     "output_type": "display_data"
    }
   ],
   "source": [
    "plt.hist(inf_df['corr_pred'])"
   ]
  },
  {
   "cell_type": "code",
   "execution_count": null,
   "id": "excessive-symbol",
   "metadata": {},
   "outputs": [],
   "source": [
    "inf_df.to_csv(f'../data/results/MERFISH/exp_ci14_ct04.csv', index=False)"
   ]
  },
  {
   "cell_type": "code",
   "execution_count": null,
   "id": "material-broadway",
   "metadata": {},
   "outputs": [
    {
     "name": "stderr",
     "output_type": "stream",
     "text": [
      "100%|████████████████████████████████████████████████████████████| 30/30 [00:21<00:00,  1.40it/s]\n"
     ]
    }
   ],
   "source": [
    "from decode_fish.engine.point_process import *\n",
    "num_iters = 30\n",
    "i = 0\n",
    "\n",
    "out_vals = []\n",
    "micro.noise.theta_const = micro.noise.theta_const = (micro.noise.theta_scale * micro.noise.theta_par).detach().cuda()\n",
    "\n",
    "df_col = []\n",
    "\n",
    "for i in tqdm(range(num_iters)):\n",
    "\n",
    "    with torch.no_grad():\n",
    "\n",
    "        x, local_rate, background = next(iter(decode_dl))\n",
    "        sim_vars = PointProcessUniform(local_rate*1.,model.int_dist.int_conc, model.int_dist.int_rate, \n",
    "                                       model.int_dist.int_loc, channels=16, n_bits=4, sim_z=False, codebook=torch.tensor(code_inds)).sample(from_code_book=True)\n",
    "        xsim = micro(*sim_vars)\n",
    "        x = micro.noise(xsim, background).sample()\n",
    "\n",
    "        gt_vars = sim_vars[:-1]\n",
    "        gt_df = sample_to_df(*gt_vars, px_size_zyx=[1.,1.,1.])\n",
    "\n",
    "        model.eval().cuda()\n",
    "        res_dict = model(x.cuda())\n",
    "        res_dict = model.tensor_to_dict(res_dict)\n",
    "        pred_df = post_proc.get_df(res_dict)\n",
    "\n",
    "        perf, matches, _ = matching(px_to_nm(gt_df), pred_df, tolerance=500, print_res=False)\n",
    "    \n",
    "    matches = matches.sample(frac=1).reset_index(drop=True)\n",
    "        \n",
    "    net_inp = T(input_from_df(matches, True), dtype=torch.float32).cuda()\n",
    "#     net_out = torch.sigmoid(net(net_inp))\n",
    "#     matches[[f'bin_{i}' for i in range(16)]] = np.array(cpu(net_out))\n",
    "\n",
    "    net_out = net(net_inp)\n",
    "    matches['corr_pred'] = np.array(cpu(net_out))\n",
    "    \n",
    "    df_col.append(matches)\n",
    "    \n",
    "df_col = pd.concat(df_col)\n",
    "df_col = df_col.reset_index()"
   ]
  },
  {
   "cell_type": "code",
   "execution_count": null,
   "id": "excess-selection",
   "metadata": {},
   "outputs": [
    {
     "name": "stderr",
     "output_type": "stream",
     "text": [
      "100%|████████████████████████████████████████████████████| 10568/10568 [00:01<00:00, 7659.06it/s]\n"
     ]
    }
   ],
   "source": [
    "res_df = df_col.copy()\n",
    "res_df['comb_sig'] = np.sqrt(res_df['x_sig_pred']**2+res_df['y_sig_pred'])\n",
    "\n",
    "int_keys = [f'int_tar_{i}' for i in range(16)]\n",
    "int_pred = res_df[int_keys].values\n",
    "int_pred = np.where(int_pred>0,1,0)\n",
    "\n",
    "code_ind = []\n",
    "\n",
    "for i in tqdm(range(len(int_pred))):\n",
    "\n",
    "    code_errors = 1-vcorrcoef(code_ref, int_pred[i])\n",
    "#     code_errors = bce_code(code_ref, int_pred[i])\n",
    "    min_ind = np.argmin(code_errors)\n",
    "    code_err.append(code_errors[min_ind])\n",
    "    code_ind.append(min_ind)\n",
    "\n",
    "res_df['gt_gene'] = targets[code_ind]"
   ]
  },
  {
   "cell_type": "code",
   "execution_count": null,
   "id": "worst-router",
   "metadata": {},
   "outputs": [
    {
     "name": "stderr",
     "output_type": "stream",
     "text": [
      "100%|████████████████████████████████████████████████████| 10568/10568 [00:01<00:00, 7404.64it/s]\n"
     ]
    }
   ],
   "source": [
    "int_keys = [f'int_pred_{i}' for i in range(16)]\n",
    "int_pred = res_df[int_keys].values\n",
    "\n",
    "code_err = []\n",
    "code_ind = []\n",
    "\n",
    "for i in tqdm(range(len(int_pred))):\n",
    "\n",
    "    code_errors = 1-vcorrcoef(code_ref, int_pred[i])\n",
    "#     code_errors = bce_code(code_ref, int_pred[i])\n",
    "    min_ind = np.argmin(code_errors)\n",
    "    code_err.append(code_errors[min_ind])\n",
    "    code_ind.append(min_ind)\n",
    "\n",
    "res_df['code_err'] = code_err\n",
    "res_df['code_inds'] = code_ind\n",
    "res_df['int_gene'] = targets[code_ind]"
   ]
  },
  {
   "cell_type": "code",
   "execution_count": null,
   "id": "numeric-coupon",
   "metadata": {},
   "outputs": [],
   "source": [
    "# int_keys = [f'bin_{i}' for i in range(16)]\n",
    "# int_pred = res_df[int_keys].values\n",
    "\n",
    "# code_err = []\n",
    "# code_ind = []\n",
    "\n",
    "# for i in tqdm(range(len(int_pred))):\n",
    "\n",
    "#     code_errors = 1-vcorrcoef(code_ref, int_pred[i])\n",
    "# #     code_errors = bce_code(code_ref, int_pred[i])\n",
    "#     min_ind = np.argmin(code_errors)\n",
    "#     code_err.append(code_errors[min_ind])\n",
    "#     code_ind.append(min_ind)\n",
    "\n",
    "# res_df['code_err'] = code_err\n",
    "# res_df['code_inds'] = code_ind\n",
    "# res_df['bin_gene'] = targets[code_ind]"
   ]
  },
  {
   "cell_type": "code",
   "execution_count": null,
   "id": "advance-ordinary",
   "metadata": {},
   "outputs": [
    {
     "data": {
      "text/plain": [
       "0.6978614685844058"
      ]
     },
     "execution_count": null,
     "metadata": {},
     "output_type": "execute_result"
    }
   ],
   "source": [
    "(res_df['gt_gene'] == res_df['int_gene']).sum()/len(res_df)"
   ]
  },
  {
   "cell_type": "code",
   "execution_count": null,
   "id": "frank-placement",
   "metadata": {},
   "outputs": [],
   "source": [
    "# (res_df['gt_gene'] == res_df['bin_gene']).sum()/len(res_df)"
   ]
  },
  {
   "cell_type": "code",
   "execution_count": null,
   "id": "sticky-requirement",
   "metadata": {},
   "outputs": [
    {
     "data": {
      "image/png": "[encoded data removed]",
      "text/plain": [
       "<Figure size 1152x360 with 4 Axes>"
      ]
     },
     "metadata": {
      "needs_background": "light"
     },
     "output_type": "display_data"
    }
   ],
   "source": [
    "res_df['int_sigs'] = res_df[[f'int_sig_pred_{i}' for i in range(16)]].values.sum(1)\n",
    "metrics = ['code_err', 'comb_sig', 'corr_pred', 'int_sigs']\n",
    "plt.figure(figsize=(16,5))\n",
    "for i in range(len(metrics)):\n",
    "    plt.subplot(1,len(metrics),i+1)\n",
    "    _=plt.hist(res_df[res_df['gt_gene'] == res_df['int_gene']][metrics[i]], density=True, alpha=0.5, bins=30)\n",
    "    _=plt.hist(res_df[res_df['gt_gene'] != res_df['int_gene']][metrics[i]], density=True, alpha=0.5, bins=30)\n",
    "    plt.title(metrics[i])"
   ]
  },
  {
   "cell_type": "code",
   "execution_count": null,
   "id": "attractive-nurse",
   "metadata": {},
   "outputs": [],
   "source": [
    "def make_roc(df, var='code_err', ascending=True):\n",
    "    \n",
    "    x = np.arange(1000,len(df),100)\n",
    "    df = df.sort_values(var, ascending=ascending)\n",
    "    n_blanks = []\n",
    "    for i in x:\n",
    "        n_blanks.append(np.array([df[:int(i)]['gt_gene'] != df[:int(i)]['int_gene']]).sum())\n",
    "        \n",
    "    return x, n_blanks"
   ]
  },
  {
   "cell_type": "code",
   "execution_count": null,
   "id": "verified-approval",
   "metadata": {},
   "outputs": [],
   "source": [
    "from decode_fish.funcs.visualization import *\n",
    "par_dict = {'res_df_ce':[res_df, 'code_err', True],\n",
    "            'res_df_cs':[res_df, 'comb_sig', True],\n",
    "            'res_df_cp':[res_df, 'corr_pred', False]}\n",
    "\n",
    "roc_dict = {}\n",
    "for k in par_dict:\n",
    "    x, y = make_roc(*par_dict[k])\n",
    "    roc_dict[k] = [x, y]"
   ]
  },
  {
   "cell_type": "code",
   "execution_count": null,
   "id": "virgin-temperature",
   "metadata": {},
   "outputs": [
    {
     "data": {
      "text/plain": [
       "(0.0, 1000.0)"
      ]
     },
     "execution_count": null,
     "metadata": {},
     "output_type": "execute_result"
    },
    {
     "data": {
      "image/png": "[encoded data removed]",
      "text/plain": [
       "<Figure size 432x288 with 1 Axes>"
      ]
     },
     "metadata": {
      "needs_background": "light"
     },
     "output_type": "display_data"
    }
   ],
   "source": [
    "for k in roc_dict:\n",
    "    x, y = roc_dict[k]\n",
    "    plt.plot(x, y, label=k)\n",
    "    \n",
    "plt.legend()\n",
    "plt.ylim(0, 1000)\n",
    "# plt.xlim(0, 22000)"
   ]
  },
  {
   "cell_type": "code",
   "execution_count": null,
   "id": "comic-mambo",
   "metadata": {},
   "outputs": [
    {
     "name": "stderr",
     "output_type": "stream",
     "text": [
      "100%|██████████████████████████████████████████████████████████████| 6/6 [00:00<00:00, 10.45it/s]\n"
     ]
    }
   ],
   "source": [
    "from decode_fish.funcs.visualization import *\n",
    "roc_dict = {}\n",
    "\n",
    "for i in tqdm(range(6)):\n",
    "#     res_df[f'k_{i}'] = (1-i*0.1)*res_df['code_err'] + i*0.1*res_df['comb_sig']/100\n",
    "    res_df[f'k_{i}'] = (1-i*0.2)*res_df['code_err'] + i*0.2*(1-res_df['corr_pred'])\n",
    "    par_dict = {f'k_{i}':[res_df, f'k_{i}', True]}\n",
    "\n",
    "    for k in par_dict:\n",
    "        x, y = make_roc(*par_dict[k])\n",
    "        roc_dict[k] = [x, y]"
   ]
  },
  {
   "cell_type": "code",
   "execution_count": null,
   "id": "orange-elephant",
   "metadata": {},
   "outputs": [
    {
     "data": {
      "text/plain": [
       "(0.0, 1000.0)"
      ]
     },
     "execution_count": null,
     "metadata": {},
     "output_type": "execute_result"
    },
    {
     "data": {
      "image/png": "[encoded data removed]",
      "text/plain": [
       "<Figure size 432x288 with 1 Axes>"
      ]
     },
     "metadata": {
      "needs_background": "light"
     },
     "output_type": "display_data"
    }
   ],
   "source": [
    "for k in roc_dict:\n",
    "    x, y = roc_dict[k]\n",
    "    plt.plot(x, y, label=k)\n",
    "    \n",
    "plt.legend()\n",
    "plt.xlim(0,10000)\n",
    "plt.ylim(0,1000)"
   ]
  },
  {
   "cell_type": "code",
   "execution_count": null,
   "id": "dressed-bobby",
   "metadata": {},
   "outputs": [],
   "source": []
  }
 ],
 "metadata": {
  "kernelspec": {
   "display_name": "Python [conda env:decode_fish_dev]",
   "language": "python",
   "name": "conda-env-decode_fish_dev-py"
  }
 },
 "nbformat": 4,
 "nbformat_minor": 5
}
