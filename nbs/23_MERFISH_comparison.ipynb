{
 "cells": [
  {
   "cell_type": "code",
   "execution_count": null,
   "id": "otherwise-vaccine",
   "metadata": {},
   "outputs": [],
   "source": [
    "# default_exp funcs.merfish_comparison"
   ]
  },
  {
   "cell_type": "code",
   "execution_count": null,
   "id": "designing-tournament",
   "metadata": {},
   "outputs": [],
   "source": [
    "%load_ext autoreload\n",
    "%autoreload 2\n",
    "%aimport -decode_fish.engine.place_psfs"
   ]
  },
  {
   "cell_type": "code",
   "execution_count": null,
   "id": "radio-criminal",
   "metadata": {},
   "outputs": [],
   "source": [
    "# export\n",
    "from decode_fish.imports import *\n",
    "\n",
    "# os.environ[\"CUDA_VISIBLE_DEVICES\"] = '1'\n",
    "\n",
    "from decode_fish.funcs.file_io import *\n",
    "from decode_fish.funcs.emitter_io import *\n",
    "from decode_fish.funcs.utils import *\n",
    "from decode_fish.funcs.dataset import *\n",
    "from decode_fish.funcs.plotting import *\n",
    "from decode_fish.engine.noise import estimate_noise_scale\n",
    "import shutil\n",
    "from decode_fish.funcs.visualization import *\n",
    "from decode_fish.funcs.predict import window_predict\n",
    "from decode_fish.funcs.predict import *\n",
    "from decode_fish.funcs.evaluation import *\n",
    "\n",
    "from omegaconf import open_dict\n",
    "from hydra import compose, initialize\n",
    "from decode_fish.funcs.merfish_eval import *\n",
    "\n",
    "sys.path.append('/groups/turaga/home/speisera/Mackebox/Artur/WorkDB/deepstorm/FQ/istdeco/')\n",
    "\n",
    "from istdeco import ISTDeco\n",
    "from utils import random_codebook, random_image_stack\n",
    "from codebook import Codebook\n",
    "# from starfish.image import Filter\n",
    "\n",
    "sys.path.append('/groups/turaga/home/speisera/Mackebox/Artur/WorkDB/deepstorm/FQ/bardensr/')\n",
    "# import bardensr # Crashes kernel?\n",
    "\n",
    "import optuna\n",
    "optuna.logging.set_verbosity(optuna.logging.INFO)"
   ]
  },
  {
   "cell_type": "code",
   "execution_count": null,
   "id": "naughty-england",
   "metadata": {},
   "outputs": [],
   "source": [
    "cfg = OmegaConf.load(f'/groups/turaga/home/speisera/Mackebox/Artur/WorkDB/deepstorm/models/fishcod/MERFISH_sim_2D/sim_2d_1/seed:0//train.yaml')"
   ]
  },
  {
   "cell_type": "code",
   "execution_count": null,
   "id": "prospective-chamber",
   "metadata": {},
   "outputs": [
    {
     "data": {
      "text/plain": [
       "{'low': 0.0002, 'high': 0.1}"
      ]
     },
     "execution_count": null,
     "metadata": {},
     "output_type": "execute_result"
    }
   ],
   "source": [
    "cfg.genm.prob_generator"
   ]
  },
  {
   "cell_type": "code",
   "execution_count": null,
   "id": "manufactured-youth",
   "metadata": {},
   "outputs": [],
   "source": [
    "codebook, targets = hydra.utils.instantiate(cfg.codebook)"
   ]
  },
  {
   "cell_type": "code",
   "execution_count": null,
   "id": "worth-campus",
   "metadata": {},
   "outputs": [
    {
     "name": "stderr",
     "output_type": "stream",
     "text": [
      "/groups/turaga/home/speisera/anaconda3/envs/decode_fish_dev2/lib/python3.8/site-packages/torch/cuda/__init__.py:122: UserWarning: \n",
      "    Found GPU2 NVS 510 which is of cuda capability 3.0.\n",
      "    PyTorch no longer supports this GPU because it is too old.\n",
      "    The minimum cuda capability supported by this library is 3.7.\n",
      "    \n",
      "  warnings.warn(old_gpu_warn % (d, name, major, minor, min_arch // 10, min_arch % 10))\n"
     ]
    },
    {
     "name": "stdout",
     "output_type": "stream",
     "text": [
      "Crop size larger than volume in at least one dimension. Crop size changed to (1, 48, 48)\n",
      "1 volumes\n"
     ]
    }
   ],
   "source": [
    "crop_sz = 128\n",
    "cfg.training.bs = 5\n",
    "cfg.genm.PSF.n_cols = 1\n",
    "cfg.sim.random_crop.crop_sz = crop_sz\n",
    "cfg.data_path.image_shape = [1,16,1,crop_sz,crop_sz]\n",
    "\n",
    "model, post_proc, micro, img_3d, decode_dl = load_all(cfg)\n",
    "psf, noise, micro = load_psf_noise_micro(cfg)"
   ]
  },
  {
   "cell_type": "code",
   "execution_count": null,
   "id": "material-broadway",
   "metadata": {},
   "outputs": [
    {
     "name": "stderr",
     "output_type": "stream",
     "text": [
      "/groups/turaga/home/speisera/anaconda3/envs/decode_fish_dev2/lib/python3.8/site-packages/torch/functional.py:568: UserWarning: torch.meshgrid: in an upcoming release, it will be required to pass the indexing argument. (Triggered internally at  ../aten/src/ATen/native/TensorShape.cpp:2228.)\n",
      "  return _VF.meshgrid(tensors, **kwargs)  # type: ignore[attr-defined]\n"
     ]
    }
   ],
   "source": [
    "from decode_fish.funcs.routines import *\n",
    "xsim, cols, gt = sim_data(decode_dl, micro, 10, \n",
    "                          int_conc=model.int_dist.int_conc.detach(), int_rate=model.int_dist.int_rate.detach(), int_loc=model.int_dist.int_loc.detach(),\n",
    "                          channels=micro.noise.channels, n_bits=4, codebook=torch.tensor(codebook), rate_fac=1.5, \n",
    "                          pos_noise_xy=cfg.genm.pos_noise.pos_noise_xy, pos_noise_z=cfg.genm.pos_noise.pos_noise_z, \n",
    "                          emitter_noise_rate_fac=cfg.genm.emitter_noise.rate_fac, emitter_noise_int_fac=cfg.genm.emitter_noise.int_fac\n",
    "                         )"
   ]
  },
  {
   "cell_type": "code",
   "execution_count": null,
   "id": "polar-exception",
   "metadata": {},
   "outputs": [],
   "source": [
    "gt = px_to_nm(gt, cfg.evaluation.px_size_zyx)"
   ]
  },
  {
   "cell_type": "code",
   "execution_count": null,
   "id": "cardiac-supplement",
   "metadata": {},
   "outputs": [],
   "source": [
    "pred_dfs = []\n",
    "net_inp = xsim\n",
    "for i in range(len(net_inp)):\n",
    "    pred_df = get_prediction(model, net_inp[i:i+1], post_proc, cuda=True)\n",
    "    pred_dfs.append(pred_df)\n",
    "\n",
    "pred_df = cat_emitter_dfs(pred_dfs)"
   ]
  },
  {
   "cell_type": "code",
   "execution_count": null,
   "id": "packed-registrar",
   "metadata": {},
   "outputs": [
    {
     "name": "stdout",
     "output_type": "stream",
     "text": [
      "Recall: 0.916\n",
      "Precision: 0.985\n",
      "Jaccard: 90.395\n",
      "RMSE_vol: 25.004\n",
      "Eff_3d: 84.234\n",
      "FN: 707.0 FP: 115.0\n",
      "Num. matches: 7736.000\n",
      "Shift: 0.10,-0.31,0.00\n",
      "------- 0.9701396070320579\n",
      "Recall: 0.898\n",
      "Precision: 0.966\n",
      "Jaccard: 87.115\n",
      "RMSE_vol: 17.520\n",
      "Eff_3d: 84.419\n",
      "FN: 857.0 FP: 265.0\n",
      "Num. matches: 7586.000\n",
      "Shift: 0.35,-0.30,0.00\n"
     ]
    }
   ],
   "source": [
    "sub_df = percentile_filter(pred_df, 100, 'comb_sig')\n",
    "perf, matches, _  = matching(gt, sub_df, match_genes=False, tolerance=300)\n",
    "print(f'-------', sum(matches['code_inds_pred'] == matches['code_inds_tar'])/len(matches))\n",
    "perf, matches, _  = matching(gt, sub_df, match_genes=True, tolerance=300)"
   ]
  },
  {
   "cell_type": "code",
   "execution_count": null,
   "id": "theoretical-pricing",
   "metadata": {},
   "outputs": [],
   "source": [
    "# export\n",
    "def get_istdeco_df(sim_data, codebook, psf_sig=(1.7, 1.7), n_iter=100, bg=100.):\n",
    "    \n",
    "    istd_results = pd.DataFrame()\n",
    "    \n",
    "    n_rounds = codebook.shape[1]\n",
    "    n_cols = codebook.shape[2]\n",
    "    \n",
    "    for i in range(len(sim_data)):\n",
    "\n",
    "        image_data = np.array(sim_data)[i,:,0]\n",
    "        image_data = image_data.reshape([n_rounds,n_cols,image_data.shape[-2],image_data.shape[-1]], order='F')\n",
    "        \n",
    "        init_th = np.percentile(image_data,50)\n",
    "\n",
    "        istdeco_model = ISTDeco(image_data, codebook, psf_sig, b=bg)\n",
    "        X, Q, loss = istdeco_model.run(niter=n_iter)\n",
    "\n",
    "        # Get codes\n",
    "        code_id, y, x = np.where(np.logical_and(X>init_th,Q>0.1))\n",
    "\n",
    "        intensity = X[code_id, y, x]\n",
    "        quality = Q[code_id, y, x]\n",
    "\n",
    "        # Store in dataframe\n",
    "        df = pd.DataFrame(data={\n",
    "                'frame_idx': i,\n",
    "                'x': x.astype('float')+0.5, \n",
    "                'y': y.astype('float')+0.5,\n",
    "                'z': 0.5,\n",
    "                'intensity': intensity, \n",
    "                'quality': quality,\n",
    "                'code_inds': code_id\n",
    "        })\n",
    "\n",
    "        istd_results = pd.concat([istd_results,df]) #istd_results.append(df)\n",
    "\n",
    "    istd_results = px_to_nm(istd_results)\n",
    "\n",
    "    return istd_results"
   ]
  },
  {
   "cell_type": "code",
   "execution_count": null,
   "id": "blessed-incentive",
   "metadata": {},
   "outputs": [],
   "source": [
    "import h5py\n",
    "with h5py.File('/groups/turaga/home/speisera/Mackebox/Artur/WorkDB/deepstorm/decode_fish/data/merfish_sims/sim_data4/dens_0.1_int_1.0.h5', 'r') as f:\n",
    "\n",
    "    xsim = f['frames'][()]\n",
    "    gt = get_df_from_hdf5(f['locations'])"
   ]
  },
  {
   "cell_type": "code",
   "execution_count": null,
   "id": "conditional-trick",
   "metadata": {},
   "outputs": [],
   "source": [
    "istd_df = get_istdeco_df(cpu(xsim), codebook.reshape([140,8,2], order='F'), psf_sig=(1.7, 1.7), n_iter=400)\n",
    "# istd_df = exclude_borders(istd_df, border_size_zyx=[0,500,500], img_size=[crop_sz*100,crop_sz*100,crop_sz*100])"
   ]
  },
  {
   "cell_type": "code",
   "execution_count": null,
   "id": "interstate-westminster",
   "metadata": {},
   "outputs": [],
   "source": [
    "istd_df = exclude_borders(istd_df, border_size_zyx=[0,500,500], img_size=[128*100,128*100,128*100])"
   ]
  },
  {
   "cell_type": "code",
   "execution_count": null,
   "id": "increased-sussex",
   "metadata": {},
   "outputs": [],
   "source": [
    "sub_df = istd_df[istd_df['quality'] > 0.35]\n",
    "sub_df = sub_df[sub_df['intensity'] > 4500]"
   ]
  },
  {
   "cell_type": "code",
   "execution_count": null,
   "id": "maritime-queen",
   "metadata": {},
   "outputs": [
    {
     "name": "stdout",
     "output_type": "stream",
     "text": [
      "Recall: 0.889\n",
      "Precision: 0.944\n",
      "Jaccard: 84.498\n",
      "RMSE_vol: 63.343\n",
      "Eff_3d: 64.738\n",
      "FN: 1542.0 FP: 733.0\n",
      "Num. matches: 12401.000\n",
      "Shift: -0.32,0.26,0.00\n",
      "------- 0.789210547536489\n",
      "Recall: 0.785\n",
      "Precision: 0.834\n",
      "Jaccard: 67.909\n",
      "RMSE_vol: 54.964\n",
      "Eff_3d: 57.750\n",
      "FN: 2992.0 FP: 2183.0\n",
      "Num. matches: 10951.000\n",
      "Shift: -0.35,0.16,0.00\n"
     ]
    }
   ],
   "source": [
    "perf, matches, _  = matching(gt, sub_df, match_genes=False, tolerance=300)\n",
    "print(f'-------', sum(matches['code_inds_pred'] == matches['code_inds_tar'])/len(matches))\n",
    "perf, matches, _  = matching(gt, sub_df, match_genes=True, tolerance=300)"
   ]
  },
  {
   "cell_type": "code",
   "execution_count": null,
   "id": "intimate-graduation",
   "metadata": {},
   "outputs": [
    {
     "name": "stderr",
     "output_type": "stream",
     "text": [
      "\u001b[32m[I 2022-05-24 08:26:24,001]\u001b[0m A new study created in memory with name: no-name-fcc9b733-95b5-46dd-a354-bf9934652aa2\u001b[0m\n",
      "\u001b[32m[I 2022-05-24 08:26:25,154]\u001b[0m Trial 0 finished with value: -0.3918928390286522 and parameters: {'qual_th': 0.7032956651518701, 'int_th': 5535.185244624838}. Best is trial 0 with value: -0.3918928390286522.\u001b[0m\n",
      "\u001b[32m[I 2022-05-24 08:26:33,082]\u001b[0m Trial 1 finished with value: -0.6835822538079435 and parameters: {'qual_th': 0.26568958489275485, 'int_th': 4182.297206745314}. Best is trial 1 with value: -0.6835822538079435.\u001b[0m\n",
      "\u001b[32m[I 2022-05-24 08:26:51,520]\u001b[0m Trial 2 finished with value: -0.5115155254158799 and parameters: {'qual_th': 0.12263764318715546, 'int_th': 957.701795404839}. Best is trial 1 with value: -0.6835822538079435.\u001b[0m\n",
      "\u001b[32m[I 2022-05-24 08:26:59,271]\u001b[0m Trial 3 finished with value: -0.6534094076643718 and parameters: {'qual_th': 0.3356277238214595, 'int_th': 1352.7955997987099}. Best is trial 1 with value: -0.6835822538079435.\u001b[0m\n",
      "\u001b[32m[I 2022-05-24 08:26:59,636]\u001b[0m Trial 4 finished with value: -0.2010993689163425 and parameters: {'qual_th': 0.1670957424657482, 'int_th': 15968.041691645843}. Best is trial 1 with value: -0.6835822538079435.\u001b[0m\n",
      "\u001b[32m[I 2022-05-24 08:27:00,576]\u001b[0m Trial 5 finished with value: -0.3540971925633601 and parameters: {'qual_th': 0.5465076396394882, 'int_th': 11959.947088661796}. Best is trial 1 with value: -0.6835822538079435.\u001b[0m\n",
      "\u001b[32m[I 2022-05-24 08:27:01,183]\u001b[0m Trial 6 finished with value: -0.2717120666944723 and parameters: {'qual_th': 0.21217029406738924, 'int_th': 14282.188120654308}. Best is trial 1 with value: -0.6835822538079435.\u001b[0m\n",
      "\u001b[32m[I 2022-05-24 08:27:06,863]\u001b[0m Trial 7 finished with value: -0.6531367509328634 and parameters: {'qual_th': 0.4003290808917258, 'int_th': 2017.5954291985984}. Best is trial 1 with value: -0.6835822538079435.\u001b[0m\n",
      "\u001b[32m[I 2022-05-24 08:27:10,700]\u001b[0m Trial 8 finished with value: -0.6171833516536388 and parameters: {'qual_th': 0.19201717201486757, 'int_th': 8118.504041495327}. Best is trial 1 with value: -0.6835822538079435.\u001b[0m\n",
      "\u001b[32m[I 2022-05-24 08:27:18,950]\u001b[0m Trial 9 finished with value: -0.6793484374148714 and parameters: {'qual_th': 0.23692909662391232, 'int_th': 4441.518008391312}. Best is trial 1 with value: -0.6835822538079435.\u001b[0m\n",
      "\u001b[32m[I 2022-05-24 08:27:20,889]\u001b[0m Trial 10 finished with value: -0.5019226665465614 and parameters: {'qual_th': 0.4991059594122468, 'int_th': 9211.255102935207}. Best is trial 1 with value: -0.6835822538079435.\u001b[0m\n",
      "\u001b[32m[I 2022-05-24 08:27:27,604]\u001b[0m Trial 11 finished with value: -0.6911551390628909 and parameters: {'qual_th': 0.2967598824577175, 'int_th': 4787.701085558247}. Best is trial 11 with value: -0.6911551390628909.\u001b[0m\n",
      "\u001b[32m[I 2022-05-24 08:27:33,880]\u001b[0m Trial 12 finished with value: -0.6914239993681778 and parameters: {'qual_th': 0.3108847986831761, 'int_th': 5022.186358774696}. Best is trial 12 with value: -0.6914239993681778.\u001b[0m\n",
      "\u001b[32m[I 2022-05-24 08:27:37,651]\u001b[0m Trial 13 finished with value: -0.6273072482533851 and parameters: {'qual_th': 0.3395349700143376, 'int_th': 7777.2222724759995}. Best is trial 12 with value: -0.6914239993681778.\u001b[0m\n",
      "\u001b[32m[I 2022-05-24 08:27:40,881]\u001b[0m Trial 14 finished with value: -0.6170472999313853 and parameters: {'qual_th': 0.46664926303578264, 'int_th': 6412.833400003249}. Best is trial 12 with value: -0.6914239993681778.\u001b[0m\n",
      "\u001b[32m[I 2022-05-24 08:27:42,587]\u001b[0m Trial 15 finished with value: -0.45265137687058216 and parameters: {'qual_th': 0.3274861919492225, 'int_th': 10951.680594916259}. Best is trial 12 with value: -0.6914239993681778.\u001b[0m\n",
      "\u001b[32m[I 2022-05-24 08:27:44,632]\u001b[0m Trial 16 finished with value: -0.49644900370338546 and parameters: {'qual_th': 0.6065476699723035, 'int_th': 3823.9113259665855}. Best is trial 12 with value: -0.6914239993681778.\u001b[0m\n",
      "\u001b[32m[I 2022-05-24 08:27:48,597]\u001b[0m Trial 17 finished with value: -0.6489396975478336 and parameters: {'qual_th': 0.40925345273988906, 'int_th': 6334.745112742269}. Best is trial 12 with value: -0.6914239993681778.\u001b[0m\n",
      "\u001b[32m[I 2022-05-24 08:27:56,756]\u001b[0m Trial 18 finished with value: -0.6721572114942949 and parameters: {'qual_th': 0.29199816649151455, 'int_th': 2912.0077728979118}. Best is trial 12 with value: -0.6914239993681778.\u001b[0m\n",
      "\u001b[32m[I 2022-05-24 08:27:59,065]\u001b[0m Trial 19 finished with value: -0.5162733019160076 and parameters: {'qual_th': 0.10413986365775926, 'int_th': 9954.214748152775}. Best is trial 12 with value: -0.6914239993681778.\u001b[0m\n",
      "\u001b[32m[I 2022-05-24 08:28:03,949]\u001b[0m Trial 20 finished with value: -0.676742224675551 and parameters: {'qual_th': 0.3692819670330055, 'int_th': 5671.944915627855}. Best is trial 12 with value: -0.6914239993681778.\u001b[0m\n",
      "\u001b[32m[I 2022-05-24 08:28:16,053]\u001b[0m Trial 21 finished with value: -0.5945501923417702 and parameters: {'qual_th': 0.25412833092983983, 'int_th': 159.0246120500051}. Best is trial 12 with value: -0.6914239993681778.\u001b[0m\n",
      "\u001b[32m[I 2022-05-24 08:28:23,977]\u001b[0m Trial 22 finished with value: -0.6849171672779172 and parameters: {'qual_th': 0.27461636591230715, 'int_th': 4203.451720806499}. Best is trial 12 with value: -0.6914239993681778.\u001b[0m\n",
      "\u001b[32m[I 2022-05-24 08:28:32,023]\u001b[0m Trial 23 finished with value: -0.674354710990045 and parameters: {'qual_th': 0.29652751076869677, 'int_th': 2973.48837680417}. Best is trial 12 with value: -0.6914239993681778.\u001b[0m\n",
      "\u001b[32m[I 2022-05-24 08:28:35,910]\u001b[0m Trial 24 finished with value: -0.6388907232947559 and parameters: {'qual_th': 0.4554603434572707, 'int_th': 4658.858037245136}. Best is trial 12 with value: -0.6914239993681778.\u001b[0m\n",
      "\u001b[32m[I 2022-05-24 08:28:40,908]\u001b[0m Trial 25 finished with value: -0.6523419798680243 and parameters: {'qual_th': 0.18302686019619643, 'int_th': 7263.555485350764}. Best is trial 12 with value: -0.6914239993681778.\u001b[0m\n",
      "\u001b[32m[I 2022-05-24 08:28:46,835]\u001b[0m Trial 26 finished with value: -0.6721948129199159 and parameters: {'qual_th': 0.3751891338346098, 'int_th': 3005.234004579543}. Best is trial 12 with value: -0.6914239993681778.\u001b[0m\n",
      "\u001b[32m[I 2022-05-24 08:28:53,304]\u001b[0m Trial 27 finished with value: -0.6890474364063003 and parameters: {'qual_th': 0.2898663221882244, 'int_th': 5272.987852069036}. Best is trial 12 with value: -0.6914239993681778.\u001b[0m\n",
      "\u001b[32m[I 2022-05-24 08:28:59,039]\u001b[0m Trial 28 finished with value: -0.6710756092952881 and parameters: {'qual_th': 0.15420367672061855, 'int_th': 6508.413518394029}. Best is trial 12 with value: -0.6914239993681778.\u001b[0m\n",
      "\u001b[32m[I 2022-05-24 08:29:00,752]\u001b[0m Trial 29 finished with value: -0.4734157692529062 and parameters: {'qual_th': 0.6247083341705666, 'int_th': 5633.965404897773}. Best is trial 12 with value: -0.6914239993681778.\u001b[0m\n",
      "\u001b[32m[I 2022-05-24 08:29:01,551]\u001b[0m Trial 30 finished with value: -0.3299196311795799 and parameters: {'qual_th': 0.7293742578594975, 'int_th': 8650.940681832706}. Best is trial 12 with value: -0.6914239993681778.\u001b[0m\n",
      "\u001b[32m[I 2022-05-24 08:29:08,014]\u001b[0m Trial 31 finished with value: -0.6890013328984107 and parameters: {'qual_th': 0.2886226673641254, 'int_th': 5283.755596787427}. Best is trial 12 with value: -0.6914239993681778.\u001b[0m\n",
      "\u001b[32m[I 2022-05-24 08:29:15,592]\u001b[0m Trial 32 finished with value: -0.6842166693833147 and parameters: {'qual_th': 0.23723373617612917, 'int_th': 4944.546506394893}. Best is trial 12 with value: -0.6914239993681778.\u001b[0m\n",
      "\u001b[32m[I 2022-05-24 08:29:20,372]\u001b[0m Trial 33 finished with value: -0.6614096487355965 and parameters: {'qual_th': 0.31018083254978984, 'int_th': 6977.713037926373}. Best is trial 12 with value: -0.6914239993681778.\u001b[0m\n",
      "\u001b[32m[I 2022-05-24 08:29:26,985]\u001b[0m Trial 34 finished with value: -0.6636184249164016 and parameters: {'qual_th': 0.3619489044343532, 'int_th': 2067.3785570689606}. Best is trial 12 with value: -0.6914239993681778.\u001b[0m\n",
      "\u001b[32m[I 2022-05-24 08:29:34,673]\u001b[0m Trial 35 finished with value: -0.68628164588229 and parameters: {'qual_th': 0.2736623672413004, 'int_th': 5448.912723651498}. Best is trial 12 with value: -0.6914239993681778.\u001b[0m\n",
      "\u001b[32m[I 2022-05-24 08:29:55,310]\u001b[0m Trial 36 finished with value: -0.6661742910862268 and parameters: {'qual_th': 0.2390602238170541, 'int_th': 3522.021106106301}. Best is trial 12 with value: -0.6914239993681778.\u001b[0m\n"
     ]
    },
    {
     "name": "stderr",
     "output_type": "stream",
     "text": [
      "\u001b[32m[I 2022-05-24 08:30:03,523]\u001b[0m Trial 37 finished with value: -0.6747758474698663 and parameters: {'qual_th': 0.14646401581140703, 'int_th': 5044.536651611353}. Best is trial 12 with value: -0.6914239993681778.\u001b[0m\n",
      "\u001b[32m[I 2022-05-24 08:30:08,389]\u001b[0m Trial 38 finished with value: -0.6354258874139238 and parameters: {'qual_th': 0.43747511864311794, 'int_th': 1995.4755115882622}. Best is trial 12 with value: -0.6914239993681778.\u001b[0m\n",
      "\u001b[32m[I 2022-05-24 08:30:12,746]\u001b[0m Trial 39 finished with value: -0.637544034483309 and parameters: {'qual_th': 0.21630246025072533, 'int_th': 7631.225389662888}. Best is trial 12 with value: -0.6914239993681778.\u001b[0m\n",
      "\u001b[32m[I 2022-05-24 08:30:21,057]\u001b[0m Trial 40 finished with value: -0.6479820555158962 and parameters: {'qual_th': 0.32528557616343834, 'int_th': 1119.6227657785394}. Best is trial 12 with value: -0.6914239993681778.\u001b[0m\n",
      "\u001b[32m[I 2022-05-24 08:30:27,237]\u001b[0m Trial 41 finished with value: -0.6846196472994058 and parameters: {'qual_th': 0.276621420952496, 'int_th': 5789.97127431384}. Best is trial 12 with value: -0.6914239993681778.\u001b[0m\n",
      "\u001b[32m[I 2022-05-24 08:30:34,803]\u001b[0m Trial 42 finished with value: -0.6801262118842258 and parameters: {'qual_th': 0.2082996346662851, 'int_th': 5256.539555885898}. Best is trial 12 with value: -0.6914239993681778.\u001b[0m\n",
      "\u001b[32m[I 2022-05-24 08:30:40,929]\u001b[0m Trial 43 finished with value: -0.6849264395282028 and parameters: {'qual_th': 0.3492133405493857, 'int_th': 3934.9087669686483}. Best is trial 12 with value: -0.6914239993681778.\u001b[0m\n",
      "\u001b[32m[I 2022-05-24 08:30:41,345]\u001b[0m Trial 44 finished with value: -0.2131849284648269 and parameters: {'qual_th': 0.38615790680569506, 'int_th': 15662.7930521762}. Best is trial 12 with value: -0.6914239993681778.\u001b[0m\n",
      "\u001b[32m[I 2022-05-24 08:30:44,732]\u001b[0m Trial 45 finished with value: -0.5935090110171125 and parameters: {'qual_th': 0.2716883793323609, 'int_th': 8541.2392496905}. Best is trial 12 with value: -0.6914239993681778.\u001b[0m\n",
      "\u001b[32m[I 2022-05-24 08:30:50,089]\u001b[0m Trial 46 finished with value: -0.6795906606547937 and parameters: {'qual_th': 0.3101256631703183, 'int_th': 6207.769162255001}. Best is trial 12 with value: -0.6914239993681778.\u001b[0m\n",
      "\u001b[32m[I 2022-05-24 08:30:51,045]\u001b[0m Trial 47 finished with value: -0.341615341663264 and parameters: {'qual_th': 0.33818279102991944, 'int_th': 12938.657274377536}. Best is trial 12 with value: -0.6914239993681778.\u001b[0m\n",
      "\u001b[32m[I 2022-05-24 08:30:56,230]\u001b[0m Trial 48 finished with value: -0.6628069644635837 and parameters: {'qual_th': 0.206419308769927, 'int_th': 6930.592222330371}. Best is trial 12 with value: -0.6914239993681778.\u001b[0m\n",
      "\u001b[32m[I 2022-05-24 08:30:58,498]\u001b[0m Trial 49 finished with value: -0.52360870344129 and parameters: {'qual_th': 0.4164770263775907, 'int_th': 9482.049096087718}. Best is trial 12 with value: -0.6914239993681778.\u001b[0m\n",
      "\u001b[32m[I 2022-05-24 08:31:16,248]\u001b[0m Trial 50 finished with value: -0.6842257518468797 and parameters: {'qual_th': 0.24929766659036137, 'int_th': 4579.920812073953}. Best is trial 12 with value: -0.6914239993681778.\u001b[0m\n",
      "\u001b[32m[I 2022-05-24 08:31:28,717]\u001b[0m Trial 51 finished with value: -0.6822320575583602 and parameters: {'qual_th': 0.35497029107769484, 'int_th': 3707.7910775230716}. Best is trial 12 with value: -0.6914239993681778.\u001b[0m\n",
      "\u001b[32m[I 2022-05-24 08:31:37,048]\u001b[0m Trial 52 finished with value: -0.6656346674288244 and parameters: {'qual_th': 0.295817869781406, 'int_th': 2399.0243650618977}. Best is trial 12 with value: -0.6914239993681778.\u001b[0m\n",
      "\u001b[32m[I 2022-05-24 08:31:43,196]\u001b[0m Trial 53 finished with value: -0.685241048146776 and parameters: {'qual_th': 0.34763221753964824, 'int_th': 4042.0716317215365}. Best is trial 12 with value: -0.6914239993681778.\u001b[0m\n",
      "\u001b[32m[I 2022-05-24 08:31:50,339]\u001b[0m Trial 54 finished with value: -0.6834093385842641 and parameters: {'qual_th': 0.31806060102673966, 'int_th': 3386.6741802443594}. Best is trial 12 with value: -0.6914239993681778.\u001b[0m\n",
      "\u001b[32m[I 2022-05-24 08:31:58,010]\u001b[0m Trial 55 finished with value: -0.6848015747142839 and parameters: {'qual_th': 0.2701888087010576, 'int_th': 4338.013627536489}. Best is trial 12 with value: -0.6914239993681778.\u001b[0m\n",
      "\u001b[32m[I 2022-05-24 08:32:02,431]\u001b[0m Trial 56 finished with value: -0.6638253142243091 and parameters: {'qual_th': 0.3932855782798187, 'int_th': 5866.717247035195}. Best is trial 12 with value: -0.6914239993681778.\u001b[0m\n",
      "\u001b[32m[I 2022-05-24 08:32:08,830]\u001b[0m Trial 57 finished with value: -0.6884443544571559 and parameters: {'qual_th': 0.2916529541147752, 'int_th': 5335.407111270474}. Best is trial 12 with value: -0.6914239993681778.\u001b[0m\n",
      "\u001b[32m[I 2022-05-24 08:32:15,510]\u001b[0m Trial 58 finished with value: -0.6891068516009887 and parameters: {'qual_th': 0.288273628265975, 'int_th': 5271.6372633008}. Best is trial 12 with value: -0.6914239993681778.\u001b[0m\n",
      "\u001b[32m[I 2022-05-24 08:32:18,385]\u001b[0m Trial 59 finished with value: -0.5941959303760164 and parameters: {'qual_th': 0.49320410348640986, 'int_th': 6589.652662906076}. Best is trial 12 with value: -0.6914239993681778.\u001b[0m\n",
      "\u001b[32m[I 2022-05-24 08:32:26,350]\u001b[0m Trial 60 finished with value: -0.6819419421592962 and parameters: {'qual_th': 0.22509999131826985, 'int_th': 4920.65884784309}. Best is trial 12 with value: -0.6914239993681778.\u001b[0m\n",
      "\u001b[32m[I 2022-05-24 08:32:44,144]\u001b[0m Trial 61 finished with value: -0.6887409042856508 and parameters: {'qual_th': 0.29300465706056067, 'int_th': 5279.40802699017}. Best is trial 12 with value: -0.6914239993681778.\u001b[0m\n",
      "\u001b[32m[I 2022-05-24 08:32:53,021]\u001b[0m Trial 62 finished with value: -0.6250164846943332 and parameters: {'qual_th': 0.25437297393871694, 'int_th': 7937.379017564534}. Best is trial 12 with value: -0.6914239993681778.\u001b[0m\n",
      "\u001b[32m[I 2022-05-24 08:32:57,386]\u001b[0m Trial 63 finished with value: -0.6473126631710127 and parameters: {'qual_th': 0.29856717021936546, 'int_th': 7367.741052933917}. Best is trial 12 with value: -0.6914239993681778.\u001b[0m\n",
      "\u001b[32m[I 2022-05-24 08:33:03,799]\u001b[0m Trial 64 finished with value: -0.6882291773473925 and parameters: {'qual_th': 0.287992546834596, 'int_th': 5349.564273552213}. Best is trial 12 with value: -0.6914239993681778.\u001b[0m\n",
      "\u001b[32m[I 2022-05-24 08:33:08,966]\u001b[0m Trial 65 finished with value: -0.6773201732233374 and parameters: {'qual_th': 0.3278844578042075, 'int_th': 6209.619031447126}. Best is trial 12 with value: -0.6914239993681778.\u001b[0m\n",
      "\u001b[32m[I 2022-05-24 08:33:16,978]\u001b[0m Trial 66 finished with value: -0.6827050281127478 and parameters: {'qual_th': 0.25148634462071645, 'int_th': 4440.772529342952}. Best is trial 12 with value: -0.6914239993681778.\u001b[0m\n",
      "\u001b[32m[I 2022-05-24 08:33:29,633]\u001b[0m Trial 67 finished with value: -0.6097478933037417 and parameters: {'qual_th': 0.17495793579248448, 'int_th': 2609.5487913117563}. Best is trial 12 with value: -0.6914239993681778.\u001b[0m\n",
      "\u001b[32m[I 2022-05-24 08:33:37,000]\u001b[0m Trial 68 finished with value: -0.6801854597935736 and parameters: {'qual_th': 0.3146090549211775, 'int_th': 3191.541015908766}. Best is trial 12 with value: -0.6914239993681778.\u001b[0m\n",
      "\u001b[32m[I 2022-05-24 08:33:41,559]\u001b[0m Trial 69 finished with value: -0.6679072717217465 and parameters: {'qual_th': 0.3803754497961964, 'int_th': 5974.606142042059}. Best is trial 12 with value: -0.6914239993681778.\u001b[0m\n",
      "\u001b[32m[I 2022-05-24 08:33:46,864]\u001b[0m Trial 70 finished with value: -0.6649775047193577 and parameters: {'qual_th': 0.1877576533298207, 'int_th': 6817.416859622097}. Best is trial 12 with value: -0.6914239993681778.\u001b[0m\n",
      "\u001b[32m[I 2022-05-24 08:33:53,458]\u001b[0m Trial 71 finished with value: -0.6897725806910788 and parameters: {'qual_th': 0.2875930010000389, 'int_th': 5221.553493035367}. Best is trial 12 with value: -0.6914239993681778.\u001b[0m\n",
      "\u001b[32m[I 2022-05-24 08:34:00,320]\u001b[0m Trial 72 finished with value: -0.6905276993565608 and parameters: {'qual_th': 0.2873636430540704, 'int_th': 4851.108893592641}. Best is trial 12 with value: -0.6914239993681778.\u001b[0m\n",
      "\u001b[32m[I 2022-05-24 08:34:08,924]\u001b[0m Trial 73 finished with value: -0.6751724448973984 and parameters: {'qual_th': 0.235709839083987, 'int_th': 4143.709978315392}. Best is trial 12 with value: -0.6914239993681778.\u001b[0m\n",
      "\u001b[32m[I 2022-05-24 08:34:16,432]\u001b[0m Trial 74 finished with value: -0.687695108821404 and parameters: {'qual_th': 0.26010288377016705, 'int_th': 4805.753151558452}. Best is trial 12 with value: -0.6914239993681778.\u001b[0m\n"
     ]
    },
    {
     "name": "stderr",
     "output_type": "stream",
     "text": [
      "\u001b[32m[I 2022-05-24 08:34:22,751]\u001b[0m Trial 75 finished with value: -0.6876688689797485 and parameters: {'qual_th': 0.2827561079478264, 'int_th': 5571.186855783381}. Best is trial 12 with value: -0.6914239993681778.\u001b[0m\n",
      "\u001b[32m[I 2022-05-24 08:34:29,233]\u001b[0m Trial 76 finished with value: -0.6903324099989946 and parameters: {'qual_th': 0.3058530555695615, 'int_th': 4913.576413289925}. Best is trial 12 with value: -0.6914239993681778.\u001b[0m\n",
      "\u001b[32m[I 2022-05-24 08:34:31,576]\u001b[0m Trial 77 finished with value: -0.532191490821413 and parameters: {'qual_th': 0.5721482596130454, 'int_th': 4638.032267769391}. Best is trial 12 with value: -0.6914239993681778.\u001b[0m\n",
      "\u001b[32m[I 2022-05-24 08:34:39,116]\u001b[0m Trial 78 finished with value: -0.6847964101301177 and parameters: {'qual_th': 0.3374692979498041, 'int_th': 3550.7405819565283}. Best is trial 12 with value: -0.6914239993681778.\u001b[0m\n",
      "\u001b[32m[I 2022-05-24 08:34:50,664]\u001b[0m Trial 79 finished with value: -0.6806146335562305 and parameters: {'qual_th': 0.31102007912014307, 'int_th': 6155.736306484362}. Best is trial 12 with value: -0.6914239993681778.\u001b[0m\n",
      "\u001b[32m[I 2022-05-24 08:34:57,356]\u001b[0m Trial 80 finished with value: -0.6432417971778234 and parameters: {'qual_th': 0.37089719748107824, 'int_th': 7180.481443054221}. Best is trial 12 with value: -0.6914239993681778.\u001b[0m\n",
      "\u001b[32m[I 2022-05-24 08:35:05,248]\u001b[0m Trial 81 finished with value: -0.6904573327999837 and parameters: {'qual_th': 0.302834015195952, 'int_th': 4926.4796780415245}. Best is trial 12 with value: -0.6914239993681778.\u001b[0m\n",
      "\u001b[32m[I 2022-05-24 08:35:16,763]\u001b[0m Trial 82 finished with value: -0.6828229724955033 and parameters: {'qual_th': 0.22850338829324748, 'int_th': 5012.067554925782}. Best is trial 12 with value: -0.6914239993681778.\u001b[0m\n",
      "\u001b[32m[I 2022-05-24 08:35:23,315]\u001b[0m Trial 83 finished with value: -0.6872687488655455 and parameters: {'qual_th': 0.33062036227709524, 'int_th': 3954.2706505503156}. Best is trial 12 with value: -0.6914239993681778.\u001b[0m\n",
      "\u001b[32m[I 2022-05-24 08:35:35,332]\u001b[0m Trial 84 finished with value: -0.6837891021952561 and parameters: {'qual_th': 0.2648749767933801, 'int_th': 5874.968796129944}. Best is trial 12 with value: -0.6914239993681778.\u001b[0m\n",
      "\u001b[32m[I 2022-05-24 08:35:45,912]\u001b[0m Trial 85 finished with value: -0.6728888234623944 and parameters: {'qual_th': 0.30205436260720364, 'int_th': 6513.158847262458}. Best is trial 12 with value: -0.6914239993681778.\u001b[0m\n",
      "\u001b[32m[I 2022-05-24 08:35:53,341]\u001b[0m Trial 86 finished with value: -0.6835276334019352 and parameters: {'qual_th': 0.35826309068594864, 'int_th': 4578.44229518014}. Best is trial 12 with value: -0.6914239993681778.\u001b[0m\n",
      "\u001b[32m[I 2022-05-24 08:35:55,327]\u001b[0m Trial 87 finished with value: -0.48568258357231386 and parameters: {'qual_th': 0.19649073733455524, 'int_th': 10474.078481582463}. Best is trial 12 with value: -0.6914239993681778.\u001b[0m\n",
      "\u001b[32m[I 2022-05-24 08:36:04,794]\u001b[0m Trial 88 finished with value: -0.645944338813237 and parameters: {'qual_th': 0.28134097419151205, 'int_th': 1539.2785476951453}. Best is trial 12 with value: -0.6914239993681778.\u001b[0m\n",
      "\u001b[32m[I 2022-05-24 08:36:09,637]\u001b[0m Trial 89 finished with value: -0.6425382571104815 and parameters: {'qual_th': 0.43310277892639815, 'int_th': 2649.448386985515}. Best is trial 12 with value: -0.6914239993681778.\u001b[0m\n",
      "\u001b[32m[I 2022-05-24 08:36:17,000]\u001b[0m Trial 90 finished with value: -0.6865796637545831 and parameters: {'qual_th': 0.3205994505390291, 'int_th': 3715.548614598191}. Best is trial 12 with value: -0.6914239993681778.\u001b[0m\n",
      "\u001b[32m[I 2022-05-24 08:36:23,528]\u001b[0m Trial 91 finished with value: -0.6906303360538683 and parameters: {'qual_th': 0.30095835829740547, 'int_th': 5055.362894295711}. Best is trial 12 with value: -0.6914239993681778.\u001b[0m\n",
      "\u001b[32m[I 2022-05-24 08:36:29,435]\u001b[0m Trial 92 finished with value: -0.6881908363430856 and parameters: {'qual_th': 0.3089237971125997, 'int_th': 5617.170205651202}. Best is trial 12 with value: -0.6914239993681778.\u001b[0m\n",
      "\u001b[32m[I 2022-05-24 08:36:36,965]\u001b[0m Trial 93 finished with value: -0.6863310118064814 and parameters: {'qual_th': 0.24309069681159282, 'int_th': 5019.983648209811}. Best is trial 12 with value: -0.6914239993681778.\u001b[0m\n",
      "\u001b[32m[I 2022-05-24 08:36:44,969]\u001b[0m Trial 94 finished with value: -0.6841708609033691 and parameters: {'qual_th': 0.268705432715311, 'int_th': 4259.819893759663}. Best is trial 12 with value: -0.6914239993681778.\u001b[0m\n",
      "\u001b[32m[I 2022-05-24 08:36:50,768]\u001b[0m Trial 95 finished with value: -0.6868775912406708 and parameters: {'qual_th': 0.34662609555337154, 'int_th': 5142.960328701973}. Best is trial 12 with value: -0.6914239993681778.\u001b[0m\n",
      "\u001b[32m[I 2022-05-24 08:36:59,363]\u001b[0m Trial 96 finished with value: -0.6767165290776889 and parameters: {'qual_th': 0.28230686875627214, 'int_th': 3289.5016244744916}. Best is trial 12 with value: -0.6914239993681778.\u001b[0m\n",
      "\u001b[32m[I 2022-05-24 08:37:00,820]\u001b[0m Trial 97 finished with value: -0.42640055425209306 and parameters: {'qual_th': 0.6713493338386942, 'int_th': 4797.681990324699}. Best is trial 12 with value: -0.6914239993681778.\u001b[0m\n",
      "\u001b[32m[I 2022-05-24 08:37:06,441]\u001b[0m Trial 98 finished with value: -0.6674026791066472 and parameters: {'qual_th': 0.2170780737380641, 'int_th': 6706.394140606813}. Best is trial 12 with value: -0.6914239993681778.\u001b[0m\n",
      "\u001b[32m[I 2022-05-24 08:37:12,576]\u001b[0m Trial 99 finished with value: -0.687919872008959 and parameters: {'qual_th': 0.30326150843252914, 'int_th': 5597.536926051174}. Best is trial 12 with value: -0.6914239993681778.\u001b[0m\n",
      "\u001b[32m[I 2022-05-24 08:37:19,240]\u001b[0m Trial 100 finished with value: -0.6882791409401229 and parameters: {'qual_th': 0.3315602728675428, 'int_th': 4270.976865123758}. Best is trial 12 with value: -0.6914239993681778.\u001b[0m\n",
      "\u001b[32m[I 2022-05-24 08:37:25,954]\u001b[0m Trial 101 finished with value: -0.6893268970607567 and parameters: {'qual_th': 0.29136334543671655, 'int_th': 5270.399968554002}. Best is trial 12 with value: -0.6914239993681778.\u001b[0m\n",
      "\u001b[32m[I 2022-05-24 08:37:32,162]\u001b[0m Trial 102 finished with value: -0.6808233532044967 and parameters: {'qual_th': 0.2536002628393598, 'int_th': 6127.01475270691}. Best is trial 12 with value: -0.6914239993681778.\u001b[0m\n",
      "\u001b[32m[I 2022-05-24 08:37:38,364]\u001b[0m Trial 103 finished with value: -0.6886545096273775 and parameters: {'qual_th': 0.3198995544551857, 'int_th': 5383.657564082726}. Best is trial 12 with value: -0.6914239993681778.\u001b[0m\n",
      "\u001b[32m[I 2022-05-24 08:37:45,866]\u001b[0m Trial 104 finished with value: -0.6892406487831391 and parameters: {'qual_th': 0.290117337111325, 'int_th': 4512.87611934401}. Best is trial 12 with value: -0.6914239993681778.\u001b[0m\n",
      "\u001b[32m[I 2022-05-24 08:37:54,818]\u001b[0m Trial 105 finished with value: -0.678267279683578 and parameters: {'qual_th': 0.2615931755960429, 'int_th': 3875.313429401224}. Best is trial 12 with value: -0.6914239993681778.\u001b[0m\n",
      "\u001b[32m[I 2022-05-24 08:38:02,428]\u001b[0m Trial 106 finished with value: -0.6872160853375483 and parameters: {'qual_th': 0.27666063148369513, 'int_th': 4571.842050729001}. Best is trial 12 with value: -0.6914239993681778.\u001b[0m\n",
      "\u001b[32m[I 2022-05-24 08:38:08,432]\u001b[0m Trial 107 finished with value: -0.6851435619832263 and parameters: {'qual_th': 0.294942519426781, 'int_th': 5847.566666309583}. Best is trial 12 with value: -0.6914239993681778.\u001b[0m\n",
      "\u001b[32m[I 2022-05-24 08:38:14,750]\u001b[0m Trial 108 finished with value: -0.673792210666436 and parameters: {'qual_th': 0.36516572569380484, 'int_th': 2953.807833750623}. Best is trial 12 with value: -0.6914239993681778.\u001b[0m\n",
      "\u001b[32m[I 2022-05-24 08:38:21,280]\u001b[0m Trial 109 finished with value: -0.6903612164248979 and parameters: {'qual_th': 0.30330346076184705, 'int_th': 5035.424709234691}. Best is trial 12 with value: -0.6914239993681778.\u001b[0m\n",
      "\u001b[32m[I 2022-05-24 08:38:27,572]\u001b[0m Trial 110 finished with value: -0.6873591903960052 and parameters: {'qual_th': 0.3469270618278448, 'int_th': 4811.037672554459}. Best is trial 12 with value: -0.6914239993681778.\u001b[0m\n",
      "\u001b[32m[I 2022-05-24 08:38:35,548]\u001b[0m Trial 111 finished with value: -0.6899367509064068 and parameters: {'qual_th': 0.3054172887133424, 'int_th': 5159.85871284247}. Best is trial 12 with value: -0.6914239993681778.\u001b[0m\n",
      "\u001b[32m[I 2022-05-24 08:38:42,573]\u001b[0m Trial 112 finished with value: -0.6893064366069482 and parameters: {'qual_th': 0.30294732990547135, 'int_th': 4356.514505924136}. Best is trial 12 with value: -0.6914239993681778.\u001b[0m\n"
     ]
    },
    {
     "name": "stderr",
     "output_type": "stream",
     "text": [
      "\u001b[32m[I 2022-05-24 08:38:49,326]\u001b[0m Trial 113 finished with value: -0.6885879994126208 and parameters: {'qual_th': 0.3233344170341098, 'int_th': 4053.8231871300477}. Best is trial 12 with value: -0.6914239993681778.\u001b[0m\n",
      "\u001b[32m[I 2022-05-24 08:38:56,226]\u001b[0m Trial 114 finished with value: -0.6893086975596089 and parameters: {'qual_th': 0.3047737227184369, 'int_th': 4498.864251808227}. Best is trial 12 with value: -0.6914239993681778.\u001b[0m\n",
      "\u001b[32m[I 2022-05-24 08:39:03,260]\u001b[0m Trial 115 finished with value: -0.6892191443732348 and parameters: {'qual_th': 0.3073754549394651, 'int_th': 4272.4219512612735}. Best is trial 12 with value: -0.6914239993681778.\u001b[0m\n",
      "\u001b[32m[I 2022-05-24 08:39:09,877]\u001b[0m Trial 116 finished with value: -0.6863603125898332 and parameters: {'qual_th': 0.33803455578672953, 'int_th': 3764.9361951549454}. Best is trial 12 with value: -0.6914239993681778.\u001b[0m\n",
      "\u001b[32m[I 2022-05-24 08:39:16,492]\u001b[0m Trial 117 finished with value: -0.690598282166077 and parameters: {'qual_th': 0.30244109008996484, 'int_th': 5010.164658268724}. Best is trial 12 with value: -0.6914239993681778.\u001b[0m\n",
      "\u001b[32m[I 2022-05-24 08:39:22,851]\u001b[0m Trial 118 finished with value: -0.6906403855832464 and parameters: {'qual_th': 0.31626620236720926, 'int_th': 4972.917651341987}. Best is trial 12 with value: -0.6914239993681778.\u001b[0m\n",
      "\u001b[32m[I 2022-05-24 08:39:28,600]\u001b[0m Trial 119 finished with value: -0.6770872482474922 and parameters: {'qual_th': 0.269274812620566, 'int_th': 6324.153457329895}. Best is trial 12 with value: -0.6914239993681778.\u001b[0m\n",
      "\u001b[32m[I 2022-05-24 08:39:34,890]\u001b[0m Trial 120 finished with value: -0.6907890592783137 and parameters: {'qual_th': 0.3171191475532538, 'int_th': 5027.298969643263}. Best is trial 12 with value: -0.6914239993681778.\u001b[0m\n",
      "\u001b[32m[I 2022-05-24 08:39:39,638]\u001b[0m Trial 121 finished with value: -0.6675533553811283 and parameters: {'qual_th': 0.4006827727696074, 'int_th': 5048.467918147325}. Best is trial 12 with value: -0.6914239993681778.\u001b[0m\n",
      "\u001b[32m[I 2022-05-24 08:39:45,365]\u001b[0m Trial 122 finished with value: -0.6869959590852325 and parameters: {'qual_th': 0.31981378405617533, 'int_th': 5697.074068464912}. Best is trial 12 with value: -0.6914239993681778.\u001b[0m\n",
      "\u001b[32m[I 2022-05-24 08:39:55,188]\u001b[0m Trial 123 finished with value: -0.6890213525953631 and parameters: {'qual_th': 0.33318747123826786, 'int_th': 4887.683573103804}. Best is trial 12 with value: -0.6914239993681778.\u001b[0m\n",
      "\u001b[32m[I 2022-05-24 08:40:00,412]\u001b[0m Trial 124 finished with value: -0.6799283525658393 and parameters: {'qual_th': 0.35960967238204955, 'int_th': 5471.437835161112}. Best is trial 12 with value: -0.6914239993681778.\u001b[0m\n",
      "\u001b[32m[I 2022-05-24 08:40:01,536]\u001b[0m Trial 125 finished with value: -0.3737651654845446 and parameters: {'qual_th': 0.2810703527293963, 'int_th': 12378.814600980975}. Best is trial 12 with value: -0.6914239993681778.\u001b[0m\n",
      "\u001b[32m[I 2022-05-24 08:40:11,128]\u001b[0m Trial 126 finished with value: -0.6194755696820091 and parameters: {'qual_th': 0.3161996102579561, 'int_th': 179.05995392366822}. Best is trial 12 with value: -0.6914239993681778.\u001b[0m\n",
      "\u001b[32m[I 2022-05-24 08:40:17,477]\u001b[0m Trial 127 finished with value: -0.6820773722229765 and parameters: {'qual_th': 0.24095980181737328, 'int_th': 5952.819481896227}. Best is trial 12 with value: -0.6914239993681778.\u001b[0m\n",
      "\u001b[32m[I 2022-05-24 08:40:23,208]\u001b[0m Trial 128 finished with value: -0.688086088638856 and parameters: {'qual_th': 0.34401586337036544, 'int_th': 5156.698967199352}. Best is trial 12 with value: -0.6914239993681778.\u001b[0m\n",
      "\u001b[32m[I 2022-05-24 08:40:30,347]\u001b[0m Trial 129 finished with value: -0.6889273067923521 and parameters: {'qual_th': 0.27264231590558924, 'int_th': 4915.631415678984}. Best is trial 12 with value: -0.6914239993681778.\u001b[0m\n",
      "\u001b[32m[I 2022-05-24 08:40:35,692]\u001b[0m Trial 130 finished with value: -0.6753610194622939 and parameters: {'qual_th': 0.29553968915224155, 'int_th': 6440.0997222811975}. Best is trial 12 with value: -0.6914239993681778.\u001b[0m\n",
      "\u001b[32m[I 2022-05-24 08:40:42,498]\u001b[0m Trial 131 finished with value: -0.6906187541206222 and parameters: {'qual_th': 0.3083056013118064, 'int_th': 4576.36217880932}. Best is trial 12 with value: -0.6914239993681778.\u001b[0m\n",
      "\u001b[32m[I 2022-05-24 08:40:48,306]\u001b[0m Trial 132 finished with value: -0.6871200164572859 and parameters: {'qual_th': 0.32448073732236804, 'int_th': 5449.345258655679}. Best is trial 12 with value: -0.6914239993681778.\u001b[0m\n",
      "\u001b[32m[I 2022-05-24 08:40:55,044]\u001b[0m Trial 133 finished with value: -0.6921530316540387 and parameters: {'qual_th': 0.31129289116991726, 'int_th': 4710.391866508803}. Best is trial 133 with value: -0.6921530316540387.\u001b[0m\n",
      "\u001b[32m[I 2022-05-24 08:41:02,523]\u001b[0m Trial 134 finished with value: -0.6837641990016583 and parameters: {'qual_th': 0.3106030180218563, 'int_th': 3457.1322394099157}. Best is trial 133 with value: -0.6921530316540387.\u001b[0m\n",
      "\u001b[32m[I 2022-05-24 08:41:10,120]\u001b[0m Trial 135 finished with value: -0.6883695302859466 and parameters: {'qual_th': 0.3346390727697419, 'int_th': 4078.1568619883983}. Best is trial 133 with value: -0.6921530316540387.\u001b[0m\n",
      "\u001b[32m[I 2022-05-24 08:41:17,614]\u001b[0m Trial 136 finished with value: -0.687228539884628 and parameters: {'qual_th': 0.25805503986245454, 'int_th': 4742.507454859769}. Best is trial 133 with value: -0.6921530316540387.\u001b[0m\n",
      "\u001b[32m[I 2022-05-24 08:41:23,296]\u001b[0m Trial 137 finished with value: -0.6849993642919935 and parameters: {'qual_th': 0.35466039440466623, 'int_th': 4677.781973970836}. Best is trial 133 with value: -0.6921530316540387.\u001b[0m\n",
      "\u001b[32m[I 2022-05-24 08:41:28,169]\u001b[0m Trial 138 finished with value: -0.6742890370630429 and parameters: {'qual_th': 0.3752309052452283, 'int_th': 5675.261392787203}. Best is trial 133 with value: -0.6921530316540387.\u001b[0m\n",
      "\u001b[32m[I 2022-05-24 08:41:36,913]\u001b[0m Trial 139 finished with value: -0.6821772394374993 and parameters: {'qual_th': 0.2808350301956206, 'int_th': 3761.823275973771}. Best is trial 133 with value: -0.6921530316540387.\u001b[0m\n",
      "\u001b[32m[I 2022-05-24 08:41:47,002]\u001b[0m Trial 140 finished with value: -0.6908469110234241 and parameters: {'qual_th': 0.29999429287261986, 'int_th': 5064.486591260498}. Best is trial 133 with value: -0.6921530316540387.\u001b[0m\n",
      "\u001b[32m[I 2022-05-24 08:41:53,563]\u001b[0m Trial 141 finished with value: -0.6907178587413738 and parameters: {'qual_th': 0.29874839165992123, 'int_th': 5152.558122426625}. Best is trial 133 with value: -0.6921530316540387.\u001b[0m\n",
      "\u001b[32m[I 2022-05-24 08:41:59,984]\u001b[0m Trial 142 finished with value: -0.6906712227574126 and parameters: {'qual_th': 0.3088202532382457, 'int_th': 4921.828419628361}. Best is trial 133 with value: -0.6921530316540387.\u001b[0m\n",
      "\u001b[32m[I 2022-05-24 08:42:06,550]\u001b[0m Trial 143 finished with value: -0.6894247623224835 and parameters: {'qual_th': 0.3215777729869117, 'int_th': 4341.423992644155}. Best is trial 133 with value: -0.6921530316540387.\u001b[0m\n",
      "\u001b[32m[I 2022-05-24 08:42:13,296]\u001b[0m Trial 144 finished with value: -0.6912102443330885 and parameters: {'qual_th': 0.30019282122268226, 'int_th': 4717.203938200375}. Best is trial 133 with value: -0.6921530316540387.\u001b[0m\n",
      "\u001b[32m[I 2022-05-24 08:42:20,938]\u001b[0m Trial 145 finished with value: -0.6868532374546891 and parameters: {'qual_th': 0.29341061505831245, 'int_th': 4022.607153162776}. Best is trial 133 with value: -0.6921530316540387.\u001b[0m\n",
      "\u001b[32m[I 2022-05-24 08:42:27,108]\u001b[0m Trial 146 finished with value: -0.688928584943274 and parameters: {'qual_th': 0.3313109072026016, 'int_th': 4617.175834184561}. Best is trial 133 with value: -0.6921530316540387.\u001b[0m\n",
      "\u001b[32m[I 2022-05-24 08:42:33,279]\u001b[0m Trial 147 finished with value: -0.683772786055042 and parameters: {'qual_th': 0.2688688736779647, 'int_th': 5841.2055576241455}. Best is trial 133 with value: -0.6921530316540387.\u001b[0m\n",
      "\u001b[32m[I 2022-05-24 08:42:39,497]\u001b[0m Trial 148 finished with value: -0.6904248018937689 and parameters: {'qual_th': 0.31820411804503157, 'int_th': 4971.89070713123}. Best is trial 133 with value: -0.6921530316540387.\u001b[0m\n",
      "\u001b[32m[I 2022-05-24 08:42:45,920]\u001b[0m Trial 149 finished with value: -0.6880044967398223 and parameters: {'qual_th': 0.3157517107816442, 'int_th': 5558.2261827523735}. Best is trial 133 with value: -0.6921530316540387.\u001b[0m\n",
      "\u001b[32m[I 2022-05-24 08:42:52,187]\u001b[0m Trial 150 finished with value: -0.6874729536187756 and parameters: {'qual_th': 0.3441472494207268, 'int_th': 4378.521616024707}. Best is trial 133 with value: -0.6921530316540387.\u001b[0m\n"
     ]
    },
    {
     "name": "stderr",
     "output_type": "stream",
     "text": [
      "\u001b[32m[I 2022-05-24 08:42:58,771]\u001b[0m Trial 151 finished with value: -0.6905586881809387 and parameters: {'qual_th': 0.29708177308816164, 'int_th': 4995.234004669268}. Best is trial 133 with value: -0.6921530316540387.\u001b[0m\n",
      "\u001b[32m[I 2022-05-24 08:43:05,899]\u001b[0m Trial 152 finished with value: -0.6896531089563342 and parameters: {'qual_th': 0.27909985689225975, 'int_th': 4759.954949525897}. Best is trial 133 with value: -0.6921530316540387.\u001b[0m\n",
      "\u001b[32m[I 2022-05-24 08:43:12,351]\u001b[0m Trial 153 finished with value: -0.6903016893819263 and parameters: {'qual_th': 0.29539890705283933, 'int_th': 5199.114690146232}. Best is trial 133 with value: -0.6921530316540387.\u001b[0m\n",
      "\u001b[32m[I 2022-05-24 08:43:15,262]\u001b[0m Trial 154 finished with value: -0.5675749056523082 and parameters: {'qual_th': 0.3167672193267297, 'int_th': 9015.413583662039}. Best is trial 133 with value: -0.6921530316540387.\u001b[0m\n",
      "\u001b[32m[I 2022-05-24 08:43:15,733]\u001b[0m Trial 155 finished with value: -0.2315481675597494 and parameters: {'qual_th': 0.28685886827354146, 'int_th': 15252.278636077954}. Best is trial 133 with value: -0.6921530316540387.\u001b[0m\n",
      "\u001b[32m[I 2022-05-24 08:43:22,268]\u001b[0m Trial 156 finished with value: -0.6888213768065445 and parameters: {'qual_th': 0.3275949096345305, 'int_th': 4120.161858062902}. Best is trial 133 with value: -0.6921530316540387.\u001b[0m\n",
      "\u001b[32m[I 2022-05-24 08:43:28,309]\u001b[0m Trial 157 finished with value: -0.6817365370441996 and parameters: {'qual_th': 0.262651693360367, 'int_th': 6040.897692400536}. Best is trial 133 with value: -0.6921530316540387.\u001b[0m\n",
      "\u001b[32m[I 2022-05-24 08:43:34,878]\u001b[0m Trial 158 finished with value: -0.6903268924292092 and parameters: {'qual_th': 0.3055408255127459, 'int_th': 4863.143504677897}. Best is trial 133 with value: -0.6921530316540387.\u001b[0m\n",
      "\u001b[32m[I 2022-05-24 08:43:41,514]\u001b[0m Trial 159 finished with value: -0.684818773100759 and parameters: {'qual_th': 0.3377392035683881, 'int_th': 3544.355401546826}. Best is trial 133 with value: -0.6921530316540387.\u001b[0m\n",
      "\u001b[32m[I 2022-05-24 08:43:47,840]\u001b[0m Trial 160 finished with value: -0.6883366300404482 and parameters: {'qual_th': 0.2986450866326445, 'int_th': 5565.26275115392}. Best is trial 133 with value: -0.6921530316540387.\u001b[0m\n",
      "\u001b[32m[I 2022-05-24 08:43:54,152]\u001b[0m Trial 161 finished with value: -0.6911303621472694 and parameters: {'qual_th': 0.31017583149239375, 'int_th': 5071.8384036232965}. Best is trial 133 with value: -0.6921530316540387.\u001b[0m\n",
      "\u001b[32m[I 2022-05-24 08:44:00,862]\u001b[0m Trial 162 finished with value: -0.6912534938329455 and parameters: {'qual_th': 0.31498050296117514, 'int_th': 4611.397608583274}. Best is trial 133 with value: -0.6921530316540387.\u001b[0m\n",
      "\u001b[32m[I 2022-05-24 08:44:15,188]\u001b[0m Trial 163 finished with value: -0.6878475838617016 and parameters: {'qual_th': 0.2820388550797083, 'int_th': 4537.748598445311}. Best is trial 133 with value: -0.6921530316540387.\u001b[0m\n",
      "\u001b[32m[I 2022-05-24 08:44:21,322]\u001b[0m Trial 164 finished with value: -0.6884536889052487 and parameters: {'qual_th': 0.3074933899678977, 'int_th': 5323.229901812267}. Best is trial 133 with value: -0.6921530316540387.\u001b[0m\n",
      "\u001b[32m[I 2022-05-24 08:44:40,534]\u001b[0m Trial 165 finished with value: -0.6889219691611438 and parameters: {'qual_th': 0.29572046644293265, 'int_th': 4422.788391883883}. Best is trial 133 with value: -0.6921530316540387.\u001b[0m\n",
      "\u001b[32m[I 2022-05-24 08:44:47,490]\u001b[0m Trial 166 finished with value: -0.6873827450846263 and parameters: {'qual_th': 0.32842642310673503, 'int_th': 3919.5535739405027}. Best is trial 133 with value: -0.6921530316540387.\u001b[0m\n",
      "\u001b[32m[I 2022-05-24 08:44:53,275]\u001b[0m Trial 167 finished with value: -0.6871088775080241 and parameters: {'qual_th': 0.3485914677608241, 'int_th': 4739.489092312832}. Best is trial 133 with value: -0.6921530316540387.\u001b[0m\n",
      "\u001b[32m[I 2022-05-24 08:45:00,066]\u001b[0m Trial 168 finished with value: -0.6875263423775662 and parameters: {'qual_th': 0.2695108727513757, 'int_th': 5266.559005188893}. Best is trial 133 with value: -0.6921530316540387.\u001b[0m\n",
      "\u001b[32m[I 2022-05-24 08:45:06,944]\u001b[0m Trial 169 finished with value: -0.6901687503432976 and parameters: {'qual_th': 0.3124930999825961, 'int_th': 4158.45317662654}. Best is trial 133 with value: -0.6921530316540387.\u001b[0m\n",
      "\u001b[32m[I 2022-05-24 08:45:13,013]\u001b[0m Trial 170 finished with value: -0.6852574743104979 and parameters: {'qual_th': 0.28381768115840683, 'int_th': 5804.29067515244}. Best is trial 133 with value: -0.6921530316540387.\u001b[0m\n",
      "\u001b[32m[I 2022-05-24 08:45:19,242]\u001b[0m Trial 171 finished with value: -0.690673246563641 and parameters: {'qual_th': 0.31818846120901323, 'int_th': 5032.197466623287}. Best is trial 133 with value: -0.6921530316540387.\u001b[0m\n",
      "\u001b[32m[I 2022-05-24 08:45:25,986]\u001b[0m Trial 172 finished with value: -0.6909156849129614 and parameters: {'qual_th': 0.29709182156631836, 'int_th': 4856.174116505425}. Best is trial 133 with value: -0.6921530316540387.\u001b[0m\n",
      "\u001b[32m[I 2022-05-24 08:45:32,207]\u001b[0m Trial 173 finished with value: -0.6909842046005894 and parameters: {'qual_th': 0.31461271618507325, 'int_th': 5074.978180611617}. Best is trial 133 with value: -0.6921530316540387.\u001b[0m\n",
      "\u001b[32m[I 2022-05-24 08:45:38,046]\u001b[0m Trial 174 finished with value: -0.6872613372486844 and parameters: {'qual_th': 0.32326487128454007, 'int_th': 5445.314639682558}. Best is trial 133 with value: -0.6921530316540387.\u001b[0m\n",
      "\u001b[32m[I 2022-05-24 08:45:44,642]\u001b[0m Trial 175 finished with value: -0.6917879017253556 and parameters: {'qual_th': 0.3121590531336489, 'int_th': 4675.678427828015}. Best is trial 133 with value: -0.6921530316540387.\u001b[0m\n",
      "\u001b[32m[I 2022-05-24 08:45:50,790]\u001b[0m Trial 176 finished with value: -0.6891691309449909 and parameters: {'qual_th': 0.33931788089533665, 'int_th': 4516.448916032814}. Best is trial 133 with value: -0.6921530316540387.\u001b[0m\n",
      "\u001b[32m[I 2022-05-24 08:45:56,965]\u001b[0m Trial 177 finished with value: -0.6907821488844414 and parameters: {'qual_th': 0.31329440227856586, 'int_th': 5175.976085725421}. Best is trial 133 with value: -0.6921530316540387.\u001b[0m\n",
      "\u001b[32m[I 2022-05-24 08:46:02,229]\u001b[0m Trial 178 finished with value: -0.6806486537617488 and parameters: {'qual_th': 0.35956033277003235, 'int_th': 5390.043324168482}. Best is trial 133 with value: -0.6921530316540387.\u001b[0m\n",
      "\u001b[32m[I 2022-05-24 08:46:12,143]\u001b[0m Trial 179 finished with value: -0.6566675539933721 and parameters: {'qual_th': 0.13387542531226337, 'int_th': 4314.0984058627755}. Best is trial 133 with value: -0.6921530316540387.\u001b[0m\n",
      "\u001b[32m[I 2022-05-24 08:46:17,828]\u001b[0m Trial 180 finished with value: -0.6820489947689604 and parameters: {'qual_th': 0.31413659507017955, 'int_th': 6065.659615876866}. Best is trial 133 with value: -0.6921530316540387.\u001b[0m\n",
      "\u001b[32m[I 2022-05-24 08:46:23,881]\u001b[0m Trial 181 finished with value: -0.6903622607299786 and parameters: {'qual_th': 0.32579244861958384, 'int_th': 5066.753330792742}. Best is trial 133 with value: -0.6921530316540387.\u001b[0m\n",
      "\u001b[32m[I 2022-05-24 08:46:30,610]\u001b[0m Trial 182 finished with value: -0.6903147616184653 and parameters: {'qual_th': 0.3065080113749226, 'int_th': 4642.368116898905}. Best is trial 133 with value: -0.6921530316540387.\u001b[0m\n",
      "\u001b[32m[I 2022-05-24 08:46:33,429]\u001b[0m Trial 183 finished with value: -0.5750785547878323 and parameters: {'qual_th': 0.5277552757038475, 'int_th': 5136.780855572657}. Best is trial 133 with value: -0.6921530316540387.\u001b[0m\n",
      "\u001b[32m[I 2022-05-24 08:46:40,175]\u001b[0m Trial 184 finished with value: -0.6910391573779657 and parameters: {'qual_th': 0.31257870334417837, 'int_th': 4537.194013434364}. Best is trial 133 with value: -0.6921530316540387.\u001b[0m\n",
      "\u001b[32m[I 2022-05-24 08:46:46,325]\u001b[0m Trial 185 finished with value: -0.689753429689587 and parameters: {'qual_th': 0.3348800666677205, 'int_th': 4723.288319069038}. Best is trial 133 with value: -0.6921530316540387.\u001b[0m\n",
      "\u001b[32m[I 2022-05-24 08:46:53,507]\u001b[0m Trial 186 finished with value: -0.6866797234196838 and parameters: {'qual_th': 0.3101141643490181, 'int_th': 3819.5597459646824}. Best is trial 133 with value: -0.6921530316540387.\u001b[0m\n",
      "\u001b[32m[I 2022-05-24 08:47:00,267]\u001b[0m Trial 187 finished with value: -0.6896697630377432 and parameters: {'qual_th': 0.317303421393113, 'int_th': 4304.57281532478}. Best is trial 133 with value: -0.6921530316540387.\u001b[0m\n"
     ]
    },
    {
     "name": "stderr",
     "output_type": "stream",
     "text": [
      "\u001b[32m[I 2022-05-24 08:47:06,448]\u001b[0m Trial 188 finished with value: -0.6875115891938938 and parameters: {'qual_th': 0.28941108095483586, 'int_th': 5668.207708299887}. Best is trial 133 with value: -0.6921530316540387.\u001b[0m\n",
      "\u001b[32m[I 2022-05-24 08:47:12,334]\u001b[0m Trial 189 finished with value: -0.6863344266658213 and parameters: {'qual_th': 0.3489320646989066, 'int_th': 4605.284587232626}. Best is trial 133 with value: -0.6921530316540387.\u001b[0m\n",
      "\u001b[32m[I 2022-05-24 08:47:18,254]\u001b[0m Trial 190 finished with value: -0.6888819401763654 and parameters: {'qual_th': 0.3292308526664647, 'int_th': 5224.044397124246}. Best is trial 133 with value: -0.6921530316540387.\u001b[0m\n",
      "\u001b[32m[I 2022-05-24 08:47:24,890]\u001b[0m Trial 191 finished with value: -0.6906514118283387 and parameters: {'qual_th': 0.30264700130100136, 'int_th': 4885.731542732349}. Best is trial 133 with value: -0.6921530316540387.\u001b[0m\n",
      "\u001b[32m[I 2022-05-24 08:47:31,706]\u001b[0m Trial 192 finished with value: -0.6910991517179388 and parameters: {'qual_th': 0.29600628572522975, 'int_th': 4821.418348150219}. Best is trial 133 with value: -0.6921530316540387.\u001b[0m\n",
      "\u001b[32m[I 2022-05-24 08:47:37,975]\u001b[0m Trial 193 finished with value: -0.6876730791104303 and parameters: {'qual_th': 0.29612512689219955, 'int_th': 5443.969663351278}. Best is trial 133 with value: -0.6921530316540387.\u001b[0m\n",
      "\u001b[32m[I 2022-05-24 08:47:44,916]\u001b[0m Trial 194 finished with value: -0.6893857351919012 and parameters: {'qual_th': 0.2822307506884396, 'int_th': 4953.645182315813}. Best is trial 133 with value: -0.6921530316540387.\u001b[0m\n",
      "\u001b[32m[I 2022-05-24 08:47:51,650]\u001b[0m Trial 195 finished with value: -0.6898301928837972 and parameters: {'qual_th': 0.3201374948091718, 'int_th': 4126.810149364355}. Best is trial 133 with value: -0.6921530316540387.\u001b[0m\n",
      "\u001b[32m[I 2022-05-24 08:47:58,822]\u001b[0m Trial 196 finished with value: -0.6886534029211405 and parameters: {'qual_th': 0.2745624535361482, 'int_th': 4847.966587060564}. Best is trial 133 with value: -0.6921530316540387.\u001b[0m\n",
      "\u001b[32m[I 2022-05-24 08:48:05,363]\u001b[0m Trial 197 finished with value: -0.690037791854191 and parameters: {'qual_th': 0.29289038666747835, 'int_th': 5202.568557585778}. Best is trial 133 with value: -0.6921530316540387.\u001b[0m\n",
      "\u001b[32m[I 2022-05-24 08:48:11,219]\u001b[0m Trial 198 finished with value: -0.6860944442017185 and parameters: {'qual_th': 0.30136315137280995, 'int_th': 5758.427580084766}. Best is trial 133 with value: -0.6921530316540387.\u001b[0m\n",
      "\u001b[32m[I 2022-05-24 08:48:18,029]\u001b[0m Trial 199 finished with value: -0.6905480360870588 and parameters: {'qual_th': 0.3131623494808118, 'int_th': 4354.7798219117085}. Best is trial 133 with value: -0.6921530316540387.\u001b[0m\n"
     ]
    },
    {
     "name": "stdout",
     "output_type": "stream",
     "text": [
      "{'qual_th': 0.31129289116991726, 'int_th': 4710.391866508803}\n",
      "Jaccard  0.6921530316540387\n"
     ]
    }
   ],
   "source": [
    "# istd_df = get_istdeco_df(cpu(xsim), codebook.reshape([140,8,2], order='F'), psf_sig=(1.7, 1.7), n_iter=400, bg=100.)\n",
    "# istd_df = exclude_borders(istd_df, border_size_zyx=[0,500,500], img_size=[crop_sz*100,crop_sz*100,crop_sz*100])\n",
    "\n",
    "q_max = 0.3*istd_df['quality'].max()\n",
    "i_max = 0.3*istd_df['intensity'].max()\n",
    "i_min = istd_df['intensity'].min()\n",
    "\n",
    "def objective(trial):\n",
    "    \n",
    "    n_iter = 400 # trial.suggest_uniform('n_iter', 50, 500)\n",
    "    psf_s = 1.7 # trial.suggest_uniform('psf_s', 1.2, 1.9)\n",
    "    \n",
    "#     istd_df = get_istdeco_df(xsimn, code_ref.reshape([140,8,2], order='F'), psf_sig=(psf_s, psf_s), n_iter=int(n_iter))\n",
    "#     istd_df = exclude_borders(istd_df, border_size_zyx=[0,500,500], img_size=[crop_sz*100,crop_sz*100,crop_sz*100])\n",
    "    \n",
    "    qual_th = trial.suggest_uniform('qual_th', 0.1, q_max)\n",
    "    int_th = trial.suggest_uniform('int_th', i_min, i_max)\n",
    "    \n",
    "    sub_df = istd_df[(istd_df['intensity'] > int_th) & (istd_df['quality'] > qual_th)]\n",
    "    perf, matches, _  = matching(gt, sub_df, match_genes=True, print_res=False) \n",
    "    \n",
    "    return -perf['jaccard']\n",
    "\n",
    "study = optuna.create_study()\n",
    "study.optimize(objective, n_trials=200)\n",
    "\n",
    "print(study.best_params)\n",
    "print('Jaccard ', -study.best_value)"
   ]
  },
  {
   "cell_type": "code",
   "execution_count": null,
   "id": "interesting-treasurer",
   "metadata": {},
   "outputs": [
    {
     "name": "stdout",
     "output_type": "stream",
     "text": [
      "Recall: 0.595\n",
      "Precision: 0.729\n",
      "Jaccard: 48.749\n",
      "RMSE_vol: 169.596\n",
      "Eff_3d: 0.918\n",
      "FN: 649.0 FP: 355.0\n",
      "Num. matches: 955.000\n",
      "Shift: 2.48,3.01,0.00\n",
      "------- 0.5821989528795811\n",
      "Recall: 0.392\n",
      "Precision: 0.479\n",
      "Jaccard: 27.472\n",
      "RMSE_vol: 50.623\n",
      "Eff_3d: 23.182\n",
      "FN: 976.0 FP: 682.0\n",
      "Num. matches: 628.000\n",
      "Shift: 1.57,0.01,0.00\n"
     ]
    }
   ],
   "source": [
    "sub_df = istd_df[(istd_df['intensity'] > study.best_params['int_th']) & (istd_df['quality'] > study.best_params['qual_th'])]\n",
    "perf, matches, _  = matching(gt_df, sub_df, match_genes=False)\n",
    "print(f'-------', sum(matches['code_inds_pred'] == matches['code_inds_tar'])/len(matches))\n",
    "perf, matches, _  = matching(gt_df, sub_df, match_genes=True)"
   ]
  },
  {
   "cell_type": "code",
   "execution_count": null,
   "id": "unlike-cross",
   "metadata": {},
   "outputs": [],
   "source": [
    "# export\n",
    "def get_bardensr_tensor(sim_data, codebook, bg=100., n_iter=400, l1_pen=0., psf_r=0):\n",
    "    \n",
    "    bard_results = pd.DataFrame()\n",
    "    evd_tensors = []\n",
    "    codeflat = codebook.T\n",
    "    \n",
    "    for i in range(len(sim_data)):\n",
    "    \n",
    "        image_data = sim_data[i]\n",
    "        Xnorm = image_data - bg\n",
    "#         Xnorm /= Xnorm.max()\n",
    "        \n",
    "#         Xnorm = bardensr.preprocessing.minmax(image_data - bg)\n",
    "\n",
    "#         Xnorm = bardensr.preprocessing.minmax(image_data)\n",
    "#         Xnorm = bardensr.preprocessing.background_subtraction(Xnorm,[0,10,10])\n",
    "        Xnorm = bardensr.preprocessing.minmax(Xnorm)\n",
    "\n",
    "        evidence_tensor_iterative,extra_learned_params=\\\n",
    "            bardensr.spot_calling.estimate_density_iterative(Xnorm.astype('float64'),codeflat,l1_penalty=l1_pen,use_tqdm_notebook=True,iterations=n_iter, estimate_codebook_gain=True, psf_radius=(psf_r, psf_r, psf_r))\n",
    "\n",
    "#         evidence_tensor_iterative= bardensr.spot_calling.estimate_density_singleshot(Xnorm.astype('float64'), codeflat, noisefloor=0.05)\n",
    "    \n",
    "        evd_tensors.append(evidence_tensor_iterative)\n",
    "        \n",
    "    return evd_tensors\n",
    "\n",
    "def get_bardensr_df(evd_tensors, th, ps=1.0):\n",
    "    \n",
    "    bard_results = pd.DataFrame()\n",
    "\n",
    "    for i in range(len(evd_tensors)):    \n",
    "    #     thresh_iterative=evd_tensors[i].max()*.1\n",
    "        result_iterative=bardensr.spot_calling.find_peaks(evd_tensors[i],th, poolsize=(ps,ps,ps))\n",
    "\n",
    "        code_inds = np.array(result_iterative.j.values, dtype=np.int16)\n",
    "        df = pd.DataFrame(data={\n",
    "                    'frame_idx': i,\n",
    "                    'x': result_iterative.m2.values + 0.5, \n",
    "                    'y': result_iterative.m1.values + 0.5,\n",
    "                    'z': 0.5,\n",
    "                    'intensity': result_iterative.int.values,\n",
    "                    'code_inds': code_inds\n",
    "            })\n",
    "\n",
    "        bard_results = bard_results.append(df)\n",
    "\n",
    "    bard_results = px_to_nm(bard_results)\n",
    "    return bard_results"
   ]
  },
  {
   "cell_type": "code",
   "execution_count": null,
   "id": "still-highway",
   "metadata": {},
   "outputs": [
    {
     "name": "stderr",
     "output_type": "stream",
     "text": [
      "2021-09-25 11:24:06.459223: I tensorflow/compiler/jit/xla_cpu_device.cc:41] Not creating XLA devices, tf_xla_enable_xla_devices not set\n",
      "2021-09-25 11:24:06.460009: I tensorflow/stream_executor/platform/default/dso_loader.cc:49] Successfully opened dynamic library libcuda.so.1\n",
      "2021-09-25 11:24:06.461228: I tensorflow/core/common_runtime/gpu/gpu_device.cc:1720] Found device 0 with properties: \n",
      "pciBusID: 0000:04:00.0 name: TITAN V computeCapability: 7.0\n",
      "coreClock: 1.455GHz coreCount: 80 deviceMemorySize: 11.78GiB deviceMemoryBandwidth: 607.97GiB/s\n",
      "2021-09-25 11:24:06.461275: I tensorflow/stream_executor/platform/default/dso_loader.cc:49] Successfully opened dynamic library libcudart.so.10.1\n",
      "2021-09-25 11:24:06.461340: I tensorflow/stream_executor/platform/default/dso_loader.cc:49] Successfully opened dynamic library libcublas.so.10\n",
      "2021-09-25 11:24:06.461381: I tensorflow/stream_executor/platform/default/dso_loader.cc:49] Successfully opened dynamic library libcublasLt.so.10\n",
      "2021-09-25 11:24:06.461420: I tensorflow/stream_executor/platform/default/dso_loader.cc:49] Successfully opened dynamic library libcufft.so.10\n",
      "2021-09-25 11:24:06.461457: I tensorflow/stream_executor/platform/default/dso_loader.cc:49] Successfully opened dynamic library libcurand.so.10\n",
      "2021-09-25 11:24:06.461504: I tensorflow/stream_executor/platform/default/dso_loader.cc:49] Successfully opened dynamic library libcusolver.so.10\n",
      "2021-09-25 11:24:06.461546: I tensorflow/stream_executor/platform/default/dso_loader.cc:49] Successfully opened dynamic library libcusparse.so.10\n",
      "2021-09-25 11:24:06.466318: I tensorflow/stream_executor/platform/default/dso_loader.cc:49] Successfully opened dynamic library libcudnn.so.7\n",
      "2021-09-25 11:24:06.468228: I tensorflow/core/common_runtime/gpu/gpu_device.cc:1862] Adding visible gpu devices: 0\n",
      "2021-09-25 11:24:06.468910: I tensorflow/core/platform/cpu_feature_guard.cc:142] This TensorFlow binary is optimized with oneAPI Deep Neural Network Library (oneDNN) to use the following CPU instructions in performance-critical operations:  SSE4.1 SSE4.2 AVX AVX2 FMA\n",
      "To enable them in other operations, rebuild TensorFlow with the appropriate compiler flags.\n",
      "2021-09-25 11:24:06.476972: I tensorflow/core/common_runtime/gpu/gpu_device.cc:1720] Found device 0 with properties: \n",
      "pciBusID: 0000:04:00.0 name: TITAN V computeCapability: 7.0\n",
      "coreClock: 1.455GHz coreCount: 80 deviceMemorySize: 11.78GiB deviceMemoryBandwidth: 607.97GiB/s\n",
      "2021-09-25 11:24:06.477059: I tensorflow/stream_executor/platform/default/dso_loader.cc:49] Successfully opened dynamic library libcudart.so.10.1\n",
      "2021-09-25 11:24:06.477103: I tensorflow/stream_executor/platform/default/dso_loader.cc:49] Successfully opened dynamic library libcublas.so.10\n",
      "2021-09-25 11:24:06.477141: I tensorflow/stream_executor/platform/default/dso_loader.cc:49] Successfully opened dynamic library libcublasLt.so.10\n",
      "2021-09-25 11:24:06.477176: I tensorflow/stream_executor/platform/default/dso_loader.cc:49] Successfully opened dynamic library libcufft.so.10\n",
      "2021-09-25 11:24:06.477211: I tensorflow/stream_executor/platform/default/dso_loader.cc:49] Successfully opened dynamic library libcurand.so.10\n",
      "2021-09-25 11:24:06.477249: I tensorflow/stream_executor/platform/default/dso_loader.cc:49] Successfully opened dynamic library libcusolver.so.10\n",
      "2021-09-25 11:24:06.477287: I tensorflow/stream_executor/platform/default/dso_loader.cc:49] Successfully opened dynamic library libcusparse.so.10\n",
      "2021-09-25 11:24:06.477352: I tensorflow/stream_executor/platform/default/dso_loader.cc:49] Successfully opened dynamic library libcudnn.so.7\n",
      "2021-09-25 11:24:06.480858: I tensorflow/core/common_runtime/gpu/gpu_device.cc:1862] Adding visible gpu devices: 0\n",
      "2021-09-25 11:24:06.481153: I tensorflow/core/common_runtime/gpu/gpu_device.cc:1261] Device interconnect StreamExecutor with strength 1 edge matrix:\n",
      "2021-09-25 11:24:06.481179: I tensorflow/core/common_runtime/gpu/gpu_device.cc:1267]      0 \n",
      "2021-09-25 11:24:06.481199: I tensorflow/core/common_runtime/gpu/gpu_device.cc:1280] 0:   N \n",
      "2021-09-25 11:24:06.489849: I tensorflow/core/common_runtime/gpu/gpu_device.cc:1406] Created TensorFlow device (/job:localhost/replica:0/task:0/device:GPU:0 with 7399 MB memory) -> physical GPU (device: 0, name: TITAN V, pci bus id: 0000:04:00.0, compute capability: 7.0)\n",
      "2021-09-25 11:24:06.490313: I tensorflow/compiler/jit/xla_gpu_device.cc:99] Not creating XLA devices, tf_xla_enable_xla_devices not set\n",
      "2021-09-25 11:24:06.570243: I tensorflow/compiler/mlir/mlir_graph_optimization_pass.cc:116] None of the MLIR optimization passes are enabled (registered 2)\n",
      "2021-09-25 11:24:06.591780: I tensorflow/core/platform/profile_utils/cpu_utils.cc:112] CPU Frequency: 2593850000 Hz\n"
     ]
    },
    {
     "data": {
      "application/vnd.jupyter.widget-view+json": {
       "model_id": "7635992b054f42609e06fe482cc7df9b",
       "version_major": 2,
       "version_minor": 0
      },
      "text/plain": [
       "  0%|          | 0/100 [00:00<?, ?it/s]"
      ]
     },
     "metadata": {},
     "output_type": "display_data"
    },
    {
     "data": {
      "application/vnd.jupyter.widget-view+json": {
       "model_id": "4f4a3260fd2643e490ba114d5f02f647",
       "version_major": 2,
       "version_minor": 0
      },
      "text/plain": [
       "  0%|          | 0/100 [00:00<?, ?it/s]"
      ]
     },
     "metadata": {},
     "output_type": "display_data"
    },
    {
     "data": {
      "application/vnd.jupyter.widget-view+json": {
       "model_id": "6d3114326d894192a2d7b040d5361897",
       "version_major": 2,
       "version_minor": 0
      },
      "text/plain": [
       "  0%|          | 0/100 [00:00<?, ?it/s]"
      ]
     },
     "metadata": {},
     "output_type": "display_data"
    },
    {
     "data": {
      "application/vnd.jupyter.widget-view+json": {
       "model_id": "77aef814b34b48b289ae8b2193ee9f02",
       "version_major": 2,
       "version_minor": 0
      },
      "text/plain": [
       "  0%|          | 0/100 [00:00<?, ?it/s]"
      ]
     },
     "metadata": {},
     "output_type": "display_data"
    },
    {
     "data": {
      "application/vnd.jupyter.widget-view+json": {
       "model_id": "3643898e81744f89bce619d71f9239fd",
       "version_major": 2,
       "version_minor": 0
      },
      "text/plain": [
       "  0%|          | 0/100 [00:00<?, ?it/s]"
      ]
     },
     "metadata": {},
     "output_type": "display_data"
    }
   ],
   "source": [
    "evd_tensors = get_bardensr_tensor(cpu(xsimn), code_ref, n_iter=100, l1_pen=.01, bg=100., psf_r=0)"
   ]
  },
  {
   "cell_type": "code",
   "execution_count": null,
   "id": "impressed-press",
   "metadata": {},
   "outputs": [
    {
     "name": "stderr",
     "output_type": "stream",
     "text": [
      "2021-09-25 11:24:10.373225: I tensorflow/stream_executor/platform/default/dso_loader.cc:49] Successfully opened dynamic library libcudnn.so.7\n"
     ]
    }
   ],
   "source": [
    "bard_df = get_bardensr_df(evd_tensors, th=.25, ps=1.05)\n",
    "# bard_df = exclude_borders(bard_df, border_size_zyx=[0,500,500], img_size=[crop_sz*100,crop_sz*100,crop_sz*100])"
   ]
  },
  {
   "cell_type": "code",
   "execution_count": null,
   "id": "iraqi-potato",
   "metadata": {},
   "outputs": [
    {
     "data": {
      "text/plain": [
       "8159"
      ]
     },
     "execution_count": null,
     "metadata": {},
     "output_type": "execute_result"
    }
   ],
   "source": [
    "len(bard_df)"
   ]
  },
  {
   "cell_type": "code",
   "execution_count": null,
   "id": "indirect-large",
   "metadata": {},
   "outputs": [
    {
     "name": "stdout",
     "output_type": "stream",
     "text": [
      "Recall: 0.858\n",
      "Precision: 0.850\n",
      "Jaccard: 74.517\n",
      "RMSE_vol: 143.815\n",
      "Eff_3d: 23.711\n",
      "FN: 1149.0 FP: 1223.0\n",
      "Num. matches: 6936.000\n",
      "Shift: -1.75,2.97,0.00\n",
      "------- 0.5641580161476355\n",
      "Recall: 0.623\n",
      "Precision: 0.618\n",
      "Jaccard: 44.984\n",
      "RMSE_vol: 81.173\n",
      "Eff_3d: 31.633\n",
      "FN: 3045.0 FP: 3119.0\n",
      "Num. matches: 5040.000\n",
      "Shift: 0.37,1.18,0.00\n"
     ]
    }
   ],
   "source": [
    "perf, matches, _  = matching(gt_df, bard_df, match_genes=False)\n",
    "print(f'-------', sum(matches['code_inds_pred'] == matches['code_inds_tar'])/len(matches))\n",
    "perf, matches, _  = matching(gt_df, bard_df, match_genes=True)"
   ]
  },
  {
   "cell_type": "code",
   "execution_count": null,
   "id": "secondary-executive",
   "metadata": {},
   "outputs": [],
   "source": [
    "# evd_tensors = get_bardensr_tensor(xsimn, code_ref, n_iter=int(300), l1_pen=0.01)\n",
    "\n",
    "def objective(trial):\n",
    "    \n",
    "#     n_iter = 300\n",
    "#     l1_pen = trial.suggest_uniform('l1_pen', 0., 0.1)\n",
    "    th     = trial.suggest_uniform('th', 0.2, 0.6)\n",
    "    ps     = trial.suggest_uniform('ps', 0.1, 1.5)\n",
    "    \n",
    "#     evd_tensors = get_bardensr_tensor(xsimn, code_ref, n_iter=int(n_iter), l1_pen=l1_pen)\n",
    "#     print(evd_tensors[0].mean())\n",
    "    bard_df = get_bardensr_df(evd_tensors, th, ps)\n",
    "    bard_df = exclude_borders(bard_df, border_size_zyx=[0,500,500], img_size=[crop_sz*100,crop_sz*100,crop_sz*100])\n",
    "    \n",
    "    perf, matches, _  = matching(gt_df, bard_df, match_genes=True, print_res=False) \n",
    "    \n",
    "    return -perf['jaccard']\n",
    "\n",
    "study = optuna.create_study()\n",
    "study.optimize(objective, n_trials=200)\n",
    "\n",
    "print(study.best_params)\n",
    "print('Jaccard ', -study.best_value)"
   ]
  },
  {
   "cell_type": "code",
   "execution_count": null,
   "id": "portuguese-australia",
   "metadata": {},
   "outputs": [],
   "source": [
    "evd_tensors = get_bardensr_tensor(cpu(xsimn), code_ref, n_iter=100, l1_pen=.05, bg=100., psf_r=0)"
   ]
  },
  {
   "cell_type": "code",
   "execution_count": null,
   "id": "operating-actress",
   "metadata": {},
   "outputs": [],
   "source": [
    "bard_df = get_bardensr_df(evd_tensors, th=study.best_params['th'], ps=study.best_params['ps'])\n",
    "# bard_df = get_bardensr_df(evd_tensors, th=0.5, ps=1.05)\n",
    "bard_df = exclude_borders(bard_df, border_size_zyx=[0,500,500], img_size=[crop_sz*100,crop_sz*100,crop_sz*100])\n",
    "perf, matches, _  = matching(gt_df, bard_df, match_genes=False)\n",
    "print(f'-------', sum(matches['code_inds_pred'] == matches['code_inds_tar'])/len(matches))\n",
    "perf, matches, _  = matching(gt_df, bard_df, match_genes=True)"
   ]
  },
  {
   "cell_type": "code",
   "execution_count": null,
   "id": "corresponding-lewis",
   "metadata": {},
   "outputs": [
    {
     "name": "stdout",
     "output_type": "stream",
     "text": [
      "Converted 00_models.ipynb.\n",
      "Converted 01_psf.ipynb.\n",
      "Converted 02_microscope.ipynb.\n",
      "Converted 03_noise.ipynb.\n",
      "Converted 04_pointsource.ipynb.\n",
      "Converted 05_gmm_loss.ipynb.\n",
      "Converted 06_plotting.ipynb.\n",
      "Converted 07_file_io.ipynb.\n",
      "Converted 08_dataset.ipynb.\n",
      "Converted 09_output_trafo.ipynb.\n",
      "Converted 10_evaluation.ipynb.\n",
      "Converted 11_emitter_io.ipynb.\n",
      "Converted 12_utils.ipynb.\n",
      "Converted 13_train.ipynb.\n",
      "Converted 15_fit_psf.ipynb.\n",
      "Converted 16_visualization.ipynb.\n",
      "Converted 17_eval_routines.ipynb.\n",
      "Converted 18_predict_funcs.ipynb.\n",
      "Converted 19_MERFISH_routines.ipynb.\n",
      "Converted 20_MERFISH_visualization.ipynb.\n",
      "Converted 22_MERFISH_codenet.ipynb.\n",
      "Converted 23_MERFISH_comparison.ipynb.\n",
      "Converted index.ipynb.\n"
     ]
    }
   ],
   "source": [
    "!nbdev_build_lib"
   ]
  },
  {
   "cell_type": "code",
   "execution_count": null,
   "id": "corporate-governor",
   "metadata": {},
   "outputs": [],
   "source": []
  }
 ],
 "metadata": {
  "kernelspec": {
   "display_name": "Python [conda env:decode_fish_dev2]",
   "language": "python",
   "name": "conda-env-decode_fish_dev2-py"
  }
 },
 "nbformat": 4,
 "nbformat_minor": 5
}
