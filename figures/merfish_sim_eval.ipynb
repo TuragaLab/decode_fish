{
 "cells": [
  {
   "cell_type": "code",
   "execution_count": 1,
   "id": "stuck-sleeping",
   "metadata": {
    "ExecuteTime": {
     "end_time": "2021-09-16T14:11:09.890716Z",
     "start_time": "2021-09-16T14:11:09.862160Z"
    }
   },
   "outputs": [],
   "source": [
    "%load_ext autoreload\n",
    "%autoreload 2"
   ]
  },
  {
   "cell_type": "code",
   "execution_count": 2,
   "id": "quiet-wagner",
   "metadata": {
    "ExecuteTime": {
     "end_time": "2021-09-16T14:11:19.979120Z",
     "start_time": "2021-09-16T14:11:09.892751Z"
    }
   },
   "outputs": [
    {
     "name": "stderr",
     "output_type": "stream",
     "text": [
      "/groups/turaga/home/speisera/anaconda3/envs/decode_fish_dev2/lib/python3.7/site-packages/torch/cuda/__init__.py:81: UserWarning: \n",
      "    Found GPU2 NVS 510 which is of cuda capability 3.0.\n",
      "    PyTorch no longer supports this GPU because it is too old.\n",
      "    The minimum cuda capability that we support is 3.5.\n",
      "    \n",
      "  warnings.warn(old_gpu_warn % (d, name, major, capability[1]))\n"
     ]
    },
    {
     "data": {
      "text/plain": [
       "hydra.initialize()"
      ]
     },
     "execution_count": 2,
     "metadata": {},
     "output_type": "execute_result"
    }
   ],
   "source": [
    "# export\n",
    "from decode_fish.imports import *\n",
    "\n",
    "# os.environ[\"CUDA_VISIBLE_DEVICES\"] = '1'\n",
    "\n",
    "from decode_fish.funcs.file_io import *\n",
    "from decode_fish.funcs.emitter_io import *\n",
    "from decode_fish.funcs.utils import *\n",
    "from decode_fish.funcs.dataset import *\n",
    "from decode_fish.funcs.plotting import *\n",
    "from decode_fish.engine.noise import estimate_noise_scale\n",
    "import shutil\n",
    "from decode_fish.funcs.visualization import *\n",
    "from decode_fish.funcs.predict import predict\n",
    "import torch.nn as nn\n",
    "import torch.nn.functional as F\n",
    "import torch.tensor as T\n",
    "from decode_fish.funcs.predict import *\n",
    "\n",
    "from omegaconf import open_dict\n",
    "from hydra import compose, initialize\n",
    "from decode_fish.funcs.merfish_eval import *\n",
    "\n",
    "import h5py\n",
    "from decode_fish.funcs.routines import *\n",
    "\n",
    "initialize(config_path=\"../config\")"
   ]
  },
  {
   "cell_type": "markdown",
   "id": "exclusive-vanilla",
   "metadata": {},
   "source": [
    "## Generate Data"
   ]
  },
  {
   "cell_type": "code",
   "execution_count": 4,
   "id": "fossil-judges",
   "metadata": {
    "ExecuteTime": {
     "end_time": "2021-09-16T14:11:29.476330Z",
     "start_time": "2021-09-16T14:11:29.255825Z"
    }
   },
   "outputs": [
    {
     "name": "stdout",
     "output_type": "stream",
     "text": [
      "Crop size larger than volume in at least one dimension. Crop size changed to (1, 256, 256)\n",
      "1 volumes\n"
     ]
    }
   ],
   "source": [
    "cfg = OmegaConf.load(f'../config/experiment//MERFISH_ci_2d_sim1.yaml')\n",
    "\n",
    "crop_sz = 256\n",
    "cfg.training.bs = 3\n",
    "cfg.random_crop.crop_sz = crop_sz\n",
    "cfg.data_path.image_shape = [16,1,crop_sz,crop_sz]\n",
    "_, decode_dl = get_dataloader(cfg)\n",
    "_, noise, micro = load_psf_noise_micro(cfg)"
   ]
  },
  {
   "cell_type": "code",
   "execution_count": 36,
   "id": "narrow-mounting",
   "metadata": {
    "ExecuteTime": {
     "end_time": "2021-09-17T07:16:37.731820Z",
     "start_time": "2021-09-17T07:16:37.573771Z"
    }
   },
   "outputs": [
    {
     "name": "stdout",
     "output_type": "stream",
     "text": [
      "13832\n"
     ]
    }
   ],
   "source": [
    "bench_df, code_ref, targets = get_benchmark()\n",
    "code_inds = np.stack([np.nonzero(c)[0] for c in code_ref])"
   ]
  },
  {
   "cell_type": "code",
   "execution_count": 63,
   "id": "pointed-guard",
   "metadata": {
    "ExecuteTime": {
     "end_time": "2021-09-17T08:28:24.851309Z",
     "start_time": "2021-09-17T08:28:24.065067Z"
    }
   },
   "outputs": [],
   "source": [
    "out_dir = '/groups/turaga/home/speisera/Mackebox/Artur/WorkDB/deepstorm/decode_fish/data/merfish_sims/sim_data1/'\n",
    "\n",
    "densities = [0.01, 0.025, 0.05, 0.075, 0.1, 0.125, 0.15]\n",
    "intensities = [1., 0.5, 0.25]"
   ]
  },
  {
   "cell_type": "code",
   "execution_count": 39,
   "id": "sunrise-genome",
   "metadata": {
    "ExecuteTime": {
     "end_time": "2021-09-17T07:23:49.957454Z",
     "start_time": "2021-09-17T07:17:00.936311Z"
    }
   },
   "outputs": [
    {
     "name": "stdout",
     "output_type": "stream",
     "text": [
      "dens_0.01_int_1.0\n"
     ]
    },
    {
     "name": "stderr",
     "output_type": "stream",
     "text": [
      "/groups/turaga/home/speisera/anaconda3/envs/decode_fish_dev2/lib/python3.7/site-packages/ipykernel_launcher.py:26: FutureWarning: In a future version of pandas all arguments of DataFrame.drop except for the argument 'labels' will be keyword-only\n"
     ]
    },
    {
     "name": "stdout",
     "output_type": "stream",
     "text": [
      "dens_0.01_int_0.5\n",
      "dens_0.01_int_0.25\n",
      "dens_0.025_int_1.0\n",
      "dens_0.025_int_0.5\n",
      "dens_0.025_int_0.25\n",
      "dens_0.05_int_1.0\n",
      "dens_0.05_int_0.5\n",
      "dens_0.05_int_0.25\n",
      "dens_0.075_int_1.0\n",
      "dens_0.075_int_0.5\n",
      "dens_0.075_int_0.25\n",
      "dens_0.1_int_1.0\n",
      "dens_0.1_int_0.5\n",
      "dens_0.1_int_0.25\n",
      "dens_0.125_int_1.0\n",
      "dens_0.125_int_0.5\n",
      "dens_0.125_int_0.25\n",
      "dens_0.15_int_1.0\n",
      "dens_0.15_int_0.5\n",
      "dens_0.15_int_0.25\n"
     ]
    }
   ],
   "source": [
    "from decode_fish.engine.point_process import *\n",
    "from decode_fish.funcs.output_trafo import *\n",
    "\n",
    "gt_col = []\n",
    "    \n",
    "for d in densities:\n",
    "    for i in intensities:\n",
    "\n",
    "        k = f'dens_{d}_int_{i}'\n",
    "        print(k)\n",
    "\n",
    "        with h5py.File(out_dir+k+'.h5', 'w') as f:\n",
    "\n",
    "            with torch.no_grad():\n",
    "\n",
    "                x, local_rate, background = next(iter(decode_dl))\n",
    "                sim_vars = PointProcessUniform(local_rate*0 + d, cfg.intensity_dist.int_conc*i, cfg.intensity_dist.int_rate, \n",
    "                                               cfg.intensity_dist.int_loc, channels=16, n_bits=4, sim_z=False, codebook=torch.tensor(code_inds)).sample(from_code_book=True, phasing=cfg.exp_type.phasing)\n",
    "                xsim = micro(*sim_vars, add_noise=False)\n",
    "                xsimn = micro.noise(xsim, background).sample()\n",
    "\n",
    "                gt_vars = sim_vars[:-1]\n",
    "                gt_df = sample_to_df(*gt_vars, px_size_zyx=[1.,1.,1.])\n",
    "\n",
    "            gt_df = get_code_from_ints(gt_df, code_ref, targets, int_str='', p_str='')\n",
    "            gt_df = gt_df.drop('gene', 1) # can't store in hd5\n",
    "            gt_df = px_to_nm(gt_df)\n",
    "            gt_df = exclude_borders(gt_df, border_size_zyx=[0,500,500], img_size=[crop_sz*100,crop_sz*100,crop_sz*100])\n",
    "\n",
    "            add_df_to_hdf5(f, 'locations', gt_df)          \n",
    "            f.create_dataset('frames', data=cpu(xsimn))"
   ]
  },
  {
   "cell_type": "code",
   "execution_count": 72,
   "id": "prostate-ireland",
   "metadata": {
    "ExecuteTime": {
     "end_time": "2021-09-17T08:33:05.454059Z",
     "start_time": "2021-09-17T08:33:04.620786Z"
    }
   },
   "outputs": [],
   "source": [
    "files = glob.glob(out_dir+'/*.h5')\n",
    "base_str = 'bsub -gpu \"num=1\" -q gpu_any -o logs/ofish.log -e logs/efish.log /groups/turaga/home/speisera/anaconda3/envs/decode_fish_dev2/bin/python /groups/turaga/home/speisera/Mackebox/Artur/WorkDB/deepstorm/decode_fish/decode_fish/merfish_sim_eval.py '\n",
    "\n",
    "with open('run_slurm.sh', 'w') as f:\n",
    "    for n in files:\n",
    "        name = n.split('/')[-1]\n",
    "        f.write(base_str + f'data_file={name}' + ' \\n')"
   ]
  },
  {
   "cell_type": "code",
   "execution_count": 91,
   "id": "bored-excitement",
   "metadata": {
    "ExecuteTime": {
     "end_time": "2021-09-17T08:48:11.703602Z",
     "start_time": "2021-09-17T08:48:11.571838Z"
    }
   },
   "outputs": [
    {
     "ename": "OSError",
     "evalue": "Unable to create file (unable to open file: name = '/groups/turaga/home/speisera/Mackebox/Artur/WorkDB/deepstorm/decode_fish/data/merfish_sims/sim_data1/sim_2/dens_0.025_int_0.5.h5', errno = 17, error message = 'File exists', flags = 15, o_flags = c2)",
     "output_type": "error",
     "traceback": [
      "\u001b[0;31m---------------------------------------------------------------------------\u001b[0m",
      "\u001b[0;31mOSError\u001b[0m                                   Traceback (most recent call last)",
      "\u001b[0;32m~/.local/lib/python3.7/site-packages/h5py/_hl/files.py\u001b[0m in \u001b[0;36mmake_fid\u001b[0;34m(name, mode, userblock_size, fapl, fcpl, swmr)\u001b[0m\n\u001b[1;32m    184\u001b[0m         \u001b[0;32mtry\u001b[0m\u001b[0;34m:\u001b[0m\u001b[0;34m\u001b[0m\u001b[0;34m\u001b[0m\u001b[0m\n\u001b[0;32m--> 185\u001b[0;31m             \u001b[0mfid\u001b[0m \u001b[0;34m=\u001b[0m \u001b[0mh5f\u001b[0m\u001b[0;34m.\u001b[0m\u001b[0mopen\u001b[0m\u001b[0;34m(\u001b[0m\u001b[0mname\u001b[0m\u001b[0;34m,\u001b[0m \u001b[0mh5f\u001b[0m\u001b[0;34m.\u001b[0m\u001b[0mACC_RDWR\u001b[0m\u001b[0;34m,\u001b[0m \u001b[0mfapl\u001b[0m\u001b[0;34m=\u001b[0m\u001b[0mfapl\u001b[0m\u001b[0;34m)\u001b[0m\u001b[0;34m\u001b[0m\u001b[0;34m\u001b[0m\u001b[0m\n\u001b[0m\u001b[1;32m    186\u001b[0m         \u001b[0;32mexcept\u001b[0m \u001b[0mIOError\u001b[0m\u001b[0;34m:\u001b[0m\u001b[0;34m\u001b[0m\u001b[0;34m\u001b[0m\u001b[0m\n",
      "\u001b[0;32mh5py/_objects.pyx\u001b[0m in \u001b[0;36mh5py._objects.with_phil.wrapper\u001b[0;34m()\u001b[0m\n",
      "\u001b[0;32mh5py/_objects.pyx\u001b[0m in \u001b[0;36mh5py._objects.with_phil.wrapper\u001b[0;34m()\u001b[0m\n",
      "\u001b[0;32mh5py/h5f.pyx\u001b[0m in \u001b[0;36mh5py.h5f.open\u001b[0;34m()\u001b[0m\n",
      "\u001b[0;31mOSError\u001b[0m: Unable to open file (bad object header version number)",
      "\nDuring handling of the above exception, another exception occurred:\n",
      "\u001b[0;31mOSError\u001b[0m                                   Traceback (most recent call last)",
      "\u001b[0;32m/tmp/ipykernel_48851/1096063263.py\u001b[0m in \u001b[0;36m<module>\u001b[0;34m\u001b[0m\n\u001b[1;32m      1\u001b[0m \u001b[0mfiles\u001b[0m \u001b[0;34m=\u001b[0m \u001b[0mglob\u001b[0m\u001b[0;34m.\u001b[0m\u001b[0mglob\u001b[0m\u001b[0;34m(\u001b[0m\u001b[0mout_dir\u001b[0m\u001b[0;34m+\u001b[0m\u001b[0;34m'sim_2/*'\u001b[0m\u001b[0;34m)\u001b[0m\u001b[0;34m\u001b[0m\u001b[0;34m\u001b[0m\u001b[0m\n\u001b[0;32m----> 2\u001b[0;31m \u001b[0;32mwith\u001b[0m \u001b[0mh5py\u001b[0m\u001b[0;34m.\u001b[0m\u001b[0mFile\u001b[0m\u001b[0;34m(\u001b[0m\u001b[0mfiles\u001b[0m\u001b[0;34m[\u001b[0m\u001b[0;36m0\u001b[0m\u001b[0;34m]\u001b[0m\u001b[0;34m,\u001b[0m \u001b[0;34m'a'\u001b[0m\u001b[0;34m)\u001b[0m \u001b[0;32mas\u001b[0m \u001b[0mf\u001b[0m\u001b[0;34m:\u001b[0m\u001b[0;34m\u001b[0m\u001b[0;34m\u001b[0m\u001b[0m\n\u001b[0m\u001b[1;32m      3\u001b[0m     \u001b[0mprint\u001b[0m\u001b[0;34m(\u001b[0m\u001b[0mf\u001b[0m\u001b[0;34m.\u001b[0m\u001b[0mkeys\u001b[0m\u001b[0;34m(\u001b[0m\u001b[0;34m)\u001b[0m\u001b[0;34m)\u001b[0m\u001b[0;34m\u001b[0m\u001b[0;34m\u001b[0m\u001b[0m\n\u001b[1;32m      4\u001b[0m     \u001b[0mprint\u001b[0m\u001b[0;34m(\u001b[0m\u001b[0mget_df_from_hdf5\u001b[0m\u001b[0;34m(\u001b[0m\u001b[0mf\u001b[0m\u001b[0;34m[\u001b[0m\u001b[0;34m'old_loss:True'\u001b[0m\u001b[0;34m]\u001b[0m\u001b[0;34m[\u001b[0m\u001b[0;34m'perf_int'\u001b[0m\u001b[0;34m]\u001b[0m\u001b[0;34m)\u001b[0m\u001b[0;34m)\u001b[0m\u001b[0;34m\u001b[0m\u001b[0;34m\u001b[0m\u001b[0m\n",
      "\u001b[0;32m~/.local/lib/python3.7/site-packages/h5py/_hl/files.py\u001b[0m in \u001b[0;36m__init__\u001b[0;34m(self, name, mode, driver, libver, userblock_size, swmr, rdcc_nslots, rdcc_nbytes, rdcc_w0, track_order, **kwds)\u001b[0m\n\u001b[1;32m    406\u001b[0m                 fid = make_fid(name, mode, userblock_size,\n\u001b[1;32m    407\u001b[0m                                \u001b[0mfapl\u001b[0m\u001b[0;34m,\u001b[0m \u001b[0mfcpl\u001b[0m\u001b[0;34m=\u001b[0m\u001b[0mmake_fcpl\u001b[0m\u001b[0;34m(\u001b[0m\u001b[0mtrack_order\u001b[0m\u001b[0;34m=\u001b[0m\u001b[0mtrack_order\u001b[0m\u001b[0;34m)\u001b[0m\u001b[0;34m,\u001b[0m\u001b[0;34m\u001b[0m\u001b[0;34m\u001b[0m\u001b[0m\n\u001b[0;32m--> 408\u001b[0;31m                                swmr=swmr)\n\u001b[0m\u001b[1;32m    409\u001b[0m \u001b[0;34m\u001b[0m\u001b[0m\n\u001b[1;32m    410\u001b[0m             \u001b[0;32mif\u001b[0m \u001b[0misinstance\u001b[0m\u001b[0;34m(\u001b[0m\u001b[0mlibver\u001b[0m\u001b[0;34m,\u001b[0m \u001b[0mtuple\u001b[0m\u001b[0;34m)\u001b[0m\u001b[0;34m:\u001b[0m\u001b[0;34m\u001b[0m\u001b[0;34m\u001b[0m\u001b[0m\n",
      "\u001b[0;32m~/.local/lib/python3.7/site-packages/h5py/_hl/files.py\u001b[0m in \u001b[0;36mmake_fid\u001b[0;34m(name, mode, userblock_size, fapl, fcpl, swmr)\u001b[0m\n\u001b[1;32m    185\u001b[0m             \u001b[0mfid\u001b[0m \u001b[0;34m=\u001b[0m \u001b[0mh5f\u001b[0m\u001b[0;34m.\u001b[0m\u001b[0mopen\u001b[0m\u001b[0;34m(\u001b[0m\u001b[0mname\u001b[0m\u001b[0;34m,\u001b[0m \u001b[0mh5f\u001b[0m\u001b[0;34m.\u001b[0m\u001b[0mACC_RDWR\u001b[0m\u001b[0;34m,\u001b[0m \u001b[0mfapl\u001b[0m\u001b[0;34m=\u001b[0m\u001b[0mfapl\u001b[0m\u001b[0;34m)\u001b[0m\u001b[0;34m\u001b[0m\u001b[0;34m\u001b[0m\u001b[0m\n\u001b[1;32m    186\u001b[0m         \u001b[0;32mexcept\u001b[0m \u001b[0mIOError\u001b[0m\u001b[0;34m:\u001b[0m\u001b[0;34m\u001b[0m\u001b[0;34m\u001b[0m\u001b[0m\n\u001b[0;32m--> 187\u001b[0;31m             \u001b[0mfid\u001b[0m \u001b[0;34m=\u001b[0m \u001b[0mh5f\u001b[0m\u001b[0;34m.\u001b[0m\u001b[0mcreate\u001b[0m\u001b[0;34m(\u001b[0m\u001b[0mname\u001b[0m\u001b[0;34m,\u001b[0m \u001b[0mh5f\u001b[0m\u001b[0;34m.\u001b[0m\u001b[0mACC_EXCL\u001b[0m\u001b[0;34m,\u001b[0m \u001b[0mfapl\u001b[0m\u001b[0;34m=\u001b[0m\u001b[0mfapl\u001b[0m\u001b[0;34m,\u001b[0m \u001b[0mfcpl\u001b[0m\u001b[0;34m=\u001b[0m\u001b[0mfcpl\u001b[0m\u001b[0;34m)\u001b[0m\u001b[0;34m\u001b[0m\u001b[0;34m\u001b[0m\u001b[0m\n\u001b[0m\u001b[1;32m    188\u001b[0m     \u001b[0;32melif\u001b[0m \u001b[0mmode\u001b[0m \u001b[0;32mis\u001b[0m \u001b[0;32mNone\u001b[0m\u001b[0;34m:\u001b[0m\u001b[0;34m\u001b[0m\u001b[0;34m\u001b[0m\u001b[0m\n\u001b[1;32m    189\u001b[0m         warn(\"The default file mode will change to 'r' (read-only) in h5py 3.0. \"\n",
      "\u001b[0;32mh5py/_objects.pyx\u001b[0m in \u001b[0;36mh5py._objects.with_phil.wrapper\u001b[0;34m()\u001b[0m\n",
      "\u001b[0;32mh5py/_objects.pyx\u001b[0m in \u001b[0;36mh5py._objects.with_phil.wrapper\u001b[0;34m()\u001b[0m\n",
      "\u001b[0;32mh5py/h5f.pyx\u001b[0m in \u001b[0;36mh5py.h5f.create\u001b[0;34m()\u001b[0m\n",
      "\u001b[0;31mOSError\u001b[0m: Unable to create file (unable to open file: name = '/groups/turaga/home/speisera/Mackebox/Artur/WorkDB/deepstorm/decode_fish/data/merfish_sims/sim_data1/sim_2/dens_0.025_int_0.5.h5', errno = 17, error message = 'File exists', flags = 15, o_flags = c2)"
     ]
    }
   ],
   "source": [
    "files = glob.glob(out_dir+'sim_2/*')\n",
    "with h5py.File(files[0], 'a') as f:\n",
    "    print(f.keys())\n",
    "    print(get_df_from_hdf5(f['old_loss:True']['perf_int']))"
   ]
  },
  {
   "cell_type": "code",
   "execution_count": 93,
   "id": "valuable-bennett",
   "metadata": {
    "ExecuteTime": {
     "end_time": "2021-09-17T08:49:05.042233Z",
     "start_time": "2021-09-17T08:49:04.488506Z"
    }
   },
   "outputs": [],
   "source": [
    "snr_keys = [f.split('/')[-1].split('.h5')[0] for f in files]"
   ]
  },
  {
   "cell_type": "code",
   "execution_count": 132,
   "id": "obvious-burns",
   "metadata": {
    "ExecuteTime": {
     "end_time": "2021-09-17T12:37:21.426038Z",
     "start_time": "2021-09-17T12:37:21.358768Z"
    }
   },
   "outputs": [
    {
     "data": {
      "text/plain": [
       "['bardensr',\n",
       " 'istdeco',\n",
       " 'old_loss:False',\n",
       " 'old_loss:Falsexsample_from_codebook:True',\n",
       " 'old_loss:True',\n",
       " 'old_loss:Truexsample_from_codebook:True']"
      ]
     },
     "execution_count": 132,
     "metadata": {},
     "output_type": "execute_result"
    }
   ],
   "source": [
    "mod_keys"
   ]
  },
  {
   "cell_type": "code",
   "execution_count": 153,
   "id": "micro-deployment",
   "metadata": {
    "ExecuteTime": {
     "end_time": "2021-09-17T19:12:38.379057Z",
     "start_time": "2021-09-17T19:12:35.713208Z"
    }
   },
   "outputs": [
    {
     "name": "stdout",
     "output_type": "stream",
     "text": [
      "bardensr\n"
     ]
    },
    {
     "data": {
      "text/html": [
       "<div>\n",
       "<style scoped>\n",
       "    .dataframe tbody tr th:only-of-type {\n",
       "        vertical-align: middle;\n",
       "    }\n",
       "\n",
       "    .dataframe tbody tr th {\n",
       "        vertical-align: top;\n",
       "    }\n",
       "\n",
       "    .dataframe thead th {\n",
       "        text-align: right;\n",
       "    }\n",
       "</style>\n",
       "<table border=\"1\" class=\"dataframe\">\n",
       "  <thead>\n",
       "    <tr style=\"text-align: right;\">\n",
       "      <th></th>\n",
       "      <th>eff_3d</th>\n",
       "      <th>jaccard</th>\n",
       "      <th>n_matches</th>\n",
       "      <th>precision</th>\n",
       "      <th>recall</th>\n",
       "      <th>rmse_vol</th>\n",
       "      <th>rmse_x</th>\n",
       "      <th>rmse_y</th>\n",
       "      <th>rmse_z</th>\n",
       "    </tr>\n",
       "  </thead>\n",
       "  <tbody>\n",
       "    <tr>\n",
       "      <th>0</th>\n",
       "      <td>56.983347</td>\n",
       "      <td>0.725621</td>\n",
       "      <td>1518</td>\n",
       "      <td>0.830416</td>\n",
       "      <td>0.851852</td>\n",
       "      <td>66.259972</td>\n",
       "      <td>46.916676</td>\n",
       "      <td>46.788988</td>\n",
       "      <td>0.0</td>\n",
       "    </tr>\n",
       "  </tbody>\n",
       "</table>\n",
       "</div>"
      ],
      "text/plain": [
       "      eff_3d   jaccard  n_matches  precision    recall   rmse_vol     rmse_x  \\\n",
       "0  56.983347  0.725621       1518   0.830416  0.851852  66.259972  46.916676   \n",
       "\n",
       "      rmse_y  rmse_z  \n",
       "0  46.788988     0.0  "
      ]
     },
     "metadata": {},
     "output_type": "display_data"
    },
    {
     "name": "stdout",
     "output_type": "stream",
     "text": [
      "istdeco\n"
     ]
    },
    {
     "data": {
      "text/html": [
       "<div>\n",
       "<style scoped>\n",
       "    .dataframe tbody tr th:only-of-type {\n",
       "        vertical-align: middle;\n",
       "    }\n",
       "\n",
       "    .dataframe tbody tr th {\n",
       "        vertical-align: top;\n",
       "    }\n",
       "\n",
       "    .dataframe thead th {\n",
       "        text-align: right;\n",
       "    }\n",
       "</style>\n",
       "<table border=\"1\" class=\"dataframe\">\n",
       "  <thead>\n",
       "    <tr style=\"text-align: right;\">\n",
       "      <th></th>\n",
       "      <th>eff_3d</th>\n",
       "      <th>jaccard</th>\n",
       "      <th>n_matches</th>\n",
       "      <th>precision</th>\n",
       "      <th>recall</th>\n",
       "      <th>rmse_vol</th>\n",
       "      <th>rmse_x</th>\n",
       "      <th>rmse_y</th>\n",
       "      <th>rmse_z</th>\n",
       "    </tr>\n",
       "  </thead>\n",
       "  <tbody>\n",
       "    <tr>\n",
       "      <th>0</th>\n",
       "      <td>76.031432</td>\n",
       "      <td>0.943469</td>\n",
       "      <td>1719</td>\n",
       "      <td>0.97726</td>\n",
       "      <td>0.964646</td>\n",
       "      <td>46.584731</td>\n",
       "      <td>33.165867</td>\n",
       "      <td>32.713337</td>\n",
       "      <td>0.0</td>\n",
       "    </tr>\n",
       "  </tbody>\n",
       "</table>\n",
       "</div>"
      ],
      "text/plain": [
       "      eff_3d   jaccard  n_matches  precision    recall   rmse_vol     rmse_x  \\\n",
       "0  76.031432  0.943469       1719    0.97726  0.964646  46.584731  33.165867   \n",
       "\n",
       "      rmse_y  rmse_z  \n",
       "0  32.713337     0.0  "
      ]
     },
     "metadata": {},
     "output_type": "display_data"
    },
    {
     "name": "stdout",
     "output_type": "stream",
     "text": [
      "old_loss:False\n"
     ]
    },
    {
     "data": {
      "text/html": [
       "<div>\n",
       "<style scoped>\n",
       "    .dataframe tbody tr th:only-of-type {\n",
       "        vertical-align: middle;\n",
       "    }\n",
       "\n",
       "    .dataframe tbody tr th {\n",
       "        vertical-align: top;\n",
       "    }\n",
       "\n",
       "    .dataframe thead th {\n",
       "        text-align: right;\n",
       "    }\n",
       "</style>\n",
       "<table border=\"1\" class=\"dataframe\">\n",
       "  <thead>\n",
       "    <tr style=\"text-align: right;\">\n",
       "      <th></th>\n",
       "      <th>eff_3d</th>\n",
       "      <th>jaccard</th>\n",
       "      <th>n_matches</th>\n",
       "      <th>precision</th>\n",
       "      <th>recall</th>\n",
       "      <th>rmse_vol</th>\n",
       "      <th>rmse_x</th>\n",
       "      <th>rmse_y</th>\n",
       "      <th>rmse_z</th>\n",
       "    </tr>\n",
       "  </thead>\n",
       "  <tbody>\n",
       "    <tr>\n",
       "      <th>0</th>\n",
       "      <td>56.616709</td>\n",
       "      <td>0.585218</td>\n",
       "      <td>1061</td>\n",
       "      <td>0.971612</td>\n",
       "      <td>0.595398</td>\n",
       "      <td>25.429686</td>\n",
       "      <td>17.988641</td>\n",
       "      <td>17.974364</td>\n",
       "      <td>0.0</td>\n",
       "    </tr>\n",
       "  </tbody>\n",
       "</table>\n",
       "</div>"
      ],
      "text/plain": [
       "      eff_3d   jaccard  n_matches  precision    recall   rmse_vol     rmse_x  \\\n",
       "0  56.616709  0.585218       1061   0.971612  0.595398  25.429686  17.988641   \n",
       "\n",
       "      rmse_y  rmse_z  \n",
       "0  17.974364     0.0  "
      ]
     },
     "metadata": {},
     "output_type": "display_data"
    },
    {
     "name": "stdout",
     "output_type": "stream",
     "text": [
      "old_loss:True\n"
     ]
    },
    {
     "data": {
      "text/html": [
       "<div>\n",
       "<style scoped>\n",
       "    .dataframe tbody tr th:only-of-type {\n",
       "        vertical-align: middle;\n",
       "    }\n",
       "\n",
       "    .dataframe tbody tr th {\n",
       "        vertical-align: top;\n",
       "    }\n",
       "\n",
       "    .dataframe thead th {\n",
       "        text-align: right;\n",
       "    }\n",
       "</style>\n",
       "<table border=\"1\" class=\"dataframe\">\n",
       "  <thead>\n",
       "    <tr style=\"text-align: right;\">\n",
       "      <th></th>\n",
       "      <th>eff_3d</th>\n",
       "      <th>jaccard</th>\n",
       "      <th>n_matches</th>\n",
       "      <th>precision</th>\n",
       "      <th>recall</th>\n",
       "      <th>rmse_vol</th>\n",
       "      <th>rmse_x</th>\n",
       "      <th>rmse_y</th>\n",
       "      <th>rmse_z</th>\n",
       "    </tr>\n",
       "  </thead>\n",
       "  <tbody>\n",
       "    <tr>\n",
       "      <th>0</th>\n",
       "      <td>56.223566</td>\n",
       "      <td>0.56929</td>\n",
       "      <td>1027</td>\n",
       "      <td>0.979028</td>\n",
       "      <td>0.576319</td>\n",
       "      <td>15.65485</td>\n",
       "      <td>11.184347</td>\n",
       "      <td>10.953754</td>\n",
       "      <td>0.0</td>\n",
       "    </tr>\n",
       "  </tbody>\n",
       "</table>\n",
       "</div>"
      ],
      "text/plain": [
       "      eff_3d  jaccard  n_matches  precision    recall  rmse_vol     rmse_x  \\\n",
       "0  56.223566  0.56929       1027   0.979028  0.576319  15.65485  11.184347   \n",
       "\n",
       "      rmse_y  rmse_z  \n",
       "0  10.953754     0.0  "
      ]
     },
     "metadata": {},
     "output_type": "display_data"
    }
   ],
   "source": [
    "with h5py.File(files[0], 'r') as f:\n",
    "    mod_keys = list(f.keys())\n",
    "    \n",
    "mod_keys = ['bardensr',\n",
    " 'istdeco',\n",
    " 'old_loss:False',\n",
    " 'old_loss:True']\n",
    "\n",
    "jacs = {k:np.zeros([len(intensities), len(densities)]) for k in mod_keys}\n",
    "\n",
    "for f in files:\n",
    "    with h5py.File(f, 'r') as h:\n",
    "        for m in mod_keys:\n",
    "            \n",
    "            if m in ['istdeco','bardensr']:\n",
    "                perf_str = 'perf'\n",
    "            elif 'False' in m:\n",
    "                perf_str = 'perf_p'\n",
    "            elif 'True' in m:\n",
    "                perf_str = 'perf_int'\n",
    "            k = f.split('/')[-1].split('.h5')[0] \n",
    "            d = k.split('_')[1]\n",
    "            i = k.split('_')[3]\n",
    "            \n",
    "            # locs = get_df_from_hdf5(f['evaluations'][k]['old_loss:False']['locations_int'])\n",
    "            perf = get_df_from_hdf5(h[m][perf_str])\n",
    "            jacs[m][intensities.index(float(i)),densities.index(float(d))] = perf['jaccard'].values[0]\n",
    "            \n",
    "            if k == 'dens_0.01_int_0.25':\n",
    "                print(m)\n",
    "                display(perf)"
   ]
  },
  {
   "cell_type": "code",
   "execution_count": 146,
   "id": "loving-surgeon",
   "metadata": {
    "ExecuteTime": {
     "end_time": "2021-09-17T12:58:25.838867Z",
     "start_time": "2021-09-17T12:58:25.777422Z"
    }
   },
   "outputs": [
    {
     "data": {
      "text/plain": [
       "'dens_0.05_int_1.0'"
      ]
     },
     "execution_count": 146,
     "metadata": {},
     "output_type": "execute_result"
    }
   ],
   "source": [
    "k"
   ]
  },
  {
   "cell_type": "code",
   "execution_count": 138,
   "id": "ignored-microphone",
   "metadata": {
    "ExecuteTime": {
     "end_time": "2021-09-17T12:48:27.629226Z",
     "start_time": "2021-09-17T12:48:27.062168Z"
    }
   },
   "outputs": [
    {
     "data": {
      "image/png": "[encoded data removed]",
      "text/plain": [
       "<Figure size 432x288 with 1 Axes>"
      ]
     },
     "metadata": {
      "needs_background": "light"
     },
     "output_type": "display_data"
    },
    {
     "data": {
      "image/png": "[encoded data removed]",
      "text/plain": [
       "<Figure size 432x288 with 1 Axes>"
      ]
     },
     "metadata": {
      "needs_background": "light"
     },
     "output_type": "display_data"
    },
    {
     "data": {
      "image/png": "[encoded data removed]",
      "text/plain": [
       "<Figure size 432x288 with 1 Axes>"
      ]
     },
     "metadata": {
      "needs_background": "light"
     },
     "output_type": "display_data"
    }
   ],
   "source": [
    "# import seaborn as sns\n",
    "# for m in mod_keys:\n",
    "#     im = sns.heatmap(jacs[m], annot=True)\n",
    "#     plt.title(m)\n",
    "#     plt.show()\n",
    "\n",
    "for i in range(len(intensities)):\n",
    "    for m in mod_keys:\n",
    "        plt.plot(jacs[m][i], label=m)\n",
    "    plt.legend()\n",
    "    plt.show()\n",
    "    \n",
    "# for m in mod_keys:\n",
    "#     for i in range(len(intensities)):\n",
    "#         plt.plot(jacs[m][i], label=i)\n",
    "#     plt.legend()\n",
    "#     plt.title(m)\n",
    "#     plt.show()"
   ]
  },
  {
   "cell_type": "code",
   "execution_count": 26,
   "id": "latin-deployment",
   "metadata": {
    "ExecuteTime": {
     "end_time": "2021-09-17T06:48:14.450487Z",
     "start_time": "2021-09-17T06:48:14.381784Z"
    }
   },
   "outputs": [
    {
     "data": {
      "text/plain": [
       "'istdeco'"
      ]
     },
     "execution_count": 26,
     "metadata": {},
     "output_type": "execute_result"
    }
   ],
   "source": [
    "m"
   ]
  },
  {
   "cell_type": "markdown",
   "id": "viral-natural",
   "metadata": {},
   "source": [
    "bsub -gpu \"num=1\" -q gpu_any -o logs/ofish.log -e logs/efish.log /groups/turaga/home/speisera/anaconda3/envs/decode_fish_dev2/bin/python /groups/turaga/home/speisera/Mackebox/Artur/WorkDB/deepstorm/decode_fish/decode_fish/merfish_sim_eval.py "
   ]
  },
  {
   "cell_type": "code",
   "execution_count": null,
   "id": "potential-alliance",
   "metadata": {},
   "outputs": [],
   "source": []
  }
 ],
 "metadata": {
  "kernelspec": {
   "display_name": "Python [conda env:decode_fish_dev2]",
   "language": "python",
   "name": "conda-env-decode_fish_dev2-py"
  },
  "language_info": {
   "codemirror_mode": {
    "name": "ipython",
    "version": 3
   },
   "file_extension": ".py",
   "mimetype": "text/x-python",
   "name": "python",
   "nbconvert_exporter": "python",
   "pygments_lexer": "ipython3",
   "version": "3.7.11"
  }
 },
 "nbformat": 4,
 "nbformat_minor": 5
}
