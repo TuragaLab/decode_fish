{
 "cells": [
  {
   "cell_type": "markdown",
   "id": "embedded-charger",
   "metadata": {},
   "source": [
    "%load_ext autoreload\n",
    "%autoreload 2"
   ]
  },
  {
   "cell_type": "code",
   "execution_count": null,
   "id": "breathing-discharge",
   "metadata": {},
   "outputs": [],
   "source": [
    "from decode_fish.imports import *\n",
    "from decode_fish.funcs.file_io import *\n",
    "from decode_fish.funcs.emitter_io import *\n",
    "from decode_fish.funcs.utils import *\n",
    "from decode_fish.funcs.dataset import *\n",
    "from decode_fish.funcs.plotting import *\n",
    "from decode_fish.engine.noise import estimate_noise_scale\n",
    "import shutil\n",
    "from decode_fish.funcs.visualization import *\n",
    "from decode_fish.funcs.predict import predict\n",
    "\n",
    "from numba import njit\n",
    "from scipy.spatial import cKDTree\n",
    "from decode_fish.funcs.evaluation import matching\n",
    "\n",
    "import io, requests\n",
    "\n",
    "from decode_fish.funcs.merfish_eval import *\n",
    "from starfish import data\n",
    "import pprint\n",
    "\n",
    "import io, requests\n",
    "from sklearn.neighbors import NearestNeighbors"
   ]
  },
  {
   "cell_type": "code",
   "execution_count": null,
   "id": "bacterial-miniature",
   "metadata": {},
   "outputs": [
    {
     "name": "stdout",
     "output_type": "stream",
     "text": [
      "13832\n"
     ]
    }
   ],
   "source": [
    "bench = pd.read_csv(\n",
    "    io.BytesIO(requests.get('https://d2nhj9g34unfro.cloudfront.net/MERFISH/benchmark_results.csv').content),\n",
    "    dtype={'barcode': object})\n",
    "\n",
    "#See Fig. S4 https://www.pnas.org/content/113/39/11046\n",
    "\n",
    "bench_df = bench.copy()\n",
    "bench_df = bench_df[bench_df['total_magnitude']>10**0.75 * 4]\n",
    "bench_df = bench_df[bench_df['area']>3]\n",
    "bench_df['int'] = bench_df['total_magnitude']\n",
    "bench_df['code_err'] = -bench_df['total_magnitude']\n",
    "\n",
    "print(len(bench_df))\n",
    "\n",
    "experiment = data.MERFISH(use_test_data=True)\n",
    "code_ref = experiment.codebook.data.reshape([140,-1], order='F')\n",
    "targets = experiment.codebook.indexes['target']"
   ]
  },
  {
   "cell_type": "code",
   "execution_count": null,
   "id": "unsigned-monday",
   "metadata": {},
   "outputs": [
    {
     "data": {
      "text/plain": [
       "303099"
      ]
     },
     "execution_count": null,
     "metadata": {},
     "output_type": "execute_result"
    }
   ],
   "source": [
    "pred_df = pd.read_csv('../data/results/MERFISH/exp_c3d2x_01noise.csv')\n",
    "pred_df = pd.read_csv('../data/results/MERFISH/exp_c3d_02noise.csv')\n",
    "pred_df = exclude_borders(pred_df, border_size_zyx=[0,4000,4000], img_size=[2048*100,2048*100,2048*100])\n",
    "pred_df.loc[pred_df['frame_idx']>7] = shift_df(pred_df[pred_df['frame_idx']>7], [5,20,0])\n",
    "pred_df.loc[:,'comb_sig'] = np.sqrt(pred_df['x_sig']**2 + pred_df['y_sig']**2)\n",
    "len(pred_df)"
   ]
  },
  {
   "cell_type": "code",
   "execution_count": null,
   "id": "infrared-cedar",
   "metadata": {},
   "outputs": [
    {
     "name": "stderr",
     "output_type": "stream",
     "text": [
      "100%|██████████████████████████████████████████████████████████████| 16/16 [00:00<00:00, 252.24it/s]\n",
      "100%|██████████████████████████████████████████████████████████████| 16/16 [00:00<00:00, 253.23it/s]\n"
     ]
    },
    {
     "data": {
      "image/png": "[encoded data removed]",
      "text/plain": [
       "<Figure size 864x360 with 2 Axes>"
      ]
     },
     "metadata": {
      "needs_background": "light"
     },
     "output_type": "display_data"
    }
   ],
   "source": [
    "import seaborn as sns\n",
    "plt.figure(figsize=(12,5))\n",
    "plt.subplot(121)\n",
    "cmap = sns.color_palette(\"viridis\", n_colors=16)\n",
    "\n",
    "for i in tqdm(range(0,16)):\n",
    "    color='red' if i<8 else 'green'\n",
    "    df1 = pred_df[pred_df['frame_idx']==i].copy()\n",
    "    plt.hist(df1['comb_sig'], histtype='step', bins=np.linspace(1,250,101),color=cmap[i])\n",
    "plt.subplot(122)\n",
    "for i in tqdm(range(0,16)):\n",
    "    color='red' if i<8 else 'green'\n",
    "    df1 = pred_df[pred_df['frame_idx']==i].copy()\n",
    "    plt.hist(df1['int'], histtype='step', color=cmap[i], bins=np.linspace(1,20,101))\n"
   ]
  },
  {
   "cell_type": "code",
   "execution_count": null,
   "id": "injured-outside",
   "metadata": {},
   "outputs": [],
   "source": [
    "# pred_df0 = pd.read_csv('../data/results/MERFISH/exp_3_ch0.csv')\n",
    "# pred_df1 = pd.read_csv('../data/results/MERFISH/exp_3_ch1.csv')\n",
    "# pred_df1['frame_idx'] += 8\n",
    "# pred_df1['loc_idx'] += pred_df0['loc_idx'].values[-1] + 1\n",
    "# pred_df = pred_df0.append(pred_df1)\n",
    "# pred_df = pred_df.reset_index(drop=True)\n",
    "# pred_df = exclude_borders(pred_df, border_size_zyx=[0,4000,4000], img_size=[2048*100,2048*100,2048*100])\n",
    "# pred_df.loc[pred_df['frame_idx']>7] = shift_df(pred_df[pred_df['frame_idx']>7], [5,20,0])\n",
    "# len(pred_df)"
   ]
  },
  {
   "cell_type": "code",
   "execution_count": null,
   "id": "associate-titanium",
   "metadata": {},
   "outputs": [],
   "source": [
    "def norm_features(code, norm_order = 2):\n",
    "    \n",
    "    norm = np.linalg.norm(code, ord=norm_order, axis=1)\n",
    "    code = code / norm[:, None]\n",
    "\n",
    "    return code\n",
    "\n",
    "def approximate_nearest_code(ref_code, pred_code, targets):\n",
    "    \n",
    "    nn = NearestNeighbors(n_neighbors=1, algorithm='ball_tree', metric='euclidean').fit(ref_code)\n",
    "    metric_output, indices = nn.kneighbors(pred_code)\n",
    "    gene_ids = np.ravel(targets.values[indices])\n",
    "\n",
    "    return np.ravel(metric_output), gene_ids, indices\n",
    "\n",
    "def make_roc(dfs, var='code_err', ascending=True):\n",
    "    max_len = max([len(df) for df in dfs])\n",
    "    x = np.arange(1000,max_len,100)\n",
    "    y = []\n",
    "    \n",
    "    for df in dfs:\n",
    "\n",
    "        df = df.sort_values(var, ascending=ascending)\n",
    "        n_blanks = []\n",
    "        for i in x:\n",
    "            n_blanks.append((df[:int(i)]['gene'].str.contains('Blank')).sum())\n",
    "        y.append(n_blanks)\n",
    "        \n",
    "    return x, y"
   ]
  },
  {
   "cell_type": "code",
   "execution_count": null,
   "id": "stretch-christmas",
   "metadata": {},
   "outputs": [],
   "source": [
    "# Define points where to query. Something to replace pixels. Could do a fine grid. "
   ]
  },
  {
   "cell_type": "code",
   "execution_count": null,
   "id": "marked-visit",
   "metadata": {},
   "outputs": [],
   "source": [
    "def vcorrcoef(X,y):\n",
    "    Xm = np.reshape(np.mean(X,axis=1),(X.shape[0],1))\n",
    "    ym = np.mean(y)\n",
    "    r_num = np.sum((X-Xm)*(y-ym),axis=1)\n",
    "    r_den = np.sqrt(np.sum((X-Xm)**2,axis=1)*np.sum((y-ym)**2))\n",
    "    r = r_num/r_den\n",
    "    return r"
   ]
  },
  {
   "cell_type": "code",
   "execution_count": null,
   "id": "further-professor",
   "metadata": {},
   "outputs": [],
   "source": [
    "# norm_code = norm_features(code_ref) \n",
    "# group_rad = 150\n",
    "\n",
    "# loc_df=pred_df.copy()\n",
    "\n",
    "# N_imgs = loc_df['frame_idx'].max() + 1\n",
    "\n",
    "# loc_df = loc_df.sort_values('comb_sig').reset_index(drop=True)\n",
    "\n",
    "# xy = loc_df.loc[:,['x','y']].values\n",
    "# xy_sig = loc_df.loc[:,['x_sig','y_sig']].values # * 0 + 25\n",
    "# fr_idx = loc_df.loc[:,'frame_idx'].values\n",
    "# grouped_bool = np.zeros(len(loc_df))\n",
    "\n",
    "# tree = cKDTree(xy)\n",
    "# code_errs = []\n",
    "\n",
    "# seed_inds = []\n",
    "# code_err = []\n",
    "# code_ind = []\n",
    "\n",
    "# for i in tqdm(range(5)):    \n",
    "#     if not grouped_bool[i]:\n",
    "\n",
    "#         ball_inds = np.array(tree.query_ball_point(xy[i], group_rad))\n",
    "#         ball_inds = ball_inds[grouped_bool[ball_inds] == 0]\n",
    "\n",
    "#         if len(ball_inds) >= 4:\n",
    "\n",
    "#             frame_probs = np.zeros(N_imgs)\n",
    "#             # Evaluate probs at the position of the seed localization\n",
    "#             cdf = torch.distributions.normal.Normal(T([0,0]), (torch.sqrt(T(xy_sig[ball_inds][None])**2 + T(xy_sig[ball_inds][:,None])**2))).cdf(-abs(T(xy[ball_inds][None]) - T(xy[ball_inds][:,None]))).prod(-1)\n",
    "#             cdf = cdf*(1-torch.diag(torch.ones(len(cdf))))\n",
    "#             probs = (cdf*4).sum(0)/(len(cdf) - 1)\n",
    "#             # If multiple localizations belong the same frame, chose the one with higehst prob.\n",
    "#             sort_inds = np.argsort(-probs)\n",
    "#             sort_fr_idx = fr_idx[ball_inds][sort_inds]\n",
    "#             unique_inds = sort_inds[np.unique(sort_fr_idx, return_index=True)[1]] \n",
    "\n",
    "#             if len(unique_inds) >= 4:\n",
    "\n",
    "#                 ball_inds = ball_inds[unique_inds]\n",
    "#                 frame_probs[fr_idx[ball_inds]] = probs[unique_inds]\n",
    "\n",
    "#                 frame_probs2 = frame_probs\n",
    "                \n",
    "#                 frame_probs = frame_probs**(1/10)\n",
    "#                 code_errors = vcorrcoef(code_ref, frame_probs)\n",
    "                \n",
    "#                 frame_probs2 = frame_probs2**(1/1)\n",
    "#                 code_errors2 = vcorrcoef(code_ref, frame_probs2)\n",
    "                \n",
    "#                 print('1',np.round(sorted(code_errors, reverse=True)[:10], 4))\n",
    "#                 print('2',np.round(sorted(code_errors2, reverse=True)[:10], 4))\n",
    "                \n",
    "#                 print('1',np.argsort(-code_errors)[:10])\n",
    "#                 print('1',np.argsort(-code_errors2)[:10])\n",
    "\n",
    "#                 min_ind = np.argmax(code_errors)\n",
    "\n",
    "#                 selected = ball_inds[np.intersect1d(fr_idx[ball_inds], code_ref[min_ind].nonzero()[0], assume_unique=True, return_indices=True)[1]]\n",
    "\n",
    "#                 grouped_bool[selected] = 1\n",
    "\n",
    "#                 seed_inds.append(i)\n",
    "#                 code_err.append(code_errors[min_ind])\n",
    "#                 code_ind.append(min_ind)\n",
    "\n",
    "# loc_df = loc_df.loc[seed_inds]\n",
    "# loc_df['code_err'] = code_err\n",
    "# loc_df['code_inds'] = code_ind\n",
    "# loc_df['gene'] = targets[code_ind]"
   ]
  },
  {
   "cell_type": "code",
   "execution_count": null,
   "id": "limiting-stranger",
   "metadata": {},
   "outputs": [],
   "source": [
    "import torch.tensor as T\n",
    "\n",
    "def get_codes(pred_df, group_rad=150, prob_smoothing=1):\n",
    "    norm_code = norm_features(code_ref) \n",
    "\n",
    "    loc_df=pred_df.copy()\n",
    "\n",
    "    N_imgs = loc_df['frame_idx'].max() + 1\n",
    "\n",
    "    loc_df = loc_df.sort_values('comb_sig').reset_index(drop=True)\n",
    "\n",
    "    xy = loc_df.loc[:,['x','y']].values\n",
    "    xy_sig = loc_df.loc[:,['x_sig','y_sig']].values * prob_smoothing\n",
    "    fr_idx = loc_df.loc[:,'frame_idx'].values\n",
    "    grouped_bool = np.zeros(len(loc_df))\n",
    "\n",
    "    tree = cKDTree(xy)\n",
    "    code_errs = []\n",
    "\n",
    "    seed_inds = []\n",
    "    code_err = []\n",
    "    code_ind = []\n",
    "\n",
    "    for i in tqdm(range(len(loc_df))):\n",
    "#     for i in tqdm(range(15000)):    \n",
    "        if not grouped_bool[i]:\n",
    "\n",
    "            ball_inds = np.array(tree.query_ball_point(xy[i], group_rad))\n",
    "            ball_inds = ball_inds[grouped_bool[ball_inds] == 0]\n",
    "\n",
    "            if len(ball_inds) >= 4:\n",
    "\n",
    "                frame_probs = np.zeros(N_imgs)\n",
    "                \n",
    "                # Evaluate probs at the position of the seed localization\n",
    "#                 probs = torch.exp(torch.distributions.normal.Normal(T(xy[ball_inds]), T(xy_sig[ball_inds])).log_prob(T(xy[i])).sum(-1))\n",
    "                \n",
    "                cdf = torch.distributions.normal.Normal(T([0,0]), (torch.sqrt(T(xy_sig[ball_inds][None])**2 + T(xy_sig[ball_inds][:,None])**2))).cdf(-abs(T(xy[ball_inds][None]) - T(xy[ball_inds][:,None]))).prod(-1)\n",
    "                cdf = cdf*(1-torch.diag(torch.ones(len(cdf))))\n",
    "                probs = (cdf*4).sum(0)/(len(cdf) - 1)                \n",
    "                \n",
    "                # If multiple localizations belong the same frame, chose the one with higehst prob.\n",
    "                sort_inds = np.argsort(-probs)\n",
    "                sort_fr_idx = fr_idx[ball_inds][sort_inds]\n",
    "                unique_inds = sort_inds[np.unique(sort_fr_idx, return_index=True)[1]] \n",
    "                \n",
    "                if len(unique_inds) >= 4:\n",
    "                    \n",
    "                    ball_inds = ball_inds[unique_inds]\n",
    "                    frame_probs[fr_idx[ball_inds]] = probs[unique_inds]\n",
    "                    \n",
    "#                     frame_probs = np.clip(frame_probs,0.,np.sort(frame_probs[frame_probs.nonzero()])[1])\n",
    "#                     frame_probs = frame_probs**(1/prob_smoothing)\n",
    "#                     code_errors = np.sqrt(((norm_code - norm_features(frame_probs[None]))**2).sum(-1))\n",
    "\n",
    "#                     frame_probs = frame_probs/frame_probs.max()\n",
    "#                     code_errors = np.sqrt(((code_ref - (frame_probs[None]))**2).sum(-1))\n",
    "            \n",
    "#                     frame_probs = frame_probs**(1/prob_smoothing)\n",
    "                    code_errors = 1-vcorrcoef(code_ref, frame_probs)\n",
    "\n",
    "                    min_ind = np.argmin(code_errors)\n",
    "\n",
    "                    selected = ball_inds[np.intersect1d(fr_idx[ball_inds], code_ref[min_ind].nonzero()[0], assume_unique=True, return_indices=True)[1]]\n",
    "\n",
    "                    grouped_bool[selected] = 1\n",
    "\n",
    "                    seed_inds.append(i)\n",
    "                    code_err.append(code_errors[min_ind])\n",
    "                    code_ind.append(min_ind)\n",
    "\n",
    "    loc_df = loc_df.loc[seed_inds]\n",
    "    loc_df['code_err'] = code_err\n",
    "    loc_df['code_inds'] = code_ind\n",
    "    loc_df['gene'] = targets[code_ind]\n",
    "\n",
    "    return loc_df"
   ]
  },
  {
   "cell_type": "code",
   "execution_count": null,
   "id": "mobile-religious",
   "metadata": {},
   "outputs": [
    {
     "name": "stderr",
     "output_type": "stream",
     "text": [
      "100%|█████████████████████████████████████████████████████| 303099/303099 [01:06<00:00, 4536.17it/s]\n"
     ]
    }
   ],
   "source": [
    "res_df1 = get_codes(pred_df, group_rad=150, prob_smoothing=1)\n",
    "# res_df4 = get_codes(pred_df, group_rad=150, prob_smoothing=50)"
   ]
  },
  {
   "cell_type": "code",
   "execution_count": null,
   "id": "sufficient-irish",
   "metadata": {},
   "outputs": [
    {
     "data": {
      "image/png": "[encoded data removed]",
      "text/plain": [
       "<Figure size 720x360 with 1 Axes>"
      ]
     },
     "metadata": {
      "needs_background": "light"
     },
     "output_type": "display_data"
    }
   ],
   "source": [
    "plt.figure(figsize=(10,5))\n",
    "_ = plt.hist(res_df1['code_err'], bins=np.linspace(0,2,101))\n",
    "_ = plt.hist(res_df2['code_err'], bins=np.linspace(0,2,101), alpha=0.5)"
   ]
  },
  {
   "cell_type": "code",
   "execution_count": null,
   "id": "invalid-village",
   "metadata": {},
   "outputs": [],
   "source": [
    "x, ys = make_roc([res_df1, res_df4, bench_df])\n",
    "names = ['cdf1','cdf3','cf20','cdf50','cdf100','bench']"
   ]
  },
  {
   "cell_type": "code",
   "execution_count": null,
   "id": "conscious-blind",
   "metadata": {},
   "outputs": [
    {
     "data": {
      "text/plain": [
       "(0.0, 20000.0)"
      ]
     },
     "execution_count": null,
     "metadata": {},
     "output_type": "execute_result"
    },
    {
     "data": {
      "image/png": "[encoded data removed]",
      "text/plain": [
       "<Figure size 432x288 with 1 Axes>"
      ]
     },
     "metadata": {
      "needs_background": "light"
     },
     "output_type": "display_data"
    }
   ],
   "source": [
    "for i in range(len(ys)):\n",
    "    \n",
    "    plt.plot(x, ys[i], label=names[i])\n",
    "plt.legend()\n",
    "plt.ylim(0, 100)\n",
    "plt.xlim(0, 20000)"
   ]
  },
  {
   "cell_type": "code",
   "execution_count": null,
   "id": "known-exhibit",
   "metadata": {},
   "outputs": [
    {
     "name": "stderr",
     "output_type": "stream",
     "text": [
      "/groups/turaga/home/speisera/anaconda3/envs/decode_fish_dev/lib/python3.9/site-packages/pandas/core/indexing.py:1720: SettingWithCopyWarning: \n",
      "A value is trying to be set on a copy of a slice from a DataFrame.\n",
      "Try using .loc[row_indexer,col_indexer] = value instead\n",
      "\n",
      "See the caveats in the documentation: https://pandas.pydata.org/pandas-docs/stable/user_guide/indexing.html#returning-a-view-versus-a-copy\n",
      "  self._setitem_single_column(loc, value, pi)\n"
     ]
    },
    {
     "name": "stdout",
     "output_type": "stream",
     "text": [
      "Recall: 0.523\n",
      "Precision: 0.483\n",
      "Jaccard: 33.525\n",
      "RMSE_vol: 105.438\n",
      "Eff_3d: 15.157\n",
      "FN: 6593.0 FP: 7761.0\n",
      "Num. matches: 7239.000\n",
      "Shift: 3.32,3.19,0.13\n"
     ]
    }
   ],
   "source": [
    "bench_match = bench_df.copy()\n",
    "bench_match.loc[:,'frame_idx'] = 0\n",
    "bench_match.loc[:,'loc_idx'] = np.arange(len(bench_match))\n",
    "bench_match.loc[:,'int'] = bench_match['total_magnitude']\n",
    "bench_match.loc[:,'z'] = 50/100\n",
    "bench_match = px_to_nm(bench_match)\n",
    "\n",
    "res_df1[:15000].loc[:,'frame_idx'] = 0\n",
    "\n",
    "_,_,shift = matching(bench_match, res_df1[:15000], tolerance=250, print_res=False)\n",
    "\n",
    "bench_match = shift_df(bench_match, shift=-np.array(shift))\n",
    "\n",
    "_,_,shift = matching(bench_match, res_df1[:15000], tolerance=250, print_res=False)\n",
    "\n",
    "bench_match = shift_df(bench_match, shift=-np.array(shift))\n",
    "_,matches,shift = matching(bench_match, res_df1[:15000], tolerance=250, print_res=True)"
   ]
  },
  {
   "cell_type": "code",
   "execution_count": null,
   "id": "corresponding-treasury",
   "metadata": {},
   "outputs": [
    {
     "name": "stderr",
     "output_type": "stream",
     "text": [
      "/groups/turaga/home/speisera/anaconda3/envs/decode_fish_dev/lib/python3.9/site-packages/pandas/core/indexing.py:1720: SettingWithCopyWarning: \n",
      "A value is trying to be set on a copy of a slice from a DataFrame.\n",
      "Try using .loc[row_indexer,col_indexer] = value instead\n",
      "\n",
      "See the caveats in the documentation: https://pandas.pydata.org/pandas-docs/stable/user_guide/indexing.html#returning-a-view-versus-a-copy\n",
      "  self._setitem_single_column(loc, value, pi)\n"
     ]
    },
    {
     "name": "stdout",
     "output_type": "stream",
     "text": [
      "Recall: 0.496\n",
      "Precision: 0.457\n",
      "Jaccard: 31.216\n",
      "RMSE_vol: 106.848\n",
      "Eff_3d: 12.906\n",
      "FN: 6973.0 FP: 8141.0\n",
      "Num. matches: 6859.000\n",
      "Shift: 4.24,3.28,0.01\n"
     ]
    }
   ],
   "source": [
    "bench_match = bench_df.copy()\n",
    "bench_match.loc[:,'frame_idx'] = 0\n",
    "bench_match.loc[:,'loc_idx'] = np.arange(len(bench_match))\n",
    "bench_match.loc[:,'int'] = bench_match['total_magnitude']\n",
    "bench_match.loc[:,'z'] = 50/100\n",
    "bench_match = px_to_nm(bench_match)\n",
    "\n",
    "res_df1[:15000].loc[:,'frame_idx'] = 0\n",
    "\n",
    "_,_,shift = matching(bench_match, res_df1[:15000], tolerance=250, print_res=False)\n",
    "\n",
    "bench_match = shift_df(bench_match, shift=-np.array(shift))\n",
    "\n",
    "_,_,shift = matching(bench_match, res_df1[:15000], tolerance=250, print_res=False)\n",
    "\n",
    "bench_match = shift_df(bench_match, shift=-np.array(shift))\n",
    "_,matches,shift = matching(bench_match, res_df1[:15000], tolerance=250, print_res=True)"
   ]
  },
  {
   "cell_type": "code",
   "execution_count": null,
   "id": "express-citizenship",
   "metadata": {},
   "outputs": [],
   "source": []
  }
 ],
 "metadata": {
  "kernelspec": {
   "display_name": "Python [conda env:decode_fish_dev]",
   "language": "python",
   "name": "conda-env-decode_fish_dev-py"
  }
 },
 "nbformat": 4,
 "nbformat_minor": 5
}
