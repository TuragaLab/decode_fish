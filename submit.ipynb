{
 "cells": [
  {
   "cell_type": "code",
   "execution_count": 278,
   "metadata": {
    "ExecuteTime": {
     "end_time": "2022-01-26T10:19:12.520426Z",
     "start_time": "2022-01-26T10:19:12.504205Z"
    }
   },
   "outputs": [],
   "source": [
    "from pathlib import Path\n",
    "from decode_fish.funcs.utils import *\n",
    "import glob\n",
    "\n",
    "def make_sweep_str(pfile, pars, group, resume=False, init=None, gpu='gpu_rtx'):\n",
    "    \n",
    "    base_string = f'bsub -gpu \"num=1\" -q {gpu} -o logs/ofish.log -e logs/efish.log /groups/turaga/home/speisera/anaconda3/envs/decode_fish_dev2/bin/python /groups/turaga/home/speisera/Mackebox/Artur/WorkDB/deepstorm/decode_fish/decode_fish/train.py'   \n",
    "    \n",
    "    base_str = base_string + f' +experiment={pfile}'\n",
    "    name = ''\n",
    "    \n",
    "    for k in pars:\n",
    "        if k!= 'run_name':\n",
    "            base_str += ' ' + k + f'={pars[k]}'\n",
    "            name += k.split('.')[-1]+f':{pars[k]}x'\n",
    "            name = name.replace('[', '')\n",
    "            name = name.replace(']', '')\n",
    "            name = name.replace(',', 'x')\n",
    "    name = name[:-1]\n",
    "    \n",
    "    if 'run_name' in pars:\n",
    "        name=pars['run_name']\n",
    "    \n",
    "    if resume:\n",
    "        base_str += ' training.resume=True '\n",
    "    if init is not None:\n",
    "        base_str += f' data_path.model_init={init} '\n",
    "    \n",
    "    return base_str + f' run_name={name} output.group={group}' + '\\n'\n",
    "    \n",
    "\n",
    "def make_named_str(pfile, name, group):\n",
    "    \n",
    "    base_str = base_string + f' +experiment={pfile}'\n",
    "    \n",
    "    return base_str + f' run_name={name} output.group={group}' + '\\n'"
   ]
  },
  {
   "cell_type": "code",
   "execution_count": 179,
   "metadata": {},
   "outputs": [],
   "source": [
    "# cfg.training.mic.par_grads.channel_facs = False\n",
    "# cfg.training.mic.par_grads.channel_shifts = False\n",
    "# cfg.training.mic.par_grads.theta_par = False\n",
    "# cfg.training.mic.par_grads.psf_vol = False"
   ]
  },
  {
   "cell_type": "code",
   "execution_count": 576,
   "metadata": {
    "ExecuteTime": {
     "end_time": "2022-02-15T15:26:08.506883Z",
     "start_time": "2022-02-15T15:26:08.497880Z"
    }
   },
   "outputs": [],
   "source": [
    "group = 'sweep_sl_21'\n",
    "pfile = 'MERFISH_ci_2d_sl21'\n",
    "\n",
    "variable_col = param_iter()\n",
    "variable_col.add('training.bs', 20)\n",
    "variable_col.add('genm.exp_type.int_inf', 'per_channel')\n",
    "par_prod = variable_col.param_product()"
   ]
  },
  {
   "cell_type": "code",
   "execution_count": 300,
   "metadata": {
    "ExecuteTime": {
     "end_time": "2022-01-26T14:22:25.004273Z",
     "start_time": "2022-01-26T14:22:24.993805Z"
    }
   },
   "outputs": [],
   "source": [
    "group = 'sweep_mop_5b_psf_opt'\n",
    "pfile = 'MERFISH_mop_5b_psf'\n",
    "\n",
    "variable_col = param_iter()\n",
    "variable_col.add('training.mic.l1_reg', 0.0003)\n",
    "variable_col.add('training.mic.opt.lr', 3e-5)\n",
    "variable_col.add('training.mic.par_grads.channel_shifts', True)\n",
    "variable_col.add('training.mic.par_grads.channel_facs', True)\n",
    "par_prod = variable_col.param_product()"
   ]
  },
  {
   "cell_type": "code",
   "execution_count": 338,
   "metadata": {
    "ExecuteTime": {
     "end_time": "2022-01-28T09:17:10.080008Z",
     "start_time": "2022-01-28T09:17:10.070633Z"
    }
   },
   "outputs": [],
   "source": [
    "group = 'sweep_mop_5b'\n",
    "pfile = 'MERFISH_mop_5c'\n",
    "\n",
    "variable_col = param_iter()\n",
    "variable_col.add('genm.microscope.psf_noise', 0.15)\n",
    "# variable_col.add('genm.microscope.norm', 'sum')\n",
    "# variable_col.add('training.mic.l1_reg', 0.0003)\n",
    "variable_col.add('training.mic.par_grads.psf_vol', False)\n",
    "# variable_col.add('genm.microscope.scale', 300)\n",
    "par_prod = variable_col.param_product()"
   ]
  },
  {
   "cell_type": "code",
   "execution_count": 612,
   "metadata": {
    "ExecuteTime": {
     "end_time": "2022-02-22T15:59:19.822394Z",
     "start_time": "2022-02-22T15:59:19.814351Z"
    }
   },
   "outputs": [],
   "source": [
    "group = 'sweep_mop_9b'\n",
    "pfile = 'MERFISH_mop_9b'\n",
    "\n",
    "variable_col = param_iter()\n",
    "variable_col.add('seed',1)\n",
    "\n",
    "par_prod = variable_col.param_product()"
   ]
  },
  {
   "cell_type": "code",
   "execution_count": 660,
   "metadata": {
    "ExecuteTime": {
     "end_time": "2022-03-01T09:45:19.108686Z",
     "start_time": "2022-03-01T09:45:19.101754Z"
    }
   },
   "outputs": [],
   "source": [
    "group = 'sweep_mop_11'\n",
    "pfile = 'MERFISH_mop_11b'\n",
    "\n",
    "variable_col = param_iter()\n",
    "# variable_col.add('genm.microscope.pos_noise_xy', 0.2, 0.35, 0.5)\n",
    "variable_col.add('training.mic.enabled', False)\n",
    "# variable_col.add('training.start_mic', 3)\n",
    "par_prod = variable_col.param_product()"
   ]
  },
  {
   "cell_type": "code",
   "execution_count": 661,
   "metadata": {
    "ExecuteTime": {
     "end_time": "2022-03-01T09:45:19.241005Z",
     "start_time": "2022-03-01T09:45:19.221372Z"
    },
    "code_folding": [],
    "scrolled": false
   },
   "outputs": [
    {
     "name": "stdout",
     "output_type": "stream",
     "text": [
      "bsub -gpu \"num=1\" -q gpu_rtx -o logs/ofish.log -e logs/efish.log /groups/turaga/home/speisera/anaconda3/envs/decode_fish_dev2/bin/python /groups/turaga/home/speisera/Mackebox/Artur/WorkDB/deepstorm/decode_fish/decode_fish/train.py +experiment=MERFISH_mop_11b training.mic.enabled=False run_name=enabled:False output.group=sweep_mop_11\n",
      "\n"
     ]
    }
   ],
   "source": [
    "# Path.mkdir(model_path/group, exist_ok=True)\n",
    "\n",
    "with open('run_slurm.sh', 'w') as f:\n",
    "    for pars in par_prod:  \n",
    "        exec_str = make_sweep_str(pfile, pars, group, resume=False, gpu='gpu_rtx') #, \n",
    "        print(exec_str)\n",
    "        f.write(exec_str)"
   ]
  },
  {
   "cell_type": "code",
   "execution_count": 78,
   "metadata": {
    "ExecuteTime": {
     "end_time": "2021-09-25T08:47:53.255692Z",
     "start_time": "2021-09-25T08:47:53.252194Z"
    }
   },
   "outputs": [],
   "source": [
    "# sweep = 'sweep_sl_8'\n",
    "\n",
    "# dirs = glob.glob(f'/groups/turaga/home/speisera/Mackebox/Artur/WorkDB/deepstorm/models/fishcod/MERFISH_starfish/{sweep}/*')\n",
    "# with open('run_slurm.sh', 'w') as f:\n",
    "#     for d in dirs:\n",
    "#         name = d.split('/')[-1]\n",
    "#         exec_str = f'bsub -gpu \"num=1\" -q gpu_any -o logs/ofish.log -e logs/efish.log /groups/turaga/home/speisera/anaconda3/envs/decode_fish_dev/bin/python /groups/turaga/home/speisera/Mackebox/Artur/WorkDB/deepstorm/decode_fish/decode_fish/merfish_eval.py run_name={name} sweep_name={sweep}'  + '\\n'\n",
    "#         print(exec_str)\n",
    "#         f.write(exec_str)"
   ]
  },
  {
   "cell_type": "code",
   "execution_count": 120,
   "metadata": {
    "ExecuteTime": {
     "end_time": "2021-08-24T16:00:47.042928Z",
     "start_time": "2021-08-24T16:00:47.034161Z"
    }
   },
   "outputs": [],
   "source": [
    "group = 'sep_models_ch0_3'\n",
    "pfile = 'CL_dlg1_ch0_f1'\n",
    "\n",
    "variable_col = param_iter()\n",
    "variable_col.add('data_path.image_path', \n",
    "                 '/groups/turaga/home/speisera/Mackebox/Artur/WorkDB/deepstorm/datasets/CodFish/raw_data_for_codetection/*p1*.tiff',\n",
    "                 '/groups/turaga/home/speisera/Mackebox/Artur/WorkDB/deepstorm/datasets/CodFish/raw_data_for_codetection/*p2*.tiff',\n",
    "                 '/groups/turaga/home/speisera/Mackebox/Artur/WorkDB/deepstorm/datasets/CodFish/raw_data_for_codetection/*p3*.tiff')\n",
    "\n",
    "par_prod = variable_col.param_product()"
   ]
  },
  {
   "cell_type": "code",
   "execution_count": 40,
   "metadata": {
    "ExecuteTime": {
     "end_time": "2021-06-24T15:56:12.376608Z",
     "start_time": "2021-06-24T15:56:12.368608Z"
    }
   },
   "outputs": [],
   "source": [
    "group = 'sweep_fig9'\n",
    "pfile = 'fig_sim_m9'\n",
    "\n",
    "variable_col = param_iter()\n",
    "variable_col.add('training.mic.enabled', True, False)\n",
    "variable_col.add('training.int.enabled', True, False)\n",
    "\n",
    "par_prod = variable_col.param_product()"
   ]
  },
  {
   "cell_type": "code",
   "execution_count": 93,
   "metadata": {
    "ExecuteTime": {
     "end_time": "2021-06-26T21:14:41.708086Z",
     "start_time": "2021-06-26T21:14:41.701413Z"
    }
   },
   "outputs": [],
   "source": [
    "group = 'sweep_psf2'\n",
    "pfile = 'N2_352_f1'\n",
    "\n",
    "variable_col = param_iter()\n",
    "variable_col.add('microscope.psf_noise', 0.1, 0.2)\n",
    "variable_col.add('microscope.double_random', True, False)\n",
    "variable_col.add('model.f_maps', 32, 42)\n",
    "\n",
    "par_prod = variable_col.param_product()"
   ]
  },
  {
   "cell_type": "code",
   "execution_count": 36,
   "metadata": {
    "ExecuteTime": {
     "end_time": "2021-06-24T15:25:38.792723Z",
     "start_time": "2021-06-24T15:25:38.783971Z"
    }
   },
   "outputs": [],
   "source": [
    "from decode_fish.imports import *"
   ]
  },
  {
   "cell_type": "markdown",
   "metadata": {},
   "source": [
    "psfn_3: psf_noise = 0.5\n",
    "psfn_4: psf_noise = 0.75\n",
    "psfn_5: psf_noise = 1.\n",
    "psfn_6: psf_noise = 1. double random\n",
    "psfn_7: psf_noise = 2. double random\n",
    "psfn_8: psf_noise = 3. double random"
   ]
  },
  {
   "cell_type": "code",
   "execution_count": 88,
   "metadata": {
    "ExecuteTime": {
     "end_time": "2021-06-26T16:22:55.115382Z",
     "start_time": "2021-06-26T16:22:55.059563Z"
    }
   },
   "outputs": [
    {
     "name": "stdout",
     "output_type": "stream",
     "text": [
      "bsub -gpu \"num=1\" -q gpu_any -o logs/ofish.log -e logs/efish.log /groups/turaga/home/speisera/anaconda3/envs/decode2_dev/bin/python /groups/turaga/home/speisera/Mackebox/Artur/WorkDB/deepstorm/decode_fish/decode_fish/train.py +experiment=CL_dlg1_ch1_f1  run_name=CL_dlg1_ch1_f1_psfn_5 noise.theta=75.0 microscope.psf_noise=0.1\n",
      "\n"
     ]
    }
   ],
   "source": [
    "exps = ['msp300', 'N2_352', 'rab11', 'scrib', 'sgg', 'Dlg1', 'CL_dlg1_ch0', 'CL_dlg1_ch1']\n",
    "exps = ['CL_dlg1_ch1']\n",
    "ver = 'f1'\n",
    "name = 'f1_psfn_5'\n",
    "\n",
    "with open('run_slurm.sh', 'w') as f:\n",
    "    for exp in exps:  \n",
    "        cfg = OmegaConf.load(f'config/experiment/{exp}_{ver}.yaml')\n",
    "#         exec_str = base_string + f' +experiment={exp}_{ver}  run_name={exp}_{name}' + '\\n'\n",
    "        exec_str = base_string + f' +experiment={exp}_{ver}  run_name={exp}_{name} noise.theta={cfg.noise.theta*1.5} microscope.psf_noise=0.1' + '\\n'\n",
    "        print(exec_str)\n",
    "        f.write(exec_str)"
   ]
  },
  {
   "cell_type": "code",
   "execution_count": null,
   "metadata": {},
   "outputs": [],
   "source": [
    "# bsub -gpu \"num=1\" -q gpu_any -o logs/ofish.log -e logs/efish.log /groups/turaga/home/speisera/anaconda3/envs/decode2_dev/bin/python /groups/turaga/home/speisera/Mackebox/Artur/WorkDB/deepstorm/decode_fish/decode_fish/sim_eval.py sweep_name=fig7"
   ]
  },
  {
   "cell_type": "code",
   "execution_count": null,
   "metadata": {},
   "outputs": [],
   "source": [
    "exps = ['msp300', 'N2_352', 'rab11', 'scrib', 'sgg', 'Dlg1']\n",
    "# exps = [ 'scrib', 'Dlg1']\n",
    "ver = 'f1'\n",
    "name = 'f1_none'"
   ]
  },
  {
   "cell_type": "code",
   "execution_count": 314,
   "metadata": {
    "ExecuteTime": {
     "end_time": "2021-08-31T20:11:37.037761Z",
     "start_time": "2021-08-31T20:11:37.021202Z"
    }
   },
   "outputs": [],
   "source": [
    "import numpy as np\n",
    "zoe_ps = np.array([81,88,85,79,65,69,67,70,63,80,80,74,69,85,71,80,70,81,80,79,89,84,87,79,80,90,80,78,81,83,76,100,85,95,87,91,76,73,95,88,79,67,90,89,82,87,88,76,81,87,85,78,83,84,84,76,75,88,81,79,87,91,83,91,75,86,80,95,72,73,76,81,82,89,81,86,72])"
   ]
  },
  {
   "cell_type": "code",
   "execution_count": 319,
   "metadata": {
    "ExecuteTime": {
     "end_time": "2021-08-31T20:12:05.911358Z",
     "start_time": "2021-08-31T20:12:05.900967Z"
    }
   },
   "outputs": [
    {
     "data": {
      "text/plain": [
       "array([ 81,  88,  85,  79,  65,  69,  67,  70,  63,  80,  80,  74,  69,\n",
       "        85,  71,  80,  70,  81,  80,  79,  89,  84,  87,  79,  80,  90,\n",
       "        80,  78,  81,  83,  76, 100,  85,  95,  87,  91,  76,  73,  95,\n",
       "        88,  79,  67,  90,  89,  82,  87,  88,  76,  81,  87,  85,  78,\n",
       "        83,  84,  84,  76,  75,  88,  81,  79,  87,  91,  83,  91,  75,\n",
       "        86,  80,  95,  72,  73,  76,  81,  82,  89,  81])"
      ]
     },
     "execution_count": 319,
     "metadata": {},
     "output_type": "execute_result"
    }
   ],
   "source": [
    "zoe_ps"
   ]
  },
  {
   "cell_type": "code",
   "execution_count": null,
   "metadata": {},
   "outputs": [],
   "source": []
  }
 ],
 "metadata": {
  "kernelspec": {
   "display_name": "Python [conda env:decode2_dev]",
   "language": "python",
   "name": "conda-env-decode2_dev-py"
  },
  "language_info": {
   "codemirror_mode": {
    "name": "ipython",
    "version": 3
   },
   "file_extension": ".py",
   "mimetype": "text/x-python",
   "name": "python",
   "nbconvert_exporter": "python",
   "pygments_lexer": "ipython3",
   "version": "3.7.7"
  }
 },
 "nbformat": 4,
 "nbformat_minor": 4
}
