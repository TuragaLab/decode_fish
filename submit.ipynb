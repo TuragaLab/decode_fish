{
 "cells": [
  {
   "cell_type": "code",
   "execution_count": 301,
   "metadata": {
    "ExecuteTime": {
     "end_time": "2022-06-14T18:33:39.572821Z",
     "start_time": "2022-06-14T18:33:39.558867Z"
    }
   },
   "outputs": [],
   "source": [
    "from pathlib import Path\n",
    "from decode_fish.funcs.utils import *\n",
    "import glob\n",
    "\n",
    "def make_sweep_str(pfile, pars, group, resume=False, init=None, gpu='gpu_rtx', runfile='train.py', n=1):\n",
    "    \n",
    "    base_str = f'bsub -gpu \"num=1\" -n {n} -q {gpu} -o logs/ofish.log -e logs/efish.log /groups/turaga/home/speisera/anaconda3/envs/decode_fish_dev2/bin/python /groups/turaga/home/speisera/Mackebox/Artur/WorkDB/deepstorm/decode_fish/decode_fish/{runfile}'   \n",
    "    \n",
    "    if pfile is not None:\n",
    "        base_str = base_str + f' +experiment={pfile}'\n",
    "    name = ''\n",
    "    \n",
    "    for k in pars:\n",
    "        if k!= 'run_name':\n",
    "            base_str += ' ' + k + f'={pars[k]}'\n",
    "            name += k.split('.')[-1]+f':{pars[k]}x'\n",
    "            name = name.replace('[', '')\n",
    "            name = name.replace(']', '')\n",
    "            name = name.replace(',', 'x')\n",
    "    name = name[:-1]\n",
    "    \n",
    "    if 'run_name' in pars:\n",
    "        name=pars['run_name']\n",
    "    \n",
    "    if resume:\n",
    "        base_str += ' training.resume=True '\n",
    "    if init is not None:\n",
    "        base_str += f' data_path.model_init={init} '\n",
    "    \n",
    "    return base_str + f' run_name={name} output.group={group}' + '\\n'\n",
    "    \n",
    "\n",
    "def make_named_str(pfile, name, group):\n",
    "    \n",
    "    base_str = base_str + f' +experiment={pfile}'\n",
    "    \n",
    "    return base_str + f' run_name={name} output.group={group}' + '\\n'"
   ]
  },
  {
   "cell_type": "code",
   "execution_count": 68,
   "metadata": {
    "ExecuteTime": {
     "end_time": "2022-05-26T10:56:37.226038Z",
     "start_time": "2022-05-26T10:56:37.220559Z"
    }
   },
   "outputs": [],
   "source": [
    "group = 'sim_int_2'\n",
    "pfile = 'sim_int_2'\n",
    "\n",
    "variable_col = param_iter()\n",
    "variable_col.add('training.mic.par_grads.channel_facs', False)\n",
    "# variable_col.add('training.mic.par_grads.channel_shifts', False)\n",
    "# variable_col.add('training.mic.par_grads.psf_vol', False)\n",
    "par_prod = variable_col.param_product()"
   ]
  },
  {
   "cell_type": "code",
   "execution_count": 433,
   "metadata": {
    "ExecuteTime": {
     "end_time": "2022-06-23T08:54:06.192399Z",
     "start_time": "2022-06-23T08:54:06.185321Z"
    }
   },
   "outputs": [],
   "source": [
    "group = 'sweep_mop_36'\n",
    "pfile = 'MERFISH_mop_36'\n",
    "\n",
    "variable_col = param_iter()\n",
    "# variable_col.add('training.mic.par_grads.z_facs', False)\n",
    "variable_col.add('data_path.image_path','/groups/turaga/home/speisera/Mackebox/Artur/WorkDB/deepstorm//datasets/CodFish/MERFISH/MOp/mouse1_sample1_raw/aligned_scaled4_images47.tif', \n",
    "                                        '/groups/turaga/home/speisera/Mackebox/Artur/WorkDB/deepstorm//datasets/CodFish/MERFISH/MOp/mouse1_sample1_raw/aligned_scaled4_images150.tif',\n",
    "                                        '/groups/turaga/home/speisera/Mackebox/Artur/WorkDB/deepstorm//datasets/CodFish/MERFISH/MOp/mouse1_sample1_raw/aligned_scaled4_images151.tif')\n",
    "par_prod = variable_col.param_product()"
   ]
  },
  {
   "cell_type": "code",
   "execution_count": 435,
   "metadata": {
    "ExecuteTime": {
     "end_time": "2022-06-23T08:56:43.050146Z",
     "start_time": "2022-06-23T08:56:43.045418Z"
    },
    "code_folding": [],
    "scrolled": true
   },
   "outputs": [],
   "source": [
    "# # Path.mkdir(model_path/group, exist_ok=True)\n",
    "\n",
    "# with open('run_slurm.sh', 'w') as f:\n",
    "#     for pars in par_prod:  \n",
    "#         exec_str = make_sweep_str(pfile, pars, group, resume=False, gpu='gpu_rtx') #, \n",
    "#         print(exec_str)\n",
    "#         f.write(exec_str)"
   ]
  },
  {
   "cell_type": "code",
   "execution_count": 444,
   "metadata": {
    "ExecuteTime": {
     "end_time": "2022-06-23T09:05:46.842491Z",
     "start_time": "2022-06-23T09:05:46.829191Z"
    }
   },
   "outputs": [
    {
     "name": "stdout",
     "output_type": "stream",
     "text": [
      "bsub -gpu \"num=1\" -n 1 -q gpu_rtx -o logs/ofish.log -e logs/efish.log /groups/turaga/home/speisera/anaconda3/envs/decode_fish_dev2/bin/python /groups/turaga/home/speisera/Mackebox/Artur/WorkDB/deepstorm/decode_fish/decode_fish/train.py +experiment=MERFISH_mop_36 training.mic.par_grads.z_facs=True run_name=z_facs:True output.group=sweep_mop_36\n",
      "\n",
      "bsub -gpu \"num=1\" -n 1 -q gpu_rtx -o logs/ofish.log -e logs/efish.log /groups/turaga/home/speisera/anaconda3/envs/decode_fish_dev2/bin/python /groups/turaga/home/speisera/Mackebox/Artur/WorkDB/deepstorm/decode_fish/decode_fish/train.py +experiment=MERFISH_mop_36 training.mic.par_grads.psf_vol=False run_name=psf_vol:False output.group=sweep_mop_36\n",
      "\n",
      "bsub -gpu \"num=1\" -n 1 -q gpu_rtx -o logs/ofish.log -e logs/efish.log /groups/turaga/home/speisera/anaconda3/envs/decode_fish_dev2/bin/python /groups/turaga/home/speisera/Mackebox/Artur/WorkDB/deepstorm/decode_fish/decode_fish/train.py +experiment=MERFISH_mop_36 training.mic.par_grads.channel_shifts=False run_name=channel_shifts:False output.group=sweep_mop_36\n",
      "\n",
      "bsub -gpu \"num=1\" -n 1 -q gpu_rtx -o logs/ofish.log -e logs/efish.log /groups/turaga/home/speisera/anaconda3/envs/decode_fish_dev2/bin/python /groups/turaga/home/speisera/Mackebox/Artur/WorkDB/deepstorm/decode_fish/decode_fish/train.py +experiment=MERFISH_mop_36 training.mic.par_grads.color_shifts=False run_name=color_shifts:False output.group=sweep_mop_36\n",
      "\n",
      "bsub -gpu \"num=1\" -n 1 -q gpu_rtx -o logs/ofish.log -e logs/efish.log /groups/turaga/home/speisera/anaconda3/envs/decode_fish_dev2/bin/python /groups/turaga/home/speisera/Mackebox/Artur/WorkDB/deepstorm/decode_fish/decode_fish/train.py +experiment=MERFISH_mop_36 training.schedule=Null run_name=schedule:Null output.group=sweep_mop_36\n",
      "\n",
      "bsub -gpu \"num=1\" -n 1 -q gpu_rtx -o logs/ofish.log -e logs/efish.log /groups/turaga/home/speisera/anaconda3/envs/decode_fish_dev2/bin/python /groups/turaga/home/speisera/Mackebox/Artur/WorkDB/deepstorm/decode_fish/decode_fish/train.py +experiment=MERFISH_mop_36 genm.foci.n_foci_avg=1 run_name=n_foci_avg:1 output.group=sweep_mop_36\n",
      "\n"
     ]
    }
   ],
   "source": [
    "group = 'sweep_mop_36'\n",
    "pfile = 'MERFISH_mop_36'\n",
    "exp_list = []\n",
    "exp_list.append(['training.mic.par_grads.z_facs', True])\n",
    "exp_list.append(['training.mic.par_grads.psf_vol', False])\n",
    "exp_list.append(['training.mic.par_grads.channel_shifts', False])\n",
    "exp_list.append(['training.mic.par_grads.color_shifts', False])\n",
    "exp_list.append(['training.schedule', 'Null'])\n",
    "exp_list.append(['genm.foci.n_foci_avg', 1])\n",
    "\n",
    "for exp in exp_list:\n",
    "    variable_col = param_iter()\n",
    "    variable_col.add(exp[0], exp[1])\n",
    "    par_prod = variable_col.param_product()\n",
    "    exec_str = make_sweep_str(pfile, par_prod[0], group, resume=False, gpu='gpu_rtx')\n",
    "    print(exec_str)"
   ]
  },
  {
   "cell_type": "code",
   "execution_count": 446,
   "metadata": {
    "ExecuteTime": {
     "end_time": "2022-06-23T09:06:12.599690Z",
     "start_time": "2022-06-23T09:06:12.587912Z"
    }
   },
   "outputs": [
    {
     "name": "stdout",
     "output_type": "stream",
     "text": [
      "bsub -gpu \"num=1\" -n 1 -q gpu_rtx -o logs/ofish.log -e logs/efish.log /groups/turaga/home/speisera/anaconda3/envs/decode_fish_dev2/bin/python /groups/turaga/home/speisera/Mackebox/Artur/WorkDB/deepstorm/decode_fish/decode_fish/train.py +experiment=MERFISH_sweep_gen_12 seed=0 run_name=seed:0 output.group=MERFISH_sweep_gen_12\n",
      "\n",
      "bsub -gpu \"num=1\" -n 1 -q gpu_rtx -o logs/ofish.log -e logs/efish.log /groups/turaga/home/speisera/anaconda3/envs/decode_fish_dev2/bin/python /groups/turaga/home/speisera/Mackebox/Artur/WorkDB/deepstorm/decode_fish/decode_fish/train.py +experiment=MERFISH_sweep_gen_12 training.mic.par_grads.z_facs=True run_name=z_facs:True output.group=MERFISH_sweep_gen_12\n",
      "\n",
      "bsub -gpu \"num=1\" -n 1 -q gpu_rtx -o logs/ofish.log -e logs/efish.log /groups/turaga/home/speisera/anaconda3/envs/decode_fish_dev2/bin/python /groups/turaga/home/speisera/Mackebox/Artur/WorkDB/deepstorm/decode_fish/decode_fish/train.py +experiment=MERFISH_sweep_gen_12 training.mic.par_grads.psf_vol=False run_name=psf_vol:False output.group=MERFISH_sweep_gen_12\n",
      "\n",
      "bsub -gpu \"num=1\" -n 1 -q gpu_rtx -o logs/ofish.log -e logs/efish.log /groups/turaga/home/speisera/anaconda3/envs/decode_fish_dev2/bin/python /groups/turaga/home/speisera/Mackebox/Artur/WorkDB/deepstorm/decode_fish/decode_fish/train.py +experiment=MERFISH_sweep_gen_12 training.mic.par_grads.channel_shifts=False run_name=channel_shifts:False output.group=MERFISH_sweep_gen_12\n",
      "\n",
      "bsub -gpu \"num=1\" -n 1 -q gpu_rtx -o logs/ofish.log -e logs/efish.log /groups/turaga/home/speisera/anaconda3/envs/decode_fish_dev2/bin/python /groups/turaga/home/speisera/Mackebox/Artur/WorkDB/deepstorm/decode_fish/decode_fish/train.py +experiment=MERFISH_sweep_gen_12 training.mic.par_grads.color_shifts=False run_name=color_shifts:False output.group=MERFISH_sweep_gen_12\n",
      "\n",
      "bsub -gpu \"num=1\" -n 1 -q gpu_rtx -o logs/ofish.log -e logs/efish.log /groups/turaga/home/speisera/anaconda3/envs/decode_fish_dev2/bin/python /groups/turaga/home/speisera/Mackebox/Artur/WorkDB/deepstorm/decode_fish/decode_fish/train.py +experiment=MERFISH_sweep_gen_12 training.schedule=Null run_name=schedule:Null output.group=MERFISH_sweep_gen_12\n",
      "\n",
      "bsub -gpu \"num=1\" -n 1 -q gpu_rtx -o logs/ofish.log -e logs/efish.log /groups/turaga/home/speisera/anaconda3/envs/decode_fish_dev2/bin/python /groups/turaga/home/speisera/Mackebox/Artur/WorkDB/deepstorm/decode_fish/decode_fish/train.py +experiment=MERFISH_sweep_gen_12 genm.foci.n_foci_avg=1 run_name=n_foci_avg:1 output.group=MERFISH_sweep_gen_12\n",
      "\n"
     ]
    }
   ],
   "source": [
    "group = 'MERFISH_sweep_gen_12'\n",
    "pfile = 'MERFISH_sweep_gen_12'\n",
    "exp_list = []\n",
    "exp_list.append(['seed', 0])\n",
    "exp_list.append(['training.mic.par_grads.z_facs', True])\n",
    "exp_list.append(['training.mic.par_grads.psf_vol', False])\n",
    "exp_list.append(['training.mic.par_grads.channel_shifts', False])\n",
    "exp_list.append(['training.mic.par_grads.color_shifts', False])\n",
    "exp_list.append(['training.schedule', 'Null'])\n",
    "exp_list.append(['genm.foci.n_foci_avg', 1])\n",
    "\n",
    "for exp in exp_list:\n",
    "    variable_col = param_iter()\n",
    "    variable_col.add(exp[0], exp[1])\n",
    "    par_prod = variable_col.param_product()\n",
    "    exec_str = make_sweep_str(pfile, par_prod[0], group, resume=False, gpu='gpu_rtx')\n",
    "    print(exec_str)"
   ]
  },
  {
   "cell_type": "code",
   "execution_count": 290,
   "metadata": {
    "ExecuteTime": {
     "end_time": "2022-06-14T06:50:26.527599Z",
     "start_time": "2022-06-14T06:50:26.520683Z"
    }
   },
   "outputs": [],
   "source": [
    "group = 'MERFISH_sweep_gen_9'\n",
    "pfile = 'MERFISH_sweep_gen_9'\n",
    "\n",
    "variable_col = param_iter()\n",
    "variable_col.add('training.mic.par_grads.z_facs', False)\n",
    "variable_col.add('genm.microscope.norm', 'none')\n",
    "# variable_col.add('training.mic.ch_facs_as_theta', True)\n",
    "# variable_col.add('data_path.model_init', '/groups/turaga/home/speisera/Mackebox/Artur/WorkDB/deepstorm/models/fishcod/MERFISH_starfish/MERFISH_sweep_gen_7/seed:0xphasing:0.1//checkpoint/')\n",
    "\n",
    "par_prod = variable_col.param_zip()"
   ]
  },
  {
   "cell_type": "code",
   "execution_count": 291,
   "metadata": {
    "ExecuteTime": {
     "end_time": "2022-06-14T06:50:26.672621Z",
     "start_time": "2022-06-14T06:50:26.661351Z"
    }
   },
   "outputs": [
    {
     "name": "stdout",
     "output_type": "stream",
     "text": [
      "bsub -gpu \"num=1\" -n 1 -q gpu_rtx -o logs/ofish.log -e logs/efish.log /groups/turaga/home/speisera/anaconda3/envs/decode_fish_dev2/bin/python /groups/turaga/home/speisera/Mackebox/Artur/WorkDB/deepstorm/decode_fish/decode_fish/train.py +experiment=MERFISH_sweep_gen_9 training.mic.par_grads.z_facs=False genm.microscope.norm=none run_name=z_facs:Falsexnorm:none output.group=MERFISH_sweep_gen_9\n",
      "\n"
     ]
    }
   ],
   "source": [
    "# Path.mkdir(model_path/group, exist_ok=True)\n",
    "\n",
    "with open('run_slurm.sh', 'w') as f:\n",
    "    for pars in par_prod:  \n",
    "        exec_str = make_sweep_str(pfile, pars, group, resume=False, gpu='gpu_rtx') #, \n",
    "        print(exec_str)\n",
    "        f.write(exec_str)"
   ]
  },
  {
   "cell_type": "code",
   "execution_count": 264,
   "metadata": {
    "ExecuteTime": {
     "end_time": "2022-06-11T17:29:39.173417Z",
     "start_time": "2022-06-11T17:29:39.164324Z"
    }
   },
   "outputs": [
    {
     "ename": "SyntaxError",
     "evalue": "invalid syntax (3707715445.py, line 1)",
     "output_type": "error",
     "traceback": [
      "\u001b[0;36m  Input \u001b[0;32mIn [264]\u001b[0;36m\u001b[0m\n\u001b[0;31m    bsub -gpu \"num=1\" -n 1 -q gpu_rtx -o logs/ofish.log -e logs/efish.log /groups/turaga/home/speisera/anaconda3/envs/decode_fish_dev2/bin/python /groups/turaga/home/speisera/Mackebox/Artur/WorkDB/deepstorm/decode_fish/decode_fish/train.py +experiment=MERFISH_sweep_gen_7 seed=0 genm.phasing=0.1 data_path.model_init=/groups/turaga/home/speisera/Mackebox/Artur/WorkDB/deepstorm/models/fishcod/MERFISH_starfish/MERFISH_sweep_gen_7/seed:0xphasing:0.1//checkpoint/ run_name=seed:0xphasing:0.1 training.resume=True output.group=MERFISH_sweep_gen_7\u001b[0m\n\u001b[0m              ^\u001b[0m\n\u001b[0;31mSyntaxError\u001b[0m\u001b[0;31m:\u001b[0m invalid syntax\n"
     ]
    }
   ],
   "source": [
    "bsub -gpu \"num=1\" -n 1 -q gpu_rtx -o logs/ofish.log -e logs/efish.log /groups/turaga/home/speisera/anaconda3/envs/decode_fish_dev2/bin/python /groups/turaga/home/speisera/Mackebox/Artur/WorkDB/deepstorm/decode_fish/decode_fish/train.py +experiment=MERFISH_sweep_gen_7 seed=0 genm.phasing=0.1 data_path.model_init=/groups/turaga/home/speisera/Mackebox/Artur/WorkDB/deepstorm/models/fishcod/MERFISH_starfish/MERFISH_sweep_gen_7/seed:0xphasing:0.1//checkpoint/ run_name=seed:0xphasing:0.1 training.resume=True output.group=MERFISH_sweep_gen_7"
   ]
  },
  {
   "cell_type": "code",
   "execution_count": 431,
   "metadata": {
    "ExecuteTime": {
     "end_time": "2022-06-22T18:52:14.879039Z",
     "start_time": "2022-06-22T18:52:14.872277Z"
    }
   },
   "outputs": [],
   "source": [
    "group = 'mettrain_sweep_mop_35'\n",
    "\n",
    "variable_col = param_iter()\n",
    "variable_col.add('rate_fac', 4.)\n",
    "variable_col.add('genm.pos_noise.pos_noise_xy', 0.15)\n",
    "variable_col.add('genm.pos_noise.pos_noise_z', 0.03)\n",
    "variable_col.add('pos_weight', 3., 7.)\n",
    "par_prod = variable_col.param_product()"
   ]
  },
  {
   "cell_type": "code",
   "execution_count": 432,
   "metadata": {
    "ExecuteTime": {
     "end_time": "2022-06-22T18:52:15.025520Z",
     "start_time": "2022-06-22T18:52:15.016578Z"
    }
   },
   "outputs": [
    {
     "name": "stdout",
     "output_type": "stream",
     "text": [
      "bsub -gpu \"num=1\" -n 1 -q gpu_rtx -o logs/ofish.log -e logs/efish.log /groups/turaga/home/speisera/anaconda3/envs/decode_fish_dev2/bin/python /groups/turaga/home/speisera/Mackebox/Artur/WorkDB/deepstorm/decode_fish/decode_fish/metricnettrain.py rate_fac=4.0 genm.pos_noise.pos_noise_xy=0.15 genm.pos_noise.pos_noise_z=0.03 pos_weight=3.0 run_name=rate_fac:4.0xpos_noise_xy:0.15xpos_noise_z:0.03xpos_weight:3.0 output.group=mettrain_sweep_mop_35\n",
      "\n",
      "bsub -gpu \"num=1\" -n 1 -q gpu_rtx -o logs/ofish.log -e logs/efish.log /groups/turaga/home/speisera/anaconda3/envs/decode_fish_dev2/bin/python /groups/turaga/home/speisera/Mackebox/Artur/WorkDB/deepstorm/decode_fish/decode_fish/metricnettrain.py rate_fac=4.0 genm.pos_noise.pos_noise_xy=0.15 genm.pos_noise.pos_noise_z=0.03 pos_weight=7.0 run_name=rate_fac:4.0xpos_noise_xy:0.15xpos_noise_z:0.03xpos_weight:7.0 output.group=mettrain_sweep_mop_35\n",
      "\n"
     ]
    }
   ],
   "source": [
    "with open('run_slurm.sh', 'w') as f:\n",
    "    for pars in par_prod:  \n",
    "        exec_str = make_sweep_str(None, pars, group, resume=False, gpu='gpu_rtx', runfile='metricnettrain.py') #, \n",
    "        print(exec_str)\n",
    "        f.write(exec_str)"
   ]
  },
  {
   "cell_type": "code",
   "execution_count": null,
   "metadata": {},
   "outputs": [],
   "source": []
  }
 ],
 "metadata": {
  "kernelspec": {
   "display_name": "decode_fish_dev2",
   "language": "python",
   "name": "decode_fish_dev2"
  },
  "language_info": {
   "codemirror_mode": {
    "name": "ipython",
    "version": 3
   },
   "file_extension": ".py",
   "mimetype": "text/x-python",
   "name": "python",
   "nbconvert_exporter": "python",
   "pygments_lexer": "ipython3",
   "version": "3.8.13"
  }
 },
 "nbformat": 4,
 "nbformat_minor": 4
}
