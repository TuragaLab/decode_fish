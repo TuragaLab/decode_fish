{
 "cells": [
  {
   "cell_type": "code",
   "execution_count": null,
   "id": "otherwise-vaccine",
   "metadata": {},
   "outputs": [],
   "source": [
    "# default_exp funcs.merfish_comparison"
   ]
  },
  {
   "cell_type": "code",
   "execution_count": null,
   "id": "designing-tournament",
   "metadata": {},
   "outputs": [],
   "source": [
    "%load_ext autoreload\n",
    "%autoreload 2"
   ]
  },
  {
   "cell_type": "code",
   "execution_count": null,
   "id": "radio-criminal",
   "metadata": {},
   "outputs": [
    {
     "name": "stderr",
     "output_type": "stream",
     "text": [
      "2021-10-01 03:24:36.308642: I tensorflow/stream_executor/platform/default/dso_loader.cc:49] Successfully opened dynamic library libcudart.so.10.1\n"
     ]
    }
   ],
   "source": [
    "# export\n",
    "from decode_fish.imports import *\n",
    "\n",
    "# os.environ[\"CUDA_VISIBLE_DEVICES\"] = '1'\n",
    "\n",
    "from decode_fish.funcs.file_io import *\n",
    "from decode_fish.funcs.emitter_io import *\n",
    "from decode_fish.funcs.utils import *\n",
    "from decode_fish.funcs.dataset import *\n",
    "from decode_fish.funcs.plotting import *\n",
    "from decode_fish.engine.noise import estimate_noise_scale\n",
    "import shutil\n",
    "from decode_fish.funcs.visualization import *\n",
    "from decode_fish.funcs.predict import predict\n",
    "import torch.nn as nn\n",
    "import torch.nn.functional as F\n",
    "import torch.tensor as T\n",
    "from decode_fish.funcs.predict import *\n",
    "\n",
    "from omegaconf import open_dict\n",
    "from hydra import compose, initialize\n",
    "from decode_fish.funcs.merfish_eval import *\n",
    "\n",
    "sys.path.append('/groups/turaga/home/speisera/Mackebox/Artur/WorkDB/deepstorm/FQ/istdeco/')\n",
    "\n",
    "from istdeco import ISTDeco\n",
    "from utils import random_codebook, random_image_stack\n",
    "from codebook import Codebook\n",
    "from starfish.image import Filter\n",
    "\n",
    "sys.path.append('/groups/turaga/home/speisera/Mackebox/Artur/WorkDB/deepstorm/FQ/bardensr/')\n",
    "import bardensr\n",
    "\n",
    "import optuna\n",
    "optuna.logging.set_verbosity(optuna.logging.INFO)"
   ]
  },
  {
   "cell_type": "code",
   "execution_count": null,
   "id": "naughty-england",
   "metadata": {},
   "outputs": [],
   "source": [
    "# cfg = OmegaConf.load(f'/groups/turaga/home/speisera/Mackebox/Artur/WorkDB/deepstorm/models/fishcod/MERFISH_starfish/sweep_ci_13/start_mic:5000xpsf_noise:0.4/train.yaml')\n",
    "cfg = OmegaConf.load(f'/groups/turaga/home/speisera/Mackebox/Artur/WorkDB/deepstorm/models/fishcod/MERFISH_starfish/sweep_sl_9a/old_new_format/train.yaml')\n",
    "cfg = OmegaConf.load(f'/groups/turaga/home/speisera/Mackebox/Artur/WorkDB/deepstorm/models/fishcod/MERFISH_starfish/sweep_sl_11/seed:1xint_fac:0.1/train.yaml')\n",
    "cfg = OmegaConf.load(f'/groups/turaga/home/speisera/Mackebox/Artur/WorkDB/deepstorm/models/fishcod/MERFISH_starfish/sweep_sim_1/old_loss:Truexmin_int_sig:1.0/train.yaml')\n",
    "cfg = OmegaConf.load(f'/groups/turaga/home/speisera/Mackebox/Artur/WorkDB/deepstorm/models/fishcod/MERFISH_starfish/sweep_sim_1/old_loss:False/train.yaml')\n",
    "# csv_name = 'test'\n",
    "# cfg.foci.n_foci_avg = 0"
   ]
  },
  {
   "cell_type": "code",
   "execution_count": null,
   "id": "indian-victory",
   "metadata": {},
   "outputs": [],
   "source": [
    "# cfg.exp_type.pred_z=False\n",
    "# cfg.PSF.psf_extent_zyx=[1,21,21]\n",
    "# cfg.run_name = 'test'"
   ]
  },
  {
   "cell_type": "code",
   "execution_count": null,
   "id": "manufactured-youth",
   "metadata": {},
   "outputs": [
    {
     "name": "stdout",
     "output_type": "stream",
     "text": [
      "13832\n"
     ]
    }
   ],
   "source": [
    "from decode_fish.funcs.merfish_eval import *\n",
    "bench_df, code_ref, targets = get_benchmark()\n",
    "code_inds = np.stack([np.nonzero(c)[0] for c in code_ref])"
   ]
  },
  {
   "cell_type": "code",
   "execution_count": null,
   "id": "premium-founder",
   "metadata": {},
   "outputs": [],
   "source": [
    "# cfg = OmegaConf.load(f'/groups/turaga/home/speisera/Mackebox/Artur/WorkDB/deepstorm/models/fishcod/MERFISH_starfish/sweep_sim_2/test1/train.yaml')\n",
    "# cfg = OmegaConf.load(f'/groups/turaga/home/speisera/Mackebox/Artur/WorkDB/deepstorm/models/fishcod/MERFISH_starfish/sweep_sim_1b/old_loss:Falsexpsf_noise:0.0xint_fac:0.0/train.yaml')\n",
    "cfg = OmegaConf.load(f'/groups/turaga/home/speisera/Mackebox/Artur/WorkDB/deepstorm/models/fishcod/MERFISH_starfish/sweep_cinfsim_1b/step_size:10000///train.yaml')"
   ]
  },
  {
   "cell_type": "code",
   "execution_count": null,
   "id": "seventh-testimony",
   "metadata": {},
   "outputs": [],
   "source": [
    "# cfg = OmegaConf.load('../config/experiment/MERFISH_ci_2d_sim1.yaml')\n",
    "# cfg.output.save_dir = '/groups/turaga/home/speisera/Mackebox/Artur/WorkDB/deepstorm//models/fishcod/MERFISH_starfish/nb_run/test/'"
   ]
  },
  {
   "cell_type": "code",
   "execution_count": null,
   "id": "worth-campus",
   "metadata": {},
   "outputs": [
    {
     "name": "stdout",
     "output_type": "stream",
     "text": [
      "Crop size larger than volume in at least one dimension. Crop size changed to (1, 128, 128)\n",
      "1 volumes\n"
     ]
    }
   ],
   "source": [
    "crop_sz = 128\n",
    "cfg.foci.n_foci_avg = 0\n",
    "cfg.training.bs = 5\n",
    "cfg.PSF.n_cols = 1\n",
    "cfg.random_crop.crop_sz = crop_sz\n",
    "cfg.data_path.image_shape = [16,1,crop_sz,crop_sz]\n",
    "cfg.model.n_p_layers = 1\n",
    "\n",
    "model, post_proc, micro, img_3d, decode_dl = load_all(cfg)\n",
    "psf, noise, micro = load_psf_noise_micro(cfg)"
   ]
  },
  {
   "cell_type": "code",
   "execution_count": null,
   "id": "material-broadway",
   "metadata": {},
   "outputs": [],
   "source": [
    "from decode_fish.engine.point_process import *\n",
    "from decode_fish.funcs.output_trafo import *\n",
    "from decode_fish.funcs.evaluation import *\n",
    "import h5py\n",
    "from decode_fish.funcs.routines import *\n",
    "\n",
    "with torch.no_grad():\n",
    "\n",
    "    x, local_rate, background = next(iter(decode_dl))\n",
    "    sim_vars = PointProcessUniform(local_rate*0 + 0.1, model.int_dist.int_conc, model.int_dist.int_rate, \n",
    "                                   model.int_dist.int_loc, channels=16, n_bits=4, sim_z=False, codebook=torch.tensor(code_inds), int_option=3).sample(from_code_book=True, phasing=cfg.exp_type.phasing)\n",
    "    xsim = micro(*sim_vars[:-1], add_noise=False)\n",
    "    xsimn = micro.noise(xsim, background).sample()\n",
    "\n",
    "    gt_vars = sim_vars[:-1]\n",
    "    gt_df = px_to_nm(sample_to_df(*sim_vars[:-2], codes=sim_vars[-1], px_size_zyx=[1.,1.,1.]))\n",
    "\n",
    "# with h5py.File('/groups/turaga/home/speisera/Mackebox/Artur/WorkDB/deepstorm/decode_fish/data/merfish_sims/sim_data1/dens_0.1_int_1.0.h5', 'r') as f:\n",
    "\n",
    "#     xsimn = f['frames'][()]\n",
    "#     gt_df = get_df_from_hdf5(f['locations']) \n",
    "        \n",
    "# with h5py.File('/groups/turaga/home/speisera/Mackebox/Artur/WorkDB/deepstorm/decode_fish/data/merfish_sims/sim_data1/sim_2/dens_0.1_int_1.0.h5', 'r') as f:\n",
    "\n",
    "#     dec_df = get_df_from_hdf5(f['old_loss:False']['locations_int'])"
   ]
  },
  {
   "cell_type": "code",
   "execution_count": null,
   "id": "cardiac-supplement",
   "metadata": {},
   "outputs": [],
   "source": [
    "# gt_df = get_code_from_ints(gt_df, code_ref, targets, int_str='', p_str='')\n",
    "# gt_df = exclude_borders(gt_df, border_size_zyx=[0,500,500], img_size=[crop_sz*100,crop_sz*100,crop_sz*100])"
   ]
  },
  {
   "cell_type": "code",
   "execution_count": null,
   "id": "involved-antenna",
   "metadata": {},
   "outputs": [],
   "source": [
    "# gt_df = gt_df.loc[:,['frame_idx', 'code_inds', 'x', 'y', 'z']+[f'int_{i}' for i in range(16)]]\n",
    "# np.save('../data/chen_bardensr/sim_data.npy',cpu(xsimn))\n",
    "# gt_df.to_csv('../data/chen_bardensr/gt_df.csv', index=False)\n",
    "# np.save('../data/chen_bardensr/codebook.npy',cpu(code_ref))"
   ]
  },
  {
   "cell_type": "code",
   "execution_count": null,
   "id": "occasional-broad",
   "metadata": {},
   "outputs": [
    {
     "name": "stdout",
     "output_type": "stream",
     "text": [
      "Crop size larger than volume in at least one dimension. Crop size changed to (1, 128, 128)\n",
      "1 volumes\n"
     ]
    }
   ],
   "source": [
    "model, post_proc, micro, img_3d, decode_dl = load_all(cfg)"
   ]
  },
  {
   "cell_type": "code",
   "execution_count": null,
   "id": "celtic-grammar",
   "metadata": {},
   "outputs": [
    {
     "name": "stderr",
     "output_type": "stream",
     "text": [
      "/groups/turaga/home/speisera/anaconda3/envs/decode_fish_dev2/lib/python3.7/site-packages/ipykernel_launcher.py:4: UserWarning: To copy construct from a tensor, it is recommended to use sourceTensor.clone().detach() or sourceTensor.clone().detach().requires_grad_(True), rather than torch.tensor(sourceTensor).\n",
      "  after removing the cwd from sys.path.\n"
     ]
    }
   ],
   "source": [
    "with torch.no_grad():\n",
    "    \n",
    "    model.eval().cuda()\n",
    "    res_dict = model(T(xsimn).cuda())\n",
    "    res_dict = model.tensor_to_dict(res_dict)\n",
    "    pred_df = post_proc.get_df(res_dict, softmax=False)\n",
    "#     pred_df = get_code_from_ints(pred_df, code_ref, targets, func=vcorrcoef, int_str='', p_str='')\n",
    "#     pred_df = exclude_borders(pred_df, border_size_zyx=[0,500,500], img_size=[crop_sz*100,crop_sz*100,crop_sz*100])"
   ]
  },
  {
   "cell_type": "code",
   "execution_count": null,
   "id": "stunning-replacement",
   "metadata": {},
   "outputs": [],
   "source": [
    "# for c in range(30):\n",
    "# #     c = 72\n",
    "\n",
    "#     sub_gt = gt_df[gt_df['frame_idx'] == 1]\n",
    "#     sub_gt = sub_gt[sub_gt['code_inds'] == c]\n",
    "    \n",
    "#     sub_pred = pred_df[pred_df['frame_idx'] == 1]\n",
    "#     sub_pred = sub_pred[sub_pred['code_inds'] == c]\n",
    "\n",
    "#     plt.figure(figsize=(10,10))\n",
    "#     im = plt.imshow(cpu(torch.sigmoid(res_dict['logits']))[1,c,0])\n",
    "#     add_colorbar(im)\n",
    "#     plt.scatter(sub_gt['x']/100, sub_gt['y']/100, ec='red', s=100, marker='+')\n",
    "#     plt.scatter(sub_pred['x']/100, sub_pred['y']/100, ec='green', fc='none', s=100, marker='o', linewidth=3)\n",
    "#     plt.show()"
   ]
  },
  {
   "cell_type": "code",
   "execution_count": null,
   "id": "removable-pointer",
   "metadata": {},
   "outputs": [
    {
     "name": "stdout",
     "output_type": "stream",
     "text": [
      "Recall: 0.846\n",
      "Precision: 0.958\n",
      "Jaccard: 81.504\n",
      "RMSE_vol: 39.207\n",
      "Eff_3d: 73.048\n",
      "FN: 1252.0 FP: 303.0\n",
      "Num. matches: 6852.000\n",
      "Shift: 0.29,-0.26,0.00\n",
      "------- 0.9474605954465849\n",
      "Recall: 0.813\n",
      "Precision: 0.920\n",
      "Jaccard: 75.917\n",
      "RMSE_vol: 25.406\n",
      "Eff_3d: 72.772\n",
      "FN: 1519.0 FP: 570.0\n",
      "Num. matches: 6585.000\n",
      "Shift: 0.10,-0.12,0.00\n"
     ]
    }
   ],
   "source": [
    "sub_df = percentile_filter(pred_df, 100, 'comb_sig')\n",
    "perf, matches, _  = matching(gt_df, sub_df, match_genes=False, tolerance=300)\n",
    "print(f'-------', sum(matches['code_inds_pred'] == matches['code_inds_tar'])/len(matches))\n",
    "perf, matches, _  = matching(gt_df, sub_df, match_genes=True, tolerance=300)"
   ]
  },
  {
   "cell_type": "code",
   "execution_count": null,
   "id": "theoretical-pricing",
   "metadata": {},
   "outputs": [],
   "source": [
    "# export\n",
    "def get_istdeco_df(sim_data, codebook, psf_sig=(1.7, 1.7), n_iter=100, bg=100.):\n",
    "    \n",
    "    istd_results = pd.DataFrame()\n",
    "    \n",
    "    n_rounds = codebook.shape[1]\n",
    "    n_cols = codebook.shape[2]\n",
    "    \n",
    "    for i in range(len(sim_data)):\n",
    "\n",
    "        image_data = np.array(sim_data)[i,:,0]\n",
    "        image_data = image_data.reshape([n_rounds,n_cols,image_data.shape[-2],image_data.shape[-1]], order='F')\n",
    "        \n",
    "        init_th = np.percentile(image_data,50)\n",
    "\n",
    "        istdeco_model = ISTDeco(image_data, codebook, psf_sig, b=bg)\n",
    "        X, Q, loss = istdeco_model.run(niter=n_iter)\n",
    "\n",
    "        # Get codes\n",
    "        code_id, y, x = np.where(np.logical_and(X>init_th,Q>0.1))\n",
    "\n",
    "        intensity = X[code_id, y, x]\n",
    "        quality = Q[code_id, y, x]\n",
    "\n",
    "        # Store in dataframe\n",
    "        df = pd.DataFrame(data={\n",
    "                'frame_idx': i,\n",
    "                'x': x.astype('float')+0.5, \n",
    "                'y': y.astype('float')+0.5,\n",
    "                'z': 0.5,\n",
    "                'intensity': intensity, \n",
    "                'quality': quality,\n",
    "                'code_inds': code_id\n",
    "        })\n",
    "\n",
    "        istd_results = istd_results.append(df)\n",
    "\n",
    "    istd_results = px_to_nm(istd_results)\n",
    "\n",
    "    return istd_results"
   ]
  },
  {
   "cell_type": "code",
   "execution_count": null,
   "id": "conditional-trick",
   "metadata": {},
   "outputs": [],
   "source": [
    "istd_df = get_istdeco_df(cpu(xsimn), code_ref.reshape([140,8,2], order='F'), psf_sig=(1.7, 1.7), n_iter=400)\n",
    "# istd_df = exclude_borders(istd_df, border_size_zyx=[0,500,500], img_size=[crop_sz*100,crop_sz*100,crop_sz*100])"
   ]
  },
  {
   "cell_type": "code",
   "execution_count": null,
   "id": "increased-sussex",
   "metadata": {},
   "outputs": [],
   "source": [
    "sub_df = istd_df[istd_df['quality'] > 0.55]\n",
    "sub_df = sub_df[sub_df['intensity'] > 350]"
   ]
  },
  {
   "cell_type": "code",
   "execution_count": null,
   "id": "maritime-queen",
   "metadata": {},
   "outputs": [
    {
     "name": "stdout",
     "output_type": "stream",
     "text": [
      "Recall: 0.968\n",
      "Precision: 0.989\n",
      "Jaccard: 95.816\n",
      "RMSE_vol: 44.111\n",
      "Eff_3d: 77.551\n",
      "FN: 52.0 FP: 17.0\n",
      "Num. matches: 1580.000\n",
      "Shift: 1.46,-0.33,0.00\n",
      "------- 0.9867088607594937\n",
      "Recall: 0.964\n",
      "Precision: 0.986\n",
      "Jaccard: 95.106\n",
      "RMSE_vol: 44.159\n",
      "Eff_3d: 77.385\n",
      "FN: 58.0 FP: 23.0\n",
      "Num. matches: 1574.000\n",
      "Shift: 1.32,-0.70,0.00\n"
     ]
    }
   ],
   "source": [
    "perf, matches, _  = matching(gt_df, sub_df, match_genes=False, tolerance=300)\n",
    "print(f'-------', sum(matches['code_inds_pred'] == matches['code_inds_tar'])/len(matches))\n",
    "perf, matches, _  = matching(gt_df, sub_df, match_genes=True, tolerance=300)"
   ]
  },
  {
   "cell_type": "code",
   "execution_count": null,
   "id": "intimate-graduation",
   "metadata": {},
   "outputs": [
    {
     "name": "stderr",
     "output_type": "stream",
     "text": [
      "\u001b[32m[I 2021-10-01 03:29:20,786]\u001b[0m A new study created in memory with name: no-name-effea13f-0cd0-46bc-813f-cc233a86e096\u001b[0m\n",
      "\u001b[32m[I 2021-10-01 03:29:22,881]\u001b[0m Trial 0 finished with value: -0.6513402880265281 and parameters: {'qual_th': 0.12156727598966141, 'int_th': 337.5451437088012}. Best is trial 0 with value: -0.6513402880265281.\u001b[0m\n",
      "\u001b[32m[I 2021-10-01 03:29:22,916]\u001b[0m Trial 1 finished with value: -0.04096742248352857 and parameters: {'qual_th': 0.7225380870449924, 'int_th': 6915.454900882743}. Best is trial 0 with value: -0.6513402880265281.\u001b[0m\n",
      "\u001b[32m[I 2021-10-01 03:29:22,979]\u001b[0m Trial 2 finished with value: -0.144990124753452 and parameters: {'qual_th': 0.7852841806068025, 'int_th': 3802.3849643536605}. Best is trial 0 with value: -0.6513402880265281.\u001b[0m\n",
      "\u001b[32m[I 2021-10-01 03:29:23,099]\u001b[0m Trial 3 finished with value: -0.2586057925081852 and parameters: {'qual_th': 0.47264094558035574, 'int_th': 2718.3528577143306}. Best is trial 0 with value: -0.6513402880265281.\u001b[0m\n",
      "\u001b[32m[I 2021-10-01 03:29:23,197]\u001b[0m Trial 4 finished with value: -0.2119940717671749 and parameters: {'qual_th': 0.5108361940034157, 'int_th': 3157.9858375331323}. Best is trial 0 with value: -0.6513402880265281.\u001b[0m\n",
      "\u001b[32m[I 2021-10-01 03:29:23,233]\u001b[0m Trial 5 finished with value: -0.043805527053170604 and parameters: {'qual_th': 0.29775446652792403, 'int_th': 6738.705752614039}. Best is trial 0 with value: -0.6513402880265281.\u001b[0m\n",
      "\u001b[32m[I 2021-10-01 03:29:23,269]\u001b[0m Trial 6 finished with value: -0.0508390905518487 and parameters: {'qual_th': 0.3532199964340851, 'int_th': 6362.336962005303}. Best is trial 0 with value: -0.6513402880265281.\u001b[0m\n",
      "\u001b[32m[I 2021-10-01 03:29:23,365]\u001b[0m Trial 7 finished with value: -0.21952121866926902 and parameters: {'qual_th': 0.4638259478182416, 'int_th': 3080.23191482668}. Best is trial 0 with value: -0.6513402880265281.\u001b[0m\n",
      "\u001b[32m[I 2021-10-01 03:29:23,446]\u001b[0m Trial 8 finished with value: -0.19151036052541065 and parameters: {'qual_th': 0.7605171275967307, 'int_th': 3179.0763618830283}. Best is trial 0 with value: -0.6513402880265281.\u001b[0m\n",
      "\u001b[32m[I 2021-10-01 03:29:23,705]\u001b[0m Trial 9 finished with value: -0.4094507268432413 and parameters: {'qual_th': 0.6371157236198997, 'int_th': 273.71810688921585}. Best is trial 0 with value: -0.6513402880265281.\u001b[0m\n",
      "\u001b[32m[I 2021-10-01 03:29:26,576]\u001b[0m Trial 10 finished with value: -0.5600728070377304 and parameters: {'qual_th': 0.12052302087937339, 'int_th': 141.54171966735646}. Best is trial 0 with value: -0.6513402880265281.\u001b[0m\n",
      "\u001b[32m[I 2021-10-01 03:29:29,446]\u001b[0m Trial 11 finished with value: -0.5621094259699828 and parameters: {'qual_th': 0.1219871922911475, 'int_th': 138.67308655405452}. Best is trial 0 with value: -0.6513402880265281.\u001b[0m\n",
      "\u001b[32m[I 2021-10-01 03:29:29,795]\u001b[0m Trial 12 finished with value: -0.48892152065316385 and parameters: {'qual_th': 0.10199644340700997, 'int_th': 1480.5895492309241}. Best is trial 0 with value: -0.6513402880265281.\u001b[0m\n",
      "\u001b[32m[I 2021-10-01 03:29:30,122]\u001b[0m Trial 13 finished with value: -0.4715755826617108 and parameters: {'qual_th': 0.23055575133728812, 'int_th': 1556.124483126429}. Best is trial 0 with value: -0.6513402880265281.\u001b[0m\n",
      "\u001b[32m[I 2021-10-01 03:29:30,170]\u001b[0m Trial 14 finished with value: -0.07033563498678097 and parameters: {'qual_th': 0.20507179790880414, 'int_th': 5486.63607016103}. Best is trial 0 with value: -0.6513402880265281.\u001b[0m\n",
      "\u001b[32m[I 2021-10-01 03:29:30,551]\u001b[0m Trial 15 finished with value: -0.515247997177024 and parameters: {'qual_th': 0.3528523726853543, 'int_th': 1330.8229146013318}. Best is trial 0 with value: -0.6513402880265281.\u001b[0m\n",
      "\u001b[32m[I 2021-10-01 03:29:30,603]\u001b[0m Trial 16 finished with value: -0.08983217942171323 and parameters: {'qual_th': 0.1988092729112691, 'int_th': 4974.719608378289}. Best is trial 0 with value: -0.6513402880265281.\u001b[0m\n",
      "\u001b[32m[I 2021-10-01 03:29:30,720]\u001b[0m Trial 17 finished with value: -0.250801473469754 and parameters: {'qual_th': 0.8682457266230064, 'int_th': 945.2237018229525}. Best is trial 0 with value: -0.6513402880265281.\u001b[0m\n",
      "\u001b[32m[I 2021-10-01 03:29:30,910]\u001b[0m Trial 18 finished with value: -0.33945292411402356 and parameters: {'qual_th': 0.29490519349761835, 'int_th': 2194.602854112637}. Best is trial 0 with value: -0.6513402880265281.\u001b[0m\n",
      "\u001b[32m[I 2021-10-01 03:29:31,872]\u001b[0m Trial 19 finished with value: -0.6845910374019196 and parameters: {'qual_th': 0.14425008837083075, 'int_th': 724.2401888628224}. Best is trial 19 with value: -0.6845910374019196.\u001b[0m\n",
      "\u001b[32m[I 2021-10-01 03:29:32,058]\u001b[0m Trial 20 finished with value: -0.33925267383764524 and parameters: {'qual_th': 0.5675341630980342, 'int_th': 2024.599154162209}. Best is trial 19 with value: -0.6845910374019196.\u001b[0m\n",
      "\u001b[32m[I 2021-10-01 03:29:32,831]\u001b[0m Trial 21 finished with value: -0.6553375226503731 and parameters: {'qual_th': 0.15247610639197834, 'int_th': 859.8714765749783}. Best is trial 19 with value: -0.6845910374019196.\u001b[0m\n",
      "\u001b[32m[I 2021-10-01 03:29:33,633]\u001b[0m Trial 22 finished with value: -0.6636458542199174 and parameters: {'qual_th': 0.18765790602733656, 'int_th': 825.2344664654456}. Best is trial 19 with value: -0.6845910374019196.\u001b[0m\n",
      "\u001b[32m[I 2021-10-01 03:29:34,279]\u001b[0m Trial 23 finished with value: -0.6217758083495588 and parameters: {'qual_th': 0.23270980418375098, 'int_th': 968.4813350480908}. Best is trial 19 with value: -0.6845910374019196.\u001b[0m\n",
      "\u001b[32m[I 2021-10-01 03:29:34,463]\u001b[0m Trial 24 finished with value: -0.3374429703503151 and parameters: {'qual_th': 0.3865733872043335, 'int_th': 2197.628255215553}. Best is trial 19 with value: -0.6845910374019196.\u001b[0m\n",
      "\u001b[32m[I 2021-10-01 03:29:35,101]\u001b[0m Trial 25 finished with value: -0.619233947130702 and parameters: {'qual_th': 0.16724864110340573, 'int_th': 982.408289743697}. Best is trial 19 with value: -0.6845910374019196.\u001b[0m\n",
      "\u001b[32m[I 2021-10-01 03:29:35,165]\u001b[0m Trial 26 finished with value: -0.12635735127449774 and parameters: {'qual_th': 0.27986033988981396, 'int_th': 4225.631228639161}. Best is trial 19 with value: -0.6845910374019196.\u001b[0m\n",
      "\u001b[32m[I 2021-10-01 03:29:36,010]\u001b[0m Trial 27 finished with value: -0.666165398122258 and parameters: {'qual_th': 0.16843505683885912, 'int_th': 810.5897959210378}. Best is trial 19 with value: -0.6845910374019196.\u001b[0m\n",
      "\u001b[32m[I 2021-10-01 03:29:36,244]\u001b[0m Trial 28 finished with value: -0.39005170179631365 and parameters: {'qual_th': 0.25795723265307213, 'int_th': 1922.0230378031001}. Best is trial 19 with value: -0.6845910374019196.\u001b[0m\n",
      "\u001b[32m[I 2021-10-01 03:29:36,284]\u001b[0m Trial 29 finished with value: -0.03257650462545645 and parameters: {'qual_th': 0.3819796790153702, 'int_th': 7584.52745188323}. Best is trial 19 with value: -0.6845910374019196.\u001b[0m\n",
      "\u001b[32m[I 2021-10-01 03:29:37,339]\u001b[0m Trial 30 finished with value: -0.698623991528717 and parameters: {'qual_th': 0.16770090588106984, 'int_th': 668.8720043751168}. Best is trial 30 with value: -0.698623991528717.\u001b[0m\n",
      "\u001b[32m[I 2021-10-01 03:29:38,247]\u001b[0m Trial 31 finished with value: -0.6801600759254414 and parameters: {'qual_th': 0.17995108287629794, 'int_th': 753.3436578243873}. Best is trial 30 with value: -0.698623991528717.\u001b[0m\n",
      "\u001b[32m[I 2021-10-01 03:29:39,467]\u001b[0m Trial 32 finished with value: -0.7008870467138242 and parameters: {'qual_th': 0.15526811086457354, 'int_th': 585.3328304469303}. Best is trial 32 with value: -0.7008870467138242.\u001b[0m\n",
      "\u001b[32m[I 2021-10-01 03:29:40,793]\u001b[0m Trial 33 finished with value: -0.6957210629535961 and parameters: {'qual_th': 0.10774335563795837, 'int_th': 558.2618625945574}. Best is trial 32 with value: -0.7008870467138242.\u001b[0m\n",
      "\u001b[32m[I 2021-10-01 03:29:41,118]\u001b[0m Trial 34 finished with value: -0.4622745561949563 and parameters: {'qual_th': 0.10856710339098205, 'int_th': 1597.5529680027767}. Best is trial 32 with value: -0.7008870467138242.\u001b[0m\n",
      "\u001b[32m[I 2021-10-01 03:29:41,263]\u001b[0m Trial 35 finished with value: -0.2804983278525144 and parameters: {'qual_th': 0.24455057587021384, 'int_th': 2567.471320370636}. Best is trial 32 with value: -0.7008870467138242.\u001b[0m\n",
      "\u001b[32m[I 2021-10-01 03:29:42,867]\u001b[0m Trial 36 finished with value: -0.6890286375356168 and parameters: {'qual_th': 0.13768957767324336, 'int_th': 440.9168697174822}. Best is trial 32 with value: -0.7008870467138242.\u001b[0m\n"
     ]
    },
    {
     "name": "stderr",
     "output_type": "stream",
     "text": [
      "\u001b[32m[I 2021-10-01 03:29:43,387]\u001b[0m Trial 37 finished with value: -0.5925387453357862 and parameters: {'qual_th': 0.4283157978097917, 'int_th': 478.3196236145184}. Best is trial 32 with value: -0.7008870467138242.\u001b[0m\n",
      "\u001b[32m[I 2021-10-01 03:29:43,780]\u001b[0m Trial 38 finished with value: -0.5138175467396051 and parameters: {'qual_th': 0.31167326902164405, 'int_th': 1364.6704837336626}. Best is trial 32 with value: -0.7008870467138242.\u001b[0m\n",
      "\u001b[32m[I 2021-10-01 03:29:43,920]\u001b[0m Trial 39 finished with value: -0.27655112183172265 and parameters: {'qual_th': 0.3349755059219557, 'int_th': 2587.7783374803275}. Best is trial 32 with value: -0.7008870467138242.\u001b[0m\n",
      "\u001b[32m[I 2021-10-01 03:29:44,001]\u001b[0m Trial 40 finished with value: -0.17263079534474837 and parameters: {'qual_th': 0.6616158639059166, 'int_th': 3573.2386271977925}. Best is trial 32 with value: -0.7008870467138242.\u001b[0m\n",
      "\u001b[32m[I 2021-10-01 03:29:45,512]\u001b[0m Trial 41 finished with value: -0.6932777241273728 and parameters: {'qual_th': 0.1367152105872369, 'int_th': 472.93475493970493}. Best is trial 32 with value: -0.7008870467138242.\u001b[0m\n",
      "\u001b[32m[I 2021-10-01 03:29:46,839]\u001b[0m Trial 42 finished with value: -0.7164290122062351 and parameters: {'qual_th': 0.20394597665155806, 'int_th': 390.8150572606593}. Best is trial 42 with value: -0.7164290122062351.\u001b[0m\n",
      "\u001b[32m[I 2021-10-01 03:29:47,301]\u001b[0m Trial 43 finished with value: -0.5500060480056722 and parameters: {'qual_th': 0.21333662328916883, 'int_th': 1237.1863312722307}. Best is trial 42 with value: -0.7164290122062351.\u001b[0m\n",
      "\u001b[32m[I 2021-10-01 03:29:48,251]\u001b[0m Trial 44 finished with value: -0.7170613769358156 and parameters: {'qual_th': 0.25767338416412044, 'int_th': 508.08715356785507}. Best is trial 44 with value: -0.7170613769358156.\u001b[0m\n",
      "\u001b[32m[I 2021-10-01 03:29:49,394]\u001b[0m Trial 45 finished with value: -0.6941329989303798 and parameters: {'qual_th': 0.26531977489245867, 'int_th': 157.89532738591367}. Best is trial 44 with value: -0.7170613769358156.\u001b[0m\n",
      "\u001b[32m[I 2021-10-01 03:29:49,699]\u001b[0m Trial 46 finished with value: -0.453462660769581 and parameters: {'qual_th': 0.1007795452452432, 'int_th': 1632.069083233005}. Best is trial 44 with value: -0.7170613769358156.\u001b[0m\n",
      "\u001b[32m[I 2021-10-01 03:29:50,813]\u001b[0m Trial 47 finished with value: -0.7172490134831057 and parameters: {'qual_th': 0.21823056880607059, 'int_th': 506.7179684676213}. Best is trial 47 with value: -0.7172490134831057.\u001b[0m\n",
      "\u001b[32m[I 2021-10-01 03:29:51,289]\u001b[0m Trial 48 finished with value: -0.5668247460336922 and parameters: {'qual_th': 0.3247659537966583, 'int_th': 1143.5026670823383}. Best is trial 47 with value: -0.7172490134831057.\u001b[0m\n",
      "\u001b[32m[I 2021-10-01 03:29:51,552]\u001b[0m Trial 49 finished with value: -0.4130167221206515 and parameters: {'qual_th': 0.214407164063272, 'int_th': 1810.5846371666455}. Best is trial 47 with value: -0.7172490134831057.\u001b[0m\n",
      "\u001b[32m[I 2021-10-01 03:29:51,938]\u001b[0m Trial 50 finished with value: -0.47951458657900786 and parameters: {'qual_th': 0.5482707499866201, 'int_th': 180.6499736612251}. Best is trial 47 with value: -0.7172490134831057.\u001b[0m\n",
      "\u001b[32m[I 2021-10-01 03:29:53,267]\u001b[0m Trial 51 finished with value: -0.7114179349672238 and parameters: {'qual_th': 0.17922996845562714, 'int_th': 486.816494331578}. Best is trial 47 with value: -0.7172490134831057.\u001b[0m\n",
      "\u001b[32m[I 2021-10-01 03:29:54,242]\u001b[0m Trial 52 finished with value: -0.7115318646850264 and parameters: {'qual_th': 0.23792418682308064, 'int_th': 574.7278075980267}. Best is trial 47 with value: -0.7172490134831057.\u001b[0m\n",
      "\u001b[32m[I 2021-10-01 03:29:54,745]\u001b[0m Trial 53 finished with value: -0.5751119579926895 and parameters: {'qual_th': 0.27370236885614496, 'int_th': 1137.3207075721366}. Best is trial 47 with value: -0.7172490134831057.\u001b[0m\n",
      "\u001b[32m[I 2021-10-01 03:29:55,839]\u001b[0m Trial 54 finished with value: -0.7209405835073981 and parameters: {'qual_th': 0.23596787867981028, 'int_th': 432.7288471611894}. Best is trial 54 with value: -0.7209405835073981.\u001b[0m\n",
      "\u001b[32m[I 2021-10-01 03:29:55,886]\u001b[0m Trial 55 finished with value: -0.060093779365898825 and parameters: {'qual_th': 0.23326404942244597, 'int_th': 5919.2188588996905}. Best is trial 54 with value: -0.7209405835073981.\u001b[0m\n",
      "\u001b[32m[I 2021-10-01 03:29:56,747]\u001b[0m Trial 56 finished with value: -0.7043659845711568 and parameters: {'qual_th': 0.29409875885652004, 'int_th': 389.6446916792492}. Best is trial 54 with value: -0.7209405835073981.\u001b[0m\n",
      "\u001b[32m[I 2021-10-01 03:29:57,155]\u001b[0m Trial 57 finished with value: -0.5282603247306012 and parameters: {'qual_th': 0.36550348099360885, 'int_th': 1259.5050624496969}. Best is trial 54 with value: -0.7209405835073981.\u001b[0m\n",
      "\u001b[32m[I 2021-10-01 03:29:57,215]\u001b[0m Trial 58 finished with value: -0.10772457779554348 and parameters: {'qual_th': 0.20009775242559993, 'int_th': 4562.808140762946}. Best is trial 54 with value: -0.7209405835073981.\u001b[0m\n",
      "\u001b[32m[I 2021-10-01 03:29:58,450]\u001b[0m Trial 59 finished with value: -0.6858115148731863 and parameters: {'qual_th': 0.2563077929061305, 'int_th': 129.45654358763744}. Best is trial 54 with value: -0.7209405835073981.\u001b[0m\n",
      "\u001b[32m[I 2021-10-01 03:29:58,642]\u001b[0m Trial 60 finished with value: -0.3265959988514666 and parameters: {'qual_th': 0.22478566258431393, 'int_th': 2257.332540867771}. Best is trial 54 with value: -0.7209405835073981.\u001b[0m\n",
      "\u001b[32m[I 2021-10-01 03:29:59,503]\u001b[0m Trial 61 finished with value: -0.7027687132906302 and parameters: {'qual_th': 0.29689399937372096, 'int_th': 381.69460266209103}. Best is trial 54 with value: -0.7209405835073981.\u001b[0m\n",
      "\u001b[32m[I 2021-10-01 03:30:00,071]\u001b[0m Trial 62 finished with value: -0.6100348788344392 and parameters: {'qual_th': 0.28932116154483034, 'int_th': 995.7702302503233}. Best is trial 54 with value: -0.7209405835073981.\u001b[0m\n",
      "\u001b[32m[I 2021-10-01 03:30:00,636]\u001b[0m Trial 63 finished with value: -0.611712347000665 and parameters: {'qual_th': 0.4097168590534052, 'int_th': 379.7242512601062}. Best is trial 54 with value: -0.7209405835073981.\u001b[0m\n",
      "\u001b[32m[I 2021-10-01 03:30:01,651]\u001b[0m Trial 64 finished with value: -0.7036244776311463 and parameters: {'qual_th': 0.19669969247955174, 'int_th': 644.1755720791141}. Best is trial 54 with value: -0.7209405835073981.\u001b[0m\n",
      "\u001b[32m[I 2021-10-01 03:30:01,993]\u001b[0m Trial 65 finished with value: -0.47838333182159626 and parameters: {'qual_th': 0.24133632521859422, 'int_th': 1528.2001360789081}. Best is trial 54 with value: -0.7209405835073981.\u001b[0m\n",
      "\u001b[32m[I 2021-10-01 03:30:02,500]\u001b[0m Trial 66 finished with value: -0.5909145975728265 and parameters: {'qual_th': 0.3377717731147816, 'int_th': 1028.9947370975133}. Best is trial 54 with value: -0.7209405835073981.\u001b[0m\n",
      "\u001b[32m[I 2021-10-01 03:30:04,027]\u001b[0m Trial 67 finished with value: -0.7025206510353986 and parameters: {'qual_th': 0.1851542298997621, 'int_th': 339.23992906698675}. Best is trial 54 with value: -0.7209405835073981.\u001b[0m\n",
      "\u001b[32m[I 2021-10-01 03:30:04,417]\u001b[0m Trial 68 finished with value: -0.512311637576586 and parameters: {'qual_th': 0.5045480882764398, 'int_th': 778.0256477179671}. Best is trial 54 with value: -0.7209405835073981.\u001b[0m\n",
      "\u001b[32m[I 2021-10-01 03:30:05,180]\u001b[0m Trial 69 finished with value: -0.6816612952121552 and parameters: {'qual_th': 0.3034217256248499, 'int_th': 670.1714716167041}. Best is trial 54 with value: -0.7209405835073981.\u001b[0m\n",
      "\u001b[32m[I 2021-10-01 03:30:05,459]\u001b[0m Trial 70 finished with value: -0.42653386385014475 and parameters: {'qual_th': 0.2552022699650798, 'int_th': 1745.9799156275253}. Best is trial 54 with value: -0.7209405835073981.\u001b[0m\n",
      "\u001b[32m[I 2021-10-01 03:30:06,548]\u001b[0m Trial 71 finished with value: -0.7067677398423963 and parameters: {'qual_th': 0.1976066197786654, 'int_th': 606.7191162094412}. Best is trial 54 with value: -0.7209405835073981.\u001b[0m\n",
      "\u001b[32m[I 2021-10-01 03:30:07,914]\u001b[0m Trial 72 finished with value: -0.7135250114265173 and parameters: {'qual_th': 0.21528693826137282, 'int_th': 322.8428832017919}. Best is trial 54 with value: -0.7209405835073981.\u001b[0m\n",
      "\u001b[32m[I 2021-10-01 03:30:08,657]\u001b[0m Trial 73 finished with value: -0.6467002544437872 and parameters: {'qual_th': 0.16133415392042746, 'int_th': 886.1378504737437}. Best is trial 54 with value: -0.7209405835073981.\u001b[0m\n",
      "\u001b[32m[I 2021-10-01 03:30:10,145]\u001b[0m Trial 74 finished with value: -0.6827516300910141 and parameters: {'qual_th': 0.21676852263620366, 'int_th': 149.4579707929156}. Best is trial 54 with value: -0.7209405835073981.\u001b[0m\n"
     ]
    },
    {
     "name": "stderr",
     "output_type": "stream",
     "text": [
      "\u001b[32m[I 2021-10-01 03:30:10,542]\u001b[0m Trial 75 finished with value: -0.5161093357063867 and parameters: {'qual_th': 0.13731476508138302, 'int_th': 1366.1246642599767}. Best is trial 54 with value: -0.7209405835073981.\u001b[0m\n",
      "\u001b[32m[I 2021-10-01 03:30:11,751]\u001b[0m Trial 76 finished with value: -0.709940234439104 and parameters: {'qual_th': 0.1795079129723993, 'int_th': 552.1922939291466}. Best is trial 54 with value: -0.7209405835073981.\u001b[0m\n",
      "\u001b[32m[I 2021-10-01 03:30:12,506]\u001b[0m Trial 77 finished with value: -0.6518232666707978 and parameters: {'qual_th': 0.12973407401077458, 'int_th': 868.1597167425268}. Best is trial 54 with value: -0.7209405835073981.\u001b[0m\n",
      "\u001b[32m[I 2021-10-01 03:30:13,026]\u001b[0m Trial 78 finished with value: -0.5785223435332688 and parameters: {'qual_th': 0.17418311661573002, 'int_th': 1129.1442238902914}. Best is trial 54 with value: -0.7209405835073981.\u001b[0m\n",
      "\u001b[32m[I 2021-10-01 03:30:14,242]\u001b[0m Trial 79 finished with value: -0.7139441209880638 and parameters: {'qual_th': 0.23176994466670556, 'int_th': 321.1985977108675}. Best is trial 54 with value: -0.7209405835073981.\u001b[0m\n",
      "\u001b[32m[I 2021-10-01 03:30:14,332]\u001b[0m Trial 80 finished with value: -0.1881786725523526 and parameters: {'qual_th': 0.22695017474482224, 'int_th': 3423.1573585780234}. Best is trial 54 with value: -0.7209405835073981.\u001b[0m\n",
      "\u001b[32m[I 2021-10-01 03:30:14,468]\u001b[0m Trial 81 finished with value: -0.26248618818293806 and parameters: {'qual_th': 0.8611067305921668, 'int_th': 342.536589630881}. Best is trial 54 with value: -0.7209405835073981.\u001b[0m\n",
      "\u001b[32m[I 2021-10-01 03:30:15,471]\u001b[0m Trial 82 finished with value: -0.7168262490463692 and parameters: {'qual_th': 0.24682579991735965, 'int_th': 523.4746919910685}. Best is trial 54 with value: -0.7209405835073981.\u001b[0m\n",
      "\u001b[32m[I 2021-10-01 03:30:16,240]\u001b[0m Trial 83 finished with value: -0.6747871174364447 and parameters: {'qual_th': 0.27304893669919517, 'int_th': 763.0479835510935}. Best is trial 54 with value: -0.7209405835073981.\u001b[0m\n",
      "\u001b[32m[I 2021-10-01 03:30:17,388]\u001b[0m Trial 84 finished with value: -0.7182755021993682 and parameters: {'qual_th': 0.24424539610410287, 'int_th': 341.0985171090764}. Best is trial 54 with value: -0.7209405835073981.\u001b[0m\n",
      "\u001b[32m[I 2021-10-01 03:30:18,552]\u001b[0m Trial 85 finished with value: -0.709416632960091 and parameters: {'qual_th': 0.2470274123348, 'int_th': 256.67956658753263}. Best is trial 54 with value: -0.7209405835073981.\u001b[0m\n",
      "\u001b[32m[I 2021-10-01 03:30:19,086]\u001b[0m Trial 86 finished with value: -0.5963213795662783 and parameters: {'qual_th': 0.31418109653350135, 'int_th': 1034.7034509390805}. Best is trial 54 with value: -0.7209405835073981.\u001b[0m\n",
      "\u001b[32m[I 2021-10-01 03:30:19,201]\u001b[0m Trial 87 finished with value: -0.2381246085595408 and parameters: {'qual_th': 0.27461492941242194, 'int_th': 2922.8093751617353}. Best is trial 54 with value: -0.7209405835073981.\u001b[0m\n",
      "\u001b[32m[I 2021-10-01 03:30:19,242]\u001b[0m Trial 88 finished with value: -0.03590819259851449 and parameters: {'qual_th': 0.24105054947010082, 'int_th': 7241.343977297625}. Best is trial 54 with value: -0.7209405835073981.\u001b[0m\n",
      "\u001b[32m[I 2021-10-01 03:30:20,304]\u001b[0m Trial 89 finished with value: -0.7147006095911391 and parameters: {'qual_th': 0.2117778144223115, 'int_th': 560.9961872366943}. Best is trial 54 with value: -0.7209405835073981.\u001b[0m\n",
      "\u001b[32m[I 2021-10-01 03:30:22,182]\u001b[0m Trial 90 finished with value: -0.6689895344384681 and parameters: {'qual_th': 0.15365434493039593, 'int_th': 299.550153538245}. Best is trial 54 with value: -0.7209405835073981.\u001b[0m\n",
      "\u001b[32m[I 2021-10-01 03:30:23,229]\u001b[0m Trial 91 finished with value: -0.7126991089813975 and parameters: {'qual_th': 0.21421724551751445, 'int_th': 576.7088135693739}. Best is trial 54 with value: -0.7209405835073981.\u001b[0m\n",
      "\u001b[32m[I 2021-10-01 03:30:24,048]\u001b[0m Trial 92 finished with value: -0.6744050917143333 and parameters: {'qual_th': 0.21848490112666397, 'int_th': 778.7522616325757}. Best is trial 54 with value: -0.7209405835073981.\u001b[0m\n",
      "\u001b[32m[I 2021-10-01 03:30:25,196]\u001b[0m Trial 93 finished with value: -0.717252731488951 and parameters: {'qual_th': 0.20787749812603673, 'int_th': 504.68483427036017}. Best is trial 54 with value: -0.7209405835073981.\u001b[0m\n",
      "\u001b[32m[I 2021-10-01 03:30:26,380]\u001b[0m Trial 94 finished with value: -0.6872988481592179 and parameters: {'qual_th': 0.2622453723392465, 'int_th': 132.1289355346544}. Best is trial 54 with value: -0.7209405835073981.\u001b[0m\n",
      "\u001b[32m[I 2021-10-01 03:30:27,658]\u001b[0m Trial 95 finished with value: -0.7163203958809081 and parameters: {'qual_th': 0.1995515747127854, 'int_th': 437.52439237139873}. Best is trial 54 with value: -0.7209405835073981.\u001b[0m\n",
      "\u001b[32m[I 2021-10-01 03:30:28,044]\u001b[0m Trial 96 finished with value: -0.5121474664351735 and parameters: {'qual_th': 0.19579935067307022, 'int_th': 1381.629677422135}. Best is trial 54 with value: -0.7209405835073981.\u001b[0m\n",
      "\u001b[32m[I 2021-10-01 03:30:28,902]\u001b[0m Trial 97 finished with value: -0.7077460522365508 and parameters: {'qual_th': 0.28340527184794206, 'int_th': 490.0480788076599}. Best is trial 54 with value: -0.7209405835073981.\u001b[0m\n",
      "\u001b[32m[I 2021-10-01 03:30:29,388]\u001b[0m Trial 98 finished with value: -0.5630668626661781 and parameters: {'qual_th': 0.165411910163149, 'int_th': 1185.547434665267}. Best is trial 54 with value: -0.7209405835073981.\u001b[0m\n",
      "\u001b[32m[I 2021-10-01 03:30:30,193]\u001b[0m Trial 99 finished with value: -0.6590671011034755 and parameters: {'qual_th': 0.1237748219745652, 'int_th': 844.2857674239391}. Best is trial 54 with value: -0.7209405835073981.\u001b[0m\n",
      "\u001b[32m[I 2021-10-01 03:30:30,243]\u001b[0m Trial 100 finished with value: -0.08033069890595511 and parameters: {'qual_th': 0.46092077801481873, 'int_th': 5219.083942637671}. Best is trial 54 with value: -0.7209405835073981.\u001b[0m\n",
      "\u001b[32m[I 2021-10-01 03:30:31,755]\u001b[0m Trial 101 finished with value: -0.7018447758044982 and parameters: {'qual_th': 0.20418981829070731, 'int_th': 270.67009642469833}. Best is trial 54 with value: -0.7209405835073981.\u001b[0m\n",
      "\u001b[32m[I 2021-10-01 03:30:32,702]\u001b[0m Trial 102 finished with value: -0.7029452208250064 and parameters: {'qual_th': 0.2323254158980789, 'int_th': 658.303970241359}. Best is trial 54 with value: -0.7209405835073981.\u001b[0m\n",
      "\u001b[32m[I 2021-10-01 03:30:34,081]\u001b[0m Trial 103 finished with value: -0.7126400187562879 and parameters: {'qual_th': 0.18763641458060196, 'int_th': 440.0160415247956}. Best is trial 54 with value: -0.7209405835073981.\u001b[0m\n",
      "\u001b[32m[I 2021-10-01 03:30:34,705]\u001b[0m Trial 104 finished with value: -0.6159454789398642 and parameters: {'qual_th': 0.25267512707736084, 'int_th': 987.2650795864142}. Best is trial 54 with value: -0.7209405835073981.\u001b[0m\n",
      "\u001b[32m[I 2021-10-01 03:30:36,688]\u001b[0m Trial 105 finished with value: -0.6675112487328969 and parameters: {'qual_th': 0.14884887443054667, 'int_th': 312.0362132520972}. Best is trial 54 with value: -0.7209405835073981.\u001b[0m\n",
      "\u001b[32m[I 2021-10-01 03:30:37,662]\u001b[0m Trial 106 finished with value: -0.7039715173560257 and parameters: {'qual_th': 0.22715720436988132, 'int_th': 660.4070493819515}. Best is trial 54 with value: -0.7209405835073981.\u001b[0m\n",
      "\u001b[32m[I 2021-10-01 03:30:39,046]\u001b[0m Trial 107 finished with value: -0.7167165942483605 and parameters: {'qual_th': 0.2051881549652072, 'int_th': 411.4455066034639}. Best is trial 54 with value: -0.7209405835073981.\u001b[0m\n",
      "\u001b[32m[I 2021-10-01 03:30:40,007]\u001b[0m Trial 108 finished with value: -0.7155401336674724 and parameters: {'qual_th': 0.2697842565313185, 'int_th': 479.4217191375866}. Best is trial 54 with value: -0.7209405835073981.\u001b[0m\n",
      "\u001b[32m[I 2021-10-01 03:30:40,052]\u001b[0m Trial 109 finished with value: -0.05293682001636673 and parameters: {'qual_th': 0.3256569357496279, 'int_th': 6253.040878662182}. Best is trial 54 with value: -0.7209405835073981.\u001b[0m\n",
      "\u001b[32m[I 2021-10-01 03:30:40,280]\u001b[0m Trial 110 finished with value: -0.3877123765645807 and parameters: {'qual_th': 0.6496037759900946, 'int_th': 894.1353539484311}. Best is trial 54 with value: -0.7209405835073981.\u001b[0m\n",
      "\u001b[32m[I 2021-10-01 03:30:41,219]\u001b[0m Trial 111 finished with value: -0.7166762673588859 and parameters: {'qual_th': 0.262759569665083, 'int_th': 507.0536874828099}. Best is trial 54 with value: -0.7209405835073981.\u001b[0m\n",
      "\u001b[32m[I 2021-10-01 03:30:42,166]\u001b[0m Trial 112 finished with value: -0.7172961603570668 and parameters: {'qual_th': 0.2622937420895915, 'int_th': 493.5620329785972}. Best is trial 54 with value: -0.7209405835073981.\u001b[0m\n"
     ]
    },
    {
     "name": "stderr",
     "output_type": "stream",
     "text": [
      "\u001b[32m[I 2021-10-01 03:30:42,928]\u001b[0m Trial 113 finished with value: -0.6813251430953751 and parameters: {'qual_th': 0.26397960510168333, 'int_th': 750.9921446004751}. Best is trial 54 with value: -0.7209405835073981.\u001b[0m\n",
      "\u001b[32m[I 2021-10-01 03:30:42,998]\u001b[0m Trial 114 finished with value: -0.14091806167526993 and parameters: {'qual_th': 0.3100467249540083, 'int_th': 4005.7481998629564}. Best is trial 54 with value: -0.7209405835073981.\u001b[0m\n",
      "\u001b[32m[I 2021-10-01 03:30:43,204]\u001b[0m Trial 115 finished with value: -0.3584304020004806 and parameters: {'qual_th': 0.7072977233153633, 'int_th': 445.6038734021905}. Best is trial 54 with value: -0.7209405835073981.\u001b[0m\n",
      "\u001b[32m[I 2021-10-01 03:30:43,799]\u001b[0m Trial 116 finished with value: -0.6136554726852873 and parameters: {'qual_th': 0.2814641977898716, 'int_th': 991.4602510832531}. Best is trial 54 with value: -0.7209405835073981.\u001b[0m\n",
      "\u001b[32m[I 2021-10-01 03:30:44,578]\u001b[0m Trial 117 finished with value: -0.6331042237547715 and parameters: {'qual_th': 0.3603609310121186, 'int_th': 126.91192019296278}. Best is trial 54 with value: -0.7209405835073981.\u001b[0m\n",
      "\u001b[32m[I 2021-10-01 03:30:45,551]\u001b[0m Trial 118 finished with value: -0.7172840757590532 and parameters: {'qual_th': 0.2553376196056116, 'int_th': 504.8694233362129}. Best is trial 54 with value: -0.7209405835073981.\u001b[0m\n",
      "\u001b[32m[I 2021-10-01 03:30:46,087]\u001b[0m Trial 119 finished with value: -0.5866634427861472 and parameters: {'qual_th': 0.24814130484354008, 'int_th': 1093.8263956356507}. Best is trial 54 with value: -0.7209405835073981.\u001b[0m\n",
      "\u001b[32m[I 2021-10-01 03:30:46,836]\u001b[0m Trial 120 finished with value: -0.6806543224121782 and parameters: {'qual_th': 0.2882195961154639, 'int_th': 715.7012469776664}. Best is trial 54 with value: -0.7209405835073981.\u001b[0m\n",
      "\u001b[32m[I 2021-10-01 03:30:47,807]\u001b[0m Trial 121 finished with value: -0.7197393823353667 and parameters: {'qual_th': 0.255249161590638, 'int_th': 474.2092205631408}. Best is trial 54 with value: -0.7209405835073981.\u001b[0m\n",
      "\u001b[32m[I 2021-10-01 03:30:49,430]\u001b[0m Trial 122 finished with value: -0.6920359202173026 and parameters: {'qual_th': 0.19834250931981898, 'int_th': 237.48480690294542}. Best is trial 54 with value: -0.7209405835073981.\u001b[0m\n",
      "\u001b[32m[I 2021-10-01 03:30:50,339]\u001b[0m Trial 123 finished with value: -0.707471978115903 and parameters: {'qual_th': 0.2447776037111576, 'int_th': 626.5760141516066}. Best is trial 54 with value: -0.7209405835073981.\u001b[0m\n",
      "\u001b[32m[I 2021-10-01 03:30:51,728]\u001b[0m Trial 124 finished with value: -0.7103274410090799 and parameters: {'qual_th': 0.17842958633967432, 'int_th': 455.83724372278476}. Best is trial 54 with value: -0.7209405835073981.\u001b[0m\n",
      "\u001b[32m[I 2021-10-01 03:30:52,424]\u001b[0m Trial 125 finished with value: -0.6516933891457305 and parameters: {'qual_th': 0.25973235533721845, 'int_th': 865.4391093720708}. Best is trial 54 with value: -0.7209405835073981.\u001b[0m\n",
      "\u001b[32m[I 2021-10-01 03:30:52,751]\u001b[0m Trial 126 finished with value: -0.46467489984878413 and parameters: {'qual_th': 0.5669103528003292, 'int_th': 561.0515506909461}. Best is trial 54 with value: -0.7209405835073981.\u001b[0m\n",
      "\u001b[32m[I 2021-10-01 03:30:54,039]\u001b[0m Trial 127 finished with value: -0.7083288517884263 and parameters: {'qual_th': 0.2299170947855897, 'int_th': 273.2621660264896}. Best is trial 54 with value: -0.7209405835073981.\u001b[0m\n",
      "\u001b[32m[I 2021-10-01 03:30:54,452]\u001b[0m Trial 128 finished with value: -0.5274591035523772 and parameters: {'qual_th': 0.29906681646102073, 'int_th': 1308.1695379462737}. Best is trial 54 with value: -0.7209405835073981.\u001b[0m\n",
      "\u001b[32m[I 2021-10-01 03:30:55,157]\u001b[0m Trial 129 finished with value: -0.6673001385603958 and parameters: {'qual_th': 0.34344203808290297, 'int_th': 421.83439015049896}. Best is trial 54 with value: -0.7209405835073981.\u001b[0m\n",
      "\u001b[32m[I 2021-10-01 03:30:56,028]\u001b[0m Trial 130 finished with value: -0.6788969498350766 and parameters: {'qual_th': 0.20738238194838324, 'int_th': 759.1722905446615}. Best is trial 54 with value: -0.7209405835073981.\u001b[0m\n",
      "\u001b[32m[I 2021-10-01 03:30:56,937]\u001b[0m Trial 131 finished with value: -0.7150132951727446 and parameters: {'qual_th': 0.26982433027661495, 'int_th': 497.9325609824657}. Best is trial 54 with value: -0.7209405835073981.\u001b[0m\n",
      "\u001b[32m[I 2021-10-01 03:30:58,248]\u001b[0m Trial 132 finished with value: -0.6859312236673439 and parameters: {'qual_th': 0.24984164010713716, 'int_th': 133.04738670572596}. Best is trial 54 with value: -0.7209405835073981.\u001b[0m\n",
      "\u001b[32m[I 2021-10-01 03:30:59,195]\u001b[0m Trial 133 finished with value: -0.7141215508647236 and parameters: {'qual_th': 0.2760608818602322, 'int_th': 399.2573110639013}. Best is trial 54 with value: -0.7209405835073981.\u001b[0m\n",
      "\u001b[32m[I 2021-10-01 03:31:00,130]\u001b[0m Trial 134 finished with value: -0.7089612168650358 and parameters: {'qual_th': 0.24012980782075644, 'int_th': 621.4176086833108}. Best is trial 54 with value: -0.7209405835073981.\u001b[0m\n",
      "\u001b[32m[I 2021-10-01 03:31:00,738]\u001b[0m Trial 135 finished with value: -0.6249245837875598 and parameters: {'qual_th': 0.3175163742942544, 'int_th': 916.4275651635969}. Best is trial 54 with value: -0.7209405835073981.\u001b[0m\n",
      "\u001b[32m[I 2021-10-01 03:31:02,363]\u001b[0m Trial 136 finished with value: -0.6936909645631714 and parameters: {'qual_th': 0.18924936702590273, 'int_th': 276.1649593021865}. Best is trial 54 with value: -0.7209405835073981.\u001b[0m\n",
      "\u001b[32m[I 2021-10-01 03:31:03,251]\u001b[0m Trial 137 finished with value: -0.6906955161055846 and parameters: {'qual_th': 0.21897566770372262, 'int_th': 716.7747915484148}. Best is trial 54 with value: -0.7209405835073981.\u001b[0m\n",
      "\u001b[32m[I 2021-10-01 03:31:04,173]\u001b[0m Trial 138 finished with value: -0.716317781512252 and parameters: {'qual_th': 0.26492195569704546, 'int_th': 513.1376211069196}. Best is trial 54 with value: -0.7209405835073981.\u001b[0m\n",
      "\u001b[32m[I 2021-10-01 03:31:04,231]\u001b[0m Trial 139 finished with value: -0.10463968152419344 and parameters: {'qual_th': 0.29127631188186137, 'int_th': 4634.999044924823}. Best is trial 54 with value: -0.7209405835073981.\u001b[0m\n",
      "\u001b[32m[I 2021-10-01 03:31:04,718]\u001b[0m Trial 140 finished with value: -0.5632406151574216 and parameters: {'qual_th': 0.2023577613373163, 'int_th': 1182.4586604189685}. Best is trial 54 with value: -0.7209405835073981.\u001b[0m\n",
      "\u001b[32m[I 2021-10-01 03:31:05,682]\u001b[0m Trial 141 finished with value: -0.7173287111726261 and parameters: {'qual_th': 0.2616606196890776, 'int_th': 496.2975778295397}. Best is trial 54 with value: -0.7209405835073981.\u001b[0m\n",
      "\u001b[32m[I 2021-10-01 03:31:06,643]\u001b[0m Trial 142 finished with value: -0.7128998564984442 and parameters: {'qual_th': 0.2553006638793514, 'int_th': 566.1853487106757}. Best is trial 54 with value: -0.7209405835073981.\u001b[0m\n",
      "\u001b[32m[I 2021-10-01 03:31:07,933]\u001b[0m Trial 143 finished with value: -0.7187058795200113 and parameters: {'qual_th': 0.22457255470282728, 'int_th': 353.153896586569}. Best is trial 54 with value: -0.7209405835073981.\u001b[0m\n",
      "\u001b[32m[I 2021-10-01 03:31:09,316]\u001b[0m Trial 144 finished with value: -0.7096636260616417 and parameters: {'qual_th': 0.22566101324217547, 'int_th': 281.42765223126713}. Best is trial 54 with value: -0.7209405835073981.\u001b[0m\n",
      "\u001b[32m[I 2021-10-01 03:31:10,170]\u001b[0m Trial 145 finished with value: -0.6777777619233272 and parameters: {'qual_th': 0.2397757116301568, 'int_th': 770.6650653479732}. Best is trial 54 with value: -0.7209405835073981.\u001b[0m\n",
      "\u001b[32m[I 2021-10-01 03:31:11,889]\u001b[0m Trial 146 finished with value: -0.6956781975111649 and parameters: {'qual_th': 0.16771258239187203, 'int_th': 368.1687785867762}. Best is trial 54 with value: -0.7209405835073981.\u001b[0m\n",
      "\u001b[32m[I 2021-10-01 03:31:12,555]\u001b[0m Trial 147 finished with value: -0.6198052571881915 and parameters: {'qual_th': 0.2175421670118623, 'int_th': 978.069936488809}. Best is trial 54 with value: -0.7209405835073981.\u001b[0m\n",
      "\u001b[32m[I 2021-10-01 03:31:14,335]\u001b[0m Trial 148 finished with value: -0.6729035254890252 and parameters: {'qual_th': 0.18855371897488152, 'int_th': 181.20976298190985}. Best is trial 54 with value: -0.7209405835073981.\u001b[0m\n",
      "\u001b[32m[I 2021-10-01 03:31:15,239]\u001b[0m Trial 149 finished with value: -0.6963022905690902 and parameters: {'qual_th': 0.23689083440535108, 'int_th': 696.1625804882418}. Best is trial 54 with value: -0.7209405835073981.\u001b[0m\n",
      "\u001b[32m[I 2021-10-01 03:31:16,561]\u001b[0m Trial 150 finished with value: -0.7173587175222877 and parameters: {'qual_th': 0.207687562879251, 'int_th': 392.73609661711464}. Best is trial 54 with value: -0.7209405835073981.\u001b[0m\n"
     ]
    },
    {
     "name": "stderr",
     "output_type": "stream",
     "text": [
      "\u001b[32m[I 2021-10-01 03:31:17,932]\u001b[0m Trial 151 finished with value: -0.7164449022576923 and parameters: {'qual_th': 0.2050031284312384, 'int_th': 383.6048645249299}. Best is trial 54 with value: -0.7209405835073981.\u001b[0m\n",
      "\u001b[32m[I 2021-10-01 03:31:19,178]\u001b[0m Trial 152 finished with value: -0.718187714758558 and parameters: {'qual_th': 0.22435489299243866, 'int_th': 346.1492688892358}. Best is trial 54 with value: -0.7209405835073981.\u001b[0m\n"
     ]
    },
    {
     "ename": "KeyboardInterrupt",
     "evalue": "",
     "output_type": "error",
     "traceback": [
      "\u001b[0;31m---------------------------------------------------------------------------\u001b[0m",
      "\u001b[0;31mKeyboardInterrupt\u001b[0m                         Traceback (most recent call last)",
      "\u001b[0;32m/tmp/ipykernel_7916/3379424561.py\u001b[0m in \u001b[0;36m<module>\u001b[0;34m\u001b[0m\n\u001b[1;32m     23\u001b[0m \u001b[0;34m\u001b[0m\u001b[0m\n\u001b[1;32m     24\u001b[0m \u001b[0mstudy\u001b[0m \u001b[0;34m=\u001b[0m \u001b[0moptuna\u001b[0m\u001b[0;34m.\u001b[0m\u001b[0mcreate_study\u001b[0m\u001b[0;34m(\u001b[0m\u001b[0;34m)\u001b[0m\u001b[0;34m\u001b[0m\u001b[0;34m\u001b[0m\u001b[0m\n\u001b[0;32m---> 25\u001b[0;31m \u001b[0mstudy\u001b[0m\u001b[0;34m.\u001b[0m\u001b[0moptimize\u001b[0m\u001b[0;34m(\u001b[0m\u001b[0mobjective\u001b[0m\u001b[0;34m,\u001b[0m \u001b[0mn_trials\u001b[0m\u001b[0;34m=\u001b[0m\u001b[0;36m200\u001b[0m\u001b[0;34m)\u001b[0m\u001b[0;34m\u001b[0m\u001b[0;34m\u001b[0m\u001b[0m\n\u001b[0m\u001b[1;32m     26\u001b[0m \u001b[0;34m\u001b[0m\u001b[0m\n\u001b[1;32m     27\u001b[0m \u001b[0mprint\u001b[0m\u001b[0;34m(\u001b[0m\u001b[0mstudy\u001b[0m\u001b[0;34m.\u001b[0m\u001b[0mbest_params\u001b[0m\u001b[0;34m)\u001b[0m\u001b[0;34m\u001b[0m\u001b[0;34m\u001b[0m\u001b[0m\n",
      "\u001b[0;32m~/anaconda3/envs/decode_fish_dev2/lib/python3.7/site-packages/optuna/study/study.py\u001b[0m in \u001b[0;36moptimize\u001b[0;34m(self, func, n_trials, timeout, n_jobs, catch, callbacks, gc_after_trial, show_progress_bar)\u001b[0m\n\u001b[1;32m    407\u001b[0m             \u001b[0mcallbacks\u001b[0m\u001b[0;34m=\u001b[0m\u001b[0mcallbacks\u001b[0m\u001b[0;34m,\u001b[0m\u001b[0;34m\u001b[0m\u001b[0;34m\u001b[0m\u001b[0m\n\u001b[1;32m    408\u001b[0m             \u001b[0mgc_after_trial\u001b[0m\u001b[0;34m=\u001b[0m\u001b[0mgc_after_trial\u001b[0m\u001b[0;34m,\u001b[0m\u001b[0;34m\u001b[0m\u001b[0;34m\u001b[0m\u001b[0m\n\u001b[0;32m--> 409\u001b[0;31m             \u001b[0mshow_progress_bar\u001b[0m\u001b[0;34m=\u001b[0m\u001b[0mshow_progress_bar\u001b[0m\u001b[0;34m,\u001b[0m\u001b[0;34m\u001b[0m\u001b[0;34m\u001b[0m\u001b[0m\n\u001b[0m\u001b[1;32m    410\u001b[0m         )\n\u001b[1;32m    411\u001b[0m \u001b[0;34m\u001b[0m\u001b[0m\n",
      "\u001b[0;32m~/anaconda3/envs/decode_fish_dev2/lib/python3.7/site-packages/optuna/study/_optimize.py\u001b[0m in \u001b[0;36m_optimize\u001b[0;34m(study, func, n_trials, timeout, n_jobs, catch, callbacks, gc_after_trial, show_progress_bar)\u001b[0m\n\u001b[1;32m     74\u001b[0m                 \u001b[0mreseed_sampler_rng\u001b[0m\u001b[0;34m=\u001b[0m\u001b[0;32mFalse\u001b[0m\u001b[0;34m,\u001b[0m\u001b[0;34m\u001b[0m\u001b[0;34m\u001b[0m\u001b[0m\n\u001b[1;32m     75\u001b[0m                 \u001b[0mtime_start\u001b[0m\u001b[0;34m=\u001b[0m\u001b[0;32mNone\u001b[0m\u001b[0;34m,\u001b[0m\u001b[0;34m\u001b[0m\u001b[0;34m\u001b[0m\u001b[0m\n\u001b[0;32m---> 76\u001b[0;31m                 \u001b[0mprogress_bar\u001b[0m\u001b[0;34m=\u001b[0m\u001b[0mprogress_bar\u001b[0m\u001b[0;34m,\u001b[0m\u001b[0;34m\u001b[0m\u001b[0;34m\u001b[0m\u001b[0m\n\u001b[0m\u001b[1;32m     77\u001b[0m             )\n\u001b[1;32m     78\u001b[0m         \u001b[0;32melse\u001b[0m\u001b[0;34m:\u001b[0m\u001b[0;34m\u001b[0m\u001b[0;34m\u001b[0m\u001b[0m\n",
      "\u001b[0;32m~/anaconda3/envs/decode_fish_dev2/lib/python3.7/site-packages/optuna/study/_optimize.py\u001b[0m in \u001b[0;36m_optimize_sequential\u001b[0;34m(study, func, n_trials, timeout, catch, callbacks, gc_after_trial, reseed_sampler_rng, time_start, progress_bar)\u001b[0m\n\u001b[1;32m    161\u001b[0m \u001b[0;34m\u001b[0m\u001b[0m\n\u001b[1;32m    162\u001b[0m         \u001b[0;32mtry\u001b[0m\u001b[0;34m:\u001b[0m\u001b[0;34m\u001b[0m\u001b[0;34m\u001b[0m\u001b[0m\n\u001b[0;32m--> 163\u001b[0;31m             \u001b[0mtrial\u001b[0m \u001b[0;34m=\u001b[0m \u001b[0m_run_trial\u001b[0m\u001b[0;34m(\u001b[0m\u001b[0mstudy\u001b[0m\u001b[0;34m,\u001b[0m \u001b[0mfunc\u001b[0m\u001b[0;34m,\u001b[0m \u001b[0mcatch\u001b[0m\u001b[0;34m)\u001b[0m\u001b[0;34m\u001b[0m\u001b[0;34m\u001b[0m\u001b[0m\n\u001b[0m\u001b[1;32m    164\u001b[0m         \u001b[0;32mexcept\u001b[0m \u001b[0mException\u001b[0m\u001b[0;34m:\u001b[0m\u001b[0;34m\u001b[0m\u001b[0;34m\u001b[0m\u001b[0m\n\u001b[1;32m    165\u001b[0m             \u001b[0;32mraise\u001b[0m\u001b[0;34m\u001b[0m\u001b[0;34m\u001b[0m\u001b[0m\n",
      "\u001b[0;32m~/anaconda3/envs/decode_fish_dev2/lib/python3.7/site-packages/optuna/study/_optimize.py\u001b[0m in \u001b[0;36m_run_trial\u001b[0;34m(study, func, catch)\u001b[0m\n\u001b[1;32m    211\u001b[0m \u001b[0;34m\u001b[0m\u001b[0m\n\u001b[1;32m    212\u001b[0m     \u001b[0;32mtry\u001b[0m\u001b[0;34m:\u001b[0m\u001b[0;34m\u001b[0m\u001b[0;34m\u001b[0m\u001b[0m\n\u001b[0;32m--> 213\u001b[0;31m         \u001b[0mvalue_or_values\u001b[0m \u001b[0;34m=\u001b[0m \u001b[0mfunc\u001b[0m\u001b[0;34m(\u001b[0m\u001b[0mtrial\u001b[0m\u001b[0;34m)\u001b[0m\u001b[0;34m\u001b[0m\u001b[0;34m\u001b[0m\u001b[0m\n\u001b[0m\u001b[1;32m    214\u001b[0m     \u001b[0;32mexcept\u001b[0m \u001b[0mexceptions\u001b[0m\u001b[0;34m.\u001b[0m\u001b[0mTrialPruned\u001b[0m \u001b[0;32mas\u001b[0m \u001b[0me\u001b[0m\u001b[0;34m:\u001b[0m\u001b[0;34m\u001b[0m\u001b[0;34m\u001b[0m\u001b[0m\n\u001b[1;32m    215\u001b[0m         \u001b[0;31m# TODO(mamu): Handle multi-objective cases.\u001b[0m\u001b[0;34m\u001b[0m\u001b[0;34m\u001b[0m\u001b[0;34m\u001b[0m\u001b[0m\n",
      "\u001b[0;32m/tmp/ipykernel_7916/3379424561.py\u001b[0m in \u001b[0;36mobjective\u001b[0;34m(trial)\u001b[0m\n\u001b[1;32m     18\u001b[0m \u001b[0;34m\u001b[0m\u001b[0m\n\u001b[1;32m     19\u001b[0m     \u001b[0msub_df\u001b[0m \u001b[0;34m=\u001b[0m \u001b[0mistd_df\u001b[0m\u001b[0;34m[\u001b[0m\u001b[0;34m(\u001b[0m\u001b[0mistd_df\u001b[0m\u001b[0;34m[\u001b[0m\u001b[0;34m'intensity'\u001b[0m\u001b[0;34m]\u001b[0m \u001b[0;34m>\u001b[0m \u001b[0mint_th\u001b[0m\u001b[0;34m)\u001b[0m \u001b[0;34m&\u001b[0m \u001b[0;34m(\u001b[0m\u001b[0mistd_df\u001b[0m\u001b[0;34m[\u001b[0m\u001b[0;34m'quality'\u001b[0m\u001b[0;34m]\u001b[0m \u001b[0;34m>\u001b[0m \u001b[0mqual_th\u001b[0m\u001b[0;34m)\u001b[0m\u001b[0;34m]\u001b[0m\u001b[0;34m\u001b[0m\u001b[0;34m\u001b[0m\u001b[0m\n\u001b[0;32m---> 20\u001b[0;31m     \u001b[0mperf\u001b[0m\u001b[0;34m,\u001b[0m \u001b[0mmatches\u001b[0m\u001b[0;34m,\u001b[0m \u001b[0m_\u001b[0m  \u001b[0;34m=\u001b[0m \u001b[0mmatching\u001b[0m\u001b[0;34m(\u001b[0m\u001b[0mgt_df\u001b[0m\u001b[0;34m,\u001b[0m \u001b[0msub_df\u001b[0m\u001b[0;34m,\u001b[0m \u001b[0mmatch_genes\u001b[0m\u001b[0;34m=\u001b[0m\u001b[0;32mTrue\u001b[0m\u001b[0;34m,\u001b[0m \u001b[0mprint_res\u001b[0m\u001b[0;34m=\u001b[0m\u001b[0;32mFalse\u001b[0m\u001b[0;34m)\u001b[0m\u001b[0;34m\u001b[0m\u001b[0;34m\u001b[0m\u001b[0m\n\u001b[0m\u001b[1;32m     21\u001b[0m \u001b[0;34m\u001b[0m\u001b[0m\n\u001b[1;32m     22\u001b[0m     \u001b[0;32mreturn\u001b[0m \u001b[0;34m-\u001b[0m\u001b[0mperf\u001b[0m\u001b[0;34m[\u001b[0m\u001b[0;34m'jaccard'\u001b[0m\u001b[0;34m]\u001b[0m\u001b[0;34m\u001b[0m\u001b[0;34m\u001b[0m\u001b[0m\n",
      "\u001b[0;32m~/Dropbox (mackelab)/Artur/WorkDB/deepstorm/decode_fish/decode_fish/funcs/evaluation.py\u001b[0m in \u001b[0;36mmatching\u001b[0;34m(target_df, pred_df, tolerance, print_res, eff_const, match_genes)\u001b[0m\n\u001b[1;32m     88\u001b[0m                 \u001b[0;32mfor\u001b[0m \u001b[0md\u001b[0m\u001b[0;34m,\u001b[0m\u001b[0mp\u001b[0m\u001b[0;34m,\u001b[0m\u001b[0mt\u001b[0m \u001b[0;32min\u001b[0m \u001b[0mzip\u001b[0m\u001b[0;34m(\u001b[0m\u001b[0mdists\u001b[0m\u001b[0;34m,\u001b[0m \u001b[0mp_inds\u001b[0m\u001b[0;34m,\u001b[0m \u001b[0mt_inds\u001b[0m\u001b[0;34m)\u001b[0m\u001b[0;34m:\u001b[0m\u001b[0;34m\u001b[0m\u001b[0;34m\u001b[0m\u001b[0m\n\u001b[1;32m     89\u001b[0m \u001b[0;34m\u001b[0m\u001b[0m\n\u001b[0;32m---> 90\u001b[0;31m                     \u001b[0;32mif\u001b[0m \u001b[0mp\u001b[0m \u001b[0;32mnot\u001b[0m \u001b[0;32min\u001b[0m \u001b[0mu_p_inds\u001b[0m \u001b[0;32mand\u001b[0m \u001b[0mt\u001b[0m \u001b[0;32mnot\u001b[0m \u001b[0;32min\u001b[0m \u001b[0mu_t_inds\u001b[0m\u001b[0;34m:\u001b[0m\u001b[0;34m\u001b[0m\u001b[0;34m\u001b[0m\u001b[0m\n\u001b[0m\u001b[1;32m     91\u001b[0m \u001b[0;34m\u001b[0m\u001b[0m\n\u001b[1;32m     92\u001b[0m                         \u001b[0;32mif\u001b[0m \u001b[0mmatch_genes\u001b[0m\u001b[0;34m:\u001b[0m\u001b[0;34m\u001b[0m\u001b[0;34m\u001b[0m\u001b[0m\n",
      "\u001b[0;31mKeyboardInterrupt\u001b[0m: "
     ]
    }
   ],
   "source": [
    "istd_df = get_istdeco_df(cpu(xsimn), code_ref.reshape([140,8,2], order='F'), psf_sig=(1.7, 1.7), n_iter=400)\n",
    "# istd_df = exclude_borders(istd_df, border_size_zyx=[0,500,500], img_size=[crop_sz*100,crop_sz*100,crop_sz*100])\n",
    "\n",
    "q_max = 0.3*istd_df['quality'].max()\n",
    "i_max = 0.3*istd_df['intensity'].max()\n",
    "i_min = istd_df['intensity'].min()\n",
    "\n",
    "def objective(trial):\n",
    "    \n",
    "    n_iter = 400 # trial.suggest_uniform('n_iter', 50, 500)\n",
    "    psf_s = 1.7 # trial.suggest_uniform('psf_s', 1.5, 1.7)\n",
    "    \n",
    "#     istd_df = get_istdeco_df(xsimn, code_ref.reshape([140,8,2], order='F'), psf_sig=(psf_s, psf_s), n_iter=int(n_iter))\n",
    "#     istd_df = exclude_borders(istd_df, border_size_zyx=[0,500,500], img_size=[crop_sz*100,crop_sz*100,crop_sz*100])\n",
    "    \n",
    "    qual_th = trial.suggest_uniform('qual_th', 0.1, q_max)\n",
    "    int_th = trial.suggest_uniform('int_th', i_min, i_max)\n",
    "    \n",
    "    sub_df = istd_df[(istd_df['intensity'] > int_th) & (istd_df['quality'] > qual_th)]\n",
    "    perf, matches, _  = matching(gt_df, sub_df, match_genes=True, print_res=False) \n",
    "    \n",
    "    return -perf['jaccard']\n",
    "\n",
    "study = optuna.create_study()\n",
    "study.optimize(objective, n_trials=200)\n",
    "\n",
    "print(study.best_params)\n",
    "print('Jaccard ', -study.best_value)"
   ]
  },
  {
   "cell_type": "code",
   "execution_count": null,
   "id": "interesting-treasurer",
   "metadata": {},
   "outputs": [
    {
     "name": "stdout",
     "output_type": "stream",
     "text": [
      "Recall: 0.869\n",
      "Precision: 0.968\n",
      "Jaccard: 84.467\n",
      "RMSE_vol: 79.542\n",
      "Eff_3d: 57.303\n",
      "FN: 1077.0 FP: 232.0\n",
      "Num. matches: 7118.000\n",
      "Shift: -0.36,-0.82,0.00\n",
      "------- 0.829025007024445\n",
      "Recall: 0.792\n",
      "Precision: 0.883\n",
      "Jaccard: 71.692\n",
      "RMSE_vol: 52.328\n",
      "Eff_3d: 61.453\n",
      "FN: 1704.0 FP: 859.0\n",
      "Num. matches: 6491.000\n",
      "Shift: -0.06,-0.42,0.00\n"
     ]
    }
   ],
   "source": [
    "sub_df = istd_df[(istd_df['intensity'] > study.best_params['int_th']) & (istd_df['quality'] > study.best_params['qual_th'])]\n",
    "perf, matches, _  = matching(gt_df, sub_df, match_genes=False)\n",
    "print(f'-------', sum(matches['code_inds_pred'] == matches['code_inds_tar'])/len(matches))\n",
    "perf, matches, _  = matching(gt_df, sub_df, match_genes=True)"
   ]
  },
  {
   "cell_type": "code",
   "execution_count": null,
   "id": "unlike-cross",
   "metadata": {},
   "outputs": [],
   "source": [
    "# export\n",
    "def get_bardensr_tensor(sim_data, codebook, bg=100., n_iter=400, l1_pen=0., psf_r=0):\n",
    "    \n",
    "    bard_results = pd.DataFrame()\n",
    "    evd_tensors = []\n",
    "    codeflat = codebook.T\n",
    "    \n",
    "    for i in range(len(sim_data)):\n",
    "    \n",
    "        image_data = sim_data[i]\n",
    "        Xnorm = image_data - bg\n",
    "#         Xnorm /= Xnorm.max()\n",
    "        \n",
    "#         Xnorm = bardensr.preprocessing.minmax(image_data - bg)\n",
    "\n",
    "#         Xnorm = bardensr.preprocessing.minmax(image_data)\n",
    "#         Xnorm = bardensr.preprocessing.background_subtraction(Xnorm,[0,10,10])\n",
    "        Xnorm = bardensr.preprocessing.minmax(Xnorm)\n",
    "\n",
    "        evidence_tensor_iterative,extra_learned_params=\\\n",
    "            bardensr.spot_calling.estimate_density_iterative(Xnorm.astype('float64'),codeflat,l1_penalty=l1_pen,use_tqdm_notebook=True,iterations=n_iter, estimate_codebook_gain=True, psf_radius=(psf_r, psf_r, psf_r))\n",
    "\n",
    "#         evidence_tensor_iterative= bardensr.spot_calling.estimate_density_singleshot(Xnorm.astype('float64'), codeflat, noisefloor=0.05)\n",
    "    \n",
    "        evd_tensors.append(evidence_tensor_iterative)\n",
    "        \n",
    "    return evd_tensors\n",
    "\n",
    "def get_bardensr_df(evd_tensors, th, ps=1.0):\n",
    "    \n",
    "    bard_results = pd.DataFrame()\n",
    "\n",
    "    for i in range(len(evd_tensors)):    \n",
    "    #     thresh_iterative=evd_tensors[i].max()*.1\n",
    "        result_iterative=bardensr.spot_calling.find_peaks(evd_tensors[i],th, poolsize=(ps,ps,ps))\n",
    "\n",
    "        code_inds = np.array(result_iterative.j.values, dtype=np.int16)\n",
    "        df = pd.DataFrame(data={\n",
    "                    'frame_idx': i,\n",
    "                    'x': result_iterative.m2.values + 0.5, \n",
    "                    'y': result_iterative.m1.values + 0.5,\n",
    "                    'z': 0.5,\n",
    "                    'intensity': result_iterative.int.values,\n",
    "                    'code_inds': code_inds\n",
    "            })\n",
    "\n",
    "        bard_results = bard_results.append(df)\n",
    "\n",
    "    bard_results = px_to_nm(bard_results)\n",
    "    return bard_results"
   ]
  },
  {
   "cell_type": "code",
   "execution_count": null,
   "id": "still-highway",
   "metadata": {},
   "outputs": [
    {
     "name": "stderr",
     "output_type": "stream",
     "text": [
      "2021-09-25 11:24:06.459223: I tensorflow/compiler/jit/xla_cpu_device.cc:41] Not creating XLA devices, tf_xla_enable_xla_devices not set\n",
      "2021-09-25 11:24:06.460009: I tensorflow/stream_executor/platform/default/dso_loader.cc:49] Successfully opened dynamic library libcuda.so.1\n",
      "2021-09-25 11:24:06.461228: I tensorflow/core/common_runtime/gpu/gpu_device.cc:1720] Found device 0 with properties: \n",
      "pciBusID: 0000:04:00.0 name: TITAN V computeCapability: 7.0\n",
      "coreClock: 1.455GHz coreCount: 80 deviceMemorySize: 11.78GiB deviceMemoryBandwidth: 607.97GiB/s\n",
      "2021-09-25 11:24:06.461275: I tensorflow/stream_executor/platform/default/dso_loader.cc:49] Successfully opened dynamic library libcudart.so.10.1\n",
      "2021-09-25 11:24:06.461340: I tensorflow/stream_executor/platform/default/dso_loader.cc:49] Successfully opened dynamic library libcublas.so.10\n",
      "2021-09-25 11:24:06.461381: I tensorflow/stream_executor/platform/default/dso_loader.cc:49] Successfully opened dynamic library libcublasLt.so.10\n",
      "2021-09-25 11:24:06.461420: I tensorflow/stream_executor/platform/default/dso_loader.cc:49] Successfully opened dynamic library libcufft.so.10\n",
      "2021-09-25 11:24:06.461457: I tensorflow/stream_executor/platform/default/dso_loader.cc:49] Successfully opened dynamic library libcurand.so.10\n",
      "2021-09-25 11:24:06.461504: I tensorflow/stream_executor/platform/default/dso_loader.cc:49] Successfully opened dynamic library libcusolver.so.10\n",
      "2021-09-25 11:24:06.461546: I tensorflow/stream_executor/platform/default/dso_loader.cc:49] Successfully opened dynamic library libcusparse.so.10\n",
      "2021-09-25 11:24:06.466318: I tensorflow/stream_executor/platform/default/dso_loader.cc:49] Successfully opened dynamic library libcudnn.so.7\n",
      "2021-09-25 11:24:06.468228: I tensorflow/core/common_runtime/gpu/gpu_device.cc:1862] Adding visible gpu devices: 0\n",
      "2021-09-25 11:24:06.468910: I tensorflow/core/platform/cpu_feature_guard.cc:142] This TensorFlow binary is optimized with oneAPI Deep Neural Network Library (oneDNN) to use the following CPU instructions in performance-critical operations:  SSE4.1 SSE4.2 AVX AVX2 FMA\n",
      "To enable them in other operations, rebuild TensorFlow with the appropriate compiler flags.\n",
      "2021-09-25 11:24:06.476972: I tensorflow/core/common_runtime/gpu/gpu_device.cc:1720] Found device 0 with properties: \n",
      "pciBusID: 0000:04:00.0 name: TITAN V computeCapability: 7.0\n",
      "coreClock: 1.455GHz coreCount: 80 deviceMemorySize: 11.78GiB deviceMemoryBandwidth: 607.97GiB/s\n",
      "2021-09-25 11:24:06.477059: I tensorflow/stream_executor/platform/default/dso_loader.cc:49] Successfully opened dynamic library libcudart.so.10.1\n",
      "2021-09-25 11:24:06.477103: I tensorflow/stream_executor/platform/default/dso_loader.cc:49] Successfully opened dynamic library libcublas.so.10\n",
      "2021-09-25 11:24:06.477141: I tensorflow/stream_executor/platform/default/dso_loader.cc:49] Successfully opened dynamic library libcublasLt.so.10\n",
      "2021-09-25 11:24:06.477176: I tensorflow/stream_executor/platform/default/dso_loader.cc:49] Successfully opened dynamic library libcufft.so.10\n",
      "2021-09-25 11:24:06.477211: I tensorflow/stream_executor/platform/default/dso_loader.cc:49] Successfully opened dynamic library libcurand.so.10\n",
      "2021-09-25 11:24:06.477249: I tensorflow/stream_executor/platform/default/dso_loader.cc:49] Successfully opened dynamic library libcusolver.so.10\n",
      "2021-09-25 11:24:06.477287: I tensorflow/stream_executor/platform/default/dso_loader.cc:49] Successfully opened dynamic library libcusparse.so.10\n",
      "2021-09-25 11:24:06.477352: I tensorflow/stream_executor/platform/default/dso_loader.cc:49] Successfully opened dynamic library libcudnn.so.7\n",
      "2021-09-25 11:24:06.480858: I tensorflow/core/common_runtime/gpu/gpu_device.cc:1862] Adding visible gpu devices: 0\n",
      "2021-09-25 11:24:06.481153: I tensorflow/core/common_runtime/gpu/gpu_device.cc:1261] Device interconnect StreamExecutor with strength 1 edge matrix:\n",
      "2021-09-25 11:24:06.481179: I tensorflow/core/common_runtime/gpu/gpu_device.cc:1267]      0 \n",
      "2021-09-25 11:24:06.481199: I tensorflow/core/common_runtime/gpu/gpu_device.cc:1280] 0:   N \n",
      "2021-09-25 11:24:06.489849: I tensorflow/core/common_runtime/gpu/gpu_device.cc:1406] Created TensorFlow device (/job:localhost/replica:0/task:0/device:GPU:0 with 7399 MB memory) -> physical GPU (device: 0, name: TITAN V, pci bus id: 0000:04:00.0, compute capability: 7.0)\n",
      "2021-09-25 11:24:06.490313: I tensorflow/compiler/jit/xla_gpu_device.cc:99] Not creating XLA devices, tf_xla_enable_xla_devices not set\n",
      "2021-09-25 11:24:06.570243: I tensorflow/compiler/mlir/mlir_graph_optimization_pass.cc:116] None of the MLIR optimization passes are enabled (registered 2)\n",
      "2021-09-25 11:24:06.591780: I tensorflow/core/platform/profile_utils/cpu_utils.cc:112] CPU Frequency: 2593850000 Hz\n"
     ]
    },
    {
     "data": {
      "application/vnd.jupyter.widget-view+json": {
       "model_id": "7635992b054f42609e06fe482cc7df9b",
       "version_major": 2,
       "version_minor": 0
      },
      "text/plain": [
       "  0%|          | 0/100 [00:00<?, ?it/s]"
      ]
     },
     "metadata": {},
     "output_type": "display_data"
    },
    {
     "data": {
      "application/vnd.jupyter.widget-view+json": {
       "model_id": "4f4a3260fd2643e490ba114d5f02f647",
       "version_major": 2,
       "version_minor": 0
      },
      "text/plain": [
       "  0%|          | 0/100 [00:00<?, ?it/s]"
      ]
     },
     "metadata": {},
     "output_type": "display_data"
    },
    {
     "data": {
      "application/vnd.jupyter.widget-view+json": {
       "model_id": "6d3114326d894192a2d7b040d5361897",
       "version_major": 2,
       "version_minor": 0
      },
      "text/plain": [
       "  0%|          | 0/100 [00:00<?, ?it/s]"
      ]
     },
     "metadata": {},
     "output_type": "display_data"
    },
    {
     "data": {
      "application/vnd.jupyter.widget-view+json": {
       "model_id": "77aef814b34b48b289ae8b2193ee9f02",
       "version_major": 2,
       "version_minor": 0
      },
      "text/plain": [
       "  0%|          | 0/100 [00:00<?, ?it/s]"
      ]
     },
     "metadata": {},
     "output_type": "display_data"
    },
    {
     "data": {
      "application/vnd.jupyter.widget-view+json": {
       "model_id": "3643898e81744f89bce619d71f9239fd",
       "version_major": 2,
       "version_minor": 0
      },
      "text/plain": [
       "  0%|          | 0/100 [00:00<?, ?it/s]"
      ]
     },
     "metadata": {},
     "output_type": "display_data"
    }
   ],
   "source": [
    "evd_tensors = get_bardensr_tensor(cpu(xsimn), code_ref, n_iter=100, l1_pen=.01, bg=100., psf_r=0)"
   ]
  },
  {
   "cell_type": "code",
   "execution_count": null,
   "id": "impressed-press",
   "metadata": {},
   "outputs": [
    {
     "name": "stderr",
     "output_type": "stream",
     "text": [
      "2021-09-25 11:24:10.373225: I tensorflow/stream_executor/platform/default/dso_loader.cc:49] Successfully opened dynamic library libcudnn.so.7\n"
     ]
    }
   ],
   "source": [
    "bard_df = get_bardensr_df(evd_tensors, th=.25, ps=1.05)\n",
    "# bard_df = exclude_borders(bard_df, border_size_zyx=[0,500,500], img_size=[crop_sz*100,crop_sz*100,crop_sz*100])"
   ]
  },
  {
   "cell_type": "code",
   "execution_count": null,
   "id": "iraqi-potato",
   "metadata": {},
   "outputs": [
    {
     "data": {
      "text/plain": [
       "8159"
      ]
     },
     "execution_count": null,
     "metadata": {},
     "output_type": "execute_result"
    }
   ],
   "source": [
    "len(bard_df)"
   ]
  },
  {
   "cell_type": "code",
   "execution_count": null,
   "id": "indirect-large",
   "metadata": {},
   "outputs": [
    {
     "name": "stdout",
     "output_type": "stream",
     "text": [
      "Recall: 0.858\n",
      "Precision: 0.850\n",
      "Jaccard: 74.517\n",
      "RMSE_vol: 143.815\n",
      "Eff_3d: 23.711\n",
      "FN: 1149.0 FP: 1223.0\n",
      "Num. matches: 6936.000\n",
      "Shift: -1.75,2.97,0.00\n",
      "------- 0.5641580161476355\n",
      "Recall: 0.623\n",
      "Precision: 0.618\n",
      "Jaccard: 44.984\n",
      "RMSE_vol: 81.173\n",
      "Eff_3d: 31.633\n",
      "FN: 3045.0 FP: 3119.0\n",
      "Num. matches: 5040.000\n",
      "Shift: 0.37,1.18,0.00\n"
     ]
    }
   ],
   "source": [
    "perf, matches, _  = matching(gt_df, bard_df, match_genes=False)\n",
    "print(f'-------', sum(matches['code_inds_pred'] == matches['code_inds_tar'])/len(matches))\n",
    "perf, matches, _  = matching(gt_df, bard_df, match_genes=True)"
   ]
  },
  {
   "cell_type": "code",
   "execution_count": null,
   "id": "secondary-executive",
   "metadata": {},
   "outputs": [],
   "source": [
    "# evd_tensors = get_bardensr_tensor(xsimn, code_ref, n_iter=int(300), l1_pen=0.01)\n",
    "\n",
    "def objective(trial):\n",
    "    \n",
    "#     n_iter = 300\n",
    "#     l1_pen = trial.suggest_uniform('l1_pen', 0., 0.1)\n",
    "    th     = trial.suggest_uniform('th', 0.2, 0.6)\n",
    "    ps     = trial.suggest_uniform('ps', 0.1, 1.5)\n",
    "    \n",
    "#     evd_tensors = get_bardensr_tensor(xsimn, code_ref, n_iter=int(n_iter), l1_pen=l1_pen)\n",
    "#     print(evd_tensors[0].mean())\n",
    "    bard_df = get_bardensr_df(evd_tensors, th, ps)\n",
    "    bard_df = exclude_borders(bard_df, border_size_zyx=[0,500,500], img_size=[crop_sz*100,crop_sz*100,crop_sz*100])\n",
    "    \n",
    "    perf, matches, _  = matching(gt_df, bard_df, match_genes=True, print_res=False) \n",
    "    \n",
    "    return -perf['jaccard']\n",
    "\n",
    "study = optuna.create_study()\n",
    "study.optimize(objective, n_trials=200)\n",
    "\n",
    "print(study.best_params)\n",
    "print('Jaccard ', -study.best_value)"
   ]
  },
  {
   "cell_type": "code",
   "execution_count": null,
   "id": "portuguese-australia",
   "metadata": {},
   "outputs": [],
   "source": [
    "evd_tensors = get_bardensr_tensor(cpu(xsimn), code_ref, n_iter=100, l1_pen=.05, bg=100., psf_r=0)"
   ]
  },
  {
   "cell_type": "code",
   "execution_count": null,
   "id": "operating-actress",
   "metadata": {},
   "outputs": [],
   "source": [
    "bard_df = get_bardensr_df(evd_tensors, th=study.best_params['th'], ps=study.best_params['ps'])\n",
    "# bard_df = get_bardensr_df(evd_tensors, th=0.5, ps=1.05)\n",
    "bard_df = exclude_borders(bard_df, border_size_zyx=[0,500,500], img_size=[crop_sz*100,crop_sz*100,crop_sz*100])\n",
    "perf, matches, _  = matching(gt_df, bard_df, match_genes=False)\n",
    "print(f'-------', sum(matches['code_inds_pred'] == matches['code_inds_tar'])/len(matches))\n",
    "perf, matches, _  = matching(gt_df, bard_df, match_genes=True)"
   ]
  },
  {
   "cell_type": "code",
   "execution_count": null,
   "id": "corresponding-lewis",
   "metadata": {},
   "outputs": [
    {
     "name": "stdout",
     "output_type": "stream",
     "text": [
      "Converted 00_models.ipynb.\n",
      "Converted 01_psf.ipynb.\n",
      "Converted 02_microscope.ipynb.\n",
      "Converted 03_noise.ipynb.\n",
      "Converted 04_pointsource.ipynb.\n",
      "Converted 05_gmm_loss.ipynb.\n",
      "Converted 06_plotting.ipynb.\n",
      "Converted 07_file_io.ipynb.\n",
      "Converted 08_dataset.ipynb.\n",
      "Converted 09_output_trafo.ipynb.\n",
      "Converted 10_evaluation.ipynb.\n",
      "Converted 11_emitter_io.ipynb.\n",
      "Converted 12_utils.ipynb.\n",
      "Converted 13_train.ipynb.\n",
      "Converted 15_fit_psf.ipynb.\n",
      "Converted 16_visualization.ipynb.\n",
      "Converted 17_eval_routines.ipynb.\n",
      "Converted 18_predict_funcs.ipynb.\n",
      "Converted 19_MERFISH_routines.ipynb.\n",
      "Converted 20_MERFISH_visualization.ipynb.\n",
      "Converted 22_MERFISH_codenet.ipynb.\n",
      "Converted 23_MERFISH_comparison.ipynb.\n",
      "Converted index.ipynb.\n"
     ]
    }
   ],
   "source": [
    "!nbdev_build_lib"
   ]
  },
  {
   "cell_type": "code",
   "execution_count": null,
   "id": "corporate-governor",
   "metadata": {},
   "outputs": [],
   "source": []
  }
 ],
 "metadata": {
  "kernelspec": {
   "display_name": "Python [conda env:decode_fish_dev2]",
   "language": "python",
   "name": "conda-env-decode_fish_dev2-py"
  }
 },
 "nbformat": 4,
 "nbformat_minor": 5
}
