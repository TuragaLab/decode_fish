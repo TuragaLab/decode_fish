{
 "cells": [
  {
   "cell_type": "code",
   "execution_count": 3,
   "metadata": {
    "ExecuteTime": {
     "end_time": "2021-02-11T10:30:09.260329Z",
     "start_time": "2021-02-11T10:30:09.251417Z"
    }
   },
   "outputs": [],
   "source": [
    "from pathlib import Path\n",
    "\n",
    "def make_sub_str(model_path, sweep_par, val, exp_dir):\n",
    "    \n",
    "    base_str = f'bsub -gpu \"num=1\" -q gpu_any -o {model_path}/{exp_dir}/logs/ocodsub.log -e {model_path}/{exp_dir}/logs/ecodesub.log /groups/turaga/home/speisera/anaconda3/envs/decode2_dev/bin/python /groups/turaga/home/speisera/Mackebox/Artur/WorkDB/deepstorm/decode_fish/decode_fish/train.py'    \n",
    "    \n",
    "    return base_str + ' ' + sweep_par + f'={val} run_name={exp_dir}/{sweep_par}:{val}' + '\\n'"
   ]
  },
  {
   "cell_type": "markdown",
   "metadata": {},
   "source": [
    "sweep1: 10000 iterations, bs 2, grad_clip 0.001, crop_sz 48, model ce\n",
    "* group normalization helps (73.2 vs 71.5 with gce vs ce). cr > cr\n",
    "* 5e-4 best lr\n",
    "* crop_sz 48 slightly better than 40. 32 breaks down?\n",
    "\n",
    "sweep2: 10000 iterations, bs 2, grad_clip 0.001, crop_sz 40, model gce\n",
    "* Best performance without grad_clip\n",
    "* Slight improvement with more channels (48>32>16)\n",
    "\n",
    "sweep3: 10000 iterations, bs 2, grad_clip 0.001, crop_sz 48, model gce\n",
    "* Microscope scale 10 -> 10000. Trying to match fish_sim dist.\n",
    "\n"
   ]
  },
  {
   "cell_type": "code",
   "execution_count": 4,
   "metadata": {
    "ExecuteTime": {
     "end_time": "2021-02-11T10:30:09.610203Z",
     "start_time": "2021-02-11T10:30:09.603542Z"
    }
   },
   "outputs": [],
   "source": [
    "model_path = Path('/groups/turaga/home/speisera/Mackebox/Artur/WorkDB/deepstorm/models/fishcod')\n",
    "exp_dir = 'ae1'\n",
    "\n",
    "sweep_par = 'dataloader.bs'\n",
    "sweep_vals = [1,2,4,6]"
   ]
  },
  {
   "cell_type": "code",
   "execution_count": 9,
   "metadata": {
    "ExecuteTime": {
     "end_time": "2021-02-11T10:39:39.377165Z",
     "start_time": "2021-02-11T10:39:39.369283Z"
    }
   },
   "outputs": [
    {
     "data": {
      "text/plain": [
       "'rm /groups/turaga/home/speisera/Mackebox/Artur/WorkDB/deepstorm/models/fishcod/ae1/logs/ecodesub.log'"
      ]
     },
     "execution_count": 9,
     "metadata": {},
     "output_type": "execute_result"
    }
   ],
   "source": [
    "f'rm /groups/turaga/home/speisera/Mackebox/Artur/WorkDB/deepstorm/models/fishcod/{exp_dir}/logs/ecodesub.log'"
   ]
  },
  {
   "cell_type": "code",
   "execution_count": 8,
   "metadata": {
    "ExecuteTime": {
     "end_time": "2021-02-11T10:39:32.357969Z",
     "start_time": "2021-02-11T10:39:32.338585Z"
    }
   },
   "outputs": [
    {
     "name": "stdout",
     "output_type": "stream",
     "text": [
      "bsub -gpu \"num=1\" -q gpu_any -o /groups/turaga/home/speisera/Mackebox/Artur/WorkDB/deepstorm/models/fishcod/ae1/logs/ocodsub.log -e /groups/turaga/home/speisera/Mackebox/Artur/WorkDB/deepstorm/models/fishcod/ae1/logs/ecodesub.log /groups/turaga/home/speisera/anaconda3/envs/decode2_dev/bin/python /groups/turaga/home/speisera/Mackebox/Artur/WorkDB/deepstorm/decode_fish/decode_fish/train.py dataloader.bs=1 run_name=ae1/dataloader.bs:1\n",
      "\n",
      "bsub -gpu \"num=1\" -q gpu_any -o /groups/turaga/home/speisera/Mackebox/Artur/WorkDB/deepstorm/models/fishcod/ae1/logs/ocodsub.log -e /groups/turaga/home/speisera/Mackebox/Artur/WorkDB/deepstorm/models/fishcod/ae1/logs/ecodesub.log /groups/turaga/home/speisera/anaconda3/envs/decode2_dev/bin/python /groups/turaga/home/speisera/Mackebox/Artur/WorkDB/deepstorm/decode_fish/decode_fish/train.py dataloader.bs=2 run_name=ae1/dataloader.bs:2\n",
      "\n",
      "bsub -gpu \"num=1\" -q gpu_any -o /groups/turaga/home/speisera/Mackebox/Artur/WorkDB/deepstorm/models/fishcod/ae1/logs/ocodsub.log -e /groups/turaga/home/speisera/Mackebox/Artur/WorkDB/deepstorm/models/fishcod/ae1/logs/ecodesub.log /groups/turaga/home/speisera/anaconda3/envs/decode2_dev/bin/python /groups/turaga/home/speisera/Mackebox/Artur/WorkDB/deepstorm/decode_fish/decode_fish/train.py dataloader.bs=4 run_name=ae1/dataloader.bs:4\n",
      "\n",
      "bsub -gpu \"num=1\" -q gpu_any -o /groups/turaga/home/speisera/Mackebox/Artur/WorkDB/deepstorm/models/fishcod/ae1/logs/ocodsub.log -e /groups/turaga/home/speisera/Mackebox/Artur/WorkDB/deepstorm/models/fishcod/ae1/logs/ecodesub.log /groups/turaga/home/speisera/anaconda3/envs/decode2_dev/bin/python /groups/turaga/home/speisera/Mackebox/Artur/WorkDB/deepstorm/decode_fish/decode_fish/train.py dataloader.bs=6 run_name=ae1/dataloader.bs:6\n",
      "\n"
     ]
    }
   ],
   "source": [
    "Path.mkdir(model_path/exp_dir, exist_ok=True)\n",
    "Path.mkdir(model_path/exp_dir/'logs', exist_ok=True)\n",
    "\n",
    "with open('run_slurm.sh', 'w') as f:\n",
    "    f.write(f'rm -r /groups/turaga/home/speisera/Mackebox/Artur/WorkDB/deepstorm/fishcod/runs/{exp_dir} \\n')\n",
    "    f.write(f'rm /groups/turaga/home/speisera/Mackebox/Artur/WorkDB/deepstorm/models/fishcod/{exp_dir}/logs/ocodesub.log \\n')\n",
    "    f.write(f'rm /groups/turaga/home/speisera/Mackebox/Artur/WorkDB/deepstorm/models/fishcod/{exp_dir}/logs/ecodesub.log \\n')\n",
    "    for v in sweep_vals:  \n",
    "        exec_str = make_sub_str(model_path, sweep_par, v, exp_dir)\n",
    "        print(exec_str)\n",
    "        f.write(exec_str)"
   ]
  },
  {
   "cell_type": "code",
   "execution_count": null,
   "metadata": {},
   "outputs": [],
   "source": []
  }
 ],
 "metadata": {
  "kernelspec": {
   "display_name": "Python [conda env:decode2_dev]",
   "language": "python",
   "name": "conda-env-decode2_dev-py"
  },
  "language_info": {
   "codemirror_mode": {
    "name": "ipython",
    "version": 3
   },
   "file_extension": ".py",
   "mimetype": "text/x-python",
   "name": "python",
   "nbconvert_exporter": "python",
   "pygments_lexer": "ipython3",
   "version": "3.7.7"
  }
 },
 "nbformat": 4,
 "nbformat_minor": 4
}
