{
 "cells": [
  {
   "cell_type": "code",
   "execution_count": 4,
   "id": "stuck-sleeping",
   "metadata": {
    "ExecuteTime": {
     "end_time": "2022-06-13T11:15:32.373469Z",
     "start_time": "2022-06-13T11:15:32.313617Z"
    }
   },
   "outputs": [
    {
     "name": "stdout",
     "output_type": "stream",
     "text": [
      "The autoreload extension is already loaded. To reload it, use:\n",
      "  %reload_ext autoreload\n"
     ]
    }
   ],
   "source": [
    "%load_ext autoreload\n",
    "%autoreload 2\n",
    "%aimport -decode_fish.engine.place_psfs"
   ]
  },
  {
   "cell_type": "code",
   "execution_count": 5,
   "id": "quiet-wagner",
   "metadata": {
    "ExecuteTime": {
     "end_time": "2022-06-13T11:15:32.898735Z",
     "start_time": "2022-06-13T11:15:32.658031Z"
    }
   },
   "outputs": [
    {
     "ename": "ValueError",
     "evalue": "GlobalHydra is already initialized, call GlobalHydra.instance().clear() if you want to re-initialize",
     "output_type": "error",
     "traceback": [
      "\u001b[0;31m---------------------------------------------------------------------------\u001b[0m",
      "\u001b[0;31mValueError\u001b[0m                                Traceback (most recent call last)",
      "Input \u001b[0;32mIn [5]\u001b[0m, in \u001b[0;36m<cell line: 24>\u001b[0;34m()\u001b[0m\n\u001b[1;32m     21\u001b[0m \u001b[38;5;28;01mimport\u001b[39;00m \u001b[38;5;21;01mh5py\u001b[39;00m\n\u001b[1;32m     22\u001b[0m \u001b[38;5;28;01mfrom\u001b[39;00m \u001b[38;5;21;01mdecode_fish\u001b[39;00m\u001b[38;5;21;01m.\u001b[39;00m\u001b[38;5;21;01mfuncs\u001b[39;00m\u001b[38;5;21;01m.\u001b[39;00m\u001b[38;5;21;01mroutines\u001b[39;00m \u001b[38;5;28;01mimport\u001b[39;00m \u001b[38;5;241m*\u001b[39m\n\u001b[0;32m---> 24\u001b[0m \u001b[43minitialize\u001b[49m\u001b[43m(\u001b[49m\u001b[43mconfig_path\u001b[49m\u001b[38;5;241;43m=\u001b[39;49m\u001b[38;5;124;43m\"\u001b[39;49m\u001b[38;5;124;43m../config\u001b[39;49m\u001b[38;5;124;43m\"\u001b[39;49m\u001b[43m)\u001b[49m\n",
      "File \u001b[0;32m~/anaconda3/envs/decode_fish_dev2/lib/python3.8/site-packages/hydra/initialize.py:84\u001b[0m, in \u001b[0;36minitialize.__init__\u001b[0;34m(self, config_path, job_name, caller_stack_depth)\u001b[0m\n\u001b[1;32m     79\u001b[0m \u001b[38;5;28;01mif\u001b[39;00m job_name \u001b[38;5;129;01mis\u001b[39;00m \u001b[38;5;28;01mNone\u001b[39;00m:\n\u001b[1;32m     80\u001b[0m     job_name \u001b[38;5;241m=\u001b[39m detect_task_name(\n\u001b[1;32m     81\u001b[0m         calling_file\u001b[38;5;241m=\u001b[39mcalling_file, calling_module\u001b[38;5;241m=\u001b[39mcalling_module\n\u001b[1;32m     82\u001b[0m     )\n\u001b[0;32m---> 84\u001b[0m \u001b[43mHydra\u001b[49m\u001b[38;5;241;43m.\u001b[39;49m\u001b[43mcreate_main_hydra_file_or_module\u001b[49m\u001b[43m(\u001b[49m\n\u001b[1;32m     85\u001b[0m \u001b[43m    \u001b[49m\u001b[43mcalling_file\u001b[49m\u001b[38;5;241;43m=\u001b[39;49m\u001b[43mcalling_file\u001b[49m\u001b[43m,\u001b[49m\n\u001b[1;32m     86\u001b[0m \u001b[43m    \u001b[49m\u001b[43mcalling_module\u001b[49m\u001b[38;5;241;43m=\u001b[39;49m\u001b[43mcalling_module\u001b[49m\u001b[43m,\u001b[49m\n\u001b[1;32m     87\u001b[0m \u001b[43m    \u001b[49m\u001b[43mconfig_path\u001b[49m\u001b[38;5;241;43m=\u001b[39;49m\u001b[43mconfig_path\u001b[49m\u001b[43m,\u001b[49m\n\u001b[1;32m     88\u001b[0m \u001b[43m    \u001b[49m\u001b[43mjob_name\u001b[49m\u001b[38;5;241;43m=\u001b[39;49m\u001b[43mjob_name\u001b[49m\u001b[43m,\u001b[49m\n\u001b[1;32m     89\u001b[0m \u001b[43m\u001b[49m\u001b[43m)\u001b[49m\n",
      "File \u001b[0;32m~/anaconda3/envs/decode_fish_dev2/lib/python3.8/site-packages/hydra/_internal/hydra.py:53\u001b[0m, in \u001b[0;36mHydra.create_main_hydra_file_or_module\u001b[0;34m(cls, calling_file, calling_module, config_path, job_name)\u001b[0m\n\u001b[1;32m     41\u001b[0m \u001b[38;5;129m@classmethod\u001b[39m\n\u001b[1;32m     42\u001b[0m \u001b[38;5;28;01mdef\u001b[39;00m \u001b[38;5;21mcreate_main_hydra_file_or_module\u001b[39m(\n\u001b[1;32m     43\u001b[0m     \u001b[38;5;28mcls\u001b[39m: Type[\u001b[38;5;124m\"\u001b[39m\u001b[38;5;124mHydra\u001b[39m\u001b[38;5;124m\"\u001b[39m],\n\u001b[0;32m   (...)\u001b[0m\n\u001b[1;32m     47\u001b[0m     job_name: \u001b[38;5;28mstr\u001b[39m,\n\u001b[1;32m     48\u001b[0m ) \u001b[38;5;241m-\u001b[39m\u001b[38;5;241m>\u001b[39m \u001b[38;5;124m\"\u001b[39m\u001b[38;5;124mHydra\u001b[39m\u001b[38;5;124m\"\u001b[39m:\n\u001b[1;32m     49\u001b[0m     config_search_path \u001b[38;5;241m=\u001b[39m create_automatic_config_search_path(\n\u001b[1;32m     50\u001b[0m         calling_file, calling_module, config_path\n\u001b[1;32m     51\u001b[0m     )\n\u001b[0;32m---> 53\u001b[0m     \u001b[38;5;28;01mreturn\u001b[39;00m \u001b[43mHydra\u001b[49m\u001b[38;5;241;43m.\u001b[39;49m\u001b[43mcreate_main_hydra2\u001b[49m\u001b[43m(\u001b[49m\u001b[43mjob_name\u001b[49m\u001b[43m,\u001b[49m\u001b[43m \u001b[49m\u001b[43mconfig_search_path\u001b[49m\u001b[43m)\u001b[49m\n",
      "File \u001b[0;32m~/anaconda3/envs/decode_fish_dev2/lib/python3.8/site-packages/hydra/_internal/hydra.py:68\u001b[0m, in \u001b[0;36mHydra.create_main_hydra2\u001b[0;34m(cls, task_name, config_search_path)\u001b[0m\n\u001b[1;32m     65\u001b[0m hydra \u001b[38;5;241m=\u001b[39m \u001b[38;5;28mcls\u001b[39m(task_name\u001b[38;5;241m=\u001b[39mtask_name, config_loader\u001b[38;5;241m=\u001b[39mconfig_loader)\n\u001b[1;32m     66\u001b[0m \u001b[38;5;28;01mfrom\u001b[39;00m \u001b[38;5;21;01mhydra\u001b[39;00m\u001b[38;5;21;01m.\u001b[39;00m\u001b[38;5;21;01mcore\u001b[39;00m\u001b[38;5;21;01m.\u001b[39;00m\u001b[38;5;21;01mglobal_hydra\u001b[39;00m \u001b[38;5;28;01mimport\u001b[39;00m GlobalHydra\n\u001b[0;32m---> 68\u001b[0m \u001b[43mGlobalHydra\u001b[49m\u001b[38;5;241;43m.\u001b[39;49m\u001b[43minstance\u001b[49m\u001b[43m(\u001b[49m\u001b[43m)\u001b[49m\u001b[38;5;241;43m.\u001b[39;49m\u001b[43minitialize\u001b[49m\u001b[43m(\u001b[49m\u001b[43mhydra\u001b[49m\u001b[43m)\u001b[49m\n\u001b[1;32m     69\u001b[0m \u001b[38;5;28;01mreturn\u001b[39;00m hydra\n",
      "File \u001b[0;32m~/anaconda3/envs/decode_fish_dev2/lib/python3.8/site-packages/hydra/core/global_hydra.py:16\u001b[0m, in \u001b[0;36mGlobalHydra.initialize\u001b[0;34m(self, hydra)\u001b[0m\n\u001b[1;32m     14\u001b[0m \u001b[38;5;28;01massert\u001b[39;00m \u001b[38;5;28misinstance\u001b[39m(hydra, Hydra), \u001b[38;5;124mf\u001b[39m\u001b[38;5;124m\"\u001b[39m\u001b[38;5;124mUnexpected Hydra type : \u001b[39m\u001b[38;5;132;01m{\u001b[39;00m\u001b[38;5;28mtype\u001b[39m(hydra)\u001b[38;5;132;01m}\u001b[39;00m\u001b[38;5;124m\"\u001b[39m\n\u001b[1;32m     15\u001b[0m \u001b[38;5;28;01mif\u001b[39;00m \u001b[38;5;28mself\u001b[39m\u001b[38;5;241m.\u001b[39mis_initialized():\n\u001b[0;32m---> 16\u001b[0m     \u001b[38;5;28;01mraise\u001b[39;00m \u001b[38;5;167;01mValueError\u001b[39;00m(\n\u001b[1;32m     17\u001b[0m         \u001b[38;5;124m\"\u001b[39m\u001b[38;5;124mGlobalHydra is already initialized, call GlobalHydra.instance().clear() if you want to re-initialize\u001b[39m\u001b[38;5;124m\"\u001b[39m\n\u001b[1;32m     18\u001b[0m     )\n\u001b[1;32m     19\u001b[0m \u001b[38;5;28mself\u001b[39m\u001b[38;5;241m.\u001b[39mhydra \u001b[38;5;241m=\u001b[39m hydra\n",
      "\u001b[0;31mValueError\u001b[0m: GlobalHydra is already initialized, call GlobalHydra.instance().clear() if you want to re-initialize"
     ]
    }
   ],
   "source": [
    "# export\n",
    "from decode_fish.imports import *\n",
    "\n",
    "# os.environ[\"CUDA_VISIBLE_DEVICES\"] = '1'\n",
    "\n",
    "from decode_fish.funcs.file_io import *\n",
    "from decode_fish.funcs.emitter_io import *\n",
    "from decode_fish.funcs.utils import *\n",
    "from decode_fish.funcs.dataset import *\n",
    "from decode_fish.funcs.plotting import *\n",
    "from decode_fish.engine.noise import estimate_noise_scale\n",
    "import shutil\n",
    "from decode_fish.funcs.evaluation import *\n",
    "\n",
    "from decode_fish.funcs.visualization import *\n",
    "\n",
    "from omegaconf import open_dict\n",
    "from hydra import compose, initialize\n",
    "from decode_fish.funcs.merfish_eval import *\n",
    "\n",
    "import h5py\n",
    "from decode_fish.funcs.routines import *\n",
    "\n",
    "initialize(config_path=\"../config\")"
   ]
  },
  {
   "cell_type": "markdown",
   "id": "exclusive-vanilla",
   "metadata": {},
   "source": [
    "## Generate Data for comparison with ISTDECO"
   ]
  },
  {
   "cell_type": "code",
   "execution_count": null,
   "id": "fossil-judges",
   "metadata": {
    "ExecuteTime": {
     "end_time": "2022-05-31T07:41:02.690178Z",
     "start_time": "2022-05-31T07:41:02.690158Z"
    }
   },
   "outputs": [],
   "source": [
    "cfg = OmegaConf.load(f'../config/experiment/sim_2d_1.yaml')\n",
    "\n",
    "crop_sz = 128\n",
    "cfg.training.bs = 10\n",
    "cfg.sim.random_crop.crop_sz = crop_sz\n",
    "cfg.data_path.image_sim.image_shape = [1,16,1,crop_sz,crop_sz]\n",
    "_, decode_dl = get_dataloader(cfg)\n",
    "_, noise, micro = load_psf_noise_micro(cfg)"
   ]
  },
  {
   "cell_type": "code",
   "execution_count": null,
   "id": "narrow-mounting",
   "metadata": {
    "ExecuteTime": {
     "end_time": "2022-05-31T07:41:02.691736Z",
     "start_time": "2022-05-31T07:41:02.691718Z"
    }
   },
   "outputs": [],
   "source": [
    "codebook, targets = hydra.utils.instantiate(cfg.codebook)"
   ]
  },
  {
   "cell_type": "code",
   "execution_count": null,
   "id": "pointed-guard",
   "metadata": {
    "ExecuteTime": {
     "end_time": "2022-05-31T07:41:02.693265Z",
     "start_time": "2022-05-31T07:41:02.693246Z"
    }
   },
   "outputs": [],
   "source": [
    "out_dir = '/groups/turaga/home/speisera/Mackebox/Artur/WorkDB/deepstorm/decode_fish/data/merfish_sims/sim_data4/'\n",
    "\n",
    "densities = [0.01, 0.025, 0.05, 0.075, 0.1, 0.125, 0.15, 0.2]\n",
    "intensities = [1.]\n",
    "# intensities = [0.8, 0.4, 0.2, 0.12]"
   ]
  },
  {
   "cell_type": "code",
   "execution_count": null,
   "id": "sunrise-genome",
   "metadata": {
    "ExecuteTime": {
     "end_time": "2022-05-31T07:41:02.697698Z",
     "start_time": "2022-05-31T07:41:02.697674Z"
    }
   },
   "outputs": [],
   "source": [
    "from decode_fish.engine.point_process import *\n",
    "from decode_fish.funcs.output_trafo import *\n",
    "\n",
    "gt_col = []\n",
    "    \n",
    "for d in densities:\n",
    "    for i in intensities:\n",
    "\n",
    "        k = f'dens_{d}_int_{i}'\n",
    "        print(k)\n",
    "\n",
    "        with h5py.File(out_dir+k+'.h5', 'w') as f:\n",
    "\n",
    "            with torch.no_grad():\n",
    "\n",
    "                ret_dict = next(iter(decode_dl))\n",
    "                x, local_rate, background = ret_dict['x'], ret_dict['local_rate'], ret_dict['background']\n",
    "                sim_vars = PointProcessUniform(local_rate[:,0]*0 + d, cfg.genm.intensity_dist.int_conc*i, cfg.genm.intensity_dist.int_rate, \n",
    "                                               cfg.genm.intensity_dist.int_loc, channels=16, n_bits=4, sim_z=False, codebook=torch.tensor(codebook), int_option=1).sample(from_code_book=True)\n",
    "                ch_inp = list(micro.get_single_ch_inputs(*sim_vars[:-1]))\n",
    "                xsim = micro(*ch_inp)\n",
    "                xsimn = micro.noise(xsim, background).sample()\n",
    "\n",
    "                gt_vars = sim_vars[:-2]\n",
    "                gt_df = sample_to_df(*gt_vars, sim_vars[-1], px_size_zyx=[1.,1.,1.])\n",
    "\n",
    "            gt_df = px_to_nm(gt_df)\n",
    "            gt_df = exclude_borders(gt_df, border_size_zyx=[0,500,500], img_size=[crop_sz*100,crop_sz*100,crop_sz*100])\n",
    "\n",
    "            add_df_to_hdf5(f, 'locations', gt_df)          \n",
    "            f.create_dataset('frames', data=cpu(xsimn))"
   ]
  },
  {
   "cell_type": "code",
   "execution_count": null,
   "id": "prostate-ireland",
   "metadata": {
    "ExecuteTime": {
     "end_time": "2022-05-31T07:41:02.698919Z",
     "start_time": "2022-05-31T07:41:02.698896Z"
    }
   },
   "outputs": [],
   "source": [
    "out_dir = '/groups/turaga/home/speisera/Mackebox/Artur/WorkDB/deepstorm/decode_fish/data/merfish_sims/sim_data4/'\n",
    "files = glob.glob(out_dir+'/*.h5')\n",
    "base_str = 'bsub -gpu \"num=1\" -q gpu_rtx -o logs/ofish.log -e logs/efish.log /groups/turaga/home/speisera/anaconda3/envs/decode_fish_dev2/bin/python /groups/turaga/home/speisera/Mackebox/Artur/WorkDB/deepstorm/decode_fish/decode_fish/merfish_sim_eval.py '\n",
    "\n",
    "with open('run_slurm.sh', 'w') as f:\n",
    "    for n in files:\n",
    "        name = n.split('/')[-1]\n",
    "        print(name)\n",
    "        f.write(base_str + f'data_file={name}' + ' \\n')"
   ]
  },
  {
   "cell_type": "code",
   "execution_count": 6,
   "id": "bored-excitement",
   "metadata": {
    "ExecuteTime": {
     "end_time": "2022-06-13T11:15:48.943382Z",
     "start_time": "2022-06-13T11:15:48.865900Z"
    }
   },
   "outputs": [
    {
     "name": "stdout",
     "output_type": "stream",
     "text": [
      "<KeysViewHDF5 ['high:0.2', 'istdeco', 'seed:0']>\n"
     ]
    }
   ],
   "source": [
    "out_dir = '/groups/turaga/home/speisera/Mackebox/Artur/WorkDB/deepstorm/decode_fish/data/merfish_sims/sim_data4/'\n",
    "intensities = [1]\n",
    "files = glob.glob(out_dir+'sim_2d_1/*')\n",
    "\n",
    "with h5py.File(files[0], 'a') as f:\n",
    "    print(f.keys())"
   ]
  },
  {
   "cell_type": "code",
   "execution_count": 18,
   "id": "informative-hometown",
   "metadata": {
    "ExecuteTime": {
     "end_time": "2022-06-13T11:21:06.841488Z",
     "start_time": "2022-06-13T11:21:06.081126Z"
    }
   },
   "outputs": [
    {
     "data": {
      "text/plain": [
       "['high:0.2', 'istdeco', 'seed:0']"
      ]
     },
     "execution_count": 18,
     "metadata": {},
     "output_type": "execute_result"
    }
   ],
   "source": [
    "mod_keys"
   ]
  },
  {
   "cell_type": "code",
   "execution_count": 110,
   "id": "micro-deployment",
   "metadata": {
    "ExecuteTime": {
     "end_time": "2022-06-13T11:47:31.120593Z",
     "start_time": "2022-06-13T11:47:30.761514Z"
    }
   },
   "outputs": [
    {
     "name": "stdout",
     "output_type": "stream",
     "text": [
      "high:0.2\n"
     ]
    },
    {
     "data": {
      "text/html": [
       "<div>\n",
       "<style scoped>\n",
       "    .dataframe tbody tr th:only-of-type {\n",
       "        vertical-align: middle;\n",
       "    }\n",
       "\n",
       "    .dataframe tbody tr th {\n",
       "        vertical-align: top;\n",
       "    }\n",
       "\n",
       "    .dataframe thead th {\n",
       "        text-align: right;\n",
       "    }\n",
       "</style>\n",
       "<table border=\"1\" class=\"dataframe\">\n",
       "  <thead>\n",
       "    <tr style=\"text-align: right;\">\n",
       "      <th></th>\n",
       "      <th>eff_3d</th>\n",
       "      <th>jaccard</th>\n",
       "      <th>n_matches</th>\n",
       "      <th>precision</th>\n",
       "      <th>recall</th>\n",
       "      <th>rmse_vol</th>\n",
       "      <th>rmse_x</th>\n",
       "      <th>rmse_y</th>\n",
       "      <th>rmse_z</th>\n",
       "    </tr>\n",
       "  </thead>\n",
       "  <tbody>\n",
       "    <tr>\n",
       "      <th>0</th>\n",
       "      <td>88.438404</td>\n",
       "      <td>0.927453</td>\n",
       "      <td>13155</td>\n",
       "      <td>0.98201</td>\n",
       "      <td>0.943484</td>\n",
       "      <td>18.004499</td>\n",
       "      <td>11.883888</td>\n",
       "      <td>13.525353</td>\n",
       "      <td>0.0</td>\n",
       "    </tr>\n",
       "  </tbody>\n",
       "</table>\n",
       "</div>"
      ],
      "text/plain": [
       "      eff_3d   jaccard  n_matches  precision    recall   rmse_vol     rmse_x  \\\n",
       "0  88.438404  0.927453      13155    0.98201  0.943484  18.004499  11.883888   \n",
       "\n",
       "      rmse_y  rmse_z  \n",
       "0  13.525353     0.0  "
      ]
     },
     "metadata": {},
     "output_type": "display_data"
    },
    {
     "name": "stdout",
     "output_type": "stream",
     "text": [
      "istdeco\n"
     ]
    },
    {
     "data": {
      "text/html": [
       "<div>\n",
       "<style scoped>\n",
       "    .dataframe tbody tr th:only-of-type {\n",
       "        vertical-align: middle;\n",
       "    }\n",
       "\n",
       "    .dataframe tbody tr th {\n",
       "        vertical-align: top;\n",
       "    }\n",
       "\n",
       "    .dataframe thead th {\n",
       "        text-align: right;\n",
       "    }\n",
       "</style>\n",
       "<table border=\"1\" class=\"dataframe\">\n",
       "  <thead>\n",
       "    <tr style=\"text-align: right;\">\n",
       "      <th></th>\n",
       "      <th>eff_3d</th>\n",
       "      <th>jaccard</th>\n",
       "      <th>n_matches</th>\n",
       "      <th>precision</th>\n",
       "      <th>recall</th>\n",
       "      <th>rmse_vol</th>\n",
       "      <th>rmse_x</th>\n",
       "      <th>rmse_y</th>\n",
       "      <th>rmse_z</th>\n",
       "    </tr>\n",
       "  </thead>\n",
       "  <tbody>\n",
       "    <tr>\n",
       "      <th>0</th>\n",
       "      <td>54.343206</td>\n",
       "      <td>0.730987</td>\n",
       "      <td>11736</td>\n",
       "      <td>0.847487</td>\n",
       "      <td>0.841713</td>\n",
       "      <td>73.779782</td>\n",
       "      <td>52.096975</td>\n",
       "      <td>52.243291</td>\n",
       "      <td>0.0</td>\n",
       "    </tr>\n",
       "  </tbody>\n",
       "</table>\n",
       "</div>"
      ],
      "text/plain": [
       "      eff_3d   jaccard  n_matches  precision    recall   rmse_vol     rmse_x  \\\n",
       "0  54.343206  0.730987      11736   0.847487  0.841713  73.779782  52.096975   \n",
       "\n",
       "      rmse_y  rmse_z  \n",
       "0  52.243291     0.0  "
      ]
     },
     "metadata": {},
     "output_type": "display_data"
    }
   ],
   "source": [
    "densities = [0.01, 0.025, 0.05, 0.075, 0.1, 0.125, 0.15, 0.2]\n",
    "intensities = [1.0]\n",
    "\n",
    "with h5py.File(files[0], 'r') as f:\n",
    "    mod_keys = list(f.keys())\n",
    "mod_keys = ['high:0.2', 'istdeco']\n",
    "    \n",
    "jacs = {k:np.zeros([len(intensities), len(densities)]) for k in mod_keys}\n",
    "\n",
    "for f in files:\n",
    "    with h5py.File(f, 'r') as h:\n",
    "        for m in mod_keys:\n",
    "\n",
    "            k = f.split('/')[-1].split('.h5')[0] \n",
    "            d = k.split('_')[1]\n",
    "            i = k.split('_')[3]\n",
    "\n",
    "            perf = get_df_from_hdf5(h[m]['perf'])\n",
    "            \n",
    "            if float(i) in intensities:\n",
    "                jacs[m][intensities.index(float(i)),densities.index(float(d))] = perf['jaccard'].values[0]\n",
    "            \n",
    "            if k == 'dens_0.1_int_1.0':\n",
    "                print(m)\n",
    "                display(perf)"
   ]
  },
  {
   "cell_type": "code",
   "execution_count": 122,
   "id": "liked-benjamin",
   "metadata": {
    "ExecuteTime": {
     "end_time": "2022-06-13T11:50:24.588976Z",
     "start_time": "2022-06-13T11:50:24.308656Z"
    }
   },
   "outputs": [
    {
     "data": {
      "text/plain": [
       "Text(0.5, 0, 'Density')"
      ]
     },
     "execution_count": 122,
     "metadata": {},
     "output_type": "execute_result"
    },
    {
     "data": {
      "image/png": "[encoded data removed]",
      "text/plain": [
       "<Figure size 360x360 with 1 Axes>"
      ]
     },
     "metadata": {
      "needs_background": "light"
     },
     "output_type": "display_data"
    }
   ],
   "source": [
    "labels = {'high:0.2':'DECODE', 'istdeco':'ISTDECO'}\n",
    "\n",
    "for i in range(len(intensities)):\n",
    "    plt.figure(figsize=(5,5))\n",
    "    for m in mod_keys:\n",
    "        plt.plot(densities, jacs[m][i], label=labels[m])\n",
    "    plt.legend(frameon=False)\n",
    "    \n",
    "sns.despine()\n",
    "plt.ylabel('Jaccard index', size=12)\n",
    "plt.xlabel('Density', size=12)"
   ]
  },
  {
   "cell_type": "code",
   "execution_count": 53,
   "id": "republican-keeping",
   "metadata": {
    "ExecuteTime": {
     "end_time": "2022-06-13T11:37:06.853331Z",
     "start_time": "2022-06-13T11:37:06.085270Z"
    }
   },
   "outputs": [],
   "source": [
    "def sel_int_ch(res_df, codebook, sel_sig=True):\n",
    "    \n",
    "    if len(res_df):\n",
    "    \n",
    "        int_m = [f'int_{i}' for i in range(codebook.shape[1])]\n",
    "        int_arr = res_df.loc[:,int_m].values\n",
    "        int_arr_nz = int_arr[codebook[res_df['code_inds'].values].nonzero()].reshape([int_arr.shape[0], -1])\n",
    "        ret_df = res_df.drop(columns=int_m)\n",
    "        ret_df[int_m[:4]] = int_arr_nz\n",
    "        ret_df['tot_int'] = int_arr_nz.sum(-1)\n",
    "        ret_df['int_ratio'] = ((int_arr).sum(-1) - int_arr_nz.sum(-1)) / int_arr_nz.sum(-1)\n",
    "\n",
    "        if sel_sig:\n",
    "            int_s = [f'int_sig_{i}' for i in range(codebook.shape[1])]\n",
    "            int_sig = res_df.loc[:,int_s].values\n",
    "            int_sig_nz = int_sig[codebook[res_df['code_inds'].values].nonzero()].reshape([int_sig.shape[0], -1])\n",
    "            ret_df = ret_df.drop(columns=int_s)\n",
    "            ret_df[int_s[:4]] = int_sig_nz\n",
    "            ret_df['tot_int_sig'] = int_sig_nz.sum(1)\n",
    "\n",
    "        return ret_df\n",
    "    \n",
    "    else:\n",
    "        \n",
    "        return res_df"
   ]
  },
  {
   "cell_type": "code",
   "execution_count": 88,
   "id": "afraid-range",
   "metadata": {
    "ExecuteTime": {
     "end_time": "2022-06-13T11:43:33.227577Z",
     "start_time": "2022-06-13T11:43:27.697794Z"
    }
   },
   "outputs": [
    {
     "name": "stdout",
     "output_type": "stream",
     "text": [
      "Recall: 0.965\n",
      "Precision: 0.989\n",
      "Jaccard: 95.453\n",
      "RMSE_vol: 11.458\n",
      "Eff_3d: 92.686\n",
      "FN: 369.0 FP: 111.0\n",
      "Num. matches: 10077.000\n",
      "Shift: 0.35,0.10,0.00\n",
      "Recall: 0.978\n",
      "Precision: 0.403\n",
      "Jaccard: 39.964\n",
      "RMSE_vol: 52.005\n",
      "Eff_3d: 34.575\n",
      "FN: 226.0 FP: 15127.0\n",
      "Num. matches: 10220.000\n",
      "Shift: -0.05,0.31,0.00\n"
     ]
    }
   ],
   "source": [
    "density = densities[3]\n",
    "cfg = OmegaConf.load(f'../config/experiment/sim_2d_1.yaml')\n",
    "codebook, targets = hydra.utils.instantiate(cfg.codebook)\n",
    "\n",
    "with h5py.File(files[0], 'r') as f:\n",
    "    mod_keys = list(f.keys())\n",
    "    \n",
    "with h5py.File(f'/groups/turaga/home/speisera/Mackebox/Artur/WorkDB/deepstorm/decode_fish/data/merfish_sims/sim_data4/dens_{density}_int_1.0.h5', 'r') as f:\n",
    "\n",
    "    gt_df = get_df_from_hdf5(f['locations'])\n",
    "\n",
    "for f in [f'/groups/turaga/home/speisera/Mackebox/Artur/WorkDB/deepstorm/decode_fish/data/merfish_sims/sim_data4/sim_2d_1/dens_{density}_int_1.0.h5']:\n",
    "    with h5py.File(f, 'r') as h:\n",
    "\n",
    "        dec_df = get_df_from_hdf5(h['high:0.2']['locations'])\n",
    "        ist_df = get_df_from_hdf5(h['istdeco']['locations_raw'])\n",
    "        ist_df['loc_idx'] = np.arange(len(ist_df))\n",
    "        \n",
    "        perf, matches, _ = matching(gt_df, dec_df, tolerance=500, print_res=True, match_genes=True, allow_multiple_matches=False)\n",
    "        dec_df.loc[:, 'class'] = 1\n",
    "        dec_df.loc[dec_df['loc_idx'].isin(matches['loc_idx_pred']), 'class'] = 0\n",
    "        dec_df = sel_int_ch(dec_df, codebook)\n",
    "        \n",
    "        perf, matches, _ = matching(gt_df, ist_df, tolerance=500, print_res=True, match_genes=True, allow_multiple_matches=False)\n",
    "        ist_df.loc[:, 'class'] = 1\n",
    "        ist_df.loc[ist_df['loc_idx'].isin(matches['loc_idx_pred']), 'class'] = 0"
   ]
  },
  {
   "cell_type": "code",
   "execution_count": 67,
   "id": "suitable-nudist",
   "metadata": {
    "ExecuteTime": {
     "end_time": "2022-06-13T11:38:54.146989Z",
     "start_time": "2022-06-13T11:38:53.929752Z"
    }
   },
   "outputs": [
    {
     "name": "stdout",
     "output_type": "stream",
     "text": [
      "Recall: 0.318\n",
      "Precision: 0.924\n",
      "Jaccard: 30.948\n",
      "RMSE_vol: 69.387\n",
      "Eff_3d: 22.723\n",
      "FN: 6953.0 FP: 265.0\n",
      "Num. matches: 3235.000\n",
      "Shift: -0.42,1.07,0.00\n"
     ]
    }
   ],
   "source": [
    "perf, matches, _ = matching(dec_df, ist_df.nlargest(3500,'quality'), tolerance=500, print_res=True, match_genes=True, allow_multiple_matches=False, ignore_z=True)"
   ]
  },
  {
   "cell_type": "code",
   "execution_count": 108,
   "id": "committed-slovenia",
   "metadata": {
    "ExecuteTime": {
     "end_time": "2022-06-13T11:46:57.967845Z",
     "start_time": "2022-06-13T11:46:57.571030Z"
    }
   },
   "outputs": [
    {
     "data": {
      "text/plain": [
       "Text(0, 0.5, 'N Blanks')"
      ]
     },
     "execution_count": 108,
     "metadata": {},
     "output_type": "execute_result"
    },
    {
     "data": {
      "image/png": "[encoded data removed]",
      "text/plain": [
       "<Figure size 576x360 with 1 Axes>"
      ]
     },
     "metadata": {
      "needs_background": "light"
     },
     "output_type": "display_data"
    }
   ],
   "source": [
    "plt.figure(figsize=(8,5))\n",
    "import seaborn as sns\n",
    "for k in ['comb_sig','tot_int','int_ratio']:\n",
    "    b = False if k in ['tot_int','prob'] else True\n",
    "    r  = make_roc(dec_df, k, n_max=10000, ascending=b)\n",
    "    plt.plot(r[0],r[1], label='DECODE '+k)\n",
    "\n",
    "tra = ist_df[ist_df['intensity'] > 7000]\n",
    "for k in ['quality','intensity']:\n",
    "    r  = make_roc(tra, k, n_max=10000, ascending=False)\n",
    "    plt.plot(r[0],r[1], label='ISTDECO' + k, linestyle='--')\n",
    "    \n",
    "plt.legend(frameon=False, fontsize=10)\n",
    "plt.ylim(0,100)\n",
    "sns.despine()\n",
    "\n",
    "plt.xlabel('N detections', size=12)\n",
    "plt.ylabel('N Blanks', size=12)"
   ]
  }
 ],
 "metadata": {
  "kernelspec": {
   "display_name": "Python [conda env:decode_fish_dev2]",
   "language": "python",
   "name": "conda-env-decode_fish_dev2-py"
  },
  "language_info": {
   "codemirror_mode": {
    "name": "ipython",
    "version": 3
   },
   "file_extension": ".py",
   "mimetype": "text/x-python",
   "name": "python",
   "nbconvert_exporter": "python",
   "pygments_lexer": "ipython3",
   "version": "3.8.13"
  }
 },
 "nbformat": 4,
 "nbformat_minor": 5
}
