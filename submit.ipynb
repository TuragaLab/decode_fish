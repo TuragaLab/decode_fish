{
 "cells": [
  {
   "cell_type": "code",
   "execution_count": 301,
   "metadata": {
    "ExecuteTime": {
     "end_time": "2022-06-14T18:33:39.572821Z",
     "start_time": "2022-06-14T18:33:39.558867Z"
    }
   },
   "outputs": [],
   "source": [
    "from pathlib import Path\n",
    "from decode_fish.funcs.utils import *\n",
    "import glob\n",
    "\n",
    "def make_sweep_str(pfile, pars, group, resume=False, init=None, gpu='gpu_rtx', runfile='train.py', n=1):\n",
    "    \n",
    "    base_str = f'bsub -gpu \"num=1\" -n {n} -q {gpu} -o logs/ofish.log -e logs/efish.log /groups/turaga/home/speisera/anaconda3/envs/decode_fish_dev2/bin/python /groups/turaga/home/speisera/Mackebox/Artur/WorkDB/deepstorm/decode_fish/decode_fish/{runfile}'   \n",
    "    \n",
    "    if pfile is not None:\n",
    "        base_str = base_str + f' +experiment={pfile}'\n",
    "    name = ''\n",
    "    \n",
    "    for k in pars:\n",
    "        if k!= 'run_name':\n",
    "            base_str += ' ' + k + f'={pars[k]}'\n",
    "            name += k.split('.')[-1]+f':{pars[k]}x'\n",
    "            name = name.replace('[', '')\n",
    "            name = name.replace(']', '')\n",
    "            name = name.replace(',', 'x')\n",
    "    name = name[:-1]\n",
    "    \n",
    "    if 'run_name' in pars:\n",
    "        name=pars['run_name']\n",
    "    \n",
    "    if resume:\n",
    "        base_str += ' training.resume=True '\n",
    "    if init is not None:\n",
    "        base_str += f' data_path.model_init={init} '\n",
    "    \n",
    "    return base_str + f' run_name={name} output.group={group}' + '\\n'\n",
    "    \n",
    "\n",
    "def make_named_str(pfile, name, group):\n",
    "    \n",
    "    base_str = base_str + f' +experiment={pfile}'\n",
    "    \n",
    "    return base_str + f' run_name={name} output.group={group}' + '\\n'"
   ]
  },
  {
   "cell_type": "code",
   "execution_count": 179,
   "metadata": {},
   "outputs": [],
   "source": [
    "# cfg.training.mic.par_grads.channel_facs = False\n",
    "# cfg.training.mic.par_grads.channel_shifts = False\n",
    "# cfg.training.mic.par_grads.theta_par = False\n",
    "# cfg.training.mic.par_grads.psf_vol = False"
   ]
  },
  {
   "cell_type": "code",
   "execution_count": 186,
   "metadata": {
    "ExecuteTime": {
     "end_time": "2022-05-04T15:05:20.727005Z",
     "start_time": "2022-05-04T15:05:20.720955Z"
    }
   },
   "outputs": [],
   "source": [
    "group = 'sweep_mop_20'\n",
    "pfile = 'MERFISH_mop_20'\n",
    "\n",
    "variable_col = param_iter()\n",
    "variable_col.add('data_path.image_path', '/groups/turaga/home/speisera/Mackebox/Artur/WorkDB/deepstorm//datasets/CodFish/MERFISH/MOp/mouse1_sample1_raw/aligned_images150.tif', '/groups/turaga/home/speisera/Mackebox/Artur/WorkDB/deepstorm//datasets/CodFish/MERFISH/MOp/mouse1_sample1_raw/aligned_images151.tif', '/groups/turaga/home/speisera/Mackebox/Artur/WorkDB/deepstorm//datasets/CodFish/MERFISH/MOp/mouse1_sample1_raw/aligned_images47.tif')\n",
    "par_prod = variable_col.param_product()"
   ]
  },
  {
   "cell_type": "code",
   "execution_count": 68,
   "metadata": {
    "ExecuteTime": {
     "end_time": "2022-05-26T10:56:37.226038Z",
     "start_time": "2022-05-26T10:56:37.220559Z"
    }
   },
   "outputs": [],
   "source": [
    "group = 'sim_int_2'\n",
    "pfile = 'sim_int_2'\n",
    "\n",
    "variable_col = param_iter()\n",
    "variable_col.add('training.mic.par_grads.channel_facs', False)\n",
    "# variable_col.add('training.mic.par_grads.channel_shifts', False)\n",
    "# variable_col.add('training.mic.par_grads.psf_vol', False)\n",
    "par_prod = variable_col.param_product()"
   ]
  },
  {
   "cell_type": "code",
   "execution_count": 388,
   "metadata": {
    "ExecuteTime": {
     "end_time": "2022-06-16T16:17:47.558320Z",
     "start_time": "2022-06-16T16:17:47.553701Z"
    }
   },
   "outputs": [],
   "source": [
    "group = 'sweep_mop_33'\n",
    "pfile = 'MERFISH_mop_33'\n",
    "\n",
    "variable_col = param_iter()\n",
    "# variable_col.add('training.mic.par_grads.z_facs', False)\n",
    "# variable_col.add('genm.microscope.norm', 'none')\n",
    "variable_col.add('data_path.image_path','/groups/turaga/home/speisera/Mackebox/Artur/WorkDB/deepstorm//datasets/CodFish/MERFISH/MOp/mouse1_sample1_raw/aligned_scaled4_images47.tif', \n",
    "                                        '/groups/turaga/home/speisera/Mackebox/Artur/WorkDB/deepstorm//datasets/CodFish/MERFISH/MOp/mouse1_sample1_raw/aligned_scaled4_images150.tif',\n",
    "                                        '/groups/turaga/home/speisera/Mackebox/Artur/WorkDB/deepstorm//datasets/CodFish/MERFISH/MOp/mouse1_sample1_raw/aligned_scaled4_images151.tif')\n",
    "par_prod = variable_col.param_product()"
   ]
  },
  {
   "cell_type": "code",
   "execution_count": 389,
   "metadata": {
    "ExecuteTime": {
     "end_time": "2022-06-16T16:17:47.681575Z",
     "start_time": "2022-06-16T16:17:47.671933Z"
    },
    "code_folding": [],
    "scrolled": true
   },
   "outputs": [
    {
     "name": "stdout",
     "output_type": "stream",
     "text": [
      "bsub -gpu \"num=1\" -n 1 -q gpu_rtx -o logs/ofish.log -e logs/efish.log /groups/turaga/home/speisera/anaconda3/envs/decode_fish_dev2/bin/python /groups/turaga/home/speisera/Mackebox/Artur/WorkDB/deepstorm/decode_fish/decode_fish/train.py +experiment=MERFISH_mop_33 data_path.image_path=/groups/turaga/home/speisera/Mackebox/Artur/WorkDB/deepstorm//datasets/CodFish/MERFISH/MOp/mouse1_sample1_raw/aligned_scaled4_images47.tif run_name=image_path:/groups/turaga/home/speisera/Mackebox/Artur/WorkDB/deepstorm//datasets/CodFish/MERFISH/MOp/mouse1_sample1_raw/aligned_scaled4_images47.tif output.group=sweep_mop_33\n",
      "\n",
      "bsub -gpu \"num=1\" -n 1 -q gpu_rtx -o logs/ofish.log -e logs/efish.log /groups/turaga/home/speisera/anaconda3/envs/decode_fish_dev2/bin/python /groups/turaga/home/speisera/Mackebox/Artur/WorkDB/deepstorm/decode_fish/decode_fish/train.py +experiment=MERFISH_mop_33 data_path.image_path=/groups/turaga/home/speisera/Mackebox/Artur/WorkDB/deepstorm//datasets/CodFish/MERFISH/MOp/mouse1_sample1_raw/aligned_scaled4_images150.tif run_name=image_path:/groups/turaga/home/speisera/Mackebox/Artur/WorkDB/deepstorm//datasets/CodFish/MERFISH/MOp/mouse1_sample1_raw/aligned_scaled4_images150.tif output.group=sweep_mop_33\n",
      "\n",
      "bsub -gpu \"num=1\" -n 1 -q gpu_rtx -o logs/ofish.log -e logs/efish.log /groups/turaga/home/speisera/anaconda3/envs/decode_fish_dev2/bin/python /groups/turaga/home/speisera/Mackebox/Artur/WorkDB/deepstorm/decode_fish/decode_fish/train.py +experiment=MERFISH_mop_33 data_path.image_path=/groups/turaga/home/speisera/Mackebox/Artur/WorkDB/deepstorm//datasets/CodFish/MERFISH/MOp/mouse1_sample1_raw/aligned_scaled4_images151.tif run_name=image_path:/groups/turaga/home/speisera/Mackebox/Artur/WorkDB/deepstorm//datasets/CodFish/MERFISH/MOp/mouse1_sample1_raw/aligned_scaled4_images151.tif output.group=sweep_mop_33\n",
      "\n"
     ]
    }
   ],
   "source": [
    "# Path.mkdir(model_path/group, exist_ok=True)\n",
    "\n",
    "with open('run_slurm.sh', 'w') as f:\n",
    "    for pars in par_prod:  \n",
    "        exec_str = make_sweep_str(pfile, pars, group, resume=False, gpu='gpu_rtx') #, \n",
    "        print(exec_str)\n",
    "        f.write(exec_str)"
   ]
  },
  {
   "cell_type": "code",
   "execution_count": 236,
   "metadata": {
    "ExecuteTime": {
     "end_time": "2022-06-11T15:32:04.295394Z",
     "start_time": "2022-06-11T15:32:04.280718Z"
    }
   },
   "outputs": [
    {
     "ename": "SyntaxError",
     "evalue": "invalid syntax (3663348337.py, line 1)",
     "output_type": "error",
     "traceback": [
      "\u001b[0;36m  Input \u001b[0;32mIn [236]\u001b[0;36m\u001b[0m\n\u001b[0;31m    bsub -gpu \"num=1\" -n 1 -q gpu_rtx -o logs/ofish.log -e logs/efish.log /groups/turaga/home/speisera/anaconda3/envs/decode_fish_dev2/bin/python /groups/turaga/home/speisera/Mackebox/Artur/WorkDB/deepstorm/decode_fish/decode_fish/train.py +experiment=MERFISH_mop_30 genm.exp_type.const_theta_sim=True data_path.image_path=/groups/turaga/home/speisera/Mackebox/Artur/WorkDB/deepstorm//datasets/CodFish/MERFISH/MOp/mouse1_sample1_raw/aligned_scaled5_images47.tif run_name=const_theta_sim:Truexscaled5_images47.tif output.group=sweep_mop_30\u001b[0m\n\u001b[0m              ^\u001b[0m\n\u001b[0;31mSyntaxError\u001b[0m\u001b[0;31m:\u001b[0m invalid syntax\n"
     ]
    }
   ],
   "source": [
    "bsub -gpu \"num=1\" -n 1 -q gpu_rtx -o logs/ofish.log -e logs/efish.log /groups/turaga/home/speisera/anaconda3/envs/decode_fish_dev2/bin/python /groups/turaga/home/speisera/Mackebox/Artur/WorkDB/deepstorm/decode_fish/decode_fish/train.py +experiment=MERFISH_mop_35 data_path.image_path=/groups/turaga/home/speisera/Mackebox/Artur/WorkDB/deepstorm//datasets/CodFish/MERFISH/MOp/mouse1_sample1_raw/aligned_scaled4_images47.tif run_name=image_path:scaled4_images47 output.group=sweep_mop_35\n",
    "\n",
    "bsub -gpu \"num=1\" -n 1 -q gpu_rtx -o logs/ofish.log -e logs/efish.log /groups/turaga/home/speisera/anaconda3/envs/decode_fish_dev2/bin/python /groups/turaga/home/speisera/Mackebox/Artur/WorkDB/deepstorm/decode_fish/decode_fish/train.py +experiment=MERFISH_mop_35 data_path.image_path=/groups/turaga/home/speisera/Mackebox/Artur/WorkDB/deepstorm//datasets/CodFish/MERFISH/MOp/mouse1_sample1_raw/aligned_scaled4_images150.tif run_name=image_path:scaled4_images150 output.group=sweep_mop_35\n",
    "\n",
    "bsub -gpu \"num=1\" -n 1 -q gpu_rtx -o logs/ofish.log -e logs/efish.log /groups/turaga/home/speisera/anaconda3/envs/decode_fish_dev2/bin/python /groups/turaga/home/speisera/Mackebox/Artur/WorkDB/deepstorm/decode_fish/decode_fish/train.py +experiment=MERFISH_mop_35 data_path.image_path=/groups/turaga/home/speisera/Mackebox/Artur/WorkDB/deepstorm//datasets/CodFish/MERFISH/MOp/mouse1_sample1_raw/aligned_scaled4_images151.tif run_name=image_path:scaled4_images151 output.group=sweep_mop_35\n"
   ]
  },
  {
   "cell_type": "code",
   "execution_count": 290,
   "metadata": {
    "ExecuteTime": {
     "end_time": "2022-06-14T06:50:26.527599Z",
     "start_time": "2022-06-14T06:50:26.520683Z"
    }
   },
   "outputs": [],
   "source": [
    "group = 'MERFISH_sweep_gen_9'\n",
    "pfile = 'MERFISH_sweep_gen_9'\n",
    "\n",
    "variable_col = param_iter()\n",
    "variable_col.add('training.mic.par_grads.z_facs', False)\n",
    "variable_col.add('genm.microscope.norm', 'none')\n",
    "# variable_col.add('training.mic.ch_facs_as_theta', True)\n",
    "# variable_col.add('data_path.model_init', '/groups/turaga/home/speisera/Mackebox/Artur/WorkDB/deepstorm/models/fishcod/MERFISH_starfish/MERFISH_sweep_gen_7/seed:0xphasing:0.1//checkpoint/')\n",
    "\n",
    "par_prod = variable_col.param_zip()"
   ]
  },
  {
   "cell_type": "code",
   "execution_count": 291,
   "metadata": {
    "ExecuteTime": {
     "end_time": "2022-06-14T06:50:26.672621Z",
     "start_time": "2022-06-14T06:50:26.661351Z"
    }
   },
   "outputs": [
    {
     "name": "stdout",
     "output_type": "stream",
     "text": [
      "bsub -gpu \"num=1\" -n 1 -q gpu_rtx -o logs/ofish.log -e logs/efish.log /groups/turaga/home/speisera/anaconda3/envs/decode_fish_dev2/bin/python /groups/turaga/home/speisera/Mackebox/Artur/WorkDB/deepstorm/decode_fish/decode_fish/train.py +experiment=MERFISH_sweep_gen_9 training.mic.par_grads.z_facs=False genm.microscope.norm=none run_name=z_facs:Falsexnorm:none output.group=MERFISH_sweep_gen_9\n",
      "\n"
     ]
    }
   ],
   "source": [
    "# Path.mkdir(model_path/group, exist_ok=True)\n",
    "\n",
    "with open('run_slurm.sh', 'w') as f:\n",
    "    for pars in par_prod:  \n",
    "        exec_str = make_sweep_str(pfile, pars, group, resume=False, gpu='gpu_rtx') #, \n",
    "        print(exec_str)\n",
    "        f.write(exec_str)"
   ]
  },
  {
   "cell_type": "code",
   "execution_count": 264,
   "metadata": {
    "ExecuteTime": {
     "end_time": "2022-06-11T17:29:39.173417Z",
     "start_time": "2022-06-11T17:29:39.164324Z"
    }
   },
   "outputs": [
    {
     "ename": "SyntaxError",
     "evalue": "invalid syntax (3707715445.py, line 1)",
     "output_type": "error",
     "traceback": [
      "\u001b[0;36m  Input \u001b[0;32mIn [264]\u001b[0;36m\u001b[0m\n\u001b[0;31m    bsub -gpu \"num=1\" -n 1 -q gpu_rtx -o logs/ofish.log -e logs/efish.log /groups/turaga/home/speisera/anaconda3/envs/decode_fish_dev2/bin/python /groups/turaga/home/speisera/Mackebox/Artur/WorkDB/deepstorm/decode_fish/decode_fish/train.py +experiment=MERFISH_sweep_gen_7 seed=0 genm.phasing=0.1 data_path.model_init=/groups/turaga/home/speisera/Mackebox/Artur/WorkDB/deepstorm/models/fishcod/MERFISH_starfish/MERFISH_sweep_gen_7/seed:0xphasing:0.1//checkpoint/ run_name=seed:0xphasing:0.1 training.resume=True output.group=MERFISH_sweep_gen_7\u001b[0m\n\u001b[0m              ^\u001b[0m\n\u001b[0;31mSyntaxError\u001b[0m\u001b[0;31m:\u001b[0m invalid syntax\n"
     ]
    }
   ],
   "source": [
    "bsub -gpu \"num=1\" -n 1 -q gpu_rtx -o logs/ofish.log -e logs/efish.log /groups/turaga/home/speisera/anaconda3/envs/decode_fish_dev2/bin/python /groups/turaga/home/speisera/Mackebox/Artur/WorkDB/deepstorm/decode_fish/decode_fish/train.py +experiment=MERFISH_sweep_gen_7 seed=0 genm.phasing=0.1 data_path.model_init=/groups/turaga/home/speisera/Mackebox/Artur/WorkDB/deepstorm/models/fishcod/MERFISH_starfish/MERFISH_sweep_gen_7/seed:0xphasing:0.1//checkpoint/ run_name=seed:0xphasing:0.1 training.resume=True output.group=MERFISH_sweep_gen_7"
   ]
  },
  {
   "cell_type": "code",
   "execution_count": 386,
   "metadata": {
    "ExecuteTime": {
     "end_time": "2022-06-15T08:14:51.489698Z",
     "start_time": "2022-06-15T08:14:51.482688Z"
    }
   },
   "outputs": [],
   "source": [
    "group = 'mettrain_sweep_gen_9'\n",
    "\n",
    "variable_col = param_iter()\n",
    "variable_col.add('ignore', 0, 1, 2, 3, 4, 5, 102345)\n",
    "variable_col.add('rate_fac', 5.)\n",
    "par_prod = variable_col.param_product()"
   ]
  },
  {
   "cell_type": "code",
   "execution_count": 387,
   "metadata": {
    "ExecuteTime": {
     "end_time": "2022-06-15T08:14:52.696779Z",
     "start_time": "2022-06-15T08:14:52.689390Z"
    }
   },
   "outputs": [
    {
     "name": "stdout",
     "output_type": "stream",
     "text": [
      "bsub -gpu \"num=1\" -n 1 -q gpu_rtx -o logs/ofish.log -e logs/efish.log /groups/turaga/home/speisera/anaconda3/envs/decode_fish_dev2/bin/python /groups/turaga/home/speisera/Mackebox/Artur/WorkDB/deepstorm/decode_fish/decode_fish/metricnettrain.py ignore=0 rate_fac=5.0 run_name=ignore:0xrate_fac:5.0 output.group=mettrain_sweep_gen_9\n",
      "\n",
      "bsub -gpu \"num=1\" -n 1 -q gpu_rtx -o logs/ofish.log -e logs/efish.log /groups/turaga/home/speisera/anaconda3/envs/decode_fish_dev2/bin/python /groups/turaga/home/speisera/Mackebox/Artur/WorkDB/deepstorm/decode_fish/decode_fish/metricnettrain.py ignore=1 rate_fac=5.0 run_name=ignore:1xrate_fac:5.0 output.group=mettrain_sweep_gen_9\n",
      "\n",
      "bsub -gpu \"num=1\" -n 1 -q gpu_rtx -o logs/ofish.log -e logs/efish.log /groups/turaga/home/speisera/anaconda3/envs/decode_fish_dev2/bin/python /groups/turaga/home/speisera/Mackebox/Artur/WorkDB/deepstorm/decode_fish/decode_fish/metricnettrain.py ignore=2 rate_fac=5.0 run_name=ignore:2xrate_fac:5.0 output.group=mettrain_sweep_gen_9\n",
      "\n",
      "bsub -gpu \"num=1\" -n 1 -q gpu_rtx -o logs/ofish.log -e logs/efish.log /groups/turaga/home/speisera/anaconda3/envs/decode_fish_dev2/bin/python /groups/turaga/home/speisera/Mackebox/Artur/WorkDB/deepstorm/decode_fish/decode_fish/metricnettrain.py ignore=3 rate_fac=5.0 run_name=ignore:3xrate_fac:5.0 output.group=mettrain_sweep_gen_9\n",
      "\n",
      "bsub -gpu \"num=1\" -n 1 -q gpu_rtx -o logs/ofish.log -e logs/efish.log /groups/turaga/home/speisera/anaconda3/envs/decode_fish_dev2/bin/python /groups/turaga/home/speisera/Mackebox/Artur/WorkDB/deepstorm/decode_fish/decode_fish/metricnettrain.py ignore=4 rate_fac=5.0 run_name=ignore:4xrate_fac:5.0 output.group=mettrain_sweep_gen_9\n",
      "\n",
      "bsub -gpu \"num=1\" -n 1 -q gpu_rtx -o logs/ofish.log -e logs/efish.log /groups/turaga/home/speisera/anaconda3/envs/decode_fish_dev2/bin/python /groups/turaga/home/speisera/Mackebox/Artur/WorkDB/deepstorm/decode_fish/decode_fish/metricnettrain.py ignore=5 rate_fac=5.0 run_name=ignore:5xrate_fac:5.0 output.group=mettrain_sweep_gen_9\n",
      "\n",
      "bsub -gpu \"num=1\" -n 1 -q gpu_rtx -o logs/ofish.log -e logs/efish.log /groups/turaga/home/speisera/anaconda3/envs/decode_fish_dev2/bin/python /groups/turaga/home/speisera/Mackebox/Artur/WorkDB/deepstorm/decode_fish/decode_fish/metricnettrain.py ignore=102345 rate_fac=5.0 run_name=ignore:102345xrate_fac:5.0 output.group=mettrain_sweep_gen_9\n",
      "\n"
     ]
    }
   ],
   "source": [
    "with open('run_slurm.sh', 'w') as f:\n",
    "    for pars in par_prod:  \n",
    "        exec_str = make_sweep_str(None, pars, group, resume=False, gpu='gpu_rtx', runfile='metricnettrain.py') #, \n",
    "        print(exec_str)\n",
    "        f.write(exec_str)"
   ]
  },
  {
   "cell_type": "code",
   "execution_count": null,
   "metadata": {},
   "outputs": [],
   "source": []
  }
 ],
 "metadata": {
  "kernelspec": {
   "display_name": "decode_fish_dev2",
   "language": "python",
   "name": "decode_fish_dev2"
  },
  "language_info": {
   "codemirror_mode": {
    "name": "ipython",
    "version": 3
   },
   "file_extension": ".py",
   "mimetype": "text/x-python",
   "name": "python",
   "nbconvert_exporter": "python",
   "pygments_lexer": "ipython3",
   "version": "3.8.13"
  }
 },
 "nbformat": 4,
 "nbformat_minor": 4
}
