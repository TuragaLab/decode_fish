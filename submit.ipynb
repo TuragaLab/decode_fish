{
 "cells": [
  {
   "cell_type": "code",
   "execution_count": 242,
   "metadata": {
    "ExecuteTime": {
     "end_time": "2021-05-12T06:27:52.748473Z",
     "start_time": "2021-05-12T06:27:52.738493Z"
    }
   },
   "outputs": [],
   "source": [
    "from pathlib import Path\n",
    "from decode_fish.funcs.utils import *\n",
    "import glob\n",
    "\n",
    "def make_sweep_str(pfile, pars, group):\n",
    "    \n",
    "    base_str = f'bsub -gpu \"num=1\" -q gpu_any -o logs/ofish.log -e logs/efish.log /groups/turaga/home/speisera/anaconda3/envs/decode2_dev/bin/python /groups/turaga/home/speisera/Mackebox/Artur/WorkDB/deepstorm/decode_fish/decode_fish/train.py'   \n",
    "    base_str = base_str + f' +experiment={pfile}'\n",
    "    name = ''\n",
    "    \n",
    "    for k in pars:\n",
    "        base_str += ' ' + k + f'={pars[k]}'\n",
    "        name += k.split('.')[-1]+f':{pars[k]}x'\n",
    "    name = name[:-1]\n",
    "    \n",
    "    return base_str + f' run_name={name} output.group={group}' + '\\n'\n",
    "    \n",
    "\n",
    "def make_named_str(pfile, name, group):\n",
    "    \n",
    "    base_str = f'bsub -gpu \"num=1\" -q gpu_any -o logs/ofish.log -e logs/efish.log /groups/turaga/home/speisera/anaconda3/envs/decode2_dev/bin/python /groups/turaga/home/speisera/Mackebox/Artur/WorkDB/deepstorm/decode_fish/decode_fish/train.py'   \n",
    "    base_str = base_str + f' +experiment={pfile}'\n",
    "    \n",
    "    return base_str + f' run_name={name} output.group={group}' + '\\n'"
   ]
  },
  {
   "cell_type": "code",
   "execution_count": 247,
   "metadata": {
    "ExecuteTime": {
     "end_time": "2021-05-12T08:52:03.473817Z",
     "start_time": "2021-05-12T08:52:03.465412Z"
    }
   },
   "outputs": [],
   "source": [
    "group = 'sweep_3'\n",
    "pfile = 'covid_early_smFISH_5'\n",
    "\n",
    "# group = 'sweep_fg4'\n",
    "# pfile = 'i_psf_max_norm_foci'\n",
    "\n",
    "variable_col = param_iter()\n",
    "# variable_col.add('training.psf.opt.lr',1e-3,5e-4,2e-4,1e-4,5e-5)\n",
    "variable_col.add('model.int_conc', 3.,5.,7.)\n",
    "\n",
    "\n",
    "par_prod = variable_col.param_product()\n",
    "\n",
    "# name = 'Ref_SI'"
   ]
  },
  {
   "cell_type": "code",
   "execution_count": 248,
   "metadata": {
    "ExecuteTime": {
     "end_time": "2021-05-12T08:52:14.661055Z",
     "start_time": "2021-05-12T08:52:14.639252Z"
    }
   },
   "outputs": [
    {
     "name": "stdout",
     "output_type": "stream",
     "text": [
      "bsub -gpu \"num=1\" -q gpu_any -o logs/ofish.log -e logs/efish.log /groups/turaga/home/speisera/anaconda3/envs/decode2_dev/bin/python /groups/turaga/home/speisera/Mackebox/Artur/WorkDB/deepstorm/decode_fish/decode_fish/train.py +experiment=covid_early_smFISH_5 model.int_conc=3.0 run_name=int_conc:3.0 output.group=sweep_3\n",
      "\n",
      "bsub -gpu \"num=1\" -q gpu_any -o logs/ofish.log -e logs/efish.log /groups/turaga/home/speisera/anaconda3/envs/decode2_dev/bin/python /groups/turaga/home/speisera/Mackebox/Artur/WorkDB/deepstorm/decode_fish/decode_fish/train.py +experiment=covid_early_smFISH_5 model.int_conc=5.0 run_name=int_conc:5.0 output.group=sweep_3\n",
      "\n",
      "bsub -gpu \"num=1\" -q gpu_any -o logs/ofish.log -e logs/efish.log /groups/turaga/home/speisera/anaconda3/envs/decode2_dev/bin/python /groups/turaga/home/speisera/Mackebox/Artur/WorkDB/deepstorm/decode_fish/decode_fish/train.py +experiment=covid_early_smFISH_5 model.int_conc=7.0 run_name=int_conc:7.0 output.group=sweep_3\n",
      "\n"
     ]
    }
   ],
   "source": [
    "Path.mkdir(model_path/group, exist_ok=True)\n",
    "\n",
    "with open('run_slurm.sh', 'w') as f:\n",
    "    for pars in par_prod:  \n",
    "        exec_str = make_sweep_str(pfile, pars, group)\n",
    "        print(exec_str)\n",
    "        f.write(exec_str)"
   ]
  },
  {
   "cell_type": "code",
   "execution_count": 228,
   "metadata": {
    "ExecuteTime": {
     "end_time": "2021-05-11T12:18:38.390209Z",
     "start_time": "2021-05-11T12:18:38.384502Z"
    }
   },
   "outputs": [],
   "source": [
    "model_files = sorted(glob.glob('/groups/turaga/home/speisera/Mackebox/Artur/WorkDB/deepstorm/models/fishcod/Fig_sim_density/sweep_ff6/*'))\n",
    "out_file = 'data/results/test_file.hdf5'\n",
    "\n",
    "# with open('run_slurm.sh', 'w') as f:\n",
    "#     for pars in par_prod:  \n",
    "#         exec_str = make_sweep_str(pfile, pars, group)\n",
    "#         print(exec_str)\n",
    "#         f.write(exec_str)"
   ]
  },
  {
   "cell_type": "code",
   "execution_count": 135,
   "metadata": {
    "ExecuteTime": {
     "end_time": "2021-05-04T13:16:39.214436Z",
     "start_time": "2021-05-04T13:16:39.207123Z"
    }
   },
   "outputs": [
    {
     "data": {
      "text/plain": [
       "['int_conc:1.0',\n",
       " 'int_conc:2.0',\n",
       " 'int_conc:3.0',\n",
       " 'int_conc:4.0',\n",
       " 'int_conc:5.0',\n",
       " 'int_conc:6.0']"
      ]
     },
     "execution_count": 135,
     "metadata": {},
     "output_type": "execute_result"
    }
   ],
   "source": [
    "[Path(m).name for m in model_files]"
   ]
  }
 ],
 "metadata": {
  "kernelspec": {
   "display_name": "Python [conda env:decode2_dev]",
   "language": "python",
   "name": "conda-env-decode2_dev-py"
  },
  "language_info": {
   "codemirror_mode": {
    "name": "ipython",
    "version": 3
   },
   "file_extension": ".py",
   "mimetype": "text/x-python",
   "name": "python",
   "nbconvert_exporter": "python",
   "pygments_lexer": "ipython3",
   "version": "3.7.7"
  }
 },
 "nbformat": 4,
 "nbformat_minor": 4
}
