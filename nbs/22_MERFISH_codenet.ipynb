{
 "cells": [
  {
   "cell_type": "code",
   "execution_count": null,
   "id": "otherwise-vaccine",
   "metadata": {},
   "outputs": [],
   "source": [
    "# default_exp funcs.merfish_codenet"
   ]
  },
  {
   "cell_type": "code",
   "execution_count": null,
   "id": "designing-tournament",
   "metadata": {},
   "outputs": [],
   "source": [
    "%load_ext autoreload\n",
    "%autoreload 2\n",
    "%aimport -decode_fish.engine.place_psfs"
   ]
  },
  {
   "cell_type": "code",
   "execution_count": null,
   "id": "radio-criminal",
   "metadata": {},
   "outputs": [],
   "source": [
    "# export\n",
    "from decode_fish.imports import *\n",
    "from decode_fish.funcs.file_io import *\n",
    "from decode_fish.funcs.emitter_io import *\n",
    "from decode_fish.funcs.utils import *\n",
    "from decode_fish.funcs.dataset import *\n",
    "from decode_fish.funcs.plotting import *\n",
    "from decode_fish.engine.noise import estimate_noise_scale\n",
    "import shutil\n",
    "from decode_fish.funcs.visualization import *\n",
    "import torch.nn as nn\n",
    "import torch.nn.functional as F\n",
    "from decode_fish.funcs.predict import *\n",
    "\n",
    "from omegaconf import open_dict\n",
    "from hydra import compose, initialize\n",
    "from decode_fish.funcs.merfish_eval import *\n",
    "\n",
    "from decode_fish.engine.point_process import *\n",
    "from decode_fish.funcs.output_trafo import *\n",
    "from decode_fish.funcs.evaluation import *\n",
    "from decode_fish.engine.gmm_loss import *\n",
    "from decode_fish.engine.microscope import add_pos_noise\n",
    "from sklearn.utils import resample\n",
    "import wandb"
   ]
  },
  {
   "cell_type": "code",
   "execution_count": null,
   "id": "awful-assembly",
   "metadata": {},
   "outputs": [],
   "source": [
    "import os\n",
    "os.environ[\"CUDA_VISIBLE_DEVICES\"] = '0'"
   ]
  },
  {
   "cell_type": "code",
   "execution_count": null,
   "id": "naughty-england",
   "metadata": {},
   "outputs": [],
   "source": [
    "cfg = OmegaConf.load(f'/groups/turaga/home/speisera/Mackebox/Artur/WorkDB/deepstorm/models/fishcod/MERFISH_starfish/MERFISH_sweep_gen_9/z_facs:Falsexnorm:none//train.yaml')"
   ]
  },
  {
   "cell_type": "code",
   "execution_count": null,
   "id": "desirable-division",
   "metadata": {},
   "outputs": [],
   "source": [
    "test_csv = pd.read_csv('/groups/turaga/home/speisera/Mackebox/Artur/WorkDB/deepstorm/decode_fish/data/qual_nets/starfish_test.csv')\n",
    "test_csv['int_ratio'] = zero_int_ch(test_csv, codebook)['int_ratio']"
   ]
  },
  {
   "cell_type": "code",
   "execution_count": null,
   "id": "voluntary-routine",
   "metadata": {},
   "outputs": [
    {
     "name": "stdout",
     "output_type": "stream",
     "text": [
      "Crop size larger than volume in at least one dimension. Crop size changed to (1, 48, 48)\n",
      "1 volumes\n"
     ]
    },
    {
     "name": "stderr",
     "output_type": "stream",
     "text": [
      "/groups/turaga/home/speisera/anaconda3/envs/decode_fish_dev2/lib/python3.8/site-packages/torch/functional.py:568: UserWarning: torch.meshgrid: in an upcoming release, it will be required to pass the indexing argument. (Triggered internally at  ../aten/src/ATen/native/TensorShape.cpp:2228.)\n",
      "  return _VF.meshgrid(tensors, **kwargs)  # type: ignore[attr-defined]\n"
     ]
    }
   ],
   "source": [
    "cfg.genm.foci.n_foci_avg = 0\n",
    "cfg.training.bs = 20\n",
    "model, post_proc, micro, img_3d, decode_dl = load_all(cfg)"
   ]
  },
  {
   "cell_type": "code",
   "execution_count": null,
   "id": "manufactured-youth",
   "metadata": {},
   "outputs": [],
   "source": [
    "from decode_fish.funcs.exp_specific import *\n",
    "codebook, targets = get_starfish_codebook()"
   ]
  },
  {
   "cell_type": "code",
   "execution_count": null,
   "id": "fitting-criterion",
   "metadata": {},
   "outputs": [],
   "source": [
    "post_proc.codebook = expand_codebook(codebook)"
   ]
  },
  {
   "cell_type": "code",
   "execution_count": null,
   "id": "certified-exception",
   "metadata": {},
   "outputs": [],
   "source": [
    "# export\n",
    "class code_net(nn.Module):\n",
    "\n",
    "    def __init__(self, n_inputs=53, n_outputs=1):\n",
    "        super(code_net, self).__init__()\n",
    "        \n",
    "        self.layers = nn.Sequential(\n",
    "          nn.Linear(n_inputs, 256),\n",
    "          nn.BatchNorm1d(256),\n",
    "          nn.ReLU(),\n",
    "          nn.Linear(256, 128),\n",
    "          nn.BatchNorm1d(128),\n",
    "          nn.ReLU(),\n",
    "          nn.Linear(128, 64),\n",
    "          nn.BatchNorm1d(64),\n",
    "          nn.ReLU(),\n",
    "          nn.Linear(64, 32),\n",
    "          nn.BatchNorm1d(32),\n",
    "          nn.ReLU(),\n",
    "          nn.Linear(32, n_outputs)\n",
    "        )\n",
    "        \n",
    "    def forward(self, x):\n",
    "        \n",
    "        return self.layers(x)\n",
    "    \n",
    "class conv_net(nn.Module):\n",
    "\n",
    "    def __init__(self, n_metrics=5, n_chs=16, bn=False):\n",
    "        super(conv_net, self).__init__()\n",
    "    \n",
    "        self.n_chs = n_chs\n",
    "        self.n_metrics = n_metrics\n",
    "\n",
    "        self.int_c1 = nn.Linear(3, 10).cuda()\n",
    "        self.int_c2 = nn.Linear(10, 10).cuda()\n",
    "        self.int_c3 = nn.Linear(10, 1).cuda()\n",
    "        \n",
    "        if bn:\n",
    "            self.layers = nn.Sequential(\n",
    "              nn.Linear(self.n_metrics + self.n_chs, 256),\n",
    "              nn.BatchNorm1d(128),\n",
    "              nn.ReLU(),\n",
    "              nn.Linear(128, 64),\n",
    "              nn.BatchNorm1d(64),\n",
    "              nn.ReLU(),\n",
    "              nn.Linear(64, 32),\n",
    "              nn.BatchNorm1d(32),\n",
    "              nn.ReLU(),\n",
    "              nn.Linear(32, 1)\n",
    "            )\n",
    "        else:\n",
    "            self.layers = nn.Sequential(\n",
    "              nn.Linear(self.n_metrics + self.n_chs, 256),\n",
    "              nn.ReLU(),\n",
    "              nn.Linear(256, 128),\n",
    "              nn.ReLU(),\n",
    "              nn.Linear(128, 64),\n",
    "              nn.ReLU(),\n",
    "              nn.Linear(64, 32),\n",
    "              nn.ReLU(),\n",
    "              nn.Linear(32, 1)\n",
    "            )            \n",
    "        \n",
    "    def forward(self, x):\n",
    "        \n",
    "        intm_ints_bin = x[:, -3*self.n_chs:].reshape(-1, 3, self.n_chs).permute(0,2,1)\n",
    "        f_int = F.relu(self.int_c1(intm_ints_bin))\n",
    "        f_int = F.relu(self.int_c2(f_int))\n",
    "        f_int = F.relu(self.int_c3(f_int)[:,:,0])\n",
    "        \n",
    "        dense_inp = torch.cat([x[:, :self.n_metrics], f_int], 1)\n",
    "        return self.layers(dense_inp)   \n",
    "\n",
    "# net = code_net().cuda()\n",
    "net = conv_net(6, 16).cuda()\n",
    "\n",
    "def input_from_df(df, codebook):\n",
    "          \n",
    "    n_ch = len(codebook[0])\n",
    "    input_keys = ['prob', 'z', 'x_sig','y_sig','z_sig','int_ratio'] + [f'int_sig_{i}' for i in range(n_ch)]  + [f'int_{i}' for i in range(n_ch)]\n",
    "    offsets = [0.75, 50, 20., 20., 15.,2.] + n_ch*[1.] + n_ch*[0.]\n",
    "    scales = [1., 100., 20., 20., 15.,2.] + n_ch*[2.] + n_ch*[5.]\n",
    "    inp_arr = df[input_keys].values\n",
    "    inp_arr = (inp_arr - np.array(offsets))/np.array(scales)\n",
    "    \n",
    "    inp_arr = np.concatenate([inp_arr, codebook[df['code_inds'].values]], 1)\n",
    "    \n",
    "    return torch.tensor(inp_arr, dtype=torch.float32).cuda()"
   ]
  },
  {
   "cell_type": "code",
   "execution_count": null,
   "id": "latin-index",
   "metadata": {},
   "outputs": [],
   "source": [
    "# export\n",
    "def train_metric_net(net, model, decode_dl, post_proc, micro, point_process, cfg):\n",
    "\n",
    "    bce = torch.nn.BCEWithLogitsLoss()\n",
    "    opt = torch.optim.AdamW(net.parameters(), lr = 4e-3)\n",
    "    sched = torch.optim.lr_scheduler.StepLR(opt, step_size=100, gamma=0.5)\n",
    "    test_csv = pd.read_csv(cfg.test_csv)\n",
    "    codebook, targets = hydra.utils.instantiate(cfg.codebook)\n",
    "    model.cuda()\n",
    "    test_csv['int_ratio'] = sel_int_ch(test_csv, codebook)['int_ratio']\n",
    "    \n",
    "    ignores = [int(a) for a in str(cfg.ignore)]\n",
    "    zero_out = torch.ones(54).cuda()\n",
    "    zero_out[ignores] = 0\n",
    "    \n",
    "    for i in tqdm(range(cfg.num_iters)):\n",
    "\n",
    "        with torch.no_grad():\n",
    "\n",
    "            ret_dict = next(iter(decode_dl))\n",
    "            x, local_rate, background = ret_dict['x'], ret_dict['local_rate'], ret_dict['background'],\n",
    "            zcrop, ycrop, xcrop = ret_dict['crop_z'], ret_dict['crop_y'], ret_dict['crop_x']\n",
    "            background = background * micro.get_ch_mult()\n",
    "            if cfg.sim.bg_estimation.shuffle_ch:\n",
    "                background = background.index_select(1, torch.randperm(background.shape[1]).cuda())\n",
    "\n",
    "            if cfg.genm.microscope.col_shifts_enabled  :\n",
    "                zcrop, ycrop, xcrop = ret_dict['crop_z'], ret_dict['crop_y'], ret_dict['crop_x']\n",
    "                zcrop, ycrop, xcrop = zcrop.flatten(), ycrop.flatten(), xcrop.flatten()\n",
    "                colshift_crop = get_color_shift_inp(micro.color_shifts, micro.col_shifts_yx, ycrop, xcrop, cfg.sim.random_crop.crop_sz)\n",
    "            else:\n",
    "                zcrop, ycrop, xcrop, colshift_crop = None, None, None, None\n",
    "\n",
    "            local_rate *= cfg.rate_fac\n",
    "            sim_vars = point_process.sample(local_rate[:,0])\n",
    "\n",
    "            ch_inp = list(micro.get_single_ch_inputs(*sim_vars[:-1], ycrop=ycrop, xcrop=xcrop))\n",
    "            cond = sim_vars[-1] < len(codebook)\n",
    "            cb_cool = torch.repeat_interleave(cond, cond * (cfg.genm.exp_type.n_bits - 1) + 1)\n",
    "            ch_inp[1][cb_cool], ch_inp[2][cb_cool], ch_inp[3][cb_cool] = add_pos_noise([ch_inp[1][cb_cool], ch_inp[2][cb_cool], ch_inp[3][cb_cool]],\n",
    "                                                                                       [cfg.genm.pos_noise.pos_noise_xy*0.5, cfg.genm.pos_noise.pos_noise_xy*0.5, cfg.genm.pos_noise.pos_noise_z], cfg.genm.exp_type.n_bits)\n",
    "            xsim = micro(*ch_inp, add_noise=True)\n",
    "\n",
    "            if cfg.genm.phasing:\n",
    "\n",
    "                phasing_inp = list(micro.get_single_ch_inputs(*sim_vars[:4], get_phased_ints(sim_vars[4], micro.ch_cols, micro.psf.n_cols) ,sim_vars[5], ycrop=ycrop, xcrop=xcrop))\n",
    "                phasing_inp[1:4] = add_pos_noise(phasing_inp[1:4], [cfg.genm.pos_noise.pos_noise_xy, cfg.genm.pos_noise.pos_noise_xy, cfg.genm.pos_noise.pos_noise_z], cfg.genm.exp_type.n_bits, rm_mean=False)\n",
    "                xsim += micro(*phasing_inp, add_noise=True) * cfg.genm.phasing * torch.rand(xsim.shape, device=xsim.device)\n",
    "\n",
    "            x = micro.noise(xsim, background, const_theta_sim=cfg.genm.exp_type.const_theta_sim).sample()\n",
    "\n",
    "            colshift_crop = get_color_shift_inp(micro.color_shifts, micro.col_shifts_yx, ycrop, xcrop, cfg.sim.random_crop.crop_sz)\n",
    "            net_inp = torch.concat([x,colshift_crop], 1)\n",
    "\n",
    "            gt_vars = sim_vars[:-2]\n",
    "            gt_df = sample_to_df(*gt_vars, sim_vars[-1], px_size_zyx=[1.,1.,1.])\n",
    "            gt_df = gt_df[gt_df['code_inds'] < len(codebook)]\n",
    "\n",
    "            res_dict = model(net_inp.cuda())\n",
    "            res_dict = model.tensor_to_dict(res_dict)\n",
    "            pred_df = post_proc.get_df(res_dict)\n",
    "            pred_df = pred_df[pred_df['code_inds'] < len(codebook)]\n",
    "            pred_df['gene'] = targets[pred_df['code_inds']]\n",
    "    #         pred_df = sel_int_ch(pred_df, codebook)\n",
    "\n",
    "            perf, matches, _ = matching(px_to_nm(gt_df), pred_df, tolerance=500, print_res=False)\n",
    "\n",
    "            pred_df.loc[:, 'class'] = 1\n",
    "            pred_df.loc[pred_df['loc_idx'].isin(matches['loc_idx_pred']), 'class'] = 0\n",
    "            pred_df['int_ratio'] = zero_int_ch(pred_df, codebook)['int_ratio'].values\n",
    "\n",
    "        opt.zero_grad()\n",
    "\n",
    "        ''''''\n",
    "        if cfg.resample:\n",
    "            df_majority = pred_df[pred_df['class']==0]\n",
    "            df_minority = pred_df[pred_df['class']==1]\n",
    "\n",
    "            df_maj_down = resample(df_majority, replace=True, n_samples=len(df_minority)*2)\n",
    "\n",
    "            pred_df = pd.concat([df_minority, df_maj_down])\n",
    "        ''''''\n",
    "\n",
    "        net_inp = input_from_df(pred_df, codebook)\n",
    "        net_inp *= zero_out[None]\n",
    "        net_out = net(net_inp)\n",
    "\n",
    "        net_tar = torch.tensor(pred_df['class'].values, dtype=torch.float32).cuda()\n",
    "        loss = bce(net_out, net_tar[:,None])\n",
    "\n",
    "        test_csv['net_score'] = torch.sigmoid(net(input_from_df(test_csv, codebook)).detach().cpu())\n",
    "\n",
    "        loss.backward()\n",
    "\n",
    "        opt.step()\n",
    "        sched.step()\n",
    "\n",
    "        wandb.log({'loss': loss.item()}, step=i)\n",
    "        wandb.log({'N_blanks': test_csv.nsmallest(12555, 'net_score')['class'].sum()}, step=i)\n",
    "\n",
    "        if i % 20 == 0 and cfg.save_file is not None:\n",
    "            torch.save(net, cfg.save_file)\n",
    "            \n",
    "    wandb.finish()"
   ]
  },
  {
   "cell_type": "code",
   "execution_count": null,
   "id": "printable-alloy",
   "metadata": {},
   "outputs": [
    {
     "name": "stderr",
     "output_type": "stream",
     "text": [
      "  0%|▎                                                                                                                                                   | 1/500 [00:05<49:36,  5.96s/it]"
     ]
    },
    {
     "name": "stdout",
     "output_type": "stream",
     "text": [
      "0.6658934354782104\n",
      "107\n"
     ]
    },
    {
     "name": "stderr",
     "output_type": "stream",
     "text": [
      "\r",
      "  0%|▌                                                                                                                                                   | 2/500 [00:10<42:07,  5.08s/it]"
     ]
    },
    {
     "name": "stdout",
     "output_type": "stream",
     "text": [
      "0.6467674374580383\n",
      "330\n"
     ]
    },
    {
     "name": "stderr",
     "output_type": "stream",
     "text": [
      "\r",
      "  1%|▉                                                                                                                                                   | 3/500 [00:16<45:33,  5.50s/it]"
     ]
    },
    {
     "name": "stdout",
     "output_type": "stream",
     "text": [
      "0.6302918791770935\n",
      "299\n"
     ]
    },
    {
     "name": "stderr",
     "output_type": "stream",
     "text": [
      "\r",
      "  1%|█▏                                                                                                                                                  | 4/500 [00:21<44:29,  5.38s/it]"
     ]
    },
    {
     "name": "stdout",
     "output_type": "stream",
     "text": [
      "0.6091418266296387\n",
      "301\n"
     ]
    },
    {
     "name": "stderr",
     "output_type": "stream",
     "text": [
      "\r",
      "  1%|█▍                                                                                                                                                  | 5/500 [00:27<46:48,  5.67s/it]"
     ]
    },
    {
     "name": "stdout",
     "output_type": "stream",
     "text": [
      "0.563991129398346\n",
      "272\n"
     ]
    },
    {
     "name": "stderr",
     "output_type": "stream",
     "text": [
      "\r",
      "  1%|█▊                                                                                                                                                  | 6/500 [00:32<43:15,  5.25s/it]"
     ]
    },
    {
     "name": "stdout",
     "output_type": "stream",
     "text": [
      "0.5137714147567749\n",
      "241\n"
     ]
    },
    {
     "name": "stderr",
     "output_type": "stream",
     "text": [
      "\r",
      "  1%|██                                                                                                                                                  | 7/500 [00:37<43:12,  5.26s/it]"
     ]
    },
    {
     "name": "stdout",
     "output_type": "stream",
     "text": [
      "0.4423367381095886\n",
      "191\n"
     ]
    },
    {
     "name": "stderr",
     "output_type": "stream",
     "text": [
      "\r",
      "  2%|██▎                                                                                                                                                 | 8/500 [00:42<42:12,  5.15s/it]"
     ]
    },
    {
     "name": "stdout",
     "output_type": "stream",
     "text": [
      "0.4055396020412445\n",
      "123\n"
     ]
    },
    {
     "name": "stderr",
     "output_type": "stream",
     "text": [
      "\r",
      "  2%|██▋                                                                                                                                                 | 9/500 [00:47<42:44,  5.22s/it]"
     ]
    },
    {
     "name": "stdout",
     "output_type": "stream",
     "text": [
      "0.4081571102142334\n",
      "67\n"
     ]
    },
    {
     "name": "stderr",
     "output_type": "stream",
     "text": [
      "\r",
      "  2%|██▉                                                                                                                                                | 10/500 [00:54<46:03,  5.64s/it]"
     ]
    },
    {
     "name": "stdout",
     "output_type": "stream",
     "text": [
      "0.46252334117889404\n",
      "24\n"
     ]
    },
    {
     "name": "stderr",
     "output_type": "stream",
     "text": [
      "\r",
      "  2%|███▏                                                                                                                                               | 11/500 [00:59<44:56,  5.51s/it]"
     ]
    },
    {
     "name": "stdout",
     "output_type": "stream",
     "text": [
      "0.40869057178497314\n",
      "10\n"
     ]
    },
    {
     "name": "stderr",
     "output_type": "stream",
     "text": [
      "\r",
      "  2%|███▌                                                                                                                                               | 12/500 [01:05<45:57,  5.65s/it]"
     ]
    },
    {
     "name": "stdout",
     "output_type": "stream",
     "text": [
      "0.3963662087917328\n",
      "7\n"
     ]
    },
    {
     "name": "stderr",
     "output_type": "stream",
     "text": [
      "\r",
      "  3%|███▊                                                                                                                                               | 13/500 [01:10<45:09,  5.56s/it]"
     ]
    },
    {
     "name": "stdout",
     "output_type": "stream",
     "text": [
      "0.34834638237953186\n",
      "9\n"
     ]
    },
    {
     "name": "stderr",
     "output_type": "stream",
     "text": [
      "\r",
      "  3%|████                                                                                                                                               | 14/500 [01:17<46:22,  5.73s/it]"
     ]
    },
    {
     "name": "stdout",
     "output_type": "stream",
     "text": [
      "0.3725771903991699\n",
      "8\n"
     ]
    },
    {
     "name": "stderr",
     "output_type": "stream",
     "text": [
      "\r",
      "  3%|████▍                                                                                                                                              | 15/500 [01:21<43:33,  5.39s/it]"
     ]
    },
    {
     "name": "stdout",
     "output_type": "stream",
     "text": [
      "0.3235606551170349\n",
      "9\n"
     ]
    },
    {
     "name": "stderr",
     "output_type": "stream",
     "text": [
      "\r",
      "  3%|████▋                                                                                                                                              | 16/500 [01:27<44:36,  5.53s/it]"
     ]
    },
    {
     "name": "stdout",
     "output_type": "stream",
     "text": [
      "0.35687169432640076\n",
      "9\n"
     ]
    },
    {
     "name": "stderr",
     "output_type": "stream",
     "text": [
      "\r",
      "  3%|████▉                                                                                                                                              | 17/500 [01:32<43:42,  5.43s/it]"
     ]
    },
    {
     "name": "stdout",
     "output_type": "stream",
     "text": [
      "0.36044842004776\n",
      "9\n"
     ]
    },
    {
     "name": "stderr",
     "output_type": "stream",
     "text": [
      "\r",
      "  4%|█████▎                                                                                                                                             | 18/500 [01:39<46:00,  5.73s/it]"
     ]
    },
    {
     "name": "stdout",
     "output_type": "stream",
     "text": [
      "0.3543606698513031\n",
      "11\n"
     ]
    },
    {
     "name": "stderr",
     "output_type": "stream",
     "text": [
      "\r",
      "  4%|█████▌                                                                                                                                             | 19/500 [01:45<47:59,  5.99s/it]"
     ]
    },
    {
     "name": "stdout",
     "output_type": "stream",
     "text": [
      "0.4005882740020752\n",
      "12\n"
     ]
    },
    {
     "name": "stderr",
     "output_type": "stream",
     "text": [
      "\r",
      "  4%|█████▉                                                                                                                                             | 20/500 [01:50<45:30,  5.69s/it]"
     ]
    },
    {
     "name": "stdout",
     "output_type": "stream",
     "text": [
      "0.34215378761291504\n",
      "12\n"
     ]
    },
    {
     "name": "stderr",
     "output_type": "stream",
     "text": [
      "\r",
      "  4%|██████▏                                                                                                                                            | 21/500 [01:56<45:04,  5.65s/it]"
     ]
    },
    {
     "name": "stdout",
     "output_type": "stream",
     "text": [
      "0.3260084092617035\n",
      "11\n"
     ]
    },
    {
     "name": "stderr",
     "output_type": "stream",
     "text": [
      "\r",
      "  4%|██████▍                                                                                                                                            | 22/500 [02:01<43:48,  5.50s/it]"
     ]
    },
    {
     "name": "stdout",
     "output_type": "stream",
     "text": [
      "0.3474278748035431\n",
      "11\n"
     ]
    },
    {
     "name": "stderr",
     "output_type": "stream",
     "text": [
      "\r",
      "  5%|██████▊                                                                                                                                            | 23/500 [02:08<47:56,  6.03s/it]"
     ]
    },
    {
     "name": "stdout",
     "output_type": "stream",
     "text": [
      "0.3873015344142914\n",
      "12\n"
     ]
    },
    {
     "name": "stderr",
     "output_type": "stream",
     "text": [
      "\r",
      "  5%|███████                                                                                                                                            | 24/500 [02:15<50:43,  6.39s/it]"
     ]
    },
    {
     "name": "stdout",
     "output_type": "stream",
     "text": [
      "0.3916091024875641\n",
      "12\n"
     ]
    },
    {
     "name": "stderr",
     "output_type": "stream",
     "text": [
      "\r",
      "  5%|███████▎                                                                                                                                           | 25/500 [02:21<47:31,  6.00s/it]"
     ]
    },
    {
     "name": "stdout",
     "output_type": "stream",
     "text": [
      "0.3158445954322815\n",
      "12\n"
     ]
    },
    {
     "name": "stderr",
     "output_type": "stream",
     "text": [
      "\r",
      "  5%|███████▋                                                                                                                                           | 26/500 [02:27<47:45,  6.05s/it]"
     ]
    },
    {
     "name": "stdout",
     "output_type": "stream",
     "text": [
      "0.33302921056747437\n",
      "12\n"
     ]
    },
    {
     "name": "stderr",
     "output_type": "stream",
     "text": [
      "\r",
      "  5%|███████▉                                                                                                                                           | 27/500 [02:33<48:36,  6.17s/it]"
     ]
    },
    {
     "name": "stdout",
     "output_type": "stream",
     "text": [
      "0.4029085040092468\n",
      "12\n"
     ]
    },
    {
     "name": "stderr",
     "output_type": "stream",
     "text": [
      "\r",
      "  6%|████████▏                                                                                                                                          | 28/500 [02:39<48:29,  6.16s/it]"
     ]
    },
    {
     "name": "stdout",
     "output_type": "stream",
     "text": [
      "0.34636440873146057\n",
      "12\n"
     ]
    },
    {
     "name": "stderr",
     "output_type": "stream",
     "text": [
      "\r",
      "  6%|████████▌                                                                                                                                          | 29/500 [02:44<43:49,  5.58s/it]"
     ]
    },
    {
     "name": "stdout",
     "output_type": "stream",
     "text": [
      "0.3438092768192291\n",
      "12\n"
     ]
    },
    {
     "name": "stderr",
     "output_type": "stream",
     "text": [
      "\r",
      "  6%|████████▊                                                                                                                                          | 30/500 [02:49<44:08,  5.63s/it]"
     ]
    },
    {
     "name": "stdout",
     "output_type": "stream",
     "text": [
      "0.3273528516292572\n",
      "14\n"
     ]
    },
    {
     "name": "stderr",
     "output_type": "stream",
     "text": [
      "\r",
      "  6%|█████████                                                                                                                                          | 31/500 [02:56<46:34,  5.96s/it]"
     ]
    },
    {
     "name": "stdout",
     "output_type": "stream",
     "text": [
      "0.3557707667350769\n",
      "15\n"
     ]
    },
    {
     "name": "stderr",
     "output_type": "stream",
     "text": [
      "\r",
      "  6%|█████████▍                                                                                                                                         | 32/500 [03:00<42:54,  5.50s/it]"
     ]
    },
    {
     "name": "stdout",
     "output_type": "stream",
     "text": [
      "0.2963816523551941\n",
      "16\n"
     ]
    },
    {
     "name": "stderr",
     "output_type": "stream",
     "text": [
      "\r",
      "  7%|█████████▋                                                                                                                                         | 33/500 [03:07<44:54,  5.77s/it]"
     ]
    },
    {
     "name": "stdout",
     "output_type": "stream",
     "text": [
      "0.34079065918922424\n",
      "16\n"
     ]
    },
    {
     "name": "stderr",
     "output_type": "stream",
     "text": [
      "\r",
      "  7%|█████████▉                                                                                                                                         | 34/500 [03:13<45:15,  5.83s/it]"
     ]
    },
    {
     "name": "stdout",
     "output_type": "stream",
     "text": [
      "0.36372682452201843\n",
      "17\n"
     ]
    },
    {
     "name": "stderr",
     "output_type": "stream",
     "text": [
      "\r",
      "  7%|██████████▎                                                                                                                                        | 35/500 [03:19<46:10,  5.96s/it]"
     ]
    },
    {
     "name": "stdout",
     "output_type": "stream",
     "text": [
      "0.3432616591453552\n",
      "19\n"
     ]
    },
    {
     "name": "stderr",
     "output_type": "stream",
     "text": [
      "\r",
      "  7%|██████████▌                                                                                                                                        | 36/500 [03:24<43:19,  5.60s/it]"
     ]
    },
    {
     "name": "stdout",
     "output_type": "stream",
     "text": [
      "0.2971508204936981\n",
      "19\n"
     ]
    },
    {
     "name": "stderr",
     "output_type": "stream",
     "text": [
      "\r",
      "  7%|██████████▉                                                                                                                                        | 37/500 [03:29<42:18,  5.48s/it]"
     ]
    },
    {
     "name": "stdout",
     "output_type": "stream",
     "text": [
      "0.27579402923583984\n",
      "19\n"
     ]
    },
    {
     "name": "stderr",
     "output_type": "stream",
     "text": [
      "\r",
      "  8%|███████████▏                                                                                                                                       | 38/500 [03:35<42:54,  5.57s/it]"
     ]
    },
    {
     "name": "stdout",
     "output_type": "stream",
     "text": [
      "0.36080339550971985\n",
      "19\n"
     ]
    },
    {
     "name": "stderr",
     "output_type": "stream",
     "text": [
      "\r",
      "  8%|███████████▍                                                                                                                                       | 39/500 [03:41<43:46,  5.70s/it]"
     ]
    },
    {
     "name": "stdout",
     "output_type": "stream",
     "text": [
      "0.3193778395652771\n",
      "19\n"
     ]
    },
    {
     "name": "stderr",
     "output_type": "stream",
     "text": [
      "\r",
      "  8%|███████████▊                                                                                                                                       | 40/500 [03:45<40:40,  5.31s/it]"
     ]
    },
    {
     "name": "stdout",
     "output_type": "stream",
     "text": [
      "0.26492127776145935\n",
      "19\n"
     ]
    },
    {
     "name": "stderr",
     "output_type": "stream",
     "text": [
      "\r",
      "  8%|████████████                                                                                                                                       | 41/500 [03:52<44:37,  5.83s/it]"
     ]
    },
    {
     "name": "stdout",
     "output_type": "stream",
     "text": [
      "0.3566470146179199\n",
      "20\n"
     ]
    },
    {
     "name": "stderr",
     "output_type": "stream",
     "text": [
      "\r",
      "  8%|████████████▎                                                                                                                                      | 42/500 [03:58<45:12,  5.92s/it]"
     ]
    },
    {
     "name": "stdout",
     "output_type": "stream",
     "text": [
      "0.32311150431632996\n",
      "20\n"
     ]
    },
    {
     "name": "stderr",
     "output_type": "stream",
     "text": [
      "\r",
      "  9%|████████████▋                                                                                                                                      | 43/500 [04:04<45:02,  5.91s/it]"
     ]
    },
    {
     "name": "stdout",
     "output_type": "stream",
     "text": [
      "0.35395190119743347\n",
      "21\n"
     ]
    },
    {
     "name": "stderr",
     "output_type": "stream",
     "text": [
      "\r",
      "  9%|████████████▉                                                                                                                                      | 44/500 [04:11<47:15,  6.22s/it]"
     ]
    },
    {
     "name": "stdout",
     "output_type": "stream",
     "text": [
      "0.36340853571891785\n",
      "22\n"
     ]
    },
    {
     "name": "stderr",
     "output_type": "stream",
     "text": [
      "\r",
      "  9%|█████████████▏                                                                                                                                     | 45/500 [04:16<44:45,  5.90s/it]"
     ]
    },
    {
     "name": "stdout",
     "output_type": "stream",
     "text": [
      "0.31183579564094543\n",
      "22\n"
     ]
    },
    {
     "name": "stderr",
     "output_type": "stream",
     "text": [
      "\r",
      "  9%|█████████████▌                                                                                                                                     | 46/500 [04:23<45:16,  5.98s/it]"
     ]
    },
    {
     "name": "stdout",
     "output_type": "stream",
     "text": [
      "0.3238610029220581\n",
      "22\n"
     ]
    },
    {
     "name": "stderr",
     "output_type": "stream",
     "text": [
      "\r",
      "  9%|█████████████▊                                                                                                                                     | 47/500 [04:28<43:53,  5.81s/it]"
     ]
    },
    {
     "name": "stdout",
     "output_type": "stream",
     "text": [
      "0.30671557784080505\n",
      "22\n"
     ]
    },
    {
     "name": "stderr",
     "output_type": "stream",
     "text": [
      "\r",
      " 10%|██████████████                                                                                                                                     | 48/500 [04:33<42:48,  5.68s/it]"
     ]
    },
    {
     "name": "stdout",
     "output_type": "stream",
     "text": [
      "0.3372621536254883\n",
      "22\n"
     ]
    },
    {
     "name": "stderr",
     "output_type": "stream",
     "text": [
      "\r",
      " 10%|██████████████▍                                                                                                                                    | 49/500 [04:38<41:02,  5.46s/it]"
     ]
    },
    {
     "name": "stdout",
     "output_type": "stream",
     "text": [
      "0.31475067138671875\n",
      "22\n"
     ]
    },
    {
     "name": "stderr",
     "output_type": "stream",
     "text": [
      "\r",
      " 10%|██████████████▋                                                                                                                                    | 50/500 [04:43<38:15,  5.10s/it]"
     ]
    },
    {
     "name": "stdout",
     "output_type": "stream",
     "text": [
      "0.3295568525791168\n",
      "22\n"
     ]
    },
    {
     "name": "stderr",
     "output_type": "stream",
     "text": [
      " 10%|██████████████▋                                                                                                                                    | 50/500 [04:46<43:02,  5.74s/it]\n"
     ]
    },
    {
     "ename": "KeyboardInterrupt",
     "evalue": "",
     "output_type": "error",
     "traceback": [
      "\u001b[0;31m---------------------------------------------------------------------------\u001b[0m",
      "\u001b[0;31mKeyboardInterrupt\u001b[0m                         Traceback (most recent call last)",
      "Input \u001b[0;32mIn [399]\u001b[0m, in \u001b[0;36m<cell line: 19>\u001b[0;34m()\u001b[0m\n\u001b[1;32m     49\u001b[0m     phasing_inp \u001b[38;5;241m=\u001b[39m \u001b[38;5;28mlist\u001b[39m(micro\u001b[38;5;241m.\u001b[39mget_single_ch_inputs(\u001b[38;5;241m*\u001b[39msim_vars[:\u001b[38;5;241m4\u001b[39m], get_phased_ints(sim_vars[\u001b[38;5;241m4\u001b[39m], micro\u001b[38;5;241m.\u001b[39mch_cols, micro\u001b[38;5;241m.\u001b[39mpsf\u001b[38;5;241m.\u001b[39mn_cols) ,sim_vars[\u001b[38;5;241m5\u001b[39m], ycrop\u001b[38;5;241m=\u001b[39mycrop, xcrop\u001b[38;5;241m=\u001b[39mxcrop))\n\u001b[1;32m     50\u001b[0m     phasing_inp[\u001b[38;5;241m1\u001b[39m:\u001b[38;5;241m4\u001b[39m] \u001b[38;5;241m=\u001b[39m add_pos_noise(phasing_inp[\u001b[38;5;241m1\u001b[39m:\u001b[38;5;241m4\u001b[39m], [cfg\u001b[38;5;241m.\u001b[39mgenm\u001b[38;5;241m.\u001b[39mpos_noise\u001b[38;5;241m.\u001b[39mpos_noise_xy, cfg\u001b[38;5;241m.\u001b[39mgenm\u001b[38;5;241m.\u001b[39mpos_noise\u001b[38;5;241m.\u001b[39mpos_noise_xy, cfg\u001b[38;5;241m.\u001b[39mgenm\u001b[38;5;241m.\u001b[39mpos_noise\u001b[38;5;241m.\u001b[39mpos_noise_z], cfg\u001b[38;5;241m.\u001b[39mgenm\u001b[38;5;241m.\u001b[39mexp_type\u001b[38;5;241m.\u001b[39mn_bits, rm_mean\u001b[38;5;241m=\u001b[39m\u001b[38;5;28;01mFalse\u001b[39;00m)\n\u001b[0;32m---> 51\u001b[0m     xsim \u001b[38;5;241m+\u001b[39m\u001b[38;5;241m=\u001b[39m \u001b[43mmicro\u001b[49m\u001b[43m(\u001b[49m\u001b[38;5;241;43m*\u001b[39;49m\u001b[43mphasing_inp\u001b[49m\u001b[43m,\u001b[49m\u001b[43m \u001b[49m\u001b[43madd_noise\u001b[49m\u001b[38;5;241;43m=\u001b[39;49m\u001b[38;5;28;43;01mTrue\u001b[39;49;00m\u001b[43m)\u001b[49m \u001b[38;5;241m*\u001b[39m cfg\u001b[38;5;241m.\u001b[39mgenm\u001b[38;5;241m.\u001b[39mphasing \u001b[38;5;241m*\u001b[39m torch\u001b[38;5;241m.\u001b[39mrand(xsim\u001b[38;5;241m.\u001b[39mshape, device\u001b[38;5;241m=\u001b[39mxsim\u001b[38;5;241m.\u001b[39mdevice)\n\u001b[1;32m     53\u001b[0m x \u001b[38;5;241m=\u001b[39m micro\u001b[38;5;241m.\u001b[39mnoise(xsim, background, const_theta_sim\u001b[38;5;241m=\u001b[39mcfg\u001b[38;5;241m.\u001b[39mgenm\u001b[38;5;241m.\u001b[39mexp_type\u001b[38;5;241m.\u001b[39mconst_theta_sim)\u001b[38;5;241m.\u001b[39msample()\n\u001b[1;32m     55\u001b[0m colshift_crop \u001b[38;5;241m=\u001b[39m get_color_shift_inp(micro\u001b[38;5;241m.\u001b[39mcolor_shifts, micro\u001b[38;5;241m.\u001b[39mcol_shifts_yx, ycrop, xcrop, cfg\u001b[38;5;241m.\u001b[39msim\u001b[38;5;241m.\u001b[39mrandom_crop\u001b[38;5;241m.\u001b[39mcrop_sz)\n",
      "File \u001b[0;32m~/anaconda3/envs/decode_fish_dev2/lib/python3.8/site-packages/torch/nn/modules/module.py:1110\u001b[0m, in \u001b[0;36mModule._call_impl\u001b[0;34m(self, *input, **kwargs)\u001b[0m\n\u001b[1;32m   1106\u001b[0m \u001b[38;5;66;03m# If we don't have any hooks, we want to skip the rest of the logic in\u001b[39;00m\n\u001b[1;32m   1107\u001b[0m \u001b[38;5;66;03m# this function, and just call forward.\u001b[39;00m\n\u001b[1;32m   1108\u001b[0m \u001b[38;5;28;01mif\u001b[39;00m \u001b[38;5;129;01mnot\u001b[39;00m (\u001b[38;5;28mself\u001b[39m\u001b[38;5;241m.\u001b[39m_backward_hooks \u001b[38;5;129;01mor\u001b[39;00m \u001b[38;5;28mself\u001b[39m\u001b[38;5;241m.\u001b[39m_forward_hooks \u001b[38;5;129;01mor\u001b[39;00m \u001b[38;5;28mself\u001b[39m\u001b[38;5;241m.\u001b[39m_forward_pre_hooks \u001b[38;5;129;01mor\u001b[39;00m _global_backward_hooks\n\u001b[1;32m   1109\u001b[0m         \u001b[38;5;129;01mor\u001b[39;00m _global_forward_hooks \u001b[38;5;129;01mor\u001b[39;00m _global_forward_pre_hooks):\n\u001b[0;32m-> 1110\u001b[0m     \u001b[38;5;28;01mreturn\u001b[39;00m \u001b[43mforward_call\u001b[49m\u001b[43m(\u001b[49m\u001b[38;5;241;43m*\u001b[39;49m\u001b[38;5;28;43minput\u001b[39;49m\u001b[43m,\u001b[49m\u001b[43m \u001b[49m\u001b[38;5;241;43m*\u001b[39;49m\u001b[38;5;241;43m*\u001b[39;49m\u001b[43mkwargs\u001b[49m\u001b[43m)\u001b[49m\n\u001b[1;32m   1111\u001b[0m \u001b[38;5;66;03m# Do not call functions when jit is used\u001b[39;00m\n\u001b[1;32m   1112\u001b[0m full_backward_hooks, non_full_backward_hooks \u001b[38;5;241m=\u001b[39m [], []\n",
      "File \u001b[0;32m~/Dropbox (mackelab)/Artur/WorkDB/deepstorm/decode_fish/decode_fish/engine/microscope.py:172\u001b[0m, in \u001b[0;36mMicroscope.forward\u001b[0;34m(self, locations, x_os_ch, y_os_ch, z_os_ch, i_val, output_shape, ret_psfs, add_noise)\u001b[0m\n\u001b[1;32m    169\u001b[0m \u001b[38;5;66;03m#                 z_os = -(z_scaled%1.) + 0.5\u001b[39;00m\n\u001b[1;32m    170\u001b[0m                 z_os \u001b[38;5;241m=\u001b[39m \u001b[38;5;241m-\u001b[39m(torch\u001b[38;5;241m.\u001b[39mfmod(z_scaled, \u001b[38;5;241m1.\u001b[39m)) \u001b[38;5;241m+\u001b[39m \u001b[38;5;241m0.5\u001b[39m\n\u001b[0;32m--> 172\u001b[0m                 psf \u001b[38;5;241m=\u001b[39m \u001b[38;5;28;43mself\u001b[39;49m\u001b[38;5;241;43m.\u001b[39;49m\u001b[43mpsf\u001b[49m\u001b[43m(\u001b[49m\u001b[43mx_os_ch\u001b[49m\u001b[43m,\u001b[49m\u001b[43m \u001b[49m\u001b[43my_os_ch\u001b[49m\u001b[43m,\u001b[49m\u001b[43m \u001b[49m\u001b[43mz_os\u001b[49m\u001b[43m,\u001b[49m\u001b[43m \u001b[49m\u001b[43mz_inds\u001b[49m\u001b[43m,\u001b[49m\u001b[43m \u001b[49m\u001b[43mc_inds\u001b[49m\u001b[38;5;241;43m=\u001b[39;49m\u001b[43mcol_inds\u001b[49m\u001b[43m)\u001b[49m\n\u001b[1;32m    173\u001b[0m \u001b[38;5;66;03m#                 psf = psf[torch.arange(len(z_os_ch)),:,z_inds][:,:,None]\u001b[39;00m\n\u001b[1;32m    174\u001b[0m             \u001b[38;5;28;01melse\u001b[39;00m:\n\u001b[1;32m    176\u001b[0m                 psf \u001b[38;5;241m=\u001b[39m \u001b[38;5;28mself\u001b[39m\u001b[38;5;241m.\u001b[39mpsf(x_os_ch, y_os_ch, z_os_ch, c_inds\u001b[38;5;241m=\u001b[39mcol_inds)\n",
      "File \u001b[0;32m~/anaconda3/envs/decode_fish_dev2/lib/python3.8/site-packages/torch/nn/modules/module.py:1110\u001b[0m, in \u001b[0;36mModule._call_impl\u001b[0;34m(self, *input, **kwargs)\u001b[0m\n\u001b[1;32m   1106\u001b[0m \u001b[38;5;66;03m# If we don't have any hooks, we want to skip the rest of the logic in\u001b[39;00m\n\u001b[1;32m   1107\u001b[0m \u001b[38;5;66;03m# this function, and just call forward.\u001b[39;00m\n\u001b[1;32m   1108\u001b[0m \u001b[38;5;28;01mif\u001b[39;00m \u001b[38;5;129;01mnot\u001b[39;00m (\u001b[38;5;28mself\u001b[39m\u001b[38;5;241m.\u001b[39m_backward_hooks \u001b[38;5;129;01mor\u001b[39;00m \u001b[38;5;28mself\u001b[39m\u001b[38;5;241m.\u001b[39m_forward_hooks \u001b[38;5;129;01mor\u001b[39;00m \u001b[38;5;28mself\u001b[39m\u001b[38;5;241m.\u001b[39m_forward_pre_hooks \u001b[38;5;129;01mor\u001b[39;00m _global_backward_hooks\n\u001b[1;32m   1109\u001b[0m         \u001b[38;5;129;01mor\u001b[39;00m _global_forward_hooks \u001b[38;5;129;01mor\u001b[39;00m _global_forward_pre_hooks):\n\u001b[0;32m-> 1110\u001b[0m     \u001b[38;5;28;01mreturn\u001b[39;00m \u001b[43mforward_call\u001b[49m\u001b[43m(\u001b[49m\u001b[38;5;241;43m*\u001b[39;49m\u001b[38;5;28;43minput\u001b[39;49m\u001b[43m,\u001b[49m\u001b[43m \u001b[49m\u001b[38;5;241;43m*\u001b[39;49m\u001b[38;5;241;43m*\u001b[39;49m\u001b[43mkwargs\u001b[49m\u001b[43m)\u001b[49m\n\u001b[1;32m   1111\u001b[0m \u001b[38;5;66;03m# Do not call functions when jit is used\u001b[39;00m\n\u001b[1;32m   1112\u001b[0m full_backward_hooks, non_full_backward_hooks \u001b[38;5;241m=\u001b[39m [], []\n",
      "File \u001b[0;32m~/Dropbox (mackelab)/Artur/WorkDB/deepstorm/decode_fish/decode_fish/engine/psf.py:70\u001b[0m, in \u001b[0;36mLinearInterpolatedPSF.forward\u001b[0;34m(self, x_offset_val, y_offset_val, z_offset_val, z_inds, c_inds)\u001b[0m\n\u001b[1;32m     67\u001b[0m     z_g \u001b[38;5;241m=\u001b[39m \u001b[38;5;28mself\u001b[39m\u001b[38;5;241m.\u001b[39mz_2d\u001b[38;5;241m.\u001b[39mto(\u001b[38;5;28mself\u001b[39m\u001b[38;5;241m.\u001b[39mdevice)\n\u001b[1;32m     69\u001b[0m     \u001b[38;5;66;03m# We select a 3 pixel wide volume around the indexed z slice for interpolation\u001b[39;00m\n\u001b[0;32m---> 70\u001b[0m     vol \u001b[38;5;241m=\u001b[39m torch\u001b[38;5;241m.\u001b[39mcat([\u001b[38;5;28;43mself\u001b[39;49m\u001b[38;5;241;43m.\u001b[39;49m\u001b[43mpsf_volume\u001b[49m\u001b[43m[\u001b[49m\u001b[38;5;28;43;01mNone\u001b[39;49;00m\u001b[43m,\u001b[49m\u001b[43m:\u001b[49m\u001b[43m,\u001b[49m\u001b[43m[\u001b[49m\u001b[43mz\u001b[49m\u001b[38;5;241;43m-\u001b[39;49m\u001b[38;5;241;43m1\u001b[39;49m\u001b[43m \u001b[49m\u001b[38;5;28;43;01mfor\u001b[39;49;00m\u001b[43m \u001b[49m\u001b[43mz\u001b[49m\u001b[43m \u001b[49m\u001b[38;5;129;43;01min\u001b[39;49;00m\u001b[43m \u001b[49m\u001b[43mz_inds\u001b[49m\u001b[43m]\u001b[49m\u001b[43m]\u001b[49m,\n\u001b[1;32m     71\u001b[0m                      \u001b[38;5;28mself\u001b[39m\u001b[38;5;241m.\u001b[39mpsf_volume[\u001b[38;5;28;01mNone\u001b[39;00m,:,z_inds],\n\u001b[1;32m     72\u001b[0m                      \u001b[38;5;28mself\u001b[39m\u001b[38;5;241m.\u001b[39mpsf_volume[\u001b[38;5;28;01mNone\u001b[39;00m,:,[z\u001b[38;5;241m+\u001b[39m\u001b[38;5;241m1\u001b[39m \u001b[38;5;28;01mfor\u001b[39;00m z \u001b[38;5;129;01min\u001b[39;00m z_inds]]], dim\u001b[38;5;241m=\u001b[39m\u001b[38;5;241m0\u001b[39m)\u001b[38;5;241m.\u001b[39mtranspose(\u001b[38;5;241m0\u001b[39m,\u001b[38;5;241m2\u001b[39m)\u001b[38;5;241m.\u001b[39mto(\u001b[38;5;28mself\u001b[39m\u001b[38;5;241m.\u001b[39mdevice)\n\u001b[1;32m     74\u001b[0m \u001b[38;5;28;01mif\u001b[39;00m c_inds \u001b[38;5;129;01mis\u001b[39;00m \u001b[38;5;129;01mnot\u001b[39;00m \u001b[38;5;28;01mNone\u001b[39;00m:\n\u001b[1;32m     75\u001b[0m     vol \u001b[38;5;241m=\u001b[39m vol[torch\u001b[38;5;241m.\u001b[39marange(\u001b[38;5;28mlen\u001b[39m(c_inds)),c_inds]\n",
      "\u001b[0;31mKeyboardInterrupt\u001b[0m: "
     ]
    }
   ],
   "source": [
    "num_iters = 500\n",
    "i = 0\n",
    "\n",
    "micro.psf_noise = 0.0\n",
    "\n",
    "bce = torch.nn.BCEWithLogitsLoss()\n",
    "opt = torch.optim.AdamW(net.parameters(), lr = 4e-3)\n",
    "sched = torch.optim.lr_scheduler.StepLR(opt, step_size=100, gamma=0.5)\n",
    "loss_col = []\n",
    "\n",
    "model.eval().cuda()\n",
    "\n",
    "code_weight = torch.ones(len(post_proc.codebook))\n",
    "code_weight[len(codebook):] *= cfg.genm.emitter_noise.rate_fac\n",
    "point_process = PointProcessUniform(int_conc=model.int_dist.int_conc.detach(), int_rate=model.int_dist.int_rate.detach(), int_loc=model.int_dist.int_loc.detach(), \n",
    "                                   sim_iters=5, n_channels=cfg.genm.exp_type.n_channels, sim_z=cfg.genm.exp_type.pred_z, slice_rec=cfg.genm.exp_type.slice_rec, \n",
    "                                   codebook=post_proc.codebook, int_option=cfg.training.int_option, code_weight=code_weight)\n",
    "\n",
    "for i in tqdm(range(num_iters)):\n",
    "\n",
    "    with torch.no_grad():\n",
    "\n",
    "        ret_dict = next(iter(decode_dl))\n",
    "        x, local_rate, background = ret_dict['x'], ret_dict['local_rate'], ret_dict['background'], \n",
    "        zcrop, ycrop, xcrop = ret_dict['crop_z'], ret_dict['crop_y'], ret_dict['crop_x']\n",
    "        background = background * micro.get_ch_mult()\n",
    "        if cfg.sim.bg_estimation.shuffle_ch:\n",
    "            background = background.index_select(1, torch.randperm(background.shape[1]).cuda())\n",
    "        \n",
    "        local_rate *= 5\n",
    "        if cfg.genm.microscope.col_shifts_enabled  :\n",
    "            zcrop, ycrop, xcrop = ret_dict['crop_z'], ret_dict['crop_y'], ret_dict['crop_x']\n",
    "            zcrop, ycrop, xcrop = zcrop.flatten(), ycrop.flatten(), xcrop.flatten()\n",
    "            colshift_crop = get_color_shift_inp(micro.color_shifts, micro.col_shifts_yx, ycrop, xcrop, cfg.sim.random_crop.crop_sz)\n",
    "        else:\n",
    "            zcrop, ycrop, xcrop, colshift_crop = None, None, None, None\n",
    "\n",
    "        sim_vars = point_process.sample(local_rate[:,0])\n",
    "        \n",
    "        ch_inp = list(micro.get_single_ch_inputs(*sim_vars[:-1], ycrop=ycrop, xcrop=xcrop))\n",
    "        cond = sim_vars[-1] < len(codebook)\n",
    "        cb_cool = torch.repeat_interleave(cond, cond * (cfg.genm.exp_type.n_bits - 1) + 1)\n",
    "        ch_inp[1][cb_cool], ch_inp[2][cb_cool], ch_inp[3][cb_cool] = add_pos_noise([ch_inp[1][cb_cool], ch_inp[2][cb_cool], ch_inp[3][cb_cool]], \n",
    "                                                                                   [cfg.genm.pos_noise.pos_noise_xy, cfg.genm.pos_noise.pos_noise_xy, cfg.genm.pos_noise.pos_noise_z], cfg.genm.exp_type.n_bits)\n",
    "        xsim = micro(*ch_inp, add_noise=True)\n",
    "        \n",
    "        if cfg.genm.phasing:\n",
    "\n",
    "            phasing_inp = list(micro.get_single_ch_inputs(*sim_vars[:4], get_phased_ints(sim_vars[4], micro.ch_cols, micro.psf.n_cols) ,sim_vars[5], ycrop=ycrop, xcrop=xcrop))\n",
    "            phasing_inp[1:4] = add_pos_noise(phasing_inp[1:4], [cfg.genm.pos_noise.pos_noise_xy, cfg.genm.pos_noise.pos_noise_xy, cfg.genm.pos_noise.pos_noise_z], cfg.genm.exp_type.n_bits, rm_mean=False)\n",
    "            xsim += micro(*phasing_inp, add_noise=True) * cfg.genm.phasing * torch.rand(xsim.shape, device=xsim.device)\n",
    "\n",
    "        x = micro.noise(xsim, background, const_theta_sim=cfg.genm.exp_type.const_theta_sim).sample()\n",
    "\n",
    "        colshift_crop = get_color_shift_inp(micro.color_shifts, micro.col_shifts_yx, ycrop, xcrop, cfg.sim.random_crop.crop_sz)\n",
    "        net_inp = torch.concat([x,colshift_crop], 1)\n",
    "        \n",
    "        gt_vars = sim_vars[:-2] \n",
    "        gt_df = sample_to_df(*gt_vars, sim_vars[-1], px_size_zyx=[1.,1.,1.])\n",
    "        gt_df = gt_df[gt_df['code_inds'] < len(codebook)]\n",
    "\n",
    "        res_dict = model(net_inp.cuda())\n",
    "        res_dict = model.tensor_to_dict(res_dict)\n",
    "        pred_df = post_proc.get_df(res_dict)\n",
    "        pred_df = pred_df[pred_df['code_inds'] < len(codebook)]\n",
    "        pred_df['gene'] = targets[pred_df['code_inds']]\n",
    "#         pred_df = sel_int_ch(pred_df, codebook)\n",
    "        \n",
    "        perf, matches, _ = matching(px_to_nm(gt_df), pred_df, tolerance=500, print_res=False)\n",
    "        \n",
    "        pred_df.loc[:, 'class'] = 1\n",
    "        pred_df.loc[pred_df['loc_idx'].isin(matches['loc_idx_pred']), 'class'] = 0\n",
    "        pred_df['int_ratio'] = zero_int_ch(pred_df, codebook)['int_ratio'].values\n",
    "\n",
    "    opt.zero_grad()\n",
    "\n",
    "    ''''''\n",
    "#     df_majority = pred_df[pred_df['class']==0]\n",
    "#     df_minority = pred_df[pred_df['class']==1]\n",
    "\n",
    "#     df_maj_down = resample(df_majority, replace=True, n_samples=len(df_minority)*2)\n",
    "\n",
    "#     pred_df = pd.concat([df_minority, df_maj_down])    \n",
    "    ''''''\n",
    "    \n",
    "    net_inp = input_from_df(pred_df, codebook)\n",
    "    net_out = net(net_inp)\n",
    "\n",
    "    net_tar = torch.tensor(pred_df['class'].values, dtype=torch.float32).cuda()\n",
    "    loss = bce(net_out, net_tar[:,None])\n",
    "    print(loss.item())\n",
    "    \n",
    "    test_csv['net_score'] = torch.sigmoid(net(input_from_df(test_csv, codebook)).detach().cpu())\n",
    "    print(test_csv.nsmallest(12555, 'net_score')['class'].sum())\n",
    "    torch.save(net, '../data/qual_nets/net1.pkz')\n",
    "\n",
    "    loss.backward()\n",
    "\n",
    "    opt.step()\n",
    "    sched.step()\n",
    "\n",
    "    loss_col.append(loss.item())"
   ]
  },
  {
   "cell_type": "code",
   "execution_count": null,
   "id": "latin-northern",
   "metadata": {},
   "outputs": [],
   "source": [
    "torch.save(net, '../data/qual_nets/net1.pkz')"
   ]
  },
  {
   "cell_type": "code",
   "execution_count": null,
   "id": "structured-opportunity",
   "metadata": {},
   "outputs": [],
   "source": [
    "plt.plot(loss_col)"
   ]
  },
  {
   "cell_type": "code",
   "execution_count": null,
   "id": "olive-indie",
   "metadata": {},
   "outputs": [],
   "source": [
    "logr_coefs = {'x_sig': 0.03, 'y_sig': 0.03, 'z_sig': 0.0, 'prob': -2.3}\n",
    "def log_reg(df, weights={}):\n",
    "    \n",
    "    df = df.copy()\n",
    "    df['score'] = 0\n",
    "    for k in weights:\n",
    "        df['score'] += weights[k] * df[k]\n",
    "    df['score'] = 1/(1 + np.exp(-df['score']))\n",
    "    return df"
   ]
  },
  {
   "cell_type": "code",
   "execution_count": null,
   "id": "surface-dispute",
   "metadata": {},
   "outputs": [
    {
     "data": {
      "text/plain": [
       "(array([  29.,  146.,  487., 1183., 1793., 1893., 1223.,  513.,  155.,\n",
       "          30.]),\n",
       " array([-50., -30., -10.,  10.,  30.,  50.,  70.,  90., 110., 130., 150.],\n",
       "       dtype=float32),\n",
       " <BarContainer object of 10 artists>)"
      ]
     },
     "execution_count": null,
     "metadata": {},
     "output_type": "execute_result"
    },
    {
     "data": {
      "image/png": "[encoded data removed]",
      "text/plain": [
       "<Figure size 432x288 with 1 Axes>"
      ]
     },
     "metadata": {
      "needs_background": "light"
     },
     "output_type": "display_data"
    }
   ],
   "source": [
    "plt.hist(cpu(torch.clamp(torch.randn(len(sim_vars[4])) * 30 + 50, -50, 150)))"
   ]
  },
  {
   "cell_type": "code",
   "execution_count": null,
   "id": "fresh-prize",
   "metadata": {},
   "outputs": [
    {
     "name": "stderr",
     "output_type": "stream",
     "text": [
      "100%|████████████████████████████████████████████████████████████████████████████████████████████████████████████████████████████████████████████████████| 10/10 [00:14<00:00,  1.40s/it]\n"
     ]
    }
   ],
   "source": [
    "gt_dfs = []\n",
    "pred_dfs = []\n",
    "\n",
    "for i in tqdm(range(10)):\n",
    "    \n",
    "    with torch.no_grad():\n",
    "\n",
    "        ret_dict = next(iter(decode_dl))\n",
    "        x, local_rate, background = ret_dict['x'], ret_dict['local_rate'], ret_dict['background'], \n",
    "        zcrop, ycrop, xcrop = ret_dict['crop_z'], ret_dict['crop_y'], ret_dict['crop_x']\n",
    "        background = background * micro.get_ch_mult()\n",
    "#         local_rate *= 2\n",
    "        if cfg.genm.microscope.col_shifts_enabled  :\n",
    "            zcrop, ycrop, xcrop = ret_dict['crop_z'], ret_dict['crop_y'], ret_dict['crop_x']\n",
    "            zcrop, ycrop, xcrop = zcrop.flatten(), ycrop.flatten(), xcrop.flatten()\n",
    "            colshift_crop = get_color_shift_inp(micro.color_shifts, micro.col_shifts_yx, ycrop, xcrop, cfg.sim.random_crop.crop_sz)\n",
    "        else:\n",
    "            zcrop, ycrop, xcrop, colshift_crop = None, None, None, None\n",
    "\n",
    "        sim_vars = point_process.sample(local_rate[:,0])\n",
    "        \n",
    "        ch_inp = list(micro.get_single_ch_inputs(*sim_vars[:-1], ycrop=ycrop, xcrop=xcrop))\n",
    "        cond = sim_vars[-1] < len(codebook)\n",
    "        cb_cool = torch.repeat_interleave(cond, cond * (cfg.genm.exp_type.n_bits - 1) + 1)\n",
    "        ch_inp[1][cb_cool], ch_inp[2][cb_cool], ch_inp[3][cb_cool] = add_pos_noise([ch_inp[1][cb_cool], ch_inp[2][cb_cool], ch_inp[3][cb_cool]], \n",
    "                                                                                   [cfg.genm.pos_noise.pos_noise_xy*2, cfg.genm.pos_noise.pos_noise_xy*2, cfg.genm.pos_noise.pos_noise_z], cfg.genm.exp_type.n_bits)\n",
    "        xsim = micro(*ch_inp, add_noise=True)\n",
    "        \n",
    "        if cfg.genm.phasing:\n",
    "\n",
    "            phasing_inp = list(micro.get_single_ch_inputs(*sim_vars[:4], get_phased_ints(sim_vars[4], micro.ch_cols, micro.psf.n_cols) ,sim_vars[5], ycrop=ycrop, xcrop=xcrop))\n",
    "            phasing_inp[1:4] = add_pos_noise(phasing_inp[1:4], [cfg.genm.pos_noise.pos_noise_xy, cfg.genm.pos_noise.pos_noise_xy, cfg.genm.pos_noise.pos_noise_z], cfg.genm.exp_type.n_bits, rm_mean=False)\n",
    "            xsim += micro(*phasing_inp, add_noise=True) * cfg.genm.phasing * torch.rand(xsim.shape, device=xsim.device)\n",
    "\n",
    "        x = micro.noise(xsim, background, const_theta_sim=cfg.genm.exp_type.const_theta_sim).sample()\n",
    "\n",
    "        colshift_crop = get_color_shift_inp(micro.color_shifts, micro.col_shifts_yx, ycrop, xcrop, cfg.sim.random_crop.crop_sz)\n",
    "        net_inp = torch.concat([x,colshift_crop], 1)\n",
    "        \n",
    "        gt_vars = sim_vars[:-2] \n",
    "        gt_df = sample_to_df(*gt_vars, sim_vars[-1], px_size_zyx=[1.,1.,1.])\n",
    "        gt_df = gt_df[gt_df['code_inds'] < len(codebook)]\n",
    "\n",
    "        res_dict = model(net_inp.cuda())\n",
    "        res_dict = model.tensor_to_dict(res_dict)\n",
    "        pred_df = post_proc.get_df(res_dict)\n",
    "        pred_df = pred_df[pred_df['code_inds'] < len(codebook)]\n",
    "        pred_df['gene'] = targets[pred_df['code_inds']]\n",
    "        \n",
    "        perf, matches, _ = matching(px_to_nm(gt_df), pred_df, tolerance=500, print_res=False)\n",
    "        \n",
    "        pred_df.loc[:, 'class'] = 1\n",
    "        pred_df.loc[pred_df['loc_idx'].isin(matches['loc_idx_pred']), 'class'] = 0\n",
    "        \n",
    "        pred_df = log_reg(pred_df, logr_coefs)\n",
    "        \n",
    "        pred_dfs.append(pred_df)"
   ]
  },
  {
   "cell_type": "code",
   "execution_count": null,
   "id": "relative-mother",
   "metadata": {},
   "outputs": [
    {
     "ename": "KeyError",
     "evalue": "\"['int_ratio'] not in index\"",
     "output_type": "error",
     "traceback": [
      "\u001b[0;31m---------------------------------------------------------------------------\u001b[0m",
      "\u001b[0;31mKeyError\u001b[0m                                  Traceback (most recent call last)",
      "Input \u001b[0;32mIn [401]\u001b[0m, in \u001b[0;36m<cell line: 3>\u001b[0;34m()\u001b[0m\n\u001b[1;32m      1\u001b[0m net\u001b[38;5;241m.\u001b[39meval()\n\u001b[1;32m      2\u001b[0m res_df \u001b[38;5;241m=\u001b[39m cat_emitter_dfs(pred_dfs, decode_dl\u001b[38;5;241m.\u001b[39mbatch_size)\n\u001b[0;32m----> 3\u001b[0m inp \u001b[38;5;241m=\u001b[39m \u001b[43minput_from_df\u001b[49m\u001b[43m(\u001b[49m\u001b[43mres_df\u001b[49m\u001b[43m,\u001b[49m\u001b[43m \u001b[49m\u001b[43mcodebook\u001b[49m\u001b[43m)\u001b[49m\n\u001b[1;32m      4\u001b[0m \u001b[38;5;66;03m# inp[:,-22:] *= 0\u001b[39;00m\n\u001b[1;32m      5\u001b[0m res_df[\u001b[38;5;124m'\u001b[39m\u001b[38;5;124mnet_score\u001b[39m\u001b[38;5;124m'\u001b[39m] \u001b[38;5;241m=\u001b[39m cpu(torch\u001b[38;5;241m.\u001b[39msigmoid(net(inp)))\n",
      "Input \u001b[0;32mIn [391]\u001b[0m, in \u001b[0;36minput_from_df\u001b[0;34m(df, codebook)\u001b[0m\n\u001b[1;32m     82\u001b[0m offsets \u001b[38;5;241m=\u001b[39m [\u001b[38;5;241m0.75\u001b[39m, \u001b[38;5;241m50\u001b[39m, \u001b[38;5;241m20.\u001b[39m, \u001b[38;5;241m20.\u001b[39m, \u001b[38;5;241m15.\u001b[39m,\u001b[38;5;241m2.\u001b[39m] \u001b[38;5;241m+\u001b[39m n_ch\u001b[38;5;241m*\u001b[39m[\u001b[38;5;241m1.\u001b[39m] \u001b[38;5;241m+\u001b[39m n_ch\u001b[38;5;241m*\u001b[39m[\u001b[38;5;241m0.\u001b[39m]\n\u001b[1;32m     83\u001b[0m scales \u001b[38;5;241m=\u001b[39m [\u001b[38;5;241m1.\u001b[39m, \u001b[38;5;241m100.\u001b[39m, \u001b[38;5;241m20.\u001b[39m, \u001b[38;5;241m20.\u001b[39m, \u001b[38;5;241m15.\u001b[39m,\u001b[38;5;241m2.\u001b[39m] \u001b[38;5;241m+\u001b[39m n_ch\u001b[38;5;241m*\u001b[39m[\u001b[38;5;241m2.\u001b[39m] \u001b[38;5;241m+\u001b[39m n_ch\u001b[38;5;241m*\u001b[39m[\u001b[38;5;241m5.\u001b[39m]\n\u001b[0;32m---> 84\u001b[0m inp_arr \u001b[38;5;241m=\u001b[39m \u001b[43mdf\u001b[49m\u001b[43m[\u001b[49m\u001b[43minput_keys\u001b[49m\u001b[43m]\u001b[49m\u001b[38;5;241m.\u001b[39mvalues\n\u001b[1;32m     85\u001b[0m inp_arr \u001b[38;5;241m=\u001b[39m (inp_arr \u001b[38;5;241m-\u001b[39m np\u001b[38;5;241m.\u001b[39marray(offsets))\u001b[38;5;241m/\u001b[39mnp\u001b[38;5;241m.\u001b[39marray(scales)\n\u001b[1;32m     87\u001b[0m inp_arr \u001b[38;5;241m=\u001b[39m np\u001b[38;5;241m.\u001b[39mconcatenate([inp_arr, codebook[df[\u001b[38;5;124m'\u001b[39m\u001b[38;5;124mcode_inds\u001b[39m\u001b[38;5;124m'\u001b[39m]\u001b[38;5;241m.\u001b[39mvalues]], \u001b[38;5;241m1\u001b[39m)\n",
      "File \u001b[0;32m~/anaconda3/envs/decode_fish_dev2/lib/python3.8/site-packages/pandas/core/frame.py:3511\u001b[0m, in \u001b[0;36mDataFrame.__getitem__\u001b[0;34m(self, key)\u001b[0m\n\u001b[1;32m   3509\u001b[0m     \u001b[38;5;28;01mif\u001b[39;00m is_iterator(key):\n\u001b[1;32m   3510\u001b[0m         key \u001b[38;5;241m=\u001b[39m \u001b[38;5;28mlist\u001b[39m(key)\n\u001b[0;32m-> 3511\u001b[0m     indexer \u001b[38;5;241m=\u001b[39m \u001b[38;5;28;43mself\u001b[39;49m\u001b[38;5;241;43m.\u001b[39;49m\u001b[43mcolumns\u001b[49m\u001b[38;5;241;43m.\u001b[39;49m\u001b[43m_get_indexer_strict\u001b[49m\u001b[43m(\u001b[49m\u001b[43mkey\u001b[49m\u001b[43m,\u001b[49m\u001b[43m \u001b[49m\u001b[38;5;124;43m\"\u001b[39;49m\u001b[38;5;124;43mcolumns\u001b[39;49m\u001b[38;5;124;43m\"\u001b[39;49m\u001b[43m)\u001b[49m[\u001b[38;5;241m1\u001b[39m]\n\u001b[1;32m   3513\u001b[0m \u001b[38;5;66;03m# take() does not accept boolean indexers\u001b[39;00m\n\u001b[1;32m   3514\u001b[0m \u001b[38;5;28;01mif\u001b[39;00m \u001b[38;5;28mgetattr\u001b[39m(indexer, \u001b[38;5;124m\"\u001b[39m\u001b[38;5;124mdtype\u001b[39m\u001b[38;5;124m\"\u001b[39m, \u001b[38;5;28;01mNone\u001b[39;00m) \u001b[38;5;241m==\u001b[39m \u001b[38;5;28mbool\u001b[39m:\n",
      "File \u001b[0;32m~/anaconda3/envs/decode_fish_dev2/lib/python3.8/site-packages/pandas/core/indexes/base.py:5782\u001b[0m, in \u001b[0;36mIndex._get_indexer_strict\u001b[0;34m(self, key, axis_name)\u001b[0m\n\u001b[1;32m   5779\u001b[0m \u001b[38;5;28;01melse\u001b[39;00m:\n\u001b[1;32m   5780\u001b[0m     keyarr, indexer, new_indexer \u001b[38;5;241m=\u001b[39m \u001b[38;5;28mself\u001b[39m\u001b[38;5;241m.\u001b[39m_reindex_non_unique(keyarr)\n\u001b[0;32m-> 5782\u001b[0m \u001b[38;5;28;43mself\u001b[39;49m\u001b[38;5;241;43m.\u001b[39;49m\u001b[43m_raise_if_missing\u001b[49m\u001b[43m(\u001b[49m\u001b[43mkeyarr\u001b[49m\u001b[43m,\u001b[49m\u001b[43m \u001b[49m\u001b[43mindexer\u001b[49m\u001b[43m,\u001b[49m\u001b[43m \u001b[49m\u001b[43maxis_name\u001b[49m\u001b[43m)\u001b[49m\n\u001b[1;32m   5784\u001b[0m keyarr \u001b[38;5;241m=\u001b[39m \u001b[38;5;28mself\u001b[39m\u001b[38;5;241m.\u001b[39mtake(indexer)\n\u001b[1;32m   5785\u001b[0m \u001b[38;5;28;01mif\u001b[39;00m \u001b[38;5;28misinstance\u001b[39m(key, Index):\n\u001b[1;32m   5786\u001b[0m     \u001b[38;5;66;03m# GH 42790 - Preserve name from an Index\u001b[39;00m\n",
      "File \u001b[0;32m~/anaconda3/envs/decode_fish_dev2/lib/python3.8/site-packages/pandas/core/indexes/base.py:5845\u001b[0m, in \u001b[0;36mIndex._raise_if_missing\u001b[0;34m(self, key, indexer, axis_name)\u001b[0m\n\u001b[1;32m   5842\u001b[0m     \u001b[38;5;28;01mraise\u001b[39;00m \u001b[38;5;167;01mKeyError\u001b[39;00m(\u001b[38;5;124mf\u001b[39m\u001b[38;5;124m\"\u001b[39m\u001b[38;5;124mNone of [\u001b[39m\u001b[38;5;132;01m{\u001b[39;00mkey\u001b[38;5;132;01m}\u001b[39;00m\u001b[38;5;124m] are in the [\u001b[39m\u001b[38;5;132;01m{\u001b[39;00maxis_name\u001b[38;5;132;01m}\u001b[39;00m\u001b[38;5;124m]\u001b[39m\u001b[38;5;124m\"\u001b[39m)\n\u001b[1;32m   5844\u001b[0m not_found \u001b[38;5;241m=\u001b[39m \u001b[38;5;28mlist\u001b[39m(ensure_index(key)[missing_mask\u001b[38;5;241m.\u001b[39mnonzero()[\u001b[38;5;241m0\u001b[39m]]\u001b[38;5;241m.\u001b[39munique())\n\u001b[0;32m-> 5845\u001b[0m \u001b[38;5;28;01mraise\u001b[39;00m \u001b[38;5;167;01mKeyError\u001b[39;00m(\u001b[38;5;124mf\u001b[39m\u001b[38;5;124m\"\u001b[39m\u001b[38;5;132;01m{\u001b[39;00mnot_found\u001b[38;5;132;01m}\u001b[39;00m\u001b[38;5;124m not in index\u001b[39m\u001b[38;5;124m\"\u001b[39m)\n",
      "\u001b[0;31mKeyError\u001b[0m: \"['int_ratio'] not in index\""
     ]
    }
   ],
   "source": [
    "net.eval()\n",
    "res_df = cat_emitter_dfs(pred_dfs, decode_dl.batch_size)\n",
    "inp = input_from_df(res_df, codebook)\n",
    "# inp[:,-22:] *= 0\n",
    "res_df['net_score'] = cpu(torch.sigmoid(net(inp)))"
   ]
  },
  {
   "cell_type": "code",
   "execution_count": null,
   "id": "revolutionary-strengthening",
   "metadata": {},
   "outputs": [],
   "source": [
    "res_df = sel_int_ch(res_df, codebook)"
   ]
  },
  {
   "cell_type": "code",
   "execution_count": null,
   "id": "changing-culture",
   "metadata": {},
   "outputs": [],
   "source": [
    "plt.figure(figsize=(10,10))\n",
    "for k in ['comb_sig','x_sig','y_sig','z_sig','prob','z','score','net_score','int_ratio']:\n",
    "    b = False if k in ['tot_int','prob'] else True\n",
    "    r  = make_roc(res_df, k, n_max=8000, ascending=b)\n",
    "    plt.plot(r[0],r[1], label=k)\n",
    "plt.legend()"
   ]
  },
  {
   "cell_type": "code",
   "execution_count": null,
   "id": "impossible-astrology",
   "metadata": {},
   "outputs": [
    {
     "data": {
      "image/png": "[encoded data removed]",
      "text/plain": [
       "<Figure size 1800x360 with 7 Axes>"
      ]
     },
     "metadata": {
      "needs_background": "light"
     },
     "output_type": "display_data"
    }
   ],
   "source": [
    "# res_df = sel_int_ch(res_df, codebook)\n",
    "metrics = ['comb_sig','tot_int','tot_int_sig', 'prob','z', 'int_ratio', 'net_score']\n",
    "bins = [np.linspace(0,1.5,31), np.linspace(0,30,31), np.linspace(0,15,31), np.linspace(0.4,1,31), np.linspace(-50,150.,31),  np.linspace(0.,3., 31), np.linspace(0.,1., 31)]\n",
    "plt.figure(figsize=(25,5))\n",
    "for i in range(len(metrics)):\n",
    "    plt.subplot(1,len(metrics),i+1)\n",
    "    _=plt.hist(res_df[res_df['class'] == 0][metrics[i]], density=True, alpha=0.5, bins=bins[i], label='gene matches')\n",
    "    _=plt.hist(res_df[res_df['class'] == 1][metrics[i]], density=True, alpha=0.5, bins=bins[i], label='blank matches')\n",
    "    plt.title(metrics[i])"
   ]
  },
  {
   "cell_type": "code",
   "execution_count": null,
   "id": "computational-algorithm",
   "metadata": {},
   "outputs": [
    {
     "data": {
      "text/plain": [
       "<matplotlib.legend.Legend at 0x7fc279995d90>"
      ]
     },
     "execution_count": null,
     "metadata": {},
     "output_type": "execute_result"
    },
    {
     "data": {
      "image/png": "[encoded data removed]",
      "text/plain": [
       "<Figure size 720x720 with 1 Axes>"
      ]
     },
     "metadata": {
      "needs_background": "light"
     },
     "output_type": "display_data"
    }
   ],
   "source": [
    "plt.figure(figsize=(10,10))\n",
    "for k in ['comb_sig','x_sig','y_sig','z_sig','prob','z','score','net_score','int_ratio']:\n",
    "    b = False if k in ['tot_int','prob'] else True\n",
    "    r  = make_roc(res_df, k, n_max=15000, ascending=b)\n",
    "    plt.plot(r[0],r[1], label=k)\n",
    "plt.legend()"
   ]
  },
  {
   "cell_type": "code",
   "execution_count": null,
   "id": "center-neighbor",
   "metadata": {},
   "outputs": [
    {
     "name": "stdout",
     "output_type": "stream",
     "text": [
      "Converted 00_models.ipynb.\n",
      "Converted 01_psf.ipynb.\n",
      "Converted 02_microscope.ipynb.\n",
      "Converted 02b_place_psfs.ipynb.\n",
      "Converted 03_noise.ipynb.\n",
      "Converted 04_pointsource.ipynb.\n",
      "Converted 05_gmm_loss.ipynb.\n",
      "Converted 06_plotting.ipynb.\n",
      "Converted 07_file_io.ipynb.\n",
      "Converted 08_dataset.ipynb.\n",
      "Converted 09_output_trafo.ipynb.\n",
      "Converted 10_evaluation.ipynb.\n",
      "Converted 11_emitter_io.ipynb.\n",
      "Converted 12_utils.ipynb.\n",
      "Converted 13_train.ipynb.\n",
      "Converted 15_fit_psf.ipynb.\n",
      "Converted 16_visualization.ipynb.\n",
      "Converted 17_eval_routines.ipynb.\n",
      "Converted 18_predict_funcs.ipynb.\n",
      "Converted 19_MERFISH_routines.ipynb.\n",
      "Converted 22_MERFISH_codenet.ipynb.\n",
      "Converted 23_MERFISH_comparison.ipynb.\n",
      "Converted 24_exp_specific.ipynb.\n",
      "Converted 25_ensembling.ipynb.\n",
      "Converted 26_gen_train.ipynb.\n",
      "Converted 27_testtime_rescale.ipynb.\n",
      "Converted index.ipynb.\n",
      "Converted stephan_exon-spine (2).ipynb.\n"
     ]
    }
   ],
   "source": [
    "!nbdev_build_lib"
   ]
  },
  {
   "cell_type": "code",
   "execution_count": null,
   "id": "broadband-insight",
   "metadata": {},
   "outputs": [],
   "source": []
  }
 ],
 "metadata": {
  "kernelspec": {
   "display_name": "Python [conda env:decode_fish_dev2]",
   "language": "python",
   "name": "conda-env-decode_fish_dev2-py"
  }
 },
 "nbformat": 4,
 "nbformat_minor": 5
}
