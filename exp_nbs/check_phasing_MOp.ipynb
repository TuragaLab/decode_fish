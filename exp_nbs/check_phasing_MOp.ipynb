{
 "cells": [
  {
   "cell_type": "code",
   "execution_count": 1,
   "id": "middle-difficulty",
   "metadata": {
    "ExecuteTime": {
     "end_time": "2022-05-01T11:08:08.416455Z",
     "start_time": "2022-05-01T11:07:59.107044Z"
    }
   },
   "outputs": [],
   "source": [
    "from decode_fish.imports import *\n",
    "from decode_fish.funcs.file_io import *\n",
    "from decode_fish.funcs.emitter_io import *\n",
    "from decode_fish.funcs.utils import *\n",
    "from decode_fish.funcs.dataset import *\n",
    "from decode_fish.funcs.plotting import *\n",
    "from decode_fish.engine.noise import estimate_noise_scale\n",
    "import shutil\n",
    "from decode_fish.funcs.visualization import *\n",
    "from decode_fish.funcs.predict import predict\n",
    "\n",
    "from numba import njit\n",
    "from scipy.spatial import cKDTree\n",
    "from decode_fish.funcs.evaluation import *\n",
    "\n",
    "import io, requests, glob\n",
    "\n",
    "from decode_fish.funcs.merfish_eval import *\n",
    "from decode_fish.funcs.exp_specific import *\n",
    "# from starfish import data\n",
    "import pprint\n",
    "import seaborn as sns\n",
    "\n",
    "# import plotly.express as px\n",
    "# import plotly.io as pio\n",
    "# pio.renderers.default='notebook'"
   ]
  },
  {
   "cell_type": "markdown",
   "id": "light-stock",
   "metadata": {},
   "source": [
    "Experiment to check if phasing (i.e. activated emitters being visible in the following imaging round)"
   ]
  },
  {
   "cell_type": "code",
   "execution_count": 2,
   "id": "rubber-tongue",
   "metadata": {
    "ExecuteTime": {
     "end_time": "2022-05-01T11:08:46.739248Z",
     "start_time": "2022-05-01T11:08:46.732747Z"
    }
   },
   "outputs": [],
   "source": [
    "logr_coefs = {'x_sig': 0.03480553, 'y_sig': 0.02517798, 'z_sig': 0.02675353, 'prob': -2.34418526}"
   ]
  },
  {
   "cell_type": "code",
   "execution_count": 3,
   "id": "molecular-manual",
   "metadata": {
    "ExecuteTime": {
     "end_time": "2022-05-01T11:08:46.899255Z",
     "start_time": "2022-05-01T11:08:46.891772Z"
    }
   },
   "outputs": [],
   "source": [
    "def log_reg(df, weights={}):\n",
    "    \n",
    "    df['score'] = 0\n",
    "    for k in weights:\n",
    "        df['score'] += weights[k] * df[k]\n",
    "    df['score'] = 1/(1 + np.exp(-df['score']))\n",
    "    return df"
   ]
  },
  {
   "cell_type": "code",
   "execution_count": 7,
   "id": "optimum-runner",
   "metadata": {
    "ExecuteTime": {
     "end_time": "2022-05-01T11:10:01.790677Z",
     "start_time": "2022-05-01T11:10:00.914209Z"
    }
   },
   "outputs": [],
   "source": [
    "res_df = pd.read_csv('../data/results/MERFISH/merfish_sweep_mop_17_phasing:0.0_None_47.csv')\n",
    "res_df = remove_doublets(res_df, tolerance=200)\n",
    "res_df = log_reg(res_df, logr_coefs)"
   ]
  },
  {
   "cell_type": "code",
   "execution_count": 11,
   "id": "engaged-crisis",
   "metadata": {
    "ExecuteTime": {
     "end_time": "2022-05-01T11:11:25.464634Z",
     "start_time": "2022-05-01T11:11:25.447232Z"
    }
   },
   "outputs": [],
   "source": [
    "codebook, target = get_mop_codebook()"
   ]
  },
  {
   "cell_type": "code",
   "execution_count": 8,
   "id": "handed-graham",
   "metadata": {
    "ExecuteTime": {
     "end_time": "2022-05-01T11:10:29.400605Z",
     "start_time": "2022-05-01T11:10:29.393056Z"
    }
   },
   "outputs": [],
   "source": [
    "def extract_roi(beads: torch.Tensor, coordinates, size_xy=5):\n",
    "    res = []\n",
    "    \n",
    "    x, y, z = coordinates\n",
    "    crop = np.s_[:,z, int(y-size_xy): int(y+size_xy+1), int(x-size_xy): int(x+size_xy+1)]\n",
    "    single_bead = beads[crop]\n",
    "        \n",
    "    return single_bead, crop"
   ]
  },
  {
   "cell_type": "code",
   "execution_count": 12,
   "id": "finished-heaven",
   "metadata": {
    "ExecuteTime": {
     "end_time": "2022-05-01T11:11:28.813479Z",
     "start_time": "2022-05-01T11:11:28.767236Z"
    }
   },
   "outputs": [],
   "source": [
    "res_df = res_df.nsmallest(40000, 'score')\n",
    "ints = res_df[[f'int_{i}' for i in range(22)]].values\n",
    "ints[codebook[res_df['code_inds'].values]==0] = 0."
   ]
  },
  {
   "cell_type": "code",
   "execution_count": 14,
   "id": "tutorial-satisfaction",
   "metadata": {
    "ExecuteTime": {
     "end_time": "2022-05-01T11:11:57.881519Z",
     "start_time": "2022-05-01T11:11:57.861083Z"
    }
   },
   "outputs": [],
   "source": [
    "from decode_fish.engine.point_process import get_phased_ints \n",
    "phased_ints = get_phased_ints(torch.tensor(ints).cuda(), [0, 1, 1, 0, 0, 1, 0, 1, 1, 0, 0, 1, 0, 1, 1, 0, 0, 1, 0, 1, 1, 0], 2)"
   ]
  },
  {
   "cell_type": "code",
   "execution_count": 16,
   "id": "excellent-british",
   "metadata": {
    "ExecuteTime": {
     "end_time": "2022-05-01T11:12:46.051958Z",
     "start_time": "2022-05-01T11:12:31.437310Z"
    }
   },
   "outputs": [],
   "source": [
    "img_stack = read_MOp_tiff(base_path+'/datasets/CodFish/MERFISH/MOp/mouse1_sample1_raw/aligned_images47.tif')[:,:,:,:,:]"
   ]
  },
  {
   "cell_type": "code",
   "execution_count": 17,
   "id": "abstract-campus",
   "metadata": {
    "ExecuteTime": {
     "end_time": "2022-05-01T11:15:10.829622Z",
     "start_time": "2022-05-01T11:12:46.054272Z"
    }
   },
   "outputs": [
    {
     "name": "stderr",
     "output_type": "stream",
     "text": [
      "/groups/turaga/home/speisera/anaconda3/envs/decode_fish_dev2/lib/python3.8/site-packages/torch/functional.py:568: UserWarning: torch.meshgrid: in an upcoming release, it will be required to pass the indexing argument. (Triggered internally at  ../aten/src/ATen/native/TensorShape.cpp:2228.)\n",
      "  return _VF.meshgrid(tensors, **kwargs)  # type: ignore[attr-defined]\n"
     ]
    }
   ],
   "source": [
    "from decode_fish.funcs.dataset import GaussianSmoothing\n",
    "filt = GaussianSmoothing(11, device='cpu')\n",
    "img_filt = filt(img_stack)\n",
    "img_stack -= img_filt"
   ]
  },
  {
   "cell_type": "code",
   "execution_count": 37,
   "id": "pleased-district",
   "metadata": {
    "ExecuteTime": {
     "end_time": "2022-05-01T11:41:10.066951Z",
     "start_time": "2022-05-01T11:41:09.240053Z"
    }
   },
   "outputs": [],
   "source": [
    "z_vols = [[] for _ in range(20)]\n",
    "z_volsp = [[] for _ in range(20)]\n",
    "z_volsr = [[] for _ in range(20)]"
   ]
  },
  {
   "cell_type": "code",
   "execution_count": 38,
   "id": "prime-relative",
   "metadata": {
    "ExecuteTime": {
     "end_time": "2022-05-01T11:47:23.912836Z",
     "start_time": "2022-05-01T11:41:10.626009Z"
    }
   },
   "outputs": [
    {
     "name": "stderr",
     "output_type": "stream",
     "text": [
      "100%|████████████████████████████████████████████████████████████████████████████████████████████████████████████████████████████████████████████| 40000/40000 [06:13<00:00, 107.16it/s]\n"
     ]
    }
   ],
   "source": [
    "for i in tqdm(range(len(res_df))):\n",
    "    b_loc = nm_to_px(res_df.iloc[i])\n",
    "    vol, crop = extract_roi(img_stack[0], torch.IntTensor(np.array(b_loc.loc[['x','y','frame_idx']].values, dtype='float32')), 6)\n",
    "    \n",
    "    if vol.shape == torch.Size([22, 13, 13]):\n",
    "        # Get volumes from idx belonging to the inferred code\n",
    "        volm = cpu(vol[ints[i].nonzero()[0]])\n",
    "        # Get volumes from idx belonging to the phased codes (which are not part of the code)\n",
    "        volp = cpu(vol[np.setdiff1d(cpu(phased_ints)[i].nonzero()[0], cpu(ints)[i].nonzero()[0])])\n",
    "        # Get volumes from all idx (which are not part of the code/phased code)\n",
    "        volr = cpu(vol[np.setdiff1d(np.arange(22), np.concatenate([cpu(phased_ints)[i].nonzero()[0],cpu(ints)[i].nonzero()[0]]))])\n",
    "        z = np.clip(b_loc['z'],0,100)\n",
    "        z_vols[int(b_loc['zm']/5)].append(volm)\n",
    "        z_volsp[int(b_loc['zm']/5)].append(volp)\n",
    "        z_volsr[int(b_loc['zm']/5)].append(volr)"
   ]
  },
  {
   "cell_type": "code",
   "execution_count": 39,
   "id": "median-drilling",
   "metadata": {
    "ExecuteTime": {
     "end_time": "2022-05-01T11:47:23.919947Z",
     "start_time": "2022-05-01T11:47:23.915230Z"
    }
   },
   "outputs": [],
   "source": [
    "def get_psf_vol(stack):\n",
    "    psf_vol = []\n",
    "    for i in range(len(stack)):\n",
    "        mvol = np.concatenate(stack[i])\n",
    "        mvol = mvol.reshape(-1, mvol.shape[-2], mvol.shape[-1])\n",
    "        psf_vol.append(mvol.mean(0))\n",
    "    return np.stack(psf_vol)"
   ]
  },
  {
   "cell_type": "markdown",
   "id": "exact-society",
   "metadata": {},
   "source": [
    "Some evidence for phasing (But sweep_mop_17 shows strictly negative impact on performance)"
   ]
  },
  {
   "cell_type": "code",
   "execution_count": 40,
   "id": "changing-abraham",
   "metadata": {
    "ExecuteTime": {
     "end_time": "2022-05-01T11:47:24.867103Z",
     "start_time": "2022-05-01T11:47:23.921235Z"
    }
   },
   "outputs": [
    {
     "data": {
      "text/plain": [
       "<matplotlib.legend.Legend at 0x7fa8286701c0>"
      ]
     },
     "execution_count": 40,
     "metadata": {},
     "output_type": "execute_result"
    },
    {
     "data": {
      "image/png": "[encoded data removed]",
      "text/plain": [
       "<Figure size 432x288 with 1 Axes>"
      ]
     },
     "metadata": {
      "needs_background": "light"
     },
     "output_type": "display_data"
    }
   ],
   "source": [
    "plt.plot(get_psf_vol(z_vols).sum(-1).sum(-1), label='code')\n",
    "plt.plot(get_psf_vol(z_volsp).sum(-1).sum(-1), label='phased')\n",
    "plt.plot(get_psf_vol(z_volsr).sum(-1).sum(-1), label='random')\n",
    "plt.legend()"
   ]
  },
  {
   "cell_type": "code",
   "execution_count": null,
   "id": "recreational-guest",
   "metadata": {},
   "outputs": [],
   "source": []
  }
 ],
 "metadata": {
  "kernelspec": {
   "display_name": "decode_fish_dev2",
   "language": "python",
   "name": "decode_fish_dev2"
  },
  "language_info": {
   "codemirror_mode": {
    "name": "ipython",
    "version": 3
   },
   "file_extension": ".py",
   "mimetype": "text/x-python",
   "name": "python",
   "nbconvert_exporter": "python",
   "pygments_lexer": "ipython3",
   "version": "3.8.13"
  }
 },
 "nbformat": 4,
 "nbformat_minor": 5
}
