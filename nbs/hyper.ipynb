{
 "cells": [
  {
   "cell_type": "markdown",
   "id": "embedded-charger",
   "metadata": {},
   "source": [
    "%load_ext autoreload\n",
    "%autoreload 2"
   ]
  },
  {
   "cell_type": "code",
   "execution_count": null,
   "id": "breathing-discharge",
   "metadata": {},
   "outputs": [],
   "source": [
    "from decode_fish.imports import *\n",
    "from decode_fish.funcs.file_io import *\n",
    "from decode_fish.funcs.emitter_io import *\n",
    "from decode_fish.funcs.utils import *\n",
    "from decode_fish.funcs.dataset import *\n",
    "from decode_fish.funcs.plotting import *\n",
    "from decode_fish.engine.noise import estimate_noise_scale\n",
    "import shutil\n",
    "from decode_fish.funcs.visualization import *\n",
    "from decode_fish.funcs.predict import predict\n",
    "\n",
    "from numba import njit\n",
    "from scipy.spatial import cKDTree\n",
    "from decode_fish.funcs.evaluation import matching\n",
    "\n",
    "import io, requests\n",
    "\n",
    "from decode_fish.funcs.merfish_eval import *\n",
    "from starfish import data\n",
    "import pprint\n",
    "\n",
    "import io, requests\n",
    "from sklearn.neighbors import NearestNeighbors"
   ]
  },
  {
   "cell_type": "code",
   "execution_count": null,
   "id": "bacterial-miniature",
   "metadata": {},
   "outputs": [
    {
     "name": "stdout",
     "output_type": "stream",
     "text": [
      "13832\n"
     ]
    }
   ],
   "source": [
    "bench = pd.read_csv(\n",
    "    io.BytesIO(requests.get('https://d2nhj9g34unfro.cloudfront.net/MERFISH/benchmark_results.csv').content),\n",
    "    dtype={'barcode': object})\n",
    "\n",
    "#See Fig. S4 https://www.pnas.org/content/113/39/11046\n",
    "\n",
    "bench_df = bench.copy()\n",
    "bench_df = bench_df[bench_df['total_magnitude']>10**0.75 * 4]\n",
    "bench_df = bench_df[bench_df['area']>3]\n",
    "\n",
    "print(len(bench_df))\n",
    "\n",
    "experiment = data.MERFISH(use_test_data=True)\n",
    "code_ref = experiment.codebook.data.reshape([140,-1], order='F')\n",
    "targets = experiment.codebook.indexes['target']"
   ]
  },
  {
   "cell_type": "code",
   "execution_count": null,
   "id": "focused-savannah",
   "metadata": {},
   "outputs": [
    {
     "data": {
      "text/plain": [
       "206793"
      ]
     },
     "execution_count": null,
     "metadata": {},
     "output_type": "execute_result"
    }
   ],
   "source": [
    "pred_df = pd.read_csv('../data/results/MERFISH/exp_c_01noise.csv')\n",
    "pred_df = exclude_borders(pred_df, border_size_zyx=[0,4000,4000], img_size=[2048*100,2048*100,2048*100])\n",
    "pred_df.loc[pred_df['frame_idx']>7] = shift_df(pred_df[pred_df['frame_idx']>7], [5,20,0])\n",
    "pred_df.loc[:,'comb_sig'] = np.sqrt(pred_df['x_sig']**2 + pred_df['y_sig']**2)\n",
    "len(pred_df)"
   ]
  },
  {
   "cell_type": "code",
   "execution_count": null,
   "id": "associate-titanium",
   "metadata": {},
   "outputs": [],
   "source": [
    "def norm_features(code, norm_order = 2):\n",
    "    \n",
    "    norm = np.linalg.norm(code, ord=norm_order, axis=1)\n",
    "    code = code / norm[:, None]\n",
    "\n",
    "    return code\n",
    "\n",
    "def approximate_nearest_code(ref_code, pred_code, targets):\n",
    "    \n",
    "    nn = NearestNeighbors(n_neighbors=1, algorithm='ball_tree', metric='euclidean').fit(ref_code)\n",
    "    metric_output, indices = nn.kneighbors(pred_code)\n",
    "    gene_ids = np.ravel(targets.values[indices])\n",
    "\n",
    "    return np.ravel(metric_output), gene_ids, indices"
   ]
  },
  {
   "cell_type": "code",
   "execution_count": null,
   "id": "stretch-christmas",
   "metadata": {},
   "outputs": [],
   "source": [
    "# Define points where to query. Something to replace pixels. Could do a fine grid. "
   ]
  },
  {
   "cell_type": "code",
   "execution_count": null,
   "id": "limiting-stranger",
   "metadata": {},
   "outputs": [],
   "source": [
    "import torch.tensor as T\n",
    "\n",
    "def get_codes(pred_df, group_rad=150, prob_smoothing=1):\n",
    "#     group_rad=150;\n",
    "#     prob_smoothing=20;\n",
    "    norm_code = norm_features(code_ref) \n",
    "\n",
    "    loc_df=pred_df.copy()\n",
    "\n",
    "    N_imgs = loc_df['frame_idx'].max() + 1\n",
    "\n",
    "    loc_df = loc_df.sort_values('comb_sig').reset_index(drop=True)\n",
    "\n",
    "    xy = loc_df.loc[:,['x','y']].values\n",
    "    xy_sig = loc_df.loc[:,['x_sig','y_sig']].values * 0 + 25\n",
    "    fr_idx = loc_df.loc[:,'frame_idx'].values\n",
    "    grouped_bool = np.zeros(len(loc_df))\n",
    "\n",
    "    tree = cKDTree(xy)\n",
    "    code_errs = []\n",
    "\n",
    "    seed_inds = []\n",
    "    code_err = []\n",
    "    code_ind = []\n",
    "\n",
    "    for i in tqdm(range(len(loc_df))):\n",
    "#     for i in range(10000):    \n",
    "        if not grouped_bool[i]:\n",
    "\n",
    "            ball_inds = np.array(tree.query_ball_point(xy[i], group_rad))\n",
    "            ball_inds = ball_inds[grouped_bool[ball_inds] == 0]\n",
    "\n",
    "            if len(ball_inds) >= 4:\n",
    "\n",
    "                frame_probs = np.zeros(N_imgs)\n",
    "                # Evaluate probs at the position of the seed localization\n",
    "                probs = torch.exp(torch.distributions.normal.Normal(T(xy[ball_inds]), T(xy_sig[ball_inds])).log_prob(T(xy[i])).sum(-1))\n",
    "                # If multiple localizations belong the same frame, chose the one with higehst prob.\n",
    "                sort_inds = np.argsort(-probs)\n",
    "                sort_fr_idx = fr_idx[ball_inds][sort_inds]\n",
    "                unique_inds = sort_inds[np.unique(sort_fr_idx, return_index=True)[1]] \n",
    "                \n",
    "                if len(unique_inds) >= 4:\n",
    "                    \n",
    "                    ball_inds = ball_inds[unique_inds]\n",
    "                    frame_probs[fr_idx[ball_inds]] = probs[unique_inds]\n",
    "                    \n",
    "                    frame_probs = np.clip(frame_probs,0.,np.sort(frame_probs[frame_probs.nonzero()])[1])\n",
    "                    frame_probs = frame_probs**(1/prob_smoothing)\n",
    "                    code_errors = np.sqrt(((norm_code - norm_features(frame_probs[None]))**2).sum(-1))\n",
    "                    min_ind = np.argmin(code_errors)\n",
    "\n",
    "                    selected = ball_inds[np.intersect1d(fr_idx[ball_inds], code_ref[min_ind].nonzero()[0], assume_unique=True, return_indices=True)[1]]\n",
    "\n",
    "                    code_ref[min_ind]\n",
    "                    grouped_bool[selected] = 1\n",
    "\n",
    "                    seed_inds.append(i)\n",
    "                    code_err.append(code_errors[min_ind])\n",
    "                    code_ind.append(min_ind)\n",
    "\n",
    "    loc_df = loc_df.loc[seed_inds]\n",
    "    loc_df['code_err'] = code_err\n",
    "    loc_df['code_inds'] = code_ind\n",
    "    loc_df['gene'] = targets[code_ind]\n",
    "\n",
    "    return loc_df"
   ]
  },
  {
   "cell_type": "code",
   "execution_count": null,
   "id": "mobile-religious",
   "metadata": {},
   "outputs": [
    {
     "name": "stderr",
     "output_type": "stream",
     "text": [
      "100%|█████████████████████████████████████████████████████| 206793/206793 [00:36<00:00, 5605.79it/s]\n"
     ]
    }
   ],
   "source": [
    "res_df = get_codes(pred_df, group_rad=150, prob_smoothing=20)"
   ]
  },
  {
   "cell_type": "code",
   "execution_count": null,
   "id": "studied-capitol",
   "metadata": {},
   "outputs": [
    {
     "data": {
      "image/png": "[encoded data removed]",
      "text/plain": [
       "<Figure size 720x360 with 1 Axes>"
      ]
     },
     "metadata": {
      "needs_background": "light"
     },
     "output_type": "display_data"
    }
   ],
   "source": [
    "plt.figure(figsize=(10,5))\n",
    "_ = plt.hist(res_df['code_err'], bins=np.linspace(0,2,101))"
   ]
  },
  {
   "cell_type": "code",
   "execution_count": null,
   "id": "personal-matter",
   "metadata": {},
   "outputs": [],
   "source": [
    "# res_df = res_df[:20000]"
   ]
  },
  {
   "cell_type": "code",
   "execution_count": null,
   "id": "dynamic-impression",
   "metadata": {},
   "outputs": [],
   "source": [
    "x = np.linspace(1000,len(res_df),100)\n",
    "max_blanks = res_df['gene'].str.contains('Blank').sum()\n",
    "vardict = {'int':False, 'code_err':True}\n",
    "rocs = {}\n",
    "\n",
    "for v in vardict:\n",
    "    \n",
    "    res_df = res_df.sort_values(v, ascending=vardict[v])\n",
    "    n_blanks = []\n",
    "    for i in x:\n",
    "        n_blanks.append((res_df[:int(i)]['gene'].str.contains('Blank')).sum())\n",
    "    rocs[v] = n_blanks"
   ]
  },
  {
   "cell_type": "code",
   "execution_count": null,
   "id": "eleven-compiler",
   "metadata": {},
   "outputs": [
    {
     "data": {
      "text/plain": [
       "<matplotlib.legend.Legend at 0x7fd19f703160>"
      ]
     },
     "execution_count": null,
     "metadata": {},
     "output_type": "execute_result"
    },
    {
     "data": {
      "image/png": "[encoded data removed]",
      "text/plain": [
       "<Figure size 432x288 with 1 Axes>"
      ]
     },
     "metadata": {
      "needs_background": "light"
     },
     "output_type": "display_data"
    }
   ],
   "source": [
    "for v in rocs:\n",
    "    plt.plot(x, rocs[v], label=v)\n",
    "plt.plot([0,len(res_df)],[0,max_blanks])\n",
    "plt.legend()"
   ]
  },
  {
   "cell_type": "code",
   "execution_count": null,
   "id": "afraid-investing",
   "metadata": {},
   "outputs": [
    {
     "data": {
      "text/plain": [
       "88"
      ]
     },
     "execution_count": null,
     "metadata": {},
     "output_type": "execute_result"
    }
   ],
   "source": [
    "res_df[:15000]['gene'].str.contains('Blank').sum()"
   ]
  },
  {
   "cell_type": "code",
   "execution_count": null,
   "id": "completed-blind",
   "metadata": {},
   "outputs": [
    {
     "name": "stderr",
     "output_type": "stream",
     "text": [
      "/groups/turaga/home/speisera/anaconda3/envs/decode_fish_dev/lib/python3.9/site-packages/pandas/core/indexing.py:1720: SettingWithCopyWarning: \n",
      "A value is trying to be set on a copy of a slice from a DataFrame.\n",
      "Try using .loc[row_indexer,col_indexer] = value instead\n",
      "\n",
      "See the caveats in the documentation: https://pandas.pydata.org/pandas-docs/stable/user_guide/indexing.html#returning-a-view-versus-a-copy\n",
      "  self._setitem_single_column(loc, value, pi)\n"
     ]
    },
    {
     "name": "stdout",
     "output_type": "stream",
     "text": [
      "Recall: 0.557\n",
      "Precision: 0.514\n",
      "Jaccard: 36.509\n",
      "RMSE_vol: 100.532\n",
      "Eff_3d: 19.020\n",
      "FN: 6121.0 FP: 7289.0\n",
      "Num. matches: 7711.000\n",
      "Shift: 3.20,2.60,0.00\n"
     ]
    }
   ],
   "source": [
    "bench_match = bench_df.copy()\n",
    "bench_match.loc[:,'frame_idx'] = 0\n",
    "bench_match.loc[:,'loc_idx'] = np.arange(len(bench_match))\n",
    "bench_match.loc[:,'int'] = bench_match['total_magnitude']\n",
    "bench_match.loc[:,'z'] = 50/100\n",
    "bench_match = px_to_nm(bench_match)\n",
    "\n",
    "res_df[:15000].loc[:,'frame_idx'] = 0\n",
    "\n",
    "_,_,shift = matching(bench_match, res_df[:15000], tolerance=250, print_res=False)\n",
    "\n",
    "bench_match = shift_df(bench_match, shift=-np.array(shift))\n",
    "\n",
    "_,_,shift = matching(bench_match, res_df[:15000], tolerance=250, print_res=False)\n",
    "\n",
    "bench_match = shift_df(bench_match, shift=-np.array(shift))\n",
    "_,matches,shift = matching(bench_match, res_df[:15000], tolerance=250, print_res=True)"
   ]
  },
  {
   "cell_type": "code",
   "execution_count": null,
   "id": "growing-joining",
   "metadata": {},
   "outputs": [],
   "source": []
  }
 ],
 "metadata": {
  "kernelspec": {
   "display_name": "Python [conda env:decode_fish_dev]",
   "language": "python",
   "name": "conda-env-decode_fish_dev-py"
  }
 },
 "nbformat": 4,
 "nbformat_minor": 5
}
