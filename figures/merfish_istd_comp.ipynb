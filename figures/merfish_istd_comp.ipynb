{
 "cells": [
  {
   "cell_type": "code",
   "execution_count": 9,
   "id": "stuck-sleeping",
   "metadata": {
    "ExecuteTime": {
     "end_time": "2022-06-19T16:13:17.918331Z",
     "start_time": "2022-06-19T16:13:15.392582Z"
    }
   },
   "outputs": [
    {
     "name": "stdout",
     "output_type": "stream",
     "text": [
      "The autoreload extension is already loaded. To reload it, use:\n",
      "  %reload_ext autoreload\n"
     ]
    }
   ],
   "source": [
    "%load_ext autoreload\n",
    "%autoreload 2\n",
    "%aimport -decode_fish.engine.place_psfs"
   ]
  },
  {
   "cell_type": "code",
   "execution_count": 10,
   "id": "quiet-wagner",
   "metadata": {
    "ExecuteTime": {
     "end_time": "2022-06-19T16:13:18.196005Z",
     "start_time": "2022-06-19T16:13:17.921478Z"
    }
   },
   "outputs": [
    {
     "ename": "ValueError",
     "evalue": "GlobalHydra is already initialized, call GlobalHydra.instance().clear() if you want to re-initialize",
     "output_type": "error",
     "traceback": [
      "\u001b[0;31m---------------------------------------------------------------------------\u001b[0m",
      "\u001b[0;31mValueError\u001b[0m                                Traceback (most recent call last)",
      "Input \u001b[0;32mIn [10]\u001b[0m, in \u001b[0;36m<cell line: 23>\u001b[0;34m()\u001b[0m\n\u001b[1;32m     20\u001b[0m \u001b[38;5;28;01mimport\u001b[39;00m \u001b[38;5;21;01mh5py\u001b[39;00m\n\u001b[1;32m     21\u001b[0m \u001b[38;5;28;01mfrom\u001b[39;00m \u001b[38;5;21;01mdecode_fish\u001b[39;00m\u001b[38;5;21;01m.\u001b[39;00m\u001b[38;5;21;01mfuncs\u001b[39;00m\u001b[38;5;21;01m.\u001b[39;00m\u001b[38;5;21;01mroutines\u001b[39;00m \u001b[38;5;28;01mimport\u001b[39;00m \u001b[38;5;241m*\u001b[39m\n\u001b[0;32m---> 23\u001b[0m \u001b[43minitialize\u001b[49m\u001b[43m(\u001b[49m\u001b[43mconfig_path\u001b[49m\u001b[38;5;241;43m=\u001b[39;49m\u001b[38;5;124;43m\"\u001b[39;49m\u001b[38;5;124;43m../config\u001b[39;49m\u001b[38;5;124;43m\"\u001b[39;49m\u001b[43m)\u001b[49m\n",
      "File \u001b[0;32m~/anaconda3/envs/decode_fish_dev2/lib/python3.8/site-packages/hydra/initialize.py:84\u001b[0m, in \u001b[0;36minitialize.__init__\u001b[0;34m(self, config_path, job_name, caller_stack_depth)\u001b[0m\n\u001b[1;32m     79\u001b[0m \u001b[38;5;28;01mif\u001b[39;00m job_name \u001b[38;5;129;01mis\u001b[39;00m \u001b[38;5;28;01mNone\u001b[39;00m:\n\u001b[1;32m     80\u001b[0m     job_name \u001b[38;5;241m=\u001b[39m detect_task_name(\n\u001b[1;32m     81\u001b[0m         calling_file\u001b[38;5;241m=\u001b[39mcalling_file, calling_module\u001b[38;5;241m=\u001b[39mcalling_module\n\u001b[1;32m     82\u001b[0m     )\n\u001b[0;32m---> 84\u001b[0m \u001b[43mHydra\u001b[49m\u001b[38;5;241;43m.\u001b[39;49m\u001b[43mcreate_main_hydra_file_or_module\u001b[49m\u001b[43m(\u001b[49m\n\u001b[1;32m     85\u001b[0m \u001b[43m    \u001b[49m\u001b[43mcalling_file\u001b[49m\u001b[38;5;241;43m=\u001b[39;49m\u001b[43mcalling_file\u001b[49m\u001b[43m,\u001b[49m\n\u001b[1;32m     86\u001b[0m \u001b[43m    \u001b[49m\u001b[43mcalling_module\u001b[49m\u001b[38;5;241;43m=\u001b[39;49m\u001b[43mcalling_module\u001b[49m\u001b[43m,\u001b[49m\n\u001b[1;32m     87\u001b[0m \u001b[43m    \u001b[49m\u001b[43mconfig_path\u001b[49m\u001b[38;5;241;43m=\u001b[39;49m\u001b[43mconfig_path\u001b[49m\u001b[43m,\u001b[49m\n\u001b[1;32m     88\u001b[0m \u001b[43m    \u001b[49m\u001b[43mjob_name\u001b[49m\u001b[38;5;241;43m=\u001b[39;49m\u001b[43mjob_name\u001b[49m\u001b[43m,\u001b[49m\n\u001b[1;32m     89\u001b[0m \u001b[43m\u001b[49m\u001b[43m)\u001b[49m\n",
      "File \u001b[0;32m~/anaconda3/envs/decode_fish_dev2/lib/python3.8/site-packages/hydra/_internal/hydra.py:53\u001b[0m, in \u001b[0;36mHydra.create_main_hydra_file_or_module\u001b[0;34m(cls, calling_file, calling_module, config_path, job_name)\u001b[0m\n\u001b[1;32m     41\u001b[0m \u001b[38;5;129m@classmethod\u001b[39m\n\u001b[1;32m     42\u001b[0m \u001b[38;5;28;01mdef\u001b[39;00m \u001b[38;5;21mcreate_main_hydra_file_or_module\u001b[39m(\n\u001b[1;32m     43\u001b[0m     \u001b[38;5;28mcls\u001b[39m: Type[\u001b[38;5;124m\"\u001b[39m\u001b[38;5;124mHydra\u001b[39m\u001b[38;5;124m\"\u001b[39m],\n\u001b[0;32m   (...)\u001b[0m\n\u001b[1;32m     47\u001b[0m     job_name: \u001b[38;5;28mstr\u001b[39m,\n\u001b[1;32m     48\u001b[0m ) \u001b[38;5;241m-\u001b[39m\u001b[38;5;241m>\u001b[39m \u001b[38;5;124m\"\u001b[39m\u001b[38;5;124mHydra\u001b[39m\u001b[38;5;124m\"\u001b[39m:\n\u001b[1;32m     49\u001b[0m     config_search_path \u001b[38;5;241m=\u001b[39m create_automatic_config_search_path(\n\u001b[1;32m     50\u001b[0m         calling_file, calling_module, config_path\n\u001b[1;32m     51\u001b[0m     )\n\u001b[0;32m---> 53\u001b[0m     \u001b[38;5;28;01mreturn\u001b[39;00m \u001b[43mHydra\u001b[49m\u001b[38;5;241;43m.\u001b[39;49m\u001b[43mcreate_main_hydra2\u001b[49m\u001b[43m(\u001b[49m\u001b[43mjob_name\u001b[49m\u001b[43m,\u001b[49m\u001b[43m \u001b[49m\u001b[43mconfig_search_path\u001b[49m\u001b[43m)\u001b[49m\n",
      "File \u001b[0;32m~/anaconda3/envs/decode_fish_dev2/lib/python3.8/site-packages/hydra/_internal/hydra.py:68\u001b[0m, in \u001b[0;36mHydra.create_main_hydra2\u001b[0;34m(cls, task_name, config_search_path)\u001b[0m\n\u001b[1;32m     65\u001b[0m hydra \u001b[38;5;241m=\u001b[39m \u001b[38;5;28mcls\u001b[39m(task_name\u001b[38;5;241m=\u001b[39mtask_name, config_loader\u001b[38;5;241m=\u001b[39mconfig_loader)\n\u001b[1;32m     66\u001b[0m \u001b[38;5;28;01mfrom\u001b[39;00m \u001b[38;5;21;01mhydra\u001b[39;00m\u001b[38;5;21;01m.\u001b[39;00m\u001b[38;5;21;01mcore\u001b[39;00m\u001b[38;5;21;01m.\u001b[39;00m\u001b[38;5;21;01mglobal_hydra\u001b[39;00m \u001b[38;5;28;01mimport\u001b[39;00m GlobalHydra\n\u001b[0;32m---> 68\u001b[0m \u001b[43mGlobalHydra\u001b[49m\u001b[38;5;241;43m.\u001b[39;49m\u001b[43minstance\u001b[49m\u001b[43m(\u001b[49m\u001b[43m)\u001b[49m\u001b[38;5;241;43m.\u001b[39;49m\u001b[43minitialize\u001b[49m\u001b[43m(\u001b[49m\u001b[43mhydra\u001b[49m\u001b[43m)\u001b[49m\n\u001b[1;32m     69\u001b[0m \u001b[38;5;28;01mreturn\u001b[39;00m hydra\n",
      "File \u001b[0;32m~/anaconda3/envs/decode_fish_dev2/lib/python3.8/site-packages/hydra/core/global_hydra.py:16\u001b[0m, in \u001b[0;36mGlobalHydra.initialize\u001b[0;34m(self, hydra)\u001b[0m\n\u001b[1;32m     14\u001b[0m \u001b[38;5;28;01massert\u001b[39;00m \u001b[38;5;28misinstance\u001b[39m(hydra, Hydra), \u001b[38;5;124mf\u001b[39m\u001b[38;5;124m\"\u001b[39m\u001b[38;5;124mUnexpected Hydra type : \u001b[39m\u001b[38;5;132;01m{\u001b[39;00m\u001b[38;5;28mtype\u001b[39m(hydra)\u001b[38;5;132;01m}\u001b[39;00m\u001b[38;5;124m\"\u001b[39m\n\u001b[1;32m     15\u001b[0m \u001b[38;5;28;01mif\u001b[39;00m \u001b[38;5;28mself\u001b[39m\u001b[38;5;241m.\u001b[39mis_initialized():\n\u001b[0;32m---> 16\u001b[0m     \u001b[38;5;28;01mraise\u001b[39;00m \u001b[38;5;167;01mValueError\u001b[39;00m(\n\u001b[1;32m     17\u001b[0m         \u001b[38;5;124m\"\u001b[39m\u001b[38;5;124mGlobalHydra is already initialized, call GlobalHydra.instance().clear() if you want to re-initialize\u001b[39m\u001b[38;5;124m\"\u001b[39m\n\u001b[1;32m     18\u001b[0m     )\n\u001b[1;32m     19\u001b[0m \u001b[38;5;28mself\u001b[39m\u001b[38;5;241m.\u001b[39mhydra \u001b[38;5;241m=\u001b[39m hydra\n",
      "\u001b[0;31mValueError\u001b[0m: GlobalHydra is already initialized, call GlobalHydra.instance().clear() if you want to re-initialize"
     ]
    }
   ],
   "source": [
    "# export\n",
    "from decode_fish.imports import *\n",
    "\n",
    "# os.environ[\"CUDA_VISIBLE_DEVICES\"] = '1'\n",
    "\n",
    "from decode_fish.funcs.file_io import *\n",
    "from decode_fish.funcs.emitter_io import *\n",
    "from decode_fish.funcs.utils import *\n",
    "from decode_fish.funcs.dataset import *\n",
    "from decode_fish.funcs.plotting import *\n",
    "import shutil\n",
    "from decode_fish.funcs.matching import *\n",
    "\n",
    "from decode_fish.funcs.visualization import *\n",
    "\n",
    "from omegaconf import open_dict\n",
    "from hydra import compose, initialize\n",
    "from decode_fish.funcs.merfish_eval import *\n",
    "\n",
    "import h5py\n",
    "from decode_fish.funcs.routines import *\n",
    "\n",
    "initialize(config_path=\"../config\")"
   ]
  },
  {
   "cell_type": "markdown",
   "id": "exclusive-vanilla",
   "metadata": {},
   "source": [
    "## Generate Data for comparison with ISTDECO"
   ]
  },
  {
   "cell_type": "code",
   "execution_count": 3,
   "id": "fossil-judges",
   "metadata": {
    "ExecuteTime": {
     "end_time": "2022-06-18T10:45:53.335518Z",
     "start_time": "2022-06-18T10:45:50.273634Z"
    }
   },
   "outputs": [
    {
     "name": "stdout",
     "output_type": "stream",
     "text": [
      "Crop size larger than volume in at least one dimension. Crop size changed to (1, 128, 128)\n",
      "1 volumes\n"
     ]
    },
    {
     "name": "stderr",
     "output_type": "stream",
     "text": [
      "/groups/turaga/home/speisera/anaconda3/envs/decode_fish_dev2/lib/python3.8/site-packages/torch/cuda/__init__.py:122: UserWarning: \n",
      "    Found GPU2 NVS 510 which is of cuda capability 3.0.\n",
      "    PyTorch no longer supports this GPU because it is too old.\n",
      "    The minimum cuda capability supported by this library is 3.7.\n",
      "    \n",
      "  warnings.warn(old_gpu_warn % (d, name, major, minor, min_arch // 10, min_arch % 10))\n"
     ]
    }
   ],
   "source": [
    "cfg = OmegaConf.load(f'../config/experiment/sim_2d_2.yaml')\n",
    "\n",
    "crop_sz = 128\n",
    "cfg.training.bs = 1\n",
    "cfg.sim.random_crop.crop_sz = crop_sz\n",
    "cfg.data_path.image_sim.image_shape = [1,16,1,crop_sz,crop_sz]\n",
    "\n",
    "cfg.genm.prob_generator.low = .9999\n",
    "cfg.genm.prob_generator.high = 1.\n",
    "\n",
    "_, decode_dl = get_dataloader(cfg)\n",
    "micro = load_psf_noise_micro(cfg)"
   ]
  },
  {
   "cell_type": "code",
   "execution_count": 4,
   "id": "narrow-mounting",
   "metadata": {
    "ExecuteTime": {
     "end_time": "2022-06-18T10:45:53.384488Z",
     "start_time": "2022-06-18T10:45:53.337896Z"
    }
   },
   "outputs": [],
   "source": [
    "codebook, targets = hydra.utils.instantiate(cfg.codebook)"
   ]
  },
  {
   "cell_type": "code",
   "execution_count": 5,
   "id": "pointed-guard",
   "metadata": {
    "ExecuteTime": {
     "end_time": "2022-06-18T10:45:53.433778Z",
     "start_time": "2022-06-18T10:45:53.387084Z"
    }
   },
   "outputs": [],
   "source": [
    "out_dir = '/groups/turaga/home/speisera/Mackebox/Artur/WorkDB/deepstorm/decode_fish/data/merfish_sims/sim_data5/'\n",
    "\n",
    "densities = [0.01, 0.025, 0.05, 0.075, 0.1, 0.125, 0.15, 0.2]\n",
    "intensities = [1.]\n",
    "# intensities = [0.8, 0.4, 0.2, 0.12]"
   ]
  },
  {
   "cell_type": "code",
   "execution_count": 6,
   "id": "sunrise-genome",
   "metadata": {
    "ExecuteTime": {
     "end_time": "2022-06-18T10:46:06.488933Z",
     "start_time": "2022-06-18T10:45:53.435901Z"
    }
   },
   "outputs": [
    {
     "name": "stderr",
     "output_type": "stream",
     "text": [
      "/groups/turaga/home/speisera/Dropbox (mackelab)/Artur/WorkDB/deepstorm/decode_fish/decode_fish/engine/point_process.py:39: UserWarning: To copy construct from a tensor, it is recommended to use sourceTensor.clone().detach() or sourceTensor.clone().detach().requires_grad_(True), rather than torch.tensor(sourceTensor).\n",
      "  self.codebook = torch.tensor(codebook).to(self.device) if codebook is not None else None\n",
      "/groups/turaga/home/speisera/anaconda3/envs/decode_fish_dev2/lib/python3.8/site-packages/torch/functional.py:568: UserWarning: torch.meshgrid: in an upcoming release, it will be required to pass the indexing argument. (Triggered internally at  ../aten/src/ATen/native/TensorShape.cpp:2228.)\n",
      "  return _VF.meshgrid(tensors, **kwargs)  # type: ignore[attr-defined]\n"
     ]
    },
    {
     "name": "stdout",
     "output_type": "stream",
     "text": [
      "dens_0.01_int_1.0\n"
     ]
    },
    {
     "name": "stderr",
     "output_type": "stream",
     "text": [
      "/groups/turaga/home/speisera/Dropbox (mackelab)/Artur/WorkDB/deepstorm/decode_fish/decode_fish/engine/point_process.py:39: UserWarning: To copy construct from a tensor, it is recommended to use sourceTensor.clone().detach() or sourceTensor.clone().detach().requires_grad_(True), rather than torch.tensor(sourceTensor).\n",
      "  self.codebook = torch.tensor(codebook).to(self.device) if codebook is not None else None\n"
     ]
    },
    {
     "name": "stdout",
     "output_type": "stream",
     "text": [
      "dens_0.025_int_1.0\n"
     ]
    },
    {
     "name": "stderr",
     "output_type": "stream",
     "text": [
      "/groups/turaga/home/speisera/Dropbox (mackelab)/Artur/WorkDB/deepstorm/decode_fish/decode_fish/engine/point_process.py:39: UserWarning: To copy construct from a tensor, it is recommended to use sourceTensor.clone().detach() or sourceTensor.clone().detach().requires_grad_(True), rather than torch.tensor(sourceTensor).\n",
      "  self.codebook = torch.tensor(codebook).to(self.device) if codebook is not None else None\n"
     ]
    },
    {
     "name": "stdout",
     "output_type": "stream",
     "text": [
      "dens_0.05_int_1.0\n"
     ]
    },
    {
     "name": "stderr",
     "output_type": "stream",
     "text": [
      "/groups/turaga/home/speisera/Dropbox (mackelab)/Artur/WorkDB/deepstorm/decode_fish/decode_fish/engine/point_process.py:39: UserWarning: To copy construct from a tensor, it is recommended to use sourceTensor.clone().detach() or sourceTensor.clone().detach().requires_grad_(True), rather than torch.tensor(sourceTensor).\n",
      "  self.codebook = torch.tensor(codebook).to(self.device) if codebook is not None else None\n"
     ]
    },
    {
     "name": "stdout",
     "output_type": "stream",
     "text": [
      "dens_0.075_int_1.0\n"
     ]
    },
    {
     "name": "stderr",
     "output_type": "stream",
     "text": [
      "/groups/turaga/home/speisera/Dropbox (mackelab)/Artur/WorkDB/deepstorm/decode_fish/decode_fish/engine/point_process.py:39: UserWarning: To copy construct from a tensor, it is recommended to use sourceTensor.clone().detach() or sourceTensor.clone().detach().requires_grad_(True), rather than torch.tensor(sourceTensor).\n",
      "  self.codebook = torch.tensor(codebook).to(self.device) if codebook is not None else None\n"
     ]
    },
    {
     "name": "stdout",
     "output_type": "stream",
     "text": [
      "dens_0.1_int_1.0\n"
     ]
    },
    {
     "name": "stderr",
     "output_type": "stream",
     "text": [
      "/groups/turaga/home/speisera/Dropbox (mackelab)/Artur/WorkDB/deepstorm/decode_fish/decode_fish/engine/point_process.py:39: UserWarning: To copy construct from a tensor, it is recommended to use sourceTensor.clone().detach() or sourceTensor.clone().detach().requires_grad_(True), rather than torch.tensor(sourceTensor).\n",
      "  self.codebook = torch.tensor(codebook).to(self.device) if codebook is not None else None\n"
     ]
    },
    {
     "name": "stdout",
     "output_type": "stream",
     "text": [
      "dens_0.125_int_1.0\n"
     ]
    },
    {
     "name": "stderr",
     "output_type": "stream",
     "text": [
      "/groups/turaga/home/speisera/Dropbox (mackelab)/Artur/WorkDB/deepstorm/decode_fish/decode_fish/engine/point_process.py:39: UserWarning: To copy construct from a tensor, it is recommended to use sourceTensor.clone().detach() or sourceTensor.clone().detach().requires_grad_(True), rather than torch.tensor(sourceTensor).\n",
      "  self.codebook = torch.tensor(codebook).to(self.device) if codebook is not None else None\n"
     ]
    },
    {
     "name": "stdout",
     "output_type": "stream",
     "text": [
      "dens_0.15_int_1.0\n"
     ]
    },
    {
     "name": "stderr",
     "output_type": "stream",
     "text": [
      "/groups/turaga/home/speisera/Dropbox (mackelab)/Artur/WorkDB/deepstorm/decode_fish/decode_fish/engine/point_process.py:39: UserWarning: To copy construct from a tensor, it is recommended to use sourceTensor.clone().detach() or sourceTensor.clone().detach().requires_grad_(True), rather than torch.tensor(sourceTensor).\n",
      "  self.codebook = torch.tensor(codebook).to(self.device) if codebook is not None else None\n"
     ]
    },
    {
     "name": "stdout",
     "output_type": "stream",
     "text": [
      "dens_0.2_int_1.0\n"
     ]
    }
   ],
   "source": [
    "from decode_fish.engine.point_process import *\n",
    "from decode_fish.funcs.output_trafo import *\n",
    "from decode_fish.funcs.routines import sim_data\n",
    "\n",
    "gt_col = []\n",
    "    \n",
    "for d in densities:\n",
    "    for i in intensities:\n",
    "        \n",
    "        point_process = PointProcessUniform(cfg.genm.intensity_dist.int_conc*i, cfg.genm.intensity_dist.int_rate, cfg.genm.intensity_dist.int_loc, n_channels=16, \n",
    "                                            sim_z=False, codebook=torch.tensor(codebook), int_option=1)\n",
    "        \n",
    "        k = f'dens_{d}_int_{i}'\n",
    "        print(k)\n",
    "\n",
    "        with h5py.File(out_dir+k+'.h5', 'w') as f:\n",
    "\n",
    "            xsim, cols, gt_df = sim_data(decode_dl, micro, point_process, batches=10, n_codes=len(codebook), rate_fac=d)\n",
    "\n",
    "            gt_df = px_to_nm(gt_df)\n",
    "            gt_df = exclude_borders(gt_df, border_size_zyx=[0,500,500], img_size=[crop_sz*100,crop_sz*100,crop_sz*100])\n",
    "\n",
    "            add_df_to_hdf5(f, 'locations', gt_df)          \n",
    "            f.create_dataset('frames', data=cpu(xsim))\n",
    "            \n",
    "            free_mem()"
   ]
  },
  {
   "cell_type": "code",
   "execution_count": 12,
   "id": "prostate-ireland",
   "metadata": {
    "ExecuteTime": {
     "end_time": "2022-06-19T16:15:03.203156Z",
     "start_time": "2022-06-19T16:15:03.098678Z"
    }
   },
   "outputs": [
    {
     "name": "stdout",
     "output_type": "stream",
     "text": [
      "bsub -gpu \"num=1\" -q gpu_rtx -o logs/ofish.log -e logs/efish.log /groups/turaga/home/speisera/anaconda3/envs/decode_fish_dev2/bin/python /groups/turaga/home/speisera/Mackebox/Artur/WorkDB/deepstorm/decode_fish/decode_fish/merfish_sim_eval.py data_file=dens_0.075_int_1.0.h5 \n",
      "\n",
      "bsub -gpu \"num=1\" -q gpu_rtx -o logs/ofish.log -e logs/efish.log /groups/turaga/home/speisera/anaconda3/envs/decode_fish_dev2/bin/python /groups/turaga/home/speisera/Mackebox/Artur/WorkDB/deepstorm/decode_fish/decode_fish/merfish_sim_eval.py data_file=dens_0.15_int_1.0.h5 \n",
      "\n",
      "bsub -gpu \"num=1\" -q gpu_rtx -o logs/ofish.log -e logs/efish.log /groups/turaga/home/speisera/anaconda3/envs/decode_fish_dev2/bin/python /groups/turaga/home/speisera/Mackebox/Artur/WorkDB/deepstorm/decode_fish/decode_fish/merfish_sim_eval.py data_file=dens_0.2_int_1.0.h5 \n",
      "\n",
      "bsub -gpu \"num=1\" -q gpu_rtx -o logs/ofish.log -e logs/efish.log /groups/turaga/home/speisera/anaconda3/envs/decode_fish_dev2/bin/python /groups/turaga/home/speisera/Mackebox/Artur/WorkDB/deepstorm/decode_fish/decode_fish/merfish_sim_eval.py data_file=dens_0.025_int_1.0.h5 \n",
      "\n",
      "bsub -gpu \"num=1\" -q gpu_rtx -o logs/ofish.log -e logs/efish.log /groups/turaga/home/speisera/anaconda3/envs/decode_fish_dev2/bin/python /groups/turaga/home/speisera/Mackebox/Artur/WorkDB/deepstorm/decode_fish/decode_fish/merfish_sim_eval.py data_file=dens_0.125_int_1.0.h5 \n",
      "\n",
      "bsub -gpu \"num=1\" -q gpu_rtx -o logs/ofish.log -e logs/efish.log /groups/turaga/home/speisera/anaconda3/envs/decode_fish_dev2/bin/python /groups/turaga/home/speisera/Mackebox/Artur/WorkDB/deepstorm/decode_fish/decode_fish/merfish_sim_eval.py data_file=dens_0.1_int_1.0.h5 \n",
      "\n",
      "bsub -gpu \"num=1\" -q gpu_rtx -o logs/ofish.log -e logs/efish.log /groups/turaga/home/speisera/anaconda3/envs/decode_fish_dev2/bin/python /groups/turaga/home/speisera/Mackebox/Artur/WorkDB/deepstorm/decode_fish/decode_fish/merfish_sim_eval.py data_file=dens_0.01_int_1.0.h5 \n",
      "\n",
      "bsub -gpu \"num=1\" -q gpu_rtx -o logs/ofish.log -e logs/efish.log /groups/turaga/home/speisera/anaconda3/envs/decode_fish_dev2/bin/python /groups/turaga/home/speisera/Mackebox/Artur/WorkDB/deepstorm/decode_fish/decode_fish/merfish_sim_eval.py data_file=dens_0.05_int_1.0.h5 \n",
      "\n"
     ]
    }
   ],
   "source": [
    "out_dir = '/groups/turaga/home/speisera/Mackebox/Artur/WorkDB/deepstorm/decode_fish/data/merfish_sims/sim_data5/'\n",
    "files = glob.glob(out_dir+'/*.h5')\n",
    "base_str = 'bsub -gpu \"num=1\" -q gpu_rtx -o logs/ofish.log -e logs/efish.log /groups/turaga/home/speisera/anaconda3/envs/decode_fish_dev2/bin/python /groups/turaga/home/speisera/Mackebox/Artur/WorkDB/deepstorm/decode_fish/decode_fish/merfish_sim_eval.py '\n",
    "\n",
    "with open('run_slurm.sh', 'w') as f:\n",
    "    for n in files:\n",
    "        name = n.split('/')[-1]\n",
    "        print(base_str + f'data_file={name}' + ' \\n')\n",
    "        f.write(base_str + f'data_file={name}' + ' \\n')"
   ]
  },
  {
   "cell_type": "code",
   "execution_count": 130,
   "id": "bored-excitement",
   "metadata": {
    "ExecuteTime": {
     "end_time": "2022-06-20T06:44:40.978573Z",
     "start_time": "2022-06-20T06:44:40.912814Z"
    }
   },
   "outputs": [
    {
     "name": "stdout",
     "output_type": "stream",
     "text": [
      "<KeysViewHDF5 ['hd', 'hd2', 'istdeco']>\n",
      "<HDF5 group \"/hd\" (2 members)>\n"
     ]
    }
   ],
   "source": [
    "out_dir = '/groups/turaga/home/speisera/Mackebox/Artur/WorkDB/deepstorm/decode_fish/data/merfish_sims/sim_data5/'\n",
    "intensities = [0]\n",
    "files = glob.glob(out_dir+'sim_2d_2/*')\n",
    "\n",
    "with h5py.File(files[0], 'r') as f:\n",
    "    print(f.keys())\n",
    "    print(f['hd'])"
   ]
  },
  {
   "cell_type": "code",
   "execution_count": 131,
   "id": "micro-deployment",
   "metadata": {
    "ExecuteTime": {
     "end_time": "2022-06-20T06:44:42.906813Z",
     "start_time": "2022-06-20T06:44:42.569759Z"
    }
   },
   "outputs": [
    {
     "name": "stdout",
     "output_type": "stream",
     "text": [
      "dens_0.075_int_1.0\n",
      "dens_0.15_int_1.0\n",
      "dens_0.2_int_1.0\n",
      "dens_0.025_int_1.0\n",
      "dens_0.125_int_1.0\n",
      "dens_0.1_int_1.0\n",
      "hd\n"
     ]
    },
    {
     "data": {
      "text/html": [
       "<div>\n",
       "<style scoped>\n",
       "    .dataframe tbody tr th:only-of-type {\n",
       "        vertical-align: middle;\n",
       "    }\n",
       "\n",
       "    .dataframe tbody tr th {\n",
       "        vertical-align: top;\n",
       "    }\n",
       "\n",
       "    .dataframe thead th {\n",
       "        text-align: right;\n",
       "    }\n",
       "</style>\n",
       "<table border=\"1\" class=\"dataframe\">\n",
       "  <thead>\n",
       "    <tr style=\"text-align: right;\">\n",
       "      <th></th>\n",
       "      <th>eff_3d</th>\n",
       "      <th>jaccard</th>\n",
       "      <th>n_matches</th>\n",
       "      <th>precision</th>\n",
       "      <th>recall</th>\n",
       "      <th>rmse_vol</th>\n",
       "      <th>rmse_x</th>\n",
       "      <th>rmse_y</th>\n",
       "      <th>rmse_z</th>\n",
       "    </tr>\n",
       "  </thead>\n",
       "  <tbody>\n",
       "    <tr>\n",
       "      <th>0</th>\n",
       "      <td>76.005085</td>\n",
       "      <td>0.827472</td>\n",
       "      <td>11717</td>\n",
       "      <td>0.971478</td>\n",
       "      <td>0.848075</td>\n",
       "      <td>33.352417</td>\n",
       "      <td>24.219868</td>\n",
       "      <td>22.929931</td>\n",
       "      <td>0.0</td>\n",
       "    </tr>\n",
       "  </tbody>\n",
       "</table>\n",
       "</div>"
      ],
      "text/plain": [
       "      eff_3d   jaccard  n_matches  precision    recall   rmse_vol     rmse_x  \\\n",
       "0  76.005085  0.827472      11717   0.971478  0.848075  33.352417  24.219868   \n",
       "\n",
       "      rmse_y  rmse_z  \n",
       "0  22.929931     0.0  "
      ]
     },
     "metadata": {},
     "output_type": "display_data"
    },
    {
     "name": "stdout",
     "output_type": "stream",
     "text": [
      "istdeco\n"
     ]
    },
    {
     "data": {
      "text/html": [
       "<div>\n",
       "<style scoped>\n",
       "    .dataframe tbody tr th:only-of-type {\n",
       "        vertical-align: middle;\n",
       "    }\n",
       "\n",
       "    .dataframe tbody tr th {\n",
       "        vertical-align: top;\n",
       "    }\n",
       "\n",
       "    .dataframe thead th {\n",
       "        text-align: right;\n",
       "    }\n",
       "</style>\n",
       "<table border=\"1\" class=\"dataframe\">\n",
       "  <thead>\n",
       "    <tr style=\"text-align: right;\">\n",
       "      <th></th>\n",
       "      <th>eff_3d</th>\n",
       "      <th>jaccard</th>\n",
       "      <th>n_matches</th>\n",
       "      <th>precision</th>\n",
       "      <th>recall</th>\n",
       "      <th>rmse_vol</th>\n",
       "      <th>rmse_x</th>\n",
       "      <th>rmse_y</th>\n",
       "      <th>rmse_z</th>\n",
       "    </tr>\n",
       "  </thead>\n",
       "  <tbody>\n",
       "    <tr>\n",
       "      <th>0</th>\n",
       "      <td>37.597051</td>\n",
       "      <td>0.628221</td>\n",
       "      <td>10458</td>\n",
       "      <td>0.786967</td>\n",
       "      <td>0.756948</td>\n",
       "      <td>100.238395</td>\n",
       "      <td>70.992256</td>\n",
       "      <td>70.766062</td>\n",
       "      <td>0.0</td>\n",
       "    </tr>\n",
       "  </tbody>\n",
       "</table>\n",
       "</div>"
      ],
      "text/plain": [
       "      eff_3d   jaccard  n_matches  precision    recall    rmse_vol     rmse_x  \\\n",
       "0  37.597051  0.628221      10458   0.786967  0.756948  100.238395  70.992256   \n",
       "\n",
       "      rmse_y  rmse_z  \n",
       "0  70.766062     0.0  "
      ]
     },
     "metadata": {},
     "output_type": "display_data"
    },
    {
     "name": "stdout",
     "output_type": "stream",
     "text": [
      "dens_0.01_int_1.0\n",
      "dens_0.05_int_1.0\n"
     ]
    }
   ],
   "source": [
    "densities = [0.01, 0.025, 0.05, 0.075, 0.1, 0.125, 0.15, 0.2]\n",
    "intensities = [1.0]\n",
    "\n",
    "with h5py.File(files[0], 'r') as f:\n",
    "    mod_keys = list(f.keys())\n",
    "    \n",
    "mod_keys = ['hd', 'istdeco']\n",
    "    \n",
    "jacs = {k:np.zeros([len(intensities), len(densities)]) for k in mod_keys}\n",
    "rmse = {k:np.zeros([len(intensities), len(densities)]) for k in mod_keys}\n",
    "\n",
    "for f in files:\n",
    "    \n",
    "    k = f.split('/')[-1].split('.h5')[0] \n",
    "    print(k)\n",
    "    d = k.split('_')[1]\n",
    "    i = k.split('_')[3]\n",
    "    \n",
    "    if float(d) in densities:\n",
    "    \n",
    "        with h5py.File(f, 'r') as h:\n",
    "            for m in mod_keys:\n",
    "\n",
    "                perf = get_df_from_hdf5(h[m]['perf'])\n",
    "\n",
    "                if float(i) in intensities:\n",
    "                    jacs[m][intensities.index(float(i)),densities.index(float(d))] = perf['jaccard'].values[0]\n",
    "                    rmse[m][intensities.index(float(i)),densities.index(float(d))] = perf['rmse_vol'].values[0]\n",
    "                    \n",
    "                if k == 'dens_0.1_int_1.0':\n",
    "                    print(m)\n",
    "                    display(perf)"
   ]
  },
  {
   "cell_type": "code",
   "execution_count": 132,
   "id": "detailed-discount",
   "metadata": {
    "ExecuteTime": {
     "end_time": "2022-06-20T06:44:43.928661Z",
     "start_time": "2022-06-20T06:44:43.585268Z"
    }
   },
   "outputs": [
    {
     "data": {
      "text/plain": [
       "Text(0.5, 0, 'Density')"
      ]
     },
     "execution_count": 132,
     "metadata": {},
     "output_type": "execute_result"
    },
    {
     "data": {
      "image/png": "[encoded data removed]",
      "text/plain": [
       "<Figure size 720x360 with 2 Axes>"
      ]
     },
     "metadata": {
      "needs_background": "light"
     },
     "output_type": "display_data"
    }
   ],
   "source": [
    "import seaborn as sns\n",
    "labels = {'hd':'DECODE', 'istdeco':'ISTDECO'}\n",
    "\n",
    "plt.figure(figsize=(10,5))\n",
    "plt.subplot(121)\n",
    "for i in range(len(intensities)):\n",
    "    for m in mod_keys:\n",
    "        plt.plot(densities, jacs[m][i], label=labels[m])\n",
    "    plt.legend(frameon=False)\n",
    "    \n",
    "sns.despine()\n",
    "plt.ylabel('Jaccard index', size=12)\n",
    "plt.xlabel('Density', size=12)\n",
    "\n",
    "plt.subplot(122)\n",
    "for i in range(len(intensities)):\n",
    "    for m in mod_keys:\n",
    "        plt.plot(densities, rmse[m][i], label=labels[m])\n",
    "    plt.legend(frameon=False)\n",
    "    \n",
    "sns.despine()\n",
    "plt.ylabel('3D RMSE', size=12)\n",
    "plt.xlabel('Density', size=12)"
   ]
  },
  {
   "cell_type": "code",
   "execution_count": 125,
   "id": "afraid-range",
   "metadata": {
    "ExecuteTime": {
     "end_time": "2022-06-20T06:32:18.881372Z",
     "start_time": "2022-06-20T06:32:17.104551Z"
    }
   },
   "outputs": [
    {
     "name": "stdout",
     "output_type": "stream",
     "text": [
      "Recall: 0.939\n",
      "Precision: 0.989\n",
      "Jaccard: 92.931\n",
      "RMSE_vol: 21.287\n",
      "Eff_3d: 87.223\n",
      "FN: 428.0 FP: 74.0\n",
      "Num. matches: 6599.000\n",
      "Shift: 0.07,0.18,0.00\n",
      "Recall: 0.967\n",
      "Precision: 0.499\n",
      "Jaccard: 49.043\n",
      "RMSE_vol: 54.433\n",
      "Eff_3d: 42.231\n",
      "FN: 234.0 FP: 6824.0\n",
      "Num. matches: 6793.000\n",
      "Shift: -0.07,0.19,0.00\n"
     ]
    }
   ],
   "source": [
    "density = densities[2]\n",
    "cfg = OmegaConf.load(f'../config/experiment/sim_2d_2.yaml')\n",
    "codebook, targets = hydra.utils.instantiate(cfg.codebook)\n",
    "\n",
    "with h5py.File(files[0], 'r') as f:\n",
    "    mod_keys = list(f.keys())\n",
    "    \n",
    "with h5py.File(f'/groups/turaga/home/speisera/Mackebox/Artur/WorkDB/deepstorm/decode_fish/data/merfish_sims/sim_data5/dens_{density}_int_1.0.h5', 'r') as f:\n",
    "\n",
    "    gt_df = get_df_from_hdf5(f['locations'])\n",
    "\n",
    "for f in [f'/groups/turaga/home/speisera/Mackebox/Artur/WorkDB/deepstorm/decode_fish/data/merfish_sims/sim_data5/sim_2d_2/dens_{density}_int_1.0.h5']:\n",
    "    with h5py.File(f, 'r') as h:\n",
    "\n",
    "        dec_df = get_df_from_hdf5(h['hd']['locations'])\n",
    "        ist_df = get_df_from_hdf5(h['istdeco']['locations_raw'])\n",
    "        ist_df['loc_idx'] = np.arange(len(ist_df))\n",
    "        \n",
    "        perf, matches, _ = matching(gt_df, dec_df, tolerance=500, print_res=True, match_genes=True, allow_multiple_matches=False)\n",
    "        dec_df.loc[:, 'class'] = 1\n",
    "        dec_df.loc[dec_df['loc_idx'].isin(matches['loc_idx_pred']), 'class'] = 0\n",
    "        dec_df = sel_int_ch(dec_df, codebook)\n",
    "        \n",
    "        perf, matches, _ = matching(gt_df, ist_df, tolerance=500, print_res=True, match_genes=True, allow_multiple_matches=False)\n",
    "        ist_df.loc[:, 'class'] = 1\n",
    "        ist_df.loc[ist_df['loc_idx'].isin(matches['loc_idx_pred']), 'class'] = 0"
   ]
  },
  {
   "cell_type": "code",
   "execution_count": 126,
   "id": "suitable-nudist",
   "metadata": {
    "ExecuteTime": {
     "end_time": "2022-06-20T06:32:19.076444Z",
     "start_time": "2022-06-20T06:32:18.883442Z"
    }
   },
   "outputs": [
    {
     "name": "stdout",
     "output_type": "stream",
     "text": [
      "Recall: 0.510\n",
      "Precision: 0.973\n",
      "Jaccard: 50.288\n",
      "RMSE_vol: 47.243\n",
      "Eff_3d: 44.961\n",
      "FN: 3269.0 FP: 96.0\n",
      "Num. matches: 3404.000\n",
      "Shift: 0.09,0.31,0.00\n"
     ]
    }
   ],
   "source": [
    "perf, matches, _ = matching(dec_df, ist_df.nlargest(3500,'quality'), tolerance=500, print_res=True, match_genes=True, allow_multiple_matches=False, ignore_z=True)"
   ]
  },
  {
   "cell_type": "code",
   "execution_count": 133,
   "id": "committed-slovenia",
   "metadata": {
    "ExecuteTime": {
     "end_time": "2022-06-20T06:47:08.338377Z",
     "start_time": "2022-06-20T06:47:07.255237Z"
    }
   },
   "outputs": [
    {
     "data": {
      "text/plain": [
       "Text(0, 0.5, 'N FP')"
      ]
     },
     "execution_count": 133,
     "metadata": {},
     "output_type": "execute_result"
    },
    {
     "data": {
      "image/png": "[encoded data removed]",
      "text/plain": [
       "<Figure size 576x360 with 1 Axes>"
      ]
     },
     "metadata": {
      "needs_background": "light"
     },
     "output_type": "display_data"
    }
   ],
   "source": [
    "plt.figure(figsize=(8,5))\n",
    "import seaborn as sns\n",
    "for k in ['comb_sig','int_ratio']:\n",
    "    b = False if k in ['tot_int','prob'] else True\n",
    "    r  = make_roc(dec_df, k, ascending=b)\n",
    "    plt.plot(r, label='DECODE '+k)\n",
    "\n",
    "tra = ist_df[ist_df['intensity'] > 500]\n",
    "for k in ['quality','intensity']:\n",
    "    r  = make_roc(tra, k, ascending=False)\n",
    "    plt.plot(r, label='ISTDECO' + k, linestyle='--')\n",
    "    \n",
    "plt.legend(frameon=False, fontsize=10)\n",
    "plt.ylim(0,300)\n",
    "sns.despine()\n",
    "\n",
    "plt.xlabel('N detections', size=12)\n",
    "plt.ylabel('N FP', size=12)"
   ]
  },
  {
   "cell_type": "code",
   "execution_count": null,
   "id": "official-mexico",
   "metadata": {},
   "outputs": [],
   "source": []
  }
 ],
 "metadata": {
  "kernelspec": {
   "display_name": "Python [conda env:decode_fish_dev2]",
   "language": "python",
   "name": "conda-env-decode_fish_dev2-py"
  },
  "language_info": {
   "codemirror_mode": {
    "name": "ipython",
    "version": 3
   },
   "file_extension": ".py",
   "mimetype": "text/x-python",
   "name": "python",
   "nbconvert_exporter": "python",
   "pygments_lexer": "ipython3",
   "version": "3.8.13"
  }
 },
 "nbformat": 4,
 "nbformat_minor": 5
}
