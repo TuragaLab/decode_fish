{
 "cells": [
  {
   "cell_type": "code",
   "execution_count": 53,
   "metadata": {
    "ExecuteTime": {
     "end_time": "2022-05-02T11:49:01.630483Z",
     "start_time": "2022-05-02T11:49:01.616526Z"
    }
   },
   "outputs": [],
   "source": [
    "from pathlib import Path\n",
    "from decode_fish.funcs.utils import *\n",
    "import glob\n",
    "\n",
    "def make_sweep_str(pfile, pars, group, resume=False, init=None, gpu='gpu_rtx', runfile='train.py'):\n",
    "    \n",
    "    base_string = f'bsub -gpu \"num=1\" -q {gpu} -o logs/ofish.log -e logs/efish.log /groups/turaga/home/speisera/anaconda3/envs/decode_fish_dev2/bin/python /groups/turaga/home/speisera/Mackebox/Artur/WorkDB/deepstorm/decode_fish/decode_fish/{runfile}'   \n",
    "    \n",
    "    base_str = base_string + f' +experiment={pfile}'\n",
    "    name = ''\n",
    "    \n",
    "    for k in pars:\n",
    "        if k!= 'run_name':\n",
    "            base_str += ' ' + k + f'={pars[k]}'\n",
    "            name += k.split('.')[-1]+f':{pars[k]}x'\n",
    "            name = name.replace('[', '')\n",
    "            name = name.replace(']', '')\n",
    "            name = name.replace(',', 'x')\n",
    "    name = name[:-1]\n",
    "    \n",
    "    if 'run_name' in pars:\n",
    "        name=pars['run_name']\n",
    "    \n",
    "    if resume:\n",
    "        base_str += ' training.resume=True '\n",
    "    if init is not None:\n",
    "        base_str += f' data_path.model_init={init} '\n",
    "    \n",
    "    return base_str + f' run_name={name} output.group={group}' + '\\n'\n",
    "    \n",
    "\n",
    "def make_named_str(pfile, name, group):\n",
    "    \n",
    "    base_str = base_string + f' +experiment={pfile}'\n",
    "    \n",
    "    return base_str + f' run_name={name} output.group={group}' + '\\n'"
   ]
  },
  {
   "cell_type": "code",
   "execution_count": 179,
   "metadata": {},
   "outputs": [],
   "source": [
    "# cfg.training.mic.par_grads.channel_facs = False\n",
    "# cfg.training.mic.par_grads.channel_shifts = False\n",
    "# cfg.training.mic.par_grads.theta_par = False\n",
    "# cfg.training.mic.par_grads.psf_vol = False"
   ]
  },
  {
   "cell_type": "code",
   "execution_count": 186,
   "metadata": {
    "ExecuteTime": {
     "end_time": "2022-05-04T15:05:20.727005Z",
     "start_time": "2022-05-04T15:05:20.720955Z"
    }
   },
   "outputs": [],
   "source": [
    "group = 'sweep_mop_20'\n",
    "pfile = 'MERFISH_mop_20'\n",
    "\n",
    "variable_col = param_iter()\n",
    "variable_col.add('data_path.image_path', '/groups/turaga/home/speisera/Mackebox/Artur/WorkDB/deepstorm//datasets/CodFish/MERFISH/MOp/mouse1_sample1_raw/aligned_images150.tif', '/groups/turaga/home/speisera/Mackebox/Artur/WorkDB/deepstorm//datasets/CodFish/MERFISH/MOp/mouse1_sample1_raw/aligned_images151.tif', '/groups/turaga/home/speisera/Mackebox/Artur/WorkDB/deepstorm//datasets/CodFish/MERFISH/MOp/mouse1_sample1_raw/aligned_images47.tif')\n",
    "par_prod = variable_col.param_product()"
   ]
  },
  {
   "cell_type": "code",
   "execution_count": 224,
   "metadata": {
    "ExecuteTime": {
     "end_time": "2022-05-05T16:46:53.640661Z",
     "start_time": "2022-05-05T16:46:53.633813Z"
    }
   },
   "outputs": [],
   "source": [
    "group = 'sweep_mop_21'\n",
    "pfile = 'MERFISH_mop_21'\n",
    "\n",
    "variable_col = param_iter()\n",
    "# variable_col.add('training.schedule','null')\n",
    "# variable_col.add('training.mic.freq',3)\n",
    "variable_col.add('genm.microscope.norm', 'escort', 'none')\n",
    "variable_col.add('training.z_sig_fac', 1.)\n",
    "\n",
    "# variable_col.add('training.mic.mean_diff', False)\n",
    "# variable_col.add('training.mic.enabled',False)\n",
    "par_prod = variable_col.param_product()"
   ]
  },
  {
   "cell_type": "code",
   "execution_count": 131,
   "metadata": {
    "ExecuteTime": {
     "end_time": "2022-05-02T16:20:00.200208Z",
     "start_time": "2022-05-02T16:20:00.192964Z"
    }
   },
   "outputs": [],
   "source": [
    "group = 'MERFISH_sweep_gen_2'\n",
    "pfile = 'MERFISH_sweep_gen_2'\n",
    "\n",
    "variable_col = param_iter()\n",
    "variable_col.add('genm.microscope.norm', 'none', 'escort')\n",
    "variable_col.add('training.mic.par_grads.z_facs', True)\n",
    "variable_col.add('training.mic.mean_diff', True)\n",
    "variable_col.add('training.mic.par_grads.theta_par', False)\n",
    "variable_col.add('training.mic.opt.lr', 0.00025, 0.0005)\n",
    "par_prod = variable_col.param_product()"
   ]
  },
  {
   "cell_type": "code",
   "execution_count": 225,
   "metadata": {
    "ExecuteTime": {
     "end_time": "2022-05-05T16:46:57.063970Z",
     "start_time": "2022-05-05T16:46:57.054607Z"
    },
    "code_folding": [],
    "scrolled": false
   },
   "outputs": [
    {
     "name": "stdout",
     "output_type": "stream",
     "text": [
      "bsub -gpu \"num=1\" -q gpu_rtx -o logs/ofish.log -e logs/efish.log /groups/turaga/home/speisera/anaconda3/envs/decode_fish_dev2/bin/python /groups/turaga/home/speisera/Mackebox/Artur/WorkDB/deepstorm/decode_fish/decode_fish/train.py +experiment=MERFISH_mop_21 genm.microscope.norm=escort training.z_sig_fac=1.0 run_name=norm:escortxz_sig_fac:1.0 output.group=sweep_mop_21\n",
      "\n",
      "bsub -gpu \"num=1\" -q gpu_rtx -o logs/ofish.log -e logs/efish.log /groups/turaga/home/speisera/anaconda3/envs/decode_fish_dev2/bin/python /groups/turaga/home/speisera/Mackebox/Artur/WorkDB/deepstorm/decode_fish/decode_fish/train.py +experiment=MERFISH_mop_21 genm.microscope.norm=none training.z_sig_fac=1.0 run_name=norm:nonexz_sig_fac:1.0 output.group=sweep_mop_21\n",
      "\n"
     ]
    }
   ],
   "source": [
    "# Path.mkdir(model_path/group, exist_ok=True)\n",
    "\n",
    "with open('run_slurm.sh', 'w') as f:\n",
    "    for pars in par_prod:  \n",
    "        exec_str = make_sweep_str(pfile, pars, group, resume=False, gpu='gpu_rtx') #, \n",
    "        print(exec_str)\n",
    "        f.write(exec_str)"
   ]
  },
  {
   "cell_type": "code",
   "execution_count": 146,
   "metadata": {
    "ExecuteTime": {
     "end_time": "2022-05-03T07:59:52.040244Z",
     "start_time": "2022-05-03T07:59:52.032933Z"
    }
   },
   "outputs": [
    {
     "data": {
      "text/plain": [
       "'norm:escortxz_facs:Truexmean_diff:Truexlr:0.0005/microscope.pkl'"
      ]
     },
     "execution_count": 146,
     "metadata": {},
     "output_type": "execute_result"
    }
   ],
   "source": [
    "files[0][101:]"
   ]
  },
  {
   "cell_type": "code",
   "execution_count": 121,
   "metadata": {
    "ExecuteTime": {
     "end_time": "2022-05-02T16:15:28.514348Z",
     "start_time": "2022-05-02T16:15:28.505612Z"
    }
   },
   "outputs": [],
   "source": [
    "group = 'gensweep_mop_1'\n",
    "pfile = 'gensweep_mop_1'\n",
    "\n",
    "variable_col = param_iter()\n",
    "# variable_col.add('training.mic.par_grads.psf_vol', False)\n",
    "# variable_col.add('training.mic.par_grads.channel_shifts', False)\n",
    "# variable_col.add('training.mic.par_grads.color_shifts', False)\n",
    "variable_col.add('genm.microscope.norm', 'none')\n",
    "variable_col.add('training.mic.par_grads.z_facs', True)\n",
    "variable_col.add('training.mic.mean_diff', True)\n",
    "variable_col.add('training.mic.opt.lr', 0.0005, 0.001)\n",
    "variable_col.add('genm.microscope.scale', 400)\n",
    "\n",
    "par_prod = variable_col.param_product()"
   ]
  },
  {
   "cell_type": "code",
   "execution_count": 122,
   "metadata": {
    "ExecuteTime": {
     "end_time": "2022-05-02T16:15:28.662713Z",
     "start_time": "2022-05-02T16:15:28.649997Z"
    }
   },
   "outputs": [
    {
     "name": "stdout",
     "output_type": "stream",
     "text": [
      "bsub -gpu \"num=1\" -q gpu_rtx -o logs/ofish.log -e logs/efish.log /groups/turaga/home/speisera/anaconda3/envs/decode_fish_dev2/bin/python /groups/turaga/home/speisera/Mackebox/Artur/WorkDB/deepstorm/decode_fish/decode_fish/gentrain.py +experiment=gensweep_mop_1 genm.microscope.norm=none training.mic.par_grads.z_facs=True training.mic.par_grads.theta_par=False training.mic.mean_diff=True training.mic.opt.lr=0.0005 genm.microscope.scale=400 run_name=norm:nonexz_facs:Truextheta_par:Falsexmean_diff:Truexlr:0.0005xscale:400 output.group=gensweep_mop_1\n",
      "\n",
      "bsub -gpu \"num=1\" -q gpu_rtx -o logs/ofish.log -e logs/efish.log /groups/turaga/home/speisera/anaconda3/envs/decode_fish_dev2/bin/python /groups/turaga/home/speisera/Mackebox/Artur/WorkDB/deepstorm/decode_fish/decode_fish/gentrain.py +experiment=gensweep_mop_1 genm.microscope.norm=none training.mic.par_grads.z_facs=True training.mic.par_grads.theta_par=False training.mic.mean_diff=True training.mic.opt.lr=0.001 genm.microscope.scale=400 run_name=norm:nonexz_facs:Truextheta_par:Falsexmean_diff:Truexlr:0.001xscale:400 output.group=gensweep_mop_1\n",
      "\n"
     ]
    }
   ],
   "source": [
    "# Path.mkdir(model_path/group, exist_ok=True)\n",
    "\n",
    "with open('run_slurm.sh', 'w') as f:\n",
    "    for pars in par_prod:  \n",
    "        exec_str = make_sweep_str(pfile, pars, group, resume=False, gpu='gpu_rtx', runfile='gentrain.py') #, \n",
    "        print(exec_str)\n",
    "        f.write(exec_str)"
   ]
  },
  {
   "cell_type": "code",
   "execution_count": null,
   "metadata": {},
   "outputs": [],
   "source": []
  }
 ],
 "metadata": {
  "kernelspec": {
   "display_name": "decode_fish_dev2",
   "language": "python",
   "name": "decode_fish_dev2"
  },
  "language_info": {
   "codemirror_mode": {
    "name": "ipython",
    "version": 3
   },
   "file_extension": ".py",
   "mimetype": "text/x-python",
   "name": "python",
   "nbconvert_exporter": "python",
   "pygments_lexer": "ipython3",
   "version": "3.8.13"
  }
 },
 "nbformat": 4,
 "nbformat_minor": 4
}
