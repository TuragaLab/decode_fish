{
 "cells": [
  {
   "cell_type": "code",
   "execution_count": 4,
   "metadata": {
    "ExecuteTime": {
     "end_time": "2022-06-19T16:14:26.484252Z",
     "start_time": "2022-06-19T16:14:26.331632Z"
    }
   },
   "outputs": [],
   "source": [
    "%load_ext autoreload\n",
    "%autoreload 2\n",
    "%aimport -decode_fish.engine.place_psfs"
   ]
  },
  {
   "cell_type": "code",
   "execution_count": 5,
   "metadata": {
    "ExecuteTime": {
     "end_time": "2022-06-19T16:14:31.965840Z",
     "start_time": "2022-06-19T16:14:26.490727Z"
    }
   },
   "outputs": [],
   "source": [
    "import os\n",
    "os.environ[\"CUDA_VISIBLE_DEVICES\"] = '1'\n",
    "\n",
    "from decode_fish.imports import *\n",
    "from decode_fish.funcs.file_io import *\n",
    "from decode_fish.funcs.emitter_io import *\n",
    "from decode_fish.funcs.utils import *\n",
    "from decode_fish.funcs.dataset import *\n",
    "from decode_fish.funcs.plotting import *\n",
    "from decode_fish.engine.noise import estimate_noise_scale\n",
    "from decode_fish.engine.microscope import add_pos_noise\n",
    "import shutil\n",
    "from decode_fish.funcs.visualization import *\n",
    "from decode_fish.funcs.matching import *\n",
    "from decode_fish.funcs.predict import window_predict\n",
    "from decode_fish.funcs.matching import matching\n",
    "from decode_fish.funcs.merfish_eval import *\n",
    "from decode_fish.funcs.exp_specific import *\n",
    "from decode_fish.funcs.routines import *\n",
    "\n",
    "from omegaconf import open_dict\n",
    "from hydra import compose, initialize"
   ]
  },
  {
   "cell_type": "code",
   "execution_count": 6,
   "metadata": {
    "ExecuteTime": {
     "end_time": "2022-06-19T16:14:32.025332Z",
     "start_time": "2022-06-19T16:14:31.968770Z"
    }
   },
   "outputs": [],
   "source": [
    "# import os\n",
    "# os.environ[\"CUDA_VISIBLE_DEVICES\"] = '1'"
   ]
  },
  {
   "cell_type": "code",
   "execution_count": 7,
   "metadata": {
    "ExecuteTime": {
     "end_time": "2022-06-19T16:14:32.793623Z",
     "start_time": "2022-06-19T16:14:32.027248Z"
    }
   },
   "outputs": [
    {
     "data": {
      "text/plain": [
       "hydra.initialize()"
      ]
     },
     "execution_count": 7,
     "metadata": {},
     "output_type": "execute_result"
    }
   ],
   "source": [
    "initialize(config_path=\"../config\")"
   ]
  },
  {
   "cell_type": "code",
   "execution_count": 8,
   "metadata": {
    "ExecuteTime": {
     "end_time": "2022-06-19T16:14:33.152368Z",
     "start_time": "2022-06-19T16:14:32.796076Z"
    }
   },
   "outputs": [],
   "source": [
    "cfg = compose(config_name='train.yaml')\n",
    "cfg = OmegaConf.create(cfg)"
   ]
  },
  {
   "cell_type": "markdown",
   "metadata": {},
   "source": [
    "## Simple simulations for comparison with ISTDECO (no z, constant BG)"
   ]
  },
  {
   "cell_type": "code",
   "execution_count": 12,
   "metadata": {
    "ExecuteTime": {
     "end_time": "2022-06-19T16:14:38.188506Z",
     "start_time": "2022-06-19T16:14:38.084582Z"
    }
   },
   "outputs": [],
   "source": [
    "# project and run_name set the directories where the trained models are saved, as well as the structure in wandb.ai\n",
    "cfg.output.project = 'MERFISH_sim_2D'\n",
    "cfg.run_name ='sim_2d_2'\n",
    "\n",
    "cfg.codebook._target_ = 'decode_fish.funcs.exp_specific.get_starfish_codebook'\n",
    "\n",
    "cfg.genm.exp_type.n_channels = 16\n",
    "cfg.genm.exp_type.n_genes = 140\n",
    "cfg.genm.exp_type.n_bits = 4\n",
    "cfg.genm.exp_type.sample_from_codebook = True\n",
    "cfg.genm.exp_type.pred_z = False\n",
    "\n",
    "cfg.data_path.image_sim.image_shape = [1,16,1,48,48]\n",
    "\n",
    "'''Simulation parameters'''\n",
    "cfg.genm.PSF.gauss_radii = [1.,1.5,1.5]\n",
    "\n",
    "cfg.genm.foci.n_foci_avg = 0\n",
    "    \n",
    "cfg.genm.prob_generator.low = 0.01\n",
    "cfg.genm.prob_generator.high = 0.3\n",
    "\n",
    "cfg.genm.intensity_dist.int_conc = 3.\n",
    "cfg.genm.intensity_dist.int_rate = 1.\n",
    "cfg.genm.intensity_dist.int_loc = 1.\n",
    "\n",
    "cfg.genm.microscope.scale = 300\n",
    "cfg.genm.emitter_noise.rate_fac = 0.\n",
    "\n",
    "cfg.genm.pos_noise.pos_noise_z = 0.\n",
    "cfg.genm.pos_noise.pos_noise_xy = 0.\n",
    "\n",
    "cfg.sim.bg_estimation.type = 'uniform'\n",
    "cfg.sim.bg_estimation.uniform.min_val = 99.99\n",
    "cfg.sim.bg_estimation.uniform.max_val = 100.01\n",
    "\n",
    "'''Performance tracking'''\n",
    "cfg.output.wandb_mode = 'online'\n",
    "cfg.output.log_interval = 500\n",
    "\n",
    "'''Network architecture'''\n",
    "cfg.network.f_maps = 256\n",
    "cfg.network.depth = 2\n",
    "cfg.network.is_2D = True\n",
    "\n",
    "cfg.network.inp_scale = 300\n",
    "cfg.network.inp_offset = 100 \n",
    "\n",
    "'''Training'''\n",
    "cfg.training.bs = 8\n",
    "\n",
    "cfg.training.net.opt.lr = 5e-4\n",
    "cfg.training.net.bl_loss_scale = 0.0\n",
    "\n",
    "cfg.training.num_iters = 40000"
   ]
  },
  {
   "cell_type": "markdown",
   "metadata": {},
   "source": [
    "Save cfg"
   ]
  },
  {
   "cell_type": "code",
   "execution_count": 13,
   "metadata": {
    "ExecuteTime": {
     "end_time": "2022-06-19T16:14:38.563396Z",
     "start_time": "2022-06-19T16:14:38.427063Z"
    }
   },
   "outputs": [
    {
     "data": {
      "text/plain": [
       "'sim_2d_2'"
      ]
     },
     "execution_count": 13,
     "metadata": {},
     "output_type": "execute_result"
    }
   ],
   "source": [
    "fname = f'../config/experiment/{cfg.run_name}.yaml'\n",
    "OmegaConf.save(cfg, fname)\n",
    "prepend_line(fname, '# @package _global_')\n",
    "cfg.run_name"
   ]
  },
  {
   "cell_type": "code",
   "execution_count": 16,
   "metadata": {
    "ExecuteTime": {
     "end_time": "2022-06-19T17:01:33.820941Z",
     "start_time": "2022-06-19T17:01:33.065006Z"
    }
   },
   "outputs": [
    {
     "name": "stdout",
     "output_type": "stream",
     "text": [
      "bsub -gpu \"num=1\" -q gpu_rtx -o /groups/turaga/home/speisera/logs/ofish.log -e /groups/turaga/home/speisera/logs/efish.log /groups/turaga/home/speisera/anaconda3/envs/decode_fish_dev2/bin/python /groups/turaga/home/speisera/Mackebox/Artur/WorkDB/deepstorm/decode_fish/decode_fish/train.py +experiment=sim_2d_2 run_name=hd2 output.group=sim_2d_2\n"
     ]
    }
   ],
   "source": [
    "home_dir = os.getenv(\"HOME\")\n",
    "print(f'bsub -gpu \"num=1\" -q gpu_rtx -o {home_dir}/logs/ofish.log -e {home_dir}/logs/efish.log {home_dir}/anaconda3/envs/decode_fish_dev2/bin/python {home_dir}/Mackebox/Artur/WorkDB/deepstorm/decode_fish/decode_fish/train.py +experiment={cfg.run_name} run_name=hd2 output.group={cfg.run_name}')"
   ]
  },
  {
   "cell_type": "code",
   "execution_count": 586,
   "metadata": {
    "ExecuteTime": {
     "end_time": "2022-06-18T10:01:20.652716Z",
     "start_time": "2022-06-18T10:01:20.533179Z"
    }
   },
   "outputs": [
    {
     "name": "stdout",
     "output_type": "stream",
     "text": [
      "Crop size larger than volume in at least one dimension. Crop size changed to (1, 48, 48)\n",
      "1 volumes\n"
     ]
    },
    {
     "ename": "TypeError",
     "evalue": "cannot unpack non-iterable Microscope object",
     "output_type": "error",
     "traceback": [
      "\u001b[0;31m---------------------------------------------------------------------------\u001b[0m",
      "\u001b[0;31mTypeError\u001b[0m                                 Traceback (most recent call last)",
      "Input \u001b[0;32mIn [586]\u001b[0m, in \u001b[0;36m<cell line: 2>\u001b[0;34m()\u001b[0m\n\u001b[1;32m      1\u001b[0m img_3d, decode_dl \u001b[38;5;241m=\u001b[39m get_dataloader(cfg)\n\u001b[0;32m----> 2\u001b[0m psf, noise, micro \u001b[38;5;241m=\u001b[39m load_psf_noise_micro(cfg)\n",
      "\u001b[0;31mTypeError\u001b[0m: cannot unpack non-iterable Microscope object"
     ]
    }
   ],
   "source": [
    "img_3d, decode_dl = get_dataloader(cfg)\n",
    "psf, noise, micro = load_psf_noise_micro(cfg)"
   ]
  },
  {
   "cell_type": "markdown",
   "metadata": {
    "ExecuteTime": {
     "end_time": "2021-05-21T08:30:15.750690Z",
     "start_time": "2021-05-21T08:30:15.265729Z"
    }
   },
   "source": [
    "## Simulations for internal testing of gen. model learning"
   ]
  },
  {
   "cell_type": "code",
   "execution_count": 96,
   "metadata": {
    "ExecuteTime": {
     "end_time": "2022-06-22T15:04:04.990391Z",
     "start_time": "2022-06-22T15:04:04.703456Z"
    }
   },
   "outputs": [],
   "source": [
    "cfg = compose(config_name='train.yaml', overrides= [\"+exp_type=merfish_MOp\"])\n",
    "del(cfg.data_path.image_proc.override)"
   ]
  },
  {
   "cell_type": "code",
   "execution_count": 97,
   "metadata": {
    "ExecuteTime": {
     "end_time": "2022-06-22T15:04:05.064201Z",
     "start_time": "2022-06-22T15:04:04.992860Z"
    }
   },
   "outputs": [],
   "source": [
    "cfg.output.project = 'MERFISH_sim_int'\n",
    "cfg.run_name ='sim_int_7_os2'\n",
    "\n",
    "cfg.data_path.image_path = '/groups/turaga/home/speisera/Mackebox/Artur/WorkDB/deepstorm/decode_fish/data/merfish_sims/sim_int_7_os/images.tiff'\n",
    "\n",
    "cfg.genm.foci.n_foci_avg = 0\n",
    "\n",
    "cfg.genm.prob_generator.low = 0.03\n",
    "cfg.genm.prob_generator.high = 0.1\n",
    "\n",
    "cfg.output.wandb_mode = 'online'\n",
    "\n",
    "cfg.network.f_maps = 384\n",
    "cfg.network.depth = 2\n",
    "cfg.training.bs = 10\n",
    "\n",
    "cfg.genm.exp_type.randomize_noise_range = [0.3, 3.]\n",
    "cfg.genm.noise.theta = 1.\n",
    "cfg.genm.microscope.ch_facs = None\n",
    "cfg.genm.microscope.col_shifts_enabled = False\n",
    "\n",
    "cfg.sim.roi_mask.percentile = 1\n",
    "cfg.sim.random_crop.crop_sz = 56\n",
    "\n",
    "cfg.sim.bg_estimation.smoothing.smoothing_filter_size = 9\n",
    "cfg.sim.bg_estimation.type = 'smoothing'\n",
    "\n",
    "cfg.genm.intensity_dist.int_conc = 3.\n",
    "cfg.genm.intensity_dist.int_rate = 1.\n",
    "cfg.genm.intensity_dist.int_loc = 1.\n",
    "\n",
    "cfg.training.num_iters = 40000\n",
    "\n",
    "cfg.genm.microscope.scale = 7000\n",
    "cfg.genm.phasing = 0.0\n",
    "\n",
    "cfg.genm.PSF.n_cols = 1\n",
    "cfg.genm.microscope.ch_cols = None\n",
    "\n",
    "cfg.data_path.psf_path = '/groups/turaga/home/speisera/Mackebox/Artur/WorkDB/deepstorm/decode_fish/figures/MF_psf_07_20n.tif'\n",
    "cfg.genm.PSF.gauss_radii = [1.,1.,1.1]\n",
    "cfg.genm.PSF.psf_extent_zyx = [7,21,21]\n",
    "# cfg.data_path.psf_path = None\n",
    "\n",
    "cfg.genm.microscope.norm = 'escort'\n",
    "cfg.genm.PSF.mode = 'bicubic'\n",
    "\n",
    "cfg.training.mic.mean_diff = True\n",
    "\n",
    "cfg.training.mic.par_grads.channel_facs = True\n",
    "cfg.training.mic.par_grads.channel_shifts = True\n",
    "cfg.training.mic.par_grads.theta_par = False\n",
    "cfg.training.mic.par_grads.psf_vol = True\n",
    "cfg.training.mic.par_grads.color_shifts = False\n",
    "cfg.training.mic.par_grads.z_facs = False\n",
    "cfg.training.mic.par_grads.sc_fac = False\n",
    "\n",
    "cfg.output.log_interval = 600\n",
    "\n",
    "cfg.genm.emitter_noise.rate_fac = 3.\n",
    "\n",
    "cfg.training.net.opt.lr = 4e-4\n",
    "\n",
    "cfg.evaluation.code_stats.enabled = False\n",
    "cfg.training.schedule = [10000, 2000, 5000, 1000, 5000, 1000, 5000, 1000, 10000]\n",
    "\n",
    "cfg.training.mic.opt.lr = 0.001\n",
    "\n",
    "cfg.training.psf.opt.lr = 0.0002\n",
    "cfg.training.psf.sched.step_size = 2000\n",
    "cfg.training.psf.l1_reg = 0.0\n",
    "\n",
    "cfg.training.net.bl_loss_scale = .003\n",
    "\n",
    "cfg.data_path.model_init  = None\n",
    "cfg.data_path.micro_init  = None\n",
    "\n",
    "cfg.training.target_mean = True\n",
    "\n",
    "cfg.data_path.micro_init  = '/groups/turaga/home/speisera/Mackebox/Artur/WorkDB/deepstorm//models/fishcod/MERFISH_sim_int/sim_int_7_os2/ae_train/checkpoint/'\n",
    "cfg.data_path.model_init  = '/groups/turaga/home/speisera/Mackebox/Artur/WorkDB/deepstorm//models/fishcod/MERFISH_sim_int/sim_int_7_os2/ae_train/checkpoint/'\n",
    "cfg.network.is_2D = True\n",
    "cfg.network.pred_z = True\n",
    "\n",
    "cfg.sim.bg_estimation.shuffle_ch = True\n",
    "cfg.genm.exp_type.em_noise_inf = True"
   ]
  },
  {
   "cell_type": "code",
   "execution_count": 98,
   "metadata": {
    "ExecuteTime": {
     "end_time": "2022-06-22T15:04:05.109145Z",
     "start_time": "2022-06-22T15:04:05.065736Z"
    }
   },
   "outputs": [],
   "source": [
    "cfg.training.mic.mean_diff = False"
   ]
  },
  {
   "cell_type": "code",
   "execution_count": 99,
   "metadata": {
    "ExecuteTime": {
     "end_time": "2022-06-22T15:04:05.174922Z",
     "start_time": "2022-06-22T15:04:05.110597Z"
    }
   },
   "outputs": [
    {
     "data": {
      "text/plain": [
       "'sim_int_7_os2'"
      ]
     },
     "execution_count": 99,
     "metadata": {},
     "output_type": "execute_result"
    }
   ],
   "source": [
    "fname = f'../config/experiment/{cfg.run_name}.yaml'\n",
    "OmegaConf.save(cfg, fname)\n",
    "prepend_line(fname, '# @package _global_')\n",
    "cfg.run_name"
   ]
  },
  {
   "cell_type": "code",
   "execution_count": 100,
   "metadata": {
    "ExecuteTime": {
     "end_time": "2022-06-22T15:04:05.217344Z",
     "start_time": "2022-06-22T15:04:05.176888Z"
    }
   },
   "outputs": [
    {
     "name": "stdout",
     "output_type": "stream",
     "text": [
      "bsub -gpu \"num=1\" -q gpu_rtx -o /groups/turaga/home/speisera/logs/ofish.log -e /groups/turaga/home/speisera/logs/efish.log /groups/turaga/home/speisera/anaconda3/envs/decode_fish_dev2/bin/python /groups/turaga/home/speisera/Mackebox/Artur/WorkDB/deepstorm/decode_fish/decode_fish/train.py +experiment=sim_int_7_os2 training.schedule=Null run_name=sl_true_gen output.group=sim_int_7_os2 training.num_iters=35000 data_path.psf_path=Null training.mic.enabled=False data_path.model_init=null data_path.micro_init=/groups/turaga/home/speisera/Mackebox/Artur/WorkDB/deepstorm/decode_fish/data/merfish_sims/sim_int_7_os/\n"
     ]
    }
   ],
   "source": [
    "name = 'sl_true_gen'\n",
    "home_dir = os.getenv(\"HOME\")\n",
    "print(f'bsub -gpu \"num=1\" -q gpu_rtx -o {home_dir}/logs/ofish.log -e {home_dir}/logs/efish.log {home_dir}/anaconda3/envs/decode_fish_dev2/bin/python {home_dir}/Mackebox/Artur/WorkDB/deepstorm/decode_fish/decode_fish/train.py +experiment={cfg.run_name} training.schedule=Null run_name={name} output.group={cfg.run_name} training.num_iters=35000 data_path.psf_path=Null training.mic.enabled=False data_path.model_init=null data_path.micro_init=/groups/turaga/home/speisera/Mackebox/Artur/WorkDB/deepstorm/decode_fish/data/merfish_sims/sim_int_7_os/')"
   ]
  },
  {
   "cell_type": "code",
   "execution_count": 101,
   "metadata": {
    "ExecuteTime": {
     "end_time": "2022-06-22T15:04:05.388290Z",
     "start_time": "2022-06-22T15:04:05.346230Z"
    }
   },
   "outputs": [
    {
     "name": "stdout",
     "output_type": "stream",
     "text": [
      "bsub -gpu \"num=1\" -q gpu_rtx -o /groups/turaga/home/speisera/logs/ofish.log -e /groups/turaga/home/speisera/logs/efish.log /groups/turaga/home/speisera/anaconda3/envs/decode_fish_dev2/bin/python /groups/turaga/home/speisera/Mackebox/Artur/WorkDB/deepstorm/decode_fish/decode_fish/train.py +experiment=sim_int_7_os2 run_name=ae_train_edgediff output.group=sim_int_7_os2\n"
     ]
    }
   ],
   "source": [
    "name = 'ae_train_edgediff'\n",
    "home_dir = os.getenv(\"HOME\")\n",
    "print(f'bsub -gpu \"num=1\" -q gpu_rtx -o {home_dir}/logs/ofish.log -e {home_dir}/logs/efish.log {home_dir}/anaconda3/envs/decode_fish_dev2/bin/python {home_dir}/Mackebox/Artur/WorkDB/deepstorm/decode_fish/decode_fish/train.py +experiment={cfg.run_name} run_name={name} output.group={cfg.run_name}')"
   ]
  },
  {
   "cell_type": "code",
   "execution_count": 66,
   "metadata": {
    "ExecuteTime": {
     "end_time": "2022-06-20T08:16:54.039108Z",
     "start_time": "2022-06-20T08:16:53.985863Z"
    }
   },
   "outputs": [
    {
     "name": "stdout",
     "output_type": "stream",
     "text": [
      "bsub -gpu \"num=1\" -q gpu_rtx -o /groups/turaga/home/speisera/logs/ofish.log -e /groups/turaga/home/speisera/logs/efish.log /groups/turaga/home/speisera/anaconda3/envs/decode_fish_dev2/bin/python /groups/turaga/home/speisera/Mackebox/Artur/WorkDB/deepstorm/decode_fish/decode_fish/train.py +experiment=sim_int_7_os2 run_name=ae_train_scf output.group=sim_int_7_os2 training.mic.par_grads.sc_fac=True\n"
     ]
    }
   ],
   "source": [
    "name = 'ae_train_scf'\n",
    "home_dir = os.getenv(\"HOME\")\n",
    "print(f'bsub -gpu \"num=1\" -q gpu_rtx -o {home_dir}/logs/ofish.log -e {home_dir}/logs/efish.log {home_dir}/anaconda3/envs/decode_fish_dev2/bin/python {home_dir}/Mackebox/Artur/WorkDB/deepstorm/decode_fish/decode_fish/train.py +experiment={cfg.run_name} run_name={name} output.group={cfg.run_name} training.mic.par_grads.sc_fac=True')"
   ]
  },
  {
   "cell_type": "code",
   "execution_count": 56,
   "metadata": {
    "ExecuteTime": {
     "end_time": "2022-06-19T19:59:43.846117Z",
     "start_time": "2022-06-19T19:59:43.080568Z"
    }
   },
   "outputs": [
    {
     "name": "stdout",
     "output_type": "stream",
     "text": [
      "bsub -gpu \"num=1\" -q gpu_rtx -o /groups/turaga/home/speisera/logs/ofish.log -e /groups/turaga/home/speisera/logs/efish.log /groups/turaga/home/speisera/anaconda3/envs/decode_fish_dev2/bin/python /groups/turaga/home/speisera/Mackebox/Artur/WorkDB/deepstorm/decode_fish/decode_fish/train.py +experiment=sim_int_7_os2 run_name=sl_no_learn output.group=sim_int_7_os2 training.mic.enabled=False training.schedule=Null\n"
     ]
    }
   ],
   "source": [
    "name = 'sl_no_learn'\n",
    "home_dir = os.getenv(\"HOME\")\n",
    "print(f'bsub -gpu \"num=1\" -q gpu_rtx -o {home_dir}/logs/ofish.log -e {home_dir}/logs/efish.log {home_dir}/anaconda3/envs/decode_fish_dev2/bin/python {home_dir}/Mackebox/Artur/WorkDB/deepstorm/decode_fish/decode_fish/train.py +experiment={cfg.run_name} run_name={name} output.group={cfg.run_name} training.mic.enabled=False training.schedule=Null')"
   ]
  },
  {
   "cell_type": "code",
   "execution_count": 57,
   "metadata": {
    "ExecuteTime": {
     "end_time": "2022-06-19T19:59:43.899762Z",
     "start_time": "2022-06-19T19:59:43.849762Z"
    }
   },
   "outputs": [
    {
     "name": "stdout",
     "output_type": "stream",
     "text": [
      "bsub -gpu \"num=1\" -q gpu_rtx -o /groups/turaga/home/speisera/logs/ofish.log -e /groups/turaga/home/speisera/logs/efish.log /groups/turaga/home/speisera/anaconda3/envs/decode_fish_dev2/bin/python /groups/turaga/home/speisera/Mackebox/Artur/WorkDB/deepstorm/decode_fish/decode_fish/train.py +experiment=sim_int_7_os2 run_name=ae_train_no_ch_shifts output.group=sim_int_7_os2 training.mic.par_grads.channel_shifts=False\n"
     ]
    }
   ],
   "source": [
    "name = 'ae_train_no_ch_shifts'\n",
    "home_dir = os.getenv(\"HOME\")\n",
    "print(f'bsub -gpu \"num=1\" -q gpu_rtx -o {home_dir}/logs/ofish.log -e {home_dir}/logs/efish.log {home_dir}/anaconda3/envs/decode_fish_dev2/bin/python {home_dir}/Mackebox/Artur/WorkDB/deepstorm/decode_fish/decode_fish/train.py +experiment={cfg.run_name} run_name={name} output.group={cfg.run_name} training.mic.par_grads.channel_shifts=False')"
   ]
  },
  {
   "cell_type": "code",
   "execution_count": 53,
   "metadata": {
    "ExecuteTime": {
     "end_time": "2022-06-19T19:53:26.193733Z",
     "start_time": "2022-06-19T19:53:26.138128Z"
    }
   },
   "outputs": [
    {
     "name": "stdout",
     "output_type": "stream",
     "text": [
      "bsub -gpu \"num=1\" -q gpu_rtx -o /groups/turaga/home/speisera/logs/ofish.log -e /groups/turaga/home/speisera/logs/efish.log /groups/turaga/home/speisera/anaconda3/envs/decode_fish_dev2/bin/python /groups/turaga/home/speisera/Mackebox/Artur/WorkDB/deepstorm/decode_fish/decode_fish/train.py +experiment=sim_int_7_os2 run_name=ae_train_no_ch_facs output.group=sim_int_7_os2 training.mic.par_grads.channel_facs=False\n"
     ]
    }
   ],
   "source": [
    "name = 'ae_train_no_ch_facs'\n",
    "home_dir = os.getenv(\"HOME\")\n",
    "print(f'bsub -gpu \"num=1\" -q gpu_rtx -o {home_dir}/logs/ofish.log -e {home_dir}/logs/efish.log {home_dir}/anaconda3/envs/decode_fish_dev2/bin/python {home_dir}/Mackebox/Artur/WorkDB/deepstorm/decode_fish/decode_fish/train.py +experiment={cfg.run_name} run_name={name} output.group={cfg.run_name} training.mic.par_grads.channel_facs=False')"
   ]
  },
  {
   "cell_type": "code",
   "execution_count": 55,
   "metadata": {
    "ExecuteTime": {
     "end_time": "2022-06-19T19:57:40.945773Z",
     "start_time": "2022-06-19T19:57:40.195616Z"
    }
   },
   "outputs": [
    {
     "name": "stdout",
     "output_type": "stream",
     "text": [
      "bsub -gpu \"num=1\" -q gpu_rtx -o /groups/turaga/home/speisera/logs/ofish.log -e /groups/turaga/home/speisera/logs/efish.log /groups/turaga/home/speisera/anaconda3/envs/decode_fish_dev2/bin/python /groups/turaga/home/speisera/Mackebox/Artur/WorkDB/deepstorm/decode_fish/decode_fish/train.py +experiment=sim_int_7_os2 run_name=ae_train_no_psf output.group=sim_int_7_os2 training.mic.par_grads.psf_vol=False\n"
     ]
    }
   ],
   "source": [
    "name = 'ae_train_no_psf'\n",
    "home_dir = os.getenv(\"HOME\")\n",
    "print(f'bsub -gpu \"num=1\" -q gpu_rtx -o {home_dir}/logs/ofish.log -e {home_dir}/logs/efish.log {home_dir}/anaconda3/envs/decode_fish_dev2/bin/python {home_dir}/Mackebox/Artur/WorkDB/deepstorm/decode_fish/decode_fish/train.py +experiment={cfg.run_name} run_name={name} output.group={cfg.run_name} training.mic.par_grads.psf_vol=False')"
   ]
  },
  {
   "cell_type": "code",
   "execution_count": 570,
   "metadata": {
    "ExecuteTime": {
     "end_time": "2022-06-18T07:40:38.387109Z",
     "start_time": "2022-06-18T07:40:37.601331Z"
    }
   },
   "outputs": [],
   "source": [
    "cfg.data_path.psf_path = '/groups/turaga/home/speisera/Mackebox/Artur/WorkDB/deepstorm/decode_fish/figures/chall_ds_psf_onesided_normed.tif'"
   ]
  },
  {
   "cell_type": "code",
   "execution_count": 571,
   "metadata": {
    "ExecuteTime": {
     "end_time": "2022-06-18T07:40:44.702840Z",
     "start_time": "2022-06-18T07:40:43.570013Z"
    }
   },
   "outputs": [
    {
     "name": "stdout",
     "output_type": "stream",
     "text": [
      "Crop size larger than volume in at least one dimension. Crop size changed to (1, 56, 56)\n",
      "10 volumes\n"
     ]
    },
    {
     "name": "stderr",
     "output_type": "stream",
     "text": [
      "/groups/turaga/home/speisera/Dropbox (mackelab)/Artur/WorkDB/deepstorm/decode_fish/decode_fish/engine/psf.py:26: UserWarning: To copy construct from a tensor, it is recommended to use sourceTensor.clone().detach() or sourceTensor.clone().detach().requires_grad_(True), rather than torch.tensor(sourceTensor).\n",
      "  psf_vol = torch.tensor(psf_vol, dtype=torch.float32).to(device)\n"
     ]
    }
   ],
   "source": [
    "img_5d, decode_dl = get_dataloader(cfg)\n",
    "micro = load_psf_noise_micro(cfg)"
   ]
  },
  {
   "cell_type": "code",
   "execution_count": 572,
   "metadata": {
    "ExecuteTime": {
     "end_time": "2022-06-18T07:40:45.471921Z",
     "start_time": "2022-06-18T07:40:45.410109Z"
    }
   },
   "outputs": [
    {
     "data": {
      "text/plain": [
       "{'int_conc': 3.0, 'int_rate': 1.0, 'int_loc': 1.0}"
      ]
     },
     "execution_count": 572,
     "metadata": {},
     "output_type": "execute_result"
    }
   ],
   "source": [
    "cfg.genm.intensity_dist"
   ]
  },
  {
   "cell_type": "code",
   "execution_count": 590,
   "metadata": {
    "ExecuteTime": {
     "end_time": "2022-06-18T10:44:10.927141Z",
     "start_time": "2022-06-18T10:44:10.802858Z"
    },
    "scrolled": false
   },
   "outputs": [
    {
     "ename": "RuntimeError",
     "evalue": "The size of tensor a (16) must match the size of tensor b (22) at non-singleton dimension 1",
     "output_type": "error",
     "traceback": [
      "\u001b[0;31m---------------------------------------------------------------------------\u001b[0m",
      "\u001b[0;31mRuntimeError\u001b[0m                              Traceback (most recent call last)",
      "Input \u001b[0;32mIn [590]\u001b[0m, in \u001b[0;36m<cell line: 3>\u001b[0;34m()\u001b[0m\n\u001b[1;32m      1\u001b[0m \u001b[38;5;28;01mfrom\u001b[39;00m \u001b[38;5;21;01mdecode_fish\u001b[39;00m\u001b[38;5;21;01m.\u001b[39;00m\u001b[38;5;21;01mengine\u001b[39;00m\u001b[38;5;21;01m.\u001b[39;00m\u001b[38;5;21;01mpoint_process\u001b[39;00m \u001b[38;5;28;01mimport\u001b[39;00m \u001b[38;5;241m*\u001b[39m\n\u001b[1;32m      2\u001b[0m point_process \u001b[38;5;241m=\u001b[39m PointProcessUniform(\u001b[38;5;241m*\u001b[39m\u001b[38;5;241m*\u001b[39mcfg\u001b[38;5;241m.\u001b[39mgenm\u001b[38;5;241m.\u001b[39mintensity_dist, n_channels\u001b[38;5;241m=\u001b[39mcfg\u001b[38;5;241m.\u001b[39mgenm\u001b[38;5;241m.\u001b[39mexp_type\u001b[38;5;241m.\u001b[39mn_channels, sim_z\u001b[38;5;241m=\u001b[39m\u001b[38;5;28;01mTrue\u001b[39;00m, slice_rec\u001b[38;5;241m=\u001b[39m\u001b[38;5;28;01mTrue\u001b[39;00m, codebook\u001b[38;5;241m=\u001b[39m\u001b[38;5;28;01mNone\u001b[39;00m, int_option\u001b[38;5;241m=\u001b[39m\u001b[38;5;241m1\u001b[39m)\n\u001b[0;32m----> 3\u001b[0m \u001b[43mget_simulation_statistics\u001b[49m\u001b[43m(\u001b[49m\u001b[43mdecode_dl\u001b[49m\u001b[43m,\u001b[49m\u001b[43m \u001b[49m\u001b[43mmicro\u001b[49m\u001b[43m,\u001b[49m\u001b[43m \u001b[49m\u001b[43mpoint_process\u001b[49m\u001b[43m,\u001b[49m\u001b[43m \u001b[49m\u001b[43mint_threshold\u001b[49m\u001b[38;5;241;43m=\u001b[39;49m\u001b[38;5;241;43m0.1\u001b[39;49m\u001b[43m,\u001b[49m\u001b[43m \u001b[49m\u001b[43msamples\u001b[49m\u001b[38;5;241;43m=\u001b[39;49m\u001b[38;5;241;43m10\u001b[39;49m\u001b[43m)\u001b[49m\n",
      "File \u001b[0;32m~/Dropbox (mackelab)/Artur/WorkDB/deepstorm/decode_fish/decode_fish/funcs/visualization.py:37\u001b[0m, in \u001b[0;36mget_simulation_statistics\u001b[0;34m(decode_dl, micro, point_process, int_threshold, samples)\u001b[0m\n\u001b[1;32m     34\u001b[0m     ret_dict \u001b[38;5;241m=\u001b[39m \u001b[38;5;28mnext\u001b[39m(\u001b[38;5;28miter\u001b[39m(decode_dl))\n\u001b[1;32m     35\u001b[0m     xmax \u001b[38;5;241m=\u001b[39m ret_dict[\u001b[38;5;124m'\u001b[39m\u001b[38;5;124mx\u001b[39m\u001b[38;5;124m'\u001b[39m][\u001b[38;5;241m0\u001b[39m,\u001b[38;5;241m0\u001b[39m,:]\u001b[38;5;241m.\u001b[39mmax()\n\u001b[0;32m---> 37\u001b[0m x \u001b[38;5;241m=\u001b[39m cpu(\u001b[43mret_dict\u001b[49m\u001b[43m[\u001b[49m\u001b[38;5;124;43m'\u001b[39;49m\u001b[38;5;124;43mx\u001b[39;49m\u001b[38;5;124;43m'\u001b[39;49m\u001b[43m]\u001b[49m\u001b[43m \u001b[49m\u001b[38;5;241;43m*\u001b[39;49m\u001b[43m \u001b[49m\u001b[43mmicro\u001b[49m\u001b[38;5;241;43m.\u001b[39;49m\u001b[43mget_ch_mult\u001b[49m\u001b[43m(\u001b[49m\u001b[43m)\u001b[49m\u001b[38;5;241;43m.\u001b[39;49m\u001b[43mdetach\u001b[49m\u001b[43m(\u001b[49m\u001b[43m)\u001b[49m)\n\u001b[1;32m     39\u001b[0m rand_ch \u001b[38;5;241m=\u001b[39m np\u001b[38;5;241m.\u001b[39mrandom\u001b[38;5;241m.\u001b[39mrandint(\u001b[38;5;241m0\u001b[39m,x\u001b[38;5;241m.\u001b[39mshape[\u001b[38;5;241m1\u001b[39m])\n\u001b[1;32m     41\u001b[0m sim_vars \u001b[38;5;241m=\u001b[39m point_process\u001b[38;5;241m.\u001b[39msample(ret_dict[\u001b[38;5;124m'\u001b[39m\u001b[38;5;124mlocal_rate\u001b[39m\u001b[38;5;124m'\u001b[39m][:,\u001b[38;5;241m0\u001b[39m], from_code_book\u001b[38;5;241m=\u001b[39m\u001b[38;5;28;01mFalse\u001b[39;00m)\n",
      "\u001b[0;31mRuntimeError\u001b[0m: The size of tensor a (16) must match the size of tensor b (22) at non-singleton dimension 1"
     ]
    }
   ],
   "source": [
    "from decode_fish.engine.point_process import *\n",
    "point_process = PointProcessUniform(**cfg.genm.intensity_dist, n_channels=cfg.genm.exp_type.n_channels, sim_z=True, slice_rec=True, codebook=None, int_option=1)\n",
    "get_simulation_statistics(decode_dl, micro, point_process, int_threshold=0.1, samples=10)"
   ]
  },
  {
   "cell_type": "code",
   "execution_count": null,
   "metadata": {},
   "outputs": [],
   "source": []
  }
 ],
 "metadata": {
  "kernelspec": {
   "display_name": "decode_fish_dev2",
   "language": "python",
   "name": "decode_fish_dev2"
  },
  "language_info": {
   "codemirror_mode": {
    "name": "ipython",
    "version": 3
   },
   "file_extension": ".py",
   "mimetype": "text/x-python",
   "name": "python",
   "nbconvert_exporter": "python",
   "pygments_lexer": "ipython3",
   "version": "3.8.13"
  }
 },
 "nbformat": 4,
 "nbformat_minor": 4
}
